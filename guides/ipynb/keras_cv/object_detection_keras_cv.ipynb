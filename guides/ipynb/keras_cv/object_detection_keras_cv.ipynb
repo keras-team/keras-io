{
 "cells": [
  {
   "cell_type": "markdown",
   "metadata": {
    "colab_type": "text"
   },
   "source": [
    "# Object Detection with KerasCV\n",
    "\n",
    "**Author:** [lukewood](https://twitter.com/luke_wood_ml), Ian Stenbit, Tirth Patel<br>\n",
    "**Date created:** 2023/04/08<br>\n",
    "**Last modified:** 2023/08/10<br>\n",
    "**Description:** Train an object detection model with KerasCV."
   ]
  },
  {
   "cell_type": "markdown",
   "metadata": {
    "colab_type": "text"
   },
   "source": [
    "KerasCV offers a complete set of production grade APIs to solve object detection\n",
    "problems.\n",
    "These APIs include object-detection-specific\n",
    "data augmentation techniques, Keras native COCO metrics, bounding box format\n",
    "conversion utilities, visualization tools, pretrained object detection models,\n",
    "and everything you need to train your own state of the art object detection\n",
    "models!\n",
    "\n",
    "Let's give KerasCV's object detection API a spin."
   ]
  },
  {
   "cell_type": "code",
   "execution_count": 0,
   "metadata": {
    "colab_type": "code"
   },
   "outputs": [],
   "source": [
    "!pip install -q --upgrade keras-cv\n",
    "!pip install -q --upgrade keras  # Upgrade to Keras 3."
   ]
  },
  {
   "cell_type": "code",
   "execution_count": 0,
   "metadata": {
    "colab_type": "code"
   },
   "outputs": [],
   "source": [
    "import os\n",
    "\n",
    "os.environ[\"KERAS_BACKEND\"] = \"jax\"  # @param [\"tensorflow\", \"jax\", \"torch\"]\n",
    "\n",
    "from tensorflow import data as tf_data\n",
    "import tensorflow_datasets as tfds\n",
    "import keras\n",
    "import keras_cv\n",
    "import numpy as np\n",
    "from keras_cv import bounding_box\n",
    "import os\n",
    "from keras_cv import visualization\n",
    "import tqdm"
   ]
  },
  {
   "cell_type": "markdown",
   "metadata": {
    "colab_type": "text"
   },
   "source": [
    "## Object detection introduction\n",
    "\n",
    "Object detection is the process of identifying, classifying,\n",
    "and localizing objects within a given image.  Typically, your inputs are\n",
    "images, and your labels are bounding boxes with optional class\n",
    "labels.\n",
    "Object detection can be thought of as an extension of classification, however\n",
    "instead of one class label for the image, you must detect and localize an\n",
    "arbitrary number of classes.\n",
    "\n",
    "**For example:**\n",
    "\n",
    "<img width=\"300\" src=\"https://i.imgur.com/8xSEbQD.png\">\n",
    "\n",
    "The data for the above image may look something like this:\n",
    "```python\n",
    "image = [height, width, 3]\n",
    "bounding_boxes = {\n",
    "  \"classes\": [0], # 0 is an arbitrary class ID representing \"cat\"\n",
    "  \"boxes\": [[0.25, 0.4, .15, .1]]\n",
    "   # bounding box is in \"rel_xywh\" format\n",
    "   # so 0.25 represents the start of the bounding box 25% of\n",
    "   # the way across the image.\n",
    "   # The .15 represents that the width is 15% of the image width.\n",
    "}\n",
    "```\n",
    "\n",
    "Since the inception of [*You Only Look Once*](https://arxiv.org/abs/1506.02640)\n",
    "(aka YOLO),\n",
    "object detection has primarily been solved using deep learning.\n",
    "Most deep learning architectures do this by cleverly framing the object detection\n",
    "problem as a combination of many small classification problems and\n",
    "many regression problems.\n",
    "\n",
    "More specifically, this is done by generating many anchor boxes of varying\n",
    "shapes and sizes across the input images and assigning them each a class label,\n",
    "as well as `x`, `y`, `width` and `height` offsets.\n",
    "The model is trained to predict the class labels of each box, as well as the\n",
    "`x`, `y`, `width`, and `height` offsets of each box that is predicted to be an\n",
    "object.\n",
    "\n",
    "**Visualization of some sample anchor boxes**:\n",
    "\n",
    "<img width=\"400\" src=\"https://i.imgur.com/cJIuiK9.jpg\">\n",
    "\n",
    "Objection detection is a technically complex problem but luckily we offer a\n",
    "bulletproof approach to getting great results.\n",
    "Let's do this!"
   ]
  },
  {
   "cell_type": "markdown",
   "metadata": {
    "colab_type": "text"
   },
   "source": [
    "## Perform detections with a pretrained model\n",
    "\n",
    "![](https://storage.googleapis.com/keras-hub/getting_started_guide/prof_keras_beginner.png)\n",
    "\n",
    "The highest level API in the KerasCV Object Detection API is the `keras_cv.models` API.\n",
    "This API includes fully pretrained object detection models, such as\n",
    "`keras_cv.models.YOLOV8Detector`.\n",
    "\n",
    "Let's get started by constructing a YOLOV8Detector pretrained on the `pascalvoc`\n",
    "dataset."
   ]
  },
  {
   "cell_type": "code",
   "execution_count": 0,
   "metadata": {
    "colab_type": "code"
   },
   "outputs": [],
   "source": [
    "pretrained_model = keras_cv.models.YOLOV8Detector.from_preset(\n",
    "    \"yolo_v8_m_pascalvoc\", bounding_box_format=\"xywh\"\n",
    ")"
   ]
  },
  {
   "cell_type": "markdown",
   "metadata": {
    "colab_type": "text"
   },
   "source": [
    "Notice the `bounding_box_format` argument?\n",
    "\n",
    "Recall in the section above, the format of bounding boxes:\n",
    "\n",
    "```\n",
    "bounding_boxes = {\n",
    "  \"classes\": [num_boxes],\n",
    "  \"boxes\": [num_boxes, 4]\n",
    "}\n",
    "```\n",
    "\n",
    "This argument describes *exactly* what format the values in the `\"boxes\"`\n",
    "field of the label dictionary take in your pipeline.\n",
    "For example, a box in `xywh` format with its top left corner at the coordinates\n",
    "(100, 100) with a width of 55 and a height of 70 would be represented by:\n",
    "```\n",
    "[100, 100, 55, 75]\n",
    "```\n",
    "\n",
    "or equivalently in `xyxy` format:\n",
    "\n",
    "```\n",
    "[100, 100, 155, 175]\n",
    "```\n",
    "\n",
    "While this may seem simple, it is a critical piece of the KerasCV object\n",
    "detection API!\n",
    "Every component that processes bounding boxes requires a\n",
    "`bounding_box_format` argument.\n",
    "You can read more about\n",
    "KerasCV bounding box formats [in the API docs](https://keras.io/api/keras_cv/bounding_box/formats/).\n",
    "\n",
    "\n",
    "This is done because there is no one correct format for bounding boxes!\n",
    "Components in different pipelines expect different formats, and so by requiring\n",
    "them to be specified we ensure that our components remain readable, reusable,\n",
    "and clear.\n",
    "Box format conversion bugs are perhaps the most common bug surface in object\n",
    "detection pipelines - by requiring this parameter we mitigate against these\n",
    "bugs (especially when combining code from many sources).\n",
    "\n",
    "Next let's load an image:"
   ]
  },
  {
   "cell_type": "code",
   "execution_count": 0,
   "metadata": {
    "colab_type": "code"
   },
   "outputs": [],
   "source": [
    "filepath = keras.utils.get_file(origin=\"https://i.imgur.com/gCNcJJI.jpg\")\n",
    "image = keras.utils.load_img(filepath)\n",
    "image = np.array(image)\n",
    "\n",
    "visualization.plot_image_gallery(\n",
    "    np.array([image]),\n",
    "    value_range=(0, 255),\n",
    "    rows=1,\n",
    "    cols=1,\n",
    "    scale=5,\n",
    ")"
   ]
  },
  {
   "cell_type": "markdown",
   "metadata": {
    "colab_type": "text"
   },
   "source": [
    "To use the `YOLOV8Detector` architecture with a ResNet50 backbone, you'll need to\n",
    "resize your image to a size that is divisible by 64.  This is to ensure\n",
    "compatibility with the number of downscaling operations done by the convolution\n",
    "layers in the ResNet.\n",
    "\n",
    "If the resize operation distorts\n",
    "the input's aspect ratio, the model will perform signficantly poorer.  For the\n",
    "pretrained `\"yolo_v8_m_pascalvoc\"` preset we are using, the final\n",
    "`MeanAveragePrecision` on the `pascalvoc/2012` evaluation set drops to `0.15`\n",
    "from `0.38` when using a naive resizing operation.\n",
    "\n",
    "Additionally, if you crop to preserve the aspect ratio as you do in classification\n",
    "your model may entirely miss some bounding boxes.  As such, when running inference\n",
    "on an object detection model we recommend the use of padding to the desired size,\n",
    "while resizing the longest size to match the aspect ratio.\n",
    "\n",
    "KerasCV makes resizing properly easy; simply pass `pad_to_aspect_ratio=True` to\n",
    "a `keras_cv.layers.Resizing` layer.\n",
    "\n",
    "This can be implemented in one line of code:"
   ]
  },
  {
   "cell_type": "code",
   "execution_count": 0,
   "metadata": {
    "colab_type": "code"
   },
   "outputs": [],
   "source": [
    "inference_resizing = keras_cv.layers.Resizing(\n",
    "    640, 640, pad_to_aspect_ratio=True, bounding_box_format=\"xywh\"\n",
    ")"
   ]
  },
  {
   "cell_type": "markdown",
   "metadata": {
    "colab_type": "text"
   },
   "source": [
    "This can be used as our inference preprocessing pipeline:"
   ]
  },
  {
   "cell_type": "code",
   "execution_count": 0,
   "metadata": {
    "colab_type": "code"
   },
   "outputs": [],
   "source": [
    "image_batch = inference_resizing([image])"
   ]
  },
  {
   "cell_type": "markdown",
   "metadata": {
    "colab_type": "text"
   },
   "source": [
    "`keras_cv.visualization.plot_bounding_box_gallery()` supports a `class_mapping`\n",
    "parameter to highlight what class each box was assigned to.  Let's assemble a\n",
    "class mapping now."
   ]
  },
  {
   "cell_type": "code",
   "execution_count": 0,
   "metadata": {
    "colab_type": "code"
   },
   "outputs": [],
   "source": [
    "class_ids = [\n",
    "    \"Aeroplane\",\n",
    "    \"Bicycle\",\n",
    "    \"Bird\",\n",
    "    \"Boat\",\n",
    "    \"Bottle\",\n",
    "    \"Bus\",\n",
    "    \"Car\",\n",
    "    \"Cat\",\n",
    "    \"Chair\",\n",
    "    \"Cow\",\n",
    "    \"Dining Table\",\n",
    "    \"Dog\",\n",
    "    \"Horse\",\n",
    "    \"Motorbike\",\n",
    "    \"Person\",\n",
    "    \"Potted Plant\",\n",
    "    \"Sheep\",\n",
    "    \"Sofa\",\n",
    "    \"Train\",\n",
    "    \"Tvmonitor\",\n",
    "    \"Total\",\n",
    "]\n",
    "class_mapping = dict(zip(range(len(class_ids)), class_ids))"
   ]
  },
  {
   "cell_type": "markdown",
   "metadata": {
    "colab_type": "text"
   },
   "source": [
    "Just like any other `keras.Model` you can predict bounding boxes using the\n",
    "`model.predict()` API."
   ]
  },
  {
   "cell_type": "code",
   "execution_count": 0,
   "metadata": {
    "colab_type": "code"
   },
   "outputs": [],
   "source": [
    "y_pred = pretrained_model.predict(image_batch)\n",
    "# y_pred is a bounding box Tensor:\n",
    "# {\"classes\": ..., boxes\": ...}\n",
    "visualization.plot_bounding_box_gallery(\n",
    "    image_batch,\n",
    "    value_range=(0, 255),\n",
    "    rows=1,\n",
    "    cols=1,\n",
    "    y_pred=y_pred,\n",
    "    scale=5,\n",
    "    font_scale=0.7,\n",
    "    bounding_box_format=\"xywh\",\n",
    "    class_mapping=class_mapping,\n",
    ")"
   ]
  },
  {
   "cell_type": "markdown",
   "metadata": {
    "colab_type": "text"
   },
   "source": [
    "In order to support this easy and intuitive inference workflow, KerasCV\n",
    "performs non-max suppression inside of the `YOLOV8Detector` class.\n",
    "Non-max suppression is a traditional computing algorithm that solves the problem\n",
    "of a model detecting multiple boxes for the same object.\n",
    "\n",
    "Non-max suppression is a highly configurable algorithm, and in most cases you\n",
    "will want to customize the settings of your model's non-max\n",
    "suppression operation.\n",
    "This can be done by overriding to the `prediction_decoder` argument.\n",
    "\n",
    "To show this concept off, let's temporarily disable non-max suppression on our\n",
    "YOLOV8Detector.  This can be done by writing to the `prediction_decoder` attribute."
   ]
  },
  {
   "cell_type": "code",
   "execution_count": 0,
   "metadata": {
    "colab_type": "code"
   },
   "outputs": [],
   "source": [
    "# The following NonMaxSuppression layer is equivalent to disabling the operation\n",
    "prediction_decoder = keras_cv.layers.NonMaxSuppression(\n",
    "    bounding_box_format=\"xywh\",\n",
    "    from_logits=True,\n",
    "    iou_threshold=1.0,\n",
    "    confidence_threshold=0.0,\n",
    ")\n",
    "pretrained_model = keras_cv.models.YOLOV8Detector.from_preset(\n",
    "    \"yolo_v8_m_pascalvoc\",\n",
    "    bounding_box_format=\"xywh\",\n",
    "    prediction_decoder=prediction_decoder,\n",
    ")\n",
    "\n",
    "y_pred = pretrained_model.predict(image_batch)\n",
    "visualization.plot_bounding_box_gallery(\n",
    "    image_batch,\n",
    "    value_range=(0, 255),\n",
    "    rows=1,\n",
    "    cols=1,\n",
    "    y_pred=y_pred,\n",
    "    scale=5,\n",
    "    font_scale=0.7,\n",
    "    bounding_box_format=\"xywh\",\n",
    "    class_mapping=class_mapping,\n",
    ")\n",
    ""
   ]
  },
  {
   "cell_type": "markdown",
   "metadata": {
    "colab_type": "text"
   },
   "source": [
    "Next, let's re-configure `keras_cv.layers.NonMaxSuppression` for our\n",
    "use case!\n",
    "In this case, we will tune the `iou_threshold` to `0.2`, and the\n",
    "`confidence_threshold` to `0.7`.\n",
    "\n",
    "Raising the `confidence_threshold` will cause the model to only output boxes\n",
    "that have a higher confidence score. `iou_threshold` controls the threshold of\n",
    "intersection over union (IoU) that two boxes must have in order for one to be\n",
    "pruned out.\n",
    "[More information on these parameters may be found in the TensorFlow API docs](https://www.tensorflow.org/api_docs/python/tf/image/combined_non_max_suppression)"
   ]
  },
  {
   "cell_type": "code",
   "execution_count": 0,
   "metadata": {
    "colab_type": "code"
   },
   "outputs": [],
   "source": [
    "prediction_decoder = keras_cv.layers.NonMaxSuppression(\n",
    "    bounding_box_format=\"xywh\",\n",
    "    from_logits=True,\n",
    "    # Decrease the required threshold to make predictions get pruned out\n",
    "    iou_threshold=0.2,\n",
    "    # Tune confidence threshold for predictions to pass NMS\n",
    "    confidence_threshold=0.7,\n",
    ")\n",
    "pretrained_model = keras_cv.models.YOLOV8Detector.from_preset(\n",
    "    \"yolo_v8_m_pascalvoc\",\n",
    "    bounding_box_format=\"xywh\",\n",
    "    prediction_decoder=prediction_decoder,\n",
    ")\n",
    "\n",
    "y_pred = pretrained_model.predict(image_batch)\n",
    "visualization.plot_bounding_box_gallery(\n",
    "    image_batch,\n",
    "    value_range=(0, 255),\n",
    "    rows=1,\n",
    "    cols=1,\n",
    "    y_pred=y_pred,\n",
    "    scale=5,\n",
    "    font_scale=0.7,\n",
    "    bounding_box_format=\"xywh\",\n",
    "    class_mapping=class_mapping,\n",
    ")"
   ]
  },
  {
   "cell_type": "markdown",
   "metadata": {
    "colab_type": "text"
   },
   "source": [
    "That looks a lot better!\n",
    "\n",
    "## Train a custom object detection model\n",
    "\n",
    "![](https://storage.googleapis.com/keras-hub/getting_started_guide/prof_keras_advanced.png)\n",
    "\n",
    "Whether you're an object detection amateur or a well seasoned veteran, assembling\n",
    "an object detection pipeline from scratch is a massive undertaking.\n",
    "Luckily, all KerasCV object detection APIs are built as modular components.\n",
    "Whether you need a complete pipeline, just an object detection model, or even\n",
    "just a conversion utility to transform your boxes from `xywh` format to `xyxy`,\n",
    "KerasCV has you covered.\n",
    "\n",
    "In this guide, we'll assemble a full training pipeline for a KerasCV object\n",
    "detection model.  This includes data loading, augmentation, metric evaluation,\n",
    "and inference!\n",
    "\n",
    "To get started, let's sort out all of our imports and define global\n",
    "configuration parameters."
   ]
  },
  {
   "cell_type": "code",
   "execution_count": 0,
   "metadata": {
    "colab_type": "code"
   },
   "outputs": [],
   "source": [
    "BATCH_SIZE = 4"
   ]
  },
  {
   "cell_type": "markdown",
   "metadata": {
    "colab_type": "text"
   },
   "source": [
    "## Data loading\n",
    "\n",
    "To get started, let's discuss data loading and bounding box formatting.\n",
    "KerasCV has a predefined format for bounding boxes.\n",
    "To comply with this, you\n",
    "should package your bounding boxes into a dictionary matching the\n",
    "specification below:\n",
    "\n",
    "```\n",
    "bounding_boxes = {\n",
    "    # num_boxes may be a Ragged dimension\n",
    "    'boxes': Tensor(shape=[batch, num_boxes, 4]),\n",
    "    'classes': Tensor(shape=[batch, num_boxes])\n",
    "}\n",
    "```\n",
    "\n",
    "`bounding_boxes['boxes']` contains the coordinates of your bounding box in a KerasCV\n",
    "supported `bounding_box_format`.\n",
    "KerasCV requires a `bounding_box_format` argument in all components that process\n",
    "bounding boxes.\n",
    "This is done to maximize your ability to plug and play individual components\n",
    "into their object detection pipelines, as well as to make code self-documenting\n",
    "across object detection pipelines.\n",
    "\n",
    "To match the KerasCV API style, it is recommended that when writing a\n",
    "custom data loader, you also support a `bounding_box_format` argument.\n",
    "This makes it clear to those invoking your data loader what format the bounding boxes\n",
    "are in.\n",
    "In this example, we format our boxes to `xywh` format.\n",
    "\n",
    "For example:\n",
    "\n",
    "```python\n",
    "train_ds, ds_info = your_data_loader.load(\n",
    "    split='train', bounding_box_format='xywh', batch_size=8\n",
    ")\n",
    "```\n",
    "\n",
    "This clearly yields bounding boxes in the format `xywh`.  You can read more about\n",
    "KerasCV bounding box formats [in the API docs](https://keras.io/api/keras_cv/bounding_box/formats/).\n",
    "\n",
    "Our data comes loaded into the format\n",
    "`{\"images\": images, \"bounding_boxes\": bounding_boxes}`.  This format is\n",
    "supported in all KerasCV preprocessing components.\n",
    "\n",
    "Let's load some data and verify that the data looks as we expect it to."
   ]
  },
  {
   "cell_type": "code",
   "execution_count": 0,
   "metadata": {
    "colab_type": "code"
   },
   "outputs": [],
   "source": [
    "\n",
    "def visualize_dataset(inputs, value_range, rows, cols, bounding_box_format):\n",
    "    inputs = next(iter(inputs.take(1)))\n",
    "    images, bounding_boxes = inputs[\"images\"], inputs[\"bounding_boxes\"]\n",
    "    visualization.plot_bounding_box_gallery(\n",
    "        images,\n",
    "        value_range=value_range,\n",
    "        rows=rows,\n",
    "        cols=cols,\n",
    "        y_true=bounding_boxes,\n",
    "        scale=5,\n",
    "        font_scale=0.7,\n",
    "        bounding_box_format=bounding_box_format,\n",
    "        class_mapping=class_mapping,\n",
    "    )\n",
    "\n",
    "\n",
    "def unpackage_raw_tfds_inputs(inputs, bounding_box_format):\n",
    "    image = inputs[\"image\"]\n",
    "    boxes = keras_cv.bounding_box.convert_format(\n",
    "        inputs[\"objects\"][\"bbox\"],\n",
    "        images=image,\n",
    "        source=\"rel_yxyx\",\n",
    "        target=bounding_box_format,\n",
    "    )\n",
    "    bounding_boxes = {\n",
    "        \"classes\": inputs[\"objects\"][\"label\"],\n",
    "        \"boxes\": boxes,\n",
    "    }\n",
    "    return {\"images\": image, \"bounding_boxes\": bounding_boxes}\n",
    "\n",
    "\n",
    "def load_pascal_voc(split, dataset, bounding_box_format):\n",
    "    ds = tfds.load(dataset, split=split, with_info=False, shuffle_files=True)\n",
    "    ds = ds.map(\n",
    "        lambda x: unpackage_raw_tfds_inputs(x, bounding_box_format=bounding_box_format),\n",
    "        num_parallel_calls=tf_data.AUTOTUNE,\n",
    "    )\n",
    "    return ds\n",
    "\n",
    "\n",
    "train_ds = load_pascal_voc(\n",
    "    split=\"train\", dataset=\"voc/2007\", bounding_box_format=\"xywh\"\n",
    ")\n",
    "eval_ds = load_pascal_voc(split=\"test\", dataset=\"voc/2007\", bounding_box_format=\"xywh\")\n",
    "\n",
    "train_ds = train_ds.shuffle(BATCH_SIZE * 4)"
   ]
  },
  {
   "cell_type": "markdown",
   "metadata": {
    "colab_type": "text"
   },
   "source": [
    "Next, let's batch our data.\n",
    "\n",
    "In KerasCV object detection tasks it is recommended that\n",
    "users use ragged batches of inputs.\n",
    "This is due to the fact that images may be of different sizes in PascalVOC,\n",
    "as well as the fact that there may be different numbers of bounding boxes per\n",
    "image.\n",
    "\n",
    "To construct a ragged dataset in a `tf.data` pipeline, you can use the\n",
    "`ragged_batch()` method."
   ]
  },
  {
   "cell_type": "code",
   "execution_count": 0,
   "metadata": {
    "colab_type": "code"
   },
   "outputs": [],
   "source": [
    "train_ds = train_ds.ragged_batch(BATCH_SIZE, drop_remainder=True)\n",
    "eval_ds = eval_ds.ragged_batch(BATCH_SIZE, drop_remainder=True)"
   ]
  },
  {
   "cell_type": "markdown",
   "metadata": {
    "colab_type": "text"
   },
   "source": [
    "Let's make sure our dataset is following the format KerasCV expects.\n",
    "By using the `visualize_dataset()` function, you can visually verify\n",
    "that your data is in the format that KerasCV expects.  If the bounding boxes\n",
    "are not visible or are visible in the wrong locations that is a sign that your\n",
    "data is mis-formatted."
   ]
  },
  {
   "cell_type": "code",
   "execution_count": 0,
   "metadata": {
    "colab_type": "code"
   },
   "outputs": [],
   "source": [
    "visualize_dataset(\n",
    "    train_ds, bounding_box_format=\"xywh\", value_range=(0, 255), rows=2, cols=2\n",
    ")"
   ]
  },
  {
   "cell_type": "markdown",
   "metadata": {
    "colab_type": "text"
   },
   "source": [
    "And for the eval set:"
   ]
  },
  {
   "cell_type": "code",
   "execution_count": 0,
   "metadata": {
    "colab_type": "code"
   },
   "outputs": [],
   "source": [
    "visualize_dataset(\n",
    "    eval_ds,\n",
    "    bounding_box_format=\"xywh\",\n",
    "    value_range=(0, 255),\n",
    "    rows=2,\n",
    "    cols=2,\n",
    "    # If you are not running your experiment on a local machine, you can also\n",
    "    # make `visualize_dataset()` dump the plot to a file using `path`:\n",
    "    # path=\"eval.png\"\n",
    ")"
   ]
  },
  {
   "cell_type": "markdown",
   "metadata": {
    "colab_type": "text"
   },
   "source": [
    "Looks like everything is structured as expected.\n",
    "Now we can move on to constructing our\n",
    "data augmentation pipeline.\n",
    "\n",
    "## Data augmentation\n",
    "\n",
    "One of the most challenging tasks when constructing object detection\n",
    "pipelines is data augmentation.  Image augmentation techniques must be aware of the underlying\n",
    "bounding boxes, and must update them accordingly.\n",
    "\n",
    "Luckily, KerasCV natively supports bounding box augmentation with its extensive\n",
    "library\n",
    "of [data augmentation layers](https://keras.io/api/keras_cv/layers/preprocessing/).\n",
    "The code below loads the Pascal VOC dataset, and performs on-the-fly,\n",
    "bounding-box-friendly data augmentation inside a `tf.data` pipeline."
   ]
  },
  {
   "cell_type": "code",
   "execution_count": 0,
   "metadata": {
    "colab_type": "code"
   },
   "outputs": [],
   "source": [
    "augmenters = [\n",
    "    keras_cv.layers.RandomFlip(mode=\"horizontal\", bounding_box_format=\"xywh\"),\n",
    "    keras_cv.layers.JitteredResize(\n",
    "        target_size=(640, 640), scale_factor=(0.75, 1.3), bounding_box_format=\"xywh\"\n",
    "    ),\n",
    "]\n",
    "\n",
    "\n",
    "def create_augmenter_fn(augmenters):\n",
    "    def augmenter_fn(inputs):\n",
    "        for augmenter in augmenters:\n",
    "            inputs = augmenter(inputs)\n",
    "        return inputs\n",
    "\n",
    "    return augmenter_fn\n",
    "\n",
    "\n",
    "augmenter_fn = create_augmenter_fn(augmenters)\n",
    "\n",
    "train_ds = train_ds.map(augmenter_fn, num_parallel_calls=tf_data.AUTOTUNE)\n",
    "visualize_dataset(\n",
    "    train_ds, bounding_box_format=\"xywh\", value_range=(0, 255), rows=2, cols=2\n",
    ")"
   ]
  },
  {
   "cell_type": "markdown",
   "metadata": {
    "colab_type": "text"
   },
   "source": [
    "Great! We now have a bounding-box-friendly data augmentation pipeline.\n",
    "Let's format our evaluation dataset to match.  Instead of using\n",
    "`JitteredResize`, let's use the deterministic `keras_cv.layers.Resizing()`\n",
    "layer."
   ]
  },
  {
   "cell_type": "code",
   "execution_count": 0,
   "metadata": {
    "colab_type": "code"
   },
   "outputs": [],
   "source": [
    "inference_resizing = keras_cv.layers.Resizing(\n",
    "    640, 640, bounding_box_format=\"xywh\", pad_to_aspect_ratio=True\n",
    ")\n",
    "eval_ds = eval_ds.map(inference_resizing, num_parallel_calls=tf_data.AUTOTUNE)"
   ]
  },
  {
   "cell_type": "markdown",
   "metadata": {
    "colab_type": "text"
   },
   "source": [
    "Due to the fact that the resize operation differs between the train dataset,\n",
    "which uses `JitteredResize()` to resize images, and the inference dataset, which\n",
    "uses `layers.Resizing(pad_to_aspect_ratio=True)`, it is good practice to\n",
    "visualize both datasets:"
   ]
  },
  {
   "cell_type": "code",
   "execution_count": 0,
   "metadata": {
    "colab_type": "code"
   },
   "outputs": [],
   "source": [
    "visualize_dataset(\n",
    "    eval_ds, bounding_box_format=\"xywh\", value_range=(0, 255), rows=2, cols=2\n",
    ")"
   ]
  },
  {
   "cell_type": "markdown",
   "metadata": {
    "colab_type": "text"
   },
   "source": [
    "Finally, let's unpackage our inputs from the preprocessing dictionary, and\n",
    "prepare to feed the inputs into our model.  In order to be TPU compatible,\n",
    "bounding box Tensors need to be `Dense` instead of `Ragged`."
   ]
  },
  {
   "cell_type": "code",
   "execution_count": 0,
   "metadata": {
    "colab_type": "code"
   },
   "outputs": [],
   "source": [
    "\n",
    "def dict_to_tuple(inputs):\n",
    "    return inputs[\"images\"], bounding_box.to_dense(\n",
    "        inputs[\"bounding_boxes\"], max_boxes=32\n",
    "    )\n",
    "\n",
    "\n",
    "train_ds = train_ds.map(dict_to_tuple, num_parallel_calls=tf_data.AUTOTUNE)\n",
    "eval_ds = eval_ds.map(dict_to_tuple, num_parallel_calls=tf_data.AUTOTUNE)\n",
    "\n",
    "train_ds = train_ds.prefetch(tf_data.AUTOTUNE)\n",
    "eval_ds = eval_ds.prefetch(tf_data.AUTOTUNE)"
   ]
  },
  {
   "cell_type": "markdown",
   "metadata": {
    "colab_type": "text"
   },
   "source": [
    "### Optimizer\n",
    "\n",
    "In this guide, we use a standard SGD optimizer and rely on the\n",
    "[`keras.callbacks.ReduceLROnPlateau`](https://keras.io/api/callbacks/reduce_lr_on_plateau/)\n",
    "callback to reduce the learning rate.\n",
    "\n",
    "You will always want to include a `global_clipnorm` when training object\n",
    "detection models.  This is to remedy exploding gradient problems that frequently\n",
    "occur when training object detection models."
   ]
  },
  {
   "cell_type": "code",
   "execution_count": 0,
   "metadata": {
    "colab_type": "code"
   },
   "outputs": [],
   "source": [
    "base_lr = 0.005\n",
    "# including a global_clipnorm is extremely important in object detection tasks\n",
    "optimizer = keras.optimizers.SGD(\n",
    "    learning_rate=base_lr, momentum=0.9, global_clipnorm=10.0\n",
    ")"
   ]
  },
  {
   "cell_type": "markdown",
   "metadata": {
    "colab_type": "text"
   },
   "source": [
    "To achieve the best results on your dataset, you'll likely want to hand craft a\n",
    "`PiecewiseConstantDecay` learning rate schedule.\n",
    "While `PiecewiseConstantDecay` schedules tend to perform better, they don't\n",
    "translate between problems."
   ]
  },
  {
   "cell_type": "markdown",
   "metadata": {
    "colab_type": "text"
   },
   "source": [
    "### Loss functions\n",
    "\n",
    "You may not be familiar with the `\"ciou\"` loss.  While not common in other\n",
    "models, this loss is sometimes used in the object detection world.\n",
    "\n",
    "In short, [\"Complete IoU\"](https://arxiv.org/abs/1911.08287) is a flavour of the Intersection over Union loss and is used due to its convergence properties.\n",
    "\n",
    "In KerasCV, you can use this loss simply by passing the string `\"ciou\"` to `compile()`.\n",
    "We also use standard binary crossentropy loss for the class head."
   ]
  },
  {
   "cell_type": "code",
   "execution_count": 0,
   "metadata": {
    "colab_type": "code"
   },
   "outputs": [],
   "source": [
    "pretrained_model.compile(\n",
    "    classification_loss=\"binary_crossentropy\",\n",
    "    box_loss=\"ciou\",\n",
    ")"
   ]
  },
  {
   "cell_type": "markdown",
   "metadata": {
    "colab_type": "text"
   },
   "source": [
    "### Metric evaluation\n",
    "\n",
    "The most popular object detection metrics are COCO metrics,\n",
    "which were published alongside the MSCOCO dataset. KerasCV provides an\n",
    "easy-to-use suite of COCO metrics under the `keras_cv.callbacks.PyCOCOCallback`\n",
    "symbol. Note that we use a Keras callback instead of a Keras metric to compute\n",
    "COCO metrics. This is because computing COCO metrics requires storing all of a\n",
    "model's predictions for the entire evaluation dataset in memory at once, which\n",
    "is impractical to do during training time."
   ]
  },
  {
   "cell_type": "code",
   "execution_count": 0,
   "metadata": {
    "colab_type": "code"
   },
   "outputs": [],
   "source": [
    "coco_metrics_callback = keras_cv.callbacks.PyCOCOCallback(\n",
    "    eval_ds.take(20), bounding_box_format=\"xywh\"\n",
    ")\n",
    ""
   ]
  },
  {
   "cell_type": "markdown",
   "metadata": {
    "colab_type": "text"
   },
   "source": [
    "Our data pipeline is now complete!\n",
    "We can now move on to model creation and training.\n",
    "\n",
    "## Model creation\n",
    "\n",
    "Next, let's use the KerasCV API to construct an untrained YOLOV8Detector model.\n",
    "In this tutorial we use a pretrained ResNet50 backbone from the imagenet\n",
    "dataset.\n",
    "\n",
    "KerasCV makes it easy to construct a `YOLOV8Detector` with any of the KerasCV\n",
    "backbones.  Simply use one of the presets for the architecture you'd like!\n",
    "\n",
    "For example:"
   ]
  },
  {
   "cell_type": "code",
   "execution_count": 0,
   "metadata": {
    "colab_type": "code"
   },
   "outputs": [],
   "source": [
    "model = keras_cv.models.YOLOV8Detector.from_preset(\n",
    "    \"resnet50_imagenet\",\n",
    "    # For more info on supported bounding box formats, visit\n",
    "    # https://keras.io/api/keras_cv/bounding_box/\n",
    "    bounding_box_format=\"xywh\",\n",
    "    num_classes=20,\n",
    ")"
   ]
  },
  {
   "cell_type": "markdown",
   "metadata": {
    "colab_type": "text"
   },
   "source": [
    "That is all it takes to construct a KerasCV YOLOv8. The YOLOv8 accepts\n",
    "tuples of dense image Tensors and bounding box dictionaries to `fit()` and\n",
    "`train_on_batch()`\n",
    "\n",
    "This matches what we have constructed in our input pipeline above."
   ]
  },
  {
   "cell_type": "markdown",
   "metadata": {
    "colab_type": "text"
   },
   "source": [
    "## Training our model\n",
    "\n",
    "All that is left to do is train our model.  KerasCV object detection models\n",
    "follow the standard Keras workflow, leveraging `compile()` and `fit()`.\n",
    "\n",
    "Let's compile our model:"
   ]
  },
  {
   "cell_type": "code",
   "execution_count": 0,
   "metadata": {
    "colab_type": "code"
   },
   "outputs": [],
   "source": [
    "model.compile(\n",
    "    classification_loss=\"binary_crossentropy\",\n",
    "    box_loss=\"ciou\",\n",
    "    optimizer=optimizer,\n",
    ")"
   ]
  },
  {
   "cell_type": "markdown",
   "metadata": {
    "colab_type": "text"
   },
   "source": [
    "If you want to fully train the model, remove `.take(20)` from all dataset\n",
    "references (below and in the initialization of the metrics callback)."
   ]
  },
  {
   "cell_type": "code",
   "execution_count": 0,
   "metadata": {
    "colab_type": "code"
   },
   "outputs": [],
   "source": [
    "model.fit(\n",
    "    train_ds.take(20),\n",
    "    # Run for 10-35~ epochs to achieve good scores.\n",
    "    epochs=1,\n",
    "    callbacks=[coco_metrics_callback],\n",
    ")"
   ]
  },
  {
   "cell_type": "markdown",
   "metadata": {
    "colab_type": "text"
   },
   "source": [
    "## Inference and plotting results\n",
    "\n",
    "KerasCV makes object detection inference simple.  `model.predict(images)`\n",
    "returns a tensor of bounding boxes.  By default, `YOLOV8Detector.predict()`\n",
    "will perform a non max suppression operation for you.\n",
    "\n",
    "In this section, we will use a `keras_cv` provided preset:"
   ]
  },
  {
   "cell_type": "code",
   "execution_count": 0,
   "metadata": {
    "colab_type": "code"
   },
   "outputs": [],
   "source": [
    "model = keras_cv.models.YOLOV8Detector.from_preset(\n",
    "    \"yolo_v8_m_pascalvoc\", bounding_box_format=\"xywh\"\n",
    ")"
   ]
  },
  {
   "cell_type": "markdown",
   "metadata": {
    "colab_type": "text"
   },
   "source": [
    "Next, for convenience we construct a dataset with larger batches:"
   ]
  },
  {
   "cell_type": "code",
   "execution_count": 0,
   "metadata": {
    "colab_type": "code"
   },
   "outputs": [],
   "source": [
    "visualization_ds = eval_ds.unbatch()\n",
    "visualization_ds = visualization_ds.ragged_batch(16)\n",
    "visualization_ds = visualization_ds.shuffle(8)"
   ]
  },
  {
   "cell_type": "markdown",
   "metadata": {
    "colab_type": "text"
   },
   "source": [
    "Let's create a simple function to plot our inferences:"
   ]
  },
  {
   "cell_type": "code",
   "execution_count": 0,
   "metadata": {
    "colab_type": "code"
   },
   "outputs": [],
   "source": [
    "\n",
    "def visualize_detections(model, dataset, bounding_box_format):\n",
    "    images, y_true = next(iter(dataset.take(1)))\n",
    "    y_pred = model.predict(images)\n",
    "    visualization.plot_bounding_box_gallery(\n",
    "        images,\n",
    "        value_range=(0, 255),\n",
    "        bounding_box_format=bounding_box_format,\n",
    "        y_true=y_true,\n",
    "        y_pred=y_pred,\n",
    "        scale=4,\n",
    "        rows=2,\n",
    "        cols=2,\n",
    "        show=True,\n",
    "        font_scale=0.7,\n",
    "        class_mapping=class_mapping,\n",
    "    )\n",
    ""
   ]
  },
  {
   "cell_type": "markdown",
   "metadata": {
    "colab_type": "text"
   },
   "source": [
    "You may need to configure your NonMaxSuppression operation to achieve\n",
    "visually appealing results."
   ]
  },
  {
   "cell_type": "code",
   "execution_count": 0,
   "metadata": {
    "colab_type": "code"
   },
   "outputs": [],
   "source": [
    "model.prediction_decoder = keras_cv.layers.NonMaxSuppression(\n",
    "    bounding_box_format=\"xywh\",\n",
    "    from_logits=True,\n",
    "    iou_threshold=0.5,\n",
    "    confidence_threshold=0.75,\n",
    ")\n",
    "\n",
    "visualize_detections(model, dataset=visualization_ds, bounding_box_format=\"xywh\")"
   ]
  },
  {
   "cell_type": "markdown",
   "metadata": {
    "colab_type": "text"
   },
   "source": [
    "Awesome!\n",
    "One final helpful pattern to be aware of is to visualize\n",
    "detections in a `keras.callbacks.Callback` to monitor training :"
   ]
  },
  {
   "cell_type": "code",
   "execution_count": 0,
   "metadata": {
    "colab_type": "code"
   },
   "outputs": [],
   "source": [
    "\n",
    "class VisualizeDetections(keras.callbacks.Callback):\n",
    "    def on_epoch_end(self, epoch, logs):\n",
    "        visualize_detections(\n",
    "            self.model, bounding_box_format=\"xywh\", dataset=visualization_ds\n",
    "        )\n",
    ""
   ]
  },
  {
   "cell_type": "markdown",
   "metadata": {
    "colab_type": "text"
   },
   "source": [
    "## Takeaways and next steps\n",
    "\n",
    "KerasCV makes it easy to construct state-of-the-art object detection pipelines.\n",
    "In this guide, we started off by writing a data loader using the KerasCV\n",
    "bounding box specification.\n",
    "Following this, we assembled a production grade data augmentation pipeline using\n",
    "KerasCV preprocessing layers in <50 lines of code.\n",
    "\n",
    "KerasCV object detection components can be used independently, but also have deep\n",
    "integration with each other.\n",
    "KerasCV makes authoring production grade bounding box augmentation,\n",
    "model training, visualization, and\n",
    "metric evaluation easy.\n",
    "\n",
    "Some follow up exercises for the reader:\n",
    "\n",
    "- add additional augmentation techniques to improve model performance\n",
    "- tune the hyperparameters and data augmentation used to produce high quality results\n",
    "- train an object detection model on your own dataset\n",
    "\n",
    "One last fun code snippet to showcase the power of KerasCV's API!"
   ]
  },
  {
   "cell_type": "code",
   "execution_count": 0,
   "metadata": {
    "colab_type": "code"
   },
   "outputs": [],
   "source": [
    "stable_diffusion = keras_cv.models.StableDiffusionV2(512, 512)\n",
    "images = stable_diffusion.text_to_image(\n",
    "    prompt=\"A zoomed out photograph of a cool looking cat.  The cat stands in a beautiful forest\",\n",
    "    negative_prompt=\"unrealistic, bad looking, malformed\",\n",
    "    batch_size=4,\n",
    "    seed=1231,\n",
    ")\n",
    "encoded_predictions = model(images)\n",
    "y_pred = model.decode_predictions(encoded_predictions, images)\n",
    "visualization.plot_bounding_box_gallery(\n",
    "    images,\n",
    "    value_range=(0, 255),\n",
    "    y_pred=y_pred,\n",
    "    rows=2,\n",
    "    cols=2,\n",
    "    scale=5,\n",
    "    font_scale=0.7,\n",
    "    bounding_box_format=\"xywh\",\n",
    "    class_mapping=class_mapping,\n",
    ")"
   ]
  }
 ],
 "metadata": {
  "accelerator": "GPU",
  "colab": {
   "collapsed_sections": [],
   "name": "object_detection_keras_cv",
   "private_outputs": false,
   "provenance": [],
   "toc_visible": true
  },
  "kernelspec": {
   "display_name": "Python 3",
   "language": "python",
   "name": "python3"
  },
  "language_info": {
   "codemirror_mode": {
    "name": "ipython",
    "version": 3
   },
   "file_extension": ".py",
   "mimetype": "text/x-python",
   "name": "python",
   "nbconvert_exporter": "python",
   "pygments_lexer": "ipython3",
   "version": "3.7.0"
  }
 },
 "nbformat": 4,
 "nbformat_minor": 0
}