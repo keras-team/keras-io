{
  "cells": [
    {
      "cell_type": "markdown",
      "metadata": {
        "id": "a1lzwnFh-A6y"
      },
      "source": [
        "# Classification with KerasCV\n",
        "\n",
        "**Author:** [lukewood](https://lukewood.xyz)<br>\n",
        "**Date created:** 03/28/2023<br>\n",
        "**Last modified:** 03/28/2023<br>\n",
        "**Description:** Use KerasCV to train powerful image classifiers."
      ]
    },
    {
      "cell_type": "markdown",
      "metadata": {
        "id": "kpaEkN2U-A60"
      },
      "source": [
        "Classification is the process of predicting a categorical label for a given\n",
        "input image.\n",
        "While classification is a relatively straightforward computer vision task,\n",
        "modern approaches still are built of several complex components.\n",
        "Luckily, KerasCV provides APIs to construct commonly used components.\n",
        "\n",
        "This guide demonstrates KerasCV's modular approach to solving image\n",
        "classification problems at three levels of complexity:\n",
        "\n",
        "- Inference with a pretrained classifier\n",
        "- Fine-tuning a pretrained backbone\n",
        "- Training a image classifier from scratch\n",
        "\n",
        "KerasCV uses Keras 3 to work with any of TensorFlow, PyTorch or Jax. In the\n",
        "guide below, we will use the `jax` backend. This guide runs in\n",
        "TensorFlow or PyTorch backends with zero changes, simply update the\n",
        "`KERAS_BACKEND` below.\n",
        "\n",
        "We use Professor Keras, the official Keras mascot, as a\n",
        "visual reference for the complexity of the material:\n",
        "\n",
        "![](https://storage.googleapis.com/keras-hub/getting_started_guide/prof_keras_evolution.png)"
      ]
    },
    {
      "cell_type": "code",
      "execution_count": null,
      "metadata": {
        "id": "jjsKFAMO-A60"
      },
      "outputs": [],
      "source": [
        "!pip install -q --upgrade keras-cv\n",
        "!pip install -q --upgrade keras  # Upgrade to Keras 3."
      ]
    },
    {
      "cell_type": "code",
      "execution_count": null,
      "metadata": {
        "id": "ALdp1jm4-A61"
      },
      "outputs": [],
      "source": [
        "import os\n",
        "\n",
        "os.environ[\"KERAS_BACKEND\"] = \"jax\"  # @param [\"tensorflow\", \"jax\", \"torch\"]\n",
        "\n",
        "import json\n",
        "import math\n",
        "import numpy as np\n",
        "\n",
        "import keras\n",
        "from keras import losses\n",
        "from keras import ops\n",
        "from keras import optimizers\n",
        "from keras.optimizers import schedules\n",
        "from keras import metrics\n",
        "\n",
        "import keras_cv\n",
        "\n",
        "# Import tensorflow for `tf.data` and its preprocessing functions\n",
        "import tensorflow as tf\n",
        "import tensorflow_datasets as tfds\n"
      ]
    },
    {
      "cell_type": "markdown",
      "metadata": {
        "id": "uzIoO5p6-A61"
      },
      "source": [
        "## Inference with a pretrained classifier\n",
        "\n",
        "![](https://storage.googleapis.com/keras-hub/getting_started_guide/prof_keras_beginner.png)\n",
        "\n",
        "Let's get started with the simplest KerasCV API: a pretrained classifier.\n",
        "In this example, we will construct a classifier that was\n",
        "pretrained on the ImageNet dataset.\n",
        "We'll use this model to solve the age old \"Cat or Dog\" problem.\n",
        "\n",
        "The highest level module in KerasCV is a *task*. A *task* is a `keras.Model`\n",
        "consisting of a (generally pretrained) backbone model and task-specific layers.\n",
        "Here's an example using `keras_cv.models.ImageClassifier` with an\n",
        "EfficientNetV2B0 Backbone.\n",
        "\n",
        "EfficientNetV2B0 is a great starting model when constructing an image\n",
        "classification pipeline.\n",
        "This architecture manages to achieve high accuracy, while using a\n",
        "parameter count of 7M.\n",
        "If an EfficientNetV2B0 is not powerful enough for the task you are hoping to\n",
        "solve, be sure to check out [KerasCV's other available Backbones](https://github.com/keras-team/keras-cv/tree/master/keras_cv/models/backbones)!"
      ]
    },
    {
      "cell_type": "code",
      "execution_count": null,
      "metadata": {
        "id": "mRdWCXCG-A61"
      },
      "outputs": [],
      "source": [
        "classifier = keras_cv.models.ImageClassifier.from_preset(\n",
        "    \"efficientnetv2_b0_imagenet_classifier\"\n",
        ")"
      ]
    },
    {
      "cell_type": "markdown",
      "metadata": {
        "id": "BFQj19WB-A61"
      },
      "source": [
        "You may notice a small deviation from the old `keras.applications` API; where\n",
        "you would construct the class with `EfficientNetV2B0(weights=\"imagenet\")`.\n",
        "While the old API was great for classification, it did not scale effectively to\n",
        "other use cases that required complex architectures, like object detection and\n",
        "semantic segmentation.\n",
        "\n",
        "Now that our classifier is built, let's apply it to this cute cat picture!"
      ]
    },
    {
      "cell_type": "code",
      "execution_count": null,
      "metadata": {
        "id": "LPxxH6_C-A62"
      },
      "outputs": [],
      "source": [
        "filepath = keras.utils.get_file(origin=\"https://i.imgur.com/9i63gLN.jpg\")\n",
        "image = keras.utils.load_img(filepath)\n",
        "image = np.array(image)\n",
        "keras_cv.visualization.plot_image_gallery(\n",
        "    np.array([image]), rows=1, cols=1, value_range=(0, 255), show=True, scale=4\n",
        ")"
      ]
    },
    {
      "cell_type": "markdown",
      "metadata": {
        "id": "4v7JlJWx-A62"
      },
      "source": [
        "Next, let's get some predictions from our classifier:"
      ]
    },
    {
      "cell_type": "code",
      "execution_count": null,
      "metadata": {
        "id": "9GGMsZ4J-A62"
      },
      "outputs": [],
      "source": [
        "predictions = classifier.predict(np.expand_dims(image, axis=0))"
      ]
    },
    {
      "cell_type": "markdown",
      "metadata": {
        "id": "6AbWq-pu-A62"
      },
      "source": [
        "Predictions come in the form of softmax-ed category rankings.\n",
        "We can find the index of the top classes using a simple argsort function:"
      ]
    },
    {
      "cell_type": "code",
      "execution_count": null,
      "metadata": {
        "id": "Id-vtnWH-A62"
      },
      "outputs": [],
      "source": [
        "top_classes = predictions[0].argsort(axis=-1)\n"
      ]
    },
    {
      "cell_type": "markdown",
      "metadata": {
        "id": "QmKNQLYS-A62"
      },
      "source": [
        "In order to decode the class mappings, we can construct a mapping from\n",
        "category indices to ImageNet class names.\n",
        "For convenience, I've stored the ImageNet class mapping in a GitHub gist.\n",
        "Let's download and load it now."
      ]
    },
    {
      "cell_type": "code",
      "execution_count": null,
      "metadata": {
        "id": "GqAXK4k9-A62"
      },
      "outputs": [],
      "source": [
        "classes = keras.utils.get_file(\n",
        "    origin=\"https://gist.githubusercontent.com/LukeWood/62eebcd5c5c4a4d0e0b7845780f76d55/raw/fde63e5e4c09e2fa0a3436680f436bdcb8325aac/ImagenetClassnames.json\"\n",
        ")\n",
        "with open(classes, \"rb\") as f:\n",
        "    classes = json.load(f)"
      ]
    },
    {
      "cell_type": "markdown",
      "metadata": {
        "id": "3P9juO9H-A62"
      },
      "source": [
        "Now we can simply look up the class names via index:"
      ]
    },
    {
      "cell_type": "code",
      "execution_count": null,
      "metadata": {
        "id": "T79LNuOk-A63"
      },
      "outputs": [],
      "source": [
        "top_two = [classes[str(i)] for i in top_classes[-2:]]\n",
        "print(\"Top two classes are:\", top_two)"
      ]
    },
    {
      "cell_type": "markdown",
      "metadata": {
        "id": "9CKQpGPq-A63"
      },
      "source": [
        "Great!  Both of these appear to be correct!\n",
        "However, one of the classes is \"Velvet\".\n",
        "We're trying to classify Cats VS Dogs.\n",
        "We don't care about the velvet blanket!\n",
        "\n",
        "Ideally, we'd have a classifier that only performs computation to determine if\n",
        "an image is a cat or a dog, and has all of its resources dedicated to this task.\n",
        "This can be solved by fine tuning our own classifier.\n",
        "\n",
        "## Fine tuning a pretrained classifier\n",
        "\n",
        "![](https://storage.googleapis.com/keras-hub/getting_started_guide/prof_keras_intermediate.png)\n",
        "\n",
        "When labeled images specific to our task are available, fine-tuning a custom\n",
        "classifier can improve performance.\n",
        "If we want to train a Cats vs Dogs Classifier, using explicitly labeled Cat vs\n",
        "Dog data should perform better than the generic classifier!\n",
        "For many tasks, no relevant pretrained model\n",
        "will be available (e.g., categorizing images specific to your application).\n",
        "\n",
        "First, let's get started by loading some data:"
      ]
    },
    {
      "cell_type": "code",
      "execution_count": null,
      "metadata": {
        "id": "hVo2LDxo-A63"
      },
      "outputs": [],
      "source": [
        "BATCH_SIZE = 32\n",
        "IMAGE_SIZE = (224, 224)\n",
        "AUTOTUNE = tf.data.AUTOTUNE\n",
        "tfds.disable_progress_bar()\n",
        "\n",
        "data, dataset_info = tfds.load(\"cats_vs_dogs\", with_info=True, as_supervised=True)\n",
        "train_steps_per_epoch = dataset_info.splits[\"train\"].num_examples // BATCH_SIZE\n",
        "train_dataset = data[\"train\"]\n",
        "\n",
        "num_classes = dataset_info.features[\"label\"].num_classes\n",
        "\n",
        "resizing = keras_cv.layers.Resizing(\n",
        "    IMAGE_SIZE[0], IMAGE_SIZE[1], crop_to_aspect_ratio=True\n",
        ")\n",
        "\n",
        "\n",
        "def preprocess_inputs(image, label):\n",
        "    image = tf.cast(image, tf.float32)\n",
        "    # Staticly resize images as we only iterate the dataset once.\n",
        "    return resizing(image), tf.one_hot(label, num_classes)\n",
        "\n",
        "\n",
        "# Shuffle the dataset to increase diversity of batches.\n",
        "# 10*BATCH_SIZE follows the assumption that bigger machines can handle bigger\n",
        "# shuffle buffers.\n",
        "train_dataset = train_dataset.shuffle(\n",
        "    10 * BATCH_SIZE, reshuffle_each_iteration=True\n",
        ").map(preprocess_inputs, num_parallel_calls=AUTOTUNE)\n",
        "train_dataset = train_dataset.batch(BATCH_SIZE)\n",
        "\n",
        "images = next(iter(train_dataset.take(1)))[0]\n",
        "keras_cv.visualization.plot_image_gallery(images, value_range=(0, 255))"
      ]
    },
    {
      "cell_type": "markdown",
      "metadata": {
        "id": "dbSxZhRb-A63"
      },
      "source": [
        "Meow!\n",
        "\n",
        "Next let's construct our model.\n",
        "The use of imagenet in the preset name indicates that the backbone was\n",
        "pretrained on the ImageNet dataset.\n",
        "Pretrained backbones extract more information from our labeled examples by\n",
        "leveraging patterns extracted from potentially much larger datasets.\n",
        "\n",
        "Next lets put together our classifier:"
      ]
    },
    {
      "cell_type": "code",
      "execution_count": null,
      "metadata": {
        "id": "1DVNnqpX-A63"
      },
      "outputs": [],
      "source": [
        "model = keras_cv.models.ImageClassifier.from_preset(\n",
        "    \"efficientnetv2_b0_imagenet\", num_classes=2\n",
        ")\n",
        "model.compile(\n",
        "    loss=\"categorical_crossentropy\",\n",
        "    optimizer=keras.optimizers.SGD(learning_rate=0.01),\n",
        "    metrics=[\"accuracy\"],\n",
        ")"
      ]
    },
    {
      "cell_type": "markdown",
      "metadata": {
        "id": "XviIYq5t-A63"
      },
      "source": [
        "Here our classifier is just a simple `keras.Sequential`.\n",
        "All that is left to do is call `model.fit()`:"
      ]
    },
    {
      "cell_type": "code",
      "execution_count": null,
      "metadata": {
        "id": "XFvnsXDd-A63"
      },
      "outputs": [],
      "source": [
        "model.fit(train_dataset)\n"
      ]
    },
    {
      "cell_type": "markdown",
      "metadata": {
        "id": "EymUZ0Jc-A63"
      },
      "source": [
        "Let's look at how our model performs after the fine tuning:"
      ]
    },
    {
      "cell_type": "code",
      "execution_count": null,
      "metadata": {
        "id": "rhZO5AuQ-A63"
      },
      "outputs": [],
      "source": [
        "predictions = model.predict(np.expand_dims(image, axis=0))\n",
        "\n",
        "classes = {0: \"cat\", 1: \"dog\"}\n",
        "print(\"Top class is:\", classes[predictions[0].argmax()])"
      ]
    },
    {
      "cell_type": "markdown",
      "metadata": {
        "id": "RIONGKGr-A63"
      },
      "source": [
        "Awesome - looks like the model correctly classified the image."
      ]
    },
    {
      "cell_type": "markdown",
      "metadata": {
        "id": "e8VvkvHF-A63"
      },
      "source": [
        "## Train a Classifier from Scratch\n",
        "\n",
        "![](https://storage.googleapis.com/keras-hub/getting_started_guide/prof_keras_advanced.png)\n",
        "\n",
        "Now that we've gotten our hands dirty with classification, let's take on one\n",
        "last task: training a classification model from scratch!\n",
        "A standard benchmark for image classification is the ImageNet dataset, however\n",
        "due to licensing constraints we will use the CalTech 101 image classification\n",
        "dataset in this tutorial.\n",
        "While we use the simpler CalTech 101 dataset in this guide, the same training\n",
        "template may be used on ImageNet to achieve near state-of-the-art scores.\n",
        "\n",
        "Let's start out by tackling data loading:"
      ]
    },
    {
      "cell_type": "code",
      "execution_count": null,
      "metadata": {
        "id": "m6sLarPN-A63"
      },
      "outputs": [],
      "source": [
        "NUM_CLASSES = 101\n",
        "# Change epochs to 100~ to fully train.\n",
        "EPOCHS = 1\n",
        "\n",
        "\n",
        "def package_inputs(image, label):\n",
        "    return {\"images\": image, \"labels\": tf.one_hot(label, NUM_CLASSES)}\n",
        "\n",
        "\n",
        "train_ds, eval_ds = tfds.load(\n",
        "    \"caltech101\", split=[\"train\", \"test\"], as_supervised=\"true\"\n",
        ")\n",
        "train_ds = train_ds.map(package_inputs, num_parallel_calls=tf.data.AUTOTUNE)\n",
        "eval_ds = eval_ds.map(package_inputs, num_parallel_calls=tf.data.AUTOTUNE)\n",
        "\n",
        "train_ds = train_ds.shuffle(BATCH_SIZE * 16)"
      ]
    },
    {
      "cell_type": "markdown",
      "metadata": {
        "id": "abmRigSp-A63"
      },
      "source": [
        "The CalTech101 dataset has different sizes for every image, so we use the\n",
        "`ragged_batch()` API to batch them together while maintaining each individual\n",
        "image's shape information."
      ]
    },
    {
      "cell_type": "code",
      "execution_count": null,
      "metadata": {
        "id": "lRvxDFkX-A63"
      },
      "outputs": [],
      "source": [
        "train_ds = train_ds.ragged_batch(BATCH_SIZE)\n",
        "eval_ds = eval_ds.ragged_batch(BATCH_SIZE)\n",
        "\n",
        "batch = next(iter(train_ds.take(1)))\n",
        "image_batch = batch[\"images\"]\n",
        "label_batch = batch[\"labels\"]\n",
        "\n",
        "keras_cv.visualization.plot_image_gallery(\n",
        "    image_batch.to_tensor(),\n",
        "    rows=3,\n",
        "    cols=3,\n",
        "    value_range=(0, 255),\n",
        "    show=True,\n",
        ")"
      ]
    },
    {
      "cell_type": "markdown",
      "metadata": {
        "id": "px4Xqonu-A63"
      },
      "source": [
        "### Data Augmentation\n",
        "\n",
        "In our previous finetuning example, we performed a static resizing operation and\n",
        "did not utilize any image augmentation.\n",
        "This is because a single pass over the training set was sufficient to achieve\n",
        "decent results.\n",
        "When training to solve a more difficult task, you'll want to include data\n",
        "augmentation in your data pipeline.\n",
        "\n",
        "Data augmentation is a technique to make your model robust to changes in input\n",
        "data such as lighting, cropping, and orientation.\n",
        "KerasCV includes some of the most useful augmentations in the `keras_cv.layers`\n",
        "API.\n",
        "Creating an optimal pipeline of augmentations is an art, but in this section of\n",
        "the guide we'll offer some tips on best practices for classification.\n",
        "\n",
        "One caveat to be aware of with image data augmentation is that you must be careful\n",
        "to not shift your augmented data distribution too far from the original data\n",
        "distribution.\n",
        "The goal is to prevent overfitting and increase generalization,\n",
        "but samples that lie completely out of the data distribution simply add noise to\n",
        "the training process.\n",
        "\n",
        "The first augmentation we'll use is `RandomFlip`.\n",
        "This augmentation behaves more or less how you'd expect: it either flips the\n",
        "image or not.\n",
        "While this augmentation is useful in CalTech101 and ImageNet, it should be noted\n",
        "that it should not be used on tasks where the data distribution is not vertical\n",
        "mirror invariant.\n",
        "An example of a dataset where this occurs is MNIST hand written digits.\n",
        "Flipping a `6` over the\n",
        "vertical axis will make the digit appear more like a `7` than a `6`, but the\n",
        "label will still show a `6`."
      ]
    },
    {
      "cell_type": "code",
      "execution_count": null,
      "metadata": {
        "id": "Ce_ndMxZ-A63"
      },
      "outputs": [],
      "source": [
        "random_flip = keras_cv.layers.RandomFlip()\n",
        "augmenters = [random_flip]\n",
        "\n",
        "image_batch = random_flip(image_batch)\n",
        "keras_cv.visualization.plot_image_gallery(\n",
        "    image_batch.to_tensor(),\n",
        "    rows=3,\n",
        "    cols=3,\n",
        "    value_range=(0, 255),\n",
        "    show=True,\n",
        ")"
      ]
    },
    {
      "cell_type": "markdown",
      "metadata": {
        "id": "iNWHrEGi-A63"
      },
      "source": [
        "Half of the images have been flipped!\n",
        "\n",
        "The next augmentation we'll use is `RandomCropAndResize`.\n",
        "This operation selects a random subset of the image, then resizes it to the\n",
        "provided target size.\n",
        "By using this augmentation, we force our classifier to become spatially invariant.\n",
        "Additionally, this layer accepts an `aspect_ratio_factor` which can be used to\n",
        "distort the aspect ratio of the image.\n",
        "While this can improve model performance, it should be used with caution.\n",
        "It is very easy for an aspect ratio distortion to shift a sample too far from\n",
        "the original training set's data distribution.\n",
        "Remember - the goal of data augmentation is to produce more training samples\n",
        "that align with the data distribution of your training set!\n",
        "\n",
        "`RandomCropAndResize` also can handle `tf.RaggedTensor` inputs.  In the\n",
        "CalTech101 image dataset images come in a wide variety of sizes.\n",
        "As such they cannot easily be batched together into a dense training batch.\n",
        "Luckily, `RandomCropAndResize` handles the Ragged -> Dense conversion process\n",
        "for you!\n",
        "\n",
        "Let's add a `RandomCropAndResize` to our set of augmentations:"
      ]
    },
    {
      "cell_type": "code",
      "execution_count": null,
      "metadata": {
        "id": "jq-h2i2q-A64"
      },
      "outputs": [],
      "source": [
        "crop_and_resize = keras_cv.layers.RandomCropAndResize(\n",
        "    target_size=IMAGE_SIZE,\n",
        "    crop_area_factor=(0.8, 1.0),\n",
        "    aspect_ratio_factor=(0.9, 1.1),\n",
        ")\n",
        "augmenters += [crop_and_resize]\n",
        "\n",
        "image_batch = crop_and_resize(image_batch)\n",
        "keras_cv.visualization.plot_image_gallery(\n",
        "    image_batch,\n",
        "    rows=3,\n",
        "    cols=3,\n",
        "    value_range=(0, 255),\n",
        "    show=True,\n",
        ")"
      ]
    },
    {
      "cell_type": "markdown",
      "metadata": {
        "id": "iBzr1I8z-A64"
      },
      "source": [
        "Great!  We are now working with a batch of dense images.\n",
        "Next up, lets include some spatial and color-based jitter to our training set.\n",
        "This will allow us to produce a classifier that is robust to lighting flickers,\n",
        "shadows, and more.\n",
        "\n",
        "There are limitless ways to augment an image by altering color and spatial\n",
        "features, but perhaps the most battle tested technique is\n",
        "[`RandAugment`](https://arxiv.org/abs/1909.13719).\n",
        "`RandAugment` is actually a set of 10 different augmentations:\n",
        "`AutoContrast`, `Equalize`, `Solarize`, `RandomColorJitter`, `RandomContrast`,\n",
        "`RandomBrightness`, `ShearX`, `ShearY`, `TranslateX` and `TranslateY`.\n",
        "At inference time, `num_augmentations` augmenters are sampled for each image,\n",
        "and random magnitude factors are sampled for each.\n",
        "These augmentations are then applied sequentially.\n",
        "\n",
        "KerasCV makes tuning these parameters easy using the `augmentations_per_image`\n",
        "and `magnitude` parameters!\n",
        "Let's take it for a spin:"
      ]
    },
    {
      "cell_type": "code",
      "execution_count": null,
      "metadata": {
        "id": "GYs8X9_2-A64"
      },
      "outputs": [],
      "source": [
        "rand_augment = keras_cv.layers.RandAugment(\n",
        "    augmentations_per_image=3,\n",
        "    value_range=(0, 255),\n",
        "    magnitude=0.3,\n",
        "    magnitude_stddev=0.2,\n",
        "    rate=1.0,\n",
        ")\n",
        "augmenters += [rand_augment]\n",
        "\n",
        "image_batch = rand_augment(image_batch)\n",
        "keras_cv.visualization.plot_image_gallery(\n",
        "    image_batch,\n",
        "    rows=3,\n",
        "    cols=3,\n",
        "    value_range=(0, 255),\n",
        "    show=True,\n",
        ")"
      ]
    },
    {
      "cell_type": "markdown",
      "metadata": {
        "id": "-M0cyyWC-A64"
      },
      "source": [
        "Looks great; but we're not done yet!\n",
        "What if an image is missing one critical feature of a class?  For example, what\n",
        "if a leaf is blocking the view of a cat's ear, but our classifier learned to\n",
        "classify cats simply by observing their ears?\n",
        "\n",
        "One easy approach to tackling this is to use `RandomCutout`, which randomly\n",
        "strips out a sub-section of the image:"
      ]
    },
    {
      "cell_type": "code",
      "execution_count": null,
      "metadata": {
        "id": "tLuLNnew-A64"
      },
      "outputs": [],
      "source": [
        "random_cutout = keras_cv.layers.RandomCutout(width_factor=0.4, height_factor=0.4)\n",
        "keras_cv.visualization.plot_image_gallery(\n",
        "    random_cutout(image_batch),\n",
        "    rows=3,\n",
        "    cols=3,\n",
        "    value_range=(0, 255),\n",
        "    show=True,\n",
        ")"
      ]
    },
    {
      "cell_type": "markdown",
      "metadata": {
        "id": "W9oh8sTL-A64"
      },
      "source": [
        "While this tackles the problem reasonably well, it can cause the classifier to\n",
        "develop responses to borders between features and black pixel areas caused by\n",
        "the cutout.\n",
        "\n",
        "[`CutMix`](https://arxiv.org/abs/1905.04899) solves the same issue by using\n",
        "a more complex (and more effective) technique.\n",
        "Instead of replacing the cut-out areas with black pixels, `CutMix` replaces\n",
        "these regions with regions of other images sampled from within your training\n",
        "set!\n",
        "Following this replacement, the image's classification label is updated to be a\n",
        "blend of the original and mixed image's class label.\n",
        "\n",
        "What does this look like in practice?  Let's check it out:"
      ]
    },
    {
      "cell_type": "code",
      "execution_count": null,
      "metadata": {
        "id": "GKWSX3-9-A64"
      },
      "outputs": [],
      "source": [
        "cut_mix = keras_cv.layers.CutMix()\n",
        "# CutMix needs to modify both images and labels\n",
        "inputs = {\"images\": image_batch, \"labels\": label_batch}\n",
        "\n",
        "keras_cv.visualization.plot_image_gallery(\n",
        "    cut_mix(inputs)[\"images\"],\n",
        "    rows=3,\n",
        "    cols=3,\n",
        "    value_range=(0, 255),\n",
        "    show=True,\n",
        ")"
      ]
    },
    {
      "cell_type": "markdown",
      "metadata": {
        "id": "vvBs3ITy-A67"
      },
      "source": [
        "Let's hold off from adding it to our augmenter for a minute - more on that\n",
        "soon!\n",
        "\n",
        "Next, let's look into `MixUp()`.\n",
        "Unfortunately, while `MixUp()` has been empirically shown to *substantially*\n",
        "improve both the robustness and the generalization of the trained model,\n",
        "it is not well-understood why such improvement occurs... but\n",
        "a little alchemy never hurt anyone!\n",
        "\n",
        "`MixUp()` works by sampling two images from a batch, then proceeding to\n",
        "literally blend together their pixel intensities as well as their classification\n",
        "labels.\n",
        "\n",
        "Let's see it in action:"
      ]
    },
    {
      "cell_type": "code",
      "execution_count": null,
      "metadata": {
        "id": "QS1r1KDk-A67"
      },
      "outputs": [],
      "source": [
        "mix_up = keras_cv.layers.MixUp()\n",
        "# MixUp needs to modify both images and labels\n",
        "inputs = {\"images\": image_batch, \"labels\": label_batch}\n",
        "\n",
        "keras_cv.visualization.plot_image_gallery(\n",
        "    mix_up(inputs)[\"images\"],\n",
        "    rows=3,\n",
        "    cols=3,\n",
        "    value_range=(0, 255),\n",
        "    show=True,\n",
        ")"
      ]
    },
    {
      "cell_type": "markdown",
      "metadata": {
        "id": "Dags79U0-A67"
      },
      "source": [
        "If you look closely, you'll see that the images have been blended together.\n",
        "\n",
        "Instead of applying `CutMix()` and `MixUp()` to every image, we instead pick\n",
        "one or the other to apply to each batch.\n",
        "This can be expressed using `keras_cv.layers.RandomChoice()`"
      ]
    },
    {
      "cell_type": "code",
      "execution_count": null,
      "metadata": {
        "id": "JuJbQWBb-A67"
      },
      "outputs": [],
      "source": [
        "cut_mix_or_mix_up = keras_cv.layers.RandomChoice([cut_mix, mix_up], batchwise=True)\n",
        "augmenters += [cut_mix_or_mix_up]"
      ]
    },
    {
      "cell_type": "markdown",
      "metadata": {
        "id": "hTbNJwcg-A68"
      },
      "source": [
        "Now let's apply our final augmenter to the training data:"
      ]
    },
    {
      "cell_type": "code",
      "execution_count": null,
      "metadata": {
        "id": "wJIYa5PY-A68"
      },
      "outputs": [],
      "source": [
        "\n",
        "def create_augmenter_fn(augmenters):\n",
        "    def augmenter_fn(inputs):\n",
        "        for augmenter in augmenters:\n",
        "            inputs = augmenter(inputs)\n",
        "        return inputs\n",
        "\n",
        "    return augmenter_fn\n",
        "\n",
        "\n",
        "augmenter_fn = create_augmenter_fn(augmenters)\n",
        "train_ds = train_ds.map(augmenter_fn, num_parallel_calls=tf.data.AUTOTUNE)\n",
        "\n",
        "image_batch = next(iter(train_ds.take(1)))[\"images\"]\n",
        "keras_cv.visualization.plot_image_gallery(\n",
        "    image_batch,\n",
        "    rows=3,\n",
        "    cols=3,\n",
        "    value_range=(0, 255),\n",
        "    show=True,\n",
        ")"
      ]
    },
    {
      "cell_type": "markdown",
      "metadata": {
        "id": "83Ec5ThB-A68"
      },
      "source": [
        "We also need to resize our evaluation set to get dense batches of the image size\n",
        "expected by our model. We use the deterministic `keras_cv.layers.Resizing` in\n",
        "this case to avoid adding noise to our evaluation metric."
      ]
    },
    {
      "cell_type": "code",
      "execution_count": null,
      "metadata": {
        "id": "D_sgEwqR-A68"
      },
      "outputs": [],
      "source": [
        "inference_resizing = keras_cv.layers.Resizing(\n",
        "    IMAGE_SIZE[0], IMAGE_SIZE[1], crop_to_aspect_ratio=True\n",
        ")\n",
        "eval_ds = eval_ds.map(inference_resizing, num_parallel_calls=tf.data.AUTOTUNE)\n",
        "\n",
        "image_batch = next(iter(eval_ds.take(1)))[\"images\"]\n",
        "keras_cv.visualization.plot_image_gallery(\n",
        "    image_batch,\n",
        "    rows=3,\n",
        "    cols=3,\n",
        "    value_range=(0, 255),\n",
        "    show=True,\n",
        ")"
      ]
    },
    {
      "cell_type": "markdown",
      "metadata": {
        "id": "nr7j-old-A68"
      },
      "source": [
        "Finally, lets unpackage our datasets and prepare to pass them to `model.fit()`,\n",
        "which accepts a tuple of `(images, labels)`."
      ]
    },
    {
      "cell_type": "code",
      "execution_count": null,
      "metadata": {
        "id": "6lPbdmoo-A68"
      },
      "outputs": [],
      "source": [
        "\n",
        "def unpackage_dict(inputs):\n",
        "    return inputs[\"images\"], inputs[\"labels\"]\n",
        "\n",
        "\n",
        "train_ds = train_ds.map(unpackage_dict, num_parallel_calls=tf.data.AUTOTUNE)\n",
        "eval_ds = eval_ds.map(unpackage_dict, num_parallel_calls=tf.data.AUTOTUNE)"
      ]
    },
    {
      "cell_type": "markdown",
      "metadata": {
        "id": "xKQgJ-Pu-A68"
      },
      "source": [
        "Data augmentation is by far the hardest piece of training a modern\n",
        "classifier.\n",
        "Congratulations on making it this far!\n",
        "\n",
        "### Optimizer Tuning\n",
        "\n",
        "To achieve optimal performance, we need to use a learning rate schedule instead\n",
        "of a single learning rate. While we won't go into detail on the Cosine decay\n",
        "with warmup schedule used here, [you can read more about it\n",
        "here](https://scorrea92.medium.com/cosine-learning-rate-decay-e8b50aa455b)."
      ]
    },
    {
      "cell_type": "code",
      "execution_count": null,
      "metadata": {
        "id": "21zZj-dm-A68"
      },
      "outputs": [],
      "source": [
        "\n",
        "def lr_warmup_cosine_decay(\n",
        "    global_step,\n",
        "    warmup_steps,\n",
        "    hold=0,\n",
        "    total_steps=0,\n",
        "    start_lr=0.0,\n",
        "    target_lr=1e-2,\n",
        "):\n",
        "    # Cosine decay\n",
        "    learning_rate = (\n",
        "        0.5\n",
        "        * target_lr\n",
        "        * (\n",
        "            1\n",
        "            + ops.cos(\n",
        "                math.pi\n",
        "                * ops.convert_to_tensor(\n",
        "                    global_step - warmup_steps - hold, dtype=\"float32\"\n",
        "                )\n",
        "                / ops.convert_to_tensor(\n",
        "                    total_steps - warmup_steps - hold, dtype=\"float32\"\n",
        "                )\n",
        "            )\n",
        "        )\n",
        "    )\n",
        "\n",
        "    warmup_lr = target_lr * (global_step / warmup_steps)\n",
        "\n",
        "    if hold > 0:\n",
        "        learning_rate = ops.where(\n",
        "            global_step > warmup_steps + hold, learning_rate, target_lr\n",
        "        )\n",
        "\n",
        "    learning_rate = ops.where(global_step < warmup_steps, warmup_lr, learning_rate)\n",
        "    return learning_rate\n",
        "\n",
        "\n",
        "class WarmUpCosineDecay(schedules.LearningRateSchedule):\n",
        "    def __init__(self, warmup_steps, total_steps, hold, start_lr=0.0, target_lr=1e-2):\n",
        "        super().__init__()\n",
        "        self.start_lr = start_lr\n",
        "        self.target_lr = target_lr\n",
        "        self.warmup_steps = warmup_steps\n",
        "        self.total_steps = total_steps\n",
        "        self.hold = hold\n",
        "\n",
        "    def __call__(self, step):\n",
        "        lr = lr_warmup_cosine_decay(\n",
        "            global_step=step,\n",
        "            total_steps=self.total_steps,\n",
        "            warmup_steps=self.warmup_steps,\n",
        "            start_lr=self.start_lr,\n",
        "            target_lr=self.target_lr,\n",
        "            hold=self.hold,\n",
        "        )\n",
        "\n",
        "        return ops.where(step > self.total_steps, 0.0, lr)\n"
      ]
    },
    {
      "cell_type": "markdown",
      "metadata": {
        "id": "XE05AFCj-A68"
      },
      "source": [
        "![WarmUpCosineDecay schedule](https://i.imgur.com/YCr5pII.png)\n",
        "\n",
        "The schedule looks a as we expect.\n",
        "\n",
        "Next let's construct this optimizer:"
      ]
    },
    {
      "cell_type": "code",
      "execution_count": null,
      "metadata": {
        "id": "xpgJa5Qs-A68"
      },
      "outputs": [],
      "source": [
        "total_images = 9000\n",
        "total_steps = (total_images // BATCH_SIZE) * EPOCHS\n",
        "warmup_steps = int(0.1 * total_steps)\n",
        "hold_steps = int(0.45 * total_steps)\n",
        "schedule = WarmUpCosineDecay(\n",
        "    start_lr=0.05,\n",
        "    target_lr=1e-2,\n",
        "    warmup_steps=warmup_steps,\n",
        "    total_steps=total_steps,\n",
        "    hold=hold_steps,\n",
        ")\n",
        "optimizer = optimizers.SGD(\n",
        "    weight_decay=5e-4,\n",
        "    learning_rate=schedule,\n",
        "    momentum=0.9,\n",
        ")"
      ]
    },
    {
      "cell_type": "markdown",
      "metadata": {
        "id": "2s1ttKGT-A68"
      },
      "source": [
        "At long last, we can now build our model and call `fit()`!\n",
        "`keras_cv.models.EfficientNetV2B0Backbone()` is a convenience alias for\n",
        "`keras_cv.models.EfficientNetV2Backbone.from_preset('efficientnetv2_b0')`.\n",
        "Note that this preset does not come with any pretrained weights."
      ]
    },
    {
      "cell_type": "code",
      "execution_count": null,
      "metadata": {
        "id": "s9qgUy6b-A68"
      },
      "outputs": [],
      "source": [
        "backbone = keras_cv.models.EfficientNetV2B0Backbone()\n",
        "model = keras.Sequential(\n",
        "    [\n",
        "        backbone,\n",
        "        keras.layers.GlobalMaxPooling2D(),\n",
        "        keras.layers.Dropout(rate=0.5),\n",
        "        keras.layers.Dense(101, activation=\"softmax\"),\n",
        "    ]\n",
        ")"
      ]
    },
    {
      "cell_type": "markdown",
      "metadata": {
        "id": "6b5R7ykz-A68"
      },
      "source": [
        "Since the labels produced by MixUp() and CutMix() are somewhat artificial, we\n",
        "employ label smoothing to prevent the model from overfitting to artifacts of\n",
        "this augmentation process."
      ]
    },
    {
      "cell_type": "code",
      "execution_count": null,
      "metadata": {
        "id": "eE7aZIhj-A69"
      },
      "outputs": [],
      "source": [
        "loss = losses.CategoricalCrossentropy(label_smoothing=0.1)"
      ]
    },
    {
      "cell_type": "markdown",
      "metadata": {
        "id": "iyOjF2oC-A69"
      },
      "source": [
        "Let's compile our model:"
      ]
    },
    {
      "cell_type": "code",
      "execution_count": null,
      "metadata": {
        "id": "7luFntF8-A69"
      },
      "outputs": [],
      "source": [
        "model.compile(\n",
        "    loss=loss,\n",
        "    optimizer=optimizer,\n",
        "    metrics=[\n",
        "        metrics.CategoricalAccuracy(),\n",
        "        metrics.TopKCategoricalAccuracy(k=5),\n",
        "    ],\n",
        ")"
      ]
    },
    {
      "cell_type": "markdown",
      "metadata": {
        "id": "KEmcCwSs-A69"
      },
      "source": [
        "and finally call fit()."
      ]
    },
    {
      "cell_type": "code",
      "execution_count": null,
      "metadata": {
        "id": "FM2qdSSY-A69"
      },
      "outputs": [],
      "source": [
        "model.fit(\n",
        "    train_ds,\n",
        "    epochs=EPOCHS,\n",
        "    validation_data=eval_ds,\n",
        ")"
      ]
    },
    {
      "cell_type": "markdown",
      "metadata": {
        "id": "zzDiZa1H-A69"
      },
      "source": [
        "Congratulations!  You now know how to train a powerful image classifier from\n",
        "scratch in KerasCV.\n",
        "Depending on the availability of labeled data for your application, training\n",
        "from scratch may or may not be more powerful than using transfer learning in\n",
        "addition to the data augmentations discussed above. For smaller datasets,\n",
        "pretrained models generally produce high accuracy and faster convergence."
      ]
    },
    {
      "cell_type": "markdown",
      "metadata": {
        "id": "m01kv7ja-A69"
      },
      "source": [
        "## Conclusions\n",
        "\n",
        "While image classification is perhaps the simplest problem in computer vision,\n",
        "the modern landscape has numerous complex components.\n",
        "Luckily, KerasCV offers robust, production-grade APIs to make assembling most\n",
        "of these components possible in one line of code.\n",
        "Through the use of KerasCV's `ImageClassifier` API, pretrained weights, and\n",
        "KerasCV data augmentations you can assemble everything you need to train a\n",
        "powerful classifier in a few hundred lines of code!\n",
        "\n",
        "As a follow up exercise, give the following a try:\n",
        "\n",
        "- Fine tune a KerasCV classifier on your own dataset\n",
        "- Learn more about [KerasCV's data augmentations](https://keras.io/guides/keras_cv/cut_mix_mix_up_and_rand_augment/)\n",
        "- Check out how we train our models on [ImageNet](https://github.com/keras-team/keras-cv/blob/master/examples/training/classification/imagenet/basic_training.py)"
      ]
    }
  ],
  "metadata": {
    "accelerator": "GPU",
    "colab": {
      "name": "classification_with_keras_cv",
      "provenance": [],
      "toc_visible": true
    },
    "kernelspec": {
      "display_name": "Python 3",
      "language": "python",
      "name": "python3"
    },
    "language_info": {
      "codemirror_mode": {
        "name": "ipython",
        "version": 3
      },
      "file_extension": ".py",
      "mimetype": "text/x-python",
      "name": "python",
      "nbconvert_exporter": "python",
      "pygments_lexer": "ipython3",
      "version": "3.7.0"
    }
  },
  "nbformat": 4,
  "nbformat_minor": 0
}