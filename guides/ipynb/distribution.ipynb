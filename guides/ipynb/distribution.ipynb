{
 "cells": [
  {
   "cell_type": "markdown",
   "metadata": {
    "colab_type": "text"
   },
   "source": [
    "# Distributed training with Keras 3\n",
    "\n",
    "**Author:** [Qianli Zhu](https://github.com/qlzh727)<br>\n",
    "**Date created:** 2023/11/07<br>\n",
    "**Last modified:** 2023/11/07<br>\n",
    "**Description:** Complete guide to the distribution API for multi-backend Keras."
   ]
  },
  {
   "cell_type": "markdown",
   "metadata": {
    "colab_type": "text"
   },
   "source": [
    "## Introduction\n",
    "\n",
    "The Keras distribution API is a new interface designed to facilitate\n",
    "distributed deep learning across a variety of backends like JAX, TensorFlow and\n",
    "PyTorch. This powerful API introduces a suite of tools enabling data and model\n",
    "parallelism, allowing for efficient scaling of deep learning models on multiple\n",
    "accelerators and hosts. Whether leveraging the power of GPUs or TPUs, the API\n",
    "provides a streamlined approach to initializing distributed environments,\n",
    "defining device meshes, and orchestrating the layout of tensors across\n",
    "computational resources. Through classes like `DataParallel` and\n",
    "`ModelParallel`, it abstracts the complexity involved in parallel computation,\n",
    "making it easier for developers to accelerate their machine learning\n",
    "workflows."
   ]
  },
  {
   "cell_type": "markdown",
   "metadata": {
    "colab_type": "text"
   },
   "source": [
    "## How it works\n",
    "\n",
    "The Keras distribution API provides a global programming model that allows\n",
    "developers to compose applications that operate on tensors in a global context\n",
    "(as if working with a single device) while\n",
    "automatically managing distribution across many devices. The API leverages the\n",
    "underlying framework (e.g. JAX) to distribute the program and tensors according to the\n",
    "sharding directives through a procedure called single program, multiple data\n",
    "(SPMD) expansion.\n",
    "\n",
    "By decoupling the application from sharding directives, the API enables running\n",
    "the same application on a single device, multiple devices, or even multiple\n",
    "clients, while preserving its global semantics."
   ]
  },
  {
   "cell_type": "markdown",
   "metadata": {
    "colab_type": "text"
   },
   "source": [
    "## Setup"
   ]
  },
  {
   "cell_type": "code",
   "execution_count": 0,
   "metadata": {
    "colab_type": "code"
   },
   "outputs": [],
   "source": [
    "import os\n",
    "\n",
    "# The distribution API is only implemented for the JAX backend for now.\n",
    "os.environ[\"KERAS_BACKEND\"] = \"jax\"\n",
    "\n",
    "import keras\n",
    "from keras import layers\n",
    "import jax\n",
    "import numpy as np\n",
    "from tensorflow import data as tf_data  # For dataset input."
   ]
  },
  {
   "cell_type": "markdown",
   "metadata": {
    "colab_type": "text"
   },
   "source": [
    "## `DeviceMesh` and `TensorLayout`\n",
    "\n",
    "The `keras.distribution.DeviceMesh` class in Keras distribution API represents a cluster of\n",
    "computational devices configured for distributed computation. It aligns with\n",
    "similar concepts in [`jax.sharding.Mesh`](https://jax.readthedocs.io/en/latest/jax.sharding.html#jax.sharding.Mesh) and\n",
    "[`tf.dtensor.Mesh`](https://www.tensorflow.org/api_docs/python/tf/experimental/dtensor/Mesh),\n",
    "where it's used to map the physical devices to a logical mesh structure.\n",
    "\n",
    "The `TensorLayout` class then specifies how tensors are distributed across the\n",
    "`DeviceMesh`, detailing the sharding of tensors along specified axes that\n",
    "correspond to the names of the axes in the `DeviceMesh`.\n",
    "\n",
    "You can find more detailed concept explainers in the\n",
    "[TensorFlow DTensor guide](https://www.tensorflow.org/guide/dtensor_overview#dtensors_model_of_distributed_tensors)."
   ]
  },
  {
   "cell_type": "code",
   "execution_count": 0,
   "metadata": {
    "colab_type": "code"
   },
   "outputs": [],
   "source": [
    "# Retrieve the local available gpu devices.\n",
    "devices = jax.devices(\"gpu\")  # Assume it has 8 local GPUs.\n",
    "\n",
    "# Define a 2x4 device mesh with data and model parallel axes\n",
    "mesh = keras.distribution.DeviceMesh(\n",
    "    shape=(2, 4), axis_names=[\"data\", \"model\"], devices=devices\n",
    ")\n",
    "\n",
    "# A 2D layout, which describes how a tensor is distributed across the\n",
    "# mesh. The layout can be visualized as a 2D grid with \"model\" as rows and\n",
    "# \"data\" as columns, and it is a [4, 2] grid when it mapped to the physical\n",
    "# devices on the mesh.\n",
    "layout_2d = keras.distribution.TensorLayout(axes=(\"model\", \"data\"), device_mesh=mesh)\n",
    "\n",
    "# A 4D layout which could be used for data parallel of a image input.\n",
    "replicated_layout_4d = keras.distribution.TensorLayout(\n",
    "    axes=(\"data\", None, None, None), device_mesh=mesh\n",
    ")"
   ]
  },
  {
   "cell_type": "markdown",
   "metadata": {
    "colab_type": "text"
   },
   "source": [
    "## Distribution\n",
    "\n",
    "The `Distribution` class in Keras serves as a foundational abstract class designed\n",
    "for developing custom distribution strategies. It encapsulates the core logic\n",
    "needed to distribute a model's variables, input data, and intermediate\n",
    "computations across a device mesh. As an end user, you won't have to interact\n",
    "directly with this class, but its subclasses like `DataParallel` or\n",
    "`ModelParallel`."
   ]
  },
  {
   "cell_type": "markdown",
   "metadata": {
    "colab_type": "text"
   },
   "source": [
    "## DataParallel\n",
    "\n",
    "The `DataParallel` class in the Keras distribution API is designed for the\n",
    "data parallelism strategy in distributed training, where the model weights are\n",
    "replicated across all devices in the `DeviceMesh`, and each device processes a\n",
    "portion of the input data.\n",
    "\n",
    "Here is a sample usage of this class."
   ]
  },
  {
   "cell_type": "code",
   "execution_count": 0,
   "metadata": {
    "colab_type": "code"
   },
   "outputs": [],
   "source": [
    "# Create DataParallel with list of devices.\n",
    "# As a shortcut, the devices can be skipped,\n",
    "# and Keras will detect all local available devices.\n",
    "# E.g. data_parallel = DataParallel()\n",
    "data_parallel = keras.distribution.DataParallel(devices=devices)\n",
    "\n",
    "# Or you can choose to create DataParallel with a 1D `DeviceMesh`.\n",
    "mesh_1d = keras.distribution.DeviceMesh(\n",
    "    shape=(8,), axis_names=[\"data\"], devices=devices\n",
    ")\n",
    "data_parallel = keras.distribution.DataParallel(device_mesh=mesh_1d)\n",
    "\n",
    "inputs = np.random.normal(size=(128, 28, 28, 1))\n",
    "labels = np.random.normal(size=(128, 10))\n",
    "dataset = tf_data.Dataset.from_tensor_slices((inputs, labels)).batch(16)\n",
    "\n",
    "# Set the global distribution.\n",
    "keras.distribution.set_distribution(data_parallel)\n",
    "\n",
    "# Note that all the model weights from here on are replicated to\n",
    "# all the devices of the `DeviceMesh`. This includes the RNG\n",
    "# state, optimizer states, metrics, etc. The dataset fed into `model.fit` or\n",
    "# `model.evaluate` will be split evenly on the batch dimension, and sent to\n",
    "# all the devices. You don't have to do any manual aggregration of losses,\n",
    "# since all the computation happens in a global context.\n",
    "inputs = layers.Input(shape=(28, 28, 1))\n",
    "y = layers.Flatten()(inputs)\n",
    "y = layers.Dense(units=200, use_bias=False, activation=\"relu\")(y)\n",
    "y = layers.Dropout(0.4)(y)\n",
    "y = layers.Dense(units=10, activation=\"softmax\")(y)\n",
    "model = keras.Model(inputs=inputs, outputs=y)\n",
    "\n",
    "model.compile(loss=\"mse\")\n",
    "model.fit(dataset, epochs=3)\n",
    "model.evaluate(dataset)"
   ]
  },
  {
   "cell_type": "markdown",
   "metadata": {
    "colab_type": "text"
   },
   "source": [
    "## `ModelParallel` and `LayoutMap`\n",
    "\n",
    "`ModelParallel` will be mostly useful when model weights are too large to fit\n",
    "on a single accelerator. This setting allows you to spit your model weights or\n",
    "activation tensors across all the devices on the `DeviceMesh`, and enable the\n",
    "horizontal scaling for the large models.\n",
    "\n",
    "Unlike the `DataParallel` model where all weights are fully replicated,\n",
    "the weights layout under `ModelParallel` usually need some customization for\n",
    "best performances. We introduce `LayoutMap` to let you specify the\n",
    "`TensorLayout` for any weights and intermediate tensors from global perspective.\n",
    "\n",
    "`LayoutMap` is a dict-like object that maps a string to `TensorLayout`\n",
    "instances. It behaves differently from a normal Python dict in that the string\n",
    "key is treated as a regex when retrieving the value. The class allows you to\n",
    "define the naming schema of `TensorLayout` and then retrieve the corresponding\n",
    "`TensorLayout` instance. Typically, the key used to query\n",
    "is the `variable.path` attribute,  which is the identifier of the variable.\n",
    "As a shortcut, a tuple or list of axis\n",
    "names is also allowed when inserting a value, and it will be converted to\n",
    "`TensorLayout`.\n",
    "\n",
    "The `LayoutMap` can also optionally contain a `DeviceMesh` to populate the\n",
    "`TensorLayout.device_mesh` if it is not set. When retrieving a layout with a\n",
    "key, and if there isn't an exact match, all existing keys in the layout map will\n",
    "be treated as regex and matched against the input key again. If there are\n",
    "multiple matches, a `ValueError` is raised. If no matches are found, `None` is\n",
    "returned."
   ]
  },
  {
   "cell_type": "code",
   "execution_count": 0,
   "metadata": {
    "colab_type": "code"
   },
   "outputs": [],
   "source": [
    "mesh_2d = keras.distribution.DeviceMesh(\n",
    "    shape=(2, 4), axis_names=[\"data\", \"model\"], devices=devices\n",
    ")\n",
    "layout_map = keras.distribution.LayoutMap(mesh_2d)\n",
    "# The rule below means that for any weights that match with d1/kernel, it\n",
    "# will be sharded with model dimensions (4 devices), same for the d1/bias.\n",
    "# All other weights will be fully replicated.\n",
    "layout_map[\"d1/kernel\"] = (None, \"model\")\n",
    "layout_map[\"d1/bias\"] = (\"model\",)\n",
    "\n",
    "# You can also set the layout for the layer output like\n",
    "layout_map[\"d2/output\"] = (\"data\", None)\n",
    "\n",
    "model_parallel = keras.distribution.ModelParallel(layout_map, batch_dim_name=\"data\")\n",
    "\n",
    "keras.distribution.set_distribution(model_parallel)\n",
    "\n",
    "inputs = layers.Input(shape=(28, 28, 1))\n",
    "y = layers.Flatten()(inputs)\n",
    "y = layers.Dense(units=200, use_bias=False, activation=\"relu\", name=\"d1\")(y)\n",
    "y = layers.Dropout(0.4)(y)\n",
    "y = layers.Dense(units=10, activation=\"softmax\", name=\"d2\")(y)\n",
    "model = keras.Model(inputs=inputs, outputs=y)\n",
    "\n",
    "# The data will be sharded across the \"data\" dimension of the method, which\n",
    "# has 2 devices.\n",
    "model.compile(loss=\"mse\")\n",
    "model.fit(dataset, epochs=3)\n",
    "model.evaluate(dataset)"
   ]
  },
  {
   "cell_type": "markdown",
   "metadata": {
    "colab_type": "text"
   },
   "source": [
    "It is also easy to change the mesh structure to tune the computation between\n",
    "more data parallel or model parallel. You can do this by adjusting the shape of\n",
    "the mesh. And no changes are needed for any other code."
   ]
  },
  {
   "cell_type": "code",
   "execution_count": 0,
   "metadata": {
    "colab_type": "code"
   },
   "outputs": [],
   "source": [
    "full_data_parallel_mesh = keras.distribution.DeviceMesh(\n",
    "    shape=(8, 1), axis_names=[\"data\", \"model\"], devices=devices\n",
    ")\n",
    "more_data_parallel_mesh = keras.distribution.DeviceMesh(\n",
    "    shape=(4, 2), axis_names=[\"data\", \"model\"], devices=devices\n",
    ")\n",
    "more_model_parallel_mesh = keras.distribution.DeviceMesh(\n",
    "    shape=(2, 4), axis_names=[\"data\", \"model\"], devices=devices\n",
    ")\n",
    "full_model_parallel_mesh = keras.distribution.DeviceMesh(\n",
    "    shape=(1, 8), axis_names=[\"data\", \"model\"], devices=devices\n",
    ")"
   ]
  },
  {
   "cell_type": "markdown",
   "metadata": {
    "colab_type": "text"
   },
   "source": [
    "### Further reading\n",
    "\n",
    "1. [JAX Distributed arrays and automatic parallelization](https://jax.readthedocs.io/en/latest/notebooks/Distributed_arrays_and_automatic_parallelization.html)\n",
    "2. [JAX sharding module](https://jax.readthedocs.io/en/latest/jax.sharding.html)\n",
    "3. [TensorFlow Distributed training with DTensors](https://www.tensorflow.org/tutorials/distribute/dtensor_ml_tutorial)\n",
    "4. [TensorFlow DTensor concepts](https://www.tensorflow.org/guide/dtensor_overview)\n",
    "5. [Using DTensors with tf.keras](https://www.tensorflow.org/tutorials/distribute/dtensor_keras_tutorial)"
   ]
  }
 ],
 "metadata": {
  "accelerator": "GPU",
  "colab": {
   "collapsed_sections": [],
   "name": "distribution",
   "private_outputs": false,
   "provenance": [],
   "toc_visible": true
  },
  "kernelspec": {
   "display_name": "Python 3",
   "language": "python",
   "name": "python3"
  },
  "language_info": {
   "codemirror_mode": {
    "name": "ipython",
    "version": 3
   },
   "file_extension": ".py",
   "mimetype": "text/x-python",
   "name": "python",
   "nbconvert_exporter": "python",
   "pygments_lexer": "ipython3",
   "version": "3.7.0"
  }
 },
 "nbformat": 4,
 "nbformat_minor": 0
}