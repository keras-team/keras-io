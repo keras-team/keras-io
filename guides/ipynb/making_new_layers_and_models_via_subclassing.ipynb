{
 "cells": [
  {
   "cell_type": "markdown",
   "metadata": {
    "colab_type": "text"
   },
   "source": [
    "# Making new layers and models via subclassing\n",
    "\n",
    "**Author:** [fchollet](https://twitter.com/fchollet)<br>\n",
    "**Date created:** 2019/03/01<br>\n",
    "**Last modified:** 2023/06/25<br>\n",
    "**Description:** Complete guide to writing `Layer` and `Model` objects from scratch."
   ]
  },
  {
   "cell_type": "markdown",
   "metadata": {
    "colab_type": "text"
   },
   "source": [
    "## Introduction\n",
    "\n",
    "This guide will cover everything you need to know to build your own\n",
    "subclassed layers and models. In particular, you'll learn about the following features:\n",
    "\n",
    "- The `Layer` class\n",
    "- The `add_weight()` method\n",
    "- Trainable and non-trainable weights\n",
    "- The `build()` method\n",
    "- Making sure your layers can be used with any backend\n",
    "- The `add_loss()` method\n",
    "- The `training` argument in `call()`\n",
    "- The `mask` argument in `call()`\n",
    "- Making sure your layers can be serialized\n",
    "\n",
    "Let's dive in."
   ]
  },
  {
   "cell_type": "markdown",
   "metadata": {
    "colab_type": "text"
   },
   "source": [
    "## Setup"
   ]
  },
  {
   "cell_type": "code",
   "execution_count": 0,
   "metadata": {
    "colab_type": "code"
   },
   "outputs": [],
   "source": [
    "import numpy as np\n",
    "import keras\n",
    "from keras import ops\n",
    "from keras import layers"
   ]
  },
  {
   "cell_type": "markdown",
   "metadata": {
    "colab_type": "text"
   },
   "source": [
    "## The `Layer` class: the combination of state (weights) and some computation\n",
    "\n",
    "One of the central abstractions in Keras is the `Layer` class. A layer\n",
    "encapsulates both a state (the layer's \"weights\") and a transformation from\n",
    "inputs to outputs (a \"call\", the layer's forward pass).\n",
    "\n",
    "Here's a densely-connected layer. It has two state variables:\n",
    "the variables `w` and `b`."
   ]
  },
  {
   "cell_type": "code",
   "execution_count": 0,
   "metadata": {
    "colab_type": "code"
   },
   "outputs": [],
   "source": [
    "\n",
    "class Linear(keras.layers.Layer):\n",
    "    def __init__(self, units=32, input_dim=32):\n",
    "        super().__init__()\n",
    "        self.w = self.add_weight(\n",
    "            shape=(input_dim, units),\n",
    "            initializer=\"random_normal\",\n",
    "            trainable=True,\n",
    "        )\n",
    "        self.b = self.add_weight(shape=(units,), initializer=\"zeros\", trainable=True)\n",
    "\n",
    "    def call(self, inputs):\n",
    "        return ops.matmul(inputs, self.w) + self.b\n"
   ]
  },
  {
   "cell_type": "markdown",
   "metadata": {
    "colab_type": "text"
   },
   "source": [
    "You would use a layer by calling it on some tensor input(s), much like a Python\n",
    "function."
   ]
  },
  {
   "cell_type": "code",
   "execution_count": 0,
   "metadata": {
    "colab_type": "code"
   },
   "outputs": [],
   "source": [
    "x = ops.ones((2, 2))\n",
    "linear_layer = Linear(4, 2)\n",
    "y = linear_layer(x)\n",
    "print(y)"
   ]
  },
  {
   "cell_type": "markdown",
   "metadata": {
    "colab_type": "text"
   },
   "source": [
    "Note that the weights `w` and `b` are automatically tracked by the layer upon\n",
    "being set as layer attributes:"
   ]
  },
  {
   "cell_type": "code",
   "execution_count": 0,
   "metadata": {
    "colab_type": "code"
   },
   "outputs": [],
   "source": [
    "assert linear_layer.weights == [linear_layer.w, linear_layer.b]"
   ]
  },
  {
   "cell_type": "markdown",
   "metadata": {
    "colab_type": "text"
   },
   "source": [
    "## Layers can have non-trainable weights\n",
    "\n",
    "Besides trainable weights, you can add non-trainable weights to a layer as\n",
    "well. Such weights are meant not to be taken into account during\n",
    "backpropagation, when you are training the layer.\n",
    "\n",
    "Here's how to add and use a non-trainable weight:"
   ]
  },
  {
   "cell_type": "code",
   "execution_count": 0,
   "metadata": {
    "colab_type": "code"
   },
   "outputs": [],
   "source": [
    "\n",
    "class ComputeSum(keras.layers.Layer):\n",
    "    def __init__(self, input_dim):\n",
    "        super().__init__()\n",
    "        self.total = self.add_weight(\n",
    "            initializer=\"zeros\", shape=(input_dim,), trainable=False\n",
    "        )\n",
    "\n",
    "    def call(self, inputs):\n",
    "        self.total.assign_add(ops.sum(inputs, axis=0))\n",
    "        return self.total\n",
    "\n",
    "\n",
    "x = ops.ones((2, 2))\n",
    "my_sum = ComputeSum(2)\n",
    "y = my_sum(x)\n",
    "print(y.numpy())\n",
    "y = my_sum(x)\n",
    "print(y.numpy())"
   ]
  },
  {
   "cell_type": "markdown",
   "metadata": {
    "colab_type": "text"
   },
   "source": [
    "It's part of `layer.weights`, but it gets categorized as a non-trainable weight:"
   ]
  },
  {
   "cell_type": "code",
   "execution_count": 0,
   "metadata": {
    "colab_type": "code"
   },
   "outputs": [],
   "source": [
    "print(\"weights:\", len(my_sum.weights))\n",
    "print(\"non-trainable weights:\", len(my_sum.non_trainable_weights))\n",
    "\n",
    "# It's not included in the trainable weights:\n",
    "print(\"trainable_weights:\", my_sum.trainable_weights)"
   ]
  },
  {
   "cell_type": "markdown",
   "metadata": {
    "colab_type": "text"
   },
   "source": [
    "## Best practice: deferring weight creation until the shape of the inputs is known\n",
    "\n",
    "Our `Linear` layer above took an `input_dim` argument that was used to compute\n",
    "the shape of the weights `w` and `b` in `__init__()`:"
   ]
  },
  {
   "cell_type": "code",
   "execution_count": 0,
   "metadata": {
    "colab_type": "code"
   },
   "outputs": [],
   "source": [
    "\n",
    "class Linear(keras.layers.Layer):\n",
    "    def __init__(self, units=32, input_dim=32):\n",
    "        super().__init__()\n",
    "        self.w = self.add_weight(\n",
    "            shape=(input_dim, units),\n",
    "            initializer=\"random_normal\",\n",
    "            trainable=True,\n",
    "        )\n",
    "        self.b = self.add_weight(shape=(units,), initializer=\"zeros\", trainable=True)\n",
    "\n",
    "    def call(self, inputs):\n",
    "        return ops.matmul(inputs, self.w) + self.b\n"
   ]
  },
  {
   "cell_type": "markdown",
   "metadata": {
    "colab_type": "text"
   },
   "source": [
    "In many cases, you may not know in advance the size of your inputs, and you\n",
    "would like to lazily create weights when that value becomes known, some time\n",
    "after instantiating the layer.\n",
    "\n",
    "In the Keras API, we recommend creating layer weights in the\n",
    "`build(self, inputs_shape)` method of your layer. Like this:"
   ]
  },
  {
   "cell_type": "code",
   "execution_count": 0,
   "metadata": {
    "colab_type": "code"
   },
   "outputs": [],
   "source": [
    "\n",
    "class Linear(keras.layers.Layer):\n",
    "    def __init__(self, units=32):\n",
    "        super().__init__()\n",
    "        self.units = units\n",
    "\n",
    "    def build(self, input_shape):\n",
    "        self.w = self.add_weight(\n",
    "            shape=(input_shape[-1], self.units),\n",
    "            initializer=\"random_normal\",\n",
    "            trainable=True,\n",
    "        )\n",
    "        self.b = self.add_weight(\n",
    "            shape=(self.units,), initializer=\"random_normal\", trainable=True\n",
    "        )\n",
    "\n",
    "    def call(self, inputs):\n",
    "        return ops.matmul(inputs, self.w) + self.b\n"
   ]
  },
  {
   "cell_type": "markdown",
   "metadata": {
    "colab_type": "text"
   },
   "source": [
    "The `__call__()` method of your layer will automatically run build the first time\n",
    "it is called. You now have a layer that's lazy and thus easier to use:"
   ]
  },
  {
   "cell_type": "code",
   "execution_count": 0,
   "metadata": {
    "colab_type": "code"
   },
   "outputs": [],
   "source": [
    "# At instantiation, we don't know on what inputs this is going to get called\n",
    "linear_layer = Linear(32)\n",
    "\n",
    "# The layer's weights are created dynamically the first time the layer is called\n",
    "y = linear_layer(x)"
   ]
  },
  {
   "cell_type": "markdown",
   "metadata": {
    "colab_type": "text"
   },
   "source": [
    "Implementing `build()` separately as shown above nicely separates creating weights\n",
    "only once from using weights in every call."
   ]
  },
  {
   "cell_type": "markdown",
   "metadata": {
    "colab_type": "text"
   },
   "source": [
    "## Layers are recursively composable\n",
    "\n",
    "If you assign a Layer instance as an attribute of another Layer, the outer layer\n",
    "will start tracking the weights created by the inner layer.\n",
    "\n",
    "We recommend creating such sublayers in the `__init__()` method and leave it to\n",
    "the first `__call__()` to trigger building their weights."
   ]
  },
  {
   "cell_type": "code",
   "execution_count": 0,
   "metadata": {
    "colab_type": "code"
   },
   "outputs": [],
   "source": [
    "\n",
    "class MLPBlock(keras.layers.Layer):\n",
    "    def __init__(self):\n",
    "        super().__init__()\n",
    "        self.linear_1 = Linear(32)\n",
    "        self.linear_2 = Linear(32)\n",
    "        self.linear_3 = Linear(1)\n",
    "\n",
    "    def call(self, inputs):\n",
    "        x = self.linear_1(inputs)\n",
    "        x = keras.activations.relu(x)\n",
    "        x = self.linear_2(x)\n",
    "        x = keras.activations.relu(x)\n",
    "        return self.linear_3(x)\n",
    "\n",
    "\n",
    "mlp = MLPBlock()\n",
    "y = mlp(ops.ones(shape=(3, 64)))  # The first call to the `mlp` will create the weights\n",
    "print(\"weights:\", len(mlp.weights))\n",
    "print(\"trainable weights:\", len(mlp.trainable_weights))"
   ]
  },
  {
   "cell_type": "markdown",
   "metadata": {
    "colab_type": "text"
   },
   "source": [
    "## Backend-agnostic layers and backend-specific layers\n",
    "\n",
    "As long as a layer only uses APIs from the `keras.ops` namespace\n",
    "(or other Keras namespaces such as `keras.activations`, `keras.random`, or `keras.layers`),\n",
    "then it can be used with any backend -- TensorFlow, JAX, or PyTorch.\n",
    "\n",
    "All layers you've seen so far in this guide work with all Keras backends.\n",
    "\n",
    "The `keras.ops` namespace gives you access to:\n",
    "\n",
    "- The NumPy API, e.g. `ops.matmul`, `ops.sum`, `ops.reshape`, `ops.stack`, etc.\n",
    "- Neural networks-specific APIs such as `ops.softmax`, `ops.conv`, `ops.binary_crossentropy`, `ops.relu`, etc.\n",
    "\n",
    "You can also use backend-native APIs in your layers (such as `tf.nn` functions),\n",
    "but if you do this, then your layer will only be usable with the backend in question.\n",
    "For instance, you could write the following JAX-specific layer using `jax.numpy`:\n",
    "\n",
    "```python\n",
    "import jax\n",
    "\n",
    "class Linear(keras.layers.Layer):\n",
    "    ...\n",
    "\n",
    "    def call(self, inputs):\n",
    "        return jax.numpy.matmul(inputs, self.w) + self.b\n",
    "```\n",
    "\n",
    "This would be the equivalent TensorFlow-specific layer:\n",
    "\n",
    "```python\n",
    "import tensorflow as tf\n",
    "\n",
    "class Linear(keras.layers.Layer):\n",
    "    ...\n",
    "\n",
    "    def call(self, inputs):\n",
    "        return tf.matmul(inputs, self.w) + self.b\n",
    "```\n",
    "\n",
    "And this would be the equivalent PyTorch-specific layer:\n",
    "\n",
    "```python\n",
    "import torch\n",
    "\n",
    "class Linear(keras.layers.Layer):\n",
    "    ...\n",
    "\n",
    "    def call(self, inputs):\n",
    "        return torch.matmul(inputs, self.w) + self.b\n",
    "```\n",
    "\n",
    "Because cross-backend compatibility is a tremendously useful property, we strongly\n",
    "recommend that you seek to always make your layers backend-agnostic by leveraging\n",
    "only Keras APIs."
   ]
  },
  {
   "cell_type": "markdown",
   "metadata": {
    "colab_type": "text"
   },
   "source": [
    "## The `add_loss()` method\n",
    "\n",
    "When writing the `call()` method of a layer, you can create loss tensors that\n",
    "you will want to use later, when writing your training loop. This is doable by\n",
    "calling `self.add_loss(value)`:"
   ]
  },
  {
   "cell_type": "code",
   "execution_count": 0,
   "metadata": {
    "colab_type": "code"
   },
   "outputs": [],
   "source": [
    "\n",
    "# A layer that creates an activity regularization loss\n",
    "class ActivityRegularizationLayer(keras.layers.Layer):\n",
    "    def __init__(self, rate=1e-2):\n",
    "        super().__init__()\n",
    "        self.rate = rate\n",
    "\n",
    "    def call(self, inputs):\n",
    "        self.add_loss(self.rate * ops.mean(inputs))\n",
    "        return inputs\n"
   ]
  },
  {
   "cell_type": "markdown",
   "metadata": {
    "colab_type": "text"
   },
   "source": [
    "These losses (including those created by any inner layer) can be retrieved via\n",
    "`layer.losses`. This property is reset at the start of every `__call__()` to\n",
    "the top-level layer, so that `layer.losses` always contains the loss values\n",
    "created during the last forward pass."
   ]
  },
  {
   "cell_type": "code",
   "execution_count": 0,
   "metadata": {
    "colab_type": "code"
   },
   "outputs": [],
   "source": [
    "\n",
    "class OuterLayer(keras.layers.Layer):\n",
    "    def __init__(self):\n",
    "        super().__init__()\n",
    "        self.activity_reg = ActivityRegularizationLayer(1e-2)\n",
    "\n",
    "    def call(self, inputs):\n",
    "        return self.activity_reg(inputs)\n",
    "\n",
    "\n",
    "layer = OuterLayer()\n",
    "assert len(layer.losses) == 0  # No losses yet since the layer has never been called\n",
    "\n",
    "_ = layer(ops.zeros((1, 1)))\n",
    "assert len(layer.losses) == 1  # We created one loss value\n",
    "\n",
    "# `layer.losses` gets reset at the start of each __call__\n",
    "_ = layer(ops.zeros((1, 1)))\n",
    "assert len(layer.losses) == 1  # This is the loss created during the call above"
   ]
  },
  {
   "cell_type": "markdown",
   "metadata": {
    "colab_type": "text"
   },
   "source": [
    "In addition, the `loss` property also contains regularization losses created\n",
    "for the weights of any inner layer:"
   ]
  },
  {
   "cell_type": "code",
   "execution_count": 0,
   "metadata": {
    "colab_type": "code"
   },
   "outputs": [],
   "source": [
    "\n",
    "class OuterLayerWithKernelRegularizer(keras.layers.Layer):\n",
    "    def __init__(self):\n",
    "        super().__init__()\n",
    "        self.dense = keras.layers.Dense(\n",
    "            32, kernel_regularizer=keras.regularizers.l2(1e-3)\n",
    "        )\n",
    "\n",
    "    def call(self, inputs):\n",
    "        return self.dense(inputs)\n",
    "\n",
    "\n",
    "layer = OuterLayerWithKernelRegularizer()\n",
    "_ = layer(ops.zeros((1, 1)))\n",
    "\n",
    "# This is `1e-3 * sum(layer.dense.kernel ** 2)`,\n",
    "# created by the `kernel_regularizer` above.\n",
    "print(layer.losses)"
   ]
  },
  {
   "cell_type": "markdown",
   "metadata": {
    "colab_type": "text"
   },
   "source": [
    "These losses are meant to be taken into account when writing custom training loops.\n",
    "\n",
    "They also work seamlessly with `fit()` (they get automatically summed and added to the main loss, if any):"
   ]
  },
  {
   "cell_type": "code",
   "execution_count": 0,
   "metadata": {
    "colab_type": "code"
   },
   "outputs": [],
   "source": [
    "inputs = keras.Input(shape=(3,))\n",
    "outputs = ActivityRegularizationLayer()(inputs)\n",
    "model = keras.Model(inputs, outputs)\n",
    "\n",
    "# If there is a loss passed in `compile`, the regularization\n",
    "# losses get added to it\n",
    "model.compile(optimizer=\"adam\", loss=\"mse\")\n",
    "model.fit(np.random.random((2, 3)), np.random.random((2, 3)))\n",
    "\n",
    "# It's also possible not to pass any loss in `compile`,\n",
    "# since the model already has a loss to minimize, via the `add_loss`\n",
    "# call during the forward pass!\n",
    "model.compile(optimizer=\"adam\")\n",
    "model.fit(np.random.random((2, 3)), np.random.random((2, 3)))"
   ]
  },
  {
   "cell_type": "markdown",
   "metadata": {
    "colab_type": "text"
   },
   "source": [
    "## You can optionally enable serialization on your layers\n",
    "\n",
    "If you need your custom layers to be serializable as part of a\n",
    "[Functional model](/guides/functional_api/),\n",
    "you can optionally implement a `get_config()` method:"
   ]
  },
  {
   "cell_type": "code",
   "execution_count": 0,
   "metadata": {
    "colab_type": "code"
   },
   "outputs": [],
   "source": [
    "\n",
    "class Linear(keras.layers.Layer):\n",
    "    def __init__(self, units=32):\n",
    "        super().__init__()\n",
    "        self.units = units\n",
    "\n",
    "    def build(self, input_shape):\n",
    "        self.w = self.add_weight(\n",
    "            shape=(input_shape[-1], self.units),\n",
    "            initializer=\"random_normal\",\n",
    "            trainable=True,\n",
    "        )\n",
    "        self.b = self.add_weight(\n",
    "            shape=(self.units,), initializer=\"random_normal\", trainable=True\n",
    "        )\n",
    "\n",
    "    def call(self, inputs):\n",
    "        return ops.matmul(inputs, self.w) + self.b\n",
    "\n",
    "    def get_config(self):\n",
    "        return {\"units\": self.units}\n",
    "\n",
    "\n",
    "# Now you can recreate the layer from its config:\n",
    "layer = Linear(64)\n",
    "config = layer.get_config()\n",
    "print(config)\n",
    "new_layer = Linear.from_config(config)"
   ]
  },
  {
   "cell_type": "markdown",
   "metadata": {
    "colab_type": "text"
   },
   "source": [
    "Note that the `__init__()` method of the base `Layer` class takes some keyword\n",
    "arguments, in particular a `name` and a `dtype`. It's good practice to pass\n",
    "these arguments to the parent class in `__init__()` and to include them in the\n",
    "layer config:"
   ]
  },
  {
   "cell_type": "code",
   "execution_count": 0,
   "metadata": {
    "colab_type": "code"
   },
   "outputs": [],
   "source": [
    "\n",
    "class Linear(keras.layers.Layer):\n",
    "    def __init__(self, units=32, **kwargs):\n",
    "        super().__init__(**kwargs)\n",
    "        self.units = units\n",
    "\n",
    "    def build(self, input_shape):\n",
    "        self.w = self.add_weight(\n",
    "            shape=(input_shape[-1], self.units),\n",
    "            initializer=\"random_normal\",\n",
    "            trainable=True,\n",
    "        )\n",
    "        self.b = self.add_weight(\n",
    "            shape=(self.units,), initializer=\"random_normal\", trainable=True\n",
    "        )\n",
    "\n",
    "    def call(self, inputs):\n",
    "        return ops.matmul(inputs, self.w) + self.b\n",
    "\n",
    "    def get_config(self):\n",
    "        config = super().get_config()\n",
    "        config.update({\"units\": self.units})\n",
    "        return config\n",
    "\n",
    "\n",
    "layer = Linear(64)\n",
    "config = layer.get_config()\n",
    "print(config)\n",
    "new_layer = Linear.from_config(config)"
   ]
  },
  {
   "cell_type": "markdown",
   "metadata": {
    "colab_type": "text"
   },
   "source": [
    "If you need more flexibility when deserializing the layer from its config, you\n",
    "can also override the `from_config()` class method. This is the base\n",
    "implementation of `from_config()`:\n",
    "\n",
    "```python\n",
    "def from_config(cls, config):\n",
    "    return cls(**config)\n",
    "```\n",
    "\n",
    "To learn more about serialization and saving, see the complete\n",
    "[guide to saving and serializing models](/guides/serialization_and_saving/)."
   ]
  },
  {
   "cell_type": "markdown",
   "metadata": {
    "colab_type": "text"
   },
   "source": [
    "## Privileged `training` argument in the `call()` method\n",
    "\n",
    "Some layers, in particular the `BatchNormalization` layer and the `Dropout`\n",
    "layer, have different behaviors during training and inference. For such\n",
    "layers, it is standard practice to expose a `training` (boolean) argument in\n",
    "the `call()` method.\n",
    "\n",
    "By exposing this argument in `call()`, you enable the built-in training and\n",
    "evaluation loops (e.g. `fit()`) to correctly use the layer in training and\n",
    "inference."
   ]
  },
  {
   "cell_type": "code",
   "execution_count": 0,
   "metadata": {
    "colab_type": "code"
   },
   "outputs": [],
   "source": [
    "\n",
    "class CustomDropout(keras.layers.Layer):\n",
    "    def __init__(self, rate, **kwargs):\n",
    "        super().__init__(**kwargs)\n",
    "        self.rate = rate\n",
    "        self.seed_generator = keras.random.SeedGenerator(1337)\n",
    "\n",
    "    def call(self, inputs, training=None):\n",
    "        if training:\n",
    "            return keras.random.dropout(\n",
    "                inputs, rate=self.rate, seed=self.seed_generator\n",
    "            )\n",
    "        return inputs\n"
   ]
  },
  {
   "cell_type": "markdown",
   "metadata": {
    "colab_type": "text"
   },
   "source": [
    "## Privileged `mask` argument in the `call()` method\n",
    "\n",
    "The other privileged argument supported by `call()` is the `mask` argument.\n",
    "\n",
    "You will find it in all Keras RNN layers. A mask is a boolean tensor (one\n",
    "boolean value per timestep in the input) used to skip certain input timesteps\n",
    "when processing timeseries data.\n",
    "\n",
    "Keras will automatically pass the correct `mask` argument to `__call__()` for\n",
    "layers that support it, when a mask is generated by a prior layer.\n",
    "Mask-generating layers are the `Embedding`\n",
    "layer configured with `mask_zero=True`, and the `Masking` layer."
   ]
  },
  {
   "cell_type": "markdown",
   "metadata": {
    "colab_type": "text"
   },
   "source": [
    "## The `Model` class\n",
    "\n",
    "In general, you will use the `Layer` class to define inner computation blocks,\n",
    "and will use the `Model` class to define the outer model -- the object you\n",
    "will train.\n",
    "\n",
    "For instance, in a ResNet50 model, you would have several ResNet blocks\n",
    "subclassing `Layer`, and a single `Model` encompassing the entire ResNet50\n",
    "network.\n",
    "\n",
    "The `Model` class has the same API as `Layer`, with the following differences:\n",
    "\n",
    "- It exposes built-in training, evaluation, and prediction loops\n",
    "(`model.fit()`, `model.evaluate()`, `model.predict()`).\n",
    "- It exposes the list of its inner layers, via the `model.layers` property.\n",
    "- It exposes saving and serialization APIs (`save()`, `save_weights()`...)\n",
    "\n",
    "Effectively, the `Layer` class corresponds to what we refer to in the\n",
    "literature as a \"layer\" (as in \"convolution layer\" or \"recurrent layer\") or as\n",
    "a \"block\" (as in \"ResNet block\" or \"Inception block\").\n",
    "\n",
    "Meanwhile, the `Model` class corresponds to what is referred to in the\n",
    "literature as a \"model\" (as in \"deep learning model\") or as a \"network\" (as in\n",
    "\"deep neural network\").\n",
    "\n",
    "So if you're wondering, \"should I use the `Layer` class or the `Model` class?\",\n",
    "ask yourself: will I need to call `fit()` on it? Will I need to call `save()`\n",
    "on it? If so, go with `Model`. If not (either because your class is just a block\n",
    "in a bigger system, or because you are writing training & saving code yourself),\n",
    "use `Layer`.\n",
    "\n",
    "For instance, we could take our mini-resnet example above, and use it to build\n",
    "a `Model` that we could train with `fit()`, and that we could save with\n",
    "`save_weights()`:"
   ]
  },
  {
   "cell_type": "markdown",
   "metadata": {
    "colab_type": "text"
   },
   "source": [
    "```python\n",
    "class ResNet(keras.Model):\n",
    "\n",
    "    def __init__(self, num_classes=1000):\n",
    "        super().__init__()\n",
    "        self.block_1 = ResNetBlock()\n",
    "        self.block_2 = ResNetBlock()\n",
    "        self.global_pool = layers.GlobalAveragePooling2D()\n",
    "        self.classifier = Dense(num_classes)\n",
    "\n",
    "    def call(self, inputs):\n",
    "        x = self.block_1(inputs)\n",
    "        x = self.block_2(x)\n",
    "        x = self.global_pool(x)\n",
    "        return self.classifier(x)\n",
    "\n",
    "\n",
    "resnet = ResNet()\n",
    "dataset = ...\n",
    "resnet.fit(dataset, epochs=10)\n",
    "resnet.save(filepath.keras)\n",
    "```"
   ]
  },
  {
   "cell_type": "markdown",
   "metadata": {
    "colab_type": "text"
   },
   "source": [
    "## Putting it all together: an end-to-end example\n",
    "\n",
    "Here's what you've learned so far:\n",
    "\n",
    "- A `Layer` encapsulate a state (created in `__init__()` or `build()`) and some\n",
    "computation (defined in `call()`).\n",
    "- Layers can be recursively nested to create new, bigger computation blocks.\n",
    "- Layers are backend-agnostic as long as they only use Keras APIs. You can use\n",
    "backend-native APIs (such as `jax.numpy`, `torch.nn` or `tf.nn`), but then\n",
    "your layer will only be usable with that specific backend.\n",
    "- Layers can create and track losses (typically regularization losses)\n",
    "via `add_loss()`.\n",
    "- The outer container, the thing you want to train, is a `Model`. A `Model` is\n",
    "just like a `Layer`, but with added training and serialization utilities.\n",
    "\n",
    "Let's put all of these things together into an end-to-end example: we're going\n",
    "to implement a Variational AutoEncoder (VAE) in a backend-agnostic fashion\n",
    "-- so that it runs the same with TensorFlow, JAX, and PyTorch.\n",
    "We'll train it on MNIST digits.\n",
    "\n",
    "Our VAE will be a subclass of `Model`, built as a nested composition of layers\n",
    "that subclass `Layer`. It will feature a regularization loss (KL divergence)."
   ]
  },
  {
   "cell_type": "code",
   "execution_count": 0,
   "metadata": {
    "colab_type": "code"
   },
   "outputs": [],
   "source": [
    "\n",
    "class Sampling(layers.Layer):\n",
    "    \"\"\"Uses (z_mean, z_log_var) to sample z, the vector encoding a digit.\"\"\"\n",
    "\n",
    "    def __init__(self, **kwargs):\n",
    "        super().__init__(**kwargs)\n",
    "        self.seed_generator = keras.random.SeedGenerator(1337)\n",
    "\n",
    "    def call(self, inputs):\n",
    "        z_mean, z_log_var = inputs\n",
    "        batch = ops.shape(z_mean)[0]\n",
    "        dim = ops.shape(z_mean)[1]\n",
    "        epsilon = keras.random.normal(shape=(batch, dim), seed=self.seed_generator)\n",
    "        return z_mean + ops.exp(0.5 * z_log_var) * epsilon\n",
    "\n",
    "\n",
    "class Encoder(layers.Layer):\n",
    "    \"\"\"Maps MNIST digits to a triplet (z_mean, z_log_var, z).\"\"\"\n",
    "\n",
    "    def __init__(self, latent_dim=32, intermediate_dim=64, name=\"encoder\", **kwargs):\n",
    "        super().__init__(name=name, **kwargs)\n",
    "        self.dense_proj = layers.Dense(intermediate_dim, activation=\"relu\")\n",
    "        self.dense_mean = layers.Dense(latent_dim)\n",
    "        self.dense_log_var = layers.Dense(latent_dim)\n",
    "        self.sampling = Sampling()\n",
    "\n",
    "    def call(self, inputs):\n",
    "        x = self.dense_proj(inputs)\n",
    "        z_mean = self.dense_mean(x)\n",
    "        z_log_var = self.dense_log_var(x)\n",
    "        z = self.sampling((z_mean, z_log_var))\n",
    "        return z_mean, z_log_var, z\n",
    "\n",
    "\n",
    "class Decoder(layers.Layer):\n",
    "    \"\"\"Converts z, the encoded digit vector, back into a readable digit.\"\"\"\n",
    "\n",
    "    def __init__(self, original_dim, intermediate_dim=64, name=\"decoder\", **kwargs):\n",
    "        super().__init__(name=name, **kwargs)\n",
    "        self.dense_proj = layers.Dense(intermediate_dim, activation=\"relu\")\n",
    "        self.dense_output = layers.Dense(original_dim, activation=\"sigmoid\")\n",
    "\n",
    "    def call(self, inputs):\n",
    "        x = self.dense_proj(inputs)\n",
    "        return self.dense_output(x)\n",
    "\n",
    "\n",
    "class VariationalAutoEncoder(keras.Model):\n",
    "    \"\"\"Combines the encoder and decoder into an end-to-end model for training.\"\"\"\n",
    "\n",
    "    def __init__(\n",
    "        self,\n",
    "        original_dim,\n",
    "        intermediate_dim=64,\n",
    "        latent_dim=32,\n",
    "        name=\"autoencoder\",\n",
    "        **kwargs\n",
    "    ):\n",
    "        super().__init__(name=name, **kwargs)\n",
    "        self.original_dim = original_dim\n",
    "        self.encoder = Encoder(latent_dim=latent_dim, intermediate_dim=intermediate_dim)\n",
    "        self.decoder = Decoder(original_dim, intermediate_dim=intermediate_dim)\n",
    "\n",
    "    def call(self, inputs):\n",
    "        z_mean, z_log_var, z = self.encoder(inputs)\n",
    "        reconstructed = self.decoder(z)\n",
    "        # Add KL divergence regularization loss.\n",
    "        kl_loss = -0.5 * ops.mean(\n",
    "            z_log_var - ops.square(z_mean) - ops.exp(z_log_var) + 1\n",
    "        )\n",
    "        self.add_loss(kl_loss)\n",
    "        return reconstructed\n"
   ]
  },
  {
   "cell_type": "markdown",
   "metadata": {
    "colab_type": "text"
   },
   "source": [
    "Let's train it on MNIST using the `fit()` API:"
   ]
  },
  {
   "cell_type": "code",
   "execution_count": 0,
   "metadata": {
    "colab_type": "code"
   },
   "outputs": [],
   "source": [
    "(x_train, _), _ = keras.datasets.mnist.load_data()\n",
    "x_train = x_train.reshape(60000, 784).astype(\"float32\") / 255\n",
    "\n",
    "original_dim = 784\n",
    "vae = VariationalAutoEncoder(784, 64, 32)\n",
    "\n",
    "optimizer = keras.optimizers.Adam(learning_rate=1e-3)\n",
    "vae.compile(optimizer, loss=keras.losses.MeanSquaredError())\n",
    "\n",
    "vae.fit(x_train, x_train, epochs=2, batch_size=64)"
   ]
  }
 ],
 "metadata": {
  "accelerator": "None",
  "colab": {
   "collapsed_sections": [],
   "name": "making_new_layers_and_models_via_subclassing",
   "private_outputs": false,
   "provenance": [],
   "toc_visible": true
  },
  "kernelspec": {
   "display_name": "Python 3",
   "language": "python",
   "name": "python3"
  },
  "language_info": {
   "codemirror_mode": {
    "name": "ipython",
    "version": 3
   },
   "file_extension": ".py",
   "mimetype": "text/x-python",
   "name": "python",
   "nbconvert_exporter": "python",
   "pygments_lexer": "ipython3",
   "version": "3.7.0"
  }
 },
 "nbformat": 4,
 "nbformat_minor": 0
}
