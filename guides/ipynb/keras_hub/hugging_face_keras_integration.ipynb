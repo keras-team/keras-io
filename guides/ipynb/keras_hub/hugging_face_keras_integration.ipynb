{
 "cells": [
  {
   "cell_type": "markdown",
   "metadata": {
    "colab_type": "text"
   },
   "source": [
    "# Loading Hugging Face Transformers Checkpoints\n",
    "\n",
    "**Author:** [Laxma Reddy Patlolla](https://github.com/laxmareddyp), [Divyashree Sreepathihalli](https://github.com/divyashreepathihalli)<br>\n",
    "**Date created:** 2025/06/17<br>\n",
    "**Last modified:** 2025/06/23<br>\n",
    "**Description:** How to load and run inference from KerasHub model checkpoints hosted on the HuggingFace Hub."
   ]
  },
  {
   "cell_type": "markdown",
   "metadata": {
    "colab_type": "text"
   },
   "source": [
    "## Introduction\n",
    "\n",
    "KerasHub has built-in converters for HuggingFace's `.safetensors` models.\n",
    "Loading model weights from HuggingFace is therefore no more difficult than\n",
    "using KerasHub's own presets.\n",
    "\n",
    "### KerasHub built-in HuggingFace transformers converters\n",
    "\n",
    "KerasHub simplifies the use of HuggingFace Transformers models through its\n",
    "built-in converters. These converters automatically handle the process of translating\n",
    "HuggingFace model checkpoints into a format that's compatible with the Keras ecosystem.\n",
    "This means you can seamlessly load a wide variety of pretrained models from the HuggingFace\n",
    "Hub directly into KerasHub with just a few lines of code.\n",
    "\n",
    "Key advantages of using KerasHub converters:\n",
    "\n",
    "- **Ease of Use**: Load HuggingFace models without manual conversion steps.\n",
    "- **Broad Compatibility**: Access a vast range of models available on the HuggingFace Hub.\n",
    "- **Seamless Integration**: Work with these models using familiar Keras APIs for training,\n",
    "evaluation, and inference.\n",
    "\n",
    "Fortunately, all of this happens behind the scenes, so you can focus on using\n",
    "the models rather than managing the conversion process!\n",
    "\n",
    "## Setup\n",
    "\n",
    "Before you begin, make sure you have the necessary libraries installed.\n",
    "You'll primarily need `keras` and `keras_hub`.\n",
    "\n",
    "**Note:** Changing the backend after Keras has been imported might not work as expected.\n",
    "Ensure `KERAS_BACKEND` is set at the beginning of your script. Similarly, when working\n",
    "outside of colab, you might use `os.environ[\"HF_TOKEN\"] = \"<YOUR_HF_TOKEN>\"` to authenticate\n",
    "to HuggingFace. Set your `HF_TOKEN` as \"Colab secret\", when working with\n",
    "Google Colab."
   ]
  },
  {
   "cell_type": "code",
   "execution_count": 0,
   "metadata": {
    "colab_type": "code"
   },
   "outputs": [],
   "source": [
    "import os\n",
    "\n",
    "os.environ[\"KERAS_BACKEND\"] = \"jax\"  # \"tensorflow\" or  \"torch\"\n",
    "\n",
    "import keras\n",
    "import keras_hub"
   ]
  },
  {
   "cell_type": "markdown",
   "metadata": {
    "colab_type": "text"
   },
   "source": [
    "### Changing precision\n",
    "\n",
    "To perform inference and training on affordable hardware, you can adjust your\n",
    "model’s precision by configuring it through `keras.config` as follows"
   ]
  },
  {
   "cell_type": "code",
   "execution_count": 0,
   "metadata": {
    "colab_type": "code"
   },
   "outputs": [],
   "source": [
    "import keras\n",
    "\n",
    "keras.config.set_dtype_policy(\"bfloat16\")"
   ]
  },
  {
   "cell_type": "markdown",
   "metadata": {
    "colab_type": "text"
   },
   "source": [
    "## Loading a HuggingFace model\n",
    "\n",
    "KerasHub allows you to easily load models from HuggingFace Transformers.\n",
    "Here's an example of how to load a Gemma causal language model.\n",
    "In this particular case, you will need to consent to Google's license on\n",
    "HuggingFace for being able to download model weights."
   ]
  },
  {
   "cell_type": "code",
   "execution_count": 0,
   "metadata": {
    "colab_type": "code"
   },
   "outputs": [],
   "source": [
    "# not a keras checkpoint, it is a HF transformer checkpoint\n",
    "\n",
    "gemma_lm = keras_hub.models.GemmaCausalLM.from_preset(\"hf://google/gemma-2b\")"
   ]
  },
  {
   "cell_type": "markdown",
   "metadata": {
    "colab_type": "text"
   },
   "source": [
    "Let us try running some inference"
   ]
  },
  {
   "cell_type": "code",
   "execution_count": 0,
   "metadata": {
    "colab_type": "code"
   },
   "outputs": [],
   "source": [
    "gemma_lm.generate(\"I want to say\", max_length=30)"
   ]
  },
  {
   "cell_type": "markdown",
   "metadata": {
    "colab_type": "text"
   },
   "source": [
    "### Fine-tuning a Gemma Transformer checkpoint using the Keras `model.fit(...)` API\n",
    "\n",
    "Once you have loaded HuggingFace weights, you can use the instantiated model\n",
    "just like any other KerasHub model. For instance, you might fine-tune the model\n",
    "on your own data like so:"
   ]
  },
  {
   "cell_type": "code",
   "execution_count": 0,
   "metadata": {
    "colab_type": "code"
   },
   "outputs": [],
   "source": [
    "features = [\"The quick brown fox jumped.\", \"I forgot my homework.\"]\n",
    "gemma_lm.fit(x=features, batch_size=2)"
   ]
  },
  {
   "cell_type": "markdown",
   "metadata": {
    "colab_type": "text"
   },
   "source": [
    "### Saving and uploading the new checkpoint\n",
    "\n",
    "To store and share your fine-tuned model, KerasHub makes it easy to save or\n",
    "upload it using standard methods. You can do this through familiar commands\n",
    "such as:"
   ]
  },
  {
   "cell_type": "code",
   "execution_count": 0,
   "metadata": {
    "colab_type": "code"
   },
   "outputs": [],
   "source": [
    "HF_USERNAME = \"<YOUR_HF_USERNAME>\"  # provide your hf username\n",
    "gemma_lm.save_to_preset(\"./gemma-2b-finetuned\")\n",
    "keras_hub.upload_preset(f\"hf://{HF_USERNAME}/gemma-2b-finetune\", \"./gemma-2b-finetuned\")"
   ]
  },
  {
   "cell_type": "markdown",
   "metadata": {
    "colab_type": "text"
   },
   "source": [
    "By uploading your preset, you can then load it from anywhere using:\n",
    "`loaded_model = keras_hub.models.GemmaCausalLM.from_preset(\"hf://YOUR_HF_USERNAME/gemma-2b-finetuned\")`\n",
    "\n",
    "For a comprehensive, step-by-step guide on uploading your model, refer to the official KerasHub upload documentation.\n",
    "You can find all the details here: [KerasHub Upload Guide](https://keras.io/keras_hub/guides/upload/)\n",
    "\n",
    "By integrating HuggingFace Transformers, KerasHub significantly expands your access to pretrained models.\n",
    "The Hugging Face Hub now hosts well over 750k+ model checkpoints across various domains such as NLP,\n",
    "Computer Vision, Audio, and more. Of these, approximately 400K models are currently compatible with KerasHub,\n",
    "giving you access to a vast and diverse selection of state-of-the-art architectures for your projects.\n",
    "\n",
    "With KerasHub, you can:\n",
    "\n",
    "- **Tap into State-of-the-Art Models**: Easily experiment with the latest\n",
    "architectures and pretrained weights from the research community and industry.\n",
    "- **Reduce Development Time**: Leverage existing models instead of training from scratch,\n",
    "saving significant time and computational resources.\n",
    "- **Enhance Model Capabilities**: Find specialized models for a wide array of tasks,\n",
    "from text generation and translation to image segmentation and object detection.\n",
    "\n",
    "This seamless access empowers you to build more powerful and sophisticated AI applications with Keras.\n",
    "\n",
    "## Use a wider range of frameworks\n",
    "\n",
    "Keras 3, and by extension KerasHub, is designed for multi-framework compatibility.\n",
    "This means you can run your models with different backend frameworks like JAX, TensorFlow, and PyTorch.\n",
    "This flexibility allows you to:\n",
    "\n",
    "- **Choose the Best Backend for Your Needs**: Select a backend based on performance characteristics,\n",
    "hardware compatibility (e.g., TPUs with JAX), or existing team expertise.\n",
    "- **Interoperability**: More easily integrate KerasHub models into existing\n",
    "workflows that might be built on TensorFlow or PyTorch.\n",
    "- **Future-Proofing**: Adapt to evolving framework landscapes without\n",
    "rewriting your core model logic.\n",
    "\n",
    "## Run transformer models in JAX backend and on TPUs\n",
    "\n",
    "To experiment with a model using JAX, you can utilize Keras by setting its backend to JAX.\n",
    "By switching Keras’s backend before model construction, and ensuring your environment is connected to a TPU runtime.\n",
    "Keras will then automatically leverage JAX’s TPU support,\n",
    "allowing your model to train efficiently on TPU hardware without further code changes."
   ]
  },
  {
   "cell_type": "code",
   "execution_count": 0,
   "metadata": {
    "colab_type": "code"
   },
   "outputs": [],
   "source": [
    "import os\n",
    "\n",
    "os.environ[\"KERAS_BACKEND\"] = \"jax\"\n",
    "gemma_lm = keras_hub.models.GemmaCausalLM.from_preset(\"hf://google/gemma-2b\")"
   ]
  },
  {
   "cell_type": "markdown",
   "metadata": {
    "colab_type": "text"
   },
   "source": [
    "## Additional Examples\n",
    "\n",
    "### Generation\n",
    "\n",
    "Here’s an example using Llama: Loading a PyTorch Hugging Face transformer checkpoint into KerasHub and running it on the JAX backend."
   ]
  },
  {
   "cell_type": "code",
   "execution_count": 0,
   "metadata": {
    "colab_type": "code"
   },
   "outputs": [],
   "source": [
    "import os\n",
    "\n",
    "os.environ[\"KERAS_BACKEND\"] = \"jax\"\n",
    "\n",
    "from keras_hub.models import Llama3CausalLM\n",
    "\n",
    "# Get the model\n",
    "causal_lm = Llama3CausalLM.from_preset(\"hf://NousResearch/Hermes-2-Pro-Llama-3-8B\")\n",
    "\n",
    "prompts = [\n",
    "    \"\"\"<|im_start|>system\n",
    "You are a sentient, superintelligent artificial general intelligence, here to teach and assist me.<|im_end|>\n",
    "<|im_start|>user\n",
    "Write a short story about Goku discovering kirby has teamed up with Majin Buu to destroy the world.<|im_end|>\n",
    "<|im_start|>assistant\"\"\",\n",
    "]\n",
    "\n",
    "# Generate from the model\n",
    "causal_lm.generate(prompts, max_length=30)[0]"
   ]
  },
  {
   "cell_type": "markdown",
   "metadata": {
    "colab_type": "text"
   },
   "source": [
    "## Comparing to Transformers\n",
    "\n",
    "In the following table, we have compiled a detailed comparison of HuggingFace's Transformers library with KerasHub:\n",
    "\n",
    "| Feature                    | HF Transformers                                                   | KerasHub                                                                                                                                                                                                                                                                              |\n",
    "|----------------------------|-------------------------------------------------------------------|---------------------------------------------------------------------------------------------------------------------------------------------------------------------------------------------------------------------------------------------------------------------------------------|\n",
    "| Frameworks supported       | PyTorch                                                           | JAX, PyTorch, TensorFlow                                                                                                                                                                                                                                                         |\n",
    "| Trainer                    | HF Trainer                                                        | Keras `model.fit(...)` — supports nearly all features such as distributed training, learning rate scheduling, optimizer selection, etc.                                                                                                                                             |\n",
    "| Tokenizers                 | `AutoTokenizer`                                                   | [KerasHub Tokenizers](https://keras.io/keras_hub/api/tokenizers/)                                                                                                                                                                                                                     |\n",
    "| Autoclass                  | `auto` keyword                                                    | KerasHub automatically [detects task-specific classes](https://x.com/fchollet/status/1922719664859381922)                                                                                                                                                                             |\n",
    "| Model loading              | `AutoModel.from_pretrained()`                                     | `keras_hub.models.<Task>.from_preset()`<br><br>KerasHub uses task-specific classes (e.g., `CausalLM`, `Classifier`, `Backbone`) with a `from_preset()` method to load pretrained models, analogous to HuggingFace’s method.<br><br>Supports HF URLs, Kaggle URLs, and local directories |\n",
    "| Model saving               | `model.save_pretrained()`<br>`tokenizer.save_pretrained()`        | `model.save_to_preset()` — saves the model (including tokenizer/preprocessor) into a local directory (preset). All components needed for reloading or uploading are saved.                                                                                                            |\n",
    "| Model uploading            | Uploading weights to HF platform                                  | [KerasHub Upload Guide](https://keras.io/keras_hub/guides/upload/)<br>[Keras on Hugging Face](https://huggingface.co/keras)                                                                                                                                                           |\n",
    "| Weights file sharding      | Weights file sharding                                             | Large model weights are sharded for efficient upload/download                                                                                                                                                                                                                         |\n",
    "| PEFT                       | Uses [HuggingFace PEFT](https://github.com/huggingface/peft)      | Built-in LoRA support:<br>`backbone.enable_lora(rank=n)`<br>`backbone.save_lora_weights(filepath)`<br>`backbone.load_lora_weights(filepath)`                                                                                                                                          |\n",
    "| Core model abstractions    | `PreTrainedModel`, `AutoModel`, task-specific models              | `Backbone`, `Preprocessor`, `Task`                                                                                                                                                                                                                                                    |\n",
    "| Model configs              | `PretrainedConfig`: Base class for model configurations           | Configurations stored as multiple JSON files in preset directory: `config.json`, `preprocessor.json`, `task.json`, `tokenizer.json`, etc.                                                                                                                                             |\n",
    "| Preprocessing              | Tokenizers/preprocessors often handled separately, then passed to the model | Built into task-specific models                                                                                                                                                                                                                                             |\n",
    "| Mixed precision training   | Via training arguments                                            | Keras global policy setting                                                                                                                                                                                                                                                           |\n",
    "| Compatibility with SafeTensors | Default weights format                                        | Of the 770k+ SafeTensors models on HF, those with a matching architecture in KerasHub can be loaded using `keras_hub.models.X.from_preset()`                                                                                                                                          |\n",
    "\n",
    "\n",
    "Go try loading other model weights! You can find more options on HuggingFace\n",
    "and use them with `from_preset(\"hf://<namespace>/<model-name>\")`.\n",
    "\n",
    "Happy experimenting!"
   ]
  },
  {
   "cell_type": "markdown",
   "metadata": {},
   "source": []
  }
 ],
 "metadata": {
  "accelerator": "GPU",
  "colab": {
   "collapsed_sections": [],
   "name": "hugging_face_keras_integration",
   "private_outputs": false,
   "provenance": [],
   "toc_visible": true
  },
  "kernelspec": {
   "display_name": "Python 3",
   "language": "python",
   "name": "python3"
  },
  "language_info": {
   "codemirror_mode": {
    "name": "ipython",
    "version": 3
   },
   "file_extension": ".py",
   "mimetype": "text/x-python",
   "name": "python",
   "nbconvert_exporter": "python",
   "pygments_lexer": "ipython3",
   "version": "3.7.0"
  }
 },
 "nbformat": 4,
 "nbformat_minor": 0
}
