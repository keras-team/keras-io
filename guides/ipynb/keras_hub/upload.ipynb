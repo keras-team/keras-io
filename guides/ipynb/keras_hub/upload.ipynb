{
 "cells": [
  {
   "cell_type": "markdown",
   "metadata": {
    "colab_type": "text"
   },
   "source": [
    "# Uploading Models with KerasHub\n",
    "\n",
    "**Author:** [Samaneh Saadat](https://github.com/SamanehSaadat/), [Matthew Watson](https://github.com/mattdangerw/)<br>\n",
    "**Date created:** 2024/04/29<br>\n",
    "**Last modified:** 2024/04/29<br>\n",
    "**Description:** An introduction on how to upload a fine-tuned KerasHub model to model hubs."
   ]
  },
  {
   "cell_type": "markdown",
   "metadata": {
    "colab_type": "text"
   },
   "source": [
    "# Introduction\n",
    "\n",
    "Fine-tuning a machine learning model can yield impressive results for specific tasks.\n",
    "Uploading your fine-tuned model to a model hub allows you to share it with the broader community.\n",
    "By sharing your models, you'll enhance accessibility for other researchers and developers,\n",
    "making your contributions an integral part of the machine learning landscape.\n",
    "This can also streamline the integration of your model into real-world applications.\n",
    "\n",
    "This guide walks you through how to upload your fine-tuned models to popular model hubs such as\n",
    "[Kaggle Models](https://www.kaggle.com/models) and [Hugging Face Hub](https://huggingface.co/models)."
   ]
  },
  {
   "cell_type": "markdown",
   "metadata": {
    "colab_type": "text"
   },
   "source": [
    "# Setup\n",
    "\n",
    "Let's start by installing and importing all the libraries we need. We use KerasHub for this guide."
   ]
  },
  {
   "cell_type": "code",
   "execution_count": 0,
   "metadata": {
    "colab_type": "code"
   },
   "outputs": [],
   "source": [
    "!pip install -q --upgrade keras-hub huggingface-hub kagglehub"
   ]
  },
  {
   "cell_type": "code",
   "execution_count": 0,
   "metadata": {
    "colab_type": "code"
   },
   "outputs": [],
   "source": [
    "import os\n",
    "\n",
    "os.environ[\"KERAS_BACKEND\"] = \"jax\"\n",
    "\n",
    "import keras_hub\n",
    ""
   ]
  },
  {
   "cell_type": "markdown",
   "metadata": {
    "colab_type": "text"
   },
   "source": [
    "# Data\n",
    "\n",
    "We can use the IMDB reviews dataset for this guide. Let's load the dataset from `tensorflow_dataset`."
   ]
  },
  {
   "cell_type": "code",
   "execution_count": 0,
   "metadata": {
    "colab_type": "code"
   },
   "outputs": [],
   "source": [
    "import tensorflow_datasets as tfds\n",
    "\n",
    "imdb_train, imdb_test = tfds.load(\n",
    "    \"imdb_reviews\",\n",
    "    split=[\"train\", \"test\"],\n",
    "    as_supervised=True,\n",
    "    batch_size=4,\n",
    ")"
   ]
  },
  {
   "cell_type": "markdown",
   "metadata": {
    "colab_type": "text"
   },
   "source": [
    "We only use a small subset of the training samples to make the guide run faster.\n",
    "However, if you need a higher quality model, consider using a larger number of training samples."
   ]
  },
  {
   "cell_type": "code",
   "execution_count": 0,
   "metadata": {
    "colab_type": "code"
   },
   "outputs": [],
   "source": [
    "imdb_train = imdb_train.take(100)"
   ]
  },
  {
   "cell_type": "markdown",
   "metadata": {
    "colab_type": "text"
   },
   "source": [
    "# Task Upload\n",
    "\n",
    "A `keras_hub.models.Task`, wraps a `keras_hub.models.Backbone` and a `keras_hub.models.Preprocessor` to create\n",
    "a model that can be directly used for training, fine-tuning, and prediction for a given text problem.\n",
    "In this section, we explain how to create a `Task`, fine-tune and upload it to a model hub."
   ]
  },
  {
   "cell_type": "markdown",
   "metadata": {
    "colab_type": "text"
   },
   "source": [
    "## Load Model\n",
    "\n",
    "If you want to build a Causal LM based on a base model, simply call `keras_hub.models.CausalLM.from_preset`\n",
    "and pass a built-in preset identifier."
   ]
  },
  {
   "cell_type": "code",
   "execution_count": 0,
   "metadata": {
    "colab_type": "code"
   },
   "outputs": [],
   "source": [
    "causal_lm = keras_hub.models.CausalLM.from_preset(\"gpt2_base_en\")\n",
    ""
   ]
  },
  {
   "cell_type": "markdown",
   "metadata": {
    "colab_type": "text"
   },
   "source": [
    "## Fine-tune Model\n",
    "\n",
    "After loading the model, you can call `.fit()` on the model to fine-tune it.\n",
    "Here, we fine-tune the model on the IMDB reviews which makes the model movie domain-specific."
   ]
  },
  {
   "cell_type": "code",
   "execution_count": 0,
   "metadata": {
    "colab_type": "code"
   },
   "outputs": [],
   "source": [
    "# Drop labels and keep the review text only for the Causal LM.\n",
    "imdb_train_reviews = imdb_train.map(lambda x, y: x)\n",
    "\n",
    "# Fine-tune the Causal LM.\n",
    "causal_lm.fit(imdb_train_reviews)"
   ]
  },
  {
   "cell_type": "markdown",
   "metadata": {
    "colab_type": "text"
   },
   "source": [
    "## Save the Model Locally\n",
    "\n",
    "To upload a model, you need to first save the model locally using `save_to_preset`."
   ]
  },
  {
   "cell_type": "code",
   "execution_count": 0,
   "metadata": {
    "colab_type": "code"
   },
   "outputs": [],
   "source": [
    "preset_dir = \"./gpt2_imdb\"\n",
    "causal_lm.save_to_preset(preset_dir)"
   ]
  },
  {
   "cell_type": "markdown",
   "metadata": {
    "colab_type": "text"
   },
   "source": [
    "Let's see the saved files."
   ]
  },
  {
   "cell_type": "code",
   "execution_count": 0,
   "metadata": {
    "colab_type": "code"
   },
   "outputs": [],
   "source": [
    "os.listdir(preset_dir)"
   ]
  },
  {
   "cell_type": "markdown",
   "metadata": {
    "colab_type": "text"
   },
   "source": [
    "### Load a Locally Saved Model\n",
    "\n",
    "A model that is saved to a local preset can be loaded using `from_preset`.\n",
    "What you save in, is what you get back out."
   ]
  },
  {
   "cell_type": "code",
   "execution_count": 0,
   "metadata": {
    "colab_type": "code"
   },
   "outputs": [],
   "source": [
    "causal_lm = keras_hub.models.CausalLM.from_preset(preset_dir)"
   ]
  },
  {
   "cell_type": "markdown",
   "metadata": {
    "colab_type": "text"
   },
   "source": [
    "You can also load the `keras_hub.models.Backbone` and `keras_hub.models.Tokenizer` objects from this preset directory.\n",
    "Note that these objects are equivalent to `causal_lm.backbone` and `causal_lm.preprocessor.tokenizer` above."
   ]
  },
  {
   "cell_type": "code",
   "execution_count": 0,
   "metadata": {
    "colab_type": "code"
   },
   "outputs": [],
   "source": [
    "backbone = keras_hub.models.Backbone.from_preset(preset_dir)\n",
    "tokenizer = keras_hub.models.Tokenizer.from_preset(preset_dir)"
   ]
  },
  {
   "cell_type": "markdown",
   "metadata": {
    "colab_type": "text"
   },
   "source": [
    "## Upload the Model to a Model Hub\n",
    "\n",
    "After saving a preset to a directory, this directory can be uploaded to a model hub such as Kaggle or Hugging Face directly from the KerasHub library.\n",
    "To upload the model to Kaggle, the URI must start with `kaggle://` and to upload to Hugging Face, it should start with `hf://`."
   ]
  },
  {
   "cell_type": "markdown",
   "metadata": {
    "colab_type": "text"
   },
   "source": [
    "### Upload to Kaggle"
   ]
  },
  {
   "cell_type": "markdown",
   "metadata": {
    "colab_type": "text"
   },
   "source": [
    "To upload a model to Kaggle, first, we need to authenticate with Kaggle.\n",
    "This can in one of the following ways:\n",
    "1. Set environment variables `KAGGLE_USERNAME` and `KAGGLE_KEY`.\n",
    "2. Provide a local `~/.kaggle/kaggle.json`.\n",
    "3. Call `kagglehub.login()`.\n",
    "\n",
    "Let's make sure we are logged in before continuing."
   ]
  },
  {
   "cell_type": "code",
   "execution_count": 0,
   "metadata": {
    "colab_type": "code"
   },
   "outputs": [],
   "source": [
    "import kagglehub\n",
    "\n",
    "if \"KAGGLE_USERNAME\" not in os.environ or \"KAGGLE_KEY\" not in os.environ:\n",
    "    kagglehub.login()\n",
    ""
   ]
  },
  {
   "cell_type": "markdown",
   "metadata": {
    "colab_type": "text"
   },
   "source": [
    "To upload a model we can use `keras_hub.upload_preset(uri, preset_dir)` API where `uri` has the format of\n",
    "`kaggle://<KAGGLE_USERNAME>/<MODEL>/Keras/<VARIATION>` for uploading to Kaggle and `preset_dir` is the directory that the model is saved in.\n",
    "\n",
    "Running the following uploads the model that is saved in `preset_dir` to Kaggle:"
   ]
  },
  {
   "cell_type": "code",
   "execution_count": 0,
   "metadata": {
    "colab_type": "code"
   },
   "outputs": [],
   "source": [
    "kaggle_username = kagglehub.whoami()[\"username\"]\n",
    "kaggle_uri = f\"kaggle://{kaggle_username}/gpt2/keras/gpt2_imdb\"\n",
    "keras_hub.upload_preset(kaggle_uri, preset_dir)"
   ]
  },
  {
   "cell_type": "markdown",
   "metadata": {
    "colab_type": "text"
   },
   "source": [
    "### Upload to Hugging Face"
   ]
  },
  {
   "cell_type": "markdown",
   "metadata": {
    "colab_type": "text"
   },
   "source": [
    "To upload a model to Hugging Face, first, we need to authenticate with Hugging Face.\n",
    "This can in one of the following ways:\n",
    "1. Set environment variables `HF_USERNAME` and `HF_TOKEN`.\n",
    "2. Call `huggingface_hub.notebook_login()`.\n",
    "\n",
    "Let's make sure we are logged in before coninuing."
   ]
  },
  {
   "cell_type": "code",
   "execution_count": 0,
   "metadata": {
    "colab_type": "code"
   },
   "outputs": [],
   "source": [
    "import huggingface_hub\n",
    "\n",
    "if \"HF_USERNAME\" not in os.environ or \"HF_TOKEN\" not in os.environ:\n",
    "    huggingface_hub.notebook_login()"
   ]
  },
  {
   "cell_type": "markdown",
   "metadata": {
    "colab_type": "text"
   },
   "source": [
    "`keras_hub.upload_preset(uri, preset_dir)` can be used to upload a model to Hugging Face if `uri` has the format of\n",
    "`kaggle://<HF_USERNAME>/<MODEL>`.\n",
    "\n",
    "Running the following uploads the model that is saved in `preset_dir` to Hugging Face:"
   ]
  },
  {
   "cell_type": "code",
   "execution_count": 0,
   "metadata": {
    "colab_type": "code"
   },
   "outputs": [],
   "source": [
    "hf_username = huggingface_hub.whoami()[\"name\"]\n",
    "hf_uri = f\"hf://{hf_username}/gpt2_imdb\"\n",
    "keras_hub.upload_preset(hf_uri, preset_dir)\n",
    ""
   ]
  },
  {
   "cell_type": "markdown",
   "metadata": {
    "colab_type": "text"
   },
   "source": [
    "## Load a User Uploaded Model\n",
    "\n",
    "After verifying that the model is uploaded to Kaggle, we can load the model by calling `from_preset`.\n",
    "\n",
    "```python\n",
    "causal_lm = keras_hub.models.CausalLM.from_preset(\n",
    "    f\"kaggle://{kaggle_username}/gpt2/keras/gpt2_imdb\"\n",
    ")\n",
    "```\n",
    "\n",
    "We can also load the model uploaded to Hugging Face by calling `from_preset`.\n",
    "\n",
    "```python\n",
    "causal_lm = keras_hub.models.CausalLM.from_preset(f\"hf://{hf_username}/gpt2_imdb\")\n",
    "```"
   ]
  },
  {
   "cell_type": "markdown",
   "metadata": {
    "colab_type": "text"
   },
   "source": [
    "# Classifier Upload\n",
    "\n",
    "Uploading a classifier model is similar to Causal LM upload.\n",
    "To upload the fine-tuned model, first, the model should be saved to a local directory using `save_to_preset`\n",
    "API and then it can be uploaded via `keras_hub.upload_preset`."
   ]
  },
  {
   "cell_type": "code",
   "execution_count": 0,
   "metadata": {
    "colab_type": "code"
   },
   "outputs": [],
   "source": [
    "# Load the base model.\n",
    "classifier = keras_hub.models.Classifier.from_preset(\n",
    "    \"bert_tiny_en_uncased\", num_classes=2\n",
    ")\n",
    "\n",
    "# Fine-tune the classifier.\n",
    "classifier.fit(imdb_train)\n",
    "\n",
    "# Save the model to a local preset directory.\n",
    "preset_dir = \"./bert_tiny_imdb\"\n",
    "classifier.save_to_preset(preset_dir)\n",
    "\n",
    "# Upload to Kaggle.\n",
    "keras_hub.upload_preset(\n",
    "    f\"kaggle://{kaggle_username}/bert/keras/bert_tiny_imdb\", preset_dir\n",
    ")"
   ]
  },
  {
   "cell_type": "markdown",
   "metadata": {
    "colab_type": "text"
   },
   "source": [
    "After verifying that the model is uploaded to Kaggle, we can load the model by calling `from_preset`.\n",
    "\n",
    "```python\n",
    "classifier = keras_hub.models.Classifier.from_preset(\n",
    "    f\"kaggle://{kaggle_username}/bert/keras/bert_tiny_imdb\"\n",
    ")\n",
    "```"
   ]
  }
 ],
 "metadata": {
  "accelerator": "GPU",
  "colab": {
   "collapsed_sections": [],
   "name": "upload",
   "private_outputs": false,
   "provenance": [],
   "toc_visible": true
  },
  "kernelspec": {
   "display_name": "Python 3",
   "language": "python",
   "name": "python3"
  },
  "language_info": {
   "codemirror_mode": {
    "name": "ipython",
    "version": 3
   },
   "file_extension": ".py",
   "mimetype": "text/x-python",
   "name": "python",
   "nbconvert_exporter": "python",
   "pygments_lexer": "ipython3",
   "version": "3.7.0"
  }
 },
 "nbformat": 4,
 "nbformat_minor": 0
}