{
 "cells": [
  {
   "cell_type": "markdown",
   "metadata": {
    "colab_type": "text"
   },
   "source": [
    "# Stable Diffusion 3 in KerasHub!\n",
    "\n",
    "**Author:** [Hongyu Chiu](https://github.com/james77777778), [fchollet](https://twitter.com/fchollet), [lukewood](https://twitter.com/luke_wood_ml), [divamgupta](https://github.com/divamgupta)<br>\n",
    "**Date created:** 2024/10/09<br>\n",
    "**Last modified:** 2024/10/09<br>\n",
    "**Description:** Generate new images using KerasHub's Stable Diffusion 3 model."
   ]
  },
  {
   "cell_type": "markdown",
   "metadata": {
    "colab_type": "text"
   },
   "source": [
    "## Overview\n",
    "\n",
    "Stable Diffusion 3 is a powerful, open-source latent diffusion model (LDM)\n",
    "designed to generate high-quality novel images based on text prompts. Released\n",
    "by [Stability AI](https://stability.ai/), it was pre-trained on 1 billion\n",
    "images and fine-tuned on 33 million high-quality aesthetic and preference images\n",
    ", resulting in a greatly improved performance compared to previous version of\n",
    "Stable Diffusion models.\n",
    "\n",
    "In this guide, we will explore KerasHub's implementation of the\n",
    "[Stable Diffusion 3 Medium](https://huggingface.co/stabilityai/stable-diffusion-3-medium)\n",
    "including text-to-image, image-to-image and inpaint tasks.\n",
    "\n",
    "To get started, let's install a few dependencies and sort out some imports:"
   ]
  },
  {
   "cell_type": "code",
   "execution_count": 0,
   "metadata": {
    "colab_type": "code"
   },
   "outputs": [],
   "source": [
    "!!pip install -Uq keras\n",
    "!!pip install -Uq git+https://github.com/keras-team/keras-hub.git"
   ]
  },
  {
   "cell_type": "code",
   "execution_count": 0,
   "metadata": {
    "colab_type": "code"
   },
   "outputs": [],
   "source": [
    "import os\n",
    "\n",
    "os.environ[\"KERAS_BACKEND\"] = \"jax\"\n",
    "\n",
    "import time\n",
    "\n",
    "import keras\n",
    "import keras_hub\n",
    "import numpy as np\n",
    "from PIL import Image"
   ]
  },
  {
   "cell_type": "markdown",
   "metadata": {
    "colab_type": "text"
   },
   "source": [
    "## Introduction\n",
    "\n",
    "Before diving into how latent diffusion models work, let's start by generating\n",
    "some images using KerasHub's APIs.\n",
    "\n",
    "To avoid reinitializing variables for different tasks, we'll instantiate and\n",
    "load the trained `backbone` and `preprocessor` using KerasHub's `from_preset`\n",
    "factory method. If you only want to perform one task at a time, you can use a\n",
    "simpler API like this:\n",
    "\n",
    "```python\n",
    "text_to_image = keras_hub.models.StableDiffusion3TextToImage.from_preset(\n",
    "    \"stable_diffusion_3_medium\", dtype=\"float16\"\n",
    ")\n",
    "```\n",
    "\n",
    "That will automatically load and configure trained `backbone` and `preprocessor`\n",
    "for you.\n",
    "\n",
    "Note that in this guide, we'll use `height=512` and `width=512` for faster\n",
    "image generation. For higher-quality output, it's recommended to use the default\n",
    "size of `1024`. Since the entire backbone has about 3 billion parameters, which\n",
    "can be challenging to fit into a consumer-level GPU, we set `dtype=\"float16\"` to\n",
    "reduce the usage of GPU memory -- the officially released weights are also in\n",
    "float16.\n",
    "\n",
    "It is also worth noting that the preset \"stable_diffusion_3_medium\" excludes the\n",
    "T5XXL text encoder, as it requires significantly more GPU memory. The performace\n",
    "degradation is negligible in most cases."
   ]
  },
  {
   "cell_type": "code",
   "execution_count": 0,
   "metadata": {
    "colab_type": "code"
   },
   "outputs": [],
   "source": [
    "backbone = keras_hub.models.StableDiffusion3Backbone.from_preset(\n",
    "    \"stable_diffusion_3_medium\", height=512, width=512, dtype=\"float16\"\n",
    ")\n",
    "preprocessor = keras_hub.models.StableDiffusion3TextToImagePreprocessor.from_preset(\n",
    "    \"stable_diffusion_3_medium\"\n",
    ")\n",
    "text_to_image = keras_hub.models.StableDiffusion3TextToImage(backbone, preprocessor)"
   ]
  },
  {
   "cell_type": "markdown",
   "metadata": {
    "colab_type": "text"
   },
   "source": [
    "Next, we give it a prompt:"
   ]
  },
  {
   "cell_type": "code",
   "execution_count": 0,
   "metadata": {
    "colab_type": "code"
   },
   "outputs": [],
   "source": [
    "prompt = \"Astronaut in a jungle, cold color palette, muted colors, detailed, 8k\"\n",
    "\n",
    "# When using JAX or TensorFlow backends, you might experience a significant\n",
    "# compilation time during the first `generate()` call. It will be much faster\n",
    "# after that.\n",
    "generated_image = text_to_image.generate(prompt)\n",
    "generated_image = Image.fromarray(generated_image)\n",
    "generated_image.show()"
   ]
  },
  {
   "cell_type": "markdown",
   "metadata": {
    "colab_type": "text"
   },
   "source": [
    "Pretty impressive! But how does this work?\n",
    "\n",
    "Let's dig into what \"latent diffusion model\" means.\n",
    "\n",
    "Consider the concept of \"super-resolution,\" where a deep learning model\n",
    "\"denoises\" an input image, turning it into a higher-resolution version. The\n",
    "model uses its training data distribution to hallucinate the visual details that\n",
    "are most likely given the input. To learn more about super-resolution, you can\n",
    "check out the following Keras.io tutorials:\n",
    "\n",
    "- [Image Super-Resolution using an Efficient Sub-Pixel CNN](https://keras.io/examples/vision/super_resolution_sub_pixel/)\n",
    "- [Enhanced Deep Residual Networks for single-image super-resolution](https://keras.io/examples/vision/edsr/)\n",
    "\n",
    "![Super-resolution](https://i.imgur.com/M0XdqOo.png)\n",
    "\n",
    "When we push this idea to the limit, we may start asking -- what if we just run\n",
    "such a model on pure noise? The model would then \"denoise the noise\" and start\n",
    "hallucinating a brand new image. By repeating the process multiple times, we\n",
    "can get turn a small patch of noise into an increasingly clear and\n",
    "high-resolution artificial picture.\n",
    "\n",
    "This is the key idea of latent diffusion, proposed in\n",
    "[High-Resolution Image Synthesis with Latent Diffusion Models](https://arxiv.org/abs/2112.10752).\n",
    "To understand diffusion in depth, you can check the Keras.io tutorial\n",
    "[Denoising Diffusion Implicit Models](https://keras.io/examples/generative/ddim/).\n",
    "\n",
    "![Denoising diffusion](https://i.imgur.com/FSCKtZq.gif)\n",
    "\n",
    "To transition from latent diffusion to a text-to-image system, one key feature\n",
    "must be added: the ability to control the generated visual content using prompt\n",
    "keywords. In Stable Diffusion 3, the text encoders from the CLIP and T5XXL\n",
    "models are used to obtain text embeddings, which are then fed into the diffusion\n",
    "model to condition the diffusion process. This approach is based on the concept\n",
    "of \"classifier-free guidance\", proposed in\n",
    "[Classifier-Free Diffusion Guidance](https://arxiv.org/abs/2207.12598).\n",
    "\n",
    "When we combine these ideas, we get a high-level overview of the architecture of\n",
    "Stable Diffusion 3:\n",
    "\n",
    "- Text encoders: Convert the text prompt into text embeddings.\n",
    "- Diffusion model: Repeatedly \"denoises\" a smaller latent image patch.\n",
    "- Decoder: Transforms the final latent patch into a higher-resolution image.\n",
    "\n",
    "First, the text prompt is projected into the latent space by multiple text\n",
    "encoders, which are pretrained and frozen language models. Next, the text\n",
    "embeddings, along with a randomly generated noise patch (typically from a\n",
    "Gaussian distribution), are then fed into the diffusion model. The diffusion\n",
    "model repeatly \"denoises\" the noise patch over a series of steps (the more\n",
    "steps, the clearer and more refined the image becomes -- the default value is\n",
    "28 steps). Finally, the latent patch is passed through the decoder from the VAE\n",
    "model to render the image in high resolution.\n",
    "\n",
    "The overview of the Stable Diffusion 3 architecture:\n",
    "![The Stable Diffusion 3 architecture](https://i.imgur.com/D9y0fWF.png)\n",
    "\n",
    "This relatively simple system starts looking like magic once we train on\n",
    "billions of pictures and their captions. As Feynman said about the universe:\n",
    "_\"It's not complicated, it's just a lot of it!\"_"
   ]
  },
  {
   "cell_type": "markdown",
   "metadata": {
    "colab_type": "text"
   },
   "source": [
    "## Text-to-image task\n",
    "\n",
    "Now we know the basis of the Stable Diffusion 3 and the text-to-image task.\n",
    "Let's explore it more by KerasHub APIs.\n",
    "\n",
    "To enable batch processing, we can feed a list of prompts into the model:"
   ]
  },
  {
   "cell_type": "code",
   "execution_count": 0,
   "metadata": {
    "colab_type": "code"
   },
   "outputs": [],
   "source": [
    "\n",
    "def concate_images(images):\n",
    "    if isinstance(images, list):\n",
    "        concated_images = np.concatenate(list(images), axis=1)\n",
    "        return Image.fromarray(concated_images)\n",
    "    elif len(images.shape) < 4:\n",
    "        return Image.fromarray(images)\n",
    "    else:\n",
    "        concated_images = np.concatenate(list(images), axis=1)\n",
    "        return Image.fromarray(concated_images)\n",
    "\n",
    "\n",
    "generated_images = text_to_image.generate([prompt] * 3)\n",
    "generated_image = concate_images(generated_images)\n",
    "generated_image.show()"
   ]
  },
  {
   "cell_type": "markdown",
   "metadata": {
    "colab_type": "text"
   },
   "source": [
    "`num_steps` controls the number of denoising steps. More denoising steps\n",
    "typically produce higher quality images, but it'll take longer to generate. In\n",
    "Stable Diffusion 3, it defaults to `28`."
   ]
  },
  {
   "cell_type": "code",
   "execution_count": 0,
   "metadata": {
    "colab_type": "code"
   },
   "outputs": [],
   "source": [
    "num_steps = [10, 28, 50]\n",
    "generated_images = []\n",
    "for n in num_steps:\n",
    "    st = time.time()\n",
    "    generated_images.append(text_to_image.generate(prompt, num_steps=n))\n",
    "    print(f\"Cost time (`num_steps={n}`): {time.time() - st:.2f}s\")\n",
    "\n",
    "generated_image = concate_images(generated_images)\n",
    "generated_image.show()"
   ]
  },
  {
   "cell_type": "markdown",
   "metadata": {
    "colab_type": "text"
   },
   "source": [
    "We can use `\"negative_prompts\"` to guide the model away from generating specific\n",
    "styles and elements. The input format becomes a dict with the keys `\"prompts\"`\n",
    "and `\"negative_prompts\"`.\n",
    "\n",
    "If `\"negative_prompts\"` is not provided, it will be interpreted as an\n",
    "unconditioned prompt with the default value of `\"\"`."
   ]
  },
  {
   "cell_type": "code",
   "execution_count": 0,
   "metadata": {
    "colab_type": "code"
   },
   "outputs": [],
   "source": [
    "inputs = {\"prompts\": [prompt] * 3, \"negative_prompts\": [\"Green color\"] * 3}\n",
    "generated_images = text_to_image.generate(inputs)\n",
    "generated_image = concate_images(generated_images)\n",
    "generated_image.show()"
   ]
  },
  {
   "cell_type": "markdown",
   "metadata": {
    "colab_type": "text"
   },
   "source": [
    "`guidance_scale` affects how much the `\"prompts\"` influences image generation.\n",
    "A lower value gives the model creativity to generate images that are more\n",
    "loosely related to the prompt. Higher values push the model to follow the prompt\n",
    "more closely. If this value is too high, you may observe some artifacts in the\n",
    "generated image. In Stable Diffusion 3, it defaults to `7.0`."
   ]
  },
  {
   "cell_type": "code",
   "execution_count": 0,
   "metadata": {
    "colab_type": "code"
   },
   "outputs": [],
   "source": [
    "generated_images = [\n",
    "    text_to_image.generate(prompt, guidance_scale=2.5),\n",
    "    text_to_image.generate(prompt, guidance_scale=7.0),\n",
    "    text_to_image.generate(prompt, guidance_scale=10.5),\n",
    "]\n",
    "generated_image = concate_images(generated_images)\n",
    "generated_image.show()"
   ]
  },
  {
   "cell_type": "markdown",
   "metadata": {
    "colab_type": "text"
   },
   "source": [
    "Note that `negative_prompts` and `guidance_scale` are related. The formula in\n",
    "the implementation can be represented as follows:\n",
    "`predicted_noise = negative_noise + guidance_scale * (positive_noise - negative_noise)`."
   ]
  },
  {
   "cell_type": "markdown",
   "metadata": {
    "colab_type": "text"
   },
   "source": [
    "## Image-to-image task\n",
    "\n",
    "It is possible to use a referece image as the starting point for the diffusion\n",
    "process. This requires an additional module in the pipeline -- the encoder of\n",
    "the VAE model.\n",
    "\n",
    "The reference image is encoded by the VAE encoder into the latent space, where\n",
    "noise is then added. The subsequent steps follow the same procedure as the\n",
    "text-to-image task.\n",
    "\n",
    "The input format becomes a dict with the keys `\"images\"`, `\"prompts\"` and\n",
    "optionally `\"negative_prompts\"`."
   ]
  },
  {
   "cell_type": "code",
   "execution_count": 0,
   "metadata": {
    "colab_type": "code"
   },
   "outputs": [],
   "source": [
    "image_to_image = keras_hub.models.StableDiffusion3ImageToImage(backbone, preprocessor)\n",
    "\n",
    "image = keras.utils.get_file(\n",
    "    \"cat.png\",\n",
    "    origin=\"https://huggingface.co/datasets/huggingface/documentation-images/resolve/main/diffusers/cat.png\",\n",
    ")\n",
    "image = Image.open(image).convert(\"RGB\")\n",
    "width, height = image.size\n",
    "\n",
    "# Crop the image to fit the height and width of the backbone.\n",
    "image = image.crop(\n",
    "    (width // 2 - 256, height // 2 - 256, width // 2 + 256, height // 2 + 256)\n",
    ")\n",
    "\n",
    "# Note that the values of the image must be in the range of [-1.0, 1.0].\n",
    "image_array = np.array(image).astype(\"float32\")\n",
    "image_array = image_array / 127.5 - 1.0\n",
    "prompt = \"cat wizard, gandalf, lord of the rings, detailed, fantasy, cute, \"\n",
    "prompt += \"adorable, Pixar, Disney, 8k\"\n",
    "\n",
    "generated_image = image_to_image.generate({\"images\": image_array, \"prompts\": prompt})\n",
    "\n",
    "display_image = concate_images([np.array(image), generated_image])\n",
    "display_image.show()"
   ]
  },
  {
   "cell_type": "markdown",
   "metadata": {
    "colab_type": "text"
   },
   "source": [
    "## Inpaint task\n",
    "\n",
    "To extent the image-to-image task, we can also control the generated area using\n",
    "a mask. This process is called inpainting, where specific areas of an image are\n",
    "replaced or edited.\n",
    "\n",
    "Inpainting relies on a mask to determine which regions of the image to modify.\n",
    "The areas to inpaint are represented by white pixels (`True`), while the areas\n",
    "to preserve are represented by black pixels (`False`).\n",
    "\n",
    "The input format becomes a dict with the keys `\"images\"`, `\"masks\"`, `\"prompts\"`\n",
    "and optionally `\"negative_prompts\"`."
   ]
  },
  {
   "cell_type": "code",
   "execution_count": 0,
   "metadata": {
    "colab_type": "code"
   },
   "outputs": [],
   "source": [
    "inpaint = keras_hub.models.StableDiffusion3Inpaint(backbone, preprocessor)\n",
    "\n",
    "image = keras.utils.get_file(\n",
    "    \"inpaint.png\",\n",
    "    origin=\"https://huggingface.co/datasets/huggingface/documentation-images/resolve/main/diffusers/inpaint.png\",\n",
    ")\n",
    "image = Image.open(image).convert(\"RGB\")\n",
    "image_array = np.array(image).astype(\"float32\")\n",
    "image_array = image_array / 127.5 - 1.0\n",
    "mask = keras.utils.get_file(\n",
    "    \"inpaint_mask.png\",\n",
    "    origin=\"https://huggingface.co/datasets/huggingface/documentation-images/resolve/main/diffusers/inpaint_mask.png\",\n",
    ")\n",
    "mask = Image.open(mask).convert(\"L\")\n",
    "\n",
    "# Note that the mask values are of boolean dtype.\n",
    "mask_array = np.array(mask).astype(\"bool\")\n",
    "prompt = \"concept art digital painting of an elven castle, \"\n",
    "prompt += \"inspired by lord of the rings, highly detailed, 8k\"\n",
    "\n",
    "generated_image = inpaint.generate(\n",
    "    {\"images\": image_array, \"masks\": mask_array, \"prompts\": prompt}\n",
    ")\n",
    "\n",
    "display_image = concate_images(\n",
    "    [np.array(image), np.array(mask.convert(\"RGB\")), generated_image]\n",
    ")\n",
    "display_image.show()"
   ]
  },
  {
   "cell_type": "markdown",
   "metadata": {
    "colab_type": "text"
   },
   "source": [
    "## Conclusion\n",
    "\n",
    "KerasHub's `StableDiffusion3` supports a variety of applications and, with the\n",
    "help of Keras 3, enables running the model on TensorFlow, JAX, and PyTorch!"
   ]
  }
 ],
 "metadata": {
  "accelerator": "GPU",
  "colab": {
   "collapsed_sections": [],
   "name": "stable_diffusion_3_in_keras_hub",
   "private_outputs": false,
   "provenance": [],
   "toc_visible": true
  },
  "kernelspec": {
   "display_name": "Python 3",
   "language": "python",
   "name": "python3"
  },
  "language_info": {
   "codemirror_mode": {
    "name": "ipython",
    "version": 3
   },
   "file_extension": ".py",
   "mimetype": "text/x-python",
   "name": "python",
   "nbconvert_exporter": "python",
   "pygments_lexer": "ipython3",
   "version": "3.7.0"
  }
 },
 "nbformat": 4,
 "nbformat_minor": 0
}