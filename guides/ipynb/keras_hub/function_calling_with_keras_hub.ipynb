{
 "cells": [
  {
   "cell_type": "markdown",
   "metadata": {
    "colab_type": "text"
   },
   "source": [
    "# Function Calling with Keras Hub models\n",
    "\n",
    "**Author:** [Laxmareddy Patlolla](https://github.com/laxmareddyp), [Divyashree Sreepathihalli](https://github.com/divyashreepathihalli)<br>\n",
    "**Date created:** 2025/07/08<br>\n",
    "**Last modified:** 2025/07/08<br>\n",
    "**Description:** A guide to using the function calling feature in Keras Hub with Gemma 3 and Mistral."
   ]
  },
  {
   "cell_type": "markdown",
   "metadata": {
    "colab_type": "text"
   },
   "source": [
    "## Introduction\n",
    "\n",
    "Tool calling is a powerful new feature in modern large language models that allows them to use external tools, such as Python functions, to answer questions and perform actions. Instead of just generating text, a tool-calling model can generate code that calls a function you've provided, allowing it to interact with the real world, access live data, and perform complex calculations.\n",
    "\n",
    "In this guide, we'll walk you through a simple example of tool calling with the Gemma 3 and Mistral models and Keras Hub. We'll show you how to:\n",
    "\n",
    "1.  Define a tool (a Python function).\n",
    "2.  Tell the models about the tool.\n",
    "3.  Use the model to generate code that calls the tool.\n",
    "4.  Execute the code and feed the result back to the model.\n",
    "5.  Get a final, natural-language response from the model.\n",
    "\n",
    "Let's get started!"
   ]
  },
  {
   "cell_type": "markdown",
   "metadata": {
    "colab_type": "text"
   },
   "source": [
    "## Setup\n",
    "\n",
    "First, let's import the necessary libraries and configure our environment. We'll be using KerasHub to download and run the language models, and we'll need to authenticate with Kaggle to access the model weights."
   ]
  },
  {
   "cell_type": "code",
   "execution_count": 0,
   "metadata": {
    "colab_type": "code"
   },
   "outputs": [],
   "source": [
    "import os\n",
    "import json\n",
    "import random\n",
    "import string\n",
    "import keras\n",
    "import keras_hub\n",
    "import kagglehub\n",
    "import numpy as np\n",
    "\n",
    "os.environ[\"KERAS_BACKEND\"] = \"jax\"\n",
    "keras.config.set_dtype_policy(\"bfloat16\")\n",
    "\n",
    "# Authenticate with Kaggle\n",
    "kagglehub.login()"
   ]
  },
  {
   "cell_type": "markdown",
   "metadata": {
    "colab_type": "text"
   },
   "source": [
    "### Loading the Model\n",
    "\n",
    "Next, we'll load the Gemma 3 model from KerasHub. We're using the `gemma3_instruct_4b` preset, which is a version of the model that has been specifically fine-tuned for instruction following and tool calling."
   ]
  },
  {
   "cell_type": "code",
   "execution_count": 0,
   "metadata": {
    "colab_type": "code"
   },
   "outputs": [],
   "source": [
    "gemma = keras_hub.models.Gemma3CausalLM.from_preset(\"gemma3_instruct_4b\")"
   ]
  },
  {
   "cell_type": "markdown",
   "metadata": {
    "colab_type": "text"
   },
   "source": [
    "### Defining a Tool\n",
    "\n",
    "Now, let's define a simple tool that we want our model to be able to use. For this example, we'll create a Python function called `convert` that can convert one currency to another."
   ]
  },
  {
   "cell_type": "code",
   "execution_count": 0,
   "metadata": {
    "colab_type": "code"
   },
   "outputs": [],
   "source": [
    "\n",
    "def convert(amount: float, currency: str, new_currency: str) -> float:\n",
    "    \"\"\"Convert the currency with the latest exchange rate\n",
    "\n",
    "    Args:\n",
    "      amount: The amount of currency to convert\n",
    "      currency: The currency to convert from\n",
    "      new_currency: The currency to convert to\n",
    "    \"\"\"\n",
    "    # In a real application, this function would call an API to get the latest\n",
    "    # exchange rate. For this example, we'll just use a fixed rate.\n",
    "    if currency == \"USD\" and new_currency == \"EUR\":\n",
    "        return amount * 0.9\n",
    "    else:\n",
    "        return amount\n",
    ""
   ]
  },
  {
   "cell_type": "markdown",
   "metadata": {
    "colab_type": "text"
   },
   "source": [
    "### Telling the Model About the Tool\n",
    "\n",
    "Now that we have a tool, we need to tell the Gemma 3 model about it. We do this by providing a carefully crafted prompt that includes:\n",
    "\n",
    "1.  A description of the tool calling process.\n",
    "2.  The Python code for the tool, including its function signature and docstring.\n",
    "3.  The user's question.\n",
    "\n",
    "Here's the prompt we'll use:"
   ]
  },
  {
   "cell_type": "code",
   "execution_count": 0,
   "metadata": {
    "colab_type": "code"
   },
   "outputs": [],
   "source": [
    "message = '''\n",
    "<start_of_turn>user\n",
    "At each turn, if you decide to invoke any of the function(s), it should be wrapped with ```tool_code```. The python methods described below are imported and available, you can only use defined methods and must not reimplement them. The generated code should be readable and efficient. I will provide the response wrapped in ```tool_output```, use it to call more tools or generate a helpful, friendly response. When using a ```tool_call``` think step by step why and how it should be used.\n",
    "\n",
    "The following Python methods are available:\n",
    "\n",
    "```python\n",
    "def convert(amount: float, currency: str, new_currency: str) -> float:\n",
    "    \"\"\"Convert the currency with the latest exchange rate\n",
    "\n",
    "    Args:\n",
    "      amount: The amount of currency to convert\n",
    "      currency: The currency to convert from\n",
    "      new_currency: The currency to convert to\n",
    "    \"\"\"\n",
    "```\n",
    "\n",
    "\n",
    "User: What is $200,000 in EUR?<end_of_turn>\n",
    "<start_of_turn>model\n",
    "'''"
   ]
  },
  {
   "cell_type": "markdown",
   "metadata": {
    "colab_type": "text"
   },
   "source": [
    "### Generating the Tool Call\n",
    "\n",
    "Now, let's pass this prompt to the model and see what it generates."
   ]
  },
  {
   "cell_type": "code",
   "execution_count": 0,
   "metadata": {
    "colab_type": "code"
   },
   "outputs": [],
   "source": [
    "print(gemma.generate(message))"
   ]
  },
  {
   "cell_type": "markdown",
   "metadata": {
    "colab_type": "text"
   },
   "source": [
    "As you can see, the model has correctly identified that it can use the `convert` function to answer the question, and it has generated the corresponding Python code."
   ]
  },
  {
   "cell_type": "markdown",
   "metadata": {
    "colab_type": "text"
   },
   "source": [
    "### Executing the Tool Call and Getting a Final Answer\n",
    "\n",
    "In a real application, you would now take this generated code, execute it, and feed the result back to the model. We can simulate this by creating a new prompt that includes the output of the tool call."
   ]
  },
  {
   "cell_type": "code",
   "execution_count": 0,
   "metadata": {
    "colab_type": "code"
   },
   "outputs": [],
   "source": [
    "message2 = '''\n",
    "<start_of_turn>user\n",
    "At each turn, if you decide to invoke any of the function(s), it should be wrapped with ```tool_code```. The python methods described below are imported and available, you can only use defined methods and must not reimplement them. The generated code should be readable and efficient. I will provide the response wrapped in ```tool_output```, use it to call more tools or generate a helpful, friendly response. When using a ```tool_call``` think step by step why and how it should be used.\n",
    "\n",
    "The following Python methods are available:\n",
    "\n",
    "```python\n",
    "def convert(amount: float, currency: str, new_currency: str) -> float:\n",
    "    \"\"\"Convert the currency with the latest exchange rate\n",
    "\n",
    "    Args:\n",
    "      amount: The amount of currency to convert\n",
    "      currency: The currency to convert from\n",
    "      new_currency: The currency to convert to\n",
    "    \"\"\"\n",
    "```\n",
    "\n",
    "\n",
    "User: What is $200,000 in EUR?<end_of_turn>\n",
    "<start_of_turn>model\n",
    "```tool_code\n",
    "print(convert(200000, \"USD\", \"EUR\"))\n",
    "```<end_of_turn>\n",
    "<start_of_turn>user\n",
    "```tool_output\n",
    "180000.0\n",
    "```\n",
    "<end_of_turn>\n",
    "<start_of_turn>model\n",
    "'''"
   ]
  },
  {
   "cell_type": "markdown",
   "metadata": {
    "colab_type": "text"
   },
   "source": [
    "Now, let's pass this new prompt to the model."
   ]
  },
  {
   "cell_type": "code",
   "execution_count": 0,
   "metadata": {
    "colab_type": "code"
   },
   "outputs": [],
   "source": [
    "print(gemma.generate(message2))"
   ]
  },
  {
   "cell_type": "markdown",
   "metadata": {
    "colab_type": "text"
   },
   "source": [
    "This time, the model has the information it needs to answer the question, and it generates a natural-language response."
   ]
  },
  {
   "cell_type": "markdown",
   "metadata": {
    "colab_type": "text"
   },
   "source": [
    "## Mistral\n",
    "\n",
    "Mistral differs from Gemma in its approach to tool calling, as it requires a specific format and defines special control tokens for this purpose. This JSON-based syntax for tool calling is also adopted by other models, such as Qwen and Llama.\n",
    "\n",
    "We will now extend the example to a more exciting use case: building a flight booking agent. This agent will be able to search for appropriate flights and book them automatically.\n",
    "\n",
    "To do this, we will first download the Mistral model using Keras Hub. For agentic AI with Mistral, low-level access to tokenization is necessary due to the use of control tokens. Therefore, we will instantiate the tokenizer and model separately, and disable the preprocessor for the model."
   ]
  },
  {
   "cell_type": "code",
   "execution_count": 0,
   "metadata": {
    "colab_type": "code"
   },
   "outputs": [],
   "source": [
    "tokenizer = keras_hub.tokenizers.MistralTokenizer.from_preset(\n",
    "    \"kaggle://keras/mistral/keras/mistral_0.3_instruct_7b_en\"\n",
    ")\n",
    "\n",
    "mistral = keras_hub.models.MistralCausalLM.from_preset(\n",
    "    \"kaggle://keras/mistral/keras/mistral_0.3_instruct_7b_en\", preprocessor=None\n",
    ")"
   ]
  },
  {
   "cell_type": "markdown",
   "metadata": {
    "colab_type": "text"
   },
   "source": [
    "Next, we'll define functions for tokenization. The `preprocess` function will take a tokenized conversation in list form and format it correctly for the model. We'll also create an additional function, `encode_instruction`, for tokenizing text and adding instruction control tokens."
   ]
  },
  {
   "cell_type": "code",
   "execution_count": 0,
   "metadata": {
    "colab_type": "code"
   },
   "outputs": [],
   "source": [
    "\n",
    "def preprocess(messages, sequence_length=8192):\n",
    "    concatd = np.expand_dims(np.concatenate(messages), 0)\n",
    "    return {\n",
    "        \"token_ids\": np.pad(concatd, ((0, 0), (0, sequence_length - concatd.shape[1]))),\n",
    "        \"padding_mask\": np.expand_dims(\n",
    "            np.arange(sequence_length) < concatd.shape[1], 0\n",
    "        ).astype(int),\n",
    "    }\n",
    "\n",
    "\n",
    "def encode_instruction(text):\n",
    "    return [\n",
    "        [tokenizer.token_to_id(\"[INST]\")],\n",
    "        tokenizer(text),\n",
    "        [tokenizer.token_to_id(\"[/INST]\")],\n",
    "    ]\n",
    ""
   ]
  },
  {
   "cell_type": "markdown",
   "metadata": {
    "colab_type": "text"
   },
   "source": [
    "Now, we'll define a function, `try_parse_funccall`, to handle the model's function calls. These calls are identified by the `[TOOL_CALLS]` control token. The function will parse the subsequent data, which is in JSON format. Mistral also requires us to add a random call ID to each function call. Finally, the function will call the matching tool and encode its results using the `[TOOL_RESULTS]` control token."
   ]
  },
  {
   "cell_type": "code",
   "execution_count": 0,
   "metadata": {
    "colab_type": "code"
   },
   "outputs": [],
   "source": [
    "\n",
    "def try_parse_funccall(response):\n",
    "    # find the tool call in the response, if any\n",
    "    tool_call_id = tokenizer.token_to_id(\"[TOOL_CALLS]\")\n",
    "    pos = np.where(response == tool_call_id)[0]\n",
    "    if not len(pos):\n",
    "        return [response]\n",
    "    pos = pos[0]\n",
    "    # try to decode it as JSON\n",
    "    decoder = json.JSONDecoder()\n",
    "    tool_calls, _ = decoder.raw_decode(tokenizer.detokenize(response[pos + 1 :]))\n",
    "    if not isinstance(tool_calls, list) or not all(\n",
    "        isinstance(item, dict) for item in tool_calls\n",
    "    ):\n",
    "        return\n",
    "    # assign a random call ID\n",
    "    for call in tool_calls:\n",
    "        call[\"id\"] = \"\".join(random.choices(string.ascii_letters + string.digits, k=9))\n",
    "    res = [response[:pos], [tool_call_id], tokenizer(json.dumps(tool_calls))]\n",
    "    # call the tools and extend the conversation\n",
    "    for call in tool_calls:\n",
    "        res.append([tokenizer.token_to_id(\"[TOOL_RESULTS]\")])\n",
    "        res.append(\n",
    "            tokenizer(\n",
    "                json.dumps(\n",
    "                    {\n",
    "                        \"content\": tools[call[\"name\"]](**call[\"arguments\"]),\n",
    "                        \"call_id\": call[\"id\"],\n",
    "                    }\n",
    "                )\n",
    "            )\n",
    "        )\n",
    "        res.append([tokenizer.token_to_id(\"[/TOOL_RESULTS]\")])\n",
    "    return res\n",
    ""
   ]
  },
  {
   "cell_type": "markdown",
   "metadata": {
    "colab_type": "text"
   },
   "source": [
    "We will extend our set of tools to include functions for currency conversion, finding flights, and booking flights. For this example, we'll use mock implementations for these functions, meaning they will return dummy data instead of interacting with real services."
   ]
  },
  {
   "cell_type": "code",
   "execution_count": 0,
   "metadata": {
    "colab_type": "code"
   },
   "outputs": [],
   "source": [
    "tools = {\n",
    "    \"convert_currency\": lambda amount, currency, new_currency: (\n",
    "        f\"{amount*0.85:.2f}\" if currency == \"USD\" else f\"{amount/0.85:.2f}\"\n",
    "    ),\n",
    "    \"find_flights\": lambda origin, destination, date: [\n",
    "        {\"id\": 1, \"price\": \"USD 220\", \"stops\": 2, \"duration\": 4.5},\n",
    "        {\"id\": 2, \"price\": \"USD 22\", \"stops\": 1, \"duration\": 2.0},\n",
    "        {\"id\": 3, \"price\": \"USD 240\", \"stops\": 2, \"duration\": 13.2},\n",
    "    ],\n",
    "    \"book_flight\": lambda id: globals().update(flight_booked=True),\n",
    "}"
   ]
  },
  {
   "cell_type": "markdown",
   "metadata": {
    "colab_type": "text"
   },
   "source": [
    "It's crucial to inform the model about these available functions at the very beginning of the conversation. To do this, we will define the available tools in a specific JSON format, as shown in the following code block."
   ]
  },
  {
   "cell_type": "code",
   "execution_count": 0,
   "metadata": {
    "colab_type": "code"
   },
   "outputs": [],
   "source": [
    "tool_definitions = [\n",
    "    {\n",
    "        \"type\": \"function\",\n",
    "        \"function\": {\n",
    "            \"name\": \"convert_currency\",\n",
    "            \"description\": \"Convert the currency with the latest exchange rate\",\n",
    "            \"parameters\": {\n",
    "                \"type\": \"object\",\n",
    "                \"properties\": {\n",
    "                    \"amount\": {\"type\": \"number\", \"description\": \"The amount\"},\n",
    "                    \"currency\": {\n",
    "                        \"type\": \"string\",\n",
    "                        \"description\": \"The currency to convert from\",\n",
    "                    },\n",
    "                    \"new_currency\": {\n",
    "                        \"type\": \"string\",\n",
    "                        \"description\": \"The currency to convert to\",\n",
    "                    },\n",
    "                },\n",
    "                \"required\": [\"amount\", \"currency\", \"new_currency\"],\n",
    "            },\n",
    "        },\n",
    "    },\n",
    "    {\n",
    "        \"type\": \"function\",\n",
    "        \"function\": {\n",
    "            \"name\": \"find_flights\",\n",
    "            \"description\": \"Query price, time, number of stopovers and duration in hours for flights for a given date\",\n",
    "            \"parameters\": {\n",
    "                \"type\": \"object\",\n",
    "                \"properties\": {\n",
    "                    \"origin\": {\n",
    "                        \"type\": \"string\",\n",
    "                        \"description\": \"The city to depart from\",\n",
    "                    },\n",
    "                    \"destination\": {\n",
    "                        \"type\": \"string\",\n",
    "                        \"description\": \"The destination city\",\n",
    "                    },\n",
    "                    \"date\": {\n",
    "                        \"type\": \"string\",\n",
    "                        \"description\": \"The date in YYYYMMDD format\",\n",
    "                    },\n",
    "                },\n",
    "                \"required\": [\"origin\", \"destination\", \"date\"],\n",
    "            },\n",
    "        },\n",
    "    },\n",
    "    {\n",
    "        \"type\": \"function\",\n",
    "        \"function\": {\n",
    "            \"name\": \"book_flight\",\n",
    "            \"description\": \"Book the flight with the given id\",\n",
    "            \"parameters\": {\n",
    "                \"type\": \"object\",\n",
    "                \"properties\": {\n",
    "                    \"id\": {\n",
    "                        \"type\": \"number\",\n",
    "                        \"description\": \"The numeric id of the flight to book\",\n",
    "                    },\n",
    "                },\n",
    "                \"required\": [\"id\"],\n",
    "            },\n",
    "        },\n",
    "    },\n",
    "]"
   ]
  },
  {
   "cell_type": "markdown",
   "metadata": {
    "colab_type": "text"
   },
   "source": [
    "We will define the conversation as a `messages` list. At the very beginning of this list, we need to include a Beginning-Of-Sequence (BOS) token. This is followed by the tool definitions, which must be wrapped in `[AVAILABLE_TOOLS]` and `[/AVAILABLE_TOOLS]` control tokens."
   ]
  },
  {
   "cell_type": "code",
   "execution_count": 0,
   "metadata": {
    "colab_type": "code"
   },
   "outputs": [],
   "source": [
    "messages = [\n",
    "    [tokenizer.token_to_id(\"<s>\")],\n",
    "    [tokenizer.token_to_id(\"[AVAILABLE_TOOLS]\")],\n",
    "    tokenizer(json.dumps(tool_definitions)),\n",
    "    [tokenizer.token_to_id(\"[/AVAILABLE_TOOLS]\")],\n",
    "]"
   ]
  },
  {
   "cell_type": "markdown",
   "metadata": {
    "colab_type": "text"
   },
   "source": [
    "Now, let's get started! We will task the model with the following: **Book the most comfortable flight from Linz to London on the 24th of July 2025, but only if it costs less than 20\u20ac as of the latest exchange rate.**"
   ]
  },
  {
   "cell_type": "code",
   "execution_count": 0,
   "metadata": {
    "colab_type": "code"
   },
   "outputs": [],
   "source": [
    "messages.extend(\n",
    "    encode_instruction(\n",
    "        \"Book the most comfortable flight from Linz to London on the 24th of July 2025, but only if it costs less than 20\u20ac as of the latest exchange rate.\"\n",
    "    )\n",
    ")"
   ]
  },
  {
   "cell_type": "markdown",
   "metadata": {
    "colab_type": "text"
   },
   "source": [
    "In an agentic AI system, the model interacts with its tools through a sequence of messages. We will continue to handle these messages until the flight is successfully booked.\n",
    "For educational purposes, we will output the tool calls issued by the model; typically, a user would not see this level of detail. It's important to note that after the tool call JSON, the data must be truncated. If not, a less capable model may 'babble', outputting redundant or confused data."
   ]
  },
  {
   "cell_type": "code",
   "execution_count": 0,
   "metadata": {
    "colab_type": "code"
   },
   "outputs": [],
   "source": [
    "flight_booked = False\n",
    "while not flight_booked:\n",
    "    # query the model\n",
    "    res = mistral.generate(\n",
    "        preprocess(messages), max_length=8192, stop_token_ids=[2], strip_prompt=True\n",
    "    )\n",
    "    # output the model's response, add separator line for legibility\n",
    "    print(\n",
    "        tokenizer.detokenize(res[\"token_ids\"][0, : np.argmax(~res[\"padding_mask\"])]),\n",
    "        f\"\\n\\n\\n{'-'*100}\\n\\n\",\n",
    "    )\n",
    "    # perform tool calls and extend `messages`\n",
    "    messages.extend(try_parse_funccall(res[\"token_ids\"][0]))"
   ]
  },
  {
   "cell_type": "markdown",
   "metadata": {
    "colab_type": "text"
   },
   "source": [
    "For understandability, here's the conversation as received by the model, i.e. when truncating after the tool calling JSON:\n",
    "\n",
    "* **User:**\n",
    "```\n",
    "Book the most comfortable flight from Linz to London on the 24th of July 2025, but only if it costs less than 20\u20ac as of the latest exchange rate.\n",
    "```\n",
    "\n",
    "* **Model:**\n",
    "```\n",
    "[{\"name\": \"find_flights\", \"arguments\": {\"origin\": \"Linz\", \"destination\": \"London\", \"date\": \"20250724\"}}]\n",
    "```\n",
    "* **Tool Output:**\n",
    "```\n",
    "[{\"id\": 1, \"price\": \"USD 220\", \"stops\": 2, \"duration\": 4.5}, {\"id\": 2, \"price\": \"USD 22\", \"stops\": 1, \"duration\": 2.0}, {\"id\": 3, \"price\": \"USD 240\", \"stops\": 2, \"duration\": 13.2}]\n",
    "```\n",
    "* **Model:**\n",
    "```\n",
    "Now let's convert the price from USD to EUR using the latest exchange rate:\n",
    "\n",
    " [{\"name\": \"convert_currency\", \"arguments\": {\"amount\": 22, \"currency\": \"USD\", \"new_currency\": \"EUR\"}}]\n",
    "```\n",
    "* **Tool Output:**\n",
    "```\n",
    "\"18.70\"\n",
    "```\n",
    "* **Model:**\n",
    "```\n",
    "The price of the flight with the id 2 in EUR is 18.70. Since it is below the 20\u20ac limit, let's book this flight:\n",
    "\n",
    " [{\"name\": \"book_flight\", \"arguments\": {\"id\": 2}}]\n",
    "```\n",
    "\n",
    "It's important to acknowledge that you might have to run the model a few times to obtain a good output as depicted above. As a 7-billion parameter model, Mistral may still make several mistakes, such as misinterpreting data, outputting malformed tool calls, or making incorrect decisions. However, the continued development in this field paves the way for increasingly powerful agentic AI in the future."
   ]
  },
  {
   "cell_type": "markdown",
   "metadata": {
    "colab_type": "text"
   },
   "source": [
    "## Conclusion\n",
    "\n",
    "Tool calling is a powerful feature that allows large language models to interact with the real world, access live data, and perform complex calculations. By defining a set of tools and telling the model about them, you can create sophisticated applications that go far beyond simple text generation."
   ]
  }
 ],
 "metadata": {
  "accelerator": "GPU",
  "colab": {
   "collapsed_sections": [],
   "name": "function_calling_with_keras_hub",
   "private_outputs": false,
   "provenance": [],
   "toc_visible": true
  },
  "kernelspec": {
   "display_name": "Python 3",
   "language": "python",
   "name": "python3"
  },
  "language_info": {
   "codemirror_mode": {
    "name": "ipython",
    "version": 3
   },
   "file_extension": ".py",
   "mimetype": "text/x-python",
   "name": "python",
   "nbconvert_exporter": "python",
   "pygments_lexer": "ipython3",
   "version": "3.7.0"
  }
 },
 "nbformat": 4,
 "nbformat_minor": 0
}