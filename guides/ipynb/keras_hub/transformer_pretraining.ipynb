{
 "cells": [
  {
   "cell_type": "markdown",
   "metadata": {
    "colab_type": "text"
   },
   "source": [
    "# Pretraining a Transformer from scratch with KerasHub\n",
    "\n",
    "**Author:** [Matthew Watson](https://github.com/mattdangerw/)<br>\n",
    "**Date created:** 2022/04/18<br>\n",
    "**Last modified:** 2023/07/15<br>\n",
    "**Description:** Use KerasHub to train a Transformer model from scratch."
   ]
  },
  {
   "cell_type": "markdown",
   "metadata": {
    "colab_type": "text"
   },
   "source": [
    "KerasHub aims to make it easy to build state-of-the-art text processing models. In this\n",
    "guide, we will show how library components simplify pretraining and fine-tuning a\n",
    "Transformer model from scratch.\n",
    "\n",
    "This guide is broken into three parts:\n",
    "\n",
    "1. *Setup*, task definition, and establishing a baseline.\n",
    "2. *Pretraining* a Transformer model.\n",
    "3. *Fine-tuning* the Transformer model on our classification task."
   ]
  },
  {
   "cell_type": "markdown",
   "metadata": {
    "colab_type": "text"
   },
   "source": [
    "## Setup\n",
    "\n",
    "The following guide uses Keras 3 to work in any of `tensorflow`, `jax` or\n",
    "`torch`. We select the `jax` backend below, which will give us a particularly\n",
    "fast train step below, but feel free to mix it up."
   ]
  },
  {
   "cell_type": "code",
   "execution_count": null,
   "metadata": {
    "colab_type": "code"
   },
   "outputs": [],
   "source": [
    "!pip install -q --upgrade keras-hub\n",
    "!pip install -q --upgrade keras  # Upgrade to Keras 3."
   ]
  },
  {
   "cell_type": "code",
   "execution_count": null,
   "metadata": {
    "colab_type": "code"
   },
   "outputs": [],
   "source": [
    "import os\n",
    "\n",
    "os.environ[\"KERAS_BACKEND\"] = \"jax\"  # or \"tensorflow\" or \"torch\"\n",
    "\n",
    "\n",
    "import keras_hub\n",
    "import tensorflow as tf\n",
    "import keras"
   ]
  },
  {
   "cell_type": "markdown",
   "metadata": {
    "colab_type": "text"
   },
   "source": [
    "Next up, we can download two datasets.\n",
    "\n",
    "- [SST-2](https://paperswithcode.com/sota/sentiment-analysis-on-sst-2-binary) a text\n",
    "classification dataset and our \"end goal\". This dataset is often used to benchmark\n",
    "language models.\n",
    "- [WikiText-103](https://paperswithcode.com/dataset/wikitext-103): A medium sized\n",
    "collection of featured articles from English Wikipedia, which we will use for\n",
    "pretraining.\n",
    "\n",
    "Finally, we will download a WordPiece vocabulary, to do sub-word tokenization later on in\n",
    "this guide."
   ]
  },
  {
   "cell_type": "code",
   "execution_count": null,
   "metadata": {
    "colab_type": "code"
   },
   "outputs": [],
   "source": [
    "# Download pretraining data.\n",
    "keras.utils.get_file(\n",
    "    origin=\"https://s3.amazonaws.com/research.metamind.io/wikitext/wikitext-103-raw-v1.zip\",\n",
    "    extract=True,\n",
    ")\n",
    "wiki_dir = os.path.expanduser(\"~/.keras/datasets/wikitext-103-raw/\")\n",
    "\n",
    "# Download finetuning data.\n",
    "keras.utils.get_file(\n",
    "    origin=\"https://dl.fbaipublicfiles.com/glue/data/SST-2.zip\",\n",
    "    extract=True,\n",
    ")\n",
    "sst_dir = os.path.expanduser(\"~/.keras/datasets/SST-2/\")\n",
    "\n",
    "# Download vocabulary data.\n",
    "vocab_file = keras.utils.get_file(\n",
    "    origin=\"https://storage.googleapis.com/tensorflow/keras-hub/examples/bert/bert_vocab_uncased.txt\",\n",
    ")"
   ]
  },
  {
   "cell_type": "markdown",
   "metadata": {
    "colab_type": "text"
   },
   "source": [
    "Next, we define some hyperparameters we will use during training."
   ]
  },
  {
   "cell_type": "code",
   "execution_count": null,
   "metadata": {
    "colab_type": "code"
   },
   "outputs": [],
   "source": [
    "# Preprocessing params.\n",
    "PRETRAINING_BATCH_SIZE = 128\n",
    "FINETUNING_BATCH_SIZE = 32\n",
    "SEQ_LENGTH = 128\n",
    "MASK_RATE = 0.25\n",
    "PREDICTIONS_PER_SEQ = 32\n",
    "\n",
    "# Model params.\n",
    "NUM_LAYERS = 3\n",
    "MODEL_DIM = 256\n",
    "INTERMEDIATE_DIM = 512\n",
    "NUM_HEADS = 4\n",
    "DROPOUT = 0.1\n",
    "NORM_EPSILON = 1e-5\n",
    "\n",
    "# Training params.\n",
    "PRETRAINING_LEARNING_RATE = 5e-4\n",
    "PRETRAINING_EPOCHS = 8\n",
    "FINETUNING_LEARNING_RATE = 5e-5\n",
    "FINETUNING_EPOCHS = 3"
   ]
  },
  {
   "cell_type": "markdown",
   "metadata": {
    "colab_type": "text"
   },
   "source": [
    "### Load data\n",
    "\n",
    "We load our data with [tf.data](https://www.tensorflow.org/guide/data), which will allow\n",
    "us to define input pipelines for tokenizing and preprocessing text."
   ]
  },
  {
   "cell_type": "code",
   "execution_count": null,
   "metadata": {
    "colab_type": "code"
   },
   "outputs": [],
   "source": [
    "# Load SST-2.\n",
    "sst_train_ds = tf.data.experimental.CsvDataset(\n",
    "    sst_dir + \"train.tsv\", [tf.string, tf.int32], header=True, field_delim=\"\\t\"\n",
    ").batch(FINETUNING_BATCH_SIZE)\n",
    "sst_val_ds = tf.data.experimental.CsvDataset(\n",
    "    sst_dir + \"dev.tsv\", [tf.string, tf.int32], header=True, field_delim=\"\\t\"\n",
    ").batch(FINETUNING_BATCH_SIZE)\n",
    "\n",
    "# Load wikitext-103 and filter out short lines.\n",
    "wiki_train_ds = (\n",
    "    tf.data.TextLineDataset(wiki_dir + \"wiki.train.raw\")\n",
    "    .filter(lambda x: tf.strings.length(x) > 100)\n",
    "    .batch(PRETRAINING_BATCH_SIZE)\n",
    ")\n",
    "wiki_val_ds = (\n",
    "    tf.data.TextLineDataset(wiki_dir + \"wiki.valid.raw\")\n",
    "    .filter(lambda x: tf.strings.length(x) > 100)\n",
    "    .batch(PRETRAINING_BATCH_SIZE)\n",
    ")\n",
    "\n",
    "# Take a peak at the sst-2 dataset.\n",
    "print(sst_train_ds.unbatch().batch(4).take(1).get_single_element())"
   ]
  },
  {
   "cell_type": "markdown",
   "metadata": {
    "colab_type": "text"
   },
   "source": [
    "You can see that our `SST-2` dataset contains relatively short snippets of movie review\n",
    "text. Our goal is to predict the sentiment of the snippet. A label of 1 indicates\n",
    "positive sentiment, and a label of 0 negative sentiment."
   ]
  },
  {
   "cell_type": "markdown",
   "metadata": {
    "colab_type": "text"
   },
   "source": [
    "### Establish a baseline\n",
    "\n",
    "As a first step, we will establish a baseline of good performance. We don't actually need\n",
    "KerasHub for this, we can just use core Keras layers.\n",
    "\n",
    "We will train a simple bag-of-words model, where we learn a positive or negative weight\n",
    "for each word in our vocabulary. A sample's score is simply the sum of the weights of all\n",
    "words that are present in the sample."
   ]
  },
  {
   "cell_type": "code",
   "execution_count": null,
   "metadata": {
    "colab_type": "code"
   },
   "outputs": [],
   "source": [
    "# This layer will turn our input sentence into a list of 1s and 0s the same size\n",
    "# our vocabulary, indicating whether a word is present in absent.\n",
    "multi_hot_layer = keras.layers.TextVectorization(\n",
    "    max_tokens=4000, output_mode=\"multi_hot\"\n",
    ")\n",
    "multi_hot_layer.adapt(sst_train_ds.map(lambda x, y: x))\n",
    "multi_hot_ds = sst_train_ds.map(lambda x, y: (multi_hot_layer(x), y))\n",
    "multi_hot_val_ds = sst_val_ds.map(lambda x, y: (multi_hot_layer(x), y))\n",
    "\n",
    "# We then learn a linear regression over that layer, and that's our entire\n",
    "# baseline model!\n",
    "\n",
    "inputs = keras.Input(shape=(4000,), dtype=\"int32\")\n",
    "outputs = keras.layers.Dense(1, activation=\"sigmoid\")(inputs)\n",
    "baseline_model = keras.Model(inputs, outputs)\n",
    "baseline_model.compile(loss=\"binary_crossentropy\", metrics=[\"accuracy\"])\n",
    "baseline_model.fit(multi_hot_ds, validation_data=multi_hot_val_ds, epochs=5)"
   ]
  },
  {
   "cell_type": "markdown",
   "metadata": {
    "colab_type": "text"
   },
   "source": [
    "A bag-of-words approach can be a fast and surprisingly powerful, especially when input\n",
    "examples contain a large number of words. With shorter sequences, it can hit a\n",
    "performance ceiling.\n",
    "\n",
    "To do better, we would like to build a model that can evaluate words *in context*. Instead\n",
    "of evaluating each word in a void, we need to use the information contained in the\n",
    "*entire ordered sequence* of our input.\n",
    "\n",
    "This runs us into a problem. `SST-2` is very small dataset, and there's simply not enough\n",
    "example text to attempt to build a larger, more parameterized model that can learn on a\n",
    "sequence. We would quickly start to overfit and memorize our training set, without any\n",
    "increase in our ability to generalize to unseen examples.\n",
    "\n",
    "Enter **pretraining**, which will allow us to learn on a larger corpus, and transfer our\n",
    "knowledge to the `SST-2` task. And enter **KerasHub**, which will allow us to pretrain a\n",
    "particularly powerful model, the Transformer, with ease."
   ]
  },
  {
   "cell_type": "markdown",
   "metadata": {
    "colab_type": "text"
   },
   "source": [
    "## Pretraining\n",
    "\n",
    "To beat our baseline, we will leverage the `WikiText103` dataset, an unlabeled\n",
    "collection of Wikipedia articles that is much bigger than `SST-2`.\n",
    "\n",
    "We are going to train a *transformer*, a highly expressive model which will learn\n",
    "to embed each word in our input as a low dimensional vector. Our wikipedia dataset has no\n",
    "labels, so we will use an unsupervised training objective called the *Masked Language\n",
    "Modeling* (MaskedLM) objective.\n",
    "\n",
    "Essentially, we will be playing a big game of \"guess the missing word\". For each input\n",
    "sample we will obscure 25% of our input data, and train our model to predict the parts we\n",
    "covered up."
   ]
  },
  {
   "cell_type": "markdown",
   "metadata": {
    "colab_type": "text"
   },
   "source": [
    "### Preprocess data for the MaskedLM task\n",
    "\n",
    "Our text preprocessing for the MaskedLM task will occur in two stages.\n",
    "\n",
    "1. Tokenize input text into integer sequences of token ids.\n",
    "2. Mask certain positions in our input to predict on.\n",
    "\n",
    "To tokenize, we can use a `keras_hub.tokenizers.Tokenizer` -- the KerasHub building block\n",
    "for transforming text into sequences of integer token ids.\n",
    "\n",
    "In particular, we will use `keras_hub.tokenizers.WordPieceTokenizer` which does\n",
    "*sub-word* tokenization. Sub-word tokenization is popular when training models on large\n",
    "text corpora. Essentially, it allows our model to learn from uncommon words, while not\n",
    "requiring a massive vocabulary of every word in our training set.\n",
    "\n",
    "The second thing we need to do is mask our input for the MaskedLM task. To do this, we can use\n",
    "`keras_hub.layers.MaskedLMMaskGenerator`, which will randomly select a set of tokens in each\n",
    "input and mask them out.\n",
    "\n",
    "The tokenizer and the masking layer can both be used inside a call to\n",
    "[tf.data.Dataset.map](https://www.tensorflow.org/api_docs/python/tf/data/Dataset#map).\n",
    "We can use `tf.data` to efficiently pre-compute each batch on the CPU, while our GPU or TPU\n",
    "works on training with the batch that came before. Because our masking layer will\n",
    "choose new words to mask each time, each epoch over our dataset will give us a totally\n",
    "new set of labels to train on."
   ]
  },
  {
   "cell_type": "code",
   "execution_count": null,
   "metadata": {
    "colab_type": "code"
   },
   "outputs": [],
   "source": [
    "# Setting sequence_length will trim or pad the token outputs to shape\n",
    "# (batch_size, SEQ_LENGTH).\n",
    "tokenizer = keras_hub.tokenizers.WordPieceTokenizer(\n",
    "    vocabulary=vocab_file,\n",
    "    sequence_length=SEQ_LENGTH,\n",
    "    lowercase=True,\n",
    "    strip_accents=True,\n",
    ")\n",
    "# Setting mask_selection_length will trim or pad the mask outputs to shape\n",
    "# (batch_size, PREDICTIONS_PER_SEQ).\n",
    "masker = keras_hub.layers.MaskedLMMaskGenerator(\n",
    "    vocabulary_size=tokenizer.vocabulary_size(),\n",
    "    mask_selection_rate=MASK_RATE,\n",
    "    mask_selection_length=PREDICTIONS_PER_SEQ,\n",
    "    mask_token_id=tokenizer.token_to_id(\"[MASK]\"),\n",
    ")\n",
    "\n",
    "\n",
    "def preprocess(inputs):\n",
    "    inputs = tokenizer(inputs)\n",
    "    outputs = masker(inputs)\n",
    "    # Split the masking layer outputs into a (features, labels, and weights)\n",
    "    # tuple that we can use with keras.Model.fit().\n",
    "    features = {\n",
    "        \"token_ids\": outputs[\"token_ids\"],\n",
    "        \"mask_positions\": outputs[\"mask_positions\"],\n",
    "    }\n",
    "    labels = outputs[\"mask_ids\"]\n",
    "    weights = outputs[\"mask_weights\"]\n",
    "    return features, labels, weights\n",
    "\n",
    "\n",
    "# We use prefetch() to pre-compute preprocessed batches on the fly on the CPU.\n",
    "pretrain_ds = wiki_train_ds.map(\n",
    "    preprocess, num_parallel_calls=tf.data.AUTOTUNE\n",
    ").prefetch(tf.data.AUTOTUNE)\n",
    "pretrain_val_ds = wiki_val_ds.map(\n",
    "    preprocess, num_parallel_calls=tf.data.AUTOTUNE\n",
    ").prefetch(tf.data.AUTOTUNE)\n",
    "\n",
    "# Preview a single input example.\n",
    "# The masks will change each time you run the cell.\n",
    "print(pretrain_val_ds.take(1).get_single_element())"
   ]
  },
  {
   "cell_type": "markdown",
   "metadata": {
    "colab_type": "text"
   },
   "source": [
    "The above block sorts our dataset into a `(features, labels, weights)` tuple, which can be\n",
    "passed directly to `keras.Model.fit()`.\n",
    "\n",
    "We have two features:\n",
    "\n",
    "1. `\"token_ids\"`, where some tokens have been replaced with our mask token id.\n",
    "2. `\"mask_positions\"`, which keeps track of which tokens we masked out.\n",
    "\n",
    "Our labels are simply the ids we masked out.\n",
    "\n",
    "Because not all sequences will have the same number of masks, we also keep a\n",
    "`sample_weight` tensor, which removes padded labels from our loss function by giving them\n",
    "zero weight."
   ]
  },
  {
   "cell_type": "markdown",
   "metadata": {
    "colab_type": "text"
   },
   "source": [
    "### Create the Transformer encoder\n",
    "\n",
    "KerasHub provides all the building blocks to quickly build a Transformer encoder.\n",
    "\n",
    "We use `keras_hub.layers.TokenAndPositionEmbedding` to first embed our input token ids.\n",
    "This layer simultaneously learns two embeddings -- one for words in a sentence and another\n",
    "for integer positions in a sentence. The output embedding is simply the sum of the two.\n",
    "\n",
    "Then we can add a series of `keras_hub.layers.TransformerEncoder` layers. These are the\n",
    "bread and butter of the Transformer model, using an attention mechanism to attend to\n",
    "different parts of the input sentence, followed by a multi-layer perceptron block.\n",
    "\n",
    "The output of this model will be a encoded vector per input token id. Unlike the\n",
    "bag-of-words model we used as a baseline, this model will embed each token accounting for\n",
    "the context in which it appeared."
   ]
  },
  {
   "cell_type": "code",
   "execution_count": null,
   "metadata": {
    "colab_type": "code"
   },
   "outputs": [],
   "source": [
    "inputs = keras.Input(shape=(SEQ_LENGTH,), dtype=\"int32\")\n",
    "\n",
    "# Embed our tokens with a positional embedding.\n",
    "embedding_layer = keras_hub.layers.TokenAndPositionEmbedding(\n",
    "    vocabulary_size=tokenizer.vocabulary_size(),\n",
    "    sequence_length=SEQ_LENGTH,\n",
    "    embedding_dim=MODEL_DIM,\n",
    ")\n",
    "outputs = embedding_layer(inputs)\n",
    "\n",
    "# Apply layer normalization and dropout to the embedding.\n",
    "outputs = keras.layers.LayerNormalization(epsilon=NORM_EPSILON)(outputs)\n",
    "outputs = keras.layers.Dropout(rate=DROPOUT)(outputs)\n",
    "\n",
    "# Add a number of encoder blocks\n",
    "for i in range(NUM_LAYERS):\n",
    "    outputs = keras_hub.layers.TransformerEncoder(\n",
    "        intermediate_dim=INTERMEDIATE_DIM,\n",
    "        num_heads=NUM_HEADS,\n",
    "        dropout=DROPOUT,\n",
    "        layer_norm_epsilon=NORM_EPSILON,\n",
    "    )(outputs)\n",
    "\n",
    "encoder_model = keras.Model(inputs, outputs)\n",
    "encoder_model.summary()"
   ]
  },
  {
   "cell_type": "markdown",
   "metadata": {
    "colab_type": "text"
   },
   "source": [
    "### Pretrain the Transformer\n",
    "\n",
    "You can think of the `encoder_model` as it's own modular unit, it is the piece of our\n",
    "model that we are really interested in for our downstream task. However we still need to\n",
    "set up the encoder to train on the MaskedLM task; to do that we attach a\n",
    "`keras_hub.layers.MaskedLMHead`.\n",
    "\n",
    "This layer will take as one input the token encodings, and as another the positions we\n",
    "masked out in the original input. It will gather the token encodings we masked, and\n",
    "transform them back in predictions over our entire vocabulary.\n",
    "\n",
    "With that, we are ready to compile and run pretraining. If you are running this in a\n",
    "Colab, note that this will take about an hour. Training Transformer is famously compute\n",
    "intensive, so even this relatively small Transformer will take some time."
   ]
  },
  {
   "cell_type": "code",
   "execution_count": null,
   "metadata": {
    "colab_type": "code"
   },
   "outputs": [],
   "source": [
    "# Create the pretraining model by attaching a masked language model head.\n",
    "inputs = {\n",
    "    \"token_ids\": keras.Input(shape=(SEQ_LENGTH,), dtype=\"int32\", name=\"token_ids\"),\n",
    "    \"mask_positions\": keras.Input(\n",
    "        shape=(PREDICTIONS_PER_SEQ,), dtype=\"int32\", name=\"mask_positions\"\n",
    "    ),\n",
    "}\n",
    "\n",
    "# Encode the tokens.\n",
    "encoded_tokens = encoder_model(inputs[\"token_ids\"])\n",
    "\n",
    "# Predict an output word for each masked input token.\n",
    "# We use the input token embedding to project from our encoded vectors to\n",
    "# vocabulary logits, which has been shown to improve training efficiency.\n",
    "outputs = keras_hub.layers.MaskedLMHead(\n",
    "    token_embedding=embedding_layer.token_embedding,\n",
    "    activation=\"softmax\",\n",
    ")(encoded_tokens, mask_positions=inputs[\"mask_positions\"])\n",
    "\n",
    "# Define and compile our pretraining model.\n",
    "pretraining_model = keras.Model(inputs, outputs)\n",
    "pretraining_model.compile(\n",
    "    loss=\"sparse_categorical_crossentropy\",\n",
    "    optimizer=keras.optimizers.AdamW(PRETRAINING_LEARNING_RATE),\n",
    "    weighted_metrics=[\"sparse_categorical_accuracy\"],\n",
    "    jit_compile=True,\n",
    ")\n",
    "\n",
    "# Pretrain the model on our wiki text dataset.\n",
    "pretraining_model.fit(\n",
    "    pretrain_ds,\n",
    "    validation_data=pretrain_val_ds,\n",
    "    epochs=PRETRAINING_EPOCHS,\n",
    "    steps_per_epoch=2,\n",
    ")\n",
    "\n",
    "# Save this base model for further finetuning.\n",
    "encoder_model.save(\"encoder_model.keras\")"
   ]
  },
  {
   "cell_type": "markdown",
   "metadata": {
    "colab_type": "text"
   },
   "source": [
    "## Fine-tuning\n",
    "\n",
    "After pretraining, we can now fine-tune our model on the `SST-2` dataset. We can\n",
    "leverage the ability of the encoder we build to predict on words in context to boost\n",
    "our performance on the downstream task."
   ]
  },
  {
   "cell_type": "markdown",
   "metadata": {
    "colab_type": "text"
   },
   "source": [
    "### Preprocess data for classification\n",
    "\n",
    "Preprocessing for fine-tuning is much simpler than for our pretraining MaskedLM task. We just\n",
    "tokenize our input sentences and we are ready for training!"
   ]
  },
  {
   "cell_type": "code",
   "execution_count": null,
   "metadata": {
    "colab_type": "code"
   },
   "outputs": [],
   "source": [
    "\n",
    "def preprocess(sentences, labels):\n",
    "    return tokenizer(sentences), labels\n",
    "\n",
    "\n",
    "# We use prefetch() to pre-compute preprocessed batches on the fly on our CPU.\n",
    "finetune_ds = sst_train_ds.map(\n",
    "    preprocess, num_parallel_calls=tf.data.AUTOTUNE\n",
    ").prefetch(tf.data.AUTOTUNE)\n",
    "finetune_val_ds = sst_val_ds.map(\n",
    "    preprocess, num_parallel_calls=tf.data.AUTOTUNE\n",
    ").prefetch(tf.data.AUTOTUNE)\n",
    "\n",
    "# Preview a single input example.\n",
    "print(finetune_val_ds.take(1).get_single_element())"
   ]
  },
  {
   "cell_type": "markdown",
   "metadata": {
    "colab_type": "text"
   },
   "source": [
    "### Fine-tune the Transformer\n",
    "\n",
    "To go from our encoded token output to a classification prediction, we need to attach\n",
    "another \"head\" to our Transformer model. We can afford to be simple here. We pool\n",
    "the encoded tokens together, and use a single dense layer to make a prediction."
   ]
  },
  {
   "cell_type": "code",
   "execution_count": null,
   "metadata": {
    "colab_type": "code"
   },
   "outputs": [],
   "source": [
    "# Reload the encoder model from disk so we can restart fine-tuning from scratch.\n",
    "encoder_model = keras.models.load_model(\"encoder_model.keras\", compile=False)\n",
    "\n",
    "# Take as input the tokenized input.\n",
    "inputs = keras.Input(shape=(SEQ_LENGTH,), dtype=\"int32\")\n",
    "\n",
    "# Encode and pool the tokens.\n",
    "encoded_tokens = encoder_model(inputs)\n",
    "pooled_tokens = keras.layers.GlobalAveragePooling1D()(encoded_tokens[0])\n",
    "\n",
    "# Predict an output label.\n",
    "outputs = keras.layers.Dense(1, activation=\"sigmoid\")(pooled_tokens)\n",
    "\n",
    "# Define and compile our fine-tuning model.\n",
    "finetuning_model = keras.Model(inputs, outputs)\n",
    "finetuning_model.compile(\n",
    "    loss=\"binary_crossentropy\",\n",
    "    optimizer=keras.optimizers.AdamW(FINETUNING_LEARNING_RATE),\n",
    "    metrics=[\"accuracy\"],\n",
    ")\n",
    "\n",
    "# Finetune the model for the SST-2 task.\n",
    "finetuning_model.fit(\n",
    "    finetune_ds,\n",
    "    validation_data=finetune_val_ds,\n",
    "    epochs=FINETUNING_EPOCHS,\n",
    "    steps_per_epoch=2,\n",
    ")"
   ]
  },
  {
   "cell_type": "markdown",
   "metadata": {
    "colab_type": "text"
   },
   "source": [
    "Pretraining was enough to boost our performance to 84%, and this is hardly the ceiling\n",
    "for Transformer models. You may have noticed during pretraining that our validation\n",
    "performance was still steadily increasing. Our model is still significantly undertrained.\n",
    "Training for more epochs, training a large Transformer, and training on more unlabeled\n",
    "text would all continue to boost performance significantly.\n",
    "\n",
    "One of the key goals of KerasHub is to provide a modular approach to NLP model building.\n",
    "We have shown one approach to building a Transformer here, but KerasHub supports an ever\n",
    "growing array of components for preprocessing text and building models. We hope it makes\n",
    "it easier to experiment on solutions to your natural language problems."
   ]
  }
 ],
 "metadata": {
  "accelerator": "GPU",
  "colab": {
   "collapsed_sections": [],
   "name": "transformer_pretraining",
   "private_outputs": false,
   "provenance": [],
   "toc_visible": true
  },
  "kernelspec": {
   "display_name": "Python 3",
   "language": "python",
   "name": "python3"
  },
  "language_info": {
   "codemirror_mode": {
    "name": "ipython",
    "version": 3
   },
   "file_extension": ".py",
   "mimetype": "text/x-python",
   "name": "python",
   "nbconvert_exporter": "python",
   "pygments_lexer": "ipython3",
   "version": "3.7.0"
  }
 },
 "nbformat": 4,
 "nbformat_minor": 0
}
