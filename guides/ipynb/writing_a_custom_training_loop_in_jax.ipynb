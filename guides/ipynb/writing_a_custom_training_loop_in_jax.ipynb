{
 "cells": [
  {
   "cell_type": "markdown",
   "metadata": {
    "colab_type": "text"
   },
   "source": [
    "# Writing a training loop from scratch in JAX\n",
    "\n",
    "**Author:** [fchollet](https://twitter.com/fchollet)<br>\n",
    "**Date created:** 2023/06/25<br>\n",
    "**Last modified:** 2023/06/25<br>\n",
    "**Description:** Writing low-level training & evaluation loops in JAX."
   ]
  },
  {
   "cell_type": "markdown",
   "metadata": {
    "colab_type": "text"
   },
   "source": [
    "## Setup"
   ]
  },
  {
   "cell_type": "code",
   "execution_count": 0,
   "metadata": {
    "colab_type": "code"
   },
   "outputs": [],
   "source": [
    "import os\n",
    "\n",
    "# This guide can only be run with the jax backend.\n",
    "os.environ[\"KERAS_BACKEND\"] = \"jax\"\n",
    "\n",
    "import jax\n",
    "\n",
    "# We import TF so we can use tf.data.\n",
    "import tensorflow as tf\n",
    "import keras\n",
    "import numpy as np"
   ]
  },
  {
   "cell_type": "markdown",
   "metadata": {
    "colab_type": "text"
   },
   "source": [
    "## Introduction\n",
    "\n",
    "Keras provides default training and evaluation loops, `fit()` and `evaluate()`.\n",
    "Their usage is covered in the guide\n",
    "[Training & evaluation with the built-in methods](/guides/training_with_built_in_methods/).\n",
    "\n",
    "If you want to customize the learning algorithm of your model while still leveraging\n",
    "the convenience of `fit()`\n",
    "(for instance, to train a GAN using `fit()`), you can subclass the `Model` class and\n",
    "implement your own `train_step()` method, which\n",
    "is called repeatedly during `fit()`.\n",
    "\n",
    "Now, if you want very low-level control over training & evaluation, you should write\n",
    "your own training & evaluation loops from scratch. This is what this guide is about."
   ]
  },
  {
   "cell_type": "markdown",
   "metadata": {
    "colab_type": "text"
   },
   "source": [
    "## A first end-to-end example\n",
    "\n",
    "To write a custom training loop, we need the following ingredients:\n",
    "\n",
    "- A model to train, of course.\n",
    "- An optimizer. You could either use an optimizer from `keras.optimizers`, or\n",
    "one from the `optax` package.\n",
    "- A loss function.\n",
    "- A dataset. The standard in the JAX ecosystem is to load data via `tf.data`,\n",
    "so that's what we'll use.\n",
    "\n",
    "Let's line them up.\n",
    "\n",
    "First, let's get the model and the MNIST dataset:"
   ]
  },
  {
   "cell_type": "code",
   "execution_count": 0,
   "metadata": {
    "colab_type": "code"
   },
   "outputs": [],
   "source": [
    "\n",
    "def get_model():\n",
    "    inputs = keras.Input(shape=(784,), name=\"digits\")\n",
    "    x1 = keras.layers.Dense(64, activation=\"relu\")(inputs)\n",
    "    x2 = keras.layers.Dense(64, activation=\"relu\")(x1)\n",
    "    outputs = keras.layers.Dense(10, name=\"predictions\")(x2)\n",
    "    model = keras.Model(inputs=inputs, outputs=outputs)\n",
    "    return model\n",
    "\n",
    "\n",
    "model = get_model()\n",
    "\n",
    "# Prepare the training dataset.\n",
    "batch_size = 32\n",
    "(x_train, y_train), (x_test, y_test) = keras.datasets.mnist.load_data()\n",
    "x_train = np.reshape(x_train, (-1, 784)).astype(\"float32\")\n",
    "x_test = np.reshape(x_test, (-1, 784)).astype(\"float32\")\n",
    "y_train = keras.utils.to_categorical(y_train)\n",
    "y_test = keras.utils.to_categorical(y_test)\n",
    "\n",
    "# Reserve 10,000 samples for validation.\n",
    "x_val = x_train[-10000:]\n",
    "y_val = y_train[-10000:]\n",
    "x_train = x_train[:-10000]\n",
    "y_train = y_train[:-10000]\n",
    "\n",
    "# Prepare the training dataset.\n",
    "train_dataset = tf.data.Dataset.from_tensor_slices((x_train, y_train))\n",
    "train_dataset = train_dataset.shuffle(buffer_size=1024).batch(batch_size)\n",
    "\n",
    "# Prepare the validation dataset.\n",
    "val_dataset = tf.data.Dataset.from_tensor_slices((x_val, y_val))\n",
    "val_dataset = val_dataset.batch(batch_size)"
   ]
  },
  {
   "cell_type": "markdown",
   "metadata": {
    "colab_type": "text"
   },
   "source": [
    "Next, here's the loss function and the optimizer.\n",
    "We'll use a Keras optimizer in this case."
   ]
  },
  {
   "cell_type": "code",
   "execution_count": 0,
   "metadata": {
    "colab_type": "code"
   },
   "outputs": [],
   "source": [
    "# Instantiate a loss function.\n",
    "loss_fn = keras.losses.CategoricalCrossentropy(from_logits=True)\n",
    "\n",
    "# Instantiate an optimizer.\n",
    "optimizer = keras.optimizers.Adam(learning_rate=1e-3)"
   ]
  },
  {
   "cell_type": "markdown",
   "metadata": {
    "colab_type": "text"
   },
   "source": [
    "### Getting gradients in JAX\n",
    "\n",
    "Let's train our model using mini-batch gradient with a custom training loop.\n",
    "\n",
    "In JAX, gradients are computed via *metaprogramming*: you call the `jax.grad` (or\n",
    "`jax.value_and_grad` on a function in order to create a gradient-computing function\n",
    "for that first function.\n",
    "\n",
    "So the first thing we need is a function that returns the loss value.\n",
    "That's the function we'll use to generate the gradient function. Something like this:\n",
    "\n",
    "```python\n",
    "def compute_loss(x, y):\n",
    "    ...\n",
    "    return loss\n",
    "```\n",
    "\n",
    "Once you have such a function, you can compute gradients via metaprogramming as such:\n",
    "\n",
    "```python\n",
    "grad_fn = jax.grad(compute_loss)\n",
    "grads = grad_fn(x, y)\n",
    "```\n",
    "\n",
    "Typically, you don't just want to get the gradient values, you also want to get\n",
    "the loss value. You can do this by using `jax.value_and_grad` instead of `jax.grad`:\n",
    "\n",
    "```python\n",
    "grad_fn = jax.value_and_grad(compute_loss)\n",
    "loss, grads = grad_fn(x, y)\n",
    "```\n",
    "\n",
    "### JAX computation is purely stateless\n",
    "\n",
    "In JAX, everything must be a stateless function -- so our loss computation function\n",
    "must be stateless as well. That means that all Keras variables (e.g. weight tensors)\n",
    "must be passed as function inputs, and any variable that has been updated during the\n",
    "forward pass must be returned as function output. The function have no side effect.\n",
    "\n",
    "During the forward pass, the non-trainable variables of a Keras model might get\n",
    "updated. These variables could be, for instance, RNG seed state variables or\n",
    "BatchNormalization statistics. We're going to need to return those. So we need\n",
    "something like this:\n",
    "\n",
    "```python\n",
    "def compute_loss_and_updates(trainable_variables, non_trainable_variables, x, y):\n",
    "    ...\n",
    "    return loss, non_trainable_variables\n",
    "```\n",
    "\n",
    "Once you have such a function, you can get the gradient function by\n",
    "specifying `has_aux` in `value_and_grad`: it tells JAX that the loss\n",
    "computation function returns more outputs than just the loss. Note that the loss\n",
    "should always be the first output.\n",
    "\n",
    "```python\n",
    "grad_fn = jax.value_and_grad(compute_loss_and_updates, has_aux=True)\n",
    "(loss, non_trainable_variables), grads = grad_fn(\n",
    "    trainable_variables, non_trainable_variables, x, y\n",
    ")\n",
    "```\n",
    "\n",
    "Now that we have established the basics,\n",
    "let's implement this `compute_loss_and_updates` function.\n",
    "Keras models have a `stateless_call` method which will come in handy here.\n",
    "It works just like `model.__call__`, but it requires you to explicitly\n",
    "pass the value of all the variables in the model, and it returns not just\n",
    "the `__call__` outputs but also the (potentially updated) non-trainable\n",
    "variables."
   ]
  },
  {
   "cell_type": "code",
   "execution_count": 0,
   "metadata": {
    "colab_type": "code"
   },
   "outputs": [],
   "source": [
    "\n",
    "def compute_loss_and_updates(trainable_variables, non_trainable_variables, x, y):\n",
    "    y_pred, non_trainable_variables = model.stateless_call(\n",
    "        trainable_variables, non_trainable_variables, x, training=True\n",
    "    )\n",
    "    loss = loss_fn(y, y_pred)\n",
    "    return loss, non_trainable_variables\n",
    ""
   ]
  },
  {
   "cell_type": "markdown",
   "metadata": {
    "colab_type": "text"
   },
   "source": [
    "Let's get the gradient function:"
   ]
  },
  {
   "cell_type": "code",
   "execution_count": 0,
   "metadata": {
    "colab_type": "code"
   },
   "outputs": [],
   "source": [
    "grad_fn = jax.value_and_grad(compute_loss_and_updates, has_aux=True)"
   ]
  },
  {
   "cell_type": "markdown",
   "metadata": {
    "colab_type": "text"
   },
   "source": [
    "### The training step function\n",
    "\n",
    "Next, let's implement the end-to-end training step, the function\n",
    "that will both run the forward pass, compute the loss, compute the gradients,\n",
    "but also use the optimizer to update the trainable variables. This function\n",
    "also needs to be stateless, so it will get as input a `state` tuple that\n",
    "includes every state element we're going to use:\n",
    "\n",
    "- `trainable_variables` and `non_trainable_variables`: the model's variables.\n",
    "- `optimizer_variables`: the optimizer's state variables,\n",
    "such as momentum accumulators.\n",
    "\n",
    "To update the trainable variables, we use the optimizer's stateless method\n",
    "`stateless_apply`. It's equivalent to `optimizer.apply()`, but it requires\n",
    "always passing `trainable_variables` and `optimizer_variables`. It returns\n",
    "both the updated trainable variables and the updated optimizer_variables."
   ]
  },
  {
   "cell_type": "code",
   "execution_count": 0,
   "metadata": {
    "colab_type": "code"
   },
   "outputs": [],
   "source": [
    "\n",
    "def train_step(state, data):\n",
    "    trainable_variables, non_trainable_variables, optimizer_variables = state\n",
    "    x, y = data\n",
    "    (loss, non_trainable_variables), grads = grad_fn(\n",
    "        trainable_variables, non_trainable_variables, x, y\n",
    "    )\n",
    "    trainable_variables, optimizer_variables = optimizer.stateless_apply(\n",
    "        optimizer_variables, grads, trainable_variables\n",
    "    )\n",
    "    # Return updated state\n",
    "    return loss, (\n",
    "        trainable_variables,\n",
    "        non_trainable_variables,\n",
    "        optimizer_variables,\n",
    "    )\n",
    ""
   ]
  },
  {
   "cell_type": "markdown",
   "metadata": {
    "colab_type": "text"
   },
   "source": [
    "### Make it fast with `jax.jit`\n",
    "\n",
    "By default, JAX operations run eagerly,\n",
    "just like in TensorFlow eager mode and PyTorch eager mode.\n",
    "And just like TensorFlow eager mode and PyTorch eager mode, it's pretty slow\n",
    "-- eager mode is better used as a debugging environment, not as a way to do\n",
    "any actual work. So let's make our `train_step` fast by compiling it.\n",
    "\n",
    "When you have a stateless JAX function, you can compile it to XLA via the\n",
    "`@jax.jit` decorator. It will get traced during its first execution, and in\n",
    "subsequent executions you will be executing the traced graph (this is just\n",
    "like `@tf.function(jit_compile=True)`. Let's try it:"
   ]
  },
  {
   "cell_type": "code",
   "execution_count": 0,
   "metadata": {
    "colab_type": "code"
   },
   "outputs": [],
   "source": [
    "\n",
    "@jax.jit\n",
    "def train_step(state, data):\n",
    "    trainable_variables, non_trainable_variables, optimizer_variables = state\n",
    "    x, y = data\n",
    "    (loss, non_trainable_variables), grads = grad_fn(\n",
    "        trainable_variables, non_trainable_variables, x, y\n",
    "    )\n",
    "    trainable_variables, optimizer_variables = optimizer.stateless_apply(\n",
    "        optimizer_variables, grads, trainable_variables\n",
    "    )\n",
    "    # Return updated state\n",
    "    return loss, (\n",
    "        trainable_variables,\n",
    "        non_trainable_variables,\n",
    "        optimizer_variables,\n",
    "    )\n",
    ""
   ]
  },
  {
   "cell_type": "markdown",
   "metadata": {
    "colab_type": "text"
   },
   "source": [
    "We're now ready to train our model. The training loop itself\n",
    "is trivial: we just repeatedly call `loss, state = train_step(state, data)`.\n",
    "\n",
    "Note:\n",
    "\n",
    "- We convert the TF tensors yielded by the `tf.data.Dataset` to NumPy\n",
    "before passing them to our JAX function.\n",
    "- All variables must be built beforehand:\n",
    "the model must be built and the optimizer must be built. Since we're using a\n",
    "Functional API model, it's already built, but if it were a subclassed model\n",
    "you'd need to call it on a batch of data to build it."
   ]
  },
  {
   "cell_type": "code",
   "execution_count": 0,
   "metadata": {
    "colab_type": "code"
   },
   "outputs": [],
   "source": [
    "# Build optimizer variables.\n",
    "optimizer.build(model.trainable_variables)\n",
    "\n",
    "trainable_variables = model.trainable_variables\n",
    "non_trainable_variables = model.non_trainable_variables\n",
    "optimizer_variables = optimizer.variables\n",
    "state = trainable_variables, non_trainable_variables, optimizer_variables\n",
    "\n",
    "# Training loop\n",
    "for step, data in enumerate(train_dataset):\n",
    "    data = (data[0].numpy(), data[1].numpy())\n",
    "    loss, state = train_step(state, data)\n",
    "    # Log every 100 batches.\n",
    "    if step % 100 == 0:\n",
    "        print(f\"Training loss (for 1 batch) at step {step}: {float(loss):.4f}\")\n",
    "        print(f\"Seen so far: {(step + 1) * batch_size} samples\")"
   ]
  },
  {
   "cell_type": "markdown",
   "metadata": {
    "colab_type": "text"
   },
   "source": [
    "A key thing to notice here is that the loop is entirely stateless -- the variables\n",
    "attached to the model (`model.weights`) are never getting updated during the loop.\n",
    "Their new values are only stored in the `state` tuple. That means that at some point,\n",
    "before saving the model, you should be attaching the new variable values back to the model.\n",
    "\n",
    "Just call `variable.assign(new_value)` on each model variable you want to update:"
   ]
  },
  {
   "cell_type": "code",
   "execution_count": 0,
   "metadata": {
    "colab_type": "code"
   },
   "outputs": [],
   "source": [
    "trainable_variables, non_trainable_variables, optimizer_variables = state\n",
    "for variable, value in zip(model.trainable_variables, trainable_variables):\n",
    "    variable.assign(value)\n",
    "for variable, value in zip(model.non_trainable_variables, non_trainable_variables):\n",
    "    variable.assign(value)"
   ]
  },
  {
   "cell_type": "markdown",
   "metadata": {
    "colab_type": "text"
   },
   "source": [
    "## Low-level handling of metrics\n",
    "\n",
    "Let's add metrics monitoring to this basic training loop.\n",
    "\n",
    "You can readily reuse built-in Keras metrics (or custom ones you wrote) in such training\n",
    "loops written from scratch. Here's the flow:\n",
    "\n",
    "- Instantiate the metric at the start of the loop\n",
    "- Include `metric_variables` in the `train_step` arguments\n",
    "and `compute_loss_and_updates` arguments.\n",
    "- Call `metric.stateless_update_state()` in the `compute_loss_and_updates` function.\n",
    "It's equivalent to `update_state()` -- only stateless.\n",
    "- When you need to display the current value of the metric, outside the `train_step`\n",
    "(in the eager scope), attach the new metric variable values to the metric object\n",
    "and vall `metric.result()`.\n",
    "- Call `metric.reset_state()` when you need to clear the state of the metric\n",
    "(typically at the end of an epoch)\n",
    "\n",
    "Let's use this knowledge to compute `CategoricalAccuracy` on training and\n",
    "validation data at the end of training:"
   ]
  },
  {
   "cell_type": "code",
   "execution_count": 0,
   "metadata": {
    "colab_type": "code"
   },
   "outputs": [],
   "source": [
    "# Get a fresh model\n",
    "model = get_model()\n",
    "\n",
    "# Instantiate an optimizer to train the model.\n",
    "optimizer = keras.optimizers.Adam(learning_rate=1e-3)\n",
    "# Instantiate a loss function.\n",
    "loss_fn = keras.losses.CategoricalCrossentropy(from_logits=True)\n",
    "\n",
    "# Prepare the metrics.\n",
    "train_acc_metric = keras.metrics.CategoricalAccuracy()\n",
    "val_acc_metric = keras.metrics.CategoricalAccuracy()\n",
    "\n",
    "\n",
    "def compute_loss_and_updates(\n",
    "    trainable_variables, non_trainable_variables, metric_variables, x, y\n",
    "):\n",
    "    y_pred, non_trainable_variables = model.stateless_call(\n",
    "        trainable_variables, non_trainable_variables, x\n",
    "    )\n",
    "    loss = loss_fn(y, y_pred)\n",
    "    metric_variables = train_acc_metric.stateless_update_state(\n",
    "        metric_variables, y, y_pred\n",
    "    )\n",
    "    return loss, (non_trainable_variables, metric_variables)\n",
    "\n",
    "\n",
    "grad_fn = jax.value_and_grad(compute_loss_and_updates, has_aux=True)\n",
    "\n",
    "\n",
    "@jax.jit\n",
    "def train_step(state, data):\n",
    "    (\n",
    "        trainable_variables,\n",
    "        non_trainable_variables,\n",
    "        optimizer_variables,\n",
    "        metric_variables,\n",
    "    ) = state\n",
    "    x, y = data\n",
    "    (loss, (non_trainable_variables, metric_variables)), grads = grad_fn(\n",
    "        trainable_variables, non_trainable_variables, metric_variables, x, y\n",
    "    )\n",
    "    trainable_variables, optimizer_variables = optimizer.stateless_apply(\n",
    "        optimizer_variables, grads, trainable_variables\n",
    "    )\n",
    "    # Return updated state\n",
    "    return loss, (\n",
    "        trainable_variables,\n",
    "        non_trainable_variables,\n",
    "        optimizer_variables,\n",
    "        metric_variables,\n",
    "    )\n",
    ""
   ]
  },
  {
   "cell_type": "markdown",
   "metadata": {
    "colab_type": "text"
   },
   "source": [
    "We'll also prepare an evaluation step function:"
   ]
  },
  {
   "cell_type": "code",
   "execution_count": 0,
   "metadata": {
    "colab_type": "code"
   },
   "outputs": [],
   "source": [
    "\n",
    "@jax.jit\n",
    "def eval_step(state, data):\n",
    "    trainable_variables, non_trainable_variables, metric_variables = state\n",
    "    x, y = data\n",
    "    y_pred, non_trainable_variables = model.stateless_call(\n",
    "        trainable_variables, non_trainable_variables, x\n",
    "    )\n",
    "    loss = loss_fn(y, y_pred)\n",
    "    metric_variables = val_acc_metric.stateless_update_state(\n",
    "        metric_variables, y, y_pred\n",
    "    )\n",
    "    return loss, (\n",
    "        trainable_variables,\n",
    "        non_trainable_variables,\n",
    "        metric_variables,\n",
    "    )\n",
    ""
   ]
  },
  {
   "cell_type": "markdown",
   "metadata": {
    "colab_type": "text"
   },
   "source": [
    "Here are our loops:"
   ]
  },
  {
   "cell_type": "code",
   "execution_count": 0,
   "metadata": {
    "colab_type": "code"
   },
   "outputs": [],
   "source": [
    "# Build optimizer variables.\n",
    "optimizer.build(model.trainable_variables)\n",
    "\n",
    "trainable_variables = model.trainable_variables\n",
    "non_trainable_variables = model.non_trainable_variables\n",
    "optimizer_variables = optimizer.variables\n",
    "metric_variables = train_acc_metric.variables\n",
    "state = (\n",
    "    trainable_variables,\n",
    "    non_trainable_variables,\n",
    "    optimizer_variables,\n",
    "    metric_variables,\n",
    ")\n",
    "\n",
    "# Training loop\n",
    "for step, data in enumerate(train_dataset):\n",
    "    data = (data[0].numpy(), data[1].numpy())\n",
    "    loss, state = train_step(state, data)\n",
    "    # Log every 100 batches.\n",
    "    if step % 100 == 0:\n",
    "        print(f\"Training loss (for 1 batch) at step {step}: {float(loss):.4f}\")\n",
    "        _, _, _, metric_variables = state\n",
    "        for variable, value in zip(train_acc_metric.variables, metric_variables):\n",
    "            variable.assign(value)\n",
    "        print(f\"Training accuracy: {train_acc_metric.result()}\")\n",
    "        print(f\"Seen so far: {(step + 1) * batch_size} samples\")\n",
    "\n",
    "metric_variables = val_acc_metric.variables\n",
    "(\n",
    "    trainable_variables,\n",
    "    non_trainable_variables,\n",
    "    optimizer_variables,\n",
    "    metric_variables,\n",
    ") = state\n",
    "state = trainable_variables, non_trainable_variables, metric_variables\n",
    "\n",
    "# Eval loop\n",
    "for step, data in enumerate(val_dataset):\n",
    "    data = (data[0].numpy(), data[1].numpy())\n",
    "    loss, state = eval_step(state, data)\n",
    "    # Log every 100 batches.\n",
    "    if step % 100 == 0:\n",
    "        print(f\"Validation loss (for 1 batch) at step {step}: {float(loss):.4f}\")\n",
    "        _, _, metric_variables = state\n",
    "        for variable, value in zip(val_acc_metric.variables, metric_variables):\n",
    "            variable.assign(value)\n",
    "        print(f\"Validation accuracy: {val_acc_metric.result()}\")\n",
    "        print(f\"Seen so far: {(step + 1) * batch_size} samples\")"
   ]
  },
  {
   "cell_type": "markdown",
   "metadata": {
    "colab_type": "text"
   },
   "source": [
    "## Low-level handling of losses tracked by the model\n",
    "\n",
    "Layers & models recursively track any losses created during the forward pass\n",
    "by layers that call `self.add_loss(value)`. The resulting list of scalar loss\n",
    "values are available via the property `model.losses`\n",
    "at the end of the forward pass.\n",
    "\n",
    "If you want to be using these loss components, you should sum them\n",
    "and add them to the main loss in your training step.\n",
    "\n",
    "Consider this layer, that creates an activity regularization loss:"
   ]
  },
  {
   "cell_type": "code",
   "execution_count": 0,
   "metadata": {
    "colab_type": "code"
   },
   "outputs": [],
   "source": [
    "\n",
    "class ActivityRegularizationLayer(keras.layers.Layer):\n",
    "    def call(self, inputs):\n",
    "        self.add_loss(1e-2 * jax.numpy.sum(inputs))\n",
    "        return inputs\n",
    ""
   ]
  },
  {
   "cell_type": "markdown",
   "metadata": {
    "colab_type": "text"
   },
   "source": [
    "Let's build a really simple model that uses it:"
   ]
  },
  {
   "cell_type": "code",
   "execution_count": 0,
   "metadata": {
    "colab_type": "code"
   },
   "outputs": [],
   "source": [
    "inputs = keras.Input(shape=(784,), name=\"digits\")\n",
    "x = keras.layers.Dense(64, activation=\"relu\")(inputs)\n",
    "# Insert activity regularization as a layer\n",
    "x = ActivityRegularizationLayer()(x)\n",
    "x = keras.layers.Dense(64, activation=\"relu\")(x)\n",
    "outputs = keras.layers.Dense(10, name=\"predictions\")(x)\n",
    "\n",
    "model = keras.Model(inputs=inputs, outputs=outputs)"
   ]
  },
  {
   "cell_type": "markdown",
   "metadata": {
    "colab_type": "text"
   },
   "source": [
    "Here's what our `compute_loss_and_updates` function should look like now:\n",
    "\n",
    "- Pass `return_losses=True` to `model.stateless_call()`.\n",
    "- Sum the resulting `losses` and add them to the main loss."
   ]
  },
  {
   "cell_type": "code",
   "execution_count": 0,
   "metadata": {
    "colab_type": "code"
   },
   "outputs": [],
   "source": [
    "\n",
    "def compute_loss_and_updates(\n",
    "    trainable_variables, non_trainable_variables, metric_variables, x, y\n",
    "):\n",
    "    y_pred, non_trainable_variables, losses = model.stateless_call(\n",
    "        trainable_variables, non_trainable_variables, x, return_losses=True\n",
    "    )\n",
    "    loss = loss_fn(y, y_pred)\n",
    "    if losses:\n",
    "        loss += jax.numpy.sum(losses)\n",
    "    metric_variables = train_acc_metric.stateless_update_state(\n",
    "        metric_variables, y, y_pred\n",
    "    )\n",
    "    return loss, non_trainable_variables, metric_variables\n",
    ""
   ]
  },
  {
   "cell_type": "markdown",
   "metadata": {
    "colab_type": "text"
   },
   "source": [
    "That's it!"
   ]
  }
 ],
 "metadata": {
  "accelerator": "None",
  "colab": {
   "collapsed_sections": [],
   "name": "writing_a_custom_training_loop_in_jax",
   "private_outputs": false,
   "provenance": [],
   "toc_visible": true
  },
  "kernelspec": {
   "display_name": "Python 3",
   "language": "python",
   "name": "python3"
  },
  "language_info": {
   "codemirror_mode": {
    "name": "ipython",
    "version": 3
   },
   "file_extension": ".py",
   "mimetype": "text/x-python",
   "name": "python",
   "nbconvert_exporter": "python",
   "pygments_lexer": "ipython3",
   "version": "3.7.0"
  }
 },
 "nbformat": 4,
 "nbformat_minor": 0
}