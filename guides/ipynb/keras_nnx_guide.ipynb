{
 "cells": [
  {
   "cell_type": "markdown",
   "metadata": {
    "colab_type": "text"
   },
   "source": [
    "# How to use Keras with NNX backend\n",
    "\n",
    "**Author:** [Divyashree Sreepathihalli](https://github.com/divyashreepathihalli)<br>\n",
    "**Date created:** 2025/08/07<br>\n",
    "**Last modified:** 2025/08/07<br>\n",
    "**Description:** How to use Keras with NNX backend."
   ]
  },
  {
   "cell_type": "markdown",
   "metadata": {
    "colab_type": "text"
   },
   "source": [
    "# A Guide to the Keras & Flax NNX Integration\n",
    "\n",
    "This tutorial will guide you through the integration of Keras with Flax's NNX\n",
    "(Neural Networks JAX) module system, demonstrating how it significantly\n",
    "enhances variable handling and opens up advanced training capabilities within\n",
    "the JAX ecosystem. Whether you love the simplicity of model.fit() or the\n",
    "fine-grained control of a custom training loop, this integration lets you have\n",
    "the best of both worlds. Let's dive in!\n",
    "\n",
    "# Why Keras and NNX Integration?\n",
    "\n",
    "Keras is known for its user-friendliness and high-level API, making deep\n",
    "learning accessible. JAX, on the other hand, provides high-performance\n",
    "numerical computation, especially suited for machine learning research due to\n",
    "its JIT compilation and automatic differentiation capabilities. NNX is Flax's\n",
    "functional module system built on JAX, offering explicit state management and\n",
    "powerful functional programming paradigms\n",
    "\n",
    "NNX is designed for simplicity. It is characterized by its Pythonic approach,\n",
    "where modules are standard Python classes, promoting ease of use and\n",
    "familiarity. NNX prioritizes user-friendliness and offers fine-grained control\n",
    "over JAX transformations through typed Variable collections.\n",
    "\n",
    "The integration of Keras with NNX allows you to leverage the best of both\n",
    "worlds: the simplicity and modularity of Keras for model construction,\n",
    "combined with the power and explicit control of NNX and JAX for variable\n",
    "management and sophisticated training loops.\n",
    "\n",
    "# Getting Started: Setting Up Your Environment"
   ]
  },
  {
   "cell_type": "code",
   "execution_count": 0,
   "metadata": {
    "colab_type": "code"
   },
   "outputs": [],
   "source": [
    "!!pip install -q -U keras\n",
    "!!pip install -q -U flax==0.11.0"
   ]
  },
  {
   "cell_type": "markdown",
   "metadata": {
    "colab_type": "text"
   },
   "source": [
    "# Enabling NNX Mode\n",
    "\n",
    "To activate the integration, we must set two environment variables before\n",
    "importing Keras. This tells Keras to use the JAX backend and switch to NNX as\n",
    "an opt in feature."
   ]
  },
  {
   "cell_type": "code",
   "execution_count": 0,
   "metadata": {
    "colab_type": "code"
   },
   "outputs": [],
   "source": [
    "import os\n",
    "\n",
    "os.environ[\"KERAS_BACKEND\"] = \"jax\"\n",
    "os.environ[\"KERAS_NNX_ENABLED\"] = \"true\"\n",
    "from flax import nnx\n",
    "import keras\n",
    "import jax.numpy as jnp\n",
    "\n",
    "print(\"\u2705 Keras is now running on JAX with NNX enabled!\")"
   ]
  },
  {
   "cell_type": "markdown",
   "metadata": {
    "colab_type": "text"
   },
   "source": [
    "# The Core Integration: Keras Variables in NNX\n",
    "\n",
    "The heart of this integration is the new keras.Variable, which is designed to\n",
    "be a native citizen of the Flax NNX ecosystem. This means you can mix Keras\n",
    "and NNX components freely, and NNX's tracing and state management tools will\n",
    "understand your Keras variables.\n",
    "Let's prove it. We'll create an nnx.Module that contains both a standard\n",
    "nnx.Linear layer and a keras.Variable."
   ]
  },
  {
   "cell_type": "code",
   "execution_count": 0,
   "metadata": {
    "colab_type": "code"
   },
   "outputs": [],
   "source": [
    "from keras import Variable as KerasVariable\n",
    "\n",
    "\n",
    "class MyNnxModel(nnx.Module):\n",
    "    def __init__(self, rngs):\n",
    "        self.linear = nnx.Linear(2, 3, rngs=rngs)\n",
    "        self.custom_variable = KerasVariable(jnp.ones((1, 3)))\n",
    "\n",
    "    def __call__(self, x):\n",
    "        return self.linear(x) + self.custom_variable\n",
    "\n",
    "\n",
    "# Instantiate the model\n",
    "model = MyNnxModel(rngs=nnx.Rngs(0))\n",
    "\n",
    "# --- Verification ---\n",
    "# 1. Is the KerasVariable traced by NNX?\n",
    "print(f\"\u2705 Traced: {hasattr(model.custom_variable, '_trace_state')}\")\n",
    "\n",
    "# 2. Does NNX see the KerasVariable in the model's state?\n",
    "print(\"\u2705 Variables:\", nnx.variables(model))\n",
    "\n",
    "# 3. Can we access its value directly?\n",
    "print(\"\u2705 Value:\", model.custom_variable.value)"
   ]
  },
  {
   "cell_type": "markdown",
   "metadata": {
    "colab_type": "text"
   },
   "source": [
    "What this shows:\n",
    "The KerasVariable is successfully traced by NNX, just like any native\n",
    "nnx.Variable.\n",
    "The nnx.variables() function correctly identifies and lists our\n",
    "custom_variable as part of the model's state.\n",
    "This confirms that Keras state and NNX state can live together in perfect\n",
    "harmony.\n",
    "\n",
    "# The Best of Both Worlds: Training Workflows\n",
    "\n",
    "Now for the exciting part: training models. This integration unlocks two\n",
    "powerful workflows.\n",
    "\n",
    "## Workflow 1: The Classic Keras Experience (model.fit)"
   ]
  },
  {
   "cell_type": "code",
   "execution_count": 0,
   "metadata": {
    "colab_type": "code"
   },
   "outputs": [],
   "source": [
    "import numpy as np"
   ]
  },
  {
   "cell_type": "markdown",
   "metadata": {
    "colab_type": "text"
   },
   "source": [
    "1. Create a Keras Model"
   ]
  },
  {
   "cell_type": "code",
   "execution_count": 0,
   "metadata": {
    "colab_type": "code"
   },
   "outputs": [],
   "source": [
    "model = keras.Sequential(\n",
    "    [keras.layers.Dense(units=1, input_shape=(10,), name=\"my_dense_layer\")]\n",
    ")\n",
    "\n",
    "print(\"--- Initial Model Weights ---\")\n",
    "initial_weights = model.get_weights()\n",
    "print(f\"Initial Kernel: {initial_weights[0].T}\")  # .T for better display\n",
    "print(f\"Initial Bias: {initial_weights[1]}\")"
   ]
  },
  {
   "cell_type": "markdown",
   "metadata": {
    "colab_type": "text"
   },
   "source": [
    "2. Create Dummy Data"
   ]
  },
  {
   "cell_type": "code",
   "execution_count": 0,
   "metadata": {
    "colab_type": "code"
   },
   "outputs": [],
   "source": [
    "X_dummy = np.random.rand(100, 10)\n",
    "y_dummy = np.random.rand(100, 1)"
   ]
  },
  {
   "cell_type": "markdown",
   "metadata": {
    "colab_type": "text"
   },
   "source": [
    "3. Compile and Fit"
   ]
  },
  {
   "cell_type": "code",
   "execution_count": 0,
   "metadata": {
    "colab_type": "code"
   },
   "outputs": [],
   "source": [
    "model.compile(\n",
    "    optimizer=keras.optimizers.SGD(learning_rate=0.01),\n",
    "    loss=\"mean_squared_error\",\n",
    ")\n",
    "\n",
    "print(\"\\n--- Training with model.fit() ---\")\n",
    "history = model.fit(X_dummy, y_dummy, epochs=5, batch_size=32, verbose=1)"
   ]
  },
  {
   "cell_type": "markdown",
   "metadata": {
    "colab_type": "text"
   },
   "source": [
    "4. Verify a change"
   ]
  },
  {
   "cell_type": "code",
   "execution_count": 0,
   "metadata": {
    "colab_type": "code"
   },
   "outputs": [],
   "source": [
    "print(\"\\n--- Weights After Training ---\")\n",
    "updated_weights = model.get_weights()\n",
    "print(f\"Updated Kernel: {updated_weights[0].T}\")\n",
    "print(f\"Updated Bias: {updated_weights[1]}\")\n",
    "\n",
    "# Verification\n",
    "if not np.array_equal(initial_weights[1], updated_weights[1]):\n",
    "    print(\"\\n\u2705 SUCCESS: Model variables were updated during training.\")\n",
    "else:\n",
    "    print(\"\\n\u274c FAILURE: Model variables were not updated.\")"
   ]
  },
  {
   "cell_type": "markdown",
   "metadata": {
    "colab_type": "text"
   },
   "source": [
    "As you can see, your existing Keras code works out-of-the-box, giving you a\n",
    "high-level, productive experience powered by JAX and NNX under the hood.\n",
    "\n",
    "## Workflow 2: The Power of NNX: Custom Training Loops\n",
    "\n",
    "For maximum flexibility, you can treat any Keras layer or model as an\n",
    "nnx.Module and write your own training loop using libraries like Optax.\n",
    "This is perfect when you need fine-grained control over the gradient and\n",
    "update process."
   ]
  },
  {
   "cell_type": "code",
   "execution_count": 0,
   "metadata": {
    "colab_type": "code"
   },
   "outputs": [],
   "source": [
    "import numpy as np\n",
    "import optax\n",
    "\n",
    "X = np.linspace(-jnp.pi, jnp.pi, 100)[:, None]\n",
    "Y = 0.8 * X + 0.1 + np.random.normal(0, 0.1, size=X.shape)\n",
    "\n",
    "\n",
    "class MySimpleKerasModel(keras.Model):\n",
    "    def __init__(self, **kwargs):\n",
    "        super().__init__(**kwargs)\n",
    "        # Define the layers of your model\n",
    "        self.dense_layer = keras.layers.Dense(1)\n",
    "\n",
    "    def call(self, inputs):\n",
    "        # Define the forward pass\n",
    "        # The 'inputs' argument will receive the input tensor when the model is\n",
    "        #  called\n",
    "        return self.dense_layer(inputs)\n",
    "\n",
    "\n",
    "model = MySimpleKerasModel()\n",
    "model(X)\n",
    "\n",
    "tx = optax.sgd(1e-3)\n",
    "trainable_var = nnx.All(keras.Variable, lambda path, x: x.trainable)\n",
    "optimizer = nnx.Optimizer(model, tx, wrt=trainable_var)\n",
    "\n",
    "\n",
    "@nnx.jit\n",
    "def train_step(model, optimizer, batch):\n",
    "    x, y = batch\n",
    "\n",
    "    def loss_fn(model_):\n",
    "        y_pred = model_(x)\n",
    "        return jnp.mean((y - y_pred) ** 2)\n",
    "\n",
    "    grads = nnx.grad(loss_fn, wrt=trainable_var)(model)\n",
    "    optimizer.update(model, grads)\n",
    "\n",
    "\n",
    "@nnx.jit\n",
    "def test_step(model, batch):\n",
    "    x, y = batch\n",
    "    y_pred = model(x)\n",
    "    loss = jnp.mean((y - y_pred) ** 2)\n",
    "    return {\"loss\": loss}\n",
    "\n",
    "\n",
    "def dataset(batch_size=10):\n",
    "    while True:\n",
    "        idx = np.random.choice(len(X), size=batch_size)\n",
    "        yield X[idx], Y[idx]\n",
    "\n",
    "\n",
    "for step, batch in enumerate(dataset()):\n",
    "    train_step(model, optimizer, batch)\n",
    "\n",
    "    if step % 100 == 0:\n",
    "        logs = test_step(model, (X, Y))\n",
    "        print(f\"step: {step}, loss: {logs['loss']}\")\n",
    "\n",
    "    if step >= 500:\n",
    "        break"
   ]
  },
  {
   "cell_type": "markdown",
   "metadata": {
    "colab_type": "text"
   },
   "source": [
    "This example shows how a keras model object is seamlessly passed to\n",
    "nnx.Optimizer and differentiated by nnx.grad. This composition allows you\n",
    "to integrate Keras components into sophisticated JAX/NNX workflows. This\n",
    "approach also works perfectly with sequential, functional, subclassed keras\n",
    "models are even just layers.\n",
    "\n",
    "#  Saving and Loading\n",
    "\n",
    "Your investment in the Keras ecosystem is safe. Standard features like model\n",
    "serialization work exactly as you'd expect."
   ]
  },
  {
   "cell_type": "code",
   "execution_count": 0,
   "metadata": {
    "colab_type": "code"
   },
   "outputs": [],
   "source": [
    "# Create a simple model\n",
    "model = keras.Sequential([keras.layers.Dense(units=1, input_shape=(10,))])\n",
    "dummy_input = np.random.rand(1, 10)\n",
    "\n",
    "# Test call\n",
    "print(\"Original model output:\", model(dummy_input))\n",
    "\n",
    "# Save and load\n",
    "model.save(\"my_nnx_model.keras\")\n",
    "restored_model = keras.models.load_model(\"my_nnx_model.keras\")\n",
    "\n",
    "print(\"Restored model output:\", restored_model(dummy_input))\n",
    "\n",
    "# Verification\n",
    "np.testing.assert_allclose(model(dummy_input), restored_model(dummy_input))\n",
    "print(\"\\n\u2705 SUCCESS: Restored model output matches original model output.\")"
   ]
  },
  {
   "cell_type": "markdown",
   "metadata": {
    "colab_type": "text"
   },
   "source": [
    "# Real-World Application: Training Gemma\n",
    "\n",
    "Before trying out this KerasHub model, please make sure you have set up your\n",
    "Kaggle credentials in colab secrets. The colab pulls in `KAGGLE_KEY` and\n",
    "`KAGGLE_USERNAME` to authenticate and download the models."
   ]
  },
  {
   "cell_type": "code",
   "execution_count": 0,
   "metadata": {
    "colab_type": "code"
   },
   "outputs": [],
   "source": [
    "import keras_hub\n",
    "\n",
    "# Set a float16 policy for memory efficiency\n",
    "keras.config.set_dtype_policy(\"float16\")\n",
    "\n",
    "# Load Gemma from KerasHub\n",
    "gemma_lm = keras_hub.models.GemmaCausalLM.from_preset(\"gemma_1.1_instruct_2b_en\")\n",
    "\n",
    "# --- 1. Inference / Generation ---\n",
    "print(\"--- Gemma Generation ---\")\n",
    "output = gemma_lm.generate(\"Keras is a\", max_length=30)\n",
    "print(output)\n",
    "\n",
    "# --- 2. Fine-tuning ---\n",
    "print(\"\\n--- Gemma Fine-tuning ---\")\n",
    "# Dummy data for demonstration\n",
    "features = np.array([\"The quick brown fox jumped.\", \"I forgot my homework.\"])\n",
    "# The model.fit() API works seamlessly!\n",
    "gemma_lm.fit(x=features, batch_size=2)\n",
    "print(\"\\n\u2705 Gemma fine-tuning step completed successfully!\")"
   ]
  },
  {
   "cell_type": "markdown",
   "metadata": {
    "colab_type": "text"
   },
   "source": [
    "# Conclusion\n",
    "\n",
    "The Keras-NNX integration represents a significant step forward, offering a\n",
    "unified framework for both rapid prototyping and high-performance,\n",
    "customizable research. You can now:\n",
    "- Use familiar Keras APIs (Sequential, Model, fit, save) on a JAX backend.\n",
    "- Integrate Keras layers and models directly into Flax NNX modules and training loops.\n",
    "- Integrate Keras code/model with the NNX ecosystem like Qwix, Tunix, etc.\n",
    "- Leverage the entire JAX ecosystem (e.g., nnx.jit, optax) with your Keras models.\n",
    "- Seamlessly work with large models from KerasHub."
   ]
  }
 ],
 "metadata": {
  "accelerator": "GPU",
  "colab": {
   "collapsed_sections": [],
   "name": "keras_nnx_guide",
   "private_outputs": false,
   "provenance": [],
   "toc_visible": true
  },
  "kernelspec": {
   "display_name": "Python 3",
   "language": "python",
   "name": "python3"
  },
  "language_info": {
   "codemirror_mode": {
    "name": "ipython",
    "version": 3
   },
   "file_extension": ".py",
   "mimetype": "text/x-python",
   "name": "python",
   "nbconvert_exporter": "python",
   "pygments_lexer": "ipython3",
   "version": "3.7.0"
  }
 },
 "nbformat": 4,
 "nbformat_minor": 0
}