{
 "cells": [
  {
   "cell_type": "markdown",
   "metadata": {
    "colab_type": "text"
   },
   "source": [
    "# Visualize the hyperparameter tuning process\n",
    "\n",
    "**Author:** Haifeng Jin<br>\n",
    "**Date created:** 2021/06/25<br>\n",
    "**Last modified:** 2021/06/05<br>\n",
    "**Description:** Using TensorBoard to visualize the hyperparameter tuning process in KerasTuner."
   ]
  },
  {
   "cell_type": "code",
   "execution_count": 0,
   "metadata": {
    "colab_type": "code"
   },
   "outputs": [],
   "source": [
    "!pip install keras-tuner -q"
   ]
  },
  {
   "cell_type": "markdown",
   "metadata": {
    "colab_type": "text"
   },
   "source": [
    "## Introduction\n",
    "\n",
    "KerasTuner prints the logs to screen including the values of the\n",
    "hyperparameters in each trial for the user to monitor the progress. However,\n",
    "reading the logs is not intuitive enough to sense the influences of\n",
    "hyperparameters have on the results, Therefore, we provide a method to\n",
    "visualize the hyperparameter values and the corresponding evaluation results\n",
    "with interactive figures using TensorBoard.\n",
    "\n",
    "[TensorBoard](https://www.tensorflow.org/tensorboard) is a useful tool for\n",
    "visualizing the machine learning experiments.  It can monitor the losses and\n",
    "metrics during the model training and visualize the model architectures.\n",
    "Running KerasTuner with TensorBoard will give you additional features for\n",
    "visualizing hyperparameter tuning results using its HParams plugin."
   ]
  },
  {
   "cell_type": "markdown",
   "metadata": {
    "colab_type": "text"
   },
   "source": [
    "We will use a simple example of tuning a model for the MNIST image\n",
    "classification dataset to show how to use KerasTuner with TensorBoard.\n",
    "\n",
    "The first step is to download and format the data."
   ]
  },
  {
   "cell_type": "code",
   "execution_count": 0,
   "metadata": {
    "colab_type": "code"
   },
   "outputs": [],
   "source": [
    "import numpy as np\n",
    "import keras_tuner\n",
    "import keras\n",
    "from keras import layers\n",
    "\n",
    "(x_train, y_train), (x_test, y_test) = keras.datasets.mnist.load_data()\n",
    "# Normalize the pixel values to the range of [0, 1].\n",
    "x_train = x_train.astype(\"float32\") / 255\n",
    "x_test = x_test.astype(\"float32\") / 255\n",
    "# Add the channel dimension to the images.\n",
    "x_train = np.expand_dims(x_train, -1)\n",
    "x_test = np.expand_dims(x_test, -1)\n",
    "# Print the shapes of the data.\n",
    "print(x_train.shape)\n",
    "print(y_train.shape)\n",
    "print(x_test.shape)\n",
    "print(y_test.shape)"
   ]
  },
  {
   "cell_type": "markdown",
   "metadata": {
    "colab_type": "text"
   },
   "source": [
    "Then, we write a `build_model` function to build the model with hyperparameters\n",
    "and return the model. The hyperparameters include the type of model to use\n",
    "(multi-layer perceptron or convolutional neural network), the number of layers,\n",
    "the number of units or filters, whether to use dropout."
   ]
  },
  {
   "cell_type": "code",
   "execution_count": 0,
   "metadata": {
    "colab_type": "code"
   },
   "outputs": [],
   "source": [
    "\n",
    "def build_model(hp):\n",
    "    inputs = keras.Input(shape=(28, 28, 1))\n",
    "    # Model type can be MLP or CNN.\n",
    "    model_type = hp.Choice(\"model_type\", [\"mlp\", \"cnn\"])\n",
    "    x = inputs\n",
    "    if model_type == \"mlp\":\n",
    "        x = layers.Flatten()(x)\n",
    "        # Number of layers of the MLP is a hyperparameter.\n",
    "        for i in range(hp.Int(\"mlp_layers\", 1, 3)):\n",
    "            # Number of units of each layer are\n",
    "            # different hyperparameters with different names.\n",
    "            x = layers.Dense(\n",
    "                units=hp.Int(f\"units_{i}\", 32, 128, step=32),\n",
    "                activation=\"relu\",\n",
    "            )(x)\n",
    "    else:\n",
    "        # Number of layers of the CNN is also a hyperparameter.\n",
    "        for i in range(hp.Int(\"cnn_layers\", 1, 3)):\n",
    "            x = layers.Conv2D(\n",
    "                hp.Int(f\"filters_{i}\", 32, 128, step=32),\n",
    "                kernel_size=(3, 3),\n",
    "                activation=\"relu\",\n",
    "            )(x)\n",
    "            x = layers.MaxPooling2D(pool_size=(2, 2))(x)\n",
    "        x = layers.Flatten()(x)\n",
    "\n",
    "    # A hyperparamter for whether to use dropout layer.\n",
    "    if hp.Boolean(\"dropout\"):\n",
    "        x = layers.Dropout(0.5)(x)\n",
    "\n",
    "    # The last layer contains 10 units,\n",
    "    # which is the same as the number of classes.\n",
    "    outputs = layers.Dense(units=10, activation=\"softmax\")(x)\n",
    "    model = keras.Model(inputs=inputs, outputs=outputs)\n",
    "\n",
    "    # Compile the model.\n",
    "    model.compile(\n",
    "        loss=\"sparse_categorical_crossentropy\",\n",
    "        metrics=[\"accuracy\"],\n",
    "        optimizer=\"adam\",\n",
    "    )\n",
    "    return model\n",
    ""
   ]
  },
  {
   "cell_type": "markdown",
   "metadata": {
    "colab_type": "text"
   },
   "source": [
    "We can do a quick test of the models to check if it build successfully for both\n",
    "CNN and MLP."
   ]
  },
  {
   "cell_type": "code",
   "execution_count": 0,
   "metadata": {
    "colab_type": "code"
   },
   "outputs": [],
   "source": [
    "\n",
    "# Initialize the `HyperParameters` and set the values.\n",
    "hp = keras_tuner.HyperParameters()\n",
    "hp.values[\"model_type\"] = \"cnn\"\n",
    "# Build the model using the `HyperParameters`.\n",
    "model = build_model(hp)\n",
    "# Test if the model runs with our data.\n",
    "model(x_train[:100])\n",
    "# Print a summary of the model.\n",
    "model.summary()\n",
    "\n",
    "# Do the same for MLP model.\n",
    "hp.values[\"model_type\"] = \"mlp\"\n",
    "model = build_model(hp)\n",
    "model(x_train[:100])\n",
    "model.summary()"
   ]
  },
  {
   "cell_type": "markdown",
   "metadata": {
    "colab_type": "text"
   },
   "source": [
    "Initialize the `RandomSearch` tuner with 10 trials and using validation\n",
    "accuracy as the metric for selecting models."
   ]
  },
  {
   "cell_type": "code",
   "execution_count": 0,
   "metadata": {
    "colab_type": "code"
   },
   "outputs": [],
   "source": [
    "tuner = keras_tuner.RandomSearch(\n",
    "    build_model,\n",
    "    max_trials=10,\n",
    "    # Do not resume the previous search in the same directory.\n",
    "    overwrite=True,\n",
    "    objective=\"val_accuracy\",\n",
    "    # Set a directory to store the intermediate results.\n",
    "    directory=\"/tmp/tb\",\n",
    ")"
   ]
  },
  {
   "cell_type": "markdown",
   "metadata": {
    "colab_type": "text"
   },
   "source": [
    "Start the search by calling `tuner.search(...)`. To use TensorBoard, we need\n",
    "to pass a `keras.callbacks.TensorBoard` instance to the callbacks."
   ]
  },
  {
   "cell_type": "code",
   "execution_count": 0,
   "metadata": {
    "colab_type": "code"
   },
   "outputs": [],
   "source": [
    "tuner.search(\n",
    "    x_train,\n",
    "    y_train,\n",
    "    validation_split=0.2,\n",
    "    epochs=2,\n",
    "    # Use the TensorBoard callback.\n",
    "    # The logs will be write to \"/tmp/tb_logs\".\n",
    "    callbacks=[keras.callbacks.TensorBoard(\"/tmp/tb_logs\")],\n",
    ")"
   ]
  },
  {
   "cell_type": "markdown",
   "metadata": {
    "colab_type": "text"
   },
   "source": [
    "If running in Colab, the following two commands will show you the TensorBoard\n",
    "inside Colab.\n",
    "\n",
    "`%load_ext tensorboard`\n",
    "\n",
    "`%tensorboard --logdir /tmp/tb_logs`\n",
    "\n",
    "You have access to all the common features of the TensorBoard. For example, you\n",
    "can view the loss and metrics curves and visualize the computational graph of\n",
    "the models in different trials.\n",
    "\n",
    "![Loss and metrics curves](https://i.imgur.com/ShulDtI.png)\n",
    "![Computational graphs](https://i.imgur.com/8sRiT1I.png)\n",
    "\n",
    "In addition to these features, we also have a HParams tab, in which there are\n",
    "three views.  In the table view, you can view the 10 different trials in a\n",
    "table with the different hyperparameter values and evaluation metrics.\n",
    "\n",
    "![Table view](https://i.imgur.com/OMcQdOw.png)\n",
    "\n",
    "On the left side, you can specify the filters for certain hyperparameters. For\n",
    "example, you can specify to only view the MLP models without the dropout layer\n",
    "and with 1 to 2 dense layers.\n",
    "\n",
    "![Filtered table view](https://i.imgur.com/yZpfaxN.png)\n",
    "\n",
    "Besides the table view, it also provides two other views, parallel coordinates\n",
    "view and scatter plot matrix view. They are just different visualization\n",
    "methods for the same data. You can still use the panel on the left to filter\n",
    "the results.\n",
    "\n",
    "In the parallel coordinates view, each colored line is a trial.\n",
    "The axes are the hyperparameters and evaluation metrics.\n",
    "\n",
    "![Parallel coordinates view](https://i.imgur.com/PJ7HQUQ.png)\n",
    "\n",
    "In the scatter plot matrix view, each dot is a trial. The plots are projections\n",
    "of the trials on planes with different hyperparameter and metrics as the axes.\n",
    "\n",
    "![Scatter plot matrix view](https://i.imgur.com/zjPjh6o.png)"
   ]
  }
 ],
 "metadata": {
  "accelerator": "GPU",
  "colab": {
   "collapsed_sections": [],
   "name": "visualize_tuning",
   "private_outputs": false,
   "provenance": [],
   "toc_visible": true
  },
  "kernelspec": {
   "display_name": "Python 3",
   "language": "python",
   "name": "python3"
  },
  "language_info": {
   "codemirror_mode": {
    "name": "ipython",
    "version": 3
   },
   "file_extension": ".py",
   "mimetype": "text/x-python",
   "name": "python",
   "nbconvert_exporter": "python",
   "pygments_lexer": "ipython3",
   "version": "3.7.0"
  }
 },
 "nbformat": 4,
 "nbformat_minor": 0
}
