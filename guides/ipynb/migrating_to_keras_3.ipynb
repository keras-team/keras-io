{
 "cells": [
  {
   "cell_type": "markdown",
   "metadata": {
    "colab_type": "text"
   },
   "source": [
    "# Migrating Keras 2 code to multi-backend Keras 3\n",
    "\n",
    "**Author:** [Divyashree Sreepathihalli](https://github.com/divyashreepathihalli)<br>\n",
    "**Date created:** 2023/10/23<br>\n",
    "**Last modified:** 2023/10/30<br>\n",
    "**Description:** Instructions & troubleshooting for migrating your Keras 2 code to multi-backend Keras 3."
   ]
  },
  {
   "cell_type": "markdown",
   "metadata": {
    "colab_type": "text"
   },
   "source": [
    "This guide will help you migrate TensorFlow-only Keras 2 code to multi-backend Keras\n",
    "3 code. The overhead for the migration is minimal. Once you have migrated,\n",
    "you can run Keras workflows on top of either JAX, TensorFlow, or PyTorch.\n",
    "\n",
    "This guide has two parts:\n",
    "\n",
    "1. Migrating your legacy Keras 2 code to Keras 3, running on top of the TensorFlow backend.\n",
    "This is generally very easy, though there are minor issues to be mindful of, that we will go over\n",
    "in detail.\n",
    "2. Further migrating your Keras 3 + TensorFlow code to multi-backend Keras 3, so that it can run on\n",
    "JAX and PyTorch.\n",
    "\n",
    "Let's get started."
   ]
  },
  {
   "cell_type": "markdown",
   "metadata": {
    "colab_type": "text"
   },
   "source": [
    "## Setup\n",
    "\n",
    "First, lets install `keras-nightly`.\n",
    "\n",
    "This example uses the TensorFlow backend (`os.environ[\"KERAS_BACKEND\"] = \"tensorflow\"`).\n",
    "After you've migrated your code, you can change the `\"tensorflow\"` string to `\"jax\"` or `\"torch\"`\n",
    "and click \"Restart runtime\" in Colab, and your code will run on the JAX or PyTorch backend."
   ]
  },
  {
   "cell_type": "code",
   "execution_count": 0,
   "metadata": {
    "colab_type": "code"
   },
   "outputs": [],
   "source": [
    "!pip install -q keras-nightly"
   ]
  },
  {
   "cell_type": "code",
   "execution_count": 0,
   "metadata": {
    "colab_type": "code"
   },
   "outputs": [],
   "source": [
    "import os\n",
    "\n",
    "os.environ[\"KERAS_BACKEND\"] = \"tensorflow\"\n",
    "\n",
    "import keras\n",
    "import tensorflow as tf\n",
    "import numpy as np"
   ]
  },
  {
   "cell_type": "markdown",
   "metadata": {
    "colab_type": "text"
   },
   "source": [
    "## Going from Keras 2 to Keras 3 with the TensorFlow backend\n",
    "\n",
    "First, replace your imports:\n",
    "\n",
    "1. Replace `from tensorflow import keras` to `import keras`\n",
    "2. Replace `from tensorflow.keras import xyz` (e.g. `from tensorflow.keras import layers`)\n",
    "to `from keras import xyz` (e.g. `from keras import layers`)\n",
    "3. Replace `tf.keras.*` to `keras.*`\n",
    "\n",
    "Next, start running your tests. Most of the time, your code will execute on Keras 3 just fine.\n",
    "All issues you might encounter are detailed below, with their fixes."
   ]
  },
  {
   "cell_type": "markdown",
   "metadata": {
    "colab_type": "text"
   },
   "source": [
    "### `jit_compile` is set to `True` by default on GPU.\n",
    "\n",
    "The default value of the `jit_compile` argument to the `Model` constructor has been set to\n",
    "`True` on GPU in Keras 3. This means that models will be compiled with Just-In-Time (JIT)\n",
    "compilation by default on GPU.\n",
    "\n",
    "JIT compilation can improve the performance of some models. However, it may not work with\n",
    "all TensorFlow operations. If you are using a custom model or layer and you see an\n",
    "XLA-related error, you may need to set the `jit_compile` argument to `False`. Here is a list\n",
    "of [known issues](https://www.tensorflow.org/xla/known_issues) encountered when\n",
    "using XLA with TensorFlow. In addition to these issues, there are some\n",
    "ops that are not supported by XLA.\n",
    "\n",
    "The error message you could encounter would be as follows:\n",
    "\n",
    "```\n",
    "Detected unsupported operations when trying to compile graph\n",
    "__inference_one_step_on_data_125[] on XLA_GPU_JIT\n",
    "```\n",
    "\n",
    "For example, the following snippet of code will reproduce the above error:\n",
    "\n",
    "```python\n",
    "class MyModel(keras.Model):\n",
    "    def __init__(self, *args, **kwargs):\n",
    "        super().__init__(*args, **kwargs)\n",
    "\n",
    "    def call(self, inputs):\n",
    "        string_input = tf.strings.as_string(inputs)\n",
    "        return tf.strings.to_number(string_input)\n",
    "\n",
    "\n",
    "subclass_model = MyModel()\n",
    "x_train = np.array([[1, 2, 3], [4, 5, 6]])\n",
    "subclass_model.compile(optimizer=\"sgd\", loss=\"mse\")\n",
    "subclass_model.predict(x_train)\n",
    "```"
   ]
  },
  {
   "cell_type": "markdown",
   "metadata": {
    "colab_type": "text"
   },
   "source": [
    "**How to fix it:** set `jit_compile=False` in `model.compile(..., jit_compile=False)`,\n",
    "or set the `jit_compile` attribute to `False`, like this:"
   ]
  },
  {
   "cell_type": "code",
   "execution_count": 0,
   "metadata": {
    "colab_type": "code"
   },
   "outputs": [],
   "source": [
    "\n",
    "class MyModel(keras.Model):\n",
    "    def __init__(self, *args, **kwargs):\n",
    "        super().__init__(*args, **kwargs)\n",
    "\n",
    "    def call(self, inputs):\n",
    "        # tf.strings ops aren't support by XLA\n",
    "        string_input = tf.strings.as_string(inputs)\n",
    "        return tf.strings.to_number(string_input)\n",
    "\n",
    "\n",
    "subclass_model = MyModel()\n",
    "x_train = np.array([[1, 2, 3], [4, 5, 6]])\n",
    "subclass_model.jit_compile = False\n",
    "subclass_model.predict(x_train)"
   ]
  },
  {
   "cell_type": "markdown",
   "metadata": {
    "colab_type": "text"
   },
   "source": [
    "### Saving a model in the TF SavedModel format\n",
    "\n",
    "Saving to the TF SavedModel format via `model.save()` is no longer supported in Keras 3.\n",
    "\n",
    "The error message you could encounter would be as follows:\n",
    "\n",
    "```\n",
    ">>> model.save(\"mymodel\")\n",
    "ValueError: Invalid filepath extension for saving. Please add either a `.keras` extension\n",
    "for the native Keras format (recommended) or a `.h5` extension. Use\n",
    "`model.export(filepath)` if you want to export a SavedModel for use with\n",
    "TFLite/TFServing/etc. Received: filepath=saved_model.\n",
    "```\n",
    "\n",
    "The following snippet of code will reproduce the above error:\n",
    "\n",
    "```python\n",
    "sequential_model = keras.Sequential([\n",
    "    keras.layers.Dense(2)\n",
    "])\n",
    "sequential_model.save(\"saved_model\")\n",
    "```"
   ]
  },
  {
   "cell_type": "markdown",
   "metadata": {
    "colab_type": "text"
   },
   "source": [
    "**How to fix it:** use `model.export(filepath)` instead of `model.save(filepath)`"
   ]
  },
  {
   "cell_type": "code",
   "execution_count": 0,
   "metadata": {
    "colab_type": "code"
   },
   "outputs": [],
   "source": [
    "sequential_model = keras.Sequential([keras.layers.Dense(2)])\n",
    "sequential_model(np.random.rand(3, 5))\n",
    "sequential_model.export(\"saved_model\")"
   ]
  },
  {
   "cell_type": "markdown",
   "metadata": {
    "colab_type": "text"
   },
   "source": [
    "### Loading a TF SavedModel\n",
    "\n",
    "Loading a TF SavedModel file via `keras.models.load_model()` is no longer supported\n",
    "If you try to use `keras.models.load_model()` with a TF SavedModel, you will get the following error:\n",
    "\n",
    "```python\n",
    "ValueError: File format not supported: filepath=saved_model. Keras 3 only supports V3\n",
    "`.keras` files and legacy H5 format files (`.h5` extension). Note that the legacy\n",
    "SavedModel format is not supported by `load_model()` in Keras 3. In order to reload a\n",
    "TensorFlow SavedModel as an inference-only layer in Keras 3, use\n",
    "`keras.layers.TFSMLayer(saved_model, call_endpoint='serving_default')` (note that your\n",
    "`call_endpoint` might have a different name).\n",
    "```\n",
    "\n",
    "The following snippet of code will reproduce the above error:\n",
    "\n",
    "```python\n",
    "keras.models.load_model(\"saved_model\")\n",
    "```"
   ]
  },
  {
   "cell_type": "markdown",
   "metadata": {
    "colab_type": "text"
   },
   "source": [
    "**How to fix it:** Use `keras.layers.TFSMLayer(filepath, call_endpoint=\"serving_default\")` to reload a TF\n",
    "SavedModel as a Keras layer. This is not limited to SavedModels that originate from Keras -- it will work\n",
    "with any SavedModel, e.g. TF-Hub models."
   ]
  },
  {
   "cell_type": "code",
   "execution_count": 0,
   "metadata": {
    "colab_type": "code"
   },
   "outputs": [],
   "source": [
    "keras.layers.TFSMLayer(\"saved_model\", call_endpoint=\"serving_default\")"
   ]
  },
  {
   "cell_type": "markdown",
   "metadata": {
    "colab_type": "text"
   },
   "source": [
    "### Using deeply nested inputs in Functional Models\n",
    "\n",
    "`Model()` can no longer be passed deeply nested inputs/outputs (nested more than 1 level\n",
    "deep, e.g. lists of lists of tensors).\n",
    "\n",
    "You would encounter errors as follows:\n",
    "\n",
    "```\n",
    "ValueError: When providing `inputs` as a dict, all values in the dict must be\n",
    "KerasTensors. Received: inputs={'foo': <KerasTensor shape=(None, 1), dtype=float32,\n",
    "sparse=None, name=foo>, 'bar': {'baz': <KerasTensor shape=(None, 1), dtype=float32,\n",
    "sparse=None, name=bar>}} including invalid value {'baz': <KerasTensor shape=(None, 1),\n",
    "dtype=float32, sparse=None, name=bar>} of type <class 'dict'>\n",
    "```\n",
    "\n",
    "The following snippet of code will reproduce the above error:\n",
    "\n",
    "```python\n",
    "inputs = {\n",
    "    \"foo\": keras.Input(shape=(1,), name=\"foo\"),\n",
    "    \"bar\": {\n",
    "        \"baz\": keras.Input(shape=(1,), name=\"bar\"),\n",
    "    },\n",
    "}\n",
    "outputs = inputs[\"foo\"] + inputs[\"bar\"][\"baz\"]\n",
    "keras.Model(inputs, outputs)\n",
    "```"
   ]
  },
  {
   "cell_type": "markdown",
   "metadata": {
    "colab_type": "text"
   },
   "source": [
    "**How to fix it:** replace nested input with either dicts, lists, and tuples\n",
    "of input tensors."
   ]
  },
  {
   "cell_type": "code",
   "execution_count": 0,
   "metadata": {
    "colab_type": "code"
   },
   "outputs": [],
   "source": [
    "inputs = {\n",
    "    \"foo\": keras.Input(shape=(1,), name=\"foo\"),\n",
    "    \"bar\": keras.Input(shape=(1,), name=\"bar\"),\n",
    "}\n",
    "outputs = inputs[\"foo\"] + inputs[\"bar\"]\n",
    "keras.Model(inputs, outputs)"
   ]
  },
  {
   "cell_type": "markdown",
   "metadata": {
    "colab_type": "text"
   },
   "source": [
    "### TF autograph\n",
    "\n",
    "In Keras 2, TF autograph is enabled by default on the `call()` method of custom\n",
    "layers. In Keras 3, it is not. This means you may have to use cond ops if you're using\n",
    "control flow, or alternatively you can decorate your `call()` method with `@tf.function`.\n",
    "\n",
    "You would encounter an error as follows:\n",
    "```\n",
    "OperatorNotAllowedInGraphError: Exception encountered when calling MyCustomLayer.call().\n",
    "\n",
    "Using a symbolic `tf.Tensor` as a Python `bool` is not allowed. You can attempt the\n",
    "following resolutions to the problem: If you are running in Graph mode, use Eager\n",
    "execution mode or decorate this function with @tf.function. If you are using AutoGraph,\n",
    "you can try decorating this function with @tf.function. If that does not work, then you\n",
    "may be using an unsupported feature or your source code may not be visible to AutoGraph.\n",
    "Here is a [link for more information](https://github.com/tensorflow/tensorflow/blob/master/tensorflow/python/autograph/g3doc/ref\n",
    "erence/limitations.md#access-to-source-code).\n",
    "```\n",
    "\n",
    "The following snippet of code will reproduce the above error:\n",
    "\n",
    "```python\n",
    "class MyCustomLayer(keras.layers.Layer):\n",
    "\n",
    "  def call(self, inputs):\n",
    "    if tf.random.uniform(()) > 0.5:\n",
    "      return inputs * 2\n",
    "    else:\n",
    "      return inputs / 2\n",
    "\n",
    "\n",
    "layer = MyCustomLayer()\n",
    "data = np.random.uniform(size=[3, 3])\n",
    "model = keras.models.Sequential([layer])\n",
    "model.compile(optimizer=\"adam\", loss=\"mse\")\n",
    "model.predict(data)\n",
    "```"
   ]
  },
  {
   "cell_type": "markdown",
   "metadata": {
    "colab_type": "text"
   },
   "source": [
    "**How to fix it:** decorate your `call()` method with `@tf.function`"
   ]
  },
  {
   "cell_type": "code",
   "execution_count": 0,
   "metadata": {
    "colab_type": "code"
   },
   "outputs": [],
   "source": [
    "\n",
    "class MyCustomLayer(keras.layers.Layer):\n",
    "    @tf.function()\n",
    "    def call(self, inputs):\n",
    "        if tf.random.uniform(()) > 0.5:\n",
    "            return inputs * 2\n",
    "        else:\n",
    "            return inputs / 2\n",
    "\n",
    "\n",
    "layer = MyCustomLayer()\n",
    "data = np.random.uniform(size=[3, 3])\n",
    "model = keras.models.Sequential([layer])\n",
    "model.compile(optimizer=\"adam\", loss=\"mse\")\n",
    "model.predict(data)"
   ]
  },
  {
   "cell_type": "markdown",
   "metadata": {
    "colab_type": "text"
   },
   "source": [
    "### Calling TF ops with a `KerasTensor`\n",
    "\n",
    "Using a TF op on a Keras tensor during functional model construction is disallowed: \"A\n",
    "KerasTensor cannot be used as input to a TensorFlow function\".\n",
    "\n",
    "The error you would encounter would be as follows:\n",
    "\n",
    "```\n",
    "ValueError: A KerasTensor cannot be used as input to a TensorFlow function. A KerasTensor\n",
    "is a symbolic placeholder for a shape and dtype, used when constructing Keras Functional\n",
    "models or Keras Functions. You can only use it as input to a Keras layer or a Keras\n",
    "operation (from the namespaces `keras.layers` and `keras.operations`).\n",
    "```\n",
    "\n",
    "The following snippet of code will reproduce the error:\n",
    "\n",
    "```python\n",
    "input = keras.layers.Input([2, 2, 1])\n",
    "tf.squeeze(input)\n",
    "```"
   ]
  },
  {
   "cell_type": "markdown",
   "metadata": {
    "colab_type": "text"
   },
   "source": [
    "**How to fix it:** use an equivalent op from `keras.ops`."
   ]
  },
  {
   "cell_type": "code",
   "execution_count": 0,
   "metadata": {
    "colab_type": "code"
   },
   "outputs": [],
   "source": [
    "input = keras.layers.Input([2, 2, 1])\n",
    "keras.ops.squeeze(input)"
   ]
  },
  {
   "cell_type": "markdown",
   "metadata": {
    "colab_type": "text"
   },
   "source": [
    "### Multi-output model `evaluate()`\n",
    "\n",
    "The `evaluate()` method of a multi-output model no longer returns individual output\n",
    "losses separately. Instead, you should utilize the `metrics` argument in the `compile()`\n",
    "method to keep track of these losses.\n",
    "\n",
    "\n",
    "When dealing with multiple named outputs, such as output_a and output_b, the legacy\n",
    "`tf.keras` would include <output_a>_loss, <output_b>_loss, and similar entries in\n",
    "metrics. However, in keras 3.0, these entries are not automatically added to metrics.\n",
    "They must be explicitly provided in the metrics list for each individual output.\n",
    "\n",
    "The following snippet of code will reproduce the above behavior:\n",
    "\n",
    "```python\n",
    "from keras import layers\n",
    "# A functional model with multiple outputs\n",
    "inputs = layers.Input(shape=(10,))\n",
    "x1 = layers.Dense(5, activation='relu')(inputs)\n",
    "x2 = layers.Dense(5, activation='relu')(x1)\n",
    "output_1 = layers.Dense(5, activation='softmax', name=\"output_1\")(x1)\n",
    "output_2 = layers.Dense(5, activation='softmax', name=\"output_2\")(x2)\n",
    "model = keras.Model(inputs=inputs, outputs=[output_1, output_2])\n",
    "model.compile(optimizer='adam', loss='categorical_crossentropy')\n",
    "# dummy data\n",
    "x_test = np.random.uniform(size=[10, 10])\n",
    "y_test = np.random.uniform(size=[10, 5])\n",
    "\n",
    "model.evaluate(x_test, y_test)\n",
    "```"
   ]
  },
  {
   "cell_type": "code",
   "execution_count": 0,
   "metadata": {
    "colab_type": "code"
   },
   "outputs": [],
   "source": [
    "from keras import layers\n",
    "\n",
    "# A functional model with multiple outputs\n",
    "inputs = layers.Input(shape=(10,))\n",
    "x1 = layers.Dense(5, activation=\"relu\")(inputs)\n",
    "x2 = layers.Dense(5, activation=\"relu\")(x1)\n",
    "output_1 = layers.Dense(5, activation=\"softmax\", name=\"output_1\")(x1)\n",
    "output_2 = layers.Dense(5, activation=\"softmax\", name=\"output_2\")(x2)\n",
    "# dummy data\n",
    "x_test = np.random.uniform(size=[10, 10])\n",
    "y_test = np.random.uniform(size=[10, 5])\n",
    "multi_output_model = keras.Model(inputs=inputs, outputs=[output_1, output_2])\n",
    "multi_output_model.compile(\n",
    "    optimizer=\"adam\",\n",
    "    loss=\"categorical_crossentropy\",\n",
    "    metrics=[\"categorical_crossentropy\", \"categorical_crossentropy\"],\n",
    ")\n",
    "multi_output_model.evaluate(x_test, y_test)\n"
   ]
  },
  {
   "cell_type": "markdown",
   "metadata": {
    "colab_type": "text"
   },
   "source": [
    "### TensorFlow variables tracking\n",
    "\n",
    "Setting a `tf.Variable` as an attribute of a Keras 3 layer or model will not automatically\n",
    "track the variable, unlike in Keras 2. The following snippet of code will show that the `tf.Variables`\n",
    "are not being tracked.\n",
    "\n",
    "```python\n",
    "class MyCustomLayer(keras.layers.Layer):\n",
    "    def __init__(self, units):\n",
    "        super().__init__()\n",
    "        self.units = units\n",
    "\n",
    "    def build(self, input_shape):\n",
    "        input_dim = input_shape[-1]\n",
    "        self.w = tf.Variable(initial_value=tf.zeros([input_dim, self.units]))\n",
    "        self.b = tf.Variable(initial_value=tf.zeros([self.units,]))\n",
    "\n",
    "    def call(self, inputs):\n",
    "        return keras.ops.matmul(inputs, self.w) + self.b\n",
    "\n",
    "\n",
    "layer = MyCustomLayer(3)\n",
    "data = np.random.uniform(size=[3, 3])\n",
    "model = keras.models.Sequential([layer])\n",
    "model.compile(optimizer=\"adam\", loss=\"mse\")\n",
    "model.predict(data)\n",
    "# The model does not have any trainable variables\n",
    "for layer in model.layers:\n",
    "    print(layer.trainable_variables)\n",
    "```\n",
    "\n",
    "You will see the following warning:\n",
    "\n",
    "```\n",
    "UserWarning: The model does not have any trainable weights.\n",
    "  warnings.warn(\"The model does not have any trainable weights.\")\n",
    "```\n",
    "\n",
    "**How to fix it:** use `self.add_weight()` method or opt for a `keras.Variable` instead. If you\n",
    "are currently using `tf.variable`, you can switch to `keras.Variable`."
   ]
  },
  {
   "cell_type": "code",
   "execution_count": 0,
   "metadata": {
    "colab_type": "code"
   },
   "outputs": [],
   "source": [
    "\n",
    "class MyCustomLayer(keras.layers.Layer):\n",
    "    def __init__(self, units):\n",
    "        super().__init__()\n",
    "        self.units = units\n",
    "\n",
    "    def build(self, input_shape):\n",
    "        input_dim = input_shape[-1]\n",
    "        self.w = self.add_weight(\n",
    "            shape=[input_dim, self.units],\n",
    "            initializer=\"zeros\",\n",
    "        )\n",
    "        self.b = self.add_weight(\n",
    "            shape=[\n",
    "                self.units,\n",
    "            ],\n",
    "            initializer=\"zeros\",\n",
    "        )\n",
    "\n",
    "    def call(self, inputs):\n",
    "        return keras.ops.matmul(inputs, self.w) + self.b\n",
    "\n",
    "\n",
    "layer = MyCustomLayer(3)\n",
    "data = np.random.uniform(size=[3, 3])\n",
    "model = keras.models.Sequential([layer])\n",
    "model.compile(optimizer=\"adam\", loss=\"mse\")\n",
    "model.predict(data)\n",
    "# Verify that the variables are now being tracked\n",
    "for layer in model.layers:\n",
    "    print(layer.trainable_variables)"
   ]
  },
  {
   "cell_type": "markdown",
   "metadata": {
    "colab_type": "text"
   },
   "source": [
    "### `None` entries in nested `call()` arguments\n",
    "\n",
    "`None` entries are not allowed as part of nested (e.g. list/tuples) tensor\n",
    "arguments in `Layer.call()`, nor as part of `call()`'s nested return values.\n",
    "\n",
    "If the `None` in the argument is intentional and serves a specific purpose,\n",
    "ensure that the argument is optional and structure it as a separate parameter.\n",
    "For example, consider defining the `call` method with optional argument.\n",
    "\n",
    "The following snippet of code will reproduce the error.\n",
    "\n",
    "```python\n",
    "class CustomLayer(keras.layers.Layer):\n",
    "    def __init__(self):\n",
    "        super().__init__()\n",
    "\n",
    "    def call(self, inputs):\n",
    "        foo = inputs[\"foo\"]\n",
    "        baz = inputs[\"bar\"][\"baz\"]\n",
    "        if baz is not None:\n",
    "            return foo + baz\n",
    "        return foo\n",
    "\n",
    "layer = CustomLayer()\n",
    "inputs = {\n",
    "    \"foo\": keras.Input(shape=(1,), name=\"foo\"),\n",
    "    \"bar\": {\n",
    "        \"baz\": None,\n",
    "    },\n",
    "}\n",
    "layer(inputs)\n",
    "```"
   ]
  },
  {
   "cell_type": "markdown",
   "metadata": {
    "colab_type": "text"
   },
   "source": [
    "**How to fix it:**\n",
    "\n",
    "**Solution 1:** Replace `None` with a value, like this:"
   ]
  },
  {
   "cell_type": "code",
   "execution_count": 0,
   "metadata": {
    "colab_type": "code"
   },
   "outputs": [],
   "source": [
    "\n",
    "class CustomLayer(keras.layers.Layer):\n",
    "    def __init__(self):\n",
    "        super().__init__()\n",
    "\n",
    "    def call(self, inputs):\n",
    "        foo = inputs[\"foo\"]\n",
    "        baz = inputs[\"bar\"][\"baz\"]\n",
    "        return foo + baz\n",
    "\n",
    "\n",
    "layer = CustomLayer()\n",
    "inputs = {\n",
    "    \"foo\": keras.Input(shape=(1,), name=\"foo\"),\n",
    "    \"bar\": {\n",
    "        \"baz\": keras.Input(shape=(1,), name=\"bar\"),\n",
    "    },\n",
    "}\n",
    "layer(inputs)\n"
   ]
  },
  {
   "cell_type": "markdown",
   "metadata": {
    "colab_type": "text"
   },
   "source": [
    "**Solution 2:** Define the call method with an optional argument.\n",
    "Here is an example of this fix:"
   ]
  },
  {
   "cell_type": "code",
   "execution_count": 0,
   "metadata": {
    "colab_type": "code"
   },
   "outputs": [],
   "source": [
    "\n",
    "class CustomLayer(keras.layers.Layer):\n",
    "    def __init__(self):\n",
    "        super().__init__()\n",
    "\n",
    "    def call(self, foo, baz=None):\n",
    "        if baz is not None:\n",
    "            return foo + baz\n",
    "        return foo\n",
    "\n",
    "\n",
    "layer = CustomLayer()\n",
    "foo = keras.Input(shape=(1,), name=\"foo\")\n",
    "baz = None\n",
    "layer(foo, baz=baz)"
   ]
  },
  {
   "cell_type": "markdown",
   "metadata": {
    "colab_type": "text"
   },
   "source": [
    "### State-building issues\n",
    "\n",
    "Keras 3 is significantly stricter than Keras 2 about when state (e.g. numerical weight variables)\n",
    "can be created. Keras 3 wants all state to be created before the model can be trained. This is a requirement\n",
    "for using JAX (whereas TensorFlow was very lenient about state creation timing).\n",
    "\n",
    "Keras layers should create their state either in their constructor (`__init__()` method) or in their `build()` method.\n",
    "They should avoid creating state in `call()`.\n",
    "\n",
    "If you ignore this recommendation and create state in `call()`\n",
    "anyway (e.g. by calling a previously unbuilt layer), then Keras will attempt to build the layer automatically\n",
    "by calling the `call()` method on symbolic inputs before training.\n",
    "However, this attempt at automatic state creation may fail in certain cases.\n",
    "This will cause an error that looks like like this:\n",
    "\n",
    "```\n",
    "Layer 'frame_position_embedding' looks like it has unbuilt state,\n",
    "but Keras is not able to trace the layer `call()` in order to build it automatically.\n",
    "Possible causes:\n",
    "1. The `call()` method of your layer may be crashing.\n",
    "Try to `__call__()` the layer eagerly on some test input first to see if it works.\n",
    "E.g. `x = np.random.random((3, 4)); y = layer(x)`\n",
    "2. If the `call()` method is correct, then you may need to implement\n",
    "the `def build(self, input_shape)` method on your layer.\n",
    "It should create all variables used by the layer\n",
    "(e.g. by calling `layer.build()` on all its children layers).\n",
    "```\n",
    "\n",
    "You could reproduce this error with the following layer, when used with the JAX backend:\n",
    "\n",
    "```python\n",
    "class PositionalEmbedding(keras.layers.Layer):\n",
    "    def __init__(self, sequence_length, output_dim, **kwargs):\n",
    "        super().__init__(**kwargs)\n",
    "        self.position_embeddings = layers.Embedding(\n",
    "            input_dim=sequence_length, output_dim=output_dim\n",
    "        )\n",
    "        self.sequence_length = sequence_length\n",
    "        self.output_dim = output_dim\n",
    "\n",
    "    def call(self, inputs):\n",
    "        inputs = keras.ops.cast(inputs, self.compute_dtype)\n",
    "        length = keras.ops.shape(inputs)[1]\n",
    "        positions = keras.ops.arange(start=0, stop=length, step=1)\n",
    "        embedded_positions = self.position_embeddings(positions)\n",
    "        return inputs + embedded_positions\n",
    "```\n",
    "\n",
    "**How to fix it:** Do exactly what the error message asks. First, try to run the layer eagerly\n",
    "to see if the `call()` method is in fact correct (note: if it was working in Keras 2, then it is correct\n",
    "and does not need to be changed). If it is indeed correct, then you should implement a `build(self, input_shape)`\n",
    "method that creates all of the layer's state, including the state of sublayers. Here's the fix as applied for the layer above\n",
    "(note the `build()` method):\n",
    "\n",
    "```python\n",
    "class PositionalEmbedding(keras.layers.Layer):\n",
    "    def __init__(self, sequence_length, output_dim, **kwargs):\n",
    "        super().__init__(**kwargs)\n",
    "        self.position_embeddings = layers.Embedding(\n",
    "            input_dim=sequence_length, output_dim=output_dim\n",
    "        )\n",
    "        self.sequence_length = sequence_length\n",
    "        self.output_dim = output_dim\n",
    "\n",
    "    def build(self, input_shape):\n",
    "        self.position_embeddings.build(input_shape)\n",
    "\n",
    "    def call(self, inputs):\n",
    "        inputs = keras.ops.cast(inputs, self.compute_dtype)\n",
    "        length = keras.ops.shape(inputs)[1]\n",
    "        positions = keras.ops.arange(start=0, stop=length, step=1)\n",
    "        embedded_positions = self.position_embeddings(positions)\n",
    "        return inputs + embedded_positions\n",
    "```"
   ]
  },
  {
   "cell_type": "markdown",
   "metadata": {
    "colab_type": "text"
   },
   "source": [
    "### Removed features\n",
    "\n",
    "A small number of legacy features with very low usage were removed from Keras 3 as a cleanup measure:\n",
    "\n",
    "* `keras.layers.ThresholdedReLU` is removed. Instead, you can simply use the `ReLU` layer\n",
    "with the argument `threshold`.\n",
    "* Symbolic `Layer.add_loss()`: Symbolic `add_loss()` is removed (you can still use\n",
    "`add_loss()` inside the `call()` method of a layer/model).\n",
    "* Locally connected layers (`LocallyConnected1D`, `LocallyConnected2D`\n",
    "are removed due to very low usage. To\n",
    "use locally connected layers, copy the layer implementation into your own codebase.\n",
    "* `keras.layers.experimental.RandomFourierFeatures` is removed due to very low usage.\n",
    "To use it, copy the layer implementation into your own codebase.\n",
    "* Removed layer attributes: Layer attributes `metrics`, `dynamic` are removed. `metrics` is still\n",
    "available on the `Model` class.\n",
    "* The `constants` and `time_major` arguments in RNN layers are removed.\n",
    "The `constants` argument was a remnant of Theano and had very low usage. The `time_major`\n",
    "argument also had very low usage.\n",
    "* `reset_metrics` argument: The `reset_metrics` argument is removed from `model.*_on_batch()`\n",
    "methods. This argument had very low usage.\n",
    "* The `keras.constraints.RadialConstraint` object is removed. This object had very low usage."
   ]
  },
  {
   "cell_type": "markdown",
   "metadata": {
    "colab_type": "text"
   },
   "source": [
    "## Transitioning to backend-agnostic Keras 3\n",
    "\n",
    "Keras 3 code with the TensorFlow backend will work with native TensorFlow APIs.\n",
    "However, if you want your code to be backend-agnostic, you will need to:\n",
    "\n",
    "- Replace all of the `tf.*` API calls with their equivalent Keras APIs.\n",
    "- Convert your custom `train_step`/`test_step` methods to a multi-framework\n",
    "implementation.\n",
    "- Make sure you're using stateless `keras.random` ops correctly in your layers.\n",
    "\n",
    "Let's go over each point in detail.\n",
    "\n",
    "### Switching to Keras ops\n",
    "\n",
    "In many cases, this is the only thing you need to do to start being able to run\n",
    "your custom layers and metrics with JAX and PyTorch:\n",
    "replace any `tf.*`, `tf.math*`, `tf.linalg.*`, etc. with `keras.ops.*`. Most TF ops\n",
    "should be consistent with Keras 3. If the names different, they will be\n",
    "highlighted in this guide.\n",
    "\n",
    "#### NumPy ops\n",
    "\n",
    "Keras implements the NumPy API as part of `keras.ops`.\n",
    "\n",
    "The table below only lists a small subset of TensorFlow and Keras ops; ops not listed\n",
    "are usually named the same in both frameworks (e.g. `reshape`, `matmul`, `cast`, etc.)\n",
    "\n",
    "| TensorFlow                                 | Keras 3.0                                 |\n",
    "|--------------------------------------------|-------------------------------------------|\n",
    "| `tf.abs`                                   | `keras.ops.absolute`                      |\n",
    "| `tf.reduce_all`                            | `keras.ops.all`                           |\n",
    "| `tf.reduce_max`                            | `keras.ops.amax`                          |\n",
    "| `tf.reduce_min`                            | `keras.ops.amin`                          |\n",
    "| `tf.reduce_any`                            | `keras.ops.any`                           |\n",
    "| `tf.concat`                                | `keras.ops.concatenate`                   |\n",
    "| `tf.range`                                 | `keras.ops.arange`                        |\n",
    "| `tf.acos`                                  | `keras.ops.arccos`                        |\n",
    "| `tf.asin`                                  | `keras.ops.arcsin`                        |\n",
    "| `tf.asinh`                                 | `keras.ops.arcsinh`                       |\n",
    "| `tf.atan`                                  | `keras.ops.arctan`                        |\n",
    "| `tf.atan2`                                 | `keras.ops.arctan2`                       |\n",
    "| `tf.atanh`                                 | `keras.ops.arctanh`                       |\n",
    "| `tf.convert_to_tensor`                     | `keras.ops.convert_to_tensor`             |\n",
    "| `tf.reduce_mean`                           | `keras.ops.mean`                          |\n",
    "| `tf.clip_by_value`                         | `keras.ops.clip`                          |\n",
    "| `tf.math.conj`                             | `keras.ops.conjugate`                     |\n",
    "| `tf.linalg.diag_part`                      | `keras.ops.diagonal`                      |\n",
    "| `tf.reverse`                               | `keras.ops.flip`                          |\n",
    "| `tf.gather`                                | `keras.ops.take`                          |\n",
    "| `tf.math.is_finite`                        | `keras.ops.isfinite`                      |\n",
    "| `tf.math.is_inf`                           | `keras.ops.isinf`                         |\n",
    "| `tf.math.is_nan`                           | `keras.ops.isnan`                         |\n",
    "| `tf.reduce_max`                            | `keras.ops.max`                           |\n",
    "| `tf.reduce_mean`                           | `keras.ops.mean`                          |\n",
    "| `tf.reduce_min`                            | `keras.ops.min`                           |\n",
    "| `tf.rank`                                  | `keras.ops.ndim`                          |\n",
    "| `tf.math.pow`                              | `keras.ops.power`                         |\n",
    "| `tf.reduce_prod`                           | `keras.ops.prod`                          |\n",
    "| `tf.math.reduce_std`                       | `keras.ops.std`                           |\n",
    "| `tf.reduce_sum`                            | `keras.ops.sum`                           |\n",
    "| `tf.gather`                                | `keras.ops.take`                          |\n",
    "| `tf.gather_nd`                             | `keras.ops.take_along_axis`               |\n",
    "| `tf.math.reduce_variance`                  | `keras.ops.var`                           |\n",
    "\n",
    "\n",
    "#### Others ops\n",
    "\n",
    "| TensorFlow                                         | Keras 3.0                                                         |\n",
    "|----------------------------------------------------|-------------------------------------------------------------------|\n",
    "| `tf.nn.sigmoid_cross_entropy_with_logits`          | `keras.ops.binary_crossentropy` (mind the `from_logits` argument) |\n",
    "| `tf.nn.sparse_softmax_cross_entropy_with_logits`   | `keras.ops.sparse_categorical_crossentropy` (mind the `from_logits` argument)|\n",
    "| `tf.nn.sparse_softmax_cross_entropy_with_logits`   | `keras.ops.categorical_crossentropy(target, output, from_logits=False, axis=-1)`|\n",
    "| `tf.nn.conv1d`, `tf.nn.conv2d`, `tf.nn.conv3d`, `tf.nn.convolution` | `keras.ops.conv`                                 |\n",
    "| `tf.nn.conv_transpose`, `tf.nn.conv1d_transpose`, `tf.nn.conv2d_transpose`, `tf.nn.conv3d_transpose` | `keras.ops.conv_transpose` |\n",
    "| `tf.nn.depthwise_conv2d`                           | `keras.ops.depthwise_conv`                                        |\n",
    "| `tf.nn.separable_conv2d`                           | `keras.ops.separable_conv`                                        |\n",
    "| `tf.nn.batch_normalization`                        |  No direct equivalent; use `keras.layers.BatchNormalization`      |\n",
    "| `tf.nn.dropout`                                    | `keras.random.dropout`                                            |\n",
    "| `tf.nn.embedding_lookup`                           | `keras.ops.take`                                                  |\n",
    "| `tf.nn.l2_normalize`                               | `keras.utils.normalize` (not an op)                               |\n",
    "| `x.numpy`                                          | `keras.ops.convert_to_numpy`                                      |\n",
    "| `tf.scatter_nd_update`                             | `keras.ops.scatter_update`                                        |\n",
    "| `tf.tensor_scatter_nd_update`                      | `keras.ops.slice_update`                                          |\n",
    "| `tf.signal.fft2d`                                  | `keras.ops.fft2`                                                  |\n",
    "| `tf.signal.inverse_stft`                           | `keras.ops.istft`                                                 |\n",
    "| `tf.image.crop_to_bounding_box`                    | `keras.ops.image.crop_images`                                     |\n",
    "| `tf.image.pad_to_bounding_box`                     | `keras.ops.image.pad_images`                                      |"
   ]
  },
  {
   "cell_type": "markdown",
   "metadata": {
    "colab_type": "text"
   },
   "source": [
    "### Custom `train_step()` methods\n",
    "\n",
    "Your models may include a custom `train_step()` or `test_step()` method, which rely\n",
    "on TensorFlow-only APIs -- for instance, your `train_step()` method may leverage TensorFlow's `tf.GradientTape`.\n",
    "To convert such models to run on JAX or PyTorch, you will have a write a different `train_step()` implementation\n",
    "for each backend you want to support.\n",
    "\n",
    "In some cases, you might be able to simply override the `Model.compute_loss()` method and make it fully backend-agnostic,\n",
    "instead of overriding `train_step()`. Here's an example of a layer with a custom `compute_loss()` method which works\n",
    "across JAX, TensorFlow, and PyTorch:"
   ]
  },
  {
   "cell_type": "code",
   "execution_count": 0,
   "metadata": {
    "colab_type": "code"
   },
   "outputs": [],
   "source": [
    "\n",
    "class MyModel(keras.Model):\n",
    "    def compute_loss(self, x=None, y=None, y_pred=None, sample_weight=None):\n",
    "        loss = keras.ops.sum(keras.losses.mean_squared_error(y, y_pred, sample_weight))\n",
    "        return loss\n"
   ]
  },
  {
   "cell_type": "markdown",
   "metadata": {
    "colab_type": "text"
   },
   "source": [
    "If you need to modify the optimization mechanism itself, beyond the loss computation,\n",
    "then you will need to override `train_step()`, and implement one `train_step` method per backend, like below.\n",
    "\n",
    "See the following guides for details on how each backend should be handled:\n",
    "\n",
    "- [Customizing what happens in `fit()` with JAX](https://keras.io/guides/custom_train_step_in_jax/)\n",
    "- [Customizing what happens in `fit()` with TensorFlow](https://keras.io/guides/custom_train_step_in_tensorflow/)\n",
    "- [Customizing what happens in `fit()` with PyTorch](https://keras.io/guides/custom_train_step_in_torch/)"
   ]
  },
  {
   "cell_type": "code",
   "execution_count": 0,
   "metadata": {
    "colab_type": "code"
   },
   "outputs": [],
   "source": [
    "\n",
    "class MyModel(keras.Model):\n",
    "    def train_step(self, *args, **kwargs):\n",
    "        if keras.backend.backend() == \"jax\":\n",
    "            return self._jax_train_step(*args, **kwargs)\n",
    "        elif keras.backend.backend() == \"tensorflow\":\n",
    "            return self._tensorflow_train_step(*args, **kwargs)\n",
    "        elif keras.backend.backend() == \"torch\":\n",
    "            return self._torch_train_step(*args, **kwargs)\n",
    "\n",
    "    def _jax_train_step(self, state, data):\n",
    "        pass  # See guide: keras.io/guides/custom_train_step_in_jax/\n",
    "\n",
    "    def _tensorflow_train_step(self, data):\n",
    "        pass  # See guide: keras.io/guides/custom_train_step_in_tensorflow/\n",
    "\n",
    "    def _torch_train_step(self, data):\n",
    "        pass  # See guide: keras.io/guides/custom_train_step_in_torch/\n"
   ]
  },
  {
   "cell_type": "markdown",
   "metadata": {
    "colab_type": "text"
   },
   "source": [
    "### RNG-using layers\n",
    "\n",
    "Keras 3 has a new `keras.random` namespace, containing:\n",
    "\n",
    "- `keras.random.normal`\n",
    "- `keras.random.uniform`\n",
    "- `keras.random.shuffle`\n",
    "- etc.\n",
    "\n",
    "These operations are **stateless**, which means that if you pass a `seed`\n",
    "argument, they will return the same result every time. Like this:"
   ]
  },
  {
   "cell_type": "code",
   "execution_count": 0,
   "metadata": {
    "colab_type": "code"
   },
   "outputs": [],
   "source": [
    "print(keras.random.normal(shape=(), seed=123))\n",
    "print(keras.random.normal(shape=(), seed=123))"
   ]
  },
  {
   "cell_type": "markdown",
   "metadata": {
    "colab_type": "text"
   },
   "source": [
    "Crucially, this differs from the behavior of stateful `tf.random` ops:"
   ]
  },
  {
   "cell_type": "code",
   "execution_count": 0,
   "metadata": {
    "colab_type": "code"
   },
   "outputs": [],
   "source": [
    "print(tf.random.normal(shape=(), seed=123))\n",
    "print(tf.random.normal(shape=(), seed=123))"
   ]
  },
  {
   "cell_type": "markdown",
   "metadata": {
    "colab_type": "text"
   },
   "source": [
    "When you write a RNG-using layer, such as a custom dropout layer, you are\n",
    "going to want to use a different seed value at layer call. However, you cannot\n",
    "just increment a Python integer and pass it, because while this would work fine\n",
    "when executed eagerly, it would not work as expected when using compilation\n",
    "(which is available with JAX, TensorFlow, and PyTorch). When compiling the layer,\n",
    "the first Python integer seed value seen by the layer would be hardcoded into the\n",
    "compiled graph.\n",
    "\n",
    "To address this, you should pass as the `seed` argument an instance of a\n",
    "stateful `keras.random.SeedGenerator` object, like this:"
   ]
  },
  {
   "cell_type": "code",
   "execution_count": 0,
   "metadata": {
    "colab_type": "code"
   },
   "outputs": [],
   "source": [
    "seed_generator = keras.random.SeedGenerator(1337)\n",
    "print(keras.random.normal(shape=(), seed=seed_generator))\n",
    "print(keras.random.normal(shape=(), seed=seed_generator))\n"
   ]
  },
  {
   "cell_type": "markdown",
   "metadata": {
    "colab_type": "text"
   },
   "source": [
    "So when writing a RNG using layer, you would use the following pattern:"
   ]
  },
  {
   "cell_type": "code",
   "execution_count": 0,
   "metadata": {
    "colab_type": "code"
   },
   "outputs": [],
   "source": [
    "\n",
    "class RandomNoiseLayer(keras.layers.Layer):\n",
    "    def __init__(self, noise_rate, **kwargs):\n",
    "        super().__init__(**kwargs)\n",
    "        self.noise_rate = noise_rate\n",
    "        self.seed_generator = keras.random.SeedGenerator(1337)\n",
    "\n",
    "    def call(self, inputs):\n",
    "        noise = keras.random.uniform(\n",
    "            minval=0, maxval=self.noise_rate, seed=self.seed_generator\n",
    "        )\n",
    "        return inputs + noise\n"
   ]
  },
  {
   "cell_type": "markdown",
   "metadata": {
    "colab_type": "text"
   },
   "source": [
    "Such a layer is safe to use in any setting -- in eager execution or in a compiled model. Each\n",
    "layer call will be using a different seed value, as expected."
   ]
  }
 ],
 "metadata": {
  "accelerator": "None",
  "colab": {
   "collapsed_sections": [],
   "name": "migrating_to_keras_3",
   "private_outputs": false,
   "provenance": [],
   "toc_visible": true
  },
  "kernelspec": {
   "display_name": "Python 3",
   "language": "python",
   "name": "python3"
  },
  "language_info": {
   "codemirror_mode": {
    "name": "ipython",
    "version": 3
   },
   "file_extension": ".py",
   "mimetype": "text/x-python",
   "name": "python",
   "nbconvert_exporter": "python",
   "pygments_lexer": "ipython3",
   "version": "3.7.0"
  }
 },
 "nbformat": 4,
 "nbformat_minor": 0
}
