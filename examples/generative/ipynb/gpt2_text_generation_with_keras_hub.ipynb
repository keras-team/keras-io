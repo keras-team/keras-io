{
 "cells": [
  {
   "cell_type": "markdown",
   "metadata": {
    "colab_type": "text"
   },
   "source": [
    "# GPT2 Text Generation with KerasHub\n",
    "\n",
    "**Author:** Chen Qian<br>\n",
    "**Date created:** 2023/04/17<br>\n",
    "**Last modified:** 2024/04/12<br>\n",
    "**Description:** Use KerasHub GPT2 model and `samplers` to do text generation."
   ]
  },
  {
   "cell_type": "markdown",
   "metadata": {
    "colab_type": "text"
   },
   "source": [
    "In this tutorial, you will learn to use [KerasHub](https://keras.io/keras_hub/) to load a\n",
    "pre-trained Large Language Model (LLM) - [GPT-2 model](https://openai.com/research/better-language-models)\n",
    "(originally invented by OpenAI), finetune it to a specific text style, and\n",
    "generate text based on users' input (also known as prompt). You will also learn\n",
    "how GPT2 adapts quickly to non-English languages, such as Chinese."
   ]
  },
  {
   "cell_type": "markdown",
   "metadata": {
    "colab_type": "text"
   },
   "source": [
    "##  Before we begin\n",
    "\n",
    "Colab offers different kinds of runtimes. Make sure to go to **Runtime ->\n",
    "Change runtime type** and choose the GPU Hardware Accelerator runtime\n",
    "(which should have >12G host RAM and ~15G GPU RAM) since you will finetune the\n",
    "GPT-2 model. Running this tutorial on CPU runtime will take hours."
   ]
  },
  {
   "cell_type": "markdown",
   "metadata": {
    "colab_type": "text"
   },
   "source": [
    "## Install KerasHub, Choose Backend and Import Dependencies\n",
    "\n",
    "This examples uses [Keras 3](https://keras.io/keras_3/) to work in any of\n",
    "`\"tensorflow\"`, `\"jax\"` or `\"torch\"`. Support for Keras 3 is baked into\n",
    "KerasHub, simply change the `\"KERAS_BACKEND\"` environment variable to select\n",
    "the backend of your choice. We select the JAX backend below."
   ]
  },
  {
   "cell_type": "code",
   "execution_count": null,
   "metadata": {
    "colab_type": "code"
   },
   "outputs": [],
   "source": [
    "!pip install git+https://github.com/keras-team/keras-hub.git -q"
   ]
  },
  {
   "cell_type": "code",
   "execution_count": null,
   "metadata": {
    "colab_type": "code"
   },
   "outputs": [],
   "source": [
    "import os\n",
    "\n",
    "os.environ[\"KERAS_BACKEND\"] = \"jax\"  # or \"tensorflow\" or \"torch\"\n",
    "\n",
    "import keras_hub\n",
    "import keras\n",
    "import tensorflow as tf\n",
    "import time\n",
    "\n",
    "keras.mixed_precision.set_global_policy(\"mixed_float16\")"
   ]
  },
  {
   "cell_type": "markdown",
   "metadata": {
    "colab_type": "text"
   },
   "source": [
    "## Introduction to Generative Large Language Models (LLMs)\n",
    "\n",
    "Large language models (LLMs) are a type of machine learning models that are\n",
    "trained on a large corpus of text data to generate outputs for various natural\n",
    "language processing (NLP) tasks, such as text generation, question answering,\n",
    "and machine translation.\n",
    "\n",
    "Generative LLMs are typically based on deep learning neural networks, such as\n",
    "the [Transformer architecture](https://arxiv.org/abs/1706.03762) invented by\n",
    "Google researchers in 2017, and are trained on massive amounts of text data,\n",
    "often involving billions of words. These models, such as Google [LaMDA](https://blog.google/technology/ai/lamda/)\n",
    "and [PaLM](https://ai.googleblog.com/2022/04/pathways-language-model-palm-scaling-to.html),\n",
    "are trained with a large dataset from various data sources which allows them to\n",
    "generate output for many tasks. The core of Generative LLMs is predicting the\n",
    "next word in a sentence, often referred as **Causal LM Pretraining**. In this\n",
    "way LLMs can generate coherent text based on user prompts. For a more\n",
    "pedagogical discussion on language models, you can refer to the\n",
    "[Stanford CS324 LLM class](https://stanford-cs324.github.io/winter2022/lectures/introduction/)."
   ]
  },
  {
   "cell_type": "markdown",
   "metadata": {
    "colab_type": "text"
   },
   "source": [
    "## Introduction to KerasHub\n",
    "\n",
    "Large Language Models are complex to build and expensive to train from scratch.\n",
    "Luckily there are pretrained LLMs available for use right away. [KerasHub](https://keras.io/keras_hub/)\n",
    "provides a large number of pre-trained checkpoints that allow you to experiment\n",
    "with SOTA models without needing to train them yourself.\n",
    "\n",
    "KerasHub is a natural language processing library that supports users through\n",
    "their entire development cycle. KerasHub offers both pretrained models and\n",
    "modularized building blocks, so developers could easily reuse pretrained models\n",
    "or stack their own LLM.\n",
    "\n",
    "In a nutshell, for generative LLM, KerasHub offers:\n",
    "\n",
    "- Pretrained models with `generate()` method, e.g.,\n",
    "    `keras_hub.models.GPT2CausalLM` and `keras_hub.models.OPTCausalLM`.\n",
    "- Sampler class that implements generation algorithms such as Top-K, Beam and\n",
    "    contrastive search. These samplers can be used to generate text with\n",
    "    custom models."
   ]
  },
  {
   "cell_type": "markdown",
   "metadata": {
    "colab_type": "text"
   },
   "source": [
    "## Load a pre-trained GPT-2 model and generate some text\n",
    "\n",
    "KerasHub provides a number of pre-trained models, such as [Google\n",
    "Bert](https://ai.googleblog.com/2018/11/open-sourcing-bert-state-of-art-pre.html)\n",
    "and [GPT-2](https://openai.com/research/better-language-models). You can see\n",
    "the list of models available in the [KerasHub repository](https://github.com/keras-team/keras-hub/tree/master/keras_hub/models).\n",
    "\n",
    "It's very easy to load the GPT-2 model as you can see below:"
   ]
  },
  {
   "cell_type": "code",
   "execution_count": null,
   "metadata": {
    "colab_type": "code"
   },
   "outputs": [],
   "source": [
    "# To speed up training and generation, we use preprocessor of length 128\n",
    "# instead of full length 1024.\n",
    "preprocessor = keras_hub.models.GPT2CausalLMPreprocessor.from_preset(\n",
    "    \"gpt2_base_en\",\n",
    "    sequence_length=128,\n",
    ")\n",
    "gpt2_lm = keras_hub.models.GPT2CausalLM.from_preset(\n",
    "    \"gpt2_base_en\", preprocessor=preprocessor\n",
    ")"
   ]
  },
  {
   "cell_type": "markdown",
   "metadata": {
    "colab_type": "text"
   },
   "source": [
    "Once the model is loaded, you can use it to generate some text right away. Run\n",
    "the cells below to give it a try. It's as simple as calling a single function\n",
    "*generate()*:"
   ]
  },
  {
   "cell_type": "code",
   "execution_count": null,
   "metadata": {
    "colab_type": "code"
   },
   "outputs": [],
   "source": [
    "start = time.time()\n",
    "\n",
    "output = gpt2_lm.generate(\"My trip to Yosemite was\", max_length=200)\n",
    "print(\"\\nGPT-2 output:\")\n",
    "print(output)\n",
    "\n",
    "end = time.time()\n",
    "print(f\"TOTAL TIME ELAPSED: {end - start:.2f}s\")"
   ]
  },
  {
   "cell_type": "markdown",
   "metadata": {
    "colab_type": "text"
   },
   "source": [
    "Try another one:"
   ]
  },
  {
   "cell_type": "code",
   "execution_count": null,
   "metadata": {
    "colab_type": "code"
   },
   "outputs": [],
   "source": [
    "start = time.time()\n",
    "\n",
    "output = gpt2_lm.generate(\"That Italian restaurant is\", max_length=200)\n",
    "print(\"\\nGPT-2 output:\")\n",
    "print(output)\n",
    "\n",
    "end = time.time()\n",
    "print(f\"TOTAL TIME ELAPSED: {end - start:.2f}s\")"
   ]
  },
  {
   "cell_type": "markdown",
   "metadata": {
    "colab_type": "text"
   },
   "source": [
    "Notice how much faster the second call is. This is because the computational\n",
    "graph is [XLA compiled](https://www.tensorflow.org/xla) in the 1st run and\n",
    "re-used in the 2nd behind the scenes.\n",
    "\n",
    "The quality of the generated text looks OK, but we can improve it via\n",
    "fine-tuning."
   ]
  },
  {
   "cell_type": "markdown",
   "metadata": {
    "colab_type": "text"
   },
   "source": [
    "## More on the GPT-2 model from KerasHub\n",
    "\n",
    "Next up, we will actually fine-tune the model to update its parameters, but\n",
    "before we do, let's take a look at the full set of tools we have to for working\n",
    "with for GPT2.\n",
    "\n",
    "The code of GPT2 can be found\n",
    "[here](https://github.com/keras-team/keras-hub/blob/master/keras_hub/models/gpt2/).\n",
    "Conceptually the `GPT2CausalLM` can be hierarchically broken down into several\n",
    "modules in KerasHub, all of which have a *from_preset()* function that loads a\n",
    "pretrained model:\n",
    "\n",
    "- `keras_hub.models.GPT2Tokenizer`: The tokenizer used by GPT2 model, which is a\n",
    "    [byte-pair encoder](https://huggingface.co/course/chapter6/5?fw=pt).\n",
    "- `keras_hub.models.GPT2CausalLMPreprocessor`: the preprocessor used by GPT2\n",
    "    causal LM training. It does the tokenization along with other preprocessing\n",
    "    works such as creating the label and appending the end token.\n",
    "- `keras_hub.models.GPT2Backbone`: the GPT2 model, which is a stack of\n",
    "    `keras_hub.layers.TransformerDecoder`. This is usually just referred as\n",
    "    `GPT2`.\n",
    "- `keras_hub.models.GPT2CausalLM`: wraps `GPT2Backbone`, it multiplies the\n",
    "    output of `GPT2Backbone` by embedding matrix to generate logits over\n",
    "    vocab tokens."
   ]
  },
  {
   "cell_type": "markdown",
   "metadata": {
    "colab_type": "text"
   },
   "source": [
    "## Finetune on Reddit dataset\n",
    "\n",
    "Now you have the knowledge of the GPT-2 model from KerasHub, you can take one\n",
    "step further to finetune the model so that it generates text in a specific\n",
    "style, short or long, strict or casual. In this tutorial, we will use reddit\n",
    "dataset for example."
   ]
  },
  {
   "cell_type": "code",
   "execution_count": null,
   "metadata": {
    "colab_type": "code"
   },
   "outputs": [],
   "source": [
    "import tensorflow_datasets as tfds\n",
    "\n",
    "reddit_ds = tfds.load(\"reddit_tifu\", split=\"train\", as_supervised=True)"
   ]
  },
  {
   "cell_type": "markdown",
   "metadata": {
    "colab_type": "text"
   },
   "source": [
    "Let's take a look inside sample data from the reddit TensorFlow Dataset. There\n",
    "are two features:\n",
    "\n",
    "- **__document__**: text of the post.\n",
    "- **__title__**: the title."
   ]
  },
  {
   "cell_type": "code",
   "execution_count": null,
   "metadata": {
    "colab_type": "code"
   },
   "outputs": [],
   "source": [
    "for document, title in reddit_ds:\n",
    "    print(document.numpy())\n",
    "    print(title.numpy())\n",
    "    break"
   ]
  },
  {
   "cell_type": "markdown",
   "metadata": {
    "colab_type": "text"
   },
   "source": [
    "In our case, we are performing next word prediction in a language model, so we\n",
    "only need the 'document' feature."
   ]
  },
  {
   "cell_type": "code",
   "execution_count": null,
   "metadata": {
    "colab_type": "code"
   },
   "outputs": [],
   "source": [
    "train_ds = (\n",
    "    reddit_ds.map(lambda document, _: document)\n",
    "    .batch(32)\n",
    "    .cache()\n",
    "    .prefetch(tf.data.AUTOTUNE)\n",
    ")"
   ]
  },
  {
   "cell_type": "markdown",
   "metadata": {
    "colab_type": "text"
   },
   "source": [
    "Now you can finetune the model using the familiar *fit()* function. Note that\n",
    "`preprocessor` will be automatically called inside `fit` method since\n",
    "`GPT2CausalLM` is a `keras_hub.models.Task` instance.\n",
    "\n",
    "This step takes quite a bit of GPU memory and a long time if we were to train\n",
    "it all the way to a fully trained state. Here we just use part of the dataset\n",
    "for demo purposes."
   ]
  },
  {
   "cell_type": "code",
   "execution_count": null,
   "metadata": {
    "colab_type": "code"
   },
   "outputs": [],
   "source": [
    "train_ds = train_ds.take(500)\n",
    "num_epochs = 1\n",
    "\n",
    "# Linearly decaying learning rate.\n",
    "learning_rate = keras.optimizers.schedules.PolynomialDecay(\n",
    "    5e-5,\n",
    "    decay_steps=train_ds.cardinality() * num_epochs,\n",
    "    end_learning_rate=0.0,\n",
    ")\n",
    "loss = keras.losses.SparseCategoricalCrossentropy(from_logits=True)\n",
    "gpt2_lm.compile(\n",
    "    optimizer=keras.optimizers.Adam(learning_rate),\n",
    "    loss=loss,\n",
    "    weighted_metrics=[\"accuracy\"],\n",
    ")\n",
    "\n",
    "gpt2_lm.fit(train_ds, epochs=num_epochs)"
   ]
  },
  {
   "cell_type": "markdown",
   "metadata": {
    "colab_type": "text"
   },
   "source": [
    "After fine-tuning is finished, you can again generate text using the same\n",
    "*generate()* function. This time, the text will be closer to Reddit writing\n",
    "style, and the generated length will be close to our preset length in the\n",
    "training set."
   ]
  },
  {
   "cell_type": "code",
   "execution_count": null,
   "metadata": {
    "colab_type": "code"
   },
   "outputs": [],
   "source": [
    "start = time.time()\n",
    "\n",
    "output = gpt2_lm.generate(\"I like basketball\", max_length=200)\n",
    "print(\"\\nGPT-2 output:\")\n",
    "print(output)\n",
    "\n",
    "end = time.time()\n",
    "print(f\"TOTAL TIME ELAPSED: {end - start:.2f}s\")"
   ]
  },
  {
   "cell_type": "markdown",
   "metadata": {
    "colab_type": "text"
   },
   "source": [
    "## Into the Sampling Method\n",
    "\n",
    "In KerasHub, we offer a few sampling methods, e.g., contrastive search,\n",
    "Top-K and beam sampling. By default, our `GPT2CausalLM` uses Top-k search, but\n",
    "you can choose your own sampling method.\n",
    "\n",
    "Much like optimizer and activations, there are two ways to specify your custom\n",
    "sampler:\n",
    "\n",
    "- Use a string identifier, such as \"greedy\", you are using the default\n",
    "configuration via this way.\n",
    "- Pass a `keras_hub.samplers.Sampler` instance, you can use custom configuration\n",
    "via this way."
   ]
  },
  {
   "cell_type": "code",
   "execution_count": null,
   "metadata": {
    "colab_type": "code"
   },
   "outputs": [],
   "source": [
    "# Use a string identifier.\n",
    "gpt2_lm.compile(sampler=\"top_k\")\n",
    "output = gpt2_lm.generate(\"I like basketball\", max_length=200)\n",
    "print(\"\\nGPT-2 output:\")\n",
    "print(output)\n",
    "\n",
    "# Use a `Sampler` instance. `GreedySampler` tends to repeat itself,\n",
    "greedy_sampler = keras_hub.samplers.GreedySampler()\n",
    "gpt2_lm.compile(sampler=greedy_sampler)\n",
    "\n",
    "output = gpt2_lm.generate(\"I like basketball\", max_length=200)\n",
    "print(\"\\nGPT-2 output:\")\n",
    "print(output)"
   ]
  },
  {
   "cell_type": "markdown",
   "metadata": {
    "colab_type": "text"
   },
   "source": [
    "For more details on KerasHub `Sampler` class, you can check the code\n",
    "[here](https://github.com/keras-team/keras-hub/tree/master/keras_hub/samplers)."
   ]
  },
  {
   "cell_type": "markdown",
   "metadata": {
    "colab_type": "text"
   },
   "source": [
    "## Finetune on Chinese Poem Dataset\n",
    "\n",
    "We can also finetune GPT2 on non-English datasets. For readers knowing Chinese,\n",
    "this part illustrates how to fine-tune GPT2 on Chinese poem dataset to teach our\n",
    "model to become a poet!\n",
    "\n",
    "Because GPT2 uses byte-pair encoder, and the original pretraining dataset\n",
    "contains some Chinese characters, we can use the original vocab to finetune on\n",
    "Chinese dataset."
   ]
  },
  {
   "cell_type": "code",
   "execution_count": null,
   "metadata": {
    "colab_type": "code"
   },
   "outputs": [],
   "source": [
    "!# Load chinese poetry dataset.\n",
    "!git clone https://github.com/chinese-poetry/chinese-poetry.git"
   ]
  },
  {
   "cell_type": "markdown",
   "metadata": {
    "colab_type": "text"
   },
   "source": [
    "Load text from the json file. We only use《全唐诗》for demo purposes."
   ]
  },
  {
   "cell_type": "code",
   "execution_count": null,
   "metadata": {
    "colab_type": "code"
   },
   "outputs": [],
   "source": [
    "import os\n",
    "import json\n",
    "\n",
    "poem_collection = []\n",
    "for file in os.listdir(\"chinese-poetry/全唐诗\"):\n",
    "    if \".json\" not in file or \"poet\" not in file:\n",
    "        continue\n",
    "    full_filename = \"%s/%s\" % (\"chinese-poetry/全唐诗\", file)\n",
    "    with open(full_filename, \"r\") as f:\n",
    "        content = json.load(f)\n",
    "        poem_collection.extend(content)\n",
    "\n",
    "paragraphs = [\"\".join(data[\"paragraphs\"]) for data in poem_collection]"
   ]
  },
  {
   "cell_type": "markdown",
   "metadata": {
    "colab_type": "text"
   },
   "source": [
    "Let's take a look at sample data."
   ]
  },
  {
   "cell_type": "code",
   "execution_count": null,
   "metadata": {
    "colab_type": "code"
   },
   "outputs": [],
   "source": [
    "print(paragraphs[0])"
   ]
  },
  {
   "cell_type": "markdown",
   "metadata": {
    "colab_type": "text"
   },
   "source": [
    "Similar as Reddit example, we convert to TF dataset, and only use partial data\n",
    "to train."
   ]
  },
  {
   "cell_type": "code",
   "execution_count": null,
   "metadata": {
    "colab_type": "code"
   },
   "outputs": [],
   "source": [
    "train_ds = (\n",
    "    tf.data.Dataset.from_tensor_slices(paragraphs)\n",
    "    .batch(16)\n",
    "    .cache()\n",
    "    .prefetch(tf.data.AUTOTUNE)\n",
    ")\n",
    "\n",
    "# Running through the whole dataset takes long, only take `500` and run 1\n",
    "# epochs for demo purposes.\n",
    "train_ds = train_ds.take(500)\n",
    "num_epochs = 1\n",
    "\n",
    "learning_rate = keras.optimizers.schedules.PolynomialDecay(\n",
    "    5e-4,\n",
    "    decay_steps=train_ds.cardinality() * num_epochs,\n",
    "    end_learning_rate=0.0,\n",
    ")\n",
    "loss = keras.losses.SparseCategoricalCrossentropy(from_logits=True)\n",
    "gpt2_lm.compile(\n",
    "    optimizer=keras.optimizers.Adam(learning_rate),\n",
    "    loss=loss,\n",
    "    weighted_metrics=[\"accuracy\"],\n",
    ")\n",
    "\n",
    "gpt2_lm.fit(train_ds, epochs=num_epochs)"
   ]
  },
  {
   "cell_type": "markdown",
   "metadata": {
    "colab_type": "text"
   },
   "source": [
    "Let's check the result!"
   ]
  },
  {
   "cell_type": "code",
   "execution_count": null,
   "metadata": {
    "colab_type": "code"
   },
   "outputs": [],
   "source": [
    "output = gpt2_lm.generate(\"昨夜雨疏风骤\", max_length=200)\n",
    "print(output)"
   ]
  },
  {
   "cell_type": "markdown",
   "metadata": {
    "colab_type": "text"
   },
   "source": [
    "Not bad 😀"
   ]
  }
 ],
 "metadata": {
  "accelerator": "GPU",
  "colab": {
   "collapsed_sections": [],
   "name": "gpt2_text_generation_with_kerashub",
   "private_outputs": false,
   "provenance": [],
   "toc_visible": true
  },
  "kernelspec": {
   "display_name": "Python 3",
   "language": "python",
   "name": "python3"
  },
  "language_info": {
   "codemirror_mode": {
    "name": "ipython",
    "version": 3
   },
   "file_extension": ".py",
   "mimetype": "text/x-python",
   "name": "python",
   "nbconvert_exporter": "python",
   "pygments_lexer": "ipython3",
   "version": "3.7.0"
  }
 },
 "nbformat": 4,
 "nbformat_minor": 0
}
