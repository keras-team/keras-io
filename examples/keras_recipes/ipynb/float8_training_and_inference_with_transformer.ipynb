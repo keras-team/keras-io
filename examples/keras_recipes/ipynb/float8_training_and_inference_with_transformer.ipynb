{
 "cells": [
  {
   "cell_type": "markdown",
   "metadata": {
    "colab_type": "text"
   },
   "source": [
    "# Float8 training and inference with a simple Transformer model\n",
    "\n",
    "**Author:** [Hongyu Chiu](https://github.com/james77777778)<br>\n",
    "**Date created:** 2024/05/14<br>\n",
    "**Last modified:** 2024/05/14<br>\n",
    "**Description:** Train a simple Transformer model with the float8 quantization."
   ]
  },
  {
   "cell_type": "markdown",
   "metadata": {
    "colab_type": "text"
   },
   "source": [
    "## Introduction\n",
    "\n",
    "As the number of parameters in Transformer models continues to grow, training\n",
    "and inference become highly memory and compute-intensive. Therefore, 8-bit\n",
    "floating point (FP8) was introduced, offering improved performance over 16-bit\n",
    "floating point with nearly no degradation in accuracy.\n",
    "\n",
    "In detail, there are two distinct types of FP8: E4M3 and E5M2, useful in\n",
    "different parts of training.\n",
    "\n",
    "- E4M3: It consists of 1 sign bit, 4 exponent bits and 3 bits of mantissa. It\n",
    "can store values up to +/-448 and nan.\n",
    "- E5M2: It consists of 1 sign bit, 5 exponent bits and 2 bits of mantissa. It\n",
    "can store values up to +/-57344, +/-inf and nan. The tradeoff of the\n",
    "increased dynamic range is lower precision of the stored values.\n",
    "\n",
    "Typically, E4M3 is best used during the forward pass because activations and\n",
    "weights require more precision. In the backward pass, however, E5M2 is utilized\n",
    "because gradients are less susceptible to the loss of precision but require\n",
    "higher dynamic range.\n",
    "\n",
    "It is worth noting that FP8 inference deployment is greatly simplified, as\n",
    "inference and training use the same datatype. This is in contrast to INT8\n",
    "inference with networks trained in 32- or 16-bit floating point, which require\n",
    "post-training quantization (PTQ) calibration and even quantization-aware\n",
    "training (QAT) in order to maintain model accuracy.\n",
    "\n",
    "In this example, we will build a simple Transformer model and train it with\n",
    "both FP16 and FP8 precision. You will observe that the accuracy doesn't decrease\n",
    "with lower precision.\n",
    "\n",
    "Note: You will need a decent GPU with FP8 Tensor Cores support for the expected\n",
    "performance improvement."
   ]
  },
  {
   "cell_type": "markdown",
   "metadata": {
    "colab_type": "text"
   },
   "source": [
    "## Setup\n",
    "\n",
    "We will use KerasHub library to simplify the model implementation. Additionally,\n",
    "use mixed precision training to reduce the training time.\n",
    "\n",
    "Note: The dependency on TensorFlow is only required for data processing."
   ]
  },
  {
   "cell_type": "code",
   "execution_count": 0,
   "metadata": {
    "colab_type": "code"
   },
   "outputs": [],
   "source": [
    "!pip install -q --upgrade keras-hub\n",
    "!pip install -q --upgrade keras  # Upgrade to Keras 3."
   ]
  },
  {
   "cell_type": "code",
   "execution_count": 0,
   "metadata": {
    "colab_type": "code"
   },
   "outputs": [],
   "source": [
    "import os\n",
    "\n",
    "os.environ[\"KERAS_BACKEND\"] = \"jax\"\n",
    "os.environ[\"TF_CPP_MIN_LOG_LEVEL\"] = \"3\"\n",
    "\n",
    "import re\n",
    "\n",
    "import keras\n",
    "import keras_hub\n",
    "import tensorflow as tf\n",
    "\n",
    "keras.config.set_dtype_policy(\"mixed_bfloat16\")"
   ]
  },
  {
   "cell_type": "markdown",
   "metadata": {
    "colab_type": "text"
   },
   "source": [
    "Define some hyperparameters."
   ]
  },
  {
   "cell_type": "code",
   "execution_count": 0,
   "metadata": {
    "colab_type": "code"
   },
   "outputs": [],
   "source": [
    "EPOCHS = 3\n",
    "BATCH_SIZE = 32\n",
    "VOCABULARY_SIZE = 20000\n",
    "MAX_SEQUENCE_LENGTH = 200\n",
    "MODEL_KWARGS = dict(\n",
    "    vocabulary_size=VOCABULARY_SIZE,\n",
    "    max_sequence_length=MAX_SEQUENCE_LENGTH,\n",
    "    hidden_dim=32,  # Hidden size for each token\n",
    "    num_heads=2,  # Number of attention heads\n",
    "    intermediate_dim=32,  # Intermediate size in feedforward network\n",
    "    dropout=0.1,  # Dropout rate\n",
    ")"
   ]
  },
  {
   "cell_type": "markdown",
   "metadata": {
    "colab_type": "text"
   },
   "source": [
    "## Dataset\n",
    "\n",
    "First, let's download the IMDB dataset and extract it."
   ]
  },
  {
   "cell_type": "code",
   "execution_count": 0,
   "metadata": {
    "colab_type": "code"
   },
   "outputs": [],
   "source": [
    "!mkdir -p datasets\n",
    "!wget http://ai.stanford.edu/~amaas/data/sentiment/aclImdb_v1.tar.gz -q -O datasets/aclImdb_v1.tar.gz\n",
    "!mkdir -p datasets/aclImdb\n",
    "!tar -xzf datasets/aclImdb_v1.tar.gz -C datasets\n",
    "!rm -rf datasets/aclImdb/train/unsup"
   ]
  },
  {
   "cell_type": "markdown",
   "metadata": {
    "colab_type": "text"
   },
   "source": [
    "We'll use the `keras.utils.text_dataset_from_directory` utility to generate our\n",
    "labelled `tf.data.Dataset` dataset from text files."
   ]
  },
  {
   "cell_type": "code",
   "execution_count": 0,
   "metadata": {
    "colab_type": "code"
   },
   "outputs": [],
   "source": [
    "train_ds = keras.utils.text_dataset_from_directory(\n",
    "    \"datasets/aclImdb/train\",\n",
    "    batch_size=BATCH_SIZE,\n",
    "    validation_split=0.2,\n",
    "    subset=\"training\",\n",
    "    seed=42,\n",
    ")\n",
    "val_ds = keras.utils.text_dataset_from_directory(\n",
    "    \"datasets/aclImdb/train\",\n",
    "    batch_size=BATCH_SIZE,\n",
    "    validation_split=0.2,\n",
    "    subset=\"validation\",\n",
    "    seed=42,\n",
    ")\n",
    "test_ds = keras.utils.text_dataset_from_directory(\n",
    "    \"datasets/aclImdb/test\", batch_size=BATCH_SIZE\n",
    ")"
   ]
  },
  {
   "cell_type": "markdown",
   "metadata": {
    "colab_type": "text"
   },
   "source": [
    "We will now convert the text to lowercase."
   ]
  },
  {
   "cell_type": "code",
   "execution_count": 0,
   "metadata": {
    "colab_type": "code"
   },
   "outputs": [],
   "source": [
    "train_ds = train_ds.map(lambda x, y: (tf.strings.lower(x), y))\n",
    "val_ds = val_ds.map(lambda x, y: (tf.strings.lower(x), y))\n",
    "test_ds = test_ds.map(lambda x, y: (tf.strings.lower(x), y))"
   ]
  },
  {
   "cell_type": "markdown",
   "metadata": {
    "colab_type": "text"
   },
   "source": [
    "Let's print a few samples."
   ]
  },
  {
   "cell_type": "code",
   "execution_count": 0,
   "metadata": {
    "colab_type": "code"
   },
   "outputs": [],
   "source": [
    "for text_batch, label_batch in train_ds.take(1):\n",
    "    for i in range(3):\n",
    "        print(f\"Text: {text_batch.numpy()[i]}\")\n",
    "        print(f\"Label: {label_batch.numpy()[i]}\")"
   ]
  },
  {
   "cell_type": "markdown",
   "metadata": {
    "colab_type": "text"
   },
   "source": [
    "### Tokenizing the data\n",
    "\n",
    "We'll be using the `keras_hub.tokenizers.WordPieceTokenizer` layer to tokenize\n",
    "the text. `keras_hub.tokenizers.WordPieceTokenizer` takes a WordPiece vocabulary\n",
    "and has functions for tokenizing the text, and detokenizing sequences of tokens.\n",
    "\n",
    "Before we define the tokenizer, we first need to train it on the dataset\n",
    "we have. The WordPiece tokenization algorithm is a subword tokenization\n",
    "algorithm; training it on a corpus gives us a vocabulary of subwords. A subword\n",
    "tokenizer is a compromise between word tokenizers (word tokenizers need very\n",
    "large vocabularies for good coverage of input words), and character tokenizers\n",
    "(characters don't really encode meaning like words do). Luckily, KerasHub\n",
    "makes it very simple to train WordPiece on a corpus with the\n",
    "`keras_hub.tokenizers.compute_word_piece_vocabulary` utility."
   ]
  },
  {
   "cell_type": "code",
   "execution_count": 0,
   "metadata": {
    "colab_type": "code"
   },
   "outputs": [],
   "source": [
    "\n",
    "def train_word_piece(ds, vocab_size, reserved_tokens):\n",
    "    word_piece_ds = ds.unbatch().map(lambda x, y: x)\n",
    "    vocab = keras_hub.tokenizers.compute_word_piece_vocabulary(\n",
    "        word_piece_ds.batch(1000).prefetch(2),\n",
    "        vocabulary_size=vocab_size,\n",
    "        reserved_tokens=reserved_tokens,\n",
    "    )\n",
    "    return vocab\n"
   ]
  },
  {
   "cell_type": "markdown",
   "metadata": {
    "colab_type": "text"
   },
   "source": [
    "Every vocabulary has a few special, reserved tokens. We have two such tokens:\n",
    "\n",
    "- `\"[PAD]\"` - Padding token. Padding tokens are appended to the input sequence\n",
    "length when the input sequence length is shorter than the maximum sequence\n",
    "length.\n",
    "- `\"[UNK]\"` - Unknown token."
   ]
  },
  {
   "cell_type": "code",
   "execution_count": 0,
   "metadata": {
    "colab_type": "code"
   },
   "outputs": [],
   "source": [
    "reserved_tokens = [\"[PAD]\", \"[UNK]\"]\n",
    "train_sentences = [element[0] for element in train_ds]\n",
    "vocab = train_word_piece(train_ds, VOCABULARY_SIZE, reserved_tokens)"
   ]
  },
  {
   "cell_type": "markdown",
   "metadata": {
    "colab_type": "text"
   },
   "source": [
    "Let's see some tokens!"
   ]
  },
  {
   "cell_type": "code",
   "execution_count": 0,
   "metadata": {
    "colab_type": "code"
   },
   "outputs": [],
   "source": [
    "print(\"Tokens: \", vocab[100:110])"
   ]
  },
  {
   "cell_type": "markdown",
   "metadata": {
    "colab_type": "text"
   },
   "source": [
    "Now, let's define the tokenizer. We will configure the tokenizer with the\n",
    "the vocabularies trained above. We will define a maximum sequence length so that\n",
    "all sequences are padded to the same length, if the length of the sequence is\n",
    "less than the specified sequence length. Otherwise, the sequence is truncated."
   ]
  },
  {
   "cell_type": "code",
   "execution_count": 0,
   "metadata": {
    "colab_type": "code"
   },
   "outputs": [],
   "source": [
    "tokenizer = keras_hub.tokenizers.WordPieceTokenizer(\n",
    "    vocabulary=vocab,\n",
    "    lowercase=False,\n",
    "    sequence_length=MAX_SEQUENCE_LENGTH,\n",
    ")"
   ]
  },
  {
   "cell_type": "markdown",
   "metadata": {
    "colab_type": "text"
   },
   "source": [
    "Let's try and tokenize a sample from our dataset! To verify whether the text has\n",
    "been tokenized correctly, we can also detokenize the list of tokens back to the\n",
    "original text."
   ]
  },
  {
   "cell_type": "code",
   "execution_count": 0,
   "metadata": {
    "colab_type": "code"
   },
   "outputs": [],
   "source": [
    "input_sentence_ex = train_ds.take(1).get_single_element()[0][0]\n",
    "input_tokens_ex = tokenizer(input_sentence_ex)\n",
    "\n",
    "print(\"Sentence: \", input_sentence_ex)\n",
    "print(\"Tokens: \", input_tokens_ex)\n",
    "print(\"Recovered text after detokenizing: \", tokenizer.detokenize(input_tokens_ex))"
   ]
  },
  {
   "cell_type": "markdown",
   "metadata": {
    "colab_type": "text"
   },
   "source": [
    "## Formatting the dataset\n",
    "\n",
    "Next, we'll format our datasets in the form that will be fed to the models. We\n",
    "need to tokenize the text."
   ]
  },
  {
   "cell_type": "code",
   "execution_count": 0,
   "metadata": {
    "colab_type": "code"
   },
   "outputs": [],
   "source": [
    "\n",
    "def format_dataset(sentence, label):\n",
    "    sentence = tokenizer(sentence)\n",
    "    return ({\"input_ids\": sentence}, label)\n",
    "\n",
    "\n",
    "def make_dataset(dataset):\n",
    "    dataset = dataset.map(format_dataset, num_parallel_calls=tf.data.AUTOTUNE)\n",
    "    return dataset.shuffle(512).prefetch(tf.data.AUTOTUNE).cache()\n",
    "\n",
    "\n",
    "train_ds = make_dataset(train_ds)\n",
    "val_ds = make_dataset(val_ds)\n",
    "test_ds = make_dataset(test_ds)\n"
   ]
  },
  {
   "cell_type": "markdown",
   "metadata": {
    "colab_type": "text"
   },
   "source": [
    "## Model\n",
    "\n",
    "Let's build a simple Transformer model. We will use `TokenAndPositionEmbedding`\n",
    "and `TransformerDecoder` from KerasHub library. `TokenAndPositionEmbedding`\n",
    "represents words and their order in a sentence, while `TransformerDecoder`\n",
    "outputs one vector for each time step of our input sequence. Here, we take the\n",
    "mean across all time steps and use a feedforward network on top of it to\n",
    "classify text."
   ]
  },
  {
   "cell_type": "code",
   "execution_count": 0,
   "metadata": {
    "colab_type": "code"
   },
   "outputs": [],
   "source": [
    "\n",
    "def build_model(\n",
    "    vocabulary_size=20000,\n",
    "    max_sequence_length=200,\n",
    "    hidden_dim=32,\n",
    "    num_heads=2,\n",
    "    intermediate_dim=32,\n",
    "    dropout=0.1,\n",
    "):\n",
    "    token_id_input = keras.layers.Input(shape=(None,), dtype=\"int32\", name=\"input_ids\")\n",
    "    x = keras_hub.layers.TokenAndPositionEmbedding(\n",
    "        vocabulary_size=vocabulary_size,\n",
    "        sequence_length=max_sequence_length,\n",
    "        embedding_dim=hidden_dim,\n",
    "    )(token_id_input)\n",
    "    x = keras.layers.Dropout(rate=dropout)(x)\n",
    "    x = keras_hub.layers.TransformerDecoder(\n",
    "        intermediate_dim=intermediate_dim,\n",
    "        num_heads=num_heads,\n",
    "        dropout=dropout,\n",
    "    )(x)\n",
    "    x = keras.layers.GlobalAveragePooling1D()(x)\n",
    "    x = keras.layers.Dropout(dropout)(x)\n",
    "    x = keras.layers.Dense(intermediate_dim, activation=\"relu\")(x)\n",
    "    x = keras.layers.Dropout(dropout)(x)\n",
    "    outputs = keras.layers.Dense(1, activation=\"sigmoid\")(x)\n",
    "    return keras.Model(inputs=token_id_input, outputs=outputs)\n"
   ]
  },
  {
   "cell_type": "markdown",
   "metadata": {
    "colab_type": "text"
   },
   "source": [
    "## Training and evaluating our model\n",
    "\n",
    "First, we train and evaluate the model with mixed precision\n",
    "(`\"mixed_bfloat16\"`). Afterward, we compare the results with FP8\n",
    "training/inference."
   ]
  },
  {
   "cell_type": "code",
   "execution_count": 0,
   "metadata": {
    "colab_type": "code"
   },
   "outputs": [],
   "source": [
    "model = build_model(**MODEL_KWARGS)\n",
    "model.summary()\n",
    "model.compile(\n",
    "    optimizer=\"adam\",\n",
    "    loss=\"binary_crossentropy\",\n",
    "    metrics=[\"accuracy\"],\n",
    ")\n",
    "history = model.fit(train_ds, epochs=EPOCHS, validation_data=val_ds)\n",
    "result = model.evaluate(test_ds)\n",
    "print(f\"Accuracy (mixed_bfloat16): {result[1]:.2%}\")"
   ]
  },
  {
   "cell_type": "markdown",
   "metadata": {
    "colab_type": "text"
   },
   "source": [
    "We can enable FP8 training/inference with a one-line API:\n",
    "`model.quantize(\"float8\")`."
   ]
  },
  {
   "cell_type": "code",
   "execution_count": 0,
   "metadata": {
    "colab_type": "code"
   },
   "outputs": [],
   "source": [
    "model = build_model(**MODEL_KWARGS)\n",
    "model.quantize(\"float8\")"
   ]
  },
  {
   "cell_type": "markdown",
   "metadata": {
    "colab_type": "text"
   },
   "source": [
    "To inspect that FP8 training takes place, we can print out some variables\n",
    "related to FP8 training:\n",
    "\n",
    "- `*_scale`: The scaling factor that shift the distribution of inputs, weights\n",
    "    and gradients into the representable range of FP8. Defaults to `1.0`\n",
    "- `*_amax_history`: The amax history window used for scaling factor computation.\n",
    "    Defaults to `0.0` with the length of 1024."
   ]
  },
  {
   "cell_type": "code",
   "execution_count": 0,
   "metadata": {
    "colab_type": "code"
   },
   "outputs": [],
   "source": [
    "pattern = r\"(transformer).+(multi_head).+(query).+(scale|amax_history)\"\n",
    "for v in model.trainable_variables:\n",
    "    if re.findall(pattern, v.path):\n",
    "        print(v.path)\n",
    "        print(keras.ops.convert_to_numpy(v.value))"
   ]
  },
  {
   "cell_type": "markdown",
   "metadata": {
    "colab_type": "text"
   },
   "source": [
    "The dtype policies of FP8 layers have also been modified."
   ]
  },
  {
   "cell_type": "code",
   "execution_count": 0,
   "metadata": {
    "colab_type": "code"
   },
   "outputs": [],
   "source": [
    "for layer in model._flatten_layers(recursive=True):\n",
    "    if \"float8\" in str(layer.dtype_policy):\n",
    "        print(f\"{layer.name}: {layer.dtype_policy}\")"
   ]
  },
  {
   "cell_type": "markdown",
   "metadata": {
    "colab_type": "text"
   },
   "source": [
    "Let's train the model and see the results. We can verify that the accuracy\n",
    "doesn't decrease with FP8 training that the variables containing FP8 information\n",
    "change after fitting."
   ]
  },
  {
   "cell_type": "code",
   "execution_count": 0,
   "metadata": {
    "colab_type": "code"
   },
   "outputs": [],
   "source": [
    "model.compile(\n",
    "    optimizer=\"adam\",\n",
    "    loss=\"binary_crossentropy\",\n",
    "    metrics=[\"accuracy\"],\n",
    ")\n",
    "history = model.fit(train_ds, epochs=EPOCHS, validation_data=val_ds)\n",
    "result = model.evaluate(test_ds)\n",
    "print(f\"Accuracy (float8): {result[1]:.2%}\")\n",
    "\n",
    "for v in model.trainable_variables:\n",
    "    if re.findall(pattern, v.path):\n",
    "        print(v.path)\n",
    "        print(keras.ops.convert_to_numpy(v.value))"
   ]
  },
  {
   "cell_type": "markdown",
   "metadata": {
    "colab_type": "text"
   },
   "source": [
    "## Recipes\n",
    "\n",
    "- The improvements in training speed are relatively small if the model is not\n",
    "sufficiently large. The recommendation is to train with a model containing\n",
    "parameters >5B.\n",
    "- You will need hardware such as NVIDIA H100 that supports FP8 Tensor Cores to\n",
    "gain the speedups.\n",
    "\n",
    "## References\n",
    "- [FP8 Formats for Deep Learning](https://arxiv.org/abs/2209.05433)\n",
    "- [FP8 Primer](https://docs.nvidia.com/deeplearning/transformer-engine/user-guide/examples/fp8_primer.html)\n",
    "- [Flax - fp8_ops.py](https://github.com/google/flax/blob/main/flax/linen/fp8_ops.py)"
   ]
  }
 ],
 "metadata": {
  "accelerator": "GPU",
  "colab": {
   "collapsed_sections": [],
   "name": "float8_training_and_inference_with_transformer",
   "private_outputs": false,
   "provenance": [],
   "toc_visible": true
  },
  "kernelspec": {
   "display_name": "Python 3",
   "language": "python",
   "name": "python3"
  },
  "language_info": {
   "codemirror_mode": {
    "name": "ipython",
    "version": 3
   },
   "file_extension": ".py",
   "mimetype": "text/x-python",
   "name": "python",
   "nbconvert_exporter": "python",
   "pygments_lexer": "ipython3",
   "version": "3.7.0"
  }
 },
 "nbformat": 4,
 "nbformat_minor": 0
}
