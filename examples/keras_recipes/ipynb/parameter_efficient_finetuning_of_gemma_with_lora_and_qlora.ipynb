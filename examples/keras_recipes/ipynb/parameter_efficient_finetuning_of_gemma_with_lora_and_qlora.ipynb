{
 "cells": [
  {
   "cell_type": "markdown",
   "metadata": {
    "colab_type": "text"
   },
   "source": [
    "# Parameter-efficient fine-tuning of Gemma with LoRA and QLoRA\n",
    "\n",
    "**Authors:** [Hongyu Chiu](https://github.com/james77777778), [Abheesht Sharma](https://github.com/abheesht17/), [Matthew Watson](https://github.com/mattdangerw/)<br>\n",
    "**Date created:** 2024/08/06<br>\n",
    "**Last modified:** 2024/08/06<br>\n",
    "**Description:** Use KerasHub to fine-tune a Gemma LLM with LoRA and QLoRA."
   ]
  },
  {
   "cell_type": "markdown",
   "metadata": {
    "colab_type": "text"
   },
   "source": [
    "## Introduction\n",
    "\n",
    "Large Language Models (LLMs) have been shown to be effective at a variety of NLP\n",
    "tasks. An LLM is first pre-trained on a large corpus of text in a\n",
    "self-supervised fashion. Pre-training helps LLMs learn general-purpose\n",
    "knowledge, such as statistical relationships between words. An LLM can then be\n",
    "fine-tuned on a downstream task of interest (such as sentiment analysis).\n",
    "\n",
    "However, LLMs are extremely large in size, and we don't need to train all the\n",
    "parameters in the model while fine-tuning, especially because datasets on which\n",
    "the model is fine-tuned are relatively small. Another way of saying this is\n",
    "that LLMs are over-parametrized for fine-tuning. This is where\n",
    "[Low-Rank Adaptation (LoRA)](https://arxiv.org/abs/2106.09685) comes in; it\n",
    "significantly reduces the number of trainable parameters. This results in a\n",
    "decrease in training time and GPU memory usage, while maintaining the quality\n",
    "of the outputs.\n",
    "\n",
    "Furthermore,\n",
    "[Quantized Low-Rank Adaptation (QLoRA)](https://arxiv.org/abs/2305.14314)\n",
    "extends LoRA to enhance efficiency through quantization techniques without\n",
    "performance degradation.\n",
    "\n",
    "In this example, we will fine-tune KerasHub's\n",
    "[Gemma model](https://keras.io/api/keras_hub/models/gemma/) on the next token\n",
    "prediction task using LoRA and QLoRA.\n",
    "\n",
    "Note that this example runs on all backends supported by Keras. TensorFlow is\n",
    "only used for data preprocessing."
   ]
  },
  {
   "cell_type": "markdown",
   "metadata": {
    "colab_type": "text"
   },
   "source": [
    "## Setup\n",
    "\n",
    "Before we start implementing the pipeline, let's install and import all the\n",
    "libraries we need. We'll be using the KerasHub library.\n",
    "\n",
    "Secondly, let's set the precision to bfloat16. This will help us reduce the\n",
    "memory usage and training time.\n",
    "\n",
    "Also, ensure that `KAGGLE_USERNAME` and `KAGGLE_KEY` have been correctly\n",
    "configured to access the Gemma model."
   ]
  },
  {
   "cell_type": "code",
   "execution_count": null,
   "metadata": {
    "colab_type": "code"
   },
   "outputs": [],
   "source": [
    "# We might need the latest code from Keras and KerasHub\n",
    "!pip install -q git+https://github.com/keras-team/keras.git git+https://github.com/keras-team/keras-hub.git"
   ]
  },
  {
   "cell_type": "code",
   "execution_count": null,
   "metadata": {
    "colab_type": "code"
   },
   "outputs": [],
   "source": [
    "import gc\n",
    "import os\n",
    "\n",
    "os.environ[\"KERAS_BACKEND\"] = \"jax\"\n",
    "os.environ[\"TF_CPP_MIN_LOG_LEVEL\"] = \"3\"  # Suppress verbose logging from TF\n",
    "\n",
    "# os.environ[\"KAGGLE_USERNAME\"] = \"...\"\n",
    "# os.environ[\"KAGGLE_KEY\"] = \"...\"\n",
    "\n",
    "import keras\n",
    "import keras_hub\n",
    "import tensorflow as tf\n",
    "import tensorflow_datasets as tfds\n",
    "\n",
    "keras.config.set_dtype_policy(\"bfloat16\")"
   ]
  },
  {
   "cell_type": "markdown",
   "metadata": {
    "colab_type": "text"
   },
   "source": [
    "## Dataset\n",
    "\n",
    "We will use the MTNT (Machine Translation of Noisy Text) dataset, which is\n",
    "available from TensorFlow Datasets. In this example, we will use the\n",
    "French-to-English portion of the dataset."
   ]
  },
  {
   "cell_type": "code",
   "execution_count": null,
   "metadata": {
    "colab_type": "code"
   },
   "outputs": [],
   "source": [
    "train_ds = tfds.load(\"mtnt/fr-en\", split=\"train\")"
   ]
  },
  {
   "cell_type": "markdown",
   "metadata": {
    "colab_type": "text"
   },
   "source": [
    "We can print some samples. Each sample in the dataset contains two entries:\n",
    "\n",
    "- src: the original French sentence.\n",
    "- dst: the corresponding English translation."
   ]
  },
  {
   "cell_type": "code",
   "execution_count": null,
   "metadata": {
    "colab_type": "code"
   },
   "outputs": [],
   "source": [
    "examples = train_ds.take(3)\n",
    "examples = examples.as_numpy_iterator()\n",
    "\n",
    "for idx, example in enumerate(examples):\n",
    "    print(f\"Example {idx}:\")\n",
    "    for key, val in example.items():\n",
    "        print(f\"{key}: {val}\")\n",
    "    print()"
   ]
  },
  {
   "cell_type": "markdown",
   "metadata": {
    "colab_type": "text"
   },
   "source": [
    "Since we will fine-tune our model to perform a French-to-English translation\n",
    "task, we should format the inputs for instruction tuning. For example, we could\n",
    "format the translation task in this example like:\n",
    "\n",
    "```\n",
    "<start_of_turn>user\n",
    "Translate French into English:\n",
    "{src}<end_of_turn>\n",
    "<start_of_turn>model\n",
    "{dst}<end_of_turn>\n",
    "```\n",
    "\n",
    "The special tokens such as `<start_of_turn>user`, `<start_of_turn>model` and\n",
    "`<end_of_turn>` are used for Gemma models. You can learn more from\n",
    "https://ai.google.dev/gemma/docs/formatting"
   ]
  },
  {
   "cell_type": "code",
   "execution_count": null,
   "metadata": {
    "colab_type": "code"
   },
   "outputs": [],
   "source": [
    "train_ds = train_ds.map(\n",
    "    lambda x: tf.strings.join(\n",
    "        [\n",
    "            \"<start_of_turn>user\\n\",\n",
    "            \"Translate French into English:\\n\",\n",
    "            x[\"src\"],\n",
    "            \"<end_of_turn>\\n\",\n",
    "            \"<start_of_turn>model\\n\",\n",
    "            \"Translation:\\n\",\n",
    "            x[\"dst\"],\n",
    "            \"<end_of_turn>\",\n",
    "        ]\n",
    "    )\n",
    ")\n",
    "examples = train_ds.take(3)\n",
    "examples = examples.as_numpy_iterator()\n",
    "\n",
    "for idx, example in enumerate(examples):\n",
    "    print(f\"Example {idx}:\")\n",
    "    print(example)\n",
    "    print()"
   ]
  },
  {
   "cell_type": "markdown",
   "metadata": {
    "colab_type": "text"
   },
   "source": [
    "We will take a subset of the dataset for the purpose of this example."
   ]
  },
  {
   "cell_type": "code",
   "execution_count": null,
   "metadata": {
    "colab_type": "code"
   },
   "outputs": [],
   "source": [
    "train_ds = train_ds.batch(1).take(100)"
   ]
  },
  {
   "cell_type": "markdown",
   "metadata": {
    "colab_type": "text"
   },
   "source": [
    "## Model\n",
    "\n",
    "KerasHub provides implementations of many popular model architectures.\n",
    "In this example, we will use `GemmaCausalLM`, an end-to-end Gemma model for\n",
    "causal language modeling. A causal language model predicts the next token based\n",
    "on previous tokens.\n",
    "\n",
    "Note that `sequence_length` is set to `256` to speed up the fitting."
   ]
  },
  {
   "cell_type": "code",
   "execution_count": null,
   "metadata": {
    "colab_type": "code"
   },
   "outputs": [],
   "source": [
    "preprocessor = keras_hub.models.GemmaCausalLMPreprocessor.from_preset(\n",
    "    \"gemma_1.1_instruct_2b_en\", sequence_length=256\n",
    ")\n",
    "gemma_lm = keras_hub.models.GemmaCausalLM.from_preset(\n",
    "    \"gemma_1.1_instruct_2b_en\", preprocessor=preprocessor\n",
    ")\n",
    "gemma_lm.summary()"
   ]
  },
  {
   "cell_type": "markdown",
   "metadata": {
    "colab_type": "text"
   },
   "source": [
    "## LoRA Fine-tuning\n",
    "\n",
    "### What exactly is LoRA?\n",
    "\n",
    "Low-rank adaptation (LoRA) is a parameter-efficient fine-tuning technique for\n",
    "LLMs. It freezes the weights of the LLM, and injects trainable\n",
    "rank-decomposition matrices. Let's understand this more clearly.\n",
    "\n",
    "Assume we have an `n x n` pre-trained dense layer (or weight matrix), `W0`. We\n",
    "initialize two dense layers, `A` and `B`, of shapes `n x rank`, and `rank x n`,\n",
    "respectively. `rank` is much smaller than `n`. In the paper, values between 1\n",
    "and 4 are shown to work well.\n",
    "\n",
    "### LoRA equation\n",
    "\n",
    "The original equation is `output = W0x + b0`, where `x` is the input, `W0` and\n",
    "`b0` are the weight matrix and bias terms of the original dense layer (frozen).\n",
    "The LoRA equation is: `output = W0x + b0 + BAx`, where `A` and `B` are the\n",
    "rank-decomposition matrices.\n",
    "\n",
    "LoRA is based on the idea that updates to the weights of the pre-trained\n",
    "language model have a low \"intrinsic rank\" since pre-trained language models are\n",
    "over-parametrized. Predictive performance of full fine-tuning can be replicated\n",
    "even by constraining `W0`'s updates to low-rank decomposition matrices.\n",
    "\n",
    "### Number of trainable parameters\n",
    "\n",
    "Let's do some quick math. Suppose `n` is 768, and `rank` is 4. `W0` has\n",
    "`768 x 768 = 589,824` parameters, whereas the LoRA layers, `A` and `B` together\n",
    "have `768 x 4 + 4 x 768 = 6,144` parameters. So, for the dense layer, we go\n",
    "from `589,824` trainable parameters to `6,144` trainable parameters!\n",
    "\n",
    "### Why does LoRA reduce memory footprint?\n",
    "\n",
    "Even though the total number of parameters increase\n",
    "(since we are adding LoRA layers), the memory footprint reduces, because the\n",
    "number of trainable parameters reduces. Let's dive deeper into this.\n",
    "\n",
    "The memory usage of a model can be split into four parts:\n",
    "\n",
    "- Model memory: This is the memory required to store the model weights. This\n",
    "will be slightly higher for LoRA than the original model.\n",
    "- Forward pass memory: This mostly depends on batch size, sequence length, etc.\n",
    "We keep this constant for both models for a fair comparison.\n",
    "- Backward pass memory: This is the memory required to store the gradients. Note\n",
    "that the gradients are computed only for the trainable parameters.\n",
    "- Optimizer memory: This is the memory required to store the optimizer state.\n",
    "For example, the Adam optimizer stores the \"1st moment vectors\" and\n",
    "\"2nd moment vectors\" for the trainable parameters.\n",
    "\n",
    "Since, with LoRA, there is a huge reduction in the number of trainable\n",
    "parameters, the optimizer memory and the memory required to store the gradients\n",
    "for LoRA is much less than the original model. This is where most of the memory\n",
    "savings happen.\n",
    "\n",
    "### Why is LoRA so popular?\n",
    "\n",
    "- Reduces GPU memory usage;\n",
    "- Faster training; and\n",
    "- No additional inference latency."
   ]
  },
  {
   "cell_type": "markdown",
   "metadata": {
    "colab_type": "text"
   },
   "source": [
    "When using KerasHub, we can enable LoRA with an one-line API:\n",
    "`enable_lora(rank=4)`\n",
    "\n",
    "From `gemma_lm.summary()`, we can see enabling LoRA reduces the number of\n",
    "trainable parameters significantly (from 2.5 billion to 1.3 million)."
   ]
  },
  {
   "cell_type": "code",
   "execution_count": null,
   "metadata": {
    "colab_type": "code"
   },
   "outputs": [],
   "source": [
    "gemma_lm.backbone.enable_lora(rank=4)\n",
    "gemma_lm.summary()"
   ]
  },
  {
   "cell_type": "markdown",
   "metadata": {
    "colab_type": "text"
   },
   "source": [
    "Let's fine-tune the LoRA model."
   ]
  },
  {
   "cell_type": "code",
   "execution_count": null,
   "metadata": {
    "colab_type": "code"
   },
   "outputs": [],
   "source": [
    "# To save memory, use the SGD optimizer instead of the usual AdamW optimizer.\n",
    "# For this specific example, SGD is more than enough.\n",
    "optimizer = keras.optimizers.SGD(learning_rate=1e-4)\n",
    "gemma_lm.compile(\n",
    "    loss=keras.losses.SparseCategoricalCrossentropy(from_logits=True),\n",
    "    optimizer=optimizer,\n",
    "    weighted_metrics=[keras.metrics.SparseCategoricalAccuracy()],\n",
    ")\n",
    "gemma_lm.fit(train_ds, epochs=1)"
   ]
  },
  {
   "cell_type": "markdown",
   "metadata": {
    "colab_type": "text"
   },
   "source": [
    "After fine-tuning, responses will follow the instructions provided in the\n",
    "prompt."
   ]
  },
  {
   "cell_type": "code",
   "execution_count": null,
   "metadata": {
    "colab_type": "code"
   },
   "outputs": [],
   "source": [
    "template = (\n",
    "    \"<start_of_turn>user\\n\"\n",
    "    \"Translate French into English:\\n\"\n",
    "    \"{inputs}\"\n",
    "    \"<end_of_turn>\\n\"\n",
    "    \"<start_of_turn>model\\n\"\n",
    "    \"Translation:\\n\"\n",
    ")\n",
    "prompt = template.format(inputs=\"Bonjour, je m'appelle Morgane.\")\n",
    "outputs = gemma_lm.generate(prompt, max_length=256)\n",
    "print(\"Translation:\\n\", outputs.replace(prompt, \"\"))"
   ]
  },
  {
   "cell_type": "markdown",
   "metadata": {
    "colab_type": "text"
   },
   "source": [
    "Release memory."
   ]
  },
  {
   "cell_type": "code",
   "execution_count": null,
   "metadata": {
    "colab_type": "code"
   },
   "outputs": [],
   "source": [
    "del preprocessor\n",
    "del gemma_lm\n",
    "del optimizer\n",
    "gc.collect()"
   ]
  },
  {
   "cell_type": "markdown",
   "metadata": {
    "colab_type": "text"
   },
   "source": [
    "## QLoRA Fine-tuning\n",
    "\n",
    "Quantized Low-Rank Adaptation (QLoRA) extends LoRA to enhance efficiency by\n",
    "quantizing the model weights from high precision data types, such as float32, to\n",
    "lower precision data types like int8. This leads to reduced memory usage and\n",
    "faster computation. The saved model weights are also much smaller.\n",
    "\n",
    "Note that the QLoRA implementation here is a simplified version compared to the\n",
    "original. The differences are:\n",
    "\n",
    "- The 4-bit NormalFloat format is not used because no backend supports it.\n",
    "- No double quantization.\n",
    "- No Paged optimizer.\n",
    "\n",
    "To enable QLoRA in KerasHub, follow these steps:\n",
    "\n",
    "1. Instantiate the model.\n",
    "2. Quantize the weights using dynamic int8 quantization.\n",
    "3. Enable LoRA.\n",
    "\n",
    "Steps 2 and 3 are achieved with one-line APIs:\n",
    "\n",
    "- `quantize(\"int8\")`\n",
    "- `enable_lora(...)`"
   ]
  },
  {
   "cell_type": "code",
   "execution_count": null,
   "metadata": {
    "colab_type": "code"
   },
   "outputs": [],
   "source": [
    "preprocessor = keras_hub.models.GemmaCausalLMPreprocessor.from_preset(\n",
    "    \"gemma_1.1_instruct_2b_en\", sequence_length=256\n",
    ")\n",
    "gemma_lm = keras_hub.models.GemmaCausalLM.from_preset(\n",
    "    \"gemma_1.1_instruct_2b_en\", preprocessor=preprocessor\n",
    ")\n",
    "gemma_lm.quantize(\"int8\")\n",
    "gemma_lm.backbone.enable_lora(rank=4)\n",
    "gemma_lm.summary()"
   ]
  },
  {
   "cell_type": "markdown",
   "metadata": {
    "colab_type": "text"
   },
   "source": [
    "Let's fine-tune the QLoRA model.\n",
    "\n",
    "If you are using a device with int8 acceleration support, you should see an\n",
    "improvement in the training speed."
   ]
  },
  {
   "cell_type": "code",
   "execution_count": null,
   "metadata": {
    "colab_type": "code"
   },
   "outputs": [],
   "source": [
    "optimizer = keras.optimizers.SGD(learning_rate=1e-4)\n",
    "gemma_lm.compile(\n",
    "    loss=keras.losses.SparseCategoricalCrossentropy(from_logits=True),\n",
    "    optimizer=optimizer,\n",
    "    weighted_metrics=[keras.metrics.SparseCategoricalAccuracy()],\n",
    ")\n",
    "gemma_lm.fit(train_ds, epochs=1)"
   ]
  },
  {
   "cell_type": "markdown",
   "metadata": {
    "colab_type": "text"
   },
   "source": [
    "You should get a similar output with QLoRA fine-tuning."
   ]
  },
  {
   "cell_type": "code",
   "execution_count": null,
   "metadata": {
    "colab_type": "code"
   },
   "outputs": [],
   "source": [
    "prompt = template.format(inputs=\"Bonjour, je m'appelle Morgane.\")\n",
    "outputs = gemma_lm.generate(prompt, max_length=256)\n",
    "print(\"Translation:\\n\", outputs.replace(prompt, \"\"))"
   ]
  },
  {
   "cell_type": "markdown",
   "metadata": {
    "colab_type": "text"
   },
   "source": [
    "And we're all done!\n",
    "\n",
    "Note that for demonstration purposes, this example fine-tunes the model on a\n",
    "small subset of the dataset for just one epoch and with a low LoRA rank value.\n",
    "To get better responses from the fine-tuned model, you can experiment with:\n",
    "\n",
    "- Increasing the size of the fine-tuning dataset.\n",
    "- Training for more steps (epochs).\n",
    "- Setting a higher LoRA rank.\n",
    "- Modifying the hyperparameter values such as `learning_rate` and\n",
    "`weight_decay`."
   ]
  }
 ],
 "metadata": {
  "accelerator": "GPU",
  "colab": {
   "collapsed_sections": [],
   "name": "parameter_efficient_finetuning_of_gemma_with_lora_and_qlora",
   "private_outputs": false,
   "provenance": [],
   "toc_visible": true
  },
  "kernelspec": {
   "display_name": "Python 3",
   "language": "python",
   "name": "python3"
  },
  "language_info": {
   "codemirror_mode": {
    "name": "ipython",
    "version": 3
   },
   "file_extension": ".py",
   "mimetype": "text/x-python",
   "name": "python",
   "nbconvert_exporter": "python",
   "pygments_lexer": "ipython3",
   "version": "3.7.0"
  }
 },
 "nbformat": 4,
 "nbformat_minor": 0
}
