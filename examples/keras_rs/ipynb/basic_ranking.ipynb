{
 "cells": [
  {
   "cell_type": "markdown",
   "metadata": {
    "colab_type": "text"
   },
   "source": [
    "# Recommending movies: ranking\n",
    "\n",
    "**Author:** [Fabien Hertschuh](https://github.com/hertschuh/), [Abheesht Sharma](https://github.com/abheesht17/)<br>\n",
    "**Date created:** 2025/04/28<br>\n",
    "**Last modified:** 2025/04/28<br>\n",
    "**Description:** Rank movies using a two tower model."
   ]
  },
  {
   "cell_type": "markdown",
   "metadata": {
    "colab_type": "text"
   },
   "source": [
    "## Introduction\n",
    "\n",
    "Recommender systems are often composed of two stages:\n",
    "\n",
    "1. The retrieval stage is responsible for selecting an initial set of hundreds\n",
    "   of candidates from all possible candidates. The main objective of this model\n",
    "   is to efficiently weed out all candidates that the user is not interested in.\n",
    "   Because the retrieval model may be dealing with millions of candidates, it\n",
    "   has to be computationally efficient.\n",
    "2. The ranking stage takes the outputs of the retrieval model and fine-tunes\n",
    "   them to select the best possible handful of recommendations. Its task is to\n",
    "   narrow down the set of items the user may be interested in to a shortlist of\n",
    "   likely candidates.\n",
    "\n",
    "In this tutorial, we're going to focus on the second stage, ranking. If you are\n",
    "interested in the retrieval stage, have a look at our\n",
    "[retrieval](/keras_rs/examples/basic_retrieval/)\n",
    "tutorial.\n",
    "\n",
    "In this tutorial, we're going to:\n",
    "\n",
    "1. Get our data and split it into a training and test set.\n",
    "2. Implement a ranking model.\n",
    "3. Fit and evaluate it.\n",
    "4. Test running predictions with the model.\n",
    "\n",
    "Let's begin by choosing JAX as the backend we want to run on, and import all\n",
    "the necessary libraries."
   ]
  },
  {
   "cell_type": "code",
   "execution_count": 0,
   "metadata": {
    "colab_type": "code"
   },
   "outputs": [],
   "source": [
    "import os\n",
    "\n",
    "os.environ[\"KERAS_BACKEND\"] = \"jax\"  # `\"tensorflow\"`/`\"torch\"`\n",
    "\n",
    "import keras\n",
    "import tensorflow as tf  # Needed for the dataset\n",
    "import tensorflow_datasets as tfds"
   ]
  },
  {
   "cell_type": "markdown",
   "metadata": {
    "colab_type": "text"
   },
   "source": [
    "## Preparing the dataset\n",
    "\n",
    "We're going to use the same data as the\n",
    "[retrieval](/keras_rs/examples/basic_retrieval/)\n",
    "tutorial. The ratings are the objectives we are trying to predict."
   ]
  },
  {
   "cell_type": "code",
   "execution_count": 0,
   "metadata": {
    "colab_type": "code"
   },
   "outputs": [],
   "source": [
    "# Ratings data.\n",
    "ratings = tfds.load(\"movielens/100k-ratings\", split=\"train\")\n",
    "# Features of all the available movies.\n",
    "movies = tfds.load(\"movielens/100k-movies\", split=\"train\")"
   ]
  },
  {
   "cell_type": "markdown",
   "metadata": {
    "colab_type": "text"
   },
   "source": [
    "In the Movielens dataset, user IDs are integers (represented as strings)\n",
    "starting at 1 and with no gap. Normally, you would need to create a lookup table\n",
    "to map user IDs to integers from 0 to N-1. But as a simplication, we'll use the\n",
    "user id directly as an index in our model, in particular to lookup the user\n",
    "embedding from the user embedding table. So we need do know the number of users."
   ]
  },
  {
   "cell_type": "code",
   "execution_count": 0,
   "metadata": {
    "colab_type": "code"
   },
   "outputs": [],
   "source": [
    "users_count = (\n",
    "    ratings.map(lambda x: tf.strings.to_number(x[\"user_id\"], out_type=tf.int32))\n",
    "    .reduce(tf.constant(0, tf.int32), tf.maximum)\n",
    "    .numpy()\n",
    ")"
   ]
  },
  {
   "cell_type": "markdown",
   "metadata": {
    "colab_type": "text"
   },
   "source": [
    "In the Movielens dataset, movie IDs are integers (represented as strings)\n",
    "starting at 1 and with no gap. Normally, you would need to create a lookup table\n",
    "to map movie IDs to integers from 0 to N-1. But as a simplication, we'll use the\n",
    "movie id directly as an index in our model, in particular to lookup the movie\n",
    "embedding from the movie embedding table. So we need do know the number of\n",
    "movies."
   ]
  },
  {
   "cell_type": "code",
   "execution_count": 0,
   "metadata": {
    "colab_type": "code"
   },
   "outputs": [],
   "source": [
    "movies_count = movies.cardinality().numpy()"
   ]
  },
  {
   "cell_type": "markdown",
   "metadata": {
    "colab_type": "text"
   },
   "source": [
    "The inputs to the model are the user IDs and movie IDs and the labels are the\n",
    "ratings."
   ]
  },
  {
   "cell_type": "code",
   "execution_count": 0,
   "metadata": {
    "colab_type": "code"
   },
   "outputs": [],
   "source": [
    "\n",
    "def preprocess_rating(x):\n",
    "    return (\n",
    "        # Inputs are user IDs and movie IDs\n",
    "        {\n",
    "            \"user_id\": tf.strings.to_number(x[\"user_id\"], out_type=tf.int32),\n",
    "            \"movie_id\": tf.strings.to_number(x[\"movie_id\"], out_type=tf.int32),\n",
    "        },\n",
    "        # Labels are ratings between 0 and 1.\n",
    "        (x[\"user_rating\"] - 1.0) / 4.0,\n",
    "    )\n",
    ""
   ]
  },
  {
   "cell_type": "markdown",
   "metadata": {
    "colab_type": "text"
   },
   "source": [
    "We'll split the data by putting 80% of the ratings in the train set, and 20% in\n",
    "the test set."
   ]
  },
  {
   "cell_type": "code",
   "execution_count": 0,
   "metadata": {
    "colab_type": "code"
   },
   "outputs": [],
   "source": [
    "shuffled_ratings = ratings.map(preprocess_rating).shuffle(\n",
    "    100_000, seed=42, reshuffle_each_iteration=False\n",
    ")\n",
    "train_ratings = shuffled_ratings.take(80_000).batch(1000).cache()\n",
    "test_ratings = shuffled_ratings.skip(80_000).take(20_000).batch(1000).cache()"
   ]
  },
  {
   "cell_type": "markdown",
   "metadata": {
    "colab_type": "text"
   },
   "source": [
    "## Implementing the Model\n",
    "\n",
    "### Architecture\n",
    "\n",
    "Ranking models do not face the same efficiency constraints as retrieval models\n",
    "do, and so we have a little bit more freedom in our choice of architectures.\n",
    "\n",
    "A model composed of multiple stacked dense layers is a relatively common\n",
    "architecture for ranking tasks. We can implement it as follows:"
   ]
  },
  {
   "cell_type": "code",
   "execution_count": 0,
   "metadata": {
    "colab_type": "code"
   },
   "outputs": [],
   "source": [
    "\n",
    "class RankingModel(keras.Model):\n",
    "    \"\"\"Create the ranking model with the provided parameters.\n",
    "\n",
    "    Args:\n",
    "      num_users: Number of entries in the user embedding table.\n",
    "      num_candidates: Number of entries in the candidate embedding table.\n",
    "      embedding_dimension: Output dimension for user and movie embedding tables.\n",
    "    \"\"\"\n",
    "\n",
    "    def __init__(\n",
    "        self,\n",
    "        num_users,\n",
    "        num_candidates,\n",
    "        embedding_dimension=32,\n",
    "        **kwargs,\n",
    "    ):\n",
    "        super().__init__(**kwargs)\n",
    "        # Embedding table for users.\n",
    "        self.user_embedding = keras.layers.Embedding(num_users, embedding_dimension)\n",
    "        # Embedding table for candidates.\n",
    "        self.candidate_embedding = keras.layers.Embedding(\n",
    "            num_candidates, embedding_dimension\n",
    "        )\n",
    "        # Predictions.\n",
    "        self.ratings = keras.Sequential(\n",
    "            [\n",
    "                # Learn multiple dense layers.\n",
    "                keras.layers.Dense(256, activation=\"relu\"),\n",
    "                keras.layers.Dense(64, activation=\"relu\"),\n",
    "                # Make rating predictions in the final layer.\n",
    "                keras.layers.Dense(1),\n",
    "            ]\n",
    "        )\n",
    "\n",
    "    def call(self, inputs):\n",
    "        user_id, movie_id = inputs[\"user_id\"], inputs[\"movie_id\"]\n",
    "        user_embeddings = self.user_embedding(user_id)\n",
    "        candidate_embeddings = self.candidate_embedding(movie_id)\n",
    "        return self.ratings(\n",
    "            keras.ops.concatenate([user_embeddings, candidate_embeddings], axis=1)\n",
    "        )\n",
    ""
   ]
  },
  {
   "cell_type": "markdown",
   "metadata": {
    "colab_type": "text"
   },
   "source": [
    "Let's first instantiate the model. Note that we add `+ 1` to the number of users\n",
    "and movies to account for the fact that id zero is not used for either (IDs\n",
    "start at 1), but still takes a row in the embedding tables."
   ]
  },
  {
   "cell_type": "code",
   "execution_count": 0,
   "metadata": {
    "colab_type": "code"
   },
   "outputs": [],
   "source": [
    "model = RankingModel(users_count + 1, movies_count + 1)"
   ]
  },
  {
   "cell_type": "markdown",
   "metadata": {
    "colab_type": "text"
   },
   "source": [
    "### Loss and metrics\n",
    "\n",
    "The next component is the loss used to train our model. Keras has several losses\n",
    "to make this easy. In this instance, we'll make use of the `MeanSquaredError`\n",
    "loss in order to predict the ratings. We'll also look at the\n",
    "`RootMeanSquaredError` metric."
   ]
  },
  {
   "cell_type": "code",
   "execution_count": 0,
   "metadata": {
    "colab_type": "code"
   },
   "outputs": [],
   "source": [
    "model.compile(\n",
    "    loss=keras.losses.MeanSquaredError(),\n",
    "    metrics=[keras.metrics.RootMeanSquaredError()],\n",
    "    optimizer=keras.optimizers.Adagrad(learning_rate=0.1),\n",
    ")"
   ]
  },
  {
   "cell_type": "markdown",
   "metadata": {
    "colab_type": "text"
   },
   "source": [
    "## Fitting and evaluating\n",
    "\n",
    "After defining the model, we can use the standard Keras `model.fit()` to train\n",
    "the model."
   ]
  },
  {
   "cell_type": "code",
   "execution_count": 0,
   "metadata": {
    "colab_type": "code"
   },
   "outputs": [],
   "source": [
    "model.fit(train_ratings, epochs=5)"
   ]
  },
  {
   "cell_type": "markdown",
   "metadata": {
    "colab_type": "text"
   },
   "source": [
    "As the model trains, the loss is falling and the RMSE metric is improving.\n",
    "\n",
    "Finally, we can evaluate our model on the test set. The lower the RMSE metric,\n",
    "the more accurate our model is at predicting ratings."
   ]
  },
  {
   "cell_type": "code",
   "execution_count": 0,
   "metadata": {
    "colab_type": "code"
   },
   "outputs": [],
   "source": [
    "model.evaluate(test_ratings, return_dict=True)"
   ]
  },
  {
   "cell_type": "markdown",
   "metadata": {
    "colab_type": "text"
   },
   "source": [
    "## Testing the ranking model\n",
    "\n",
    "So far, we have only handled movies by id. Now is the time to create a mapping\n",
    "keyed by movie IDs to be able to surface the titles."
   ]
  },
  {
   "cell_type": "code",
   "execution_count": 0,
   "metadata": {
    "colab_type": "code"
   },
   "outputs": [],
   "source": [
    "movie_id_to_movie_title = {\n",
    "    int(x[\"movie_id\"]): x[\"movie_title\"] for x in movies.as_numpy_iterator()\n",
    "}\n",
    "movie_id_to_movie_title[0] = \"\"  # Because id 0 is not in the dataset."
   ]
  },
  {
   "cell_type": "markdown",
   "metadata": {
    "colab_type": "text"
   },
   "source": [
    "Now we can test the ranking model by computing predictions for a set of movies\n",
    "and then rank these movies based on the predictions:"
   ]
  },
  {
   "cell_type": "code",
   "execution_count": 0,
   "metadata": {
    "colab_type": "code"
   },
   "outputs": [],
   "source": [
    "user_id = 42\n",
    "movie_ids = [204, 141, 131]\n",
    "predictions = model.predict(\n",
    "    {\n",
    "        \"user_id\": keras.ops.array([user_id] * len(movie_ids)),\n",
    "        \"movie_id\": keras.ops.array(movie_ids),\n",
    "    }\n",
    ")\n",
    "predictions = keras.ops.convert_to_numpy(keras.ops.squeeze(predictions, axis=1))\n",
    "\n",
    "for movie_id, prediction in zip(movie_ids, predictions):\n",
    "    print(f\"{movie_id_to_movie_title[movie_id]}: {5.0 * prediction:,.2f}\")"
   ]
  }
 ],
 "metadata": {
  "accelerator": "GPU",
  "colab": {
   "collapsed_sections": [],
   "name": "basic_ranking",
   "private_outputs": false,
   "provenance": [],
   "toc_visible": true
  },
  "kernelspec": {
   "display_name": "Python 3",
   "language": "python",
   "name": "python3"
  },
  "language_info": {
   "codemirror_mode": {
    "name": "ipython",
    "version": 3
   },
   "file_extension": ".py",
   "mimetype": "text/x-python",
   "name": "python",
   "nbconvert_exporter": "python",
   "pygments_lexer": "ipython3",
   "version": "3.7.0"
  }
 },
 "nbformat": 4,
 "nbformat_minor": 0
}