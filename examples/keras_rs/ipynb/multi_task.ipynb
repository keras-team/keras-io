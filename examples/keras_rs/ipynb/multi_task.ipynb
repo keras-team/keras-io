{
 "cells": [
  {
   "cell_type": "markdown",
   "metadata": {
    "colab_type": "text"
   },
   "source": [
    "# Multi-task recommenders: retrieval + ranking\n",
    "\n",
    "**Author:** [Abheesht Sharma](https://github.com/abheesht17/), [Fabien Hertschuh](https://github.com/hertschuh/)<br>\n",
    "**Date created:** 2025/04/28<br>\n",
    "**Last modified:** 2025/04/28<br>\n",
    "**Description:** Using one model for both retrieval and ranking."
   ]
  },
  {
   "cell_type": "markdown",
   "metadata": {
    "colab_type": "text"
   },
   "source": [
    "## Introduction\n",
    "\n",
    "In the\n",
    "[basic retrieval](/keras_rs/examples/basic_retrieval/)\n",
    "and\n",
    "[basic ranking](/keras_rs/examples/basic_ranking/)\n",
    "tutorials, we created separate models for retrieval and ranking tasks,\n",
    "respectively. However, in many cases, building a single, joint model for\n",
    "multiple tasks can lead to better performance than creating distinct models for\n",
    "each task. This is especially true when dealing with data that is unevenly\n",
    "distributed \u2014 such as abundant data (e.g., clicks) versus sparse data\n",
    "(e.g., purchases, returns, or manual reviews). In such scenarios, a joint model\n",
    "can leverage representations learned from the abundant data to improve\n",
    "predictions on the sparse data, a technique known as transfer learning.\n",
    "For instance, [research](https://openreview.net/forum?id=SJxPVcSonN) shows that\n",
    "a model trained to predict user ratings from sparse survey data can be\n",
    "significantly enhanced by incorporating an auxiliary task using abundant click\n",
    "log data.\n",
    "\n",
    "In this example, we develop a multi-objective recommender system using the\n",
    "MovieLens dataset. We incorporate both implicit feedback (e.g., movie watches)\n",
    "and explicit feedback (e.g., ratings) to create a more robust and effective\n",
    "recommendation model. For the former, we predict \"movie watches\", i.e., whether\n",
    "a user has watched a movie, and for the latter, we predict the rating given by a\n",
    "user to a movie.\n",
    "\n",
    "Let's start by importing the necessary packages."
   ]
  },
  {
   "cell_type": "code",
   "execution_count": 0,
   "metadata": {
    "colab_type": "code"
   },
   "outputs": [],
   "source": [
    "import os\n",
    "\n",
    "os.environ[\"KERAS_BACKEND\"] = \"jax\"  # `\"tensorflow\"`/`\"torch\"`\n",
    "\n",
    "import keras\n",
    "import tensorflow as tf  # Needed for the dataset\n",
    "import tensorflow_datasets as tfds\n",
    "\n",
    "import keras_rs"
   ]
  },
  {
   "cell_type": "markdown",
   "metadata": {
    "colab_type": "text"
   },
   "source": [
    "## Prepare the dataset\n",
    "\n",
    "We use the MovieLens dataset. The data loading and processing steps are similar\n",
    "to previous tutorials, so we will not discuss them in details here."
   ]
  },
  {
   "cell_type": "code",
   "execution_count": 0,
   "metadata": {
    "colab_type": "code"
   },
   "outputs": [],
   "source": [
    "# Ratings data with user and movie data.\n",
    "ratings = tfds.load(\"movielens/100k-ratings\", split=\"train\")\n",
    "# Features of all the available movies.\n",
    "movies = tfds.load(\"movielens/100k-movies\", split=\"train\")"
   ]
  },
  {
   "cell_type": "markdown",
   "metadata": {
    "colab_type": "text"
   },
   "source": [
    "Get user and movie counts so that we can define embedding layers."
   ]
  },
  {
   "cell_type": "code",
   "execution_count": 0,
   "metadata": {
    "colab_type": "code"
   },
   "outputs": [],
   "source": [
    "users_count = (\n",
    "    ratings.map(lambda x: tf.strings.to_number(x[\"user_id\"], out_type=tf.int32))\n",
    "    .reduce(tf.constant(0, tf.int32), tf.maximum)\n",
    "    .numpy()\n",
    ")\n",
    "\n",
    "movies_count = movies.cardinality().numpy()"
   ]
  },
  {
   "cell_type": "markdown",
   "metadata": {
    "colab_type": "text"
   },
   "source": [
    "Our inputs are `\"user_id\"` and `\"movie_id\"`. Our label for the ranking task is\n",
    "`\"user_rating\"`. `\"user_rating\"` is an integer between 0 to 4. We constrain it\n",
    "to `[0, 1]`."
   ]
  },
  {
   "cell_type": "code",
   "execution_count": 0,
   "metadata": {
    "colab_type": "code"
   },
   "outputs": [],
   "source": [
    "\n",
    "def preprocess_rating(x):\n",
    "    return (\n",
    "        {\n",
    "            \"user_id\": tf.strings.to_number(x[\"user_id\"], out_type=tf.int32),\n",
    "            \"movie_id\": tf.strings.to_number(x[\"movie_id\"], out_type=tf.int32),\n",
    "        },\n",
    "        (x[\"user_rating\"] - 1.0) / 4.0,\n",
    "    )\n",
    "\n",
    "\n",
    "shuffled_ratings = ratings.map(preprocess_rating).shuffle(\n",
    "    100_000, seed=42, reshuffle_each_iteration=False\n",
    ")\n",
    ""
   ]
  },
  {
   "cell_type": "markdown",
   "metadata": {
    "colab_type": "text"
   },
   "source": [
    "Split the dataset into train-test sets."
   ]
  },
  {
   "cell_type": "code",
   "execution_count": 0,
   "metadata": {
    "colab_type": "code"
   },
   "outputs": [],
   "source": [
    "train_ratings = shuffled_ratings.take(80_000).batch(1000).cache()\n",
    "test_ratings = shuffled_ratings.skip(80_000).take(20_000).batch(1000).cache()"
   ]
  },
  {
   "cell_type": "markdown",
   "metadata": {
    "colab_type": "text"
   },
   "source": [
    "## Building the model\n",
    "\n",
    "We build the model in a similar way to the basic retrieval and basic ranking\n",
    "guides.\n",
    "\n",
    "For the retrieval task (i.e., predicting whether a user watched a movie),\n",
    "we compute the similarity of the corresponding user and movie embeddings, and\n",
    "use cross entropy loss, where the positive pairs are labelled one, and all other\n",
    "samples in the batch are considered \"negatives\". We report top-k accuracy for\n",
    "this task.\n",
    "\n",
    "For the ranking task (i.e., given a user-movie pair, predict rating), we\n",
    "concatenate user and movie embeddings and pass it to a dense module. We use\n",
    "MSE loss here, and report the Root Mean Squared Error (RMSE).\n",
    "\n",
    "The final loss is a weighted combination of the two losses mentioned above,\n",
    "where the weights are `\"retrieval_loss_wt\"` and `\"ranking_loss_wt\"`. These\n",
    "weights decide which task the model will focus on."
   ]
  },
  {
   "cell_type": "code",
   "execution_count": 0,
   "metadata": {
    "colab_type": "code"
   },
   "outputs": [],
   "source": [
    "\n",
    "class MultiTaskModel(keras.Model):\n",
    "    def __init__(\n",
    "        self,\n",
    "        num_users,\n",
    "        num_candidates,\n",
    "        embedding_dimension=32,\n",
    "        layer_sizes=(256, 128),\n",
    "        retrieval_loss_wt=1.0,\n",
    "        ranking_loss_wt=1.0,\n",
    "        **kwargs,\n",
    "    ):\n",
    "        super().__init__(**kwargs)\n",
    "        # Our query tower, simply an embedding table.\n",
    "        self.user_embedding = keras.layers.Embedding(num_users, embedding_dimension)\n",
    "\n",
    "        # Our candidate tower, simply an embedding table.\n",
    "        self.candidate_embedding = keras.layers.Embedding(\n",
    "            num_candidates, embedding_dimension\n",
    "        )\n",
    "\n",
    "        # Rating model.\n",
    "        self.rating_model = keras.Sequential(\n",
    "            [\n",
    "                keras.layers.Dense(layer_size, activation=\"relu\")\n",
    "                for layer_size in layer_sizes\n",
    "            ]\n",
    "            + [keras.layers.Dense(1)]\n",
    "        )\n",
    "\n",
    "        # The layer that performs the retrieval.\n",
    "        self.retrieval = keras_rs.layers.BruteForceRetrieval(k=10, return_scores=False)\n",
    "\n",
    "        self.retrieval_loss_fn = keras.losses.CategoricalCrossentropy(\n",
    "            from_logits=True,\n",
    "            reduction=\"sum\",\n",
    "        )\n",
    "        self.ranking_loss_fn = keras.losses.MeanSquaredError()\n",
    "\n",
    "        # Top-k accuracy for retrieval\n",
    "        self.top_k_metric = keras.metrics.SparseTopKCategoricalAccuracy(\n",
    "            k=10, from_sorted_ids=True\n",
    "        )\n",
    "        # RMSE for ranking\n",
    "        self.rmse_metric = keras.metrics.RootMeanSquaredError()\n",
    "\n",
    "        # Attributes.\n",
    "        self.num_users = num_users\n",
    "        self.num_candidates = num_candidates\n",
    "        self.embedding_dimension = embedding_dimension\n",
    "        self.layer_sizes = layer_sizes\n",
    "        self.retrieval_loss_wt = retrieval_loss_wt\n",
    "        self.ranking_loss_wt = ranking_loss_wt\n",
    "\n",
    "    def build(self, input_shape):\n",
    "        self.user_embedding.build(input_shape)\n",
    "        self.candidate_embedding.build(input_shape)\n",
    "        # In this case, the candidates are directly the movie embeddings.\n",
    "        # We take a shortcut and directly reuse the variable.\n",
    "        self.retrieval.candidate_embeddings = self.candidate_embedding.embeddings\n",
    "        self.retrieval.build(input_shape)\n",
    "\n",
    "        self.rating_model.build((None, 2 * self.embedding_dimension))\n",
    "\n",
    "        super().build(input_shape)\n",
    "\n",
    "    def call(self, inputs, training=False):\n",
    "        # Unpack inputs. Note that we have the if condition throughout this\n",
    "        # `call()` method so that we can do a `.predict()` for the retrieval\n",
    "        # task.\n",
    "        user_id = inputs[\"user_id\"]\n",
    "        if \"movie_id\" in inputs:\n",
    "            movie_id = inputs[\"movie_id\"]\n",
    "\n",
    "        result = {}\n",
    "\n",
    "        # Get user, movie embeddings.\n",
    "        user_embeddings = self.user_embedding(user_id)\n",
    "        result[\"user_embeddings\"] = user_embeddings\n",
    "\n",
    "        if \"movie_id\" in inputs:\n",
    "            candidate_embeddings = self.candidate_embedding(movie_id)\n",
    "            result[\"candidate_embeddings\"] = candidate_embeddings\n",
    "\n",
    "            # Pass both embeddings through the rating block of the model.\n",
    "            rating = self.rating_model(\n",
    "                keras.ops.concatenate([user_embeddings, candidate_embeddings], axis=1)\n",
    "            )\n",
    "            result[\"rating\"] = rating\n",
    "\n",
    "        if not training:\n",
    "            # Skip the retrieval of top movies during training as the\n",
    "            # predictions are not used.\n",
    "            result[\"predictions\"] = self.retrieval(user_embeddings)\n",
    "\n",
    "        return result\n",
    "\n",
    "    def compute_loss(self, x, y, y_pred, sample_weight, training=True):\n",
    "        user_embeddings = y_pred[\"user_embeddings\"]\n",
    "        candidate_embeddings = y_pred[\"candidate_embeddings\"]\n",
    "\n",
    "        # 1. Retrieval\n",
    "\n",
    "        # Compute the affinity score by multiplying the two embeddings.\n",
    "        scores = keras.ops.matmul(\n",
    "            user_embeddings,\n",
    "            keras.ops.transpose(candidate_embeddings),\n",
    "        )\n",
    "\n",
    "        # Retrieval labels: One-hot vectors\n",
    "        num_users = keras.ops.shape(user_embeddings)[0]\n",
    "        num_candidates = keras.ops.shape(candidate_embeddings)[0]\n",
    "        retrieval_labels = keras.ops.eye(num_users, num_candidates)\n",
    "        # Retrieval loss\n",
    "        retrieval_loss = self.retrieval_loss_fn(retrieval_labels, scores, sample_weight)\n",
    "\n",
    "        # 2. Ranking\n",
    "        ratings = y\n",
    "        pred_rating = y_pred[\"rating\"]\n",
    "\n",
    "        # Ranking labels are just ratings.\n",
    "        ranking_labels = keras.ops.expand_dims(ratings, -1)\n",
    "        # Ranking loss\n",
    "        ranking_loss = self.ranking_loss_fn(ranking_labels, pred_rating, sample_weight)\n",
    "\n",
    "        # Total loss is a weighted combination of the two losses.\n",
    "        total_loss = (\n",
    "            self.retrieval_loss_wt * retrieval_loss\n",
    "            + self.ranking_loss_wt * ranking_loss\n",
    "        )\n",
    "\n",
    "        return total_loss\n",
    "\n",
    "    def compute_metrics(self, x, y, y_pred, sample_weight=None):\n",
    "        # RMSE can be computed irrespective of whether we are\n",
    "        # training/evaluating.\n",
    "        self.rmse_metric.update_state(\n",
    "            y,\n",
    "            y_pred[\"rating\"],\n",
    "            sample_weight=sample_weight,\n",
    "        )\n",
    "\n",
    "        if \"predictions\" in y_pred:\n",
    "            # We are evaluating or predicting. Update `top_k_metric`.\n",
    "            movie_ids = x[\"movie_id\"]\n",
    "            predictions = y_pred[\"predictions\"]\n",
    "            # For `top_k_metric`, which is a `SparseTopKCategoricalAccuracy`, we\n",
    "            # only take top rated movies, and we put a weight of 0 for the rest.\n",
    "            rating_weight = keras.ops.cast(keras.ops.greater(y, 0.9), \"float32\")\n",
    "            sample_weight = (\n",
    "                rating_weight\n",
    "                if sample_weight is None\n",
    "                else keras.ops.multiply(rating_weight, sample_weight)\n",
    "            )\n",
    "            self.top_k_metric.update_state(\n",
    "                movie_ids, predictions, sample_weight=sample_weight\n",
    "            )\n",
    "\n",
    "            return self.get_metrics_result()\n",
    "        else:\n",
    "            # We are training. `top_k_metric` is not updated and is zero, so\n",
    "            # don't report it.\n",
    "            result = self.get_metrics_result()\n",
    "            result.pop(self.top_k_metric.name)\n",
    "            return result\n",
    ""
   ]
  },
  {
   "cell_type": "markdown",
   "metadata": {
    "colab_type": "text"
   },
   "source": [
    "## Training and evaluating\n",
    "\n",
    "We will train three different models here. This can be done easily by passing\n",
    "the correct loss weights:\n",
    "\n",
    "1. Rating-specialised model\n",
    "2. Retrieval-specialised model\n",
    "3. Multi-task model"
   ]
  },
  {
   "cell_type": "code",
   "execution_count": 0,
   "metadata": {
    "colab_type": "code"
   },
   "outputs": [],
   "source": [
    "# Rating-specialised model\n",
    "model = MultiTaskModel(\n",
    "    num_users=users_count + 1,\n",
    "    num_candidates=movies_count + 1,\n",
    "    ranking_loss_wt=1.0,\n",
    "    retrieval_loss_wt=0.0,\n",
    ")\n",
    "model.compile(optimizer=keras.optimizers.Adagrad(0.1))\n",
    "model.fit(train_ratings, epochs=5)\n",
    "\n",
    "model.evaluate(test_ratings)\n",
    "\n",
    "# Retrieval-specialised model\n",
    "model = MultiTaskModel(\n",
    "    num_users=users_count + 1,\n",
    "    num_candidates=movies_count + 1,\n",
    "    ranking_loss_wt=0.0,\n",
    "    retrieval_loss_wt=1.0,\n",
    ")\n",
    "model.compile(optimizer=keras.optimizers.Adagrad(0.1))\n",
    "model.fit(train_ratings, epochs=5)\n",
    "\n",
    "model.evaluate(test_ratings)\n",
    "\n",
    "# Multi-task model\n",
    "model = MultiTaskModel(\n",
    "    num_users=users_count + 1,\n",
    "    num_candidates=movies_count + 1,\n",
    "    ranking_loss_wt=1.0,\n",
    "    retrieval_loss_wt=1.0,\n",
    ")\n",
    "model.compile(optimizer=keras.optimizers.Adagrad(0.1))\n",
    "model.fit(train_ratings, epochs=5)\n",
    "\n",
    "model.evaluate(test_ratings)"
   ]
  },
  {
   "cell_type": "markdown",
   "metadata": {
    "colab_type": "text"
   },
   "source": [
    "Let's plot a table of the metrics and pen down our observations:\n",
    "\n",
    "| Model                 | Top-K Accuracy (\u2191) | RMSE (\u2193) |\n",
    "|-----------------------|--------------------|----------|\n",
    "| rating-specialised    | 0.005              | 0.26     |\n",
    "| retrieval-specialised | 0.020              | 0.78     |\n",
    "| multi-task            | 0.022              | 0.25     |\n",
    "\n",
    "As expected, the rating-specialised model has good RMSE, but poor top-k\n",
    "accuracy. For the retrieval-specialised model, it's the opposite.\n",
    "\n",
    "For the multi-task model, we notice that the model does well (or even slightly\n",
    "better than the two specialised models) on both tasks. In general, we can expect\n",
    "multi-task learning to bring about better results, especially when one task has\n",
    "a data-abundant source, and the other task is trained on sparse data.\n",
    "\n",
    "Now, let's make a prediction! We will first do a retrieval, and then for the\n",
    "retrieved list of movies, we will predict the rating using the same model."
   ]
  },
  {
   "cell_type": "code",
   "execution_count": 0,
   "metadata": {
    "colab_type": "code"
   },
   "outputs": [],
   "source": [
    "movie_id_to_movie_title = {\n",
    "    int(x[\"movie_id\"]): x[\"movie_title\"] for x in movies.as_numpy_iterator()\n",
    "}\n",
    "movie_id_to_movie_title[0] = \"\"  # Because id 0 is not in the dataset.\n",
    "\n",
    "user_id = 5\n",
    "retrieved_movie_ids = model.predict(\n",
    "    {\n",
    "        \"user_id\": keras.ops.array([user_id]),\n",
    "    }\n",
    ")\n",
    "retrieved_movie_ids = keras.ops.convert_to_numpy(retrieved_movie_ids[\"predictions\"][0])\n",
    "retrieved_movies = [movie_id_to_movie_title[x] for x in retrieved_movie_ids]"
   ]
  },
  {
   "cell_type": "markdown",
   "metadata": {
    "colab_type": "text"
   },
   "source": [
    "For these retrieved movies, we can now get the corresponding ratings."
   ]
  },
  {
   "cell_type": "code",
   "execution_count": 0,
   "metadata": {
    "colab_type": "code"
   },
   "outputs": [],
   "source": [
    "pred_ratings = model.predict(\n",
    "    {\n",
    "        \"user_id\": keras.ops.array([user_id] * len(retrieved_movie_ids)),\n",
    "        \"movie_id\": keras.ops.array(retrieved_movie_ids),\n",
    "    }\n",
    ")[\"rating\"]\n",
    "pred_ratings = keras.ops.convert_to_numpy(keras.ops.squeeze(pred_ratings, axis=1))\n",
    "\n",
    "for movie_id, prediction in zip(retrieved_movie_ids, pred_ratings):\n",
    "    print(f\"{movie_id_to_movie_title[movie_id]}: {5.0 * prediction:,.2f}\")"
   ]
  }
 ],
 "metadata": {
  "accelerator": "GPU",
  "colab": {
   "collapsed_sections": [],
   "name": "multi_task",
   "private_outputs": false,
   "provenance": [],
   "toc_visible": true
  },
  "kernelspec": {
   "display_name": "Python 3",
   "language": "python",
   "name": "python3"
  },
  "language_info": {
   "codemirror_mode": {
    "name": "ipython",
    "version": 3
   },
   "file_extension": ".py",
   "mimetype": "text/x-python",
   "name": "python",
   "nbconvert_exporter": "python",
   "pygments_lexer": "ipython3",
   "version": "3.7.0"
  }
 },
 "nbformat": 4,
 "nbformat_minor": 0
}