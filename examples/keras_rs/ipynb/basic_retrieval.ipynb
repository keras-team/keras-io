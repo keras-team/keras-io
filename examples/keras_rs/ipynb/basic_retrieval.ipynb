{
 "cells": [
  {
   "cell_type": "markdown",
   "metadata": {
    "colab_type": "text"
   },
   "source": [
    "# Recommending movies: retrieval\n",
    "\n",
    "**Author:** [Fabien Hertschuh](https://github.com/hertschuh/), [Abheesht Sharma](https://github.com/abheesht17/)<br>\n",
    "**Date created:** 2025/04/28<br>\n",
    "**Last modified:** 2025/04/28<br>\n",
    "**Description:** Retrieve movies using a two tower model."
   ]
  },
  {
   "cell_type": "markdown",
   "metadata": {
    "colab_type": "text"
   },
   "source": [
    "## Introduction\n",
    "\n",
    "Recommender systems are often composed of two stages:\n",
    "\n",
    "1. The retrieval stage is responsible for selecting an initial set of hundreds\n",
    "   of candidates from all possible candidates. The main objective of this model\n",
    "   is to efficiently weed out all candidates that the user is not interested in.\n",
    "   Because the retrieval model may be dealing with millions of candidates, it\n",
    "   has to be computationally efficient.\n",
    "2. The ranking stage takes the outputs of the retrieval model and fine-tunes\n",
    "   them to select the best possible handful of recommendations. Its task is to\n",
    "   narrow down the set of items the user may be interested in to a shortlist of\n",
    "   likely candidates.\n",
    "\n",
    "In this tutorial, we're going to focus on the first stage, retrieval. If you are\n",
    "interested in the ranking stage, have a look at our\n",
    "[ranking](/keras_rs/examples/basic_ranking/) tutorial.\n",
    "\n",
    "Retrieval models are often composed of two sub-models:\n",
    "\n",
    "1. A query tower computing the query representation (normally a\n",
    "   fixed-dimensionality embedding vector) using query features.\n",
    "2. A candidate tower computing the candidate representation (an equally-sized\n",
    "   vector) using the candidate features. The outputs of the two models are then\n",
    "   multiplied together to give a query-candidate affinity score, with higher\n",
    "   scores expressing a better match between the candidate and the query.\n",
    "\n",
    "In this tutorial, we're going to build and train such a two-tower model using\n",
    "the Movielens dataset.\n",
    "\n",
    "We're going to:\n",
    "\n",
    "1. Get our data and split it into a training and test set.\n",
    "2. Implement a retrieval model.\n",
    "3. Fit and evaluate it.\n",
    "4. Test running predictions with the model.\n",
    "\n",
    "### The dataset\n",
    "\n",
    "The Movielens dataset is a classic dataset from the\n",
    "[GroupLens](https://grouplens.org/datasets/movielens/) research group at the\n",
    "University of Minnesota. It contains a set of ratings given to movies by a set\n",
    "of users, and is a standard for recommender systems research.\n",
    "\n",
    "The data can be treated in two ways:\n",
    "\n",
    "1. It can be interpreted as expressesing which movies the users watched (and\n",
    "   rated), and which they did not. This is a form of implicit feedback, where\n",
    "   users' watches tell us which things they prefer to see and which they'd\n",
    "   rather not see.\n",
    "2. It can also be seen as expressesing how much the users liked the movies they\n",
    "   did watch. This is a form of explicit feedback: given that a user watched a\n",
    "   movie, we can tell how much they liked by looking at the rating they have\n",
    "   given.\n",
    "\n",
    "In this tutorial, we are focusing on a retrieval system: a model that predicts a\n",
    "set of movies from the catalogue that the user is likely to watch. For this, the\n",
    "model will try to predict the rating users would give to all the movies in the\n",
    "catalogue. We will therefore use the explicit rating data.\n",
    "\n",
    "Let's begin by choosing JAX as the backend we want to run on, and import all\n",
    "the necessary libraries."
   ]
  },
  {
   "cell_type": "code",
   "execution_count": 0,
   "metadata": {
    "colab_type": "code"
   },
   "outputs": [],
   "source": [
    "import os\n",
    "\n",
    "os.environ[\"KERAS_BACKEND\"] = \"jax\"  # `\"tensorflow\"`/`\"torch\"`\n",
    "\n",
    "import keras\n",
    "import tensorflow as tf  # Needed for the dataset\n",
    "import tensorflow_datasets as tfds\n",
    "\n",
    "import keras_rs"
   ]
  },
  {
   "cell_type": "markdown",
   "metadata": {
    "colab_type": "text"
   },
   "source": [
    "## Preparing the dataset\n",
    "\n",
    "Let's first have a look at the data.\n",
    "\n",
    "We use the MovieLens dataset from\n",
    "[Tensorflow Datasets](https://www.tensorflow.org/datasets). Loading\n",
    "`movielens/100k_ratings` yields a `tf.data.Dataset` object containing the\n",
    "ratings alongside user and movie data. Loading `movielens/100k_movies` yields a\n",
    "`tf.data.Dataset` object containing only the movies data.\n",
    "\n",
    "Note that since the MovieLens dataset does not have predefined splits, all data\n",
    "are under `train` split."
   ]
  },
  {
   "cell_type": "code",
   "execution_count": 0,
   "metadata": {
    "colab_type": "code"
   },
   "outputs": [],
   "source": [
    "# Ratings data with user and movie data.\n",
    "ratings = tfds.load(\"movielens/100k-ratings\", split=\"train\")\n",
    "# Features of all the available movies.\n",
    "movies = tfds.load(\"movielens/100k-movies\", split=\"train\")"
   ]
  },
  {
   "cell_type": "markdown",
   "metadata": {
    "colab_type": "text"
   },
   "source": [
    "The ratings dataset returns a dictionary of movie id, user id, the assigned\n",
    "rating, timestamp, movie information, and user information:"
   ]
  },
  {
   "cell_type": "code",
   "execution_count": 0,
   "metadata": {
    "colab_type": "code"
   },
   "outputs": [],
   "source": [
    "for data in ratings.take(1).as_numpy_iterator():\n",
    "    print(str(data).replace(\", '\", \",\\n '\"))"
   ]
  },
  {
   "cell_type": "markdown",
   "metadata": {
    "colab_type": "text"
   },
   "source": [
    "In the Movielens dataset, user IDs are integers (represented as strings)\n",
    "starting at 1 and with no gap. Normally, you would need to create a lookup table\n",
    "to map user IDs to integers from 0 to N-1. But as a simplication, we'll use the\n",
    "user id directly as an index in our model, in particular to lookup the user\n",
    "embedding from the user embedding table. So we need do know the number of users."
   ]
  },
  {
   "cell_type": "code",
   "execution_count": 0,
   "metadata": {
    "colab_type": "code"
   },
   "outputs": [],
   "source": [
    "users_count = (\n",
    "    ratings.map(lambda x: tf.strings.to_number(x[\"user_id\"], out_type=tf.int32))\n",
    "    .reduce(tf.constant(0, tf.int32), tf.maximum)\n",
    "    .numpy()\n",
    ")"
   ]
  },
  {
   "cell_type": "markdown",
   "metadata": {
    "colab_type": "text"
   },
   "source": [
    "The movies dataset contains the movie id, movie title, and the genres it belongs\n",
    "to. Note that the genres are encoded with integer labels."
   ]
  },
  {
   "cell_type": "code",
   "execution_count": 0,
   "metadata": {
    "colab_type": "code"
   },
   "outputs": [],
   "source": [
    "for data in movies.take(1).as_numpy_iterator():\n",
    "    print(str(data).replace(\", '\", \",\\n '\"))"
   ]
  },
  {
   "cell_type": "markdown",
   "metadata": {
    "colab_type": "text"
   },
   "source": [
    "In the Movielens dataset, movie IDs are integers (represented as strings)\n",
    "starting at 1 and with no gap. Normally, you would need to create a lookup table\n",
    "to map movie IDs to integers from 0 to N-1. But as a simplication, we'll use the\n",
    "movie id directly as an index in our model, in particular to lookup the movie\n",
    "embedding from the movie embedding table. So we need do know the number of\n",
    "movies."
   ]
  },
  {
   "cell_type": "code",
   "execution_count": 0,
   "metadata": {
    "colab_type": "code"
   },
   "outputs": [],
   "source": [
    "movies_count = movies.cardinality().numpy()"
   ]
  },
  {
   "cell_type": "markdown",
   "metadata": {
    "colab_type": "text"
   },
   "source": [
    "In this example, we're going to focus on the ratings data. Other tutorials\n",
    "explore how to use the movie information data as well as the user information to\n",
    "improve the model quality.\n",
    "\n",
    "We keep only the `user_id`, `movie_id` and `rating` fields in the dataset. Our\n",
    "input is the `user_id`. The labels are the `movie_id` alongside the `rating` for\n",
    "the given movie and user.\n",
    "\n",
    "The `rating` is a number between 1 and 5, we adapt it to be between 0 and 1."
   ]
  },
  {
   "cell_type": "code",
   "execution_count": 0,
   "metadata": {
    "colab_type": "code"
   },
   "outputs": [],
   "source": [
    "\n",
    "def preprocess_rating(x):\n",
    "    return (\n",
    "        # Input is the user IDs\n",
    "        tf.strings.to_number(x[\"user_id\"], out_type=tf.int32),\n",
    "        # Labels are movie IDs + ratings between 0 and 1.\n",
    "        {\n",
    "            \"movie_id\": tf.strings.to_number(x[\"movie_id\"], out_type=tf.int32),\n",
    "            \"rating\": (x[\"user_rating\"] - 1.0) / 4.0,\n",
    "        },\n",
    "    )\n",
    ""
   ]
  },
  {
   "cell_type": "markdown",
   "metadata": {
    "colab_type": "text"
   },
   "source": [
    "To fit and evaluate the model, we need to split it into a training and\n",
    "evaluation set. In a real recommender system, this would most likely be done by\n",
    "time: the data up to time *T* would be used to predict interactions after *T*.\n",
    "\n",
    "In this simple example, however, let's use a random split, putting 80% of the\n",
    "ratings in the train set, and 20% in the test set."
   ]
  },
  {
   "cell_type": "code",
   "execution_count": 0,
   "metadata": {
    "colab_type": "code"
   },
   "outputs": [],
   "source": [
    "shuffled_ratings = ratings.map(preprocess_rating).shuffle(\n",
    "    100_000, seed=42, reshuffle_each_iteration=False\n",
    ")\n",
    "train_ratings = shuffled_ratings.take(80_000).batch(1000).cache()\n",
    "test_ratings = shuffled_ratings.skip(80_000).take(20_000).batch(1000).cache()"
   ]
  },
  {
   "cell_type": "markdown",
   "metadata": {
    "colab_type": "text"
   },
   "source": [
    "## Implementing the Model\n",
    "\n",
    "Choosing the architecture of our model is a key part of modelling.\n",
    "\n",
    "We are building a two-tower retrieval model, therefore we need to combine a\n",
    "query tower for users and a candidate tower for movies.\n",
    "\n",
    "The first step is to decide on the dimensionality of the query and candidate\n",
    "representations. This is the `embedding_dimension` argument in our model\n",
    "constructor. We'll test with a value of `32`. Higher values will correspond to\n",
    "models that may be more accurate, but will also be slower to fit and more prone\n",
    "to overfitting.\n",
    "\n",
    "### Query and Candidate Towers\n",
    "\n",
    "The second step is to define the model itself. In this simple example, the query\n",
    "tower and candidate tower are simply embeddings with nothing else. We'll use\n",
    "Keras' `Embedding` layer.\n",
    "\n",
    "We can easily extend the towers to make them arbitrarily complex using standard\n",
    "Keras components, as long as we return an `embedding_dimension`-wide output at\n",
    "the end.\n",
    "\n",
    "### Retrieval\n",
    "\n",
    "The retrieval itself will be performed by `BruteForceRetrieval` layer from Keras\n",
    "Recommenders. This layer computes the affinity scores for the given users and\n",
    "all the candidate movies, then returns the top K in order.\n",
    "\n",
    "Note that during training, we don't actually need to perform any retrieval since\n",
    "the only affinity scores we need are the ones for the users and movies in the\n",
    "batch. As an optimization, we skip the retrieval entirely in the `call` method.\n",
    "\n",
    "### Loss\n",
    "\n",
    "The next component is the loss used to train our model. In this case, we use a\n",
    "mean square error loss to measure the difference between the predicted movie\n",
    "ratings and the actual ratins from users.\n",
    "\n",
    "Note that we override `compute_loss` from the `keras.Model` class. This allows\n",
    "us to compute the query-candidate affinity score, which is obtained by\n",
    "multiplying the outputs of the two towers together. That affinity score can then\n",
    "be passed to the loss function."
   ]
  },
  {
   "cell_type": "code",
   "execution_count": 0,
   "metadata": {
    "colab_type": "code"
   },
   "outputs": [],
   "source": [
    "\n",
    "class RetrievalModel(keras.Model):\n",
    "    \"\"\"Create the retrieval model with the provided parameters.\n",
    "\n",
    "    Args:\n",
    "      num_users: Number of entries in the user embedding table.\n",
    "      num_candidates: Number of entries in the candidate embedding table.\n",
    "      embedding_dimension: Output dimension for user and movie embedding tables.\n",
    "    \"\"\"\n",
    "\n",
    "    def __init__(\n",
    "        self,\n",
    "        num_users,\n",
    "        num_candidates,\n",
    "        embedding_dimension=32,\n",
    "        **kwargs,\n",
    "    ):\n",
    "        super().__init__(**kwargs)\n",
    "        # Our query tower, simply an embedding table.\n",
    "        self.user_embedding = keras.layers.Embedding(num_users, embedding_dimension)\n",
    "        # Our candidate tower, simply an embedding table.\n",
    "        self.candidate_embedding = keras.layers.Embedding(\n",
    "            num_candidates, embedding_dimension\n",
    "        )\n",
    "        # The layer that performs the retrieval.\n",
    "        self.retrieval = keras_rs.layers.BruteForceRetrieval(k=10, return_scores=False)\n",
    "        self.loss_fn = keras.losses.MeanSquaredError()\n",
    "\n",
    "    def build(self, input_shape):\n",
    "        self.user_embedding.build(input_shape)\n",
    "        self.candidate_embedding.build(input_shape)\n",
    "        # In this case, the candidates are directly the movie embeddings.\n",
    "        # We take a shortcut and directly reuse the variable.\n",
    "        self.retrieval.candidate_embeddings = self.candidate_embedding.embeddings\n",
    "        self.retrieval.build(input_shape)\n",
    "        super().build(input_shape)\n",
    "\n",
    "    def call(self, inputs, training=False):\n",
    "        user_embeddings = self.user_embedding(inputs)\n",
    "        result = {\n",
    "            \"user_embeddings\": user_embeddings,\n",
    "        }\n",
    "        if not training:\n",
    "            # Skip the retrieval of top movies during training as the\n",
    "            # predictions are not used.\n",
    "            result[\"predictions\"] = self.retrieval(user_embeddings)\n",
    "        return result\n",
    "\n",
    "    def compute_loss(self, x, y, y_pred, sample_weight, training=True):\n",
    "        candidate_id, rating = y[\"movie_id\"], y[\"rating\"]\n",
    "        user_embeddings = y_pred[\"user_embeddings\"]\n",
    "        candidate_embeddings = self.candidate_embedding(candidate_id)\n",
    "\n",
    "        labels = keras.ops.expand_dims(rating, -1)\n",
    "        # Compute the affinity score by multiplying the two embeddings.\n",
    "        scores = keras.ops.sum(\n",
    "            keras.ops.multiply(user_embeddings, candidate_embeddings),\n",
    "            axis=1,\n",
    "            keepdims=True,\n",
    "        )\n",
    "        return self.loss_fn(labels, scores, sample_weight)\n",
    ""
   ]
  },
  {
   "cell_type": "markdown",
   "metadata": {
    "colab_type": "text"
   },
   "source": [
    "## Fitting and evaluating\n",
    "\n",
    "After defining the model, we can use the standard Keras `model.fit()` to train\n",
    "and evaluate the model.\n",
    "\n",
    "Let's first instantiate the model. Note that we add `+ 1` to the number of users\n",
    "and movies to account for the fact that id zero is not used for either (IDs\n",
    "start at 1), but still takes a row in the embedding tables."
   ]
  },
  {
   "cell_type": "code",
   "execution_count": 0,
   "metadata": {
    "colab_type": "code"
   },
   "outputs": [],
   "source": [
    "model = RetrievalModel(users_count + 1, movies_count + 1)\n",
    "model.compile(optimizer=keras.optimizers.Adagrad(learning_rate=0.1))"
   ]
  },
  {
   "cell_type": "markdown",
   "metadata": {
    "colab_type": "text"
   },
   "source": [
    "Then train the model. Evaluation takes a bit of time, so we only evaluate the\n",
    "model every 5 epochs."
   ]
  },
  {
   "cell_type": "code",
   "execution_count": 0,
   "metadata": {
    "colab_type": "code"
   },
   "outputs": [],
   "source": [
    "history = model.fit(\n",
    "    train_ratings, validation_data=test_ratings, validation_freq=5, epochs=50\n",
    ")"
   ]
  },
  {
   "cell_type": "markdown",
   "metadata": {
    "colab_type": "text"
   },
   "source": [
    "## Making predictions\n",
    "\n",
    "Now that we have a model, we would like to be able to make predictions.\n",
    "\n",
    "So far, we have only handled movies by id. Now is the time to create a mapping\n",
    "keyed by movie IDs to be able to surface the titles."
   ]
  },
  {
   "cell_type": "code",
   "execution_count": 0,
   "metadata": {
    "colab_type": "code"
   },
   "outputs": [],
   "source": [
    "movie_id_to_movie_title = {\n",
    "    int(x[\"movie_id\"]): x[\"movie_title\"] for x in movies.as_numpy_iterator()\n",
    "}\n",
    "movie_id_to_movie_title[0] = \"\"  # Because id 0 is not in the dataset."
   ]
  },
  {
   "cell_type": "markdown",
   "metadata": {
    "colab_type": "text"
   },
   "source": [
    "We then simply use the Keras `model.predict()` method. Under the hood, it calls\n",
    "the `BruteForceRetrieval` layer to perform the actual retrieval.\n",
    "\n",
    "Note that this model can retrieve movies already watched by the user. We could\n",
    "easily add logic to remove them if that is desirable."
   ]
  },
  {
   "cell_type": "code",
   "execution_count": 0,
   "metadata": {
    "colab_type": "code"
   },
   "outputs": [],
   "source": [
    "user_id = 42\n",
    "predictions = model.predict(keras.ops.convert_to_tensor([user_id]))\n",
    "predictions = keras.ops.convert_to_numpy(predictions[\"predictions\"])\n",
    "\n",
    "print(f\"Recommended movies for user {user_id}:\")\n",
    "for movie_id in predictions[0]:\n",
    "    print(movie_id_to_movie_title[movie_id])"
   ]
  },
  {
   "cell_type": "markdown",
   "metadata": {
    "colab_type": "text"
   },
   "source": [
    "## Item-to-item recommendation\n",
    "\n",
    "In this model, we created a user-movie model. However, for some applications\n",
    "(for example, product detail pages) it's common to perform item-to-item (for\n",
    "example, movie-to-movie or product-to-product) recommendations.\n",
    "\n",
    "Training models like this would follow the same pattern as shown in this\n",
    "tutorial, but with different training data. Here, we had a user and a movie\n",
    "tower, and used (user, movie) pairs to train them. In an item-to-item model, we\n",
    "would have two item towers (for the query and candidate item), and train the\n",
    "model using (query item, candidate item) pairs. These could be constructed from\n",
    "clicks on product detail pages."
   ]
  }
 ],
 "metadata": {
  "accelerator": "GPU",
  "colab": {
   "collapsed_sections": [],
   "name": "basic_retrieval",
   "private_outputs": false,
   "provenance": [],
   "toc_visible": true
  },
  "kernelspec": {
   "display_name": "Python 3",
   "language": "python",
   "name": "python3"
  },
  "language_info": {
   "codemirror_mode": {
    "name": "ipython",
    "version": 3
   },
   "file_extension": ".py",
   "mimetype": "text/x-python",
   "name": "python",
   "nbconvert_exporter": "python",
   "pygments_lexer": "ipython3",
   "version": "3.7.0"
  }
 },
 "nbformat": 4,
 "nbformat_minor": 0
}