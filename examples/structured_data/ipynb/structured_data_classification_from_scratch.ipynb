{
 "cells": [
  {
   "cell_type": "markdown",
   "metadata": {
    "colab_type": "text"
   },
   "source": [
    "# Structured data classification from scratch\n",
    "\n",
    "**Author:** [fchollet](https://twitter.com/fchollet)<br>\n",
    "**Date created:** 2020/06/09<br>\n",
    "**Last modified:** 2020/06/09<br>\n",
    "**Description:** Binary classification of structured data including numerical and categorical features."
   ]
  },
  {
   "cell_type": "markdown",
   "metadata": {
    "colab_type": "text"
   },
   "source": [
    "## Introduction\n",
    "\n",
    "This example demonstrates how to do structured data classification, starting from a raw\n",
    "CSV file. Our data includes both numerical and categorical features. We will use Keras\n",
    "preprocessing layers to normalize the numerical features and vectorize the categorical\n",
    "ones.\n",
    "\n",
    "Note that this example should be run with TensorFlow 2.5 or higher.\n",
    "\n",
    "### The dataset\n",
    "\n",
    "[Our dataset](https://archive.ics.uci.edu/ml/datasets/heart+Disease) is provided by the\n",
    "Cleveland Clinic Foundation for Heart Disease.\n",
    "It's a CSV file with 303 rows. Each row contains information about a patient (a\n",
    "**sample**), and each column describes an attribute of the patient (a **feature**). We\n",
    "use the features to predict whether a patient has a heart disease (**binary\n",
    "classification**).\n",
    "\n",
    "Here's the description of each feature:\n",
    "\n",
    "Column| Description| Feature Type\n",
    "------------|--------------------|----------------------\n",
    "Age | Age in years | Numerical\n",
    "Sex | (1 = male; 0 = female) | Categorical\n",
    "CP | Chest pain type (0, 1, 2, 3, 4) | Categorical\n",
    "Trestbpd | Resting blood pressure (in mm Hg on admission) | Numerical\n",
    "Chol | Serum cholesterol in mg/dl | Numerical\n",
    "FBS | fasting blood sugar in 120 mg/dl (1 = true; 0 = false) | Categorical\n",
    "RestECG | Resting electrocardiogram results (0, 1, 2) | Categorical\n",
    "Thalach | Maximum heart rate achieved | Numerical\n",
    "Exang | Exercise induced angina (1 = yes; 0 = no) | Categorical\n",
    "Oldpeak | ST depression induced by exercise relative to rest | Numerical\n",
    "Slope | Slope of the peak exercise ST segment | Numerical\n",
    "CA | Number of major vessels (0-3) colored by fluoroscopy | Both numerical & categorical\n",
    "Thal | 3 = normal; 6 = fixed defect; 7 = reversible defect | Categorical\n",
    "Target | Diagnosis of heart disease (1 = true; 0 = false) | Target"
   ]
  },
  {
   "cell_type": "markdown",
   "metadata": {
    "colab_type": "text"
   },
   "source": [
    "## Setup"
   ]
  },
  {
   "cell_type": "code",
   "execution_count": 0,
   "metadata": {
    "colab_type": "code"
   },
   "outputs": [],
   "source": [
    "import os\n",
    "\n",
    "os.environ[\"KERAS_BACKEND\"] = \"torch\"  # or torch, or tensorflow\n",
    "\n",
    "import pandas as pd\n",
    "import keras\n",
    "from keras import layers"
   ]
  },
  {
   "cell_type": "markdown",
   "metadata": {
    "colab_type": "text"
   },
   "source": [
    "## Preparing the data\n",
    "\n",
    "Let's download the data and load it into a Pandas dataframe:"
   ]
  },
  {
   "cell_type": "code",
   "execution_count": 0,
   "metadata": {
    "colab_type": "code"
   },
   "outputs": [],
   "source": [
    "file_url = \"http://storage.googleapis.com/download.tensorflow.org/data/heart.csv\"\n",
    "dataframe = pd.read_csv(file_url)"
   ]
  },
  {
   "cell_type": "markdown",
   "metadata": {
    "colab_type": "text"
   },
   "source": [
    "The dataset includes 303 samples with 14 columns per sample (13 features, plus the target\n",
    "label):"
   ]
  },
  {
   "cell_type": "code",
   "execution_count": 0,
   "metadata": {
    "colab_type": "code"
   },
   "outputs": [],
   "source": [
    "dataframe.shape"
   ]
  },
  {
   "cell_type": "markdown",
   "metadata": {
    "colab_type": "text"
   },
   "source": [
    "Here's a preview of a few samples:"
   ]
  },
  {
   "cell_type": "code",
   "execution_count": 0,
   "metadata": {
    "colab_type": "code"
   },
   "outputs": [],
   "source": [
    "dataframe.head()"
   ]
  },
  {
   "cell_type": "markdown",
   "metadata": {
    "colab_type": "text"
   },
   "source": [
    "The last column, \"target\", indicates whether the patient has a heart disease (1) or not\n",
    "(0).\n",
    "\n",
    "Let's split the data into a training and validation set:"
   ]
  },
  {
   "cell_type": "code",
   "execution_count": 0,
   "metadata": {
    "colab_type": "code"
   },
   "outputs": [],
   "source": [
    "val_dataframe = dataframe.sample(frac=0.2, random_state=1337)\n",
    "train_dataframe = dataframe.drop(val_dataframe.index)\n",
    "\n",
    "print(\n",
    "    f\"Using {len(train_dataframe)} samples for training \"\n",
    "    f\"and {len(val_dataframe)} for validation\"\n",
    ")\n",
    ""
   ]
  },
  {
   "cell_type": "markdown",
   "metadata": {
    "colab_type": "text"
   },
   "source": [
    "## Define dataset metadata\n",
    "\n",
    "Here, we define the metadata of the dataset that will be useful for reading and\n",
    "parsing the data into input features, and encoding the input features with respect\n",
    "to their types."
   ]
  },
  {
   "cell_type": "code",
   "execution_count": 0,
   "metadata": {
    "colab_type": "code"
   },
   "outputs": [],
   "source": [
    "COLUMN_NAMES = [\n",
    "    \"age\",\n",
    "    \"sex\",\n",
    "    \"cp\",\n",
    "    \"trestbps\",\n",
    "    \"chol\",\n",
    "    \"fbs\",\n",
    "    \"restecg\",\n",
    "    \"thalach\",\n",
    "    \"exang\",\n",
    "    \"oldpeak\",\n",
    "    \"slope\",\n",
    "    \"ca\",\n",
    "    \"thal\",\n",
    "    \"target\",\n",
    "]\n",
    "# Target feature name.\n",
    "TARGET_FEATURE_NAME = \"target\"\n",
    "# Numeric feature names.\n",
    "NUMERIC_FEATURE_NAMES = [\"age\", \"trestbps\", \"thalach\", \"oldpeak\", \"slope\", \"chol\"]\n",
    "# Categorical features and their vocabulary lists.\n",
    "# Note that we add 'v=' as a prefix to all categorical feature values to make\n",
    "# sure that they are treated as strings.\n",
    "\n",
    "CATEGORICAL_FEATURES_WITH_VOCABULARY = {\n",
    "    feature_name: sorted(\n",
    "        [\n",
    "            # Integer categorcal must be int and string must be str\n",
    "            value if dataframe[feature_name].dtype == \"int64\" else str(value)\n",
    "            for value in list(dataframe[feature_name].unique())\n",
    "        ]\n",
    "    )\n",
    "    for feature_name in COLUMN_NAMES\n",
    "    if feature_name not in list(NUMERIC_FEATURE_NAMES + [TARGET_FEATURE_NAME])\n",
    "}\n",
    "# All features names.\n",
    "FEATURE_NAMES = NUMERIC_FEATURE_NAMES + list(\n",
    "    CATEGORICAL_FEATURES_WITH_VOCABULARY.keys()\n",
    ")\n",
    ""
   ]
  },
  {
   "cell_type": "markdown",
   "metadata": {
    "colab_type": "text"
   },
   "source": [
    "## Feature preprocessing with Keras layers\n",
    "\n",
    "\n",
    "The following features are categorical features encoded as integers:\n",
    "\n",
    "- `sex`\n",
    "- `cp`\n",
    "- `fbs`\n",
    "- `restecg`\n",
    "- `exang`\n",
    "- `ca`\n",
    "\n",
    "We will encode these features using **one-hot encoding**. We have two options\n",
    "here:\n",
    "\n",
    " - Use `CategoryEncoding()`, which requires knowing the range of input values\n",
    " and will error on input outside the range.\n",
    " - Use `IntegerLookup()` which will build a lookup table for inputs and reserve\n",
    " an output index for unkown input values.\n",
    "\n",
    "For this example, we want a simple solution that will handle out of range inputs\n",
    "at inference, so we will use `IntegerLookup()`.\n",
    "\n",
    "We also have a categorical feature encoded as a string: `thal`. We will create an\n",
    "index of all possible features and encode output using the `StringLookup()` layer.\n",
    "\n",
    "Finally, the following feature are continuous numerical features:\n",
    "\n",
    "- `age`\n",
    "- `trestbps`\n",
    "- `chol`\n",
    "- `thalach`\n",
    "- `oldpeak`\n",
    "- `slope`\n",
    "\n",
    "For each of these features, we will use a `Normalization()` layer to make sure the mean\n",
    "of each feature is 0 and its standard deviation is 1.\n",
    "\n",
    "Below, we define 2 utility functions to do the operations:\n",
    "\n",
    "- `encode_numerical_feature` to apply featurewise normalization to numerical features.\n",
    "- `process` to one-hot encode string or integer categorical features."
   ]
  },
  {
   "cell_type": "code",
   "execution_count": 0,
   "metadata": {
    "colab_type": "code"
   },
   "outputs": [],
   "source": [
    "# Tensorflow required for tf.data.Dataset\n",
    "import tensorflow as tf\n",
    "\n",
    "\n",
    "# We process our datasets elements here (categorical) and convert them to indices to avoid this step\n",
    "# during model training since only tensorflow support strings.\n",
    "def encode_categorical(features, target):\n",
    "    for feature_name in features:\n",
    "        if feature_name in CATEGORICAL_FEATURES_WITH_VOCABULARY:\n",
    "            lookup_class = (\n",
    "                layers.StringLookup\n",
    "                if features[feature_name].dtype == \"string\"\n",
    "                else layers.IntegerLookup\n",
    "            )\n",
    "            vocabulary = CATEGORICAL_FEATURES_WITH_VOCABULARY[feature_name]\n",
    "            # Create a lookup to convert a string values to an integer indices.\n",
    "            # Since we are not using a mask token nor expecting any out of vocabulary\n",
    "            # (oov) token, we set mask_token to None and  num_oov_indices to 0.\n",
    "            index = lookup_class(\n",
    "                vocabulary=vocabulary,\n",
    "                mask_token=None,\n",
    "                num_oov_indices=0,\n",
    "                output_mode=\"binary\",\n",
    "            )\n",
    "            # Convert the string input values into integer indices.\n",
    "            value_index = index(features[feature_name])\n",
    "            features[feature_name] = value_index\n",
    "\n",
    "        else:\n",
    "            pass\n",
    "\n",
    "    # Change features from OrderedDict to Dict to match Inputs as they are Dict.\n",
    "    return dict(features), target\n",
    "\n",
    "\n",
    "def encode_numerical_feature(feature, name, dataset):\n",
    "    # Create a Normalization layer for our feature\n",
    "    normalizer = layers.Normalization()\n",
    "    # Prepare a Dataset that only yields our feature\n",
    "    feature_ds = dataset.map(lambda x, y: x[name])\n",
    "    feature_ds = feature_ds.map(lambda x: tf.expand_dims(x, -1))\n",
    "    # Learn the statistics of the data\n",
    "    normalizer.adapt(feature_ds)\n",
    "    # Normalize the input feature\n",
    "    encoded_feature = normalizer(feature)\n",
    "    return encoded_feature\n",
    ""
   ]
  },
  {
   "cell_type": "markdown",
   "metadata": {
    "colab_type": "text"
   },
   "source": [
    "Let's generate `tf.data.Dataset` objects for each dataframe:"
   ]
  },
  {
   "cell_type": "code",
   "execution_count": 0,
   "metadata": {
    "colab_type": "code"
   },
   "outputs": [],
   "source": [
    "\n",
    "def dataframe_to_dataset(dataframe):\n",
    "    dataframe = dataframe.copy()\n",
    "    labels = dataframe.pop(\"target\")\n",
    "    ds = tf.data.Dataset.from_tensor_slices((dict(dataframe), labels)).map(\n",
    "        encode_categorical\n",
    "    )\n",
    "    ds = ds.shuffle(buffer_size=len(dataframe))\n",
    "    return ds\n",
    "\n",
    "\n",
    "train_ds = dataframe_to_dataset(train_dataframe)\n",
    "val_ds = dataframe_to_dataset(val_dataframe)"
   ]
  },
  {
   "cell_type": "markdown",
   "metadata": {
    "colab_type": "text"
   },
   "source": [
    "Each `Dataset` yields a tuple `(input, target)` where `input` is a dictionary of features\n",
    "and `target` is the value `0` or `1`:"
   ]
  },
  {
   "cell_type": "code",
   "execution_count": 0,
   "metadata": {
    "colab_type": "code"
   },
   "outputs": [],
   "source": [
    "for x, y in train_ds.take(1):\n",
    "    print(\"Input:\", x)\n",
    "    print(\"Target:\", y)"
   ]
  },
  {
   "cell_type": "markdown",
   "metadata": {
    "colab_type": "text"
   },
   "source": [
    "Let's batch the datasets:"
   ]
  },
  {
   "cell_type": "code",
   "execution_count": 0,
   "metadata": {
    "colab_type": "code"
   },
   "outputs": [],
   "source": [
    "train_ds = train_ds.batch(32)\n",
    "val_ds = val_ds.batch(32)\n",
    ""
   ]
  },
  {
   "cell_type": "markdown",
   "metadata": {
    "colab_type": "text"
   },
   "source": [
    "## Build a model\n",
    "\n",
    "With this done, we can create our end-to-end model:"
   ]
  },
  {
   "cell_type": "code",
   "execution_count": 0,
   "metadata": {
    "colab_type": "code"
   },
   "outputs": [],
   "source": [
    "\n",
    "# Categorical features have different shapes after the encoding, dependent on the\n",
    "# vocabulary or unique values of each feature. We create them accordinly to match the\n",
    "# input data elements generated by tf.data.Dataset after pre-processing them\n",
    "def create_model_inputs():\n",
    "    inputs = {}\n",
    "\n",
    "    # This a helper function for creating categorical features\n",
    "    def create_input_helper(feature_name):\n",
    "        num_categories = len(CATEGORICAL_FEATURES_WITH_VOCABULARY[feature_name])\n",
    "        inputs[feature_name] = layers.Input(\n",
    "            name=feature_name, shape=(num_categories,), dtype=\"int64\"\n",
    "        )\n",
    "        return inputs\n",
    "\n",
    "    for feature_name in FEATURE_NAMES:\n",
    "        if feature_name in CATEGORICAL_FEATURES_WITH_VOCABULARY:\n",
    "            # Categorical features\n",
    "            create_input_helper(feature_name)\n",
    "        else:\n",
    "            # Make them float32, they are Real numbers\n",
    "            feature_input = layers.Input(name=feature_name, shape=(1,), dtype=\"float32\")\n",
    "            # Process the Inputs here\n",
    "            inputs[feature_name] = encode_numerical_feature(\n",
    "                feature_input, feature_name, train_ds\n",
    "            )\n",
    "    return inputs\n",
    "\n",
    "\n",
    "# This Layer defines the logic of the Model to perform the classification\n",
    "class Classifier(keras.layers.Layer):\n",
    "\n",
    "    def __init__(self, **kwargs):\n",
    "        super().__init__(**kwargs)\n",
    "        self.dense_1 = layers.Dense(32, activation=\"relu\")\n",
    "        self.dropout = layers.Dropout(0.5)\n",
    "        self.dense_2 = layers.Dense(1, activation=\"sigmoid\")\n",
    "\n",
    "    def call(self, inputs):\n",
    "        all_features = layers.concatenate(list(inputs.values()))\n",
    "        x = self.dense_1(all_features)\n",
    "        x = self.dropout(x)\n",
    "        output = self.dense_2(x)\n",
    "        return output\n",
    "\n",
    "    # Surpress build warnings\n",
    "    def build(self, input_shape):\n",
    "        self.built = True\n",
    "\n",
    "\n",
    "# Create the Classifier model\n",
    "def create_model():\n",
    "    all_inputs = create_model_inputs()\n",
    "    output = Classifier()(all_inputs)\n",
    "    model = keras.Model(all_inputs, output)\n",
    "    return model\n",
    "\n",
    "\n",
    "model = create_model()\n",
    "model.compile(\"adam\", \"binary_crossentropy\", metrics=[\"accuracy\"])"
   ]
  },
  {
   "cell_type": "markdown",
   "metadata": {
    "colab_type": "text"
   },
   "source": [
    "Let's visualize our connectivity graph:"
   ]
  },
  {
   "cell_type": "code",
   "execution_count": 0,
   "metadata": {
    "colab_type": "code"
   },
   "outputs": [],
   "source": [
    "# `rankdir='LR'` is to make the graph horizontal.\n",
    "keras.utils.plot_model(model, show_shapes=True, rankdir=\"LR\")"
   ]
  },
  {
   "cell_type": "markdown",
   "metadata": {
    "colab_type": "text"
   },
   "source": [
    "## Train the model"
   ]
  },
  {
   "cell_type": "code",
   "execution_count": 0,
   "metadata": {
    "colab_type": "code"
   },
   "outputs": [],
   "source": [
    "model.fit(train_ds, epochs=50, validation_data=val_ds)\n",
    ""
   ]
  },
  {
   "cell_type": "markdown",
   "metadata": {
    "colab_type": "text"
   },
   "source": [
    "We quickly get to 80% validation accuracy."
   ]
  },
  {
   "cell_type": "markdown",
   "metadata": {
    "colab_type": "text"
   },
   "source": [
    "## Inference on new data\n",
    "\n",
    "To get a prediction for a new sample, you can simply call `model.predict()`. There are\n",
    "just two things you need to do:\n",
    "\n",
    "1. wrap scalars into a list so as to have a batch dimension (models only process batches\n",
    "of data, not single samples)\n",
    "2. Call `convert_to_tensor` on each feature"
   ]
  },
  {
   "cell_type": "code",
   "execution_count": 0,
   "metadata": {
    "colab_type": "code"
   },
   "outputs": [],
   "source": [
    "sample = {\n",
    "    \"age\": 60,\n",
    "    \"sex\": 1,\n",
    "    \"cp\": 1,\n",
    "    \"trestbps\": 145,\n",
    "    \"chol\": 233,\n",
    "    \"fbs\": 1,\n",
    "    \"restecg\": 2,\n",
    "    \"thalach\": 150,\n",
    "    \"exang\": 0,\n",
    "    \"oldpeak\": 2.3,\n",
    "    \"slope\": 3,\n",
    "    \"ca\": 0,\n",
    "    \"thal\": \"fixed\",\n",
    "}\n",
    "\n",
    "\n",
    "# Given the category (in the sample above - key) and the category value (in the sample above - value),\n",
    "# we return its one-hot encoding\n",
    "def get_cat_encoding(cat, cat_value):\n",
    "    # Create a list of zeros with the same length as categories\n",
    "    encoding = [0] * len(cat)\n",
    "    # Find the index of category_value in categories and set the corresponding position to 1\n",
    "    if cat_value in cat:\n",
    "        encoding[cat.index(cat_value)] = 1\n",
    "    return encoding\n",
    "\n",
    "\n",
    "for name, value in sample.items():\n",
    "    if name in CATEGORICAL_FEATURES_WITH_VOCABULARY:\n",
    "        sample.update(\n",
    "            {\n",
    "                name: get_cat_encoding(\n",
    "                    CATEGORICAL_FEATURES_WITH_VOCABULARY[name], sample[name]\n",
    "                )\n",
    "            }\n",
    "        )\n",
    "# Convert inputs to tensors\n",
    "input_dict = {name: tf.convert_to_tensor([value]) for name, value in sample.items()}\n",
    "predictions = model.predict(input_dict)\n",
    "\n",
    "print(\n",
    "    f\"This particular patient had a {100 * predictions[0][0]:.1f} \"\n",
    "    \"percent probability of having a heart disease, \"\n",
    "    \"as evaluated by our model.\"\n",
    ")"
   ]
  },
  {
   "cell_type": "markdown",
   "metadata": {
    "colab_type": "text"
   },
   "source": [
    "## Conclusions\n",
    "\n",
    "- The orignal model (the one that runs only on tensorflow) converges quickly to around 80% and remains\n",
    "there for extended periods and at times hits 85%\n",
    "- The updated model (the backed-agnostic) model may fluctuate between 78% and 83% and at times hitting 86%\n",
    "validation accuracy and converges around 80% also."
   ]
  }
 ],
 "metadata": {
  "accelerator": "GPU",
  "colab": {
   "collapsed_sections": [],
   "name": "structured_data_classification_from_scratch",
   "private_outputs": false,
   "provenance": [],
   "toc_visible": true
  },
  "kernelspec": {
   "display_name": "Python 3",
   "language": "python",
   "name": "python3"
  },
  "language_info": {
   "codemirror_mode": {
    "name": "ipython",
    "version": 3
   },
   "file_extension": ".py",
   "mimetype": "text/x-python",
   "name": "python",
   "nbconvert_exporter": "python",
   "pygments_lexer": "ipython3",
   "version": "3.7.0"
  }
 },
 "nbformat": 4,
 "nbformat_minor": 0
}