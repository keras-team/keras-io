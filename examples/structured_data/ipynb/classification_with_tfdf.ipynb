{
 "cells": [
  {
   "cell_type": "markdown",
   "metadata": {
    "colab_type": "text"
   },
   "source": [
    "# Classification with TensorFlow Decision Forests\n",
    "\n",
    "**Author:** [Khalid Salama](https://www.linkedin.com/in/khalid-salama-24403144/)<br>\n",
    "**Date created:** 2022/01/25<br>\n",
    "**Last modified:** 2022/01/25<br>\n",
    "**Description:** Using TensorFlow Decision Forests for structured data classification."
   ]
  },
  {
   "cell_type": "markdown",
   "metadata": {
    "colab_type": "text"
   },
   "source": [
    "## Introduction\n",
    "\n",
    "[TensorFlow Decision Forests](https://www.tensorflow.org/decision_forests)\n",
    "is a collection of state-of-the-art algorithms of Decision Forest models\n",
    "that are compatible with Keras APIs.\n",
    "The models include [Random Forests](https://www.tensorflow.org/decision_forests/api_docs/python/tfdf/keras/RandomForestModel),\n",
    "[Gradient Boosted Trees](https://www.tensorflow.org/decision_forests/api_docs/python/tfdf/keras/GradientBoostedTreesModel),\n",
    "and [CART](https://www.tensorflow.org/decision_forests/api_docs/python/tfdf/keras/CartModel),\n",
    "and can be used for regression, classification, and ranking task.\n",
    "For a beginner's guide to TensorFlow Decision Forests,\n",
    "please refer to this [tutorial](https://www.tensorflow.org/decision_forests/tutorials/beginner_colab).\n",
    "\n",
    "\n",
    "This example uses Gradient Boosted Trees model in binary classification of\n",
    "structured data, and covers the following scenarios:\n",
    "\n",
    "1. Build a decision forests model by specifying the input feature usage.\n",
    "2. Implement a custom *Binary Target encoder* as a [Keras Preprocessing layer](https://keras.io/api/layers/preprocessing_layers/)\n",
    "to encode the categorical features with respect to their target value co-occurrences,\n",
    "and then use the encoded features to build a decision forests model.\n",
    "3. Encode the categorical features as [embeddings](https://keras.io/api/layers/core_layers/embedding),\n",
    "train these embeddings in a simple NN model, and then use the\n",
    "trained embeddings as inputs to build decision forests model.\n",
    "\n",
    "This example uses TensorFlow 2.7 or higher,\n",
    "as well as [TensorFlow Decision Forests](https://www.tensorflow.org/decision_forests),\n",
    "which you can install using the following command:\n",
    "\n",
    "```python\n",
    "pip install -U tensorflow_decision_forests\n",
    "```"
   ]
  },
  {
   "cell_type": "markdown",
   "metadata": {
    "colab_type": "text"
   },
   "source": [
    "## Setup"
   ]
  },
  {
   "cell_type": "code",
   "execution_count": null,
   "metadata": {
    "colab_type": "code"
   },
   "outputs": [],
   "source": [
    "import math\n",
    "import urllib\n",
    "import numpy as np\n",
    "import pandas as pd\n",
    "import tensorflow as tf\n",
    "from tensorflow import keras\n",
    "from tensorflow.keras import layers\n",
    "import tensorflow_decision_forests as tfdf"
   ]
  },
  {
   "cell_type": "markdown",
   "metadata": {
    "colab_type": "text"
   },
   "source": [
    "## Prepare the data\n",
    "\n",
    "This example uses the\n",
    "[United States Census Income Dataset](https://archive.ics.uci.edu/ml/datasets/Census-Income+%28KDD%29)\n",
    "provided by the [UC Irvine Machine Learning Repository](https://archive.ics.uci.edu/ml/index.php).\n",
    "The task is binary classification to determine whether a person makes over 50K a year.\n",
    "\n",
    "The dataset includes ~300K instances with 41 input features: 7 numerical features\n",
    "and 34 categorical features.\n",
    "\n",
    "First we load the data from the UCI Machine Learning Repository into a Pandas DataFrame."
   ]
  },
  {
   "cell_type": "code",
   "execution_count": null,
   "metadata": {
    "colab_type": "code"
   },
   "outputs": [],
   "source": [
    "BASE_PATH = \"https://kdd.ics.uci.edu/databases/census-income/census-income\"\n",
    "CSV_HEADER = [\n",
    "    l.decode(\"utf-8\").split(\":\")[0].replace(\" \", \"_\")\n",
    "    for l in urllib.request.urlopen(f\"{BASE_PATH}.names\")\n",
    "    if not l.startswith(b\"|\")\n",
    "][2:]\n",
    "CSV_HEADER.append(\"income_level\")\n",
    "\n",
    "train_data = pd.read_csv(f\"{BASE_PATH}.data.gz\", header=None, names=CSV_HEADER,)\n",
    "test_data = pd.read_csv(f\"{BASE_PATH}.test.gz\", header=None, names=CSV_HEADER,)"
   ]
  },
  {
   "cell_type": "markdown",
   "metadata": {
    "colab_type": "text"
   },
   "source": [
    "## Define dataset metadata\n",
    "\n",
    "Here, we define the metadata of the dataset that will be useful for encoding\n",
    "the input features with respect to their types."
   ]
  },
  {
   "cell_type": "code",
   "execution_count": null,
   "metadata": {
    "colab_type": "code"
   },
   "outputs": [],
   "source": [
    "# Target column name.\n",
    "TARGET_COLUMN_NAME = \"income_level\"\n",
    "# The labels of the target columns.\n",
    "TARGET_LABELS = [\" - 50000.\", \" 50000+.\"]\n",
    "# Weight column name.\n",
    "WEIGHT_COLUMN_NAME = \"instance_weight\"\n",
    "# Numeric feature names.\n",
    "NUMERIC_FEATURE_NAMES = [\n",
    "    \"age\",\n",
    "    \"wage_per_hour\",\n",
    "    \"capital_gains\",\n",
    "    \"capital_losses\",\n",
    "    \"dividends_from_stocks\",\n",
    "    \"num_persons_worked_for_employer\",\n",
    "    \"weeks_worked_in_year\",\n",
    "]\n",
    "# Categorical features and their vocabulary lists.\n",
    "CATEGORICAL_FEATURE_NAMES = [\n",
    "    \"class_of_worker\",\n",
    "    \"detailed_industry_recode\",\n",
    "    \"detailed_occupation_recode\",\n",
    "    \"education\",\n",
    "    \"enroll_in_edu_inst_last_wk\",\n",
    "    \"marital_stat\",\n",
    "    \"major_industry_code\",\n",
    "    \"major_occupation_code\",\n",
    "    \"race\",\n",
    "    \"hispanic_origin\",\n",
    "    \"sex\",\n",
    "    \"member_of_a_labor_union\",\n",
    "    \"reason_for_unemployment\",\n",
    "    \"full_or_part_time_employment_stat\",\n",
    "    \"tax_filer_stat\",\n",
    "    \"region_of_previous_residence\",\n",
    "    \"state_of_previous_residence\",\n",
    "    \"detailed_household_and_family_stat\",\n",
    "    \"detailed_household_summary_in_household\",\n",
    "    \"migration_code-change_in_msa\",\n",
    "    \"migration_code-change_in_reg\",\n",
    "    \"migration_code-move_within_reg\",\n",
    "    \"live_in_this_house_1_year_ago\",\n",
    "    \"migration_prev_res_in_sunbelt\",\n",
    "    \"family_members_under_18\",\n",
    "    \"country_of_birth_father\",\n",
    "    \"country_of_birth_mother\",\n",
    "    \"country_of_birth_self\",\n",
    "    \"citizenship\",\n",
    "    \"own_business_or_self_employed\",\n",
    "    \"fill_inc_questionnaire_for_veteran's_admin\",\n",
    "    \"veterans_benefits\",\n",
    "    \"year\",\n",
    "]\n"
   ]
  },
  {
   "cell_type": "markdown",
   "metadata": {
    "colab_type": "text"
   },
   "source": [
    "Now we perform basic data preparation."
   ]
  },
  {
   "cell_type": "code",
   "execution_count": null,
   "metadata": {
    "colab_type": "code"
   },
   "outputs": [],
   "source": [
    "\n",
    "def prepare_dataframe(dataframe):\n",
    "    # Convert the target labels from string to integer.\n",
    "    dataframe[TARGET_COLUMN_NAME] = dataframe[TARGET_COLUMN_NAME].map(\n",
    "        TARGET_LABELS.index\n",
    "    )\n",
    "    # Cast the categorical features to string.\n",
    "    for feature_name in CATEGORICAL_FEATURE_NAMES:\n",
    "        dataframe[feature_name] = dataframe[feature_name].astype(str)\n",
    "\n",
    "\n",
    "prepare_dataframe(train_data)\n",
    "prepare_dataframe(test_data)"
   ]
  },
  {
   "cell_type": "markdown",
   "metadata": {
    "colab_type": "text"
   },
   "source": [
    "Now let's show the shapes of the training and test dataframes, and display some instances."
   ]
  },
  {
   "cell_type": "code",
   "execution_count": null,
   "metadata": {
    "colab_type": "code"
   },
   "outputs": [],
   "source": [
    "print(f\"Train data shape: {train_data.shape}\")\n",
    "print(f\"Test data shape: {test_data.shape}\")\n",
    "print(train_data.head().T)"
   ]
  },
  {
   "cell_type": "markdown",
   "metadata": {
    "colab_type": "text"
   },
   "source": [
    "## Configure hyperparameters\n",
    "\n",
    "You can find all the parameters of the Gradient Boosted Tree model in the\n",
    "[documentation](https://www.tensorflow.org/decision_forests/api_docs/python/tfdf/keras/GradientBoostedTreesModel)"
   ]
  },
  {
   "cell_type": "code",
   "execution_count": null,
   "metadata": {
    "colab_type": "code"
   },
   "outputs": [],
   "source": [
    "# Maximum number of decision trees. The effective number of trained trees can be smaller if early stopping is enabled.\n",
    "NUM_TREES = 250\n",
    "# Minimum number of examples in a node.\n",
    "MIN_EXAMPLES = 6\n",
    "# Maximum depth of the tree. max_depth=1 means that all trees will be roots.\n",
    "MAX_DEPTH = 5\n",
    "# Ratio of the dataset (sampling without replacement) used to train individual trees for the random sampling method.\n",
    "SUBSAMPLE = 0.65\n",
    "# Control the sampling of the datasets used to train individual trees.\n",
    "SAMPLING_METHOD = \"RANDOM\"\n",
    "# Ratio of the training dataset used to monitor the training. Require to be >0 if early stopping is enabled.\n",
    "VALIDATION_RATIO = 0.1"
   ]
  },
  {
   "cell_type": "markdown",
   "metadata": {
    "colab_type": "text"
   },
   "source": [
    "## Implement a training and evaluation procedure\n",
    "\n",
    "The `run_experiment()` method is responsible loading the train and test datasets,\n",
    "training a given model, and evaluating the trained model.\n",
    "\n",
    "Note that when training a Decision Forests model, only one epoch is needed to\n",
    "read the full dataset. Any extra steps will result in unnecessary slower training.\n",
    "Therefore, the default `num_epochs=1` is used in the `run_experiment()` method."
   ]
  },
  {
   "cell_type": "code",
   "execution_count": null,
   "metadata": {
    "colab_type": "code"
   },
   "outputs": [],
   "source": [
    "\n",
    "def run_experiment(model, train_data, test_data, num_epochs=1, batch_size=None):\n",
    "\n",
    "    train_dataset = tfdf.keras.pd_dataframe_to_tf_dataset(\n",
    "        train_data, label=TARGET_COLUMN_NAME, weight=WEIGHT_COLUMN_NAME\n",
    "    )\n",
    "    test_dataset = tfdf.keras.pd_dataframe_to_tf_dataset(\n",
    "        test_data, label=TARGET_COLUMN_NAME, weight=WEIGHT_COLUMN_NAME\n",
    "    )\n",
    "\n",
    "    model.fit(train_dataset, epochs=num_epochs, batch_size=batch_size)\n",
    "    _, accuracy = model.evaluate(test_dataset, verbose=0)\n",
    "    print(f\"Test accuracy: {round(accuracy * 100, 2)}%\")\n"
   ]
  },
  {
   "cell_type": "markdown",
   "metadata": {
    "colab_type": "text"
   },
   "source": [
    "## Experiment 1: Decision Forests with raw features"
   ]
  },
  {
   "cell_type": "markdown",
   "metadata": {
    "colab_type": "text"
   },
   "source": [
    "### Specify model input feature usages\n",
    "\n",
    "You can attach semantics to each feature to control how it is used by the model.\n",
    "If not specified, the semantics are inferred from the representation type.\n",
    "It is recommended to specify the [feature usages](https://www.tensorflow.org/decision_forests/api_docs/python/tfdf/keras/FeatureUsage)\n",
    "explicitly to avoid incorrect inferred semantics is incorrect.\n",
    "For example, a categorical value identifier (integer) will be be inferred as numerical,\n",
    "while it is semantically categorical.\n",
    "\n",
    "For numerical features, you can set the `discretized` parameters to the number\n",
    "of buckets by which the numerical feature should be discretized.\n",
    "This makes the training faster but may lead to worse models."
   ]
  },
  {
   "cell_type": "code",
   "execution_count": null,
   "metadata": {
    "colab_type": "code"
   },
   "outputs": [],
   "source": [
    "\n",
    "def specify_feature_usages():\n",
    "    feature_usages = []\n",
    "\n",
    "    for feature_name in NUMERIC_FEATURE_NAMES:\n",
    "        feature_usage = tfdf.keras.FeatureUsage(\n",
    "            name=feature_name, semantic=tfdf.keras.FeatureSemantic.NUMERICAL\n",
    "        )\n",
    "        feature_usages.append(feature_usage)\n",
    "\n",
    "    for feature_name in CATEGORICAL_FEATURE_NAMES:\n",
    "        feature_usage = tfdf.keras.FeatureUsage(\n",
    "            name=feature_name, semantic=tfdf.keras.FeatureSemantic.CATEGORICAL\n",
    "        )\n",
    "        feature_usages.append(feature_usage)\n",
    "\n",
    "    return feature_usages\n"
   ]
  },
  {
   "cell_type": "markdown",
   "metadata": {
    "colab_type": "text"
   },
   "source": [
    "### Create a Gradient Boosted Trees model\n",
    "\n",
    "When compiling a decision forests model, you may only provide extra evaluation metrics.\n",
    "The loss is specified in the model construction,\n",
    "and the optimizer is irrelevant to decision forests models."
   ]
  },
  {
   "cell_type": "code",
   "execution_count": null,
   "metadata": {
    "colab_type": "code"
   },
   "outputs": [],
   "source": [
    "\n",
    "def create_gbt_model():\n",
    "    # See all the model parameters in https://www.tensorflow.org/decision_forests/api_docs/python/tfdf/keras/GradientBoostedTreesModel\n",
    "    gbt_model = tfdf.keras.GradientBoostedTreesModel(\n",
    "        features=specify_feature_usages(),\n",
    "        exclude_non_specified_features=True,\n",
    "        num_trees=NUM_TREES,\n",
    "        max_depth=MAX_DEPTH,\n",
    "        min_examples=MIN_EXAMPLES,\n",
    "        subsample=SUBSAMPLE,\n",
    "        validation_ratio=VALIDATION_RATIO,\n",
    "        task=tfdf.keras.Task.CLASSIFICATION,\n",
    "    )\n",
    "\n",
    "    gbt_model.compile(metrics=[keras.metrics.BinaryAccuracy(name=\"accuracy\")])\n",
    "    return gbt_model\n"
   ]
  },
  {
   "cell_type": "markdown",
   "metadata": {
    "colab_type": "text"
   },
   "source": [
    "### Train and evaluate the model"
   ]
  },
  {
   "cell_type": "code",
   "execution_count": null,
   "metadata": {
    "colab_type": "code"
   },
   "outputs": [],
   "source": [
    "gbt_model = create_gbt_model()\n",
    "run_experiment(gbt_model, train_data, test_data)"
   ]
  },
  {
   "cell_type": "markdown",
   "metadata": {
    "colab_type": "text"
   },
   "source": [
    "### Inspect the model\n",
    "\n",
    "The `model.summary()` method will display several types of information about\n",
    "your decision trees model, model type, task, input features, and feature importance."
   ]
  },
  {
   "cell_type": "code",
   "execution_count": null,
   "metadata": {
    "colab_type": "code"
   },
   "outputs": [],
   "source": [
    "print(gbt_model.summary())"
   ]
  },
  {
   "cell_type": "markdown",
   "metadata": {
    "colab_type": "text"
   },
   "source": [
    "## Experiment 2: Decision Forests with target encoding\n",
    "\n",
    "[Target encoding](https://dl.acm.org/doi/10.1145/507533.507538) is a common preprocessing\n",
    "technique for categorical features that convert them into numerical features.\n",
    "Using categorical features with high cardinality as-is may lead to overfitting.\n",
    "Target encoding aims to replace each categorical feature value with one or more\n",
    "numerical values that represent its co-occurrence with the target labels.\n",
    "\n",
    "More precisely, given a categorical feature, the binary target encoder in this example\n",
    "will produce three new numerical features:\n",
    "\n",
    "1. `positive_frequency`: How many times each feature value occurred with a positive target label.\n",
    "2. `negative_frequency`: How many times each feature value occurred with a negative target label.\n",
    "3. `positive_probability`: The probability that the target label is positive,\n",
    "given the feature value, which is computed as\n",
    "`positive_frequency / (positive_frequency + negative_frequency + correction)`.\n",
    "The `correction` term is added in to make the division more stable for rare categorical values.\n",
    "The default value for `correction` is 1.0.\n",
    "\n",
    "\n",
    "\n",
    "Note that target encoding is effective with models that cannot automatically\n",
    "learn dense representations to categorical features, such as decision forests\n",
    "or kernel methods. If neural network models are used, its recommended to\n",
    "encode categorical features as embeddings."
   ]
  },
  {
   "cell_type": "markdown",
   "metadata": {
    "colab_type": "text"
   },
   "source": [
    "### Implement Binary Target Encoder\n",
    "\n",
    "For simplicity, we assume that the inputs for the `adapt` and `call` methods\n",
    "are in the expected data types and shapes, so no validation logic is added.\n",
    "\n",
    "It is recommended to pass the `vocabulary_size` of the categorical feature to the\n",
    "`BinaryTargetEncoding` constructor. If not specified, it will be computed during\n",
    "the `adapt()` method execution."
   ]
  },
  {
   "cell_type": "code",
   "execution_count": null,
   "metadata": {
    "colab_type": "code"
   },
   "outputs": [],
   "source": [
    "\n",
    "class BinaryTargetEncoding(layers.Layer):\n",
    "    def __init__(self, vocabulary_size=None, correction=1.0, **kwargs):\n",
    "        super().__init__(**kwargs)\n",
    "        self.vocabulary_size = vocabulary_size\n",
    "        self.correction = correction\n",
    "\n",
    "    def adapt(self, data):\n",
    "        # data is expected to be an integer numpy array to a Tensor shape [num_exmples, 2].\n",
    "        # This contains feature values for a given feature in the dataset, and target values.\n",
    "\n",
    "        # Convert the data to a tensor.\n",
    "        data = tf.convert_to_tensor(data)\n",
    "        # Separate the feature values and target values\n",
    "        feature_values = tf.cast(data[:, 0], tf.dtypes.int32)\n",
    "        target_values = tf.cast(data[:, 1], tf.dtypes.bool)\n",
    "\n",
    "        # Compute the vocabulary_size of not specified.\n",
    "        if self.vocabulary_size is None:\n",
    "            self.vocabulary_size = tf.unique(feature_values).y.shape[0]\n",
    "\n",
    "        # Filter the data where the target label is positive.\n",
    "        positive_indices = tf.where(condition=target_values)\n",
    "        positive_feature_values = tf.gather_nd(\n",
    "            params=feature_values, indices=positive_indices\n",
    "        )\n",
    "        # Compute how many times each feature value occurred with a positive target label.\n",
    "        positive_frequency = tf.math.unsorted_segment_sum(\n",
    "            data=tf.ones(\n",
    "                shape=(positive_feature_values.shape[0], 1), dtype=tf.dtypes.float64\n",
    "            ),\n",
    "            segment_ids=positive_feature_values,\n",
    "            num_segments=self.vocabulary_size,\n",
    "        )\n",
    "\n",
    "        # Filter the data where the target label is negative.\n",
    "        negative_indices = tf.where(condition=tf.math.logical_not(target_values))\n",
    "        negative_feature_values = tf.gather_nd(\n",
    "            params=feature_values, indices=negative_indices\n",
    "        )\n",
    "        # Compute how many times each feature value occurred with a negative target label.\n",
    "        negative_frequency = tf.math.unsorted_segment_sum(\n",
    "            data=tf.ones(\n",
    "                shape=(negative_feature_values.shape[0], 1), dtype=tf.dtypes.float64\n",
    "            ),\n",
    "            segment_ids=negative_feature_values,\n",
    "            num_segments=self.vocabulary_size,\n",
    "        )\n",
    "        # Compute positive probability for the input feature values.\n",
    "        positive_probability = positive_frequency / (\n",
    "            positive_frequency + negative_frequency + self.correction\n",
    "        )\n",
    "        # Concatenate the computed statistics for traget_encoding.\n",
    "        target_encoding_statistics = tf.cast(\n",
    "            tf.concat(\n",
    "                [positive_frequency, negative_frequency, positive_probability], axis=1\n",
    "            ),\n",
    "            dtype=tf.dtypes.float32,\n",
    "        )\n",
    "        self.target_encoding_statistics = tf.constant(target_encoding_statistics)\n",
    "\n",
    "    def call(self, inputs):\n",
    "        # inputs is expected to be an integer numpy array to a Tensor shape [num_exmples, 1].\n",
    "        # This includes the feature values for a given feature in the dataset.\n",
    "\n",
    "        # Raise an error if the target encoding statistics are not computed.\n",
    "        if self.target_encoding_statistics == None:\n",
    "            raise ValueError(\n",
    "                f\"You need to call the adapt method to compute target encoding statistics.\"\n",
    "            )\n",
    "\n",
    "        # Convert the inputs to a tensor.\n",
    "        inputs = tf.convert_to_tensor(inputs)\n",
    "        # Cast the inputs int64 a tensor.\n",
    "        inputs = tf.cast(inputs, tf.dtypes.int64)\n",
    "        # Lookup target encoding statistics for the input feature values.\n",
    "        target_encoding_statistics = tf.cast(\n",
    "            tf.gather_nd(self.target_encoding_statistics, inputs),\n",
    "            dtype=tf.dtypes.float32,\n",
    "        )\n",
    "        return target_encoding_statistics\n"
   ]
  },
  {
   "cell_type": "markdown",
   "metadata": {
    "colab_type": "text"
   },
   "source": [
    "Let's test the binary target encoder"
   ]
  },
  {
   "cell_type": "code",
   "execution_count": null,
   "metadata": {
    "colab_type": "code"
   },
   "outputs": [],
   "source": [
    "data = tf.constant(\n",
    "    [\n",
    "        [0, 1],\n",
    "        [2, 0],\n",
    "        [0, 1],\n",
    "        [1, 1],\n",
    "        [1, 1],\n",
    "        [2, 0],\n",
    "        [1, 0],\n",
    "        [0, 1],\n",
    "        [2, 1],\n",
    "        [1, 0],\n",
    "        [0, 1],\n",
    "        [2, 0],\n",
    "        [0, 1],\n",
    "        [1, 1],\n",
    "        [1, 1],\n",
    "        [2, 0],\n",
    "        [1, 0],\n",
    "        [0, 1],\n",
    "        [2, 0],\n",
    "    ]\n",
    ")\n",
    "\n",
    "binary_target_encoder = BinaryTargetEncoding()\n",
    "binary_target_encoder.adapt(data)\n",
    "print(binary_target_encoder([[0], [1], [2]]))"
   ]
  },
  {
   "cell_type": "markdown",
   "metadata": {
    "colab_type": "text"
   },
   "source": [
    "### Create model inputs"
   ]
  },
  {
   "cell_type": "code",
   "execution_count": null,
   "metadata": {
    "colab_type": "code"
   },
   "outputs": [],
   "source": [
    "\n",
    "def create_model_inputs():\n",
    "    inputs = {}\n",
    "\n",
    "    for feature_name in NUMERIC_FEATURE_NAMES:\n",
    "        inputs[feature_name] = layers.Input(\n",
    "            name=feature_name, shape=(), dtype=tf.float32\n",
    "        )\n",
    "\n",
    "    for feature_name in CATEGORICAL_FEATURE_NAMES:\n",
    "        inputs[feature_name] = layers.Input(\n",
    "            name=feature_name, shape=(), dtype=tf.string\n",
    "        )\n",
    "\n",
    "    return inputs\n"
   ]
  },
  {
   "cell_type": "markdown",
   "metadata": {
    "colab_type": "text"
   },
   "source": [
    "### Implement a feature encoding with target encoding"
   ]
  },
  {
   "cell_type": "code",
   "execution_count": null,
   "metadata": {
    "colab_type": "code"
   },
   "outputs": [],
   "source": [
    "\n",
    "def create_target_encoder():\n",
    "    inputs = create_model_inputs()\n",
    "    target_values = train_data[[TARGET_COLUMN_NAME]].to_numpy()\n",
    "    encoded_features = []\n",
    "    for feature_name in inputs:\n",
    "        if feature_name in CATEGORICAL_FEATURE_NAMES:\n",
    "            # Get the vocabulary of the categorical feature.\n",
    "            vocabulary = sorted(\n",
    "                [str(value) for value in list(train_data[feature_name].unique())]\n",
    "            )\n",
    "            # Create a lookup to convert string values to an integer indices.\n",
    "            # Since we are not using a mask token nor expecting any out of vocabulary\n",
    "            # (oov) token, we set mask_token to None and  num_oov_indices to 0.\n",
    "            lookup = layers.StringLookup(\n",
    "                vocabulary=vocabulary, mask_token=None, num_oov_indices=0\n",
    "            )\n",
    "            # Convert the string input values into integer indices.\n",
    "            value_indices = lookup(inputs[feature_name])\n",
    "            # Prepare the data to adapt the target encoding.\n",
    "            print(\"### Adapting target encoding for:\", feature_name)\n",
    "            feature_values = train_data[[feature_name]].to_numpy().astype(str)\n",
    "            feature_value_indices = lookup(feature_values)\n",
    "            data = tf.concat([feature_value_indices, target_values], axis=1)\n",
    "            feature_encoder = BinaryTargetEncoding()\n",
    "            feature_encoder.adapt(data)\n",
    "            # Convert the feature value indices to target encoding representations.\n",
    "            encoded_feature = feature_encoder(tf.expand_dims(value_indices, -1))\n",
    "        else:\n",
    "            # Expand the dimensions of the numerical input feature and use it as-is.\n",
    "            encoded_feature = tf.expand_dims(inputs[feature_name], -1)\n",
    "        # Add the encoded feature to the list.\n",
    "        encoded_features.append(encoded_feature)\n",
    "    # Concatenate all the encoded features.\n",
    "    encoded_features = tf.concat(encoded_features, axis=1)\n",
    "    # Create and return a Keras model with encoded features as outputs.\n",
    "    return keras.Model(inputs=inputs, outputs=encoded_features)\n"
   ]
  },
  {
   "cell_type": "markdown",
   "metadata": {
    "colab_type": "text"
   },
   "source": [
    "### Create a Gradient Boosted Trees model with a preprocessor\n",
    "\n",
    "In this scenario, we use the target encoding as a preprocessor for the Gradient Boosted Tree model,\n",
    "and let the model infer semantics of the input features."
   ]
  },
  {
   "cell_type": "code",
   "execution_count": null,
   "metadata": {
    "colab_type": "code"
   },
   "outputs": [],
   "source": [
    "\n",
    "def create_gbt_with_preprocessor(preprocessor):\n",
    "\n",
    "    gbt_model = tfdf.keras.GradientBoostedTreesModel(\n",
    "        preprocessing=preprocessor,\n",
    "        num_trees=NUM_TREES,\n",
    "        max_depth=MAX_DEPTH,\n",
    "        min_examples=MIN_EXAMPLES,\n",
    "        subsample=SUBSAMPLE,\n",
    "        validation_ratio=VALIDATION_RATIO,\n",
    "        task=tfdf.keras.Task.CLASSIFICATION,\n",
    "    )\n",
    "\n",
    "    gbt_model.compile(metrics=[keras.metrics.BinaryAccuracy(name=\"accuracy\")])\n",
    "\n",
    "    return gbt_model\n"
   ]
  },
  {
   "cell_type": "markdown",
   "metadata": {
    "colab_type": "text"
   },
   "source": [
    "### Train and evaluate the model"
   ]
  },
  {
   "cell_type": "code",
   "execution_count": null,
   "metadata": {
    "colab_type": "code"
   },
   "outputs": [],
   "source": [
    "gbt_model = create_gbt_with_preprocessor(create_target_encoder())\n",
    "run_experiment(gbt_model, train_data, test_data)"
   ]
  },
  {
   "cell_type": "markdown",
   "metadata": {
    "colab_type": "text"
   },
   "source": [
    "## Experiment 3: Decision Forests with trained embeddings\n",
    "\n",
    "In this scenario, we build an encoder model that codes the categorical\n",
    "features to embeddings, where the size of the embedding for a given categorical\n",
    "feature is the square root to the size of its vocabulary.\n",
    "\n",
    "We train these embeddings in a simple NN model through backpropagation.\n",
    "After the embedding encoder is trained, we used it as a preprocessor to the\n",
    "input features of a Gradient Boosted Tree model.\n",
    "\n",
    "Note that the embeddings and a decision forest model cannot be trained\n",
    "synergically in one phase, since decision forest models do not train with backpropagation.\n",
    "Rather, embeddings has to be trained in an initial phase,\n",
    "and then used as static inputs to the decision forest model."
   ]
  },
  {
   "cell_type": "markdown",
   "metadata": {
    "colab_type": "text"
   },
   "source": [
    "### Implement feature encoding with embeddings"
   ]
  },
  {
   "cell_type": "code",
   "execution_count": null,
   "metadata": {
    "colab_type": "code"
   },
   "outputs": [],
   "source": [
    "\n",
    "def create_embedding_encoder(size=None):\n",
    "    inputs = create_model_inputs()\n",
    "    encoded_features = []\n",
    "    for feature_name in inputs:\n",
    "        if feature_name in CATEGORICAL_FEATURE_NAMES:\n",
    "            # Get the vocabulary of the categorical feature.\n",
    "            vocabulary = sorted(\n",
    "                [str(value) for value in list(train_data[feature_name].unique())]\n",
    "            )\n",
    "            # Create a lookup to convert string values to an integer indices.\n",
    "            # Since we are not using a mask token nor expecting any out of vocabulary\n",
    "            # (oov) token, we set mask_token to None and  num_oov_indices to 0.\n",
    "            lookup = layers.StringLookup(\n",
    "                vocabulary=vocabulary, mask_token=None, num_oov_indices=0\n",
    "            )\n",
    "            # Convert the string input values into integer indices.\n",
    "            value_index = lookup(inputs[feature_name])\n",
    "            # Create an embedding layer with the specified dimensions\n",
    "            vocabulary_size = len(vocabulary)\n",
    "            embedding_size = int(math.sqrt(vocabulary_size))\n",
    "            feature_encoder = layers.Embedding(\n",
    "                input_dim=len(vocabulary), output_dim=embedding_size\n",
    "            )\n",
    "            # Convert the index values to embedding representations.\n",
    "            encoded_feature = feature_encoder(value_index)\n",
    "        else:\n",
    "            # Expand the dimensions of the numerical input feature and use it as-is.\n",
    "            encoded_feature = tf.expand_dims(inputs[feature_name], -1)\n",
    "        # Add the encoded feature to the list.\n",
    "        encoded_features.append(encoded_feature)\n",
    "    # Concatenate all the encoded features.\n",
    "    encoded_features = layers.concatenate(encoded_features, axis=1)\n",
    "    # Apply dropout.\n",
    "    encoded_features = layers.Dropout(rate=0.25)(encoded_features)\n",
    "    # Perform non-linearity projection.\n",
    "    encoded_features = layers.Dense(\n",
    "        units=size if size else encoded_features.shape[-1], activation=\"gelu\"\n",
    "    )(encoded_features)\n",
    "    # Create and return a Keras model with encoded features as outputs.\n",
    "    return keras.Model(inputs=inputs, outputs=encoded_features)\n"
   ]
  },
  {
   "cell_type": "markdown",
   "metadata": {
    "colab_type": "text"
   },
   "source": [
    "### Build an NN model to train the embeddings"
   ]
  },
  {
   "cell_type": "code",
   "execution_count": null,
   "metadata": {
    "colab_type": "code"
   },
   "outputs": [],
   "source": [
    "\n",
    "def create_nn_model(encoder):\n",
    "    inputs = create_model_inputs()\n",
    "    embeddings = encoder(inputs)\n",
    "    output = layers.Dense(units=1, activation=\"sigmoid\")(embeddings)\n",
    "\n",
    "    nn_model = keras.Model(inputs=inputs, outputs=output)\n",
    "    nn_model.compile(\n",
    "        optimizer=keras.optimizers.Adam(),\n",
    "        loss=keras.losses.BinaryCrossentropy(),\n",
    "        metrics=[keras.metrics.BinaryAccuracy(\"accuracy\")],\n",
    "    )\n",
    "    return nn_model\n",
    "\n",
    "\n",
    "embedding_encoder = create_embedding_encoder(size=64)\n",
    "run_experiment(\n",
    "    create_nn_model(embedding_encoder),\n",
    "    train_data,\n",
    "    test_data,\n",
    "    num_epochs=5,\n",
    "    batch_size=256,\n",
    ")"
   ]
  },
  {
   "cell_type": "markdown",
   "metadata": {
    "colab_type": "text"
   },
   "source": [
    "### Train and evaluate a Gradient Boosted Tree model with embeddings"
   ]
  },
  {
   "cell_type": "code",
   "execution_count": null,
   "metadata": {
    "colab_type": "code"
   },
   "outputs": [],
   "source": [
    "gbt_model = create_gbt_with_preprocessor(embedding_encoder)\n",
    "run_experiment(gbt_model, train_data, test_data)"
   ]
  },
  {
   "cell_type": "markdown",
   "metadata": {
    "colab_type": "text"
   },
   "source": [
    "## Concluding remarks\n",
    "\n",
    "TensorFlow Decision Forests provide powerful models, especially with structured data.\n",
    "In our experiments, the Gradient Boosted Tree model achieved 95.79% test accuracy.\n",
    "When using the target encoding with categorical feature, the same model achieved 95.81% test accuracy.\n",
    "When pretraining embeddings to be used as inputs to the Gradient Boosted Tree model,\n",
    "we achieved 95.82% test accuracy.\n",
    "\n",
    "Decision Forests can be used with Neural Networks, either by\n",
    "1) using Neural Networks to learn useful representation of the input data,\n",
    "and then using Decision Forests for the supervised learning task, or by\n",
    "2) creating an ensemble of both Decision Forests and Neural Network models.\n",
    "\n",
    "Note that TensorFlow Decision Forests does not (yet) support hardware accelerators.\n",
    "All training and inference is done on the CPU.\n",
    "Besides, Decision Forests require a finite dataset that fits in memory\n",
    "for their training procedures. However, there are diminishing returns\n",
    "for increasing the size of the dataset, and Decision Forests algorithms\n",
    "arguably need fewer examples for convergence than large Neural Network models."
   ]
  }
 ],
 "metadata": {
  "accelerator": "GPU",
  "colab": {
   "collapsed_sections": [],
   "name": "classification_with_tfdf",
   "private_outputs": false,
   "provenance": [],
   "toc_visible": true
  },
  "kernelspec": {
   "display_name": "Python 3",
   "language": "python",
   "name": "python3"
  },
  "language_info": {
   "codemirror_mode": {
    "name": "ipython",
    "version": 3
   },
   "file_extension": ".py",
   "mimetype": "text/x-python",
   "name": "python",
   "nbconvert_exporter": "python",
   "pygments_lexer": "ipython3",
   "version": "3.7.0"
  }
 },
 "nbformat": 4,
 "nbformat_minor": 0
}
