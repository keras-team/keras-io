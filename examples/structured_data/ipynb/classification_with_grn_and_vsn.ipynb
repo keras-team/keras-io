{
 "cells": [
  {
   "cell_type": "markdown",
   "metadata": {
    "colab_type": "text"
   },
   "source": [
    "# Classification with Gated Residual and Variable Selection Networks\n",
    "\n",
    "**Author:** [Khalid Salama](https://www.linkedin.com/in/khalid-salama-24403144/)<br>\n",
    "**Date created:** 2021/02/10<br>\n",
    "**Last modified:** 2025/01/08<br>\n",
    "**Description:** Using Gated Residual and Variable Selection Networks for income level prediction."
   ]
  },
  {
   "cell_type": "markdown",
   "metadata": {
    "colab_type": "text"
   },
   "source": [
    "## Introduction\n",
    "\n",
    "This example demonstrates the use of Gated\n",
    "Residual Networks (GRN) and Variable Selection Networks (VSN), proposed by\n",
    "Bryan Lim et al. in\n",
    "[Temporal Fusion Transformers (TFT) for Interpretable Multi-horizon Time Series Forecasting](https://arxiv.org/abs/1912.09363),\n",
    "for structured data classification. GRNs give the flexibility to the model to apply\n",
    "non-linear processing only where needed. VSNs allow the model to softly remove any\n",
    "unnecessary noisy inputs which could negatively impact performance.\n",
    "Together, those techniques help improving the learning capacity of deep neural\n",
    "network models.\n",
    "\n",
    "Note that this example implements only the GRN and VSN components described in\n",
    "in the paper, rather than the whole TFT model, as GRN and VSN can be useful on\n",
    "their own for structured data learning tasks.\n",
    "\n",
    "\n",
    "To run the code you need to use TensorFlow 2.3 or higher."
   ]
  },
  {
   "cell_type": "markdown",
   "metadata": {
    "colab_type": "text"
   },
   "source": [
    "## The dataset\n",
    "\n",
    "This example uses the\n",
    "[United States Census Income Dataset](https://archive.ics.uci.edu/ml/datasets/Census-Income+%28KDD%29)\n",
    "provided by the\n",
    "[UC Irvine Machine Learning Repository](https://archive.ics.uci.edu/ml/index.php).\n",
    "The task is binary classification to determine whether a person makes over 50K a year.\n",
    "\n",
    "The dataset includes ~300K instances with 41 input features: 7 numerical features\n",
    "and 34 categorical features."
   ]
  },
  {
   "cell_type": "markdown",
   "metadata": {
    "colab_type": "text"
   },
   "source": [
    "## Setup"
   ]
  },
  {
   "cell_type": "code",
   "execution_count": 0,
   "metadata": {
    "colab_type": "code"
   },
   "outputs": [],
   "source": [
    "import os\n",
    "import subprocess\n",
    "import tarfile\n",
    "\n",
    "os.environ[\"KERAS_BACKEND\"] = \"torch\"  # or jax, or tensorflow\n",
    "\n",
    "import numpy as np\n",
    "import pandas as pd\n",
    "import keras\n",
    "from keras import layers"
   ]
  },
  {
   "cell_type": "markdown",
   "metadata": {
    "colab_type": "text"
   },
   "source": [
    "## Prepare the data\n",
    "\n",
    "First we load the data from the UCI Machine Learning Repository into a Pandas DataFrame."
   ]
  },
  {
   "cell_type": "code",
   "execution_count": 0,
   "metadata": {
    "colab_type": "code"
   },
   "outputs": [],
   "source": [
    "# Column names.\n",
    "CSV_HEADER = [\n",
    "    \"age\",\n",
    "    \"class_of_worker\",\n",
    "    \"detailed_industry_recode\",\n",
    "    \"detailed_occupation_recode\",\n",
    "    \"education\",\n",
    "    \"wage_per_hour\",\n",
    "    \"enroll_in_edu_inst_last_wk\",\n",
    "    \"marital_stat\",\n",
    "    \"major_industry_code\",\n",
    "    \"major_occupation_code\",\n",
    "    \"race\",\n",
    "    \"hispanic_origin\",\n",
    "    \"sex\",\n",
    "    \"member_of_a_labor_union\",\n",
    "    \"reason_for_unemployment\",\n",
    "    \"full_or_part_time_employment_stat\",\n",
    "    \"capital_gains\",\n",
    "    \"capital_losses\",\n",
    "    \"dividends_from_stocks\",\n",
    "    \"tax_filer_stat\",\n",
    "    \"region_of_previous_residence\",\n",
    "    \"state_of_previous_residence\",\n",
    "    \"detailed_household_and_family_stat\",\n",
    "    \"detailed_household_summary_in_household\",\n",
    "    \"instance_weight\",\n",
    "    \"migration_code-change_in_msa\",\n",
    "    \"migration_code-change_in_reg\",\n",
    "    \"migration_code-move_within_reg\",\n",
    "    \"live_in_this_house_1_year_ago\",\n",
    "    \"migration_prev_res_in_sunbelt\",\n",
    "    \"num_persons_worked_for_employer\",\n",
    "    \"family_members_under_18\",\n",
    "    \"country_of_birth_father\",\n",
    "    \"country_of_birth_mother\",\n",
    "    \"country_of_birth_self\",\n",
    "    \"citizenship\",\n",
    "    \"own_business_or_self_employed\",\n",
    "    \"fill_inc_questionnaire_for_veterans_admin\",\n",
    "    \"veterans_benefits\",\n",
    "    \"weeks_worked_in_year\",\n",
    "    \"year\",\n",
    "    \"income_level\",\n",
    "]\n",
    "\n",
    "data_url = \"https://archive.ics.uci.edu/static/public/117/census+income+kdd.zip\"\n",
    "keras.utils.get_file(origin=data_url, extract=True)"
   ]
  },
  {
   "cell_type": "markdown",
   "metadata": {
    "colab_type": "text"
   },
   "source": [
    "Determine the downloaded .tar.gz file path and\n",
    "extract the files from the downloaded .tar.gz file"
   ]
  },
  {
   "cell_type": "code",
   "execution_count": 0,
   "metadata": {
    "colab_type": "code"
   },
   "outputs": [],
   "source": [
    "extracted_path = os.path.join(\n",
    "    os.path.expanduser(\"~\"), \".keras\", \"datasets\", \"census+income+kdd.zip\"\n",
    ")\n",
    "for root, dirs, files in os.walk(extracted_path):\n",
    "    for file in files:\n",
    "        if file.endswith(\".tar.gz\"):\n",
    "            tar_gz_path = os.path.join(root, file)\n",
    "            with tarfile.open(tar_gz_path, \"r:gz\") as tar:\n",
    "                tar.extractall(path=root)\n",
    "\n",
    "train_data_path = os.path.join(\n",
    "    os.path.expanduser(\"~\"),\n",
    "    \".keras\",\n",
    "    \"datasets\",\n",
    "    \"census+income+kdd.zip\",\n",
    "    \"census-income.data\",\n",
    ")\n",
    "test_data_path = os.path.join(\n",
    "    os.path.expanduser(\"~\"),\n",
    "    \".keras\",\n",
    "    \"datasets\",\n",
    "    \"census+income+kdd.zip\",\n",
    "    \"census-income.test\",\n",
    ")\n",
    "\n",
    "data = pd.read_csv(train_data_path, header=None, names=CSV_HEADER)\n",
    "test_data = pd.read_csv(test_data_path, header=None, names=CSV_HEADER)\n",
    "\n",
    "print(f\"Data shape: {data.shape}\")\n",
    "print(f\"Test data shape: {test_data.shape}\")\n",
    ""
   ]
  },
  {
   "cell_type": "markdown",
   "metadata": {
    "colab_type": "text"
   },
   "source": [
    "We convert the target column from string to integer."
   ]
  },
  {
   "cell_type": "code",
   "execution_count": 0,
   "metadata": {
    "colab_type": "code"
   },
   "outputs": [],
   "source": [
    "data[\"income_level\"] = data[\"income_level\"].apply(\n",
    "    lambda x: 0 if x == \" - 50000.\" else 1\n",
    ")\n",
    "test_data[\"income_level\"] = test_data[\"income_level\"].apply(\n",
    "    lambda x: 0 if x == \" - 50000.\" else 1\n",
    ")\n",
    ""
   ]
  },
  {
   "cell_type": "markdown",
   "metadata": {
    "colab_type": "text"
   },
   "source": [
    "Then, We split the dataset into train and validation sets."
   ]
  },
  {
   "cell_type": "code",
   "execution_count": 0,
   "metadata": {
    "colab_type": "code"
   },
   "outputs": [],
   "source": [
    "random_selection = np.random.rand(len(data.index)) <= 0.85\n",
    "train_data = data[random_selection]\n",
    "valid_data = data[~random_selection]\n",
    ""
   ]
  },
  {
   "cell_type": "markdown",
   "metadata": {
    "colab_type": "text"
   },
   "source": [
    "Finally we store the train and test data splits locally to CSV files."
   ]
  },
  {
   "cell_type": "code",
   "execution_count": 0,
   "metadata": {
    "colab_type": "code"
   },
   "outputs": [],
   "source": [
    "train_data_file = \"train_data.csv\"\n",
    "valid_data_file = \"valid_data.csv\"\n",
    "test_data_file = \"test_data.csv\"\n",
    "\n",
    "train_data.to_csv(train_data_file, index=False, header=False)\n",
    "valid_data.to_csv(valid_data_file, index=False, header=False)\n",
    "test_data.to_csv(test_data_file, index=False, header=False)"
   ]
  },
  {
   "cell_type": "markdown",
   "metadata": {
    "colab_type": "text"
   },
   "source": [
    "## Define dataset metadata\n",
    "\n",
    "Here, we define the metadata of the dataset that will be useful for reading and\n",
    "parsing the data into input features, and encoding the input features with respect\n",
    "to their types."
   ]
  },
  {
   "cell_type": "code",
   "execution_count": 0,
   "metadata": {
    "colab_type": "code"
   },
   "outputs": [],
   "source": [
    "# Target feature name.\n",
    "TARGET_FEATURE_NAME = \"income_level\"\n",
    "# Weight column name.\n",
    "WEIGHT_COLUMN_NAME = \"instance_weight\"\n",
    "# Numeric feature names.\n",
    "NUMERIC_FEATURE_NAMES = [\n",
    "    \"age\",\n",
    "    \"wage_per_hour\",\n",
    "    \"capital_gains\",\n",
    "    \"capital_losses\",\n",
    "    \"dividends_from_stocks\",\n",
    "    \"num_persons_worked_for_employer\",\n",
    "    \"weeks_worked_in_year\",\n",
    "]\n",
    "# Categorical features and their vocabulary lists.\n",
    "# Note that we add 'v=' as a prefix to all categorical feature values to make\n",
    "# sure that they are treated as strings.\n",
    "CATEGORICAL_FEATURES_WITH_VOCABULARY = {\n",
    "    feature_name: sorted([str(value) for value in list(data[feature_name].unique())])\n",
    "    for feature_name in CSV_HEADER\n",
    "    if feature_name\n",
    "    not in list(NUMERIC_FEATURE_NAMES + [WEIGHT_COLUMN_NAME, TARGET_FEATURE_NAME])\n",
    "}\n",
    "# All features names.\n",
    "FEATURE_NAMES = NUMERIC_FEATURE_NAMES + list(\n",
    "    CATEGORICAL_FEATURES_WITH_VOCABULARY.keys()\n",
    ")\n",
    "# Feature default values.\n",
    "COLUMN_DEFAULTS = [\n",
    "    (\n",
    "        [0.0]\n",
    "        if feature_name\n",
    "        in NUMERIC_FEATURE_NAMES + [TARGET_FEATURE_NAME, WEIGHT_COLUMN_NAME]\n",
    "        else [\"NA\"]\n",
    "    )\n",
    "    for feature_name in CSV_HEADER\n",
    "]"
   ]
  },
  {
   "cell_type": "markdown",
   "metadata": {
    "colab_type": "text"
   },
   "source": [
    "## Create a `tf.data.Dataset` for training and evaluation\n",
    "\n",
    "We create an input function to read and parse the file, and convert features and\n",
    "labels into a [`tf.data.Dataset`](https://www.tensorflow.org/guide/datasets) for\n",
    "training and evaluation."
   ]
  },
  {
   "cell_type": "code",
   "execution_count": 0,
   "metadata": {
    "colab_type": "code"
   },
   "outputs": [],
   "source": [
    "# Tensorflow required for tf.data.Datasets\n",
    "import tensorflow as tf\n",
    "\n",
    "\n",
    "# We process our datasets elements here (categorical) and convert them to indices to avoid this step\n",
    "# during model training since only tensorflow support strings.\n",
    "def process(features, target):\n",
    "    for feature_name in features:\n",
    "        if feature_name in CATEGORICAL_FEATURES_WITH_VOCABULARY:\n",
    "            # Cast categorical feature values to string.\n",
    "            features[feature_name] = tf.cast(features[feature_name], \"string\")\n",
    "            vocabulary = CATEGORICAL_FEATURES_WITH_VOCABULARY[feature_name]\n",
    "            # Create a lookup to convert a string values to an integer indices.\n",
    "            # Since we are not using a mask token nor expecting any out of vocabulary\n",
    "            # (oov) token, we set mask_token to None and  num_oov_indices to 0.\n",
    "            index = layers.StringLookup(\n",
    "                vocabulary=vocabulary,\n",
    "                mask_token=None,\n",
    "                num_oov_indices=0,\n",
    "                output_mode=\"int\",\n",
    "            )\n",
    "            # Convert the string input values into integer indices.\n",
    "            value_index = index(features[feature_name])\n",
    "            features[feature_name] = value_index\n",
    "        else:\n",
    "            # Do nothing for numerical features\n",
    "            pass\n",
    "\n",
    "    # Get the instance weight.\n",
    "    weight = features.pop(WEIGHT_COLUMN_NAME)\n",
    "    # Change features from OrderedDict to Dict to match Inputs as they are Dict.\n",
    "    return dict(features), target, weight\n",
    "\n",
    "\n",
    "def get_dataset_from_csv(csv_file_path, shuffle=False, batch_size=128):\n",
    "    dataset = tf.data.experimental.make_csv_dataset(\n",
    "        csv_file_path,\n",
    "        batch_size=batch_size,\n",
    "        column_names=CSV_HEADER,\n",
    "        column_defaults=COLUMN_DEFAULTS,\n",
    "        label_name=TARGET_FEATURE_NAME,\n",
    "        num_epochs=1,\n",
    "        header=False,\n",
    "        shuffle=shuffle,\n",
    "    ).map(process)\n",
    "\n",
    "    return dataset\n",
    ""
   ]
  },
  {
   "cell_type": "markdown",
   "metadata": {
    "colab_type": "text"
   },
   "source": [
    "## Create model inputs"
   ]
  },
  {
   "cell_type": "code",
   "execution_count": 0,
   "metadata": {
    "colab_type": "code"
   },
   "outputs": [],
   "source": [
    "\n",
    "def create_model_inputs():\n",
    "    inputs = {}\n",
    "    for feature_name in FEATURE_NAMES:\n",
    "        if feature_name in CATEGORICAL_FEATURES_WITH_VOCABULARY:\n",
    "            # Make them int64, they are Categorical (whole units)\n",
    "            inputs[feature_name] = layers.Input(\n",
    "                name=feature_name, shape=(), dtype=\"int64\"\n",
    "            )\n",
    "        else:\n",
    "            # Make them float32, they are Real numbers\n",
    "            inputs[feature_name] = layers.Input(\n",
    "                name=feature_name, shape=(), dtype=\"float32\"\n",
    "            )\n",
    "    return inputs\n",
    ""
   ]
  },
  {
   "cell_type": "markdown",
   "metadata": {
    "colab_type": "text"
   },
   "source": [
    "## Implement the Gated Linear Unit\n",
    "\n",
    "[Gated Linear Units (GLUs)](https://arxiv.org/abs/1612.08083) provide the\n",
    "flexibility to suppress input that are not relevant for a given task."
   ]
  },
  {
   "cell_type": "code",
   "execution_count": 0,
   "metadata": {
    "colab_type": "code"
   },
   "outputs": [],
   "source": [
    "\n",
    "class GatedLinearUnit(layers.Layer):\n",
    "    def __init__(self, units):\n",
    "        super().__init__()\n",
    "        self.linear = layers.Dense(units)\n",
    "        self.sigmoid = layers.Dense(units, activation=\"sigmoid\")\n",
    "\n",
    "    def call(self, inputs):\n",
    "        return self.linear(inputs) * self.sigmoid(inputs)\n",
    "\n",
    "    # Remove build warnings\n",
    "    def build(self):\n",
    "        self.built = True\n",
    ""
   ]
  },
  {
   "cell_type": "markdown",
   "metadata": {
    "colab_type": "text"
   },
   "source": [
    "## Implement the Gated Residual Network\n",
    "\n",
    "The Gated Residual Network (GRN) works as follows:\n",
    "\n",
    "1. Applies the nonlinear ELU transformation to the inputs.\n",
    "2. Applies linear transformation followed by dropout.\n",
    "4. Applies GLU and adds the original inputs to the output of the GLU to perform skip\n",
    "(residual) connection.\n",
    "6. Applies layer normalization and produces the output."
   ]
  },
  {
   "cell_type": "code",
   "execution_count": 0,
   "metadata": {
    "colab_type": "code"
   },
   "outputs": [],
   "source": [
    "\n",
    "class GatedResidualNetwork(layers.Layer):\n",
    "    def __init__(self, units, dropout_rate):\n",
    "        super().__init__()\n",
    "        self.units = units\n",
    "        self.elu_dense = layers.Dense(units, activation=\"elu\")\n",
    "        self.linear_dense = layers.Dense(units)\n",
    "        self.dropout = layers.Dropout(dropout_rate)\n",
    "        self.gated_linear_unit = GatedLinearUnit(units)\n",
    "        self.layer_norm = layers.LayerNormalization()\n",
    "        self.project = layers.Dense(units)\n",
    "\n",
    "    def call(self, inputs):\n",
    "        x = self.elu_dense(inputs)\n",
    "        x = self.linear_dense(x)\n",
    "        x = self.dropout(x)\n",
    "        if inputs.shape[-1] != self.units:\n",
    "            inputs = self.project(inputs)\n",
    "        x = inputs + self.gated_linear_unit(x)\n",
    "        x = self.layer_norm(x)\n",
    "        return x\n",
    "\n",
    "    # Remove build warnings\n",
    "    def build(self):\n",
    "        self.built = True\n",
    ""
   ]
  },
  {
   "cell_type": "markdown",
   "metadata": {
    "colab_type": "text"
   },
   "source": [
    "## Implement the Variable Selection Network\n",
    "\n",
    "The Variable Selection Network (VSN) works as follows:\n",
    "\n",
    "1. Applies a GRN to each feature individually.\n",
    "2. Applies a GRN on the concatenation of all the features, followed by a softmax to\n",
    "produce feature weights.\n",
    "3. Produces a weighted sum of the output of the individual GRN.\n",
    "\n",
    "Note that the output of the VSN is [batch_size, encoding_size], regardless of the\n",
    "number of the input features.\n",
    "\n",
    "For categorical features, we encode them using `layers.Embedding` using the\n",
    "`encoding_size` as the embedding dimensions. For the numerical features,\n",
    "we apply linear transformation using `layers.Dense` to project each feature into\n",
    "`encoding_size`-dimensional vector. Thus, all the encoded features will have the\n",
    "same dimensionality."
   ]
  },
  {
   "cell_type": "code",
   "execution_count": 0,
   "metadata": {
    "colab_type": "code"
   },
   "outputs": [],
   "source": [
    "\n",
    "class VariableSelection(layers.Layer):\n",
    "    def __init__(self, num_features, units, dropout_rate):\n",
    "        super().__init__()\n",
    "        self.units = units\n",
    "        # Create an embedding layers with the specified dimensions\n",
    "        self.embeddings = dict()\n",
    "        for input_ in CATEGORICAL_FEATURES_WITH_VOCABULARY:\n",
    "            vocabulary = CATEGORICAL_FEATURES_WITH_VOCABULARY[input_]\n",
    "            embedding_encoder = layers.Embedding(\n",
    "                input_dim=len(vocabulary), output_dim=self.units, name=input_\n",
    "            )\n",
    "            self.embeddings[input_] = embedding_encoder\n",
    "\n",
    "        # Projection layers for numeric features\n",
    "        self.proj_layer = dict()\n",
    "        for input_ in NUMERIC_FEATURE_NAMES:\n",
    "            proj_layer = layers.Dense(units=self.units)\n",
    "            self.proj_layer[input_] = proj_layer\n",
    "\n",
    "        self.grns = list()\n",
    "        # Create a GRN for each feature independently\n",
    "        for idx in range(num_features):\n",
    "            grn = GatedResidualNetwork(units, dropout_rate)\n",
    "            self.grns.append(grn)\n",
    "        # Create a GRN for the concatenation of all the features\n",
    "        self.grn_concat = GatedResidualNetwork(units, dropout_rate)\n",
    "        self.softmax = layers.Dense(units=num_features, activation=\"softmax\")\n",
    "\n",
    "    def call(self, inputs):\n",
    "        concat_inputs = []\n",
    "        for input_ in inputs:\n",
    "            if input_ in CATEGORICAL_FEATURES_WITH_VOCABULARY:\n",
    "                max_index = self.embeddings[input_].input_dim - 1  # Clamp the indices\n",
    "                # torch had some index errors during embedding hence the clip function\n",
    "                embedded_feature = self.embeddings[input_](\n",
    "                    keras.ops.clip(inputs[input_], 0, max_index)\n",
    "                )\n",
    "                concat_inputs.append(embedded_feature)\n",
    "            else:\n",
    "                # Project the numeric feature to encoding_size using linear transformation.\n",
    "                proj_feature = keras.ops.expand_dims(inputs[input_], -1)\n",
    "                proj_feature = self.proj_layer[input_](proj_feature)\n",
    "                concat_inputs.append(proj_feature)\n",
    "\n",
    "        v = layers.concatenate(concat_inputs)\n",
    "        v = self.grn_concat(v)\n",
    "        v = keras.ops.expand_dims(self.softmax(v), axis=-1)\n",
    "        x = []\n",
    "        for idx, input in enumerate(concat_inputs):\n",
    "            x.append(self.grns[idx](input))\n",
    "        x = keras.ops.stack(x, axis=1)\n",
    "        return keras.ops.squeeze(\n",
    "            keras.ops.matmul(keras.ops.transpose(v, axes=[0, 2, 1]), x), axis=1\n",
    "        )\n",
    "\n",
    "    # to remove the build warnings\n",
    "    def build(self):\n",
    "        self.built = True\n",
    ""
   ]
  },
  {
   "cell_type": "markdown",
   "metadata": {
    "colab_type": "text"
   },
   "source": [
    "## Create Gated Residual and Variable Selection Networks model"
   ]
  },
  {
   "cell_type": "code",
   "execution_count": 0,
   "metadata": {
    "colab_type": "code"
   },
   "outputs": [],
   "source": [
    "\n",
    "def create_model(encoding_size):\n",
    "    inputs = create_model_inputs()\n",
    "    num_features = len(inputs)\n",
    "    features = VariableSelection(num_features, encoding_size, dropout_rate)(inputs)\n",
    "    outputs = layers.Dense(units=1, activation=\"sigmoid\")(features)\n",
    "    # Functional model\n",
    "    model = keras.Model(inputs=inputs, outputs=outputs)\n",
    "    return model\n",
    ""
   ]
  },
  {
   "cell_type": "markdown",
   "metadata": {
    "colab_type": "text"
   },
   "source": [
    "## Compile, train, and evaluate the model"
   ]
  },
  {
   "cell_type": "code",
   "execution_count": 0,
   "metadata": {
    "colab_type": "code"
   },
   "outputs": [],
   "source": [
    "learning_rate = 0.001\n",
    "dropout_rate = 0.15\n",
    "batch_size = 265\n",
    "num_epochs = 20  # may be adjusted to a desired value\n",
    "encoding_size = 16\n",
    "\n",
    "model = create_model(encoding_size)\n",
    "model.compile(\n",
    "    optimizer=keras.optimizers.Adam(learning_rate=learning_rate),\n",
    "    loss=keras.losses.BinaryCrossentropy(),\n",
    "    metrics=[keras.metrics.BinaryAccuracy(name=\"accuracy\")],\n",
    ")"
   ]
  },
  {
   "cell_type": "markdown",
   "metadata": {
    "colab_type": "text"
   },
   "source": [
    "Let's visualize our connectivity graph:"
   ]
  },
  {
   "cell_type": "code",
   "execution_count": 0,
   "metadata": {
    "colab_type": "code"
   },
   "outputs": [],
   "source": [
    "# `rankdir='LR'` is to make the graph horizontal.\n",
    "keras.utils.plot_model(model, show_shapes=True, show_layer_names=True, rankdir=\"LR\")\n",
    "\n",
    "\n",
    "# Create an early stopping callback.\n",
    "early_stopping = keras.callbacks.EarlyStopping(\n",
    "    monitor=\"val_loss\", patience=5, restore_best_weights=True\n",
    ")\n",
    "\n",
    "print(\"Start training the model...\")\n",
    "train_dataset = get_dataset_from_csv(\n",
    "    train_data_file, shuffle=True, batch_size=batch_size\n",
    ")\n",
    "valid_dataset = get_dataset_from_csv(valid_data_file, batch_size=batch_size)\n",
    "model.fit(\n",
    "    train_dataset,\n",
    "    epochs=num_epochs,\n",
    "    validation_data=valid_dataset,\n",
    "    callbacks=[early_stopping],\n",
    ")\n",
    "print(\"Model training finished.\")\n",
    "\n",
    "print(\"Evaluating model performance...\")\n",
    "test_dataset = get_dataset_from_csv(test_data_file, batch_size=batch_size)\n",
    "_, accuracy = model.evaluate(test_dataset)\n",
    "print(f\"Test accuracy: {round(accuracy * 100, 2)}%\")"
   ]
  },
  {
   "cell_type": "markdown",
   "metadata": {
    "colab_type": "text"
   },
   "source": [
    "You should achieve more than 95% accuracy on the test set.\n",
    "\n",
    "To increase the learning capacity of the model, you can try increasing the\n",
    "`encoding_size` value, or stacking multiple GRN layers on top of the VSN layer.\n",
    "This may require to also increase the `dropout_rate` value to avoid overfitting."
   ]
  },
  {
   "cell_type": "markdown",
   "metadata": {
    "colab_type": "text"
   },
   "source": [
    "**Example available on HuggingFace**\n",
    "\n",
    "| Trained Model | Demo |\n",
    "| :--: | :--: |\n",
    "| [![Generic badge](https://img.shields.io/badge/%F0%9F%A4%97%20Model-Classification%20With%20GRN%20%26%20VSN-red)](https://huggingface.co/keras-io/structured-data-classification-grn-vsn) | [![Generic badge](https://img.shields.io/badge/%F0%9F%A4%97%20Space-Classification%20With%20GRN%20%26%20VSN-red)](https://huggingface.co/spaces/keras-io/structured-data-classification-grn-vsn) |"
   ]
  }
 ],
 "metadata": {
  "accelerator": "GPU",
  "colab": {
   "collapsed_sections": [],
   "name": "classification_with_grn_and_vsn",
   "private_outputs": false,
   "provenance": [],
   "toc_visible": true
  },
  "kernelspec": {
   "display_name": "Python 3",
   "language": "python",
   "name": "python3"
  },
  "language_info": {
   "codemirror_mode": {
    "name": "ipython",
    "version": 3
   },
   "file_extension": ".py",
   "mimetype": "text/x-python",
   "name": "python",
   "nbconvert_exporter": "python",
   "pygments_lexer": "ipython3",
   "version": "3.7.0"
  }
 },
 "nbformat": 4,
 "nbformat_minor": 0
}