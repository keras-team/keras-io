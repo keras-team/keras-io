{
 "cells": [
  {
   "cell_type": "markdown",
   "metadata": {
    "colab_type": "text"
   },
   "source": [
    "# FeatureSpace advanced use cases\n",
    "\n",
    "**Author:** [Dimitre Oliveira](https://www.linkedin.com/in/dimitre-oliveira-7a1a0113a/)<br>\n",
    "**Date created:** 2023/07/01<br>\n",
    "**Last modified:** 2023/07/01<br>\n",
    "**Description:** How to use FeatureSpace for advanced preprocessing use cases."
   ]
  },
  {
   "cell_type": "markdown",
   "metadata": {
    "colab_type": "text"
   },
   "source": [
    "## Introduction\n",
    "\n",
    "This example is an extension of the\n",
    "[Structured data classification with FeatureSpace](https://keras.io/examples/structured_data/structured_data_classification_with_feature_space/)\n",
    "code example, and here we will extend it to cover more complex use\n",
    "cases of the [`keras.utils.FeatureSpace`](https://keras.io/api/utils/feature_space/)\n",
    "preprocessing utility, like feature hashing, feature crosses, handling missing values and\n",
    "integrating [Keras preprocessing layers](https://keras.io/api/layers/preprocessing_layers/)\n",
    "with FeatureSpace.\n",
    "\n",
    "The general task still is structured data classification (also known as tabular data\n",
    "classification) using a data that includes numerical features, integer categorical\n",
    "features, and string categorical features."
   ]
  },
  {
   "cell_type": "markdown",
   "metadata": {
    "colab_type": "text"
   },
   "source": [
    "### The dataset\n",
    "\n",
    "[Our dataset](https://archive.ics.uci.edu/dataset/222/bank+marketing) is provided by a\n",
    "Portuguese banking institution.\n",
    "It's a CSV file with 4119 rows. Each row contains information about marketing campaigns\n",
    "based on phone calls, and each column describes an attribute of the client. We use the\n",
    "features to predict whether the client subscribed ('yes') or not ('no') to the product\n",
    "(bank term deposit).\n",
    "\n",
    "Here's the description of each feature:\n",
    "\n",
    "Column| Description| Feature Type\n",
    "------|------------|-------------\n",
    "Age | Age of the client | Numerical\n",
    "Job | Type of job | Categorical\n",
    "Marital | Marital status | Categorical\n",
    "Education | Education level of the client | Categorical\n",
    "Default | Has credit in default? | Categorical\n",
    "Housing | Has housing loan? | Categorical\n",
    "Loan | Has personal loan? | Categorical\n",
    "Contact | Contact communication type | Categorical\n",
    "Month | Last contact month of year | Categorical\n",
    "Day_of_week | Last contact day of the week | Categorical\n",
    "Duration | Last contact duration, in seconds | Numerical\n",
    "Campaign | Number of contacts performed during this campaign and for this client | Numerical\n",
    "Pdays | Number of days that passed by after the client was last contacted from a previous campaign | Numerical\n",
    "Previous | Number of contacts performed before this campaign and for this client | Numerical\n",
    "Poutcome | Outcome of the previous marketing campaign | Categorical\n",
    "Emp.var.rate | Employment variation rate | Numerical\n",
    "Cons.price.idx | Consumer price index | Numerical\n",
    "Cons.conf.idx | Consumer confidence index | Numerical\n",
    "Euribor3m | Euribor 3 month rate | Numerical\n",
    "Nr.employed | Number of employees | Numerical\n",
    "Y | Has the client subscribed a term deposit? | Target\n",
    "\n",
    "**Important note regarding the feature `duration`**:  this attribute highly affects the\n",
    "output target (e.g., if duration=0 then y='no'). Yet, the duration is not known before a\n",
    "call is performed. Also, after the end of the call y is obviously known. Thus, this input\n",
    "should only be included for benchmark purposes and should be discarded if the intention\n",
    "is to have a realistic predictive model. For this reason we will drop it."
   ]
  },
  {
   "cell_type": "markdown",
   "metadata": {
    "colab_type": "text"
   },
   "source": [
    "## Setup"
   ]
  },
  {
   "cell_type": "code",
   "execution_count": null,
   "metadata": {
    "colab_type": "code"
   },
   "outputs": [],
   "source": [
    "import os\n",
    "\n",
    "os.environ[\"KERAS_BACKEND\"] = \"tensorflow\"\n",
    "\n",
    "import keras\n",
    "from keras.utils import FeatureSpace\n",
    "import pandas as pd\n",
    "import tensorflow as tf\n",
    "from pathlib import Path\n",
    "from zipfile import ZipFile"
   ]
  },
  {
   "cell_type": "markdown",
   "metadata": {
    "colab_type": "text"
   },
   "source": [
    "## Load the data\n",
    "\n",
    "Let's download the data and load it into a Pandas dataframe:"
   ]
  },
  {
   "cell_type": "code",
   "execution_count": null,
   "metadata": {
    "colab_type": "code"
   },
   "outputs": [],
   "source": [
    "data_url = \"https://archive.ics.uci.edu/static/public/222/bank+marketing.zip\"\n",
    "data_zipped_path = keras.utils.get_file(\"bank_marketing.zip\", data_url, extract=True)\n",
    "keras_datasets_path = Path(data_zipped_path).parents[0]\n",
    "with ZipFile(f\"{keras_datasets_path}/bank-additional.zip\", \"r\") as zip:\n",
    "    # Extract files\n",
    "    zip.extractall(path=keras_datasets_path)\n",
    "\n",
    "dataframe = pd.read_csv(\n",
    "    f\"{keras_datasets_path}/bank-additional/bank-additional.csv\", sep=\";\"\n",
    ")"
   ]
  },
  {
   "cell_type": "markdown",
   "metadata": {
    "colab_type": "text"
   },
   "source": [
    "We will create a new feature `previously_contacted` to be able to demonstrate some useful\n",
    "preprocessing techniques, this feature is based on `pdays`. According to the dataset\n",
    "information if `pdays = 999` it means that the client was not previously contacted, so\n",
    "let's create a feature to capture that."
   ]
  },
  {
   "cell_type": "code",
   "execution_count": null,
   "metadata": {
    "colab_type": "code"
   },
   "outputs": [],
   "source": [
    "# Droping `duration` to avoid target leak\n",
    "dataframe.drop(\"duration\", axis=1, inplace=True)\n",
    "# Creating the new feature `previously_contacted`\n",
    "dataframe[\"previously_contacted\"] = dataframe[\"pdays\"].map(\n",
    "    lambda x: 0 if x == 999 else 1\n",
    ")"
   ]
  },
  {
   "cell_type": "markdown",
   "metadata": {
    "colab_type": "text"
   },
   "source": [
    "The dataset includes 4119 samples with 21 columns per sample (20 features, plus the\n",
    "target label), here's a preview of a few samples:"
   ]
  },
  {
   "cell_type": "code",
   "execution_count": null,
   "metadata": {
    "colab_type": "code"
   },
   "outputs": [],
   "source": [
    "print(f\"Dataframe shape: {dataframe.shape}\")\n",
    "print(dataframe.head())"
   ]
  },
  {
   "cell_type": "markdown",
   "metadata": {
    "colab_type": "text"
   },
   "source": [
    "The column, \"y\", indicates whether the client has subscribed a term deposit or not."
   ]
  },
  {
   "cell_type": "markdown",
   "metadata": {
    "colab_type": "text"
   },
   "source": [
    "## Train/validation split\n",
    "\n",
    "Let's split the data into a training and validation set:"
   ]
  },
  {
   "cell_type": "code",
   "execution_count": null,
   "metadata": {
    "colab_type": "code"
   },
   "outputs": [],
   "source": [
    "valid_dataframe = dataframe.sample(frac=0.2, random_state=0)\n",
    "train_dataframe = dataframe.drop(valid_dataframe.index)\n",
    "\n",
    "print(\n",
    "    f\"Using {len(train_dataframe)} samples for training and \"\n",
    "    f\"{len(valid_dataframe)} for validation\"\n",
    ")"
   ]
  },
  {
   "cell_type": "markdown",
   "metadata": {
    "colab_type": "text"
   },
   "source": [
    "## Generating TF datasets\n",
    "\n",
    "Let's generate\n",
    "[`tf.data.Dataset`](https://www.tensorflow.org/api_docs/python/tf/data/Dataset) objects\n",
    "for each dataframe, since our target column `y` is a string we also need to encode it as\n",
    "an integer to be able to train our model with it. To achieve this we will create a\n",
    "`StringLookup` layer that will map the strings \"no\" and \"yes\" into \"0\" and \"1\"\n",
    "respectively."
   ]
  },
  {
   "cell_type": "code",
   "execution_count": null,
   "metadata": {
    "colab_type": "code"
   },
   "outputs": [],
   "source": [
    "label_lookup = keras.layers.StringLookup(\n",
    "    # the order here is important since the first index will be encoded as 0\n",
    "    vocabulary=[\"no\", \"yes\"],\n",
    "    num_oov_indices=0,\n",
    ")\n",
    "\n",
    "\n",
    "def encode_label(x, y):\n",
    "    encoded_y = label_lookup(y)\n",
    "    return x, encoded_y\n",
    "\n",
    "\n",
    "def dataframe_to_dataset(dataframe):\n",
    "    dataframe = dataframe.copy()\n",
    "    labels = dataframe.pop(\"y\")\n",
    "    ds = tf.data.Dataset.from_tensor_slices((dict(dataframe), labels))\n",
    "    ds = ds.map(encode_label, num_parallel_calls=tf.data.AUTOTUNE)\n",
    "    ds = ds.shuffle(buffer_size=len(dataframe))\n",
    "    return ds\n",
    "\n",
    "\n",
    "train_ds = dataframe_to_dataset(train_dataframe)\n",
    "valid_ds = dataframe_to_dataset(valid_dataframe)"
   ]
  },
  {
   "cell_type": "markdown",
   "metadata": {
    "colab_type": "text"
   },
   "source": [
    "Each `Dataset` yields a tuple `(input, target)` where `input` is a dictionary of features\n",
    "and `target` is the value `0` or `1`:"
   ]
  },
  {
   "cell_type": "code",
   "execution_count": null,
   "metadata": {
    "colab_type": "code"
   },
   "outputs": [],
   "source": [
    "for x, y in dataframe_to_dataset(train_dataframe).take(1):\n",
    "    print(f\"Input: {x}\")\n",
    "    print(f\"Target: {y}\")"
   ]
  },
  {
   "cell_type": "markdown",
   "metadata": {
    "colab_type": "text"
   },
   "source": [
    "## Preprocessing\n",
    "\n",
    "Usually our data is not on the proper or best format for modeling, this is why most of\n",
    "the time we need to do some kind of preprocessing on the features to make them compatible\n",
    "with the model or to extract the most of them for the task. We need to do this\n",
    "preprocessing step for training but but at inference we also need to make sure that the\n",
    "data goes through the same process, this where a utility like `FeatureSpace` shines, we\n",
    "can define all the preprocessing once and re-use it at different stages of our system.\n",
    "\n",
    "Here we will see how to use `FeatureSpace` to perform more complex transformations and\n",
    "its flexibility, then combine everything together into a single component to preprocess\n",
    "data for our model."
   ]
  },
  {
   "cell_type": "markdown",
   "metadata": {
    "colab_type": "text"
   },
   "source": [
    "The `FeatureSpace` utility learns how to process the data by using the `adapt()` function\n",
    "to learn from it, this requires a dataset containing only feature, so let's create it\n",
    "together with a utility function to show the preprocessing example in practice:"
   ]
  },
  {
   "cell_type": "code",
   "execution_count": null,
   "metadata": {
    "colab_type": "code"
   },
   "outputs": [],
   "source": [
    "train_ds_with_no_labels = train_ds.map(lambda x, _: x)\n",
    "\n",
    "\n",
    "def example_feature_space(dataset, feature_space, feature_names):\n",
    "    feature_space.adapt(dataset)\n",
    "    for x in dataset.take(1):\n",
    "        inputs = {feature_name: x[feature_name] for feature_name in feature_names}\n",
    "        preprocessed_x = feature_space(inputs)\n",
    "        print(f\"Input: {[{k:v.numpy()} for k, v in inputs.items()]}\")\n",
    "        print(\n",
    "            f\"Preprocessed output: {[{k:v.numpy()} for k, v in preprocessed_x.items()]}\"\n",
    "        )\n"
   ]
  },
  {
   "cell_type": "markdown",
   "metadata": {
    "colab_type": "text"
   },
   "source": [
    "### Feature hashing"
   ]
  },
  {
   "cell_type": "markdown",
   "metadata": {
    "colab_type": "text"
   },
   "source": [
    "**Feature hashing** means hashing or encoding a set of values into a defined number of\n",
    "bins, in this case we have `campaign` (number of contacts performed during this campaign\n",
    "and for a client) which is a numerical feature that can assume a varying range of values\n",
    "and we will hash it into 4 bins, this means that any possible value of the original\n",
    "feature will be placed into one of those possible 4 bins. The output here can be a\n",
    "one-hot encoded vector or a single number."
   ]
  },
  {
   "cell_type": "code",
   "execution_count": null,
   "metadata": {
    "colab_type": "code"
   },
   "outputs": [],
   "source": [
    "feature_space = FeatureSpace(\n",
    "    features={\n",
    "        \"campaign\": FeatureSpace.integer_hashed(num_bins=4, output_mode=\"one_hot\")\n",
    "    },\n",
    "    output_mode=\"dict\",\n",
    ")\n",
    "example_feature_space(train_ds_with_no_labels, feature_space, [\"campaign\"])"
   ]
  },
  {
   "cell_type": "markdown",
   "metadata": {
    "colab_type": "text"
   },
   "source": [
    "**Feature hashing** can also be used for string features."
   ]
  },
  {
   "cell_type": "code",
   "execution_count": null,
   "metadata": {
    "colab_type": "code"
   },
   "outputs": [],
   "source": [
    "feature_space = FeatureSpace(\n",
    "    features={\n",
    "        \"education\": FeatureSpace.string_hashed(num_bins=3, output_mode=\"one_hot\")\n",
    "    },\n",
    "    output_mode=\"dict\",\n",
    ")\n",
    "example_feature_space(train_ds_with_no_labels, feature_space, [\"education\"])"
   ]
  },
  {
   "cell_type": "markdown",
   "metadata": {
    "colab_type": "text"
   },
   "source": [
    "For numerical features we can get a similar behavior by using the `float_discretized`\n",
    "option, the main difference between this and `integer_hashed` is that with the former we\n",
    "bin the values while keeping some numerical relationship (close values will likely be\n",
    "placed at the same bin) while the later (hashing) we cannot guarantee that those numbers\n",
    "will be hashed into the same bin, it depends on the hashing function."
   ]
  },
  {
   "cell_type": "code",
   "execution_count": null,
   "metadata": {
    "colab_type": "code"
   },
   "outputs": [],
   "source": [
    "feature_space = FeatureSpace(\n",
    "    features={\"age\": FeatureSpace.float_discretized(num_bins=3, output_mode=\"one_hot\")},\n",
    "    output_mode=\"dict\",\n",
    ")\n",
    "example_feature_space(train_ds_with_no_labels, feature_space, [\"age\"])"
   ]
  },
  {
   "cell_type": "markdown",
   "metadata": {
    "colab_type": "text"
   },
   "source": [
    "### Feature indexing"
   ]
  },
  {
   "cell_type": "markdown",
   "metadata": {
    "colab_type": "text"
   },
   "source": [
    "**Indexing** a string feature essentially means creating a discrete numerical\n",
    "representation for it, this is especially important for string features since most models\n",
    "only accept numerical features. This transformation will place the string values into\n",
    "different categories. The output here can be a one-hot encoded vector or a single number.\n",
    "\n",
    "Note that by specifying `num_oov_indices=1` we leave one spot at our output vector for\n",
    "OOV (out of vocabulary) values this is an important tool to handle missing or unseen\n",
    "values after the training (values that were not seen during the `adapt()` step)"
   ]
  },
  {
   "cell_type": "code",
   "execution_count": null,
   "metadata": {
    "colab_type": "code"
   },
   "outputs": [],
   "source": [
    "feature_space = FeatureSpace(\n",
    "    features={\n",
    "        \"default\": FeatureSpace.string_categorical(\n",
    "            num_oov_indices=1, output_mode=\"one_hot\"\n",
    "        )\n",
    "    },\n",
    "    output_mode=\"dict\",\n",
    ")\n",
    "example_feature_space(train_ds_with_no_labels, feature_space, [\"default\"])"
   ]
  },
  {
   "cell_type": "markdown",
   "metadata": {
    "colab_type": "text"
   },
   "source": [
    "We also can do **feature indexing** for integer features, this can be quite important for\n",
    "some datasets where categorical features are replaced by numbers, for instance features\n",
    "like `sex` or `gender` where values like (`1 and 0`) do not have a numerical relationship\n",
    "between them, they are just different categories, this behavior can be perfectly captured\n",
    "by this transformation.\n",
    "\n",
    "On this dataset we can use the feature that we created `previously_contacted`. For this\n",
    "case we want to explicitly set `num_oov_indices=0`, the reason is that we only expect two\n",
    "possible values for the feature, anything else would be either wrong input or an issue\n",
    "with the data creation, for this reason we would probably just want the code to throw an\n",
    "error so that we can be aware of the issue and fix it."
   ]
  },
  {
   "cell_type": "code",
   "execution_count": null,
   "metadata": {
    "colab_type": "code"
   },
   "outputs": [],
   "source": [
    "feature_space = FeatureSpace(\n",
    "    features={\n",
    "        \"previously_contacted\": FeatureSpace.integer_categorical(\n",
    "            num_oov_indices=0, output_mode=\"one_hot\"\n",
    "        )\n",
    "    },\n",
    "    output_mode=\"dict\",\n",
    ")\n",
    "example_feature_space(train_ds_with_no_labels, feature_space, [\"previously_contacted\"])"
   ]
  },
  {
   "cell_type": "markdown",
   "metadata": {
    "colab_type": "text"
   },
   "source": [
    "### Feature crosses (mixing features of diverse types)\n",
    "\n",
    "With **crosses** we can do feature interactions between an arbitrary number of features\n",
    "of mixed types as long as they are categorical features, you can think of instead of\n",
    "having a feature {'age': 20} and another {'job': 'entrepreneur'} we can have\n",
    "{'age_X_job': 20_entrepreneur}, but with `FeatureSpace` and **crosses** we can apply\n",
    "specific preprocessing to each individual feature and to the feature cross itself. This\n",
    "option can be very powerful for specific use cases, here might be a good option since age\n",
    "combined with job can have different meanings for the banking domain.\n",
    "\n",
    "We will cross `age` and `job` and hash the combination output of them into a vector\n",
    "representation of size 8. The output here can be a one-hot encoded vector or a single\n",
    "number.\n",
    "\n",
    "Sometimes the combination of multiple features can result into on a super large feature\n",
    "space, think about crossing someone's ZIP code with its last name, the possibilities\n",
    "would be in the thousands, that is why the `crossing_dim` parameter is so important it\n",
    "limits the output dimension of the cross feature.\n",
    "\n",
    "Note that the combination of possible values of the 6 bins of `age` and the 12 values of\n",
    "`job` would be 72, so by choosing `crossing_dim = 8` we are choosing to constrain the\n",
    "output vector."
   ]
  },
  {
   "cell_type": "code",
   "execution_count": null,
   "metadata": {
    "colab_type": "code"
   },
   "outputs": [],
   "source": [
    "feature_space = FeatureSpace(\n",
    "    features={\n",
    "        \"age\": FeatureSpace.integer_hashed(num_bins=6, output_mode=\"one_hot\"),\n",
    "        \"job\": FeatureSpace.string_categorical(\n",
    "            num_oov_indices=0, output_mode=\"one_hot\"\n",
    "        ),\n",
    "    },\n",
    "    crosses=[\n",
    "        FeatureSpace.cross(\n",
    "            feature_names=(\"age\", \"job\"),\n",
    "            crossing_dim=8,\n",
    "            output_mode=\"one_hot\",\n",
    "        )\n",
    "    ],\n",
    "    output_mode=\"dict\",\n",
    ")\n",
    "example_feature_space(train_ds_with_no_labels, feature_space, [\"age\", \"job\"])"
   ]
  },
  {
   "cell_type": "markdown",
   "metadata": {
    "colab_type": "text"
   },
   "source": [
    "### FeatureSpace using a Keras preprocessing layer\n",
    "\n",
    "To be a really flexible and extensible feature we cannot only rely on those pre-defined\n",
    "transformation, we must be able to re-use other transformations from the Keras/TensorFlow\n",
    "ecosystem and customize our own, this is why `FeatureSpace` is also designed to work with\n",
    "[Keras preprocessing layers](https://keras.io/api/layers/preprocessing_layers/), this way we\n",
    "can use sophisticated data transformations provided by the framework, you can even create\n",
    "your own custom Keras preprocessing layers and use it in the same way.\n",
    "\n",
    "Here we are going to use the\n",
    "[`keras.layers.TextVectorization`](https://keras.io/api/layers/preprocessing_layers/text/text_vectorization/#textvectorization-class)\n",
    "preprocessing layer to create a TF-IDF\n",
    "feature from our data. Note that this feature is not a really good use case for TF-IDF,\n",
    "this is just for demonstration purposes."
   ]
  },
  {
   "cell_type": "code",
   "execution_count": null,
   "metadata": {
    "colab_type": "code"
   },
   "outputs": [],
   "source": [
    "custom_layer = keras.layers.TextVectorization(output_mode=\"tf_idf\")\n",
    "\n",
    "feature_space = FeatureSpace(\n",
    "    features={\n",
    "        \"education\": FeatureSpace.feature(\n",
    "            preprocessor=custom_layer, dtype=\"string\", output_mode=\"float\"\n",
    "        )\n",
    "    },\n",
    "    output_mode=\"dict\",\n",
    ")\n",
    "example_feature_space(train_ds_with_no_labels, feature_space, [\"education\"])"
   ]
  },
  {
   "cell_type": "markdown",
   "metadata": {
    "colab_type": "text"
   },
   "source": [
    "## Configuring the final `FeatureSpace`\n",
    "\n",
    "Now that we know how to use `FeatureSpace` for more complex use cases let's pick the ones\n",
    "that looks more useful for this task and create the final `FeatureSpace` component.\n",
    "\n",
    "To configure how each feature should be preprocessed,\n",
    "we instantiate a `keras.utils.FeatureSpace`, and we\n",
    "pass to it a dictionary that maps the name of our features\n",
    "to the feature transformation function."
   ]
  },
  {
   "cell_type": "code",
   "execution_count": null,
   "metadata": {
    "colab_type": "code"
   },
   "outputs": [],
   "source": [
    "feature_space = FeatureSpace(\n",
    "    features={\n",
    "        # Categorical features encoded as integers\n",
    "        \"previously_contacted\": FeatureSpace.integer_categorical(num_oov_indices=0),\n",
    "        # Categorical features encoded as string\n",
    "        \"marital\": FeatureSpace.string_categorical(num_oov_indices=0),\n",
    "        \"education\": FeatureSpace.string_categorical(num_oov_indices=0),\n",
    "        \"default\": FeatureSpace.string_categorical(num_oov_indices=0),\n",
    "        \"housing\": FeatureSpace.string_categorical(num_oov_indices=0),\n",
    "        \"loan\": FeatureSpace.string_categorical(num_oov_indices=0),\n",
    "        \"contact\": FeatureSpace.string_categorical(num_oov_indices=0),\n",
    "        \"month\": FeatureSpace.string_categorical(num_oov_indices=0),\n",
    "        \"day_of_week\": FeatureSpace.string_categorical(num_oov_indices=0),\n",
    "        \"poutcome\": FeatureSpace.string_categorical(num_oov_indices=0),\n",
    "        # Categorical features to hash and bin\n",
    "        \"job\": FeatureSpace.string_hashed(num_bins=3),\n",
    "        # Numerical features to hash and bin\n",
    "        \"pdays\": FeatureSpace.integer_hashed(num_bins=4),\n",
    "        # Numerical features to normalize and bin\n",
    "        \"age\": FeatureSpace.float_discretized(num_bins=4),\n",
    "        # Numerical features to normalize\n",
    "        \"campaign\": FeatureSpace.float_normalized(),\n",
    "        \"previous\": FeatureSpace.float_normalized(),\n",
    "        \"emp.var.rate\": FeatureSpace.float_normalized(),\n",
    "        \"cons.price.idx\": FeatureSpace.float_normalized(),\n",
    "        \"cons.conf.idx\": FeatureSpace.float_normalized(),\n",
    "        \"euribor3m\": FeatureSpace.float_normalized(),\n",
    "        \"nr.employed\": FeatureSpace.float_normalized(),\n",
    "    },\n",
    "    # Specify feature cross with a custom crossing dim.\n",
    "    crosses=[\n",
    "        FeatureSpace.cross(feature_names=(\"age\", \"job\"), crossing_dim=8),\n",
    "        FeatureSpace.cross(feature_names=(\"housing\", \"loan\"), crossing_dim=6),\n",
    "        FeatureSpace.cross(\n",
    "            feature_names=(\"poutcome\", \"previously_contacted\"), crossing_dim=2\n",
    "        ),\n",
    "    ],\n",
    "    output_mode=\"concat\",\n",
    ")"
   ]
  },
  {
   "cell_type": "markdown",
   "metadata": {
    "colab_type": "text"
   },
   "source": [
    "## Adapt the `FeatureSpace` to the training data\n",
    "\n",
    "Before we start using the `FeatureSpace` to build a model, we have\n",
    "to adapt it to the training data. During `adapt()`, the `FeatureSpace` will:\n",
    "\n",
    "- Index the set of possible values for categorical features.\n",
    "- Compute the mean and variance for numerical features to normalize.\n",
    "- Compute the value boundaries for the different bins for numerical features to\n",
    "discretize.\n",
    "- Any other kind of preprocessing required by custom layers.\n",
    "\n",
    "Note that `adapt()` should be called on a `tf.data.Dataset` which yields dicts\n",
    "of feature values -- no labels.\n",
    "\n",
    "But first let's batch the datasets"
   ]
  },
  {
   "cell_type": "code",
   "execution_count": null,
   "metadata": {
    "colab_type": "code"
   },
   "outputs": [],
   "source": [
    "train_ds = train_ds.batch(32)\n",
    "valid_ds = valid_ds.batch(32)\n",
    "\n",
    "train_ds_with_no_labels = train_ds.map(lambda x, _: x)\n",
    "feature_space.adapt(train_ds_with_no_labels)"
   ]
  },
  {
   "cell_type": "markdown",
   "metadata": {
    "colab_type": "text"
   },
   "source": [
    "At this point, the `FeatureSpace` can be called on a dict of raw feature values, and\n",
    "because we set `output_mode=\"concat\"` it will return a single concatenate vector for each\n",
    "sample, combining encoded features and feature crosses."
   ]
  },
  {
   "cell_type": "code",
   "execution_count": null,
   "metadata": {
    "colab_type": "code"
   },
   "outputs": [],
   "source": [
    "for x, _ in train_ds.take(1):\n",
    "    preprocessed_x = feature_space(x)\n",
    "    print(f\"preprocessed_x shape: {preprocessed_x.shape}\")\n",
    "    print(f\"preprocessed_x sample: \\n{preprocessed_x[0]}\")"
   ]
  },
  {
   "cell_type": "markdown",
   "metadata": {
    "colab_type": "text"
   },
   "source": [
    "## Saving the `FeatureSpace`\n",
    "\n",
    "At this point we can choose to save our `FeatureSpace` component, this have many\n",
    "advantages like re-using it on different experiments that use the same model, saving time\n",
    "if you need to re-run the preprocessing step, and mainly for model deployment, where by\n",
    "loading it you can be sure that you will be applying the same preprocessing steps don't\n",
    "matter the device or environment, this is a great way to reduce\n",
    "[training/servingskew](https://developers.google.com/machine-learning/guides/rules-of-ml#training-serving_skew)."
   ]
  },
  {
   "cell_type": "code",
   "execution_count": null,
   "metadata": {
    "colab_type": "code"
   },
   "outputs": [],
   "source": [
    "feature_space.save(\"myfeaturespace.keras\")"
   ]
  },
  {
   "cell_type": "markdown",
   "metadata": {
    "colab_type": "text"
   },
   "source": [
    "## Preprocessing with `FeatureSpace` as part of the tf.data pipeline\n",
    "\n",
    "We will opt to use our component asynchronously by making it part of the tf.data\n",
    "pipeline, as noted at the\n",
    "[previous guide](https://keras.io/examples/structured_data/structured_data_classification_with_feature_space/)\n",
    "This enables asynchronous parallel preprocessing of the data on CPU before it\n",
    "hits the model. Usually, this is always the right thing to do during training.\n",
    "\n",
    "Let's create a training and validation dataset of preprocessed batches:"
   ]
  },
  {
   "cell_type": "code",
   "execution_count": null,
   "metadata": {
    "colab_type": "code"
   },
   "outputs": [],
   "source": [
    "preprocessed_train_ds = train_ds.map(\n",
    "    lambda x, y: (feature_space(x), y), num_parallel_calls=tf.data.AUTOTUNE\n",
    ").prefetch(tf.data.AUTOTUNE)\n",
    "\n",
    "preprocessed_valid_ds = valid_ds.map(\n",
    "    lambda x, y: (feature_space(x), y), num_parallel_calls=tf.data.AUTOTUNE\n",
    ").prefetch(tf.data.AUTOTUNE)"
   ]
  },
  {
   "cell_type": "markdown",
   "metadata": {
    "colab_type": "text"
   },
   "source": [
    "## Model\n",
    "\n",
    "We will take advantage of our `FeatureSpace` component to build the model, as we want the\n",
    "model to be compatible with our preprocessing function, let's use the the `FeatureSpace`\n",
    "feature map as the input of our model."
   ]
  },
  {
   "cell_type": "code",
   "execution_count": null,
   "metadata": {
    "colab_type": "code"
   },
   "outputs": [],
   "source": [
    "encoded_features = feature_space.get_encoded_features()\n",
    "print(encoded_features)"
   ]
  },
  {
   "cell_type": "markdown",
   "metadata": {
    "colab_type": "text"
   },
   "source": [
    "This model is quite trivial only for demonstration purposes so don't pay too much\n",
    "attention to the architecture."
   ]
  },
  {
   "cell_type": "code",
   "execution_count": null,
   "metadata": {
    "colab_type": "code"
   },
   "outputs": [],
   "source": [
    "x = keras.layers.Dense(64, activation=\"relu\")(encoded_features)\n",
    "x = keras.layers.Dropout(0.5)(x)\n",
    "output = keras.layers.Dense(1, activation=\"sigmoid\")(x)\n",
    "\n",
    "model = keras.Model(inputs=encoded_features, outputs=output)\n",
    "model.compile(optimizer=\"adam\", loss=\"binary_crossentropy\", metrics=[\"accuracy\"])"
   ]
  },
  {
   "cell_type": "markdown",
   "metadata": {
    "colab_type": "text"
   },
   "source": [
    "## Training\n",
    "\n",
    "Let's train our model for 20 epochs. Note that feature preprocessing is happening as part\n",
    "of the tf.data pipeline, not as part of the model."
   ]
  },
  {
   "cell_type": "code",
   "execution_count": null,
   "metadata": {
    "colab_type": "code"
   },
   "outputs": [],
   "source": [
    "model.fit(\n",
    "    preprocessed_train_ds, validation_data=preprocessed_valid_ds, epochs=20, verbose=2\n",
    ")"
   ]
  },
  {
   "cell_type": "markdown",
   "metadata": {
    "colab_type": "text"
   },
   "source": [
    "## Inference on new data with the end-to-end model\n",
    "\n",
    "Now, we can build our inference model (which includes the `FeatureSpace`) to make\n",
    "predictions based on dicts of raw features values, as follows:"
   ]
  },
  {
   "cell_type": "markdown",
   "metadata": {
    "colab_type": "text"
   },
   "source": [
    "### Loading the `FeatureSpace`\n",
    "\n",
    "First let's load the `FeatureSpace` that we saved a few moment ago, this can be quite\n",
    "handy if you train a model but want to do inference at different time, possibly using a\n",
    "different device or environment."
   ]
  },
  {
   "cell_type": "code",
   "execution_count": null,
   "metadata": {
    "colab_type": "code"
   },
   "outputs": [],
   "source": [
    "loaded_feature_space = keras.saving.load_model(\"myfeaturespace.keras\")"
   ]
  },
  {
   "cell_type": "markdown",
   "metadata": {
    "colab_type": "text"
   },
   "source": [
    "### Building the inference end-to-end model\n",
    "\n",
    "To build the inference model we need both the feature input map and the preprocessing\n",
    "encoded Keras tensors."
   ]
  },
  {
   "cell_type": "code",
   "execution_count": null,
   "metadata": {
    "colab_type": "code"
   },
   "outputs": [],
   "source": [
    "dict_inputs = loaded_feature_space.get_inputs()\n",
    "encoded_features = loaded_feature_space.get_encoded_features()\n",
    "print(encoded_features)\n",
    "\n",
    "print(dict_inputs)\n",
    "\n",
    "outputs = model(encoded_features)\n",
    "inference_model = keras.Model(inputs=dict_inputs, outputs=outputs)\n",
    "\n",
    "sample = {\n",
    "    \"age\": 30,\n",
    "    \"job\": \"blue-collar\",\n",
    "    \"marital\": \"married\",\n",
    "    \"education\": \"basic.9y\",\n",
    "    \"default\": \"no\",\n",
    "    \"housing\": \"yes\",\n",
    "    \"loan\": \"no\",\n",
    "    \"contact\": \"cellular\",\n",
    "    \"month\": \"may\",\n",
    "    \"day_of_week\": \"fri\",\n",
    "    \"campaign\": 2,\n",
    "    \"pdays\": 999,\n",
    "    \"previous\": 0,\n",
    "    \"poutcome\": \"nonexistent\",\n",
    "    \"emp.var.rate\": -1.8,\n",
    "    \"cons.price.idx\": 92.893,\n",
    "    \"cons.conf.idx\": -46.2,\n",
    "    \"euribor3m\": 1.313,\n",
    "    \"nr.employed\": 5099.1,\n",
    "    \"previously_contacted\": 0,\n",
    "}\n",
    "\n",
    "input_dict = {\n",
    "    name: keras.ops.convert_to_tensor([value]) for name, value in sample.items()\n",
    "}\n",
    "predictions = inference_model.predict(input_dict)\n",
    "\n",
    "print(\n",
    "    f\"This particular client has a {100 * predictions[0][0]:.2f}% probability \"\n",
    "    \"of subscribing a term deposit, as evaluated by our model.\"\n",
    ")"
   ]
  }
 ],
 "metadata": {
  "accelerator": "None",
  "colab": {
   "collapsed_sections": [],
   "name": "feature_space_advanced",
   "private_outputs": false,
   "provenance": [],
   "toc_visible": true
  },
  "kernelspec": {
   "display_name": "Python 3",
   "language": "python",
   "name": "python3"
  },
  "language_info": {
   "codemirror_mode": {
    "name": "ipython",
    "version": 3
   },
   "file_extension": ".py",
   "mimetype": "text/x-python",
   "name": "python",
   "nbconvert_exporter": "python",
   "pygments_lexer": "ipython3",
   "version": "3.7.0"
  }
 },
 "nbformat": 4,
 "nbformat_minor": 0
}
