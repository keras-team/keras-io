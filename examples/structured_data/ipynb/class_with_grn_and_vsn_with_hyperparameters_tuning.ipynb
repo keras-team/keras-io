{
 "cells": [
  {
   "cell_type": "markdown",
   "metadata": {
    "colab_type": "text"
   },
   "source": [
    "# Classification with Gated Residual and Variable Selection Networks with HyperParameters tuning\n",
    "\n",
    "**Author:** [Humbulani Ndou](https://github.com/Humbulani1234)<br>\n",
    "**Date created:** 2025/03/17<br>\n",
    "**Last modified:** 2025/03/17<br>\n",
    "**Description:** Gated Residual and Variable Selection Networks prediction with HyperParameters tuning."
   ]
  },
  {
   "cell_type": "markdown",
   "metadata": {
    "colab_type": "text"
   },
   "source": [
    "## Introduction\n",
    "\n",
    "The following example extends the script `structured_data/classification_with_grn_and_vsn.py` by incorporating hyperparameters tuning\n",
    "using [Autokeras](https://github.com/keras-team/autokeras) and [KerasTuner](https://github.com/keras-team/keras-tuner). Specifics regarding\n",
    "which APIs are used from the these two packages will be described in detail in the relevant code sections.\n",
    "\n",
    "This example demonstrates the use of Gated\n",
    "Residual Networks (GRN) and Variable Selection Networks (VSN), proposed by\n",
    "Bryan Lim et al. in\n",
    "[Temporal Fusion Transformers (TFT) for Interpretable Multi-horizon Time Series Forecasting](https://arxiv.org/abs/1912.09363),\n",
    "for structured data classification. GRNs give the flexibility to the model to apply\n",
    "non-linear processing only where needed. VSNs allow the model to softly remove any\n",
    "unnecessary noisy inputs which could negatively impact performance.\n",
    "Together, those techniques help improving the learning capacity of deep neural\n",
    "network models.\n",
    "\n",
    "Note that this example implements only the GRN and VSN components described in\n",
    "in the paper, rather than the whole TFT model, as GRN and VSN can be useful on\n",
    "their own for structured data learning tasks.\n",
    "\n",
    "\n",
    "To run the code you need to use TensorFlow 2.3 or higher."
   ]
  },
  {
   "cell_type": "markdown",
   "metadata": {
    "colab_type": "text"
   },
   "source": [
    "## The dataset\n",
    "\n",
    "[Our dataset](https://archive.ics.uci.edu/ml/datasets/heart+Disease) is provided by the\n",
    "Cleveland Clinic Foundation for Heart Disease.\n",
    "It's a CSV file with 303 rows. Each row contains information about a patient (a\n",
    "**sample**), and each column describes an attribute of the patient (a **feature**). We\n",
    "use the features to predict whether a patient has a heart disease (**binary\n",
    "classification**).\n",
    "\n",
    "Here's the description of each feature:\n",
    "\n",
    "Column| Description| Feature Type\n",
    "------------|--------------------|----------------------\n",
    "Age | Age in years | Numerical\n",
    "Sex | (1 = male; 0 = female) | Categorical\n",
    "CP | Chest pain type (0, 1, 2, 3, 4) | Categorical\n",
    "Trestbpd | Resting blood pressure (in mm Hg on admission) | Numerical\n",
    "Chol | Serum cholesterol in mg/dl | Numerical\n",
    "FBS | fasting blood sugar in 120 mg/dl (1 = true; 0 = false) | Categorical\n",
    "RestECG | Resting electrocardiogram results (0, 1, 2) | Categorical\n",
    "Thalach | Maximum heart rate achieved | Numerical\n",
    "Exang | Exercise induced angina (1 = yes; 0 = no) | Categorical\n",
    "Oldpeak | ST depression induced by exercise relative to rest | Numerical\n",
    "Slope | Slope of the peak exercise ST segment | Numerical\n",
    "CA | Number of major vessels (0-3) colored by fluoroscopy | Both numerical & categorical\n",
    "Thal | 3 = normal; 6 = fixed defect; 7 = reversible defect | Categorical\n",
    "Target | Diagnosis of heart disease (1 = true; 0 = false) | Target"
   ]
  },
  {
   "cell_type": "markdown",
   "metadata": {
    "colab_type": "text"
   },
   "source": [
    "## Setup"
   ]
  },
  {
   "cell_type": "code",
   "execution_count": 0,
   "metadata": {
    "colab_type": "code"
   },
   "outputs": [],
   "source": [
    "\n",
    "import os\n",
    "import subprocess\n",
    "import tarfile\n",
    "import numpy as np\n",
    "import pandas as pd\n",
    "import tree\n",
    "from typing import Optional, Union\n",
    "\n",
    "os.environ[\"KERAS_BACKEND\"] = \"tensorflow\"  # or jax, or torch\n",
    "\n",
    "# Keras imports\n",
    "import keras\n",
    "from keras import layers\n",
    "\n",
    "# KerasTuner imports\n",
    "import keras_tuner\n",
    "from keras_tuner import HyperParameters\n",
    "\n",
    "# AutoKeras imports\n",
    "import autokeras as ak\n",
    "from autokeras.utils import utils, types\n",
    ""
   ]
  },
  {
   "cell_type": "markdown",
   "metadata": {
    "colab_type": "text"
   },
   "source": [
    "## Preparing the data\n",
    "\n",
    "Let's download the data and load it into a Pandas dataframe:"
   ]
  },
  {
   "cell_type": "code",
   "execution_count": 0,
   "metadata": {
    "colab_type": "code"
   },
   "outputs": [],
   "source": [
    "file_url = \"http://storage.googleapis.com/download.tensorflow.org/data/heart.csv\"\n",
    "dataframe = pd.read_csv(file_url)"
   ]
  },
  {
   "cell_type": "markdown",
   "metadata": {
    "colab_type": "text"
   },
   "source": [
    "The dataset includes 303 samples with 14 columns per sample (13 features, plus the target\n",
    "label):"
   ]
  },
  {
   "cell_type": "code",
   "execution_count": 0,
   "metadata": {
    "colab_type": "code"
   },
   "outputs": [],
   "source": [
    "dataframe.shape"
   ]
  },
  {
   "cell_type": "markdown",
   "metadata": {
    "colab_type": "text"
   },
   "source": [
    "Here's a preview of a few samples:"
   ]
  },
  {
   "cell_type": "code",
   "execution_count": 0,
   "metadata": {
    "colab_type": "code"
   },
   "outputs": [],
   "source": [
    "dataframe.head()"
   ]
  },
  {
   "cell_type": "markdown",
   "metadata": {
    "colab_type": "text"
   },
   "source": [
    "The last column, \"target\", indicates whether the patient has a heart disease (1) or not\n",
    "(0).\n",
    "\n",
    "Let's split the data into a training and validation set:"
   ]
  },
  {
   "cell_type": "code",
   "execution_count": 0,
   "metadata": {
    "colab_type": "code"
   },
   "outputs": [],
   "source": [
    "val_dataframe = dataframe.sample(frac=0.2, random_state=1337)\n",
    "train_dataframe = dataframe.drop(val_dataframe.index)\n",
    "\n",
    "print(\n",
    "    f\"Using {len(train_dataframe)} samples for training \"\n",
    "    f\"and {len(val_dataframe)} for validation\"\n",
    ")\n",
    ""
   ]
  },
  {
   "cell_type": "markdown",
   "metadata": {
    "colab_type": "text"
   },
   "source": [
    "## Define dataset metadata\n",
    "\n",
    "Here, we define the metadata of the dataset that will be useful for reading and\n",
    "parsing the data into input features, and encoding the input features with respect\n",
    "to their types."
   ]
  },
  {
   "cell_type": "code",
   "execution_count": 0,
   "metadata": {
    "colab_type": "code"
   },
   "outputs": [],
   "source": [
    "COLUMN_NAMES = [\n",
    "    \"age\",\n",
    "    \"sex\",\n",
    "    \"cp\",\n",
    "    \"trestbps\",\n",
    "    \"chol\",\n",
    "    \"fbs\",\n",
    "    \"restecg\",\n",
    "    \"thalach\",\n",
    "    \"exang\",\n",
    "    \"oldpeak\",\n",
    "    \"slope\",\n",
    "    \"ca\",\n",
    "    \"thal\",\n",
    "    \"target\",\n",
    "]\n",
    "# Target feature name.\n",
    "TARGET_FEATURE_NAME = \"target\"\n",
    "# Numeric feature names.\n",
    "NUMERIC_FEATURE_NAMES = [\"age\", \"trestbps\", \"thalach\", \"oldpeak\", \"slope\", \"chol\"]\n",
    "# Categorical features and their vocabulary lists.\n",
    "# Note that we add 'v=' as a prefix to all categorical feature values to make\n",
    "# sure that they are treated as strings.\n",
    "\n",
    "CATEGORICAL_FEATURES_WITH_VOCABULARY = {\n",
    "    feature_name: sorted(\n",
    "        [\n",
    "            # Integer categorcal must be int and string must be str\n",
    "            value if dataframe[feature_name].dtype == \"int64\" else str(value)\n",
    "            for value in list(dataframe[feature_name].unique())\n",
    "        ]\n",
    "    )\n",
    "    for feature_name in COLUMN_NAMES\n",
    "    if feature_name not in list(NUMERIC_FEATURE_NAMES + [TARGET_FEATURE_NAME])\n",
    "}\n",
    "# All features names.\n",
    "FEATURE_NAMES = NUMERIC_FEATURE_NAMES + list(\n",
    "    CATEGORICAL_FEATURES_WITH_VOCABULARY.keys()\n",
    ")\n",
    ""
   ]
  },
  {
   "cell_type": "markdown",
   "metadata": {
    "colab_type": "text"
   },
   "source": [
    "## Feature preprocessing with Keras layers\n",
    "\n",
    "\n",
    "The following features are categorical features encoded as integers:\n",
    "\n",
    "- `sex`\n",
    "- `cp`\n",
    "- `fbs`\n",
    "- `restecg`\n",
    "- `exang`\n",
    "- `ca`\n",
    "\n",
    "We will encode these features using **one-hot encoding**. We have two options\n",
    "here:\n",
    "\n",
    " - Use `CategoryEncoding()`, which requires knowing the range of input values\n",
    " and will error on input outside the range.\n",
    " - Use `IntegerLookup()` which will build a lookup table for inputs and reserve\n",
    " an output index for unkown input values.\n",
    "\n",
    "For this example, we want a simple solution that will handle out of range inputs\n",
    "at inference, so we will use `IntegerLookup()`.\n",
    "\n",
    "We also have a categorical feature encoded as a string: `thal`. We will create an\n",
    "index of all possible features and encode output using the `StringLookup()` layer.\n",
    "\n",
    "Finally, the following feature are continuous numerical features:\n",
    "\n",
    "- `age`\n",
    "- `trestbps`\n",
    "- `chol`\n",
    "- `thalach`\n",
    "- `oldpeak`\n",
    "- `slope`\n",
    "\n",
    "For each of these features, we will use a `Normalization()` layer to make sure the mean\n",
    "of each feature is 0 and its standard deviation is 1.\n",
    "\n",
    "Below, we define a utility function to do the operations:\n",
    "\n",
    "- `process` to one-hot encode string or integer categorical features."
   ]
  },
  {
   "cell_type": "code",
   "execution_count": 0,
   "metadata": {
    "colab_type": "code"
   },
   "outputs": [],
   "source": [
    "# Tensorflow required for tf.data.Dataset\n",
    "import tensorflow as tf\n",
    "\n",
    "\n",
    "# We process our datasets elements here (categorical) and convert them to indices to avoid this step\n",
    "# during model training since only tensorflow support strings.\n",
    "def encode_categorical(features, target):\n",
    "    for f in features:\n",
    "        if f in CATEGORICAL_FEATURES_WITH_VOCABULARY:\n",
    "            # Create a lookup to convert a string values to an integer indices.\n",
    "            # Since we are not using a mask token nor expecting any out of vocabulary\n",
    "            # (oov) token, we set mask_token to None and  num_oov_indices to 0.\n",
    "            cls = (\n",
    "                layers.StringLookup\n",
    "                if features[f].dtype == \"string\"\n",
    "                else layers.IntegerLookup\n",
    "            )\n",
    "            features[f] = cls(\n",
    "                vocabulary=CATEGORICAL_FEATURES_WITH_VOCABULARY[f],\n",
    "                mask_token=None,\n",
    "                num_oov_indices=0,\n",
    "                output_mode=\"binary\",\n",
    "            )(features[f])\n",
    "\n",
    "    # Change features from OrderedDict to Dict to match Inputs as they are Dict.\n",
    "    return dict(features), target\n",
    ""
   ]
  },
  {
   "cell_type": "markdown",
   "metadata": {
    "colab_type": "text"
   },
   "source": [
    "Let's generate `tf.data.Dataset` objects for each dataframe:"
   ]
  },
  {
   "cell_type": "code",
   "execution_count": 0,
   "metadata": {
    "colab_type": "code"
   },
   "outputs": [],
   "source": [
    "\n",
    "def dataframe_to_dataset(dataframe):\n",
    "    dataframe = dataframe.copy()\n",
    "    labels = dataframe.pop(\"target\")\n",
    "    ds = (\n",
    "        tf.data.Dataset.from_tensor_slices((dict(dataframe), labels))\n",
    "        .map(encode_categorical)\n",
    "        .shuffle(buffer_size=len(dataframe))\n",
    "    )\n",
    "    return ds\n",
    "\n",
    "\n",
    "train_ds = dataframe_to_dataset(train_dataframe)\n",
    "val_ds = dataframe_to_dataset(val_dataframe)\n",
    ""
   ]
  },
  {
   "cell_type": "markdown",
   "metadata": {
    "colab_type": "text"
   },
   "source": [
    "Each `Dataset` yields a tuple `(input, target)` where `input` is a dictionary of features\n",
    "and `target` is the value `0` or `1`:"
   ]
  },
  {
   "cell_type": "code",
   "execution_count": 0,
   "metadata": {
    "colab_type": "code"
   },
   "outputs": [],
   "source": [
    "for x, y in train_ds.take(1):\n",
    "    print(\"Input:\", x)\n",
    "    print(\"Target:\", y)"
   ]
  },
  {
   "cell_type": "markdown",
   "metadata": {
    "colab_type": "text"
   },
   "source": [
    "Let's batch the datasets:"
   ]
  },
  {
   "cell_type": "code",
   "execution_count": 0,
   "metadata": {
    "colab_type": "code"
   },
   "outputs": [],
   "source": [
    "train_ds = train_ds.batch(32)\n",
    "val_ds = val_ds.batch(32)"
   ]
  },
  {
   "cell_type": "markdown",
   "metadata": {
    "colab_type": "text"
   },
   "source": [
    "## Subclassing Autokeras Graph\n",
    "\n",
    "Here we subclass the Autokeras `Graph`\n",
    "\n",
    "- `build`: we override this method to be able to handle model `Inputs` passed\n",
    "as dictionaries. In structured data analysis Inputs are normally passed as\n",
    "dictionaries for each feature of interest"
   ]
  },
  {
   "cell_type": "code",
   "execution_count": 0,
   "metadata": {
    "colab_type": "code"
   },
   "outputs": [],
   "source": [
    "\n",
    "class Graph(ak.graph.Graph):\n",
    "\n",
    "    def build(self, hp):\n",
    "        \"\"\"Build the HyperModel into a Keras Model.\"\"\"\n",
    "        keras_nodes = {}\n",
    "        keras_input_nodes = []\n",
    "        for node in self.inputs:\n",
    "            node_id = self._node_to_id[node]\n",
    "            input_node = node.build_node(hp)\n",
    "            output_node = node.build(hp, input_node)\n",
    "            keras_input_nodes.append(input_node)\n",
    "            keras_nodes[node_id] = output_node\n",
    "        for block in self.blocks:\n",
    "            temp_inputs = (\n",
    "                {\n",
    "                    n.name: keras_nodes[self._node_to_id[n]]\n",
    "                    for n in block.inputs\n",
    "                    if isinstance(n, ak.Input)\n",
    "                }\n",
    "                if isinstance(block.inputs[0], ak.Input)\n",
    "                else [keras_nodes[self._node_to_id[n]] for n in block.inputs]\n",
    "            )\n",
    "            outputs = tree.flatten(block.build(hp, inputs=temp_inputs))\n",
    "            for n, o in zip(block.outputs, outputs):\n",
    "                keras_nodes[self._node_to_id[n]] = o\n",
    "        model = keras.models.Model(\n",
    "            keras_input_nodes,\n",
    "            [\n",
    "                keras_nodes[self._node_to_id[output_node]]\n",
    "                for output_node in self.outputs\n",
    "            ],\n",
    "        )\n",
    "        return self._compile_keras_model(hp, model)\n",
    "\n",
    "    def _compile_keras_model(self, hp, model):\n",
    "        # Specify hyperparameters from compile(...)\n",
    "        optimizer_name = hp.Choice(\n",
    "            \"optimizer\",\n",
    "            [\"adam\", \"sgd\"],\n",
    "            default=\"adam\",\n",
    "        )\n",
    "        learning_rate = hp.Choice(\n",
    "            \"learning_rate\", [1e-1, 1e-2, 1e-3, 1e-4, 2e-5, 1e-5], default=1e-3\n",
    "        )\n",
    "        if optimizer_name == \"adam\":\n",
    "            optimizer = keras.optimizers.Adam(learning_rate=learning_rate)\n",
    "        elif optimizer_name == \"sgd\":\n",
    "            optimizer = keras.optimizers.SGD(learning_rate=learning_rate)\n",
    "        model.compile(\n",
    "            optimizer=optimizer,\n",
    "            metrics=self._get_metrics(),\n",
    "            loss=self._get_loss(),\n",
    "        )\n",
    "        return model\n",
    ""
   ]
  },
  {
   "cell_type": "markdown",
   "metadata": {
    "colab_type": "text"
   },
   "source": [
    "## Subclassing Autokeras `Input`\n",
    "\n",
    "Here we subclass the Autokeras Input node object and override the dtype attribute\n",
    "from None to a user supplied value. We also override the `build_node` method to\n",
    "use user supplied name for Inputs layers."
   ]
  },
  {
   "cell_type": "code",
   "execution_count": 0,
   "metadata": {
    "colab_type": "code"
   },
   "outputs": [],
   "source": [
    "\n",
    "class Input(ak.Input):\n",
    "    def __init__(self, dtype, name=None, **kwargs):\n",
    "        super().__init__(name=name, **kwargs)\n",
    "        # Override dtype to a user dtype value\n",
    "        self.dtype = dtype\n",
    "        self.name = name\n",
    "\n",
    "    def build_node(self, hp):\n",
    "        return keras.Input(name=self.name, shape=self.shape, dtype=self.dtype)\n",
    ""
   ]
  },
  {
   "cell_type": "markdown",
   "metadata": {
    "colab_type": "text"
   },
   "source": [
    "## Subclassing ClassificationHead\n",
    "\n",
    "Here we subclass Autokeras ClassificationHead and override the __init__ method, and\n",
    "we add the method `get_expected_shape` to infer the labels shape.\n",
    "We remove the preprocessing fuctionality as we prefer to conduct such manually."
   ]
  },
  {
   "cell_type": "code",
   "execution_count": 0,
   "metadata": {
    "colab_type": "code"
   },
   "outputs": [],
   "source": [
    "\n",
    "class ClassifierHead(ak.ClassificationHead):\n",
    "\n",
    "    def __init__(\n",
    "        self,\n",
    "        num_classes: Optional[int] = None,\n",
    "        multi_label: bool = False,\n",
    "        loss: Optional[types.LossType] = None,\n",
    "        metrics: Optional[types.MetricsType] = None,\n",
    "        dropout: Optional[float] = None,\n",
    "        **kwargs,\n",
    "    ):\n",
    "        self.num_classes = num_classes\n",
    "        self.multi_label = multi_label\n",
    "        self.dropout = dropout\n",
    "        if metrics is None:\n",
    "            metrics = [\"accuracy\"]\n",
    "        if loss is None:\n",
    "            loss = self.infer_loss()\n",
    "        ak.Head.__init__(self, loss=loss, metrics=metrics, **kwargs)\n",
    "        self.shape = self.get_expected_shape()\n",
    "\n",
    "    def get_expected_shape(self):\n",
    "        # Compute expected shape from num_classes.\n",
    "        if self.num_classes == 2 and not self.multi_label:\n",
    "            return [1]\n",
    "        return [self.num_classes]\n",
    ""
   ]
  },
  {
   "cell_type": "markdown",
   "metadata": {
    "colab_type": "text"
   },
   "source": [
    "## GatedLinearUnit Layer\n",
    "\n",
    "This is a keras layer defined in the script `structured_data/classification_with_grn_vsn.py`\n",
    "More details about this layer maybe found in the relevant script"
   ]
  },
  {
   "cell_type": "code",
   "execution_count": 0,
   "metadata": {
    "colab_type": "code"
   },
   "outputs": [],
   "source": [
    "\n",
    "class GatedLinearUnit(layers.Layer):\n",
    "    def __init__(self, num_units, activation, **kwargs):\n",
    "        super().__init__(**kwargs)\n",
    "        self.linear = layers.Dense(num_units)\n",
    "        self.sigmoid = layers.Dense(num_units, activation=activation)\n",
    "\n",
    "    def call(self, inputs):\n",
    "        return self.linear(inputs) * self.sigmoid(inputs)\n",
    "\n",
    "    def build(self):\n",
    "        self.built = True\n",
    ""
   ]
  },
  {
   "cell_type": "markdown",
   "metadata": {
    "colab_type": "text"
   },
   "source": [
    "## GatedResidualNetwork Layer\n",
    "\n",
    "This is a keras layer defined in the script `structured_data/classification_with_grn_vsn.py`\n",
    "More details about this layer maybe found in the relevant script"
   ]
  },
  {
   "cell_type": "code",
   "execution_count": 0,
   "metadata": {
    "colab_type": "code"
   },
   "outputs": [],
   "source": [
    "\n",
    "class GatedResidualNetwork(layers.Layer):\n",
    "\n",
    "    def __init__(\n",
    "        self, num_units, dropout_rate, activation, use_layernorm=None, **kwargs\n",
    "    ):\n",
    "        super().__init__(**kwargs)\n",
    "        self.num_units = num_units\n",
    "        self.use_layernorm = use_layernorm\n",
    "        self.elu_dense = layers.Dense(num_units, activation=activation)\n",
    "        self.linear_dense = layers.Dense(num_units)\n",
    "        self.dropout = layers.Dropout(dropout_rate)\n",
    "        self.gated_linear_unit = GatedLinearUnit(num_units, activation)\n",
    "        self.layer_norm = layers.LayerNormalization()\n",
    "        self.project = layers.Dense(num_units)\n",
    "\n",
    "    def call(self, inputs, hp):\n",
    "        x = self.elu_dense(inputs)\n",
    "        x = self.linear_dense(x)\n",
    "        x = self.dropout(x)\n",
    "        if inputs.shape[-1] != self.num_units:\n",
    "            inputs = self.project(inputs)\n",
    "        x = inputs + self.gated_linear_unit(x)\n",
    "        use_layernorm = self.use_layernorm\n",
    "        if use_layernorm is None:\n",
    "            use_layernorm = hp.Boolean(\"use_layernorm\", default=True)\n",
    "        if use_layernorm:\n",
    "            x = self.layer_norm(x)\n",
    "        return x\n",
    "\n",
    "    def build(self):\n",
    "        self.built = True\n",
    ""
   ]
  },
  {
   "cell_type": "markdown",
   "metadata": {
    "colab_type": "text"
   },
   "source": [
    "## Building the Autokeras `VariableSelection Block`\n",
    "\n",
    "We have converted the following keras layer to an Autokeras Block to include\n",
    "hyperapameters to tune. Refer to Autokeras blocks API for writing custom Blocks."
   ]
  },
  {
   "cell_type": "code",
   "execution_count": 0,
   "metadata": {
    "colab_type": "code"
   },
   "outputs": [],
   "source": [
    "\n",
    "class VariableSelection(ak.Block):\n",
    "    def __init__(\n",
    "        self,\n",
    "        num_units: Optional[Union[int, HyperParameters.Choice]] = None,\n",
    "        dropout_rate: Optional[Union[float, HyperParameters.Choice]] = None,\n",
    "        activation: Optional[Union[str, HyperParameters.Choice]] = None,\n",
    "        **kwargs,\n",
    "    ):\n",
    "        super().__init__(**kwargs)\n",
    "        self.dropout = utils.get_hyperparameter(\n",
    "            dropout_rate,\n",
    "            HyperParameters().Choice(\"dropout\", [0.0, 0.25, 0.5], default=0.0),\n",
    "            float,\n",
    "        )\n",
    "        self.num_units = utils.get_hyperparameter(\n",
    "            num_units,\n",
    "            HyperParameters().Choice(\n",
    "                \"num_units\", [16, 32, 64, 128, 256, 512, 1024], default=16\n",
    "            ),\n",
    "            int,\n",
    "        )\n",
    "        self.activation = utils.get_hyperparameter(\n",
    "            activation,\n",
    "            HyperParameters().Choice(\n",
    "                \"vsn_activation\", [\"sigmoid\", \"elu\"], default=\"sigmoid\"\n",
    "            ),\n",
    "            str,\n",
    "        )\n",
    "\n",
    "    def build(self, hp, inputs):\n",
    "        num_units = utils.add_to_hp(self.num_units, hp, \"num_units\")\n",
    "        dropout_rate = utils.add_to_hp(self.dropout, hp, \"dropout_rate\")\n",
    "        activation = utils.add_to_hp(self.activation, hp, \"activation\")\n",
    "        concat_inputs = []\n",
    "        # Project the features to 'num_units' dimension\n",
    "        for input_ in inputs:\n",
    "            if input_ in CATEGORICAL_FEATURES_WITH_VOCABULARY:\n",
    "                concat_inputs.append(\n",
    "                    keras.layers.Dense(units=num_units)(inputs[input_])\n",
    "                )\n",
    "            else:\n",
    "                # Create a Normalization layer for our feature\n",
    "                normalizer = layers.Normalization()\n",
    "                # Prepare a Dataset that only yields our feature\n",
    "                feature_ds = train_ds.map(lambda x, y: x[input_]).map(\n",
    "                    lambda x: keras.ops.expand_dims(x, -1)\n",
    "                )\n",
    "                # Learn the statistics of the data\n",
    "                normalizer.adapt(feature_ds)\n",
    "                # Normalize the input feature\n",
    "                normal_feature = normalizer(inputs[input_])\n",
    "                concat_inputs.append(\n",
    "                    keras.layers.Dense(units=num_units)(normal_feature)\n",
    "                )\n",
    "        v = layers.concatenate(concat_inputs)\n",
    "        v = GatedResidualNetwork(\n",
    "            num_units=num_units, dropout_rate=dropout_rate, activation=activation\n",
    "        )(v, hp=hp)\n",
    "        v = keras.ops.expand_dims(\n",
    "            layers.Dense(units=len(inputs), activation=activation)(v), axis=-1\n",
    "        )\n",
    "        x = []\n",
    "        x += [\n",
    "            GatedResidualNetwork(num_units, dropout_rate, activation)(i, hp=hp)\n",
    "            for i in concat_inputs\n",
    "        ]\n",
    "        x = keras.ops.stack(x, axis=1)\n",
    "        return keras.ops.squeeze(\n",
    "            keras.ops.matmul(keras.ops.transpose(v, axes=[0, 2, 1]), x), axis=1\n",
    "        )\n",
    ""
   ]
  },
  {
   "cell_type": "markdown",
   "metadata": {
    "colab_type": "text"
   },
   "source": [
    "# We create the HyperModel (from KerasTuner) Inputs which will be built into Keras Input objects"
   ]
  },
  {
   "cell_type": "code",
   "execution_count": 0,
   "metadata": {
    "colab_type": "code"
   },
   "outputs": [],
   "source": [
    "\n",
    "# Categorical features have different shapes after the encoding, dependent on the\n",
    "# vocabulary or unique values of each feature. We create them accordinly to match the\n",
    "# input data elements generated by tf.data.Dataset after pre-processing them\n",
    "def create_model_inputs():\n",
    "    inputs = {\n",
    "        f: (\n",
    "            Input(\n",
    "                name=f,\n",
    "                shape=(len(CATEGORICAL_FEATURES_WITH_VOCABULARY[f]),),\n",
    "                dtype=\"int64\",\n",
    "            )\n",
    "            if f in CATEGORICAL_FEATURES_WITH_VOCABULARY\n",
    "            else Input(name=f, shape=(1,), dtype=\"float32\")\n",
    "        )\n",
    "        for f in FEATURE_NAMES\n",
    "    }\n",
    "    return inputs\n",
    ""
   ]
  },
  {
   "cell_type": "markdown",
   "metadata": {
    "colab_type": "text"
   },
   "source": [
    "## KerasTuner `HyperModel`\n",
    "\n",
    "Here we use the Autokeras `Functional` API to construct a network of BlocksSSS which will\n",
    "be built into a KerasTuner HyperModel and finally to a Keras Model."
   ]
  },
  {
   "cell_type": "code",
   "execution_count": 0,
   "metadata": {
    "colab_type": "code"
   },
   "outputs": [],
   "source": [
    "\n",
    "class MyHyperModel(keras_tuner.HyperModel):\n",
    "\n",
    "    def build(self, hp):\n",
    "        inputs = create_model_inputs()\n",
    "        features = VariableSelection()(inputs)\n",
    "        outputs = ClassifierHead(num_classes=2, multi_label=False)(features)\n",
    "        model = Graph(inputs=inputs, outputs=outputs)\n",
    "        model = model.build(hp)\n",
    "        return model\n",
    "\n",
    "    def fit(self, hp, model, *args, **kwargs):\n",
    "        return model.fit(\n",
    "            *args,\n",
    "            # Tune whether to shuffle the data in each epoch.\n",
    "            shuffle=hp.Boolean(\"shuffle\"),\n",
    "            **kwargs,\n",
    "        )\n",
    ""
   ]
  },
  {
   "cell_type": "markdown",
   "metadata": {
    "colab_type": "text"
   },
   "source": [
    "##  Using `RandomSearch` Tuner to find best HyperParameters\n",
    "\n",
    "We use the RandomSearch tuner to serach for hyparameters in the search space\n",
    "We also display the search space"
   ]
  },
  {
   "cell_type": "code",
   "execution_count": 0,
   "metadata": {
    "colab_type": "code"
   },
   "outputs": [],
   "source": [
    "print(\"Start training and searching for the best model...\")\n",
    "\n",
    "tuner = keras_tuner.RandomSearch(\n",
    "    MyHyperModel(),\n",
    "    objective=\"val_accuracy\",\n",
    "    max_trials=3,\n",
    "    overwrite=True,\n",
    "    directory=\"my_dir\",\n",
    "    project_name=\"tune_hypermodel\",\n",
    ")\n",
    "\n",
    "# Show the search space summary\n",
    "print(\"Tuner search space summary:\\n\")\n",
    "tuner.search_space_summary()\n",
    "# Search for best model\n",
    "tuner.search(train_ds, epochs=2, validation_data=val_ds)"
   ]
  },
  {
   "cell_type": "markdown",
   "metadata": {
    "colab_type": "text"
   },
   "source": [
    "## Extracting the best model"
   ]
  },
  {
   "cell_type": "code",
   "execution_count": 0,
   "metadata": {
    "colab_type": "code"
   },
   "outputs": [],
   "source": [
    "# Get the top model.\n",
    "models = tuner.get_best_models(num_models=1)\n",
    "best_model = models[0]\n",
    "best_model.summary()\n",
    ""
   ]
  },
  {
   "cell_type": "markdown",
   "metadata": {
    "colab_type": "text"
   },
   "source": [
    "## Inference on new data\n",
    "\n",
    "To get a prediction for a new sample, you can simply call `model.predict()`. There are\n",
    "just two things you need to do:\n",
    "\n",
    "1. wrap scalars into a list so as to have a batch dimension (models only process batches\n",
    "of data, not single samples)\n",
    "2. Call `convert_to_tensor` on each feature"
   ]
  },
  {
   "cell_type": "code",
   "execution_count": 0,
   "metadata": {
    "colab_type": "code"
   },
   "outputs": [],
   "source": [
    "sample = {\n",
    "    \"age\": 60,\n",
    "    \"sex\": 1,\n",
    "    \"cp\": 1,\n",
    "    \"trestbps\": 145,\n",
    "    \"chol\": 233,\n",
    "    \"fbs\": 1,\n",
    "    \"restecg\": 2,\n",
    "    \"thalach\": 150,\n",
    "    \"exang\": 0,\n",
    "    \"oldpeak\": 2.3,\n",
    "    \"slope\": 3,\n",
    "    \"ca\": 0,\n",
    "    \"thal\": \"fixed\",\n",
    "}\n",
    "\n",
    "\n",
    "# Given the category (in the sample above - key) and the category value (in the sample above - value),\n",
    "# we return its one-hot encoding\n",
    "def get_cat_encoding(cat, cat_value):\n",
    "    # Create a list of zeros with the same length as categories\n",
    "    encoding = [0] * len(cat)\n",
    "    # Find the index of category_value in categories and set the corresponding position to 1\n",
    "    if cat_value in cat:\n",
    "        encoding[cat.index(cat_value)] = 1\n",
    "    return encoding\n",
    "\n",
    "\n",
    "for name, value in sample.items():\n",
    "    if name in CATEGORICAL_FEATURES_WITH_VOCABULARY:\n",
    "        sample.update(\n",
    "            {\n",
    "                name: get_cat_encoding(\n",
    "                    CATEGORICAL_FEATURES_WITH_VOCABULARY[name], sample[name]\n",
    "                )\n",
    "            }\n",
    "        )\n",
    "# Convert inputs to tensors\n",
    "input_dict = {name: tf.convert_to_tensor([value]) for name, value in sample.items()}\n",
    "predictions = best_model.predict(input_dict)\n",
    "\n",
    "print(\n",
    "    f\"This particular patient had a {100 * predictions[0][0]:.1f} \"\n",
    "    \"percent probability of having a heart disease, \"\n",
    "    \"as evaluated by our model.\"\n",
    ")"
   ]
  }
 ],
 "metadata": {
  "accelerator": "GPU",
  "colab": {
   "collapsed_sections": [],
   "name": "class_with_grn_and_vsn_with_hyperparameters_tuning",
   "private_outputs": false,
   "provenance": [],
   "toc_visible": true
  },
  "kernelspec": {
   "display_name": "Python 3",
   "language": "python",
   "name": "python3"
  },
  "language_info": {
   "codemirror_mode": {
    "name": "ipython",
    "version": 3
   },
   "file_extension": ".py",
   "mimetype": "text/x-python",
   "name": "python",
   "nbconvert_exporter": "python",
   "pygments_lexer": "ipython3",
   "version": "3.7.0"
  }
 },
 "nbformat": 4,
 "nbformat_minor": 0
}