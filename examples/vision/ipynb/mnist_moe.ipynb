{
 "cells": [
  {
   "cell_type": "markdown",
   "metadata": {
    "colab_type": "text"
   },
   "source": [
    "# MoE for MNIST\n",
    "\n",
    "**Author:** [Damoon Shahhosseini](https://www.linkedin.com/in/damoonsh/)<br>\n",
    "**Date created:** 2015/06/19<br>\n",
    "**Last modified:** 2020/04/21<br>\n",
    "**Description:** Simple MoE implementation for MNIST classification."
   ]
  },
  {
   "cell_type": "markdown",
   "metadata": {
    "colab_type": "text"
   },
   "source": [
    "# Introduction\n",
    "\n",
    "In this example, we implement an adaptation of the Mixture of Experts (MoE) architecture\n",
    "([Shazeer et al.](https://arxiv.org/abs/1701.06538)).\n",
    "The idea is to use conditional computation to increases model capacity without increasing computation.\n",
    "Experts are identical blocks within a layer where each are trained to specialize in different parts of the input space.\n",
    "At each forward pass, a gating network selects a subset of experts to apply to the input.\n",
    "\n",
    "The components to implement are:\n",
    "\n",
    "- Gating network: A dense layer that outputs a probability distribution over the experts.\n",
    "- MoE layer: A layer that applies a different expert to each input in the batch. And a loss function that ensures specialization among the experts.\n",
    "- Model: A simple model that uses the MoE layer."
   ]
  },
  {
   "cell_type": "markdown",
   "metadata": {
    "colab_type": "text"
   },
   "source": [
    "## Imports"
   ]
  },
  {
   "cell_type": "code",
   "execution_count": 0,
   "metadata": {
    "colab_type": "code"
   },
   "outputs": [],
   "source": [
    "import numpy as np\n",
    "import keras\n",
    "from keras import layers, models\n",
    "import tensorflow as tf\n",
    "from tensorflow.keras import backend as K"
   ]
  },
  {
   "cell_type": "markdown",
   "metadata": {
    "colab_type": "text"
   },
   "source": [
    "### Data Prepration"
   ]
  },
  {
   "cell_type": "code",
   "execution_count": 0,
   "metadata": {
    "colab_type": "code"
   },
   "outputs": [],
   "source": [
    "# Model / data parameters\n",
    "num_classes = 10\n",
    "input_shape = (28, 28, 1)\n",
    "\n",
    "# Load the data and split it between train and test sets\n",
    "(x_train, y_train), (x_test, y_test) = keras.datasets.mnist.load_data()\n",
    "\n",
    "# Scale images to the [0, 1] range\n",
    "x_train = x_train.astype(\"float32\") / 255\n",
    "x_test = x_test.astype(\"float32\") / 255\n",
    "# Make sure images have shape (28, 28, 1)\n",
    "x_train = np.expand_dims(x_train, -1)\n",
    "x_test = np.expand_dims(x_test, -1)\n",
    "print(\"x_train shape:\", x_train.shape)\n",
    "print(x_train.shape[0], \"train samples\")\n",
    "print(x_test.shape[0], \"test samples\")\n",
    "\n",
    "\n",
    "# convert class vectors to binary class matrices\n",
    "y_train = keras.utils.to_categorical(y_train, num_classes)\n",
    "y_test = keras.utils.to_categorical(y_test, num_classes)"
   ]
  },
  {
   "cell_type": "markdown",
   "metadata": {
    "colab_type": "text"
   },
   "source": [
    "## Constants"
   ]
  },
  {
   "cell_type": "code",
   "execution_count": 0,
   "metadata": {
    "colab_type": "code"
   },
   "outputs": [],
   "source": [
    "NUM_EXPERTS = 5\n",
    "TOP_K = 3\n",
    "BATCH_SIZE = 128\n",
    "NUM_EPOCHS = 12\n",
    "LEARNING_RATE = 0.001\n",
    ""
   ]
  },
  {
   "cell_type": "markdown",
   "metadata": {
    "colab_type": "text"
   },
   "source": [
    "## Base architecture\n",
    "\n",
    "The most basic [MNIST classifier](https://keras.io/examples/vision/mnist_convnet/) consists of a stack of convolutional layers followed by a dense layer. In this tutorial, we will first replace the dense layer with a MoE layer. Then do the same for convolutional layers."
   ]
  },
  {
   "cell_type": "code",
   "execution_count": 0,
   "metadata": {
    "colab_type": "code"
   },
   "outputs": [],
   "source": [
    "model = keras.Sequential(\n",
    "    [\n",
    "        keras.Input(shape=input_shape),\n",
    "        layers.Conv2D(32, kernel_size=(3, 3), activation=\"relu\"),\n",
    "        layers.MaxPooling2D(pool_size=(2, 2)),\n",
    "        layers.Conv2D(64, kernel_size=(3, 3), activation=\"relu\"),\n",
    "        layers.MaxPooling2D(pool_size=(2, 2)),\n",
    "        layers.Flatten(),\n",
    "        layers.Dropout(0.5),\n",
    "        layers.Dense(num_classes, activation=\"softmax\"),\n",
    "    ]\n",
    ")\n",
    "\n",
    "model.summary()"
   ]
  },
  {
   "cell_type": "markdown",
   "metadata": {
    "colab_type": "text"
   },
   "source": [
    "# Linear MoE using Dense layers\n",
    "\n",
    "For this layer, we will create multiple dense layers that will be used as experts. Then a simple gating network will select at each step which exerts should be utilized for the current input. We will keep track of the number of times each expert is used. Then the selected experts will be combined using a weighted sum."
   ]
  },
  {
   "cell_type": "code",
   "execution_count": 0,
   "metadata": {
    "colab_type": "code"
   },
   "outputs": [],
   "source": [
    "\n",
    "class LinearMoE(layers.Layer):\n",
    "    def __init__(\n",
    "        self,\n",
    "        hidden_size,\n",
    "        num_experts=NUM_EXPERTS,\n",
    "        top_k=TOP_K,\n",
    "    ):\n",
    "        super(LinearMoE, self).__init__()\n",
    "\n",
    "        # Initialize experts\n",
    "        self.experts = [\n",
    "            layers.Dense(\n",
    "                hidden_size,\n",
    "                kernel_initializer=tf.keras.initializers.RandomNormal(\n",
    "                    mean=0.0, stddev=0.001\n",
    "                ),\n",
    "                bias_initializer=\"zeros\",\n",
    "            )\n",
    "            for _ in range(num_experts)\n",
    "        ]\n",
    "        # Initialize gating network\n",
    "        self.gating_network = layers.Dense(\n",
    "            NUM_EXPERTS,\n",
    "            kernel_initializer=tf.keras.initializers.RandomNormal(\n",
    "                mean=0.0, stddev=0.001\n",
    "            ),\n",
    "            bias_initializer=\"zeros\",\n",
    "            activation=\"softmax\",\n",
    "        )\n",
    "\n",
    "        self.num_experts = num_experts\n",
    "        self.top_k = top_k\n",
    "        # Keep track of how many times each expert is used\n",
    "        self.expert_usage_count = tf.Variable(\n",
    "            tf.zeros((num_experts,), dtype=tf.float32)\n",
    "        )\n",
    "\n",
    "    def get_top_outputs(self, x, top_k_indices, top_k_weights):\n",
    "        batch_size = tf.shape(x)[0]\n",
    "        flat_indices = tf.reshape(top_k_indices, [-1])\n",
    "        repeated_x = tf.repeat(x, repeats=self.top_k, axis=0)\n",
    "\n",
    "        # Compute outputs for unique experts\n",
    "        unique_expert_ids = tf.unique(flat_indices)[0]  # Get unique expert indices\n",
    "        expert_outputs_dict = {}\n",
    "        for idx in unique_expert_ids:\n",
    "            mask = tf.equal(flat_indices, idx)\n",
    "            selected_inputs = tf.boolean_mask(repeated_x, mask)\n",
    "            expert_outputs_dict[idx.numpy()] = self.experts[idx](selected_inputs)\n",
    "\n",
    "        # Gather outputs back into the correct shape\n",
    "        output_size = self.experts[0].compute_output_shape(input_shape=(None, 10))[-1]\n",
    "        flat_outputs = tf.zeros(\n",
    "            [batch_size * self.top_k, output_size], dtype=tf.float32\n",
    "        )\n",
    "        for idx in unique_expert_ids:\n",
    "            mask = tf.equal(flat_indices, idx)\n",
    "            indices = tf.where(mask)\n",
    "            flat_outputs = tf.tensor_scatter_nd_update(\n",
    "                flat_outputs, indices, expert_outputs_dict[idx.numpy()]\n",
    "            )\n",
    "        top_k_expert_outputs = tf.reshape(\n",
    "            flat_outputs, [batch_size, self.top_k, output_size]\n",
    "        )\n",
    "\n",
    "        # Combine outputs using top-k weights\n",
    "        return tf.einsum(\"ijk,ij->ik\", top_k_expert_outputs, top_k_weights)\n",
    "\n",
    "    def update_usage_counts(self, indices):\n",
    "        updates = tf.ones_like(tf.reshape(indices, [-1]), dtype=tf.float32)\n",
    "        self.expert_usage_count.assign(\n",
    "            tf.tensor_scatter_nd_add(\n",
    "                self.expert_usage_count, tf.reshape(indices, [-1, 1]), updates\n",
    "            )\n",
    "        )\n",
    "\n",
    "    def call(self, x):\n",
    "        gating_weights = self.gating_network(x)\n",
    "        top_k_weights, top_k_indices = tf.math.top_k(gating_weights, k=self.top_k)\n",
    "        combined_output = self.get_top_outputs(x, top_k_indices, top_k_weights)\n",
    "        self.update_usage_counts(top_k_indices)\n",
    "\n",
    "        return combined_output\n",
    ""
   ]
  },
  {
   "cell_type": "markdown",
   "metadata": {
    "colab_type": "text"
   },
   "source": [
    "Output of the top 3 experts out of 10 for one layer of MoE:"
   ]
  },
  {
   "cell_type": "code",
   "execution_count": 0,
   "metadata": {
    "colab_type": "code"
   },
   "outputs": [],
   "source": [
    "sample_data = tf.random.uniform((1, 10))\n",
    "linear_mode = LinearMoE(32, 10, 3)\n",
    "linear_mode(sample_data)"
   ]
  },
  {
   "cell_type": "markdown",
   "metadata": {
    "colab_type": "text"
   },
   "source": [
    "## Routing Collapse\n",
    "\n",
    "One common challenge with MoE architectures is \"routing collapse\". The \"route\" refers to the selection process of which expert to use for a given input where the model falls into a pattern of only using a small subset of experts. This happens because:\n",
    "\n",
    "1. Early in training, some experts may perform slightly better by chance\n",
    "2. These better-performing experts get selected more frequently\n",
    "3. With more practice, these experts improve further, creating a feedback loop\n",
    "4. Other experts become neglected and never improve\n",
    "\n",
    "Code below demonstrates the randomness of expert selection:"
   ]
  },
  {
   "cell_type": "code",
   "execution_count": 0,
   "metadata": {
    "colab_type": "code"
   },
   "outputs": [],
   "source": [
    "\n",
    "def check_expert_usage(runs):\n",
    "    # Running the later multiple times to show randomness of expert selection\n",
    "    for i in range(runs):\n",
    "        sample_data = tf.random.uniform((1, 10))\n",
    "        linear_mode = LinearMoE(10, 5)\n",
    "        _ = linear_mode(sample_data)\n",
    "        print(f\"Run {i}, Expert usage: {linear_mode.expert_usage_count.numpy()}\")\n",
    "\n",
    "\n",
    "check_expert_usage(4)"
   ]
  },
  {
   "cell_type": "markdown",
   "metadata": {
    "colab_type": "text"
   },
   "source": [
    "### Load Balancing Solutions\n",
    "\n",
    "To prevent routing collapse, we implement three types of losses that were introduced in various MoE research:\n",
    "\n",
    "1. Diversity Loss: Encourages the gating network to use all experts by maximizing the entropy\n",
    "   of expert selection probabilities\n",
    "   [Shazeer et al., \"Outrageously Large Neural Networks\" (2017)](https://arxiv.org/abs/1701.06538)\n",
    "\n",
    "2. Importance Loss: Ensures each expert handles a similar total amount of input across the batch\n",
    "   by penalizing deviations from the mean usage\n",
    "   [Lepikhin et al., \"GShard: Scaling Giant Models with Conditional Computation\" (2020)](https://arxiv.org/abs/2006.16668)\n",
    "\n",
    "3. Overflow Loss: Prevents individual experts from being overloaded by penalizing usage above\n",
    "   a specified capacity threshold\n",
    "   [Fedus et al., \"Switch Transformers\" (2021)](https://arxiv.org/abs/2101.03961)\n",
    "\n",
    "These losses are combined with the main classification loss during training to ensure balanced expert utilization.\n",
    "The combination of these techniques has proven effective in large-scale models like GShard and Switch Transformers."
   ]
  },
  {
   "cell_type": "code",
   "execution_count": 0,
   "metadata": {
    "colab_type": "code"
   },
   "outputs": [],
   "source": [
    "\n",
    "class LinearMoE(layers.Layer):\n",
    "    def __init__(\n",
    "        self,\n",
    "        hidden_size,\n",
    "        num_experts=NUM_EXPERTS,\n",
    "        top_k=TOP_K,\n",
    "    ):\n",
    "        super(LinearMoE, self).__init__()\n",
    "\n",
    "        # Initialize experts\n",
    "        self.experts = [\n",
    "            layers.Dense(\n",
    "                hidden_size,\n",
    "                kernel_initializer=tf.keras.initializers.RandomNormal(\n",
    "                    mean=0.0, stddev=0.001\n",
    "                ),\n",
    "                bias_initializer=\"zeros\",\n",
    "            )\n",
    "            for _ in range(num_experts)\n",
    "        ]\n",
    "        # Initialize gating network\n",
    "        self.gating_network = layers.Dense(\n",
    "            num_experts,  # Match output to num_experts\n",
    "            kernel_initializer=tf.keras.initializers.RandomNormal(\n",
    "                mean=0.0, stddev=0.001\n",
    "            ),\n",
    "            bias_initializer=\"zeros\",\n",
    "            activation=\"softmax\",\n",
    "        )\n",
    "\n",
    "        self.num_experts = num_experts\n",
    "        self.top_k = top_k\n",
    "        # Keep track of how many times each expert is used as a layer weight\n",
    "        self.expert_usage_count = tf.Variable(\n",
    "            tf.zeros((num_experts,), dtype=tf.float32)\n",
    "        )\n",
    "\n",
    "        self.batch_capacity = BATCH_SIZE // num_experts\n",
    "\n",
    "    def _diversity_loss(self, weights):\n",
    "        entropy = -K.sum(weights * K.log(weights + 1e-10), axis=1)\n",
    "        self.diversity_loss = -K.mean(entropy)\n",
    "\n",
    "    def _importance_loss(self, gating_weights):\n",
    "        batch_importance_sum = K.sum(gating_weights, axis=0)\n",
    "        mean_importance = K.mean(batch_importance_sum)\n",
    "        self.importance_loss = K.mean(\n",
    "            K.square(\n",
    "                batch_importance_sum\n",
    "                - mean_importance * tf.ones_like(batch_importance_sum)\n",
    "            )\n",
    "        )\n",
    "\n",
    "    # Replace the current get_top_outputs method with this vectorized version\n",
    "    def get_top_outputs(\n",
    "        self, x, gating_weights\n",
    "    ):  # Changed to take gating_weights directly\n",
    "        \"\"\"Compute outputs from top-k experts.\"\"\"\n",
    "        top_k_weights, top_k_indices = tf.math.top_k(gating_weights, k=self.top_k)\n",
    "\n",
    "        # Store indices and updates for usage count\n",
    "        self.indices = tf.reshape(top_k_indices, [-1, 1])\n",
    "        self.updates = tf.ones_like(tf.reshape(top_k_indices, [-1]), dtype=tf.float32)\n",
    "\n",
    "        # Compute expert outputs symbolically\n",
    "        expert_outputs = tf.stack([expert(x) for expert in self.experts], axis=1)\n",
    "        batch_size = tf.shape(x)[0]\n",
    "        batch_indices = tf.tile(tf.range(batch_size)[:, tf.newaxis], [1, self.top_k])\n",
    "        gather_indices = tf.stack([batch_indices, top_k_indices], axis=-1)\n",
    "        top_k_expert_outputs = tf.gather_nd(expert_outputs, gather_indices)\n",
    "\n",
    "        combined_output = tf.reduce_sum(\n",
    "            top_k_expert_outputs * top_k_weights[:, :, tf.newaxis], axis=1\n",
    "        )\n",
    "        return combined_output\n",
    "\n",
    "    def update_usage_counts(self):\n",
    "        updates = tf.ones_like(tf.reshape(self.indices, [-1]), dtype=tf.float32)\n",
    "        self.expert_usage_count.assign(\n",
    "            tf.tensor_scatter_nd_add(\n",
    "                self.expert_usage_count, tf.reshape(self.indices, [-1, 1]), updates\n",
    "            )\n",
    "        )\n",
    "\n",
    "    def call(self, x):\n",
    "        # Get gating weights and normalize\n",
    "        gating_weights = self.gating_network(x)\n",
    "        # top_k_weights, top_k_indices = tf.nn.top_k(gating_weights, k=self.top_k)\n",
    "        combined_output = self.get_top_outputs(x, gating_weights)\n",
    "        self.update_usage_counts()\n",
    "        self._diversity_loss(gating_weights)\n",
    "        self._importance_loss(gating_weights)\n",
    "\n",
    "        return combined_output\n",
    "\n",
    "    def compute_total_loss(self, load_balance_coef=0.01):\n",
    "        self.batch_overflow_sum = K.sum(\n",
    "            K.relu(tf.convert_to_tensor(self.expert_usage_count) - self.batch_capacity)\n",
    "        )\n",
    "        return load_balance_coef * (\n",
    "            self.diversity_loss + self.batch_overflow_sum + self.importance_loss\n",
    "        )\n",
    ""
   ]
  },
  {
   "cell_type": "markdown",
   "metadata": {
    "colab_type": "text"
   },
   "source": [
    "## MNIST classification with MoE"
   ]
  },
  {
   "cell_type": "code",
   "execution_count": 0,
   "metadata": {
    "colab_type": "code"
   },
   "outputs": [],
   "source": [
    "\n",
    "class MoEModel(keras.Model):\n",
    "    def __init__(\n",
    "        self,\n",
    "        num_classes,\n",
    "        num_experts=NUM_EXPERTS,\n",
    "        top_k=TOP_K,\n",
    "        moe_loss_considered=True,\n",
    "    ):\n",
    "        super(MoEModel, self).__init__()\n",
    "\n",
    "        # Define the convolutional block\n",
    "        self.conv_block = keras.Sequential(\n",
    "            [\n",
    "                layers.Conv2D(32, kernel_size=(3, 3), activation=\"relu\"),\n",
    "                layers.MaxPooling2D(pool_size=(2, 2)),\n",
    "                layers.Conv2D(64, kernel_size=(3, 3), activation=\"relu\"),\n",
    "                layers.MaxPooling2D(pool_size=(2, 2)),\n",
    "                layers.Flatten(),\n",
    "                layers.Dropout(0.5),\n",
    "            ]\n",
    "        )\n",
    "\n",
    "        # MoE classifier\n",
    "        self.moe_classifier = LinearMoE(\n",
    "            hidden_size=num_classes, num_experts=num_experts, top_k=top_k\n",
    "        )\n",
    "\n",
    "        # Softmax layer\n",
    "        self.softmax = layers.Softmax()\n",
    "        self.moe_loss_considered = moe_loss_considered\n",
    "\n",
    "    def call(self, inputs, training=False):\n",
    "        conv_flatten = self.conv_block(inputs)\n",
    "        moe_output = self.moe_classifier(conv_flatten)\n",
    "        outputs = self.softmax(moe_output)\n",
    "        return outputs\n",
    "\n",
    "    def train_step(self, data):\n",
    "        x, y = data  # Unpack input data and labels\n",
    "\n",
    "        with tf.GradientTape() as tape:\n",
    "            y_pred = self(x, training=True)\n",
    "            classification_loss = self.compute_loss(x, y, y_pred)\n",
    "            if self.moe_loss_considered:\n",
    "                moe_loss = self.moe_classifier.compute_total_loss(\n",
    "                    load_balance_coef=0.01\n",
    "                )\n",
    "                total_loss = classification_loss + moe_loss\n",
    "            else:\n",
    "                total_loss = classification_loss\n",
    "\n",
    "        # Compute gradients\n",
    "        gradients = tape.gradient(total_loss, self.trainable_variables)\n",
    "\n",
    "        # Update weights\n",
    "        self.optimizer.apply_gradients(zip(gradients, self.trainable_variables))\n",
    "        for metric in self.metrics:\n",
    "            metric.update_state(y, y_pred)\n",
    "        # Return a dict of metrics for monitoring\n",
    "        return {\n",
    "            \"loss\": total_loss,\n",
    "            \"moe_loss\": moe_loss,\n",
    "            **{m.name: m.result() for m in self.metrics},\n",
    "        }\n",
    "\n",
    "    def test_step(self, data):\n",
    "        x, y = data\n",
    "        y_pred = self(x, training=False)\n",
    "        classification_loss = self.compute_loss(x, y, y_pred)\n",
    "        moe_loss = self.moe_classifier.compute_total_loss(load_balance_coef=0.01)\n",
    "        total_loss = classification_loss + moe_loss\n",
    "\n",
    "        for metric in self.metrics:\n",
    "            metric.update_state(y, y_pred)\n",
    "        return {\n",
    "            \"loss\": total_loss,\n",
    "            \"moe_loss\": moe_loss,\n",
    "            **{m.name: m.result() for m in self.metrics},\n",
    "        }\n",
    "\n",
    "\n",
    "# Instantiate and compile the model\n",
    "inputs = keras.Input(shape=input_shape)\n",
    "model = MoEModel(num_classes=num_classes, num_experts=5, top_k=3)\n",
    "\n",
    "model.compile(\n",
    "    optimizer=keras.optimizers.Adam(learning_rate=LEARNING_RATE),\n",
    "    loss=keras.losses.CategoricalCrossentropy(),  # Assumes one-hot encoded labels\n",
    "    metrics=[\"accuracy\"],\n",
    ")"
   ]
  },
  {
   "cell_type": "markdown",
   "metadata": {
    "colab_type": "text"
   },
   "source": [
    "###  Training"
   ]
  },
  {
   "cell_type": "code",
   "execution_count": 0,
   "metadata": {
    "colab_type": "code"
   },
   "outputs": [],
   "source": [
    "history = model.fit(\n",
    "    x_train,\n",
    "    y_train,\n",
    "    batch_size=BATCH_SIZE,\n",
    "    epochs=NUM_EPOCHS,\n",
    "    validation_data=(x_test, y_test),\n",
    "    verbose=0,\n",
    ")"
   ]
  },
  {
   "cell_type": "markdown",
   "metadata": {
    "colab_type": "text"
   },
   "source": [
    "### Evaluation"
   ]
  },
  {
   "cell_type": "code",
   "execution_count": 0,
   "metadata": {
    "colab_type": "code"
   },
   "outputs": [],
   "source": [
    "score = model.evaluate(x_test, y_test, verbose=0)\n",
    "print(\"Test loss:\", score[0])\n",
    "print(\"Test accuracy:\", score[1])"
   ]
  },
  {
   "cell_type": "markdown",
   "metadata": {
    "colab_type": "text"
   },
   "source": [
    "# Conclusion\n",
    "\n",
    "This example demonstrated how Mixture of Experts (MoE) can be used to increase model capacity without a proportional increase in computation cost. The key benefits are:\n",
    "\n",
    "1. Conditional Computation: Only a subset of experts (TOP_K=3 out of NUM_EXPERTS=5) process each input,\n",
    "   making the model more computationally efficient than a model that uses all parameters for every input.\n",
    "\n",
    "2. Specialized Processing: Each expert learns to handle different aspects of the input space,\n",
    "   allowing for more sophisticated processing without requiring a larger dense network.\n",
    "\n",
    "In our implementation, we:\n",
    "1. Created a basic MoE layer using dense networks as experts\n",
    "2. Implemented three types of load balancing losses to prevent routing collapse\n",
    "3. Applied the MoE architecture to MNIST classification by replacing the final dense layer\n",
    "4. Achieved comparable accuracy to the baseline model while using experts conditionally\n",
    "\n",
    "This approach is particularly valuable for large-scale models where computational efficiency\n",
    "is crucial. The same principles demonstrated here are used in much larger language models\n",
    "and other applications where model capacity needs to scale efficiently"
   ]
  }
 ],
 "metadata": {
  "accelerator": "GPU",
  "colab": {
   "collapsed_sections": [],
   "name": "mnist_moe",
   "private_outputs": false,
   "provenance": [],
   "toc_visible": true
  },
  "kernelspec": {
   "display_name": "Python 3",
   "language": "python",
   "name": "python3"
  },
  "language_info": {
   "codemirror_mode": {
    "name": "ipython",
    "version": 3
   },
   "file_extension": ".py",
   "mimetype": "text/x-python",
   "name": "python",
   "nbconvert_exporter": "python",
   "pygments_lexer": "ipython3",
   "version": "3.7.0"
  }
 },
 "nbformat": 4,
 "nbformat_minor": 0
}