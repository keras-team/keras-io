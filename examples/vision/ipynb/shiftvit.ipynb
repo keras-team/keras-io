{
 "cells": [
  {
   "cell_type": "markdown",
   "metadata": {
    "colab_type": "text"
   },
   "source": [
    "# A Vision Transformer without Attention\n",
    "\n",
    "**Author:** [Aritra Roy Gosthipaty](https://twitter.com/ariG23498), [Ritwik Raha](https://twitter.com/ritwik_raha), [Shivalika Singh](https://www.linkedin.com/in/shivalika-singh/)<br>\n",
    "**Date created:** 2022/02/24<br>\n",
    "**Last modified:** 2024/12/06<br>\n",
    "**Description:** A minimal implementation of ShiftViT."
   ]
  },
  {
   "cell_type": "markdown",
   "metadata": {
    "colab_type": "text"
   },
   "source": [
    "## Introduction\n",
    "\n",
    "[Vision Transformers](https://arxiv.org/abs/2010.11929) (ViTs) have sparked a wave of\n",
    "research at the intersection of Transformers and Computer Vision (CV).\n",
    "\n",
    "ViTs can simultaneously model long- and short-range dependencies, thanks to\n",
    "the Multi-Head Self-Attention mechanism in the Transformer block. Many researchers believe\n",
    "that the success of ViTs are purely due to the attention layer, and they seldom\n",
    "think about other parts of the ViT model.\n",
    "\n",
    "In the academic paper\n",
    "[When Shift Operation Meets Vision Transformer: An Extremely Simple Alternative to Attention Mechanism](https://arxiv.org/abs/2201.10801)\n",
    "the authors propose to demystify the success of ViTs with the introduction of a **NO\n",
    "PARAMETER** operation in place of the attention operation. They swap the attention\n",
    "operation with a shifting operation.\n",
    "\n",
    "In this example, we minimally implement the paper with close alignement to the author's\n",
    "[official implementation](https://github.com/microsoft/SPACH/blob/main/models/shiftvit.py).\n",
    "\n",
    "This example requires TensorFlow 2.9 or higher."
   ]
  },
  {
   "cell_type": "markdown",
   "metadata": {
    "colab_type": "text"
   },
   "source": [
    "## Setup and imports"
   ]
  },
  {
   "cell_type": "code",
   "execution_count": 0,
   "metadata": {
    "colab_type": "code"
   },
   "outputs": [],
   "source": [
    "import numpy as np\n",
    "import matplotlib.pyplot as plt\n",
    "\n",
    "import keras\n",
    "from keras import ops\n",
    "from keras import layers\n",
    "import tensorflow as tf\n",
    "\n",
    "import pathlib\n",
    "import glob\n",
    "\n",
    "# Setting seed for reproducibiltiy\n",
    "SEED = 42\n",
    "keras.utils.set_random_seed(SEED)"
   ]
  },
  {
   "cell_type": "markdown",
   "metadata": {
    "colab_type": "text"
   },
   "source": [
    "## Hyperparameters\n",
    "\n",
    "These are the hyperparameters that we have chosen for the experiment.\n",
    "Please feel free to tune them."
   ]
  },
  {
   "cell_type": "code",
   "execution_count": 0,
   "metadata": {
    "colab_type": "code"
   },
   "outputs": [],
   "source": [
    "\n",
    "class Config(object):\n",
    "    # DATA\n",
    "    batch_size = 256\n",
    "    buffer_size = batch_size * 2\n",
    "    input_shape = (32, 32, 3)\n",
    "    num_classes = 10\n",
    "\n",
    "    # AUGMENTATION\n",
    "    image_size = 48\n",
    "\n",
    "    # ARCHITECTURE\n",
    "    patch_size = 4\n",
    "    projected_dim = 96\n",
    "    num_shift_blocks_per_stages = [2, 4, 8, 2]\n",
    "    epsilon = 1e-5\n",
    "    stochastic_depth_rate = 0.2\n",
    "    mlp_dropout_rate = 0.2\n",
    "    num_div = 12\n",
    "    shift_pixel = 1\n",
    "    mlp_expand_ratio = 2\n",
    "\n",
    "    # OPTIMIZER\n",
    "    lr_start = 1e-5\n",
    "    lr_max = 1e-3\n",
    "    weight_decay = 1e-4\n",
    "\n",
    "    # TRAINING\n",
    "    epochs = 100\n",
    "\n",
    "    # INFERENCE\n",
    "    label_map = {\n",
    "        0: \"airplane\",\n",
    "        1: \"automobile\",\n",
    "        2: \"bird\",\n",
    "        3: \"cat\",\n",
    "        4: \"deer\",\n",
    "        5: \"dog\",\n",
    "        6: \"frog\",\n",
    "        7: \"horse\",\n",
    "        8: \"ship\",\n",
    "        9: \"truck\",\n",
    "    }\n",
    "    tf_ds_batch_size = 20\n",
    "\n",
    "\n",
    "config = Config()"
   ]
  },
  {
   "cell_type": "markdown",
   "metadata": {
    "colab_type": "text"
   },
   "source": [
    "## Load the CIFAR-10 dataset\n",
    "\n",
    "We use the CIFAR-10 dataset for our experiments."
   ]
  },
  {
   "cell_type": "code",
   "execution_count": 0,
   "metadata": {
    "colab_type": "code"
   },
   "outputs": [],
   "source": [
    "(x_train, y_train), (x_test, y_test) = keras.datasets.cifar10.load_data()\n",
    "(x_train, y_train), (x_val, y_val) = (\n",
    "    (x_train[:40000], y_train[:40000]),\n",
    "    (x_train[40000:], y_train[40000:]),\n",
    ")\n",
    "print(f\"Training samples: {len(x_train)}\")\n",
    "print(f\"Validation samples: {len(x_val)}\")\n",
    "print(f\"Testing samples: {len(x_test)}\")\n",
    "\n",
    "AUTO = tf.data.AUTOTUNE\n",
    "train_ds = tf.data.Dataset.from_tensor_slices((x_train, y_train))\n",
    "train_ds = train_ds.shuffle(config.buffer_size).batch(config.batch_size).prefetch(AUTO)\n",
    "\n",
    "val_ds = tf.data.Dataset.from_tensor_slices((x_val, y_val))\n",
    "val_ds = val_ds.batch(config.batch_size).prefetch(AUTO)\n",
    "\n",
    "test_ds = tf.data.Dataset.from_tensor_slices((x_test, y_test))\n",
    "test_ds = test_ds.batch(config.batch_size).prefetch(AUTO)"
   ]
  },
  {
   "cell_type": "markdown",
   "metadata": {
    "colab_type": "text"
   },
   "source": [
    "## Data Augmentation\n",
    "\n",
    "The augmentation pipeline consists of:\n",
    "\n",
    "- Rescaling\n",
    "- Resizing\n",
    "- Random cropping\n",
    "- Random horizontal flipping\n",
    "\n",
    "_Note_: The image data augmentation layers do not apply\n",
    "data transformations at inference time. This means that\n",
    "when these layers are called with `training=False` they\n",
    "behave differently. Refer to the\n",
    "[documentation](https://keras.io/api/layers/preprocessing_layers/image_augmentation/)\n",
    "for more details."
   ]
  },
  {
   "cell_type": "code",
   "execution_count": 0,
   "metadata": {
    "colab_type": "code"
   },
   "outputs": [],
   "source": [
    "\n",
    "def get_augmentation_model():\n",
    "    \"\"\"Build the data augmentation model.\"\"\"\n",
    "    data_augmentation = keras.Sequential(\n",
    "        [\n",
    "            layers.Resizing(config.input_shape[0] + 20, config.input_shape[0] + 20),\n",
    "            layers.RandomCrop(config.image_size, config.image_size),\n",
    "            layers.RandomFlip(\"horizontal\"),\n",
    "            layers.Rescaling(1 / 255.0),\n",
    "        ]\n",
    "    )\n",
    "    return data_augmentation\n"
   ]
  },
  {
   "cell_type": "markdown",
   "metadata": {
    "colab_type": "text"
   },
   "source": [
    "## The ShiftViT architecture\n",
    "\n",
    "In this section, we build the architecture proposed in\n",
    "[the ShiftViT paper](https://arxiv.org/abs/2201.10801).\n",
    "\n",
    "| ![ShiftViT Architecture](https://i.imgur.com/CHU40HX.png) |\n",
    "| :--: |\n",
    "| Figure 1: The entire architecutre of ShiftViT.\n",
    "[Source](https://arxiv.org/abs/2201.10801) |\n",
    "\n",
    "The architecture as shown in Fig. 1, is inspired by\n",
    "[Swin Transformer: Hierarchical Vision Transformer using Shifted Windows](https://arxiv.org/abs/2103.14030).\n",
    "Here the authors propose a modular architecture with 4 stages. Each stage works on its\n",
    "own spatial size, creating a hierarchical architecture.\n",
    "\n",
    "An input image of size `HxWx3` is split into non-overlapping patches of size `4x4`.\n",
    "This is done via the patchify layer which results in individual tokens of feature size `48`\n",
    "(`4x4x3`). Each stage comprises two parts:\n",
    "\n",
    "1. Embedding Generation\n",
    "2. Stacked Shift Blocks\n",
    "\n",
    "We discuss the stages and the modules in detail in what follows.\n",
    "\n",
    "_Note_: Compared to the [official implementation](https://github.com/microsoft/SPACH/blob/main/models/shiftvit.py)\n",
    "we restructure some key components to better fit the Keras API."
   ]
  },
  {
   "cell_type": "markdown",
   "metadata": {
    "colab_type": "text"
   },
   "source": [
    "### The ShiftViT Block\n",
    "\n",
    "| ![ShiftViT block](https://i.imgur.com/IDe35vo.gif) |\n",
    "| :--: |\n",
    "| Figure 2: From the Model to a Shift Block. |\n",
    "\n",
    "Each stage in the ShiftViT architecture comprises of a Shift Block as shown in Fig 2.\n",
    "\n",
    "| ![Shift Vit Block](https://i.imgur.com/0q13pLu.png) |\n",
    "| :--: |\n",
    "| Figure 3: The Shift ViT Block. [Source](https://arxiv.org/abs/2201.10801) |\n",
    "\n",
    "The Shift Block as shown in Fig. 3, comprises of the following:\n",
    "\n",
    "1. Shift Operation\n",
    "2. Linear Normalization\n",
    "3. MLP Layer"
   ]
  },
  {
   "cell_type": "markdown",
   "metadata": {
    "colab_type": "text"
   },
   "source": [
    "#### The MLP block\n",
    "\n",
    "The MLP block is intended to be a stack of densely-connected layers"
   ]
  },
  {
   "cell_type": "code",
   "execution_count": 0,
   "metadata": {
    "colab_type": "code"
   },
   "outputs": [],
   "source": [
    "\n",
    "class MLP(layers.Layer):\n",
    "    \"\"\"Get the MLP layer for each shift block.\n",
    "\n",
    "    Args:\n",
    "        mlp_expand_ratio (int): The ratio with which the first feature map is expanded.\n",
    "        mlp_dropout_rate (float): The rate for dropout.\n",
    "    \"\"\"\n",
    "\n",
    "    def __init__(self, mlp_expand_ratio, mlp_dropout_rate, **kwargs):\n",
    "        super().__init__(**kwargs)\n",
    "        self.mlp_expand_ratio = mlp_expand_ratio\n",
    "        self.mlp_dropout_rate = mlp_dropout_rate\n",
    "\n",
    "    def build(self, input_shape):\n",
    "        input_channels = input_shape[-1]\n",
    "        initial_filters = int(self.mlp_expand_ratio * input_channels)\n",
    "\n",
    "        self.mlp = keras.Sequential(\n",
    "            [\n",
    "                layers.Dense(\n",
    "                    units=initial_filters,\n",
    "                    activation=\"gelu\",\n",
    "                ),\n",
    "                layers.Dropout(rate=self.mlp_dropout_rate),\n",
    "                layers.Dense(units=input_channels),\n",
    "                layers.Dropout(rate=self.mlp_dropout_rate),\n",
    "            ]\n",
    "        )\n",
    "\n",
    "    def call(self, x):\n",
    "        x = self.mlp(x)\n",
    "        return x\n"
   ]
  },
  {
   "cell_type": "markdown",
   "metadata": {
    "colab_type": "text"
   },
   "source": [
    "#### The DropPath layer\n",
    "\n",
    "Stochastic depth is a regularization technique that randomly drops a set of\n",
    "layers. During inference, the layers are kept as they are. It is very\n",
    "similar to Dropout, but it operates on a block of layers rather\n",
    "than on individual nodes present inside a layer."
   ]
  },
  {
   "cell_type": "code",
   "execution_count": 0,
   "metadata": {
    "colab_type": "code"
   },
   "outputs": [],
   "source": [
    "\n",
    "class DropPath(layers.Layer):\n",
    "    \"\"\"Drop Path also known as the Stochastic Depth layer.\n",
    "\n",
    "    Refernece:\n",
    "        - https://keras.io/examples/vision/cct/#stochastic-depth-for-regularization\n",
    "        - github.com:rwightman/pytorch-image-models\n",
    "    \"\"\"\n",
    "\n",
    "    def __init__(self, drop_path_prob, **kwargs):\n",
    "        super().__init__(**kwargs)\n",
    "        self.drop_path_prob = drop_path_prob\n",
    "        self.seed_generator = keras.random.SeedGenerator(1337)\n",
    "\n",
    "    def call(self, x, training=False):\n",
    "        if training:\n",
    "            keep_prob = 1 - self.drop_path_prob\n",
    "            shape = (ops.shape(x)[0],) + (1,) * (len(ops.shape(x)) - 1)\n",
    "            random_tensor = keep_prob + keras.random.uniform(\n",
    "                shape, 0, 1, seed=self.seed_generator\n",
    "            )\n",
    "            random_tensor = ops.floor(random_tensor)\n",
    "            return (x / keep_prob) * random_tensor\n",
    "        return x\n"
   ]
  },
  {
   "cell_type": "markdown",
   "metadata": {
    "colab_type": "text"
   },
   "source": [
    "#### Block\n",
    "\n",
    "The most important operation in this paper is the **shift operation**. In this section,\n",
    "we describe the shift operation and compare it with its original implementation provided\n",
    "by the authors.\n",
    "\n",
    "A generic feature map is assumed to have the shape `[N, H, W, C]`. Here we choose a\n",
    "`num_div` parameter that decides the division size of the channels. The first 4 divisions\n",
    "are shifted (1 pixel) in the left, right, up, and down direction. The remaining splits\n",
    "are kept as is. After partial shifting the shifted channels are padded and the overflown\n",
    "pixels are chopped off. This completes the partial shifting operation.\n",
    "\n",
    "In the original implementation, the code is approximately:\n",
    "\n",
    "```python\n",
    "out[:, g * 0:g * 1, :, :-1] = x[:, g * 0:g * 1, :, 1:]  # shift left\n",
    "out[:, g * 1:g * 2, :, 1:] = x[:, g * 1:g * 2, :, :-1]  # shift right\n",
    "out[:, g * 2:g * 3, :-1, :] = x[:, g * 2:g * 3, 1:, :]  # shift up\n",
    "out[:, g * 3:g * 4, 1:, :] = x[:, g * 3:g * 4, :-1, :]  # shift down\n",
    "\n",
    "out[:, g * 4:, :, :] = x[:, g * 4:, :, :]  # no shift\n",
    "```\n",
    "\n",
    "In TensorFlow it would be infeasible for us to assign shifted channels to a tensor in the\n",
    "middle of the training process. This is why we have resorted to the following procedure:\n",
    "\n",
    "1. Split the channels with the `num_div` parameter.\n",
    "2. Select each of the first four spilts and shift and pad them in the respective\n",
    "directions.\n",
    "3. After shifting and padding, we concatenate the channel back.\n",
    "\n",
    "| ![Manim rendered animation for shift operation](https://i.imgur.com/PReeULP.gif) |\n",
    "| :--: |\n",
    "| Figure 4: The TensorFlow style shifting |\n",
    "\n",
    "The entire procedure is explained in the Fig. 4."
   ]
  },
  {
   "cell_type": "code",
   "execution_count": 0,
   "metadata": {
    "colab_type": "code"
   },
   "outputs": [],
   "source": [
    "\n",
    "class ShiftViTBlock(layers.Layer):\n",
    "    \"\"\"A unit ShiftViT Block\n",
    "\n",
    "    Args:\n",
    "        shift_pixel (int): The number of pixels to shift. Default to 1.\n",
    "        mlp_expand_ratio (int): The ratio with which MLP features are\n",
    "            expanded. Default to 2.\n",
    "        mlp_dropout_rate (float): The dropout rate used in MLP.\n",
    "        num_div (int): The number of divisions of the feature map's channel.\n",
    "            Totally, 4/num_div of channels will be shifted. Defaults to 12.\n",
    "        epsilon (float): Epsilon constant.\n",
    "        drop_path_prob (float): The drop probability for drop path.\n",
    "    \"\"\"\n",
    "\n",
    "    def __init__(\n",
    "        self,\n",
    "        epsilon,\n",
    "        drop_path_prob,\n",
    "        mlp_dropout_rate,\n",
    "        num_div=12,\n",
    "        shift_pixel=1,\n",
    "        mlp_expand_ratio=2,\n",
    "        **kwargs,\n",
    "    ):\n",
    "        super().__init__(**kwargs)\n",
    "        self.shift_pixel = shift_pixel\n",
    "        self.mlp_expand_ratio = mlp_expand_ratio\n",
    "        self.mlp_dropout_rate = mlp_dropout_rate\n",
    "        self.num_div = num_div\n",
    "        self.epsilon = epsilon\n",
    "        self.drop_path_prob = drop_path_prob\n",
    "\n",
    "    def build(self, input_shape):\n",
    "        self.H = input_shape[1]\n",
    "        self.W = input_shape[2]\n",
    "        self.C = input_shape[3]\n",
    "        self.layer_norm = layers.LayerNormalization(epsilon=self.epsilon)\n",
    "        self.drop_path = (\n",
    "            DropPath(drop_path_prob=self.drop_path_prob)\n",
    "            if self.drop_path_prob > 0.0\n",
    "            else layers.Activation(\"linear\")\n",
    "        )\n",
    "        self.mlp = MLP(\n",
    "            mlp_expand_ratio=self.mlp_expand_ratio,\n",
    "            mlp_dropout_rate=self.mlp_dropout_rate,\n",
    "        )\n",
    "\n",
    "    def get_shift_pad(self, x, mode):\n",
    "        \"\"\"Shifts the channels according to the mode chosen.\"\"\"\n",
    "        if mode == \"left\":\n",
    "            offset_height = 0\n",
    "            offset_width = 0\n",
    "            target_height = 0\n",
    "            target_width = self.shift_pixel\n",
    "        elif mode == \"right\":\n",
    "            offset_height = 0\n",
    "            offset_width = self.shift_pixel\n",
    "            target_height = 0\n",
    "            target_width = self.shift_pixel\n",
    "        elif mode == \"up\":\n",
    "            offset_height = 0\n",
    "            offset_width = 0\n",
    "            target_height = self.shift_pixel\n",
    "            target_width = 0\n",
    "        else:\n",
    "            offset_height = self.shift_pixel\n",
    "            offset_width = 0\n",
    "            target_height = self.shift_pixel\n",
    "            target_width = 0\n",
    "        crop = ops.image.crop_images(\n",
    "            x,\n",
    "            top_cropping=offset_height,\n",
    "            left_cropping=offset_width,\n",
    "            target_height=self.H - target_height,\n",
    "            target_width=self.W - target_width,\n",
    "        )\n",
    "        shift_pad = ops.image.pad_images(\n",
    "            crop,\n",
    "            top_padding=offset_height,\n",
    "            left_padding=offset_width,\n",
    "            target_height=self.H,\n",
    "            target_width=self.W,\n",
    "        )\n",
    "        return shift_pad\n",
    "\n",
    "    def call(self, x, training=False):\n",
    "        # Split the feature maps\n",
    "        x_splits = ops.split(x, indices_or_sections=self.C // self.num_div, axis=-1)\n",
    "\n",
    "        # Shift the feature maps\n",
    "        x_splits[0] = self.get_shift_pad(x_splits[0], mode=\"left\")\n",
    "        x_splits[1] = self.get_shift_pad(x_splits[1], mode=\"right\")\n",
    "        x_splits[2] = self.get_shift_pad(x_splits[2], mode=\"up\")\n",
    "        x_splits[3] = self.get_shift_pad(x_splits[3], mode=\"down\")\n",
    "\n",
    "        # Concatenate the shifted and unshifted feature maps\n",
    "        x = ops.concatenate(x_splits, axis=-1)\n",
    "\n",
    "        # Add the residual connection\n",
    "        shortcut = x\n",
    "        x = shortcut + self.drop_path(self.mlp(self.layer_norm(x)), training=training)\n",
    "        return x\n"
   ]
  },
  {
   "cell_type": "markdown",
   "metadata": {
    "colab_type": "text"
   },
   "source": [
    "### The ShiftViT blocks\n",
    "\n",
    "| ![Shift Blokcs](https://i.imgur.com/FKy5NnD.png) |\n",
    "| :--: |\n",
    "| Figure 5: Shift Blocks in the architecture. [Source](https://arxiv.org/abs/2201.10801) |\n",
    "\n",
    "Each stage of the architecture has shift blocks as shown in Fig.5. Each of these blocks\n",
    "contain a variable number of stacked ShiftViT block (as built in the earlier section).\n",
    "\n",
    "Shift blocks are followed by a PatchMerging layer that scales down feature inputs. The\n",
    "PatchMerging layer helps in the pyramidal structure of the model."
   ]
  },
  {
   "cell_type": "markdown",
   "metadata": {
    "colab_type": "text"
   },
   "source": [
    "#### The PatchMerging layer\n",
    "\n",
    "This layer merges the two adjacent tokens. This layer helps in scaling the features down\n",
    "spatially and increasing the features up channel wise. We use a Conv2D layer to merge the\n",
    "patches."
   ]
  },
  {
   "cell_type": "code",
   "execution_count": 0,
   "metadata": {
    "colab_type": "code"
   },
   "outputs": [],
   "source": [
    "\n",
    "class PatchMerging(layers.Layer):\n",
    "    \"\"\"The Patch Merging layer.\n",
    "\n",
    "    Args:\n",
    "        epsilon (float): The epsilon constant.\n",
    "    \"\"\"\n",
    "\n",
    "    def __init__(self, epsilon, **kwargs):\n",
    "        super().__init__(**kwargs)\n",
    "        self.epsilon = epsilon\n",
    "\n",
    "    def build(self, input_shape):\n",
    "        filters = 2 * input_shape[-1]\n",
    "        self.reduction = layers.Conv2D(\n",
    "            filters=filters, kernel_size=2, strides=2, padding=\"same\", use_bias=False\n",
    "        )\n",
    "        self.layer_norm = layers.LayerNormalization(epsilon=self.epsilon)\n",
    "\n",
    "    def call(self, x):\n",
    "        # Apply the patch merging algorithm on the feature maps\n",
    "        x = self.layer_norm(x)\n",
    "        x = self.reduction(x)\n",
    "        return x\n"
   ]
  },
  {
   "cell_type": "markdown",
   "metadata": {
    "colab_type": "text"
   },
   "source": [
    "#### Stacked Shift Blocks\n",
    "\n",
    "Each stage will have a variable number of stacked ShiftViT Blocks, as suggested in\n",
    "the paper. This is a generic layer that will contain the stacked shift vit blocks\n",
    "with the patch merging layer as well. Combining the two operations (shift ViT\n",
    "block and patch merging) is a design choice we picked for better code reusability."
   ]
  },
  {
   "cell_type": "code",
   "execution_count": 0,
   "metadata": {
    "colab_type": "code"
   },
   "outputs": [],
   "source": [
    "# Note: This layer will have a different depth of stacking\n",
    "# for different stages on the model.\n",
    "class StackedShiftBlocks(layers.Layer):\n",
    "    \"\"\"The layer containing stacked ShiftViTBlocks.\n",
    "\n",
    "    Args:\n",
    "        epsilon (float): The epsilon constant.\n",
    "        mlp_dropout_rate (float): The dropout rate used in the MLP block.\n",
    "        num_shift_blocks (int): The number of shift vit blocks for this stage.\n",
    "        stochastic_depth_rate (float): The maximum drop path rate chosen.\n",
    "        is_merge (boolean): A flag that determines the use of the Patch Merge\n",
    "            layer after the shift vit blocks.\n",
    "        num_div (int): The division of channels of the feature map. Defaults to 12.\n",
    "        shift_pixel (int): The number of pixels to shift. Defaults to 1.\n",
    "        mlp_expand_ratio (int): The ratio with which the initial dense layer of\n",
    "            the MLP is expanded Defaults to 2.\n",
    "    \"\"\"\n",
    "\n",
    "    def __init__(\n",
    "        self,\n",
    "        epsilon,\n",
    "        mlp_dropout_rate,\n",
    "        num_shift_blocks,\n",
    "        stochastic_depth_rate,\n",
    "        is_merge,\n",
    "        num_div=12,\n",
    "        shift_pixel=1,\n",
    "        mlp_expand_ratio=2,\n",
    "        **kwargs,\n",
    "    ):\n",
    "        super().__init__(**kwargs)\n",
    "        self.epsilon = epsilon\n",
    "        self.mlp_dropout_rate = mlp_dropout_rate\n",
    "        self.num_shift_blocks = num_shift_blocks\n",
    "        self.stochastic_depth_rate = stochastic_depth_rate\n",
    "        self.is_merge = is_merge\n",
    "        self.num_div = num_div\n",
    "        self.shift_pixel = shift_pixel\n",
    "        self.mlp_expand_ratio = mlp_expand_ratio\n",
    "\n",
    "    def build(self, input_shapes):\n",
    "        # Calculate stochastic depth probabilities.\n",
    "        # Reference: https://keras.io/examples/vision/cct/#the-final-cct-model\n",
    "        dpr = [\n",
    "            x\n",
    "            for x in np.linspace(\n",
    "                start=0, stop=self.stochastic_depth_rate, num=self.num_shift_blocks\n",
    "            )\n",
    "        ]\n",
    "\n",
    "        # Build the shift blocks as a list of ShiftViT Blocks\n",
    "        self.shift_blocks = list()\n",
    "        for num in range(self.num_shift_blocks):\n",
    "            self.shift_blocks.append(\n",
    "                ShiftViTBlock(\n",
    "                    num_div=self.num_div,\n",
    "                    epsilon=self.epsilon,\n",
    "                    drop_path_prob=dpr[num],\n",
    "                    mlp_dropout_rate=self.mlp_dropout_rate,\n",
    "                    shift_pixel=self.shift_pixel,\n",
    "                    mlp_expand_ratio=self.mlp_expand_ratio,\n",
    "                )\n",
    "            )\n",
    "        if self.is_merge:\n",
    "            self.patch_merge = PatchMerging(epsilon=self.epsilon)\n",
    "\n",
    "    def call(self, x, training=False):\n",
    "        for shift_block in self.shift_blocks:\n",
    "            x = shift_block(x, training=training)\n",
    "        if self.is_merge:\n",
    "            x = self.patch_merge(x)\n",
    "        return x\n",
    "\n",
    "    # Since this is a custom layer, we need to overwrite get_config()\n",
    "    # so that model can be easily saved & loaded after training\n",
    "    def get_config(self):\n",
    "        config = super().get_config()\n",
    "        config.update(\n",
    "            {\n",
    "                \"epsilon\": self.epsilon,\n",
    "                \"mlp_dropout_rate\": self.mlp_dropout_rate,\n",
    "                \"num_shift_blocks\": self.num_shift_blocks,\n",
    "                \"stochastic_depth_rate\": self.stochastic_depth_rate,\n",
    "                \"is_merge\": self.is_merge,\n",
    "                \"num_div\": self.num_div,\n",
    "                \"shift_pixel\": self.shift_pixel,\n",
    "                \"mlp_expand_ratio\": self.mlp_expand_ratio,\n",
    "            }\n",
    "        )\n",
    "        return config\n"
   ]
  },
  {
   "cell_type": "markdown",
   "metadata": {
    "colab_type": "text"
   },
   "source": [
    "## The ShiftViT model\n",
    "\n",
    "Build the ShiftViT custom model."
   ]
  },
  {
   "cell_type": "code",
   "execution_count": 0,
   "metadata": {
    "colab_type": "code"
   },
   "outputs": [],
   "source": [
    "\n",
    "class ShiftViTModel(keras.Model):\n",
    "    \"\"\"The ShiftViT Model.\n",
    "\n",
    "    Args:\n",
    "        data_augmentation (keras.Model): A data augmentation model.\n",
    "        projected_dim (int): The dimension to which the patches of the image are\n",
    "            projected.\n",
    "        patch_size (int): The patch size of the images.\n",
    "        num_shift_blocks_per_stages (list[int]): A list of all the number of shit\n",
    "            blocks per stage.\n",
    "        epsilon (float): The epsilon constant.\n",
    "        mlp_dropout_rate (float): The dropout rate used in the MLP block.\n",
    "        stochastic_depth_rate (float): The maximum drop rate probability.\n",
    "        num_div (int): The number of divisions of the channesl of the feature\n",
    "            map. Defaults to 12.\n",
    "        shift_pixel (int): The number of pixel to shift. Default to 1.\n",
    "        mlp_expand_ratio (int): The ratio with which the initial mlp dense layer\n",
    "            is expanded to. Defaults to 2.\n",
    "    \"\"\"\n",
    "\n",
    "    def __init__(\n",
    "        self,\n",
    "        data_augmentation,\n",
    "        projected_dim,\n",
    "        patch_size,\n",
    "        num_shift_blocks_per_stages,\n",
    "        epsilon,\n",
    "        mlp_dropout_rate,\n",
    "        stochastic_depth_rate,\n",
    "        num_div=12,\n",
    "        shift_pixel=1,\n",
    "        mlp_expand_ratio=2,\n",
    "        **kwargs,\n",
    "    ):\n",
    "        super().__init__(**kwargs)\n",
    "        self.data_augmentation = data_augmentation\n",
    "        self.patch_projection = layers.Conv2D(\n",
    "            filters=projected_dim,\n",
    "            kernel_size=patch_size,\n",
    "            strides=patch_size,\n",
    "            padding=\"same\",\n",
    "        )\n",
    "        self.stages = list()\n",
    "        for index, num_shift_blocks in enumerate(num_shift_blocks_per_stages):\n",
    "            if index == len(num_shift_blocks_per_stages) - 1:\n",
    "                # This is the last stage, do not use the patch merge here.\n",
    "                is_merge = False\n",
    "            else:\n",
    "                is_merge = True\n",
    "            # Build the stages.\n",
    "            self.stages.append(\n",
    "                StackedShiftBlocks(\n",
    "                    epsilon=epsilon,\n",
    "                    mlp_dropout_rate=mlp_dropout_rate,\n",
    "                    num_shift_blocks=num_shift_blocks,\n",
    "                    stochastic_depth_rate=stochastic_depth_rate,\n",
    "                    is_merge=is_merge,\n",
    "                    num_div=num_div,\n",
    "                    shift_pixel=shift_pixel,\n",
    "                    mlp_expand_ratio=mlp_expand_ratio,\n",
    "                )\n",
    "            )\n",
    "        self.global_avg_pool = layers.GlobalAveragePooling2D()\n",
    "\n",
    "        self.classifier = layers.Dense(config.num_classes)\n",
    "\n",
    "    def get_config(self):\n",
    "        config = super().get_config()\n",
    "        config.update(\n",
    "            {\n",
    "                \"data_augmentation\": self.data_augmentation,\n",
    "                \"patch_projection\": self.patch_projection,\n",
    "                \"stages\": self.stages,\n",
    "                \"global_avg_pool\": self.global_avg_pool,\n",
    "                \"classifier\": self.classifier,\n",
    "            }\n",
    "        )\n",
    "        return config\n",
    "\n",
    "    def _calculate_loss(self, data, training=False):\n",
    "        (images, labels) = data\n",
    "\n",
    "        # Augment the images\n",
    "        augmented_images = self.data_augmentation(images, training=training)\n",
    "\n",
    "        # Create patches and project the pathces.\n",
    "        projected_patches = self.patch_projection(augmented_images)\n",
    "\n",
    "        # Pass through the stages\n",
    "        x = projected_patches\n",
    "        for stage in self.stages:\n",
    "            x = stage(x, training=training)\n",
    "\n",
    "        # Get the logits.\n",
    "        x = self.global_avg_pool(x)\n",
    "        logits = self.classifier(x)\n",
    "\n",
    "        # Calculate the loss and return it.\n",
    "        total_loss = self.compiled_loss(labels, logits)\n",
    "        return total_loss, labels, logits\n",
    "\n",
    "    def train_step(self, inputs):\n",
    "        with tf.GradientTape() as tape:\n",
    "            total_loss, labels, logits = self._calculate_loss(\n",
    "                data=inputs, training=True\n",
    "            )\n",
    "\n",
    "        # Apply gradients.\n",
    "        train_vars = [\n",
    "            self.data_augmentation.trainable_variables,\n",
    "            self.patch_projection.trainable_variables,\n",
    "            self.global_avg_pool.trainable_variables,\n",
    "            self.classifier.trainable_variables,\n",
    "        ]\n",
    "        train_vars = train_vars + [stage.trainable_variables for stage in self.stages]\n",
    "\n",
    "        # Optimize the gradients.\n",
    "        grads = tape.gradient(total_loss, train_vars)\n",
    "        trainable_variable_list = []\n",
    "        for (grad, var) in zip(grads, train_vars):\n",
    "            for g, v in zip(grad, var):\n",
    "                trainable_variable_list.append((g, v))\n",
    "        self.optimizer.apply_gradients(trainable_variable_list)\n",
    "\n",
    "        # Update the metrics\n",
    "        self.compiled_metrics.update_state(labels, logits)\n",
    "        return {m.name: m.result() for m in self.metrics}\n",
    "\n",
    "    def test_step(self, data):\n",
    "        _, labels, logits = self._calculate_loss(data=data, training=False)\n",
    "\n",
    "        # Update the metrics\n",
    "        self.compiled_metrics.update_state(labels, logits)\n",
    "        return {m.name: m.result() for m in self.metrics}\n",
    "\n",
    "    def call(self, images):\n",
    "        augmented_images = self.data_augmentation(images)\n",
    "        x = self.patch_projection(augmented_images)\n",
    "        for stage in self.stages:\n",
    "            x = stage(x, training=False)\n",
    "        x = self.global_avg_pool(x)\n",
    "        logits = self.classifier(x)\n",
    "        return logits\n"
   ]
  },
  {
   "cell_type": "markdown",
   "metadata": {
    "colab_type": "text"
   },
   "source": [
    "## Instantiate the model"
   ]
  },
  {
   "cell_type": "code",
   "execution_count": 0,
   "metadata": {
    "colab_type": "code"
   },
   "outputs": [],
   "source": [
    "model = ShiftViTModel(\n",
    "    data_augmentation=get_augmentation_model(),\n",
    "    projected_dim=config.projected_dim,\n",
    "    patch_size=config.patch_size,\n",
    "    num_shift_blocks_per_stages=config.num_shift_blocks_per_stages,\n",
    "    epsilon=config.epsilon,\n",
    "    mlp_dropout_rate=config.mlp_dropout_rate,\n",
    "    stochastic_depth_rate=config.stochastic_depth_rate,\n",
    "    num_div=config.num_div,\n",
    "    shift_pixel=config.shift_pixel,\n",
    "    mlp_expand_ratio=config.mlp_expand_ratio,\n",
    ")"
   ]
  },
  {
   "cell_type": "markdown",
   "metadata": {
    "colab_type": "text"
   },
   "source": [
    "## Learning rate schedule\n",
    "\n",
    "In many experiments, we want to warm up the model with a slowly increasing learning rate\n",
    "and then cool down the model with a slowly decaying learning rate. In the warmup cosine\n",
    "decay, the learning rate linearly increases for the warmup steps and then decays with a\n",
    "cosine decay."
   ]
  },
  {
   "cell_type": "code",
   "execution_count": 0,
   "metadata": {
    "colab_type": "code"
   },
   "outputs": [],
   "source": [
    "# Some code is taken from:\n",
    "# https://www.kaggle.com/ashusma/training-rfcx-tensorflow-tpu-effnet-b2.\n",
    "class WarmUpCosine(keras.optimizers.schedules.LearningRateSchedule):\n",
    "    \"\"\"A LearningRateSchedule that uses a warmup cosine decay schedule.\"\"\"\n",
    "\n",
    "    def __init__(self, lr_start, lr_max, warmup_steps, total_steps):\n",
    "        \"\"\"\n",
    "        Args:\n",
    "            lr_start: The initial learning rate\n",
    "            lr_max: The maximum learning rate to which lr should increase to in\n",
    "                the warmup steps\n",
    "            warmup_steps: The number of steps for which the model warms up\n",
    "            total_steps: The total number of steps for the model training\n",
    "        \"\"\"\n",
    "        super().__init__()\n",
    "        self.lr_start = lr_start\n",
    "        self.lr_max = lr_max\n",
    "        self.warmup_steps = warmup_steps\n",
    "        self.total_steps = total_steps\n",
    "        self.pi = ops.array(np.pi)\n",
    "\n",
    "    def __call__(self, step):\n",
    "        # Check whether the total number of steps is larger than the warmup\n",
    "        # steps. If not, then throw a value error.\n",
    "        if self.total_steps < self.warmup_steps:\n",
    "            raise ValueError(\n",
    "                f\"Total number of steps {self.total_steps} must be\"\n",
    "                + f\"larger or equal to warmup steps {self.warmup_steps}.\"\n",
    "            )\n",
    "\n",
    "        # `cos_annealed_lr` is a graph that increases to 1 from the initial\n",
    "        # step to the warmup step. After that this graph decays to -1 at the\n",
    "        # final step mark.\n",
    "        cos_annealed_lr = ops.cos(\n",
    "            self.pi\n",
    "            * (ops.cast(step, dtype=\"float32\") - self.warmup_steps)\n",
    "            / ops.cast(self.total_steps - self.warmup_steps, dtype=\"float32\")\n",
    "        )\n",
    "\n",
    "        # Shift the mean of the `cos_annealed_lr` graph to 1. Now the grpah goes\n",
    "        # from 0 to 2. Normalize the graph with 0.5 so that now it goes from 0\n",
    "        # to 1. With the normalized graph we scale it with `lr_max` such that\n",
    "        # it goes from 0 to `lr_max`\n",
    "        learning_rate = 0.5 * self.lr_max * (1 + cos_annealed_lr)\n",
    "\n",
    "        # Check whether warmup_steps is more than 0.\n",
    "        if self.warmup_steps > 0:\n",
    "            # Check whether lr_max is larger that lr_start. If not, throw a value\n",
    "            # error.\n",
    "            if self.lr_max < self.lr_start:\n",
    "                raise ValueError(\n",
    "                    f\"lr_start {self.lr_start} must be smaller or\"\n",
    "                    + f\"equal to lr_max {self.lr_max}.\"\n",
    "                )\n",
    "\n",
    "            # Calculate the slope with which the learning rate should increase\n",
    "            # in the warumup schedule. The formula for slope is m = ((b-a)/steps)\n",
    "            slope = (self.lr_max - self.lr_start) / self.warmup_steps\n",
    "\n",
    "            # With the formula for a straight line (y = mx+c) build the warmup\n",
    "            # schedule\n",
    "            warmup_rate = slope * ops.cast(step, dtype=\"float32\") + self.lr_start\n",
    "\n",
    "            # When the current step is lesser that warmup steps, get the line\n",
    "            # graph. When the current step is greater than the warmup steps, get\n",
    "            # the scaled cos graph.\n",
    "            learning_rate = ops.where(\n",
    "                step < self.warmup_steps, warmup_rate, learning_rate\n",
    "            )\n",
    "\n",
    "        # When the current step is more that the total steps, return 0 else return\n",
    "        # the calculated graph.\n",
    "        return ops.where(step > self.total_steps, 0.0, learning_rate)\n",
    "\n",
    "    def get_config(self):\n",
    "        config = {\n",
    "            \"lr_start\": self.lr_start,\n",
    "            \"lr_max\": self.lr_max,\n",
    "            \"total_steps\": self.total_steps,\n",
    "            \"warmup_steps\": self.warmup_steps,\n",
    "        }\n",
    "        return config\n"
   ]
  },
  {
   "cell_type": "markdown",
   "metadata": {
    "colab_type": "text"
   },
   "source": [
    "## Compile and train the model"
   ]
  },
  {
   "cell_type": "code",
   "execution_count": 0,
   "metadata": {
    "colab_type": "code"
   },
   "outputs": [],
   "source": [
    "# pass sample data to the model so that input shape is available at the time of\n",
    "# saving the model\n",
    "sample_ds, _ = next(iter(train_ds))\n",
    "model(sample_ds, training=False)\n",
    "\n",
    "# Get the total number of steps for training.\n",
    "total_steps = int((len(x_train) / config.batch_size) * config.epochs)\n",
    "\n",
    "# Calculate the number of steps for warmup.\n",
    "warmup_epoch_percentage = 0.15\n",
    "warmup_steps = int(total_steps * warmup_epoch_percentage)\n",
    "\n",
    "# Initialize the warmupcosine schedule.\n",
    "scheduled_lrs = WarmUpCosine(\n",
    "    lr_start=1e-5,\n",
    "    lr_max=1e-3,\n",
    "    warmup_steps=warmup_steps,\n",
    "    total_steps=total_steps,\n",
    ")\n",
    "\n",
    "# Get the optimizer.\n",
    "optimizer = keras.optimizers.AdamW(\n",
    "    learning_rate=scheduled_lrs, weight_decay=config.weight_decay\n",
    ")\n",
    "\n",
    "# Compile and pretrain the model.\n",
    "model.compile(\n",
    "    optimizer=optimizer,\n",
    "    loss=keras.losses.SparseCategoricalCrossentropy(from_logits=True),\n",
    "    metrics=[\n",
    "        keras.metrics.SparseCategoricalAccuracy(name=\"accuracy\"),\n",
    "        keras.metrics.SparseTopKCategoricalAccuracy(5, name=\"top-5-accuracy\"),\n",
    "    ],\n",
    ")\n",
    "\n",
    "# Train the model\n",
    "history = model.fit(\n",
    "    train_ds,\n",
    "    epochs=config.epochs,\n",
    "    validation_data=val_ds,\n",
    "    callbacks=[\n",
    "        keras.callbacks.EarlyStopping(\n",
    "            monitor=\"val_accuracy\",\n",
    "            patience=5,\n",
    "            mode=\"auto\",\n",
    "        )\n",
    "    ],\n",
    ")\n",
    "\n",
    "# Evaluate the model with the test dataset.\n",
    "print(\"TESTING\")\n",
    "loss, acc_top1, acc_top5 = model.evaluate(test_ds)\n",
    "print(f\"Loss: {loss:0.2f}\")\n",
    "print(f\"Top 1 test accuracy: {acc_top1*100:0.2f}%\")\n",
    "print(f\"Top 5 test accuracy: {acc_top5*100:0.2f}%\")"
   ]
  },
  {
   "cell_type": "markdown",
   "metadata": {
    "colab_type": "text"
   },
   "source": [
    "## Save trained model\n",
    "\n",
    "Since we created the model by Subclassing, we can't save the model in HDF5 format.\n",
    "\n",
    "It can be saved in TF SavedModel format only. In general, this is the recommended format for saving models as well."
   ]
  },
  {
   "cell_type": "code",
   "execution_count": 0,
   "metadata": {
    "colab_type": "code"
   },
   "outputs": [],
   "source": [
    "model.export(\"ShiftViT\")"
   ]
  },
  {
   "cell_type": "markdown",
   "metadata": {
    "colab_type": "text"
   },
   "source": [
    "## Model inference"
   ]
  },
  {
   "cell_type": "markdown",
   "metadata": {
    "colab_type": "text"
   },
   "source": [
    "**Download sample data for inference**"
   ]
  },
  {
   "cell_type": "code",
   "execution_count": 0,
   "metadata": {
    "colab_type": "code"
   },
   "outputs": [],
   "source": [
    "!wget -q 'https://tinyurl.com/2p9483sw' -O inference_set.zip\n",
    "!unzip -q inference_set.zip"
   ]
  },
  {
   "cell_type": "markdown",
   "metadata": {
    "colab_type": "text"
   },
   "source": [
    "**Load saved model**"
   ]
  },
  {
   "cell_type": "code",
   "execution_count": 0,
   "metadata": {
    "colab_type": "code"
   },
   "outputs": [],
   "source": [
    "# Using TFSMLayer to reload the TF SavedModel as a Keras layer.\n",
    "# This is not limited to SavedModels that originate from Keras – it will work with any SavedModel, e.g. TF-Hub models.\n",
    "saved_model = keras.layers.TFSMLayer(\"ShiftViT\", call_endpoint=\"serving_default\")"
   ]
  },
  {
   "cell_type": "markdown",
   "metadata": {
    "colab_type": "text"
   },
   "source": [
    "**Utility functions for inference**"
   ]
  },
  {
   "cell_type": "code",
   "execution_count": 0,
   "metadata": {
    "colab_type": "code"
   },
   "outputs": [],
   "source": [
    "\n",
    "def process_image(img_path):\n",
    "    # read image file from string path\n",
    "    img = tf.io.read_file(img_path)\n",
    "\n",
    "    # decode jpeg to uint8 tensor\n",
    "    img = tf.io.decode_jpeg(img, channels=3)\n",
    "\n",
    "    # resize image to match input size accepted by model\n",
    "    # use `interpolation` as `nearest` to preserve dtype of input passed to `resize()`\n",
    "    img = ops.image.resize(\n",
    "        img, [config.input_shape[0], config.input_shape[1]], interpolation=\"nearest\"\n",
    "    )\n",
    "    return img\n",
    "\n",
    "\n",
    "def create_tf_dataset(image_dir):\n",
    "    data_dir = pathlib.Path(image_dir)\n",
    "\n",
    "    # create tf.data dataset using directory of images\n",
    "    predict_ds = tf.data.Dataset.list_files(str(data_dir / \"*.jpg\"), shuffle=False)\n",
    "\n",
    "    # use map to convert string paths to uint8 image tensors\n",
    "    # setting `num_parallel_calls' helps in processing multiple images parallely\n",
    "    predict_ds = predict_ds.map(process_image, num_parallel_calls=AUTO)\n",
    "\n",
    "    # create a Prefetch Dataset for better latency & throughput\n",
    "    predict_ds = predict_ds.batch(config.tf_ds_batch_size).prefetch(AUTO)\n",
    "    return predict_ds\n",
    "\n",
    "\n",
    "def predict(predict_ds):\n",
    "    # ShiftViT model returns logits (non-normalized predictions)\n",
    "    model = keras.Sequential([saved_model])\n",
    "    output_dict = model.predict(predict_ds)\n",
    "    logits = list(output_dict.values())[0]\n",
    "\n",
    "    # normalize predictions by calling softmax()\n",
    "    probabilities = ops.softmax(logits)\n",
    "    return probabilities\n",
    "\n",
    "\n",
    "def get_predicted_class(probabilities):\n",
    "    pred_label = np.argmax(probabilities)\n",
    "    predicted_class = config.label_map[pred_label]\n",
    "    return predicted_class\n",
    "\n",
    "\n",
    "def get_confidence_scores(probabilities):\n",
    "    # get the indices of the probability scores sorted in descending order\n",
    "    labels = np.argsort(probabilities)[::-1]\n",
    "    confidences = {\n",
    "        config.label_map[label]: np.round((probabilities[label]) * 100, 2)\n",
    "        for label in labels\n",
    "    }\n",
    "    return confidences\n"
   ]
  },
  {
   "cell_type": "markdown",
   "metadata": {
    "colab_type": "text"
   },
   "source": [
    "**Get predictions**"
   ]
  },
  {
   "cell_type": "code",
   "execution_count": 0,
   "metadata": {
    "colab_type": "code"
   },
   "outputs": [],
   "source": [
    "img_dir = \"inference_set\"\n",
    "predict_ds = create_tf_dataset(img_dir)\n",
    "probabilities = predict(predict_ds)\n",
    "print(f\"probabilities: {probabilities[0]}\")\n",
    "confidences = get_confidence_scores(probabilities[0])\n",
    "print(confidences)"
   ]
  },
  {
   "cell_type": "markdown",
   "metadata": {
    "colab_type": "text"
   },
   "source": [
    "**View predictions**"
   ]
  },
  {
   "cell_type": "code",
   "execution_count": 0,
   "metadata": {
    "colab_type": "code"
   },
   "outputs": [],
   "source": [
    "plt.figure(figsize=(10, 10))\n",
    "for images in predict_ds:\n",
    "    for i in range(min(6, probabilities.shape[0])):\n",
    "        ax = plt.subplot(3, 3, i + 1)\n",
    "        plt.imshow(images[i].numpy().astype(\"uint8\"))\n",
    "        predicted_class = get_predicted_class(probabilities[i])\n",
    "        plt.title(predicted_class)\n",
    "        plt.axis(\"off\")"
   ]
  },
  {
   "cell_type": "markdown",
   "metadata": {
    "colab_type": "text"
   },
   "source": [
    "## Conclusion\n",
    "\n",
    "The most impactful contribution of the paper is not the novel architecture, but\n",
    "the idea that hierarchical ViTs trained with no attention can perform quite well. This\n",
    "opens up the question of how essential attention is to the performance of ViTs.\n",
    "\n",
    "For curious minds, we would suggest reading the\n",
    "[ConvNexT](https://arxiv.org/abs/2201.03545) paper which attends more to the training\n",
    "paradigms and architectural details of ViTs rather than providing a novel architecture\n",
    "based on attention.\n",
    "\n",
    "Acknowledgements:\n",
    "\n",
    "- We would like to thank [PyImageSearch](https://pyimagesearch.com) for providing us with\n",
    "resources that helped in the completion of this project.\n",
    "- We would like to thank [JarvisLabs.ai](https://jarvislabs.ai/) for providing with the\n",
    "GPU credits.\n",
    "- We would like to thank [Manim Community](https://www.manim.community/) for the manim\n",
    "library.\n",
    "- A personal note of thanks to [Puja Roychowdhury](https://twitter.com/pleb_talks) for\n",
    "helping us with the Learning Rate Schedule."
   ]
  },
  {
   "cell_type": "markdown",
   "metadata": {
    "colab_type": "text"
   },
   "source": [
    "**Example available on HuggingFace**\n",
    "\n",
    "| Trained Model | Demo |\n",
    "| :--: | :--: |\n",
    "| [![Generic badge](https://img.shields.io/badge/%F0%9F%A4%97%20Model-ShiftViT-brightgreen)](https://huggingface.co/keras-io/shiftvit) | [![Generic badge](https://img.shields.io/badge/%F0%9F%A4%97%20Space-ShiftViT-brightgreen)](https://huggingface.co/spaces/keras-io/shiftvit) |"
   ]
  }
 ],
 "metadata": {
  "accelerator": "GPU",
  "colab": {
   "collapsed_sections": [],
   "name": "shiftvit",
   "private_outputs": false,
   "provenance": [],
   "toc_visible": true
  },
  "kernelspec": {
   "display_name": "Python 3",
   "language": "python",
   "name": "python3"
  },
  "language_info": {
   "codemirror_mode": {
    "name": "ipython",
    "version": 3
   },
   "file_extension": ".py",
   "mimetype": "text/x-python",
   "name": "python",
   "nbconvert_exporter": "python",
   "pygments_lexer": "ipython3",
   "version": "3.7.0"
  }
 },
 "nbformat": 4,
 "nbformat_minor": 0
}
