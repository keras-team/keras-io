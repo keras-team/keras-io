{
 "cells": [
  {
   "cell_type": "markdown",
   "metadata": {
    "colab_type": "text"
   },
   "source": [
    "# Gradient Centralization for Better Training Performance\n",
    "\n",
    "**Author:** [Rishit Dagli](https://github.com/Rishit-dagli)<br>\n",
    "**Date created:** 06/18/21<br>\n",
    "**Last modified:** 07/25/23<br>\n",
    "**Description:** Implement Gradient Centralization to improve training performance of DNNs."
   ]
  },
  {
   "cell_type": "markdown",
   "metadata": {
    "colab_type": "text"
   },
   "source": [
    "## Introduction\n",
    "\n",
    "This example implements [Gradient Centralization](https://arxiv.org/abs/2004.01461), a\n",
    "new optimization technique for Deep Neural Networks by Yong et al., and demonstrates it\n",
    "on Laurence Moroney's [Horses or Humans\n",
    "Dataset](https://www.tensorflow.org/datasets/catalog/horses_or_humans). Gradient\n",
    "Centralization can both speedup training process and improve the final generalization\n",
    "performance of DNNs. It operates directly on gradients by centralizing the gradient\n",
    "vectors to have zero mean. Gradient Centralization morever improves the Lipschitzness of\n",
    "the loss function and its gradient so that the training process becomes more efficient\n",
    "and stable.\n",
    "\n",
    "This example requires `tensorflow_datasets` which can be installed with this command:\n",
    "\n",
    "```\n",
    "pip install tensorflow-datasets\n",
    "```"
   ]
  },
  {
   "cell_type": "markdown",
   "metadata": {
    "colab_type": "text"
   },
   "source": [
    "## Setup"
   ]
  },
  {
   "cell_type": "code",
   "execution_count": 0,
   "metadata": {
    "colab_type": "code"
   },
   "outputs": [],
   "source": [
    "from time import time\n",
    "\n",
    "import keras\n",
    "from keras import layers\n",
    "from keras.optimizers import RMSprop\n",
    "from keras import ops\n",
    "\n",
    "from tensorflow import data as tf_data\n",
    "import tensorflow_datasets as tfds\n"
   ]
  },
  {
   "cell_type": "markdown",
   "metadata": {
    "colab_type": "text"
   },
   "source": [
    "## Prepare the data\n",
    "\n",
    "For this example, we will be using the [Horses or Humans\n",
    "dataset](https://www.tensorflow.org/datasets/catalog/horses_or_humans)."
   ]
  },
  {
   "cell_type": "code",
   "execution_count": 0,
   "metadata": {
    "colab_type": "code"
   },
   "outputs": [],
   "source": [
    "num_classes = 2\n",
    "input_shape = (300, 300, 3)\n",
    "dataset_name = \"horses_or_humans\"\n",
    "batch_size = 128\n",
    "AUTOTUNE = tf_data.AUTOTUNE\n",
    "\n",
    "(train_ds, test_ds), metadata = tfds.load(\n",
    "    name=dataset_name,\n",
    "    split=[tfds.Split.TRAIN, tfds.Split.TEST],\n",
    "    with_info=True,\n",
    "    as_supervised=True,\n",
    ")\n",
    "\n",
    "print(f\"Image shape: {metadata.features['image'].shape}\")\n",
    "print(f\"Training images: {metadata.splits['train'].num_examples}\")\n",
    "print(f\"Test images: {metadata.splits['test'].num_examples}\")"
   ]
  },
  {
   "cell_type": "markdown",
   "metadata": {
    "colab_type": "text"
   },
   "source": [
    "## Use Data Augmentation\n",
    "\n",
    "We will rescale the data to `[0, 1]` and perform simple augmentations to our data."
   ]
  },
  {
   "cell_type": "code",
   "execution_count": 0,
   "metadata": {
    "colab_type": "code"
   },
   "outputs": [],
   "source": [
    "rescale = layers.Rescaling(1.0 / 255)\n",
    "\n",
    "data_augmentation = [\n",
    "    layers.RandomFlip(\"horizontal_and_vertical\"),\n",
    "    layers.RandomRotation(0.3),\n",
    "    layers.RandomZoom(0.2),\n",
    "]\n",
    "\n",
    "\n",
    "# Helper to apply augmentation\n",
    "def apply_aug(x):\n",
    "    for aug in data_augmentation:\n",
    "        x = aug(x)\n",
    "    return x\n",
    "\n",
    "\n",
    "def prepare(ds, shuffle=False, augment=False):\n",
    "    # Rescale dataset\n",
    "    ds = ds.map(lambda x, y: (rescale(x), y), num_parallel_calls=AUTOTUNE)\n",
    "\n",
    "    if shuffle:\n",
    "        ds = ds.shuffle(1024)\n",
    "\n",
    "    # Batch dataset\n",
    "    ds = ds.batch(batch_size)\n",
    "\n",
    "    # Use data augmentation only on the training set\n",
    "    if augment:\n",
    "        ds = ds.map(\n",
    "            lambda x, y: (apply_aug(x), y),\n",
    "            num_parallel_calls=AUTOTUNE,\n",
    "        )\n",
    "\n",
    "    # Use buffered prefecting\n",
    "    return ds.prefetch(buffer_size=AUTOTUNE)\n"
   ]
  },
  {
   "cell_type": "markdown",
   "metadata": {
    "colab_type": "text"
   },
   "source": [
    "Rescale and augment the data"
   ]
  },
  {
   "cell_type": "code",
   "execution_count": 0,
   "metadata": {
    "colab_type": "code"
   },
   "outputs": [],
   "source": [
    "train_ds = prepare(train_ds, shuffle=True, augment=True)\n",
    "test_ds = prepare(test_ds)"
   ]
  },
  {
   "cell_type": "markdown",
   "metadata": {
    "colab_type": "text"
   },
   "source": [
    "## Define a model\n",
    "\n",
    "In this section we will define a Convolutional neural network."
   ]
  },
  {
   "cell_type": "code",
   "execution_count": 0,
   "metadata": {
    "colab_type": "code"
   },
   "outputs": [],
   "source": [
    "model = keras.Sequential(\n",
    "    [\n",
    "        layers.Input(shape=input_shape),\n",
    "        layers.Conv2D(16, (3, 3), activation=\"relu\"),\n",
    "        layers.MaxPooling2D(2, 2),\n",
    "        layers.Conv2D(32, (3, 3), activation=\"relu\"),\n",
    "        layers.Dropout(0.5),\n",
    "        layers.MaxPooling2D(2, 2),\n",
    "        layers.Conv2D(64, (3, 3), activation=\"relu\"),\n",
    "        layers.Dropout(0.5),\n",
    "        layers.MaxPooling2D(2, 2),\n",
    "        layers.Conv2D(64, (3, 3), activation=\"relu\"),\n",
    "        layers.MaxPooling2D(2, 2),\n",
    "        layers.Conv2D(64, (3, 3), activation=\"relu\"),\n",
    "        layers.MaxPooling2D(2, 2),\n",
    "        layers.Flatten(),\n",
    "        layers.Dropout(0.5),\n",
    "        layers.Dense(512, activation=\"relu\"),\n",
    "        layers.Dense(1, activation=\"sigmoid\"),\n",
    "    ]\n",
    ")"
   ]
  },
  {
   "cell_type": "markdown",
   "metadata": {
    "colab_type": "text"
   },
   "source": [
    "## Implement Gradient Centralization\n",
    "\n",
    "We will now\n",
    "subclass the `RMSProp` optimizer class modifying the\n",
    "`keras.optimizers.Optimizer.get_gradients()` method where we now implement Gradient\n",
    "Centralization. On a high level the idea is that let us say we obtain our gradients\n",
    "through back propagation for a Dense or Convolution layer we then compute the mean of the\n",
    "column vectors of the weight matrix, and then remove the mean from each column vector.\n",
    "\n",
    "The experiments in [this paper](https://arxiv.org/abs/2004.01461) on various\n",
    "applications, including general image classification, fine-grained image classification,\n",
    "detection and segmentation and Person ReID demonstrate that GC can consistently improve\n",
    "the performance of DNN learning.\n",
    "\n",
    "Also, for simplicity at the moment we are not implementing gradient cliiping functionality,\n",
    "however this quite easy to implement.\n",
    "\n",
    "At the moment we are just creating a subclass for the `RMSProp` optimizer\n",
    "however you could easily reproduce this for any other optimizer or on a custom\n",
    "optimizer in the same way. We will be using this class in the later section when\n",
    "we train a model with Gradient Centralization."
   ]
  },
  {
   "cell_type": "code",
   "execution_count": 0,
   "metadata": {
    "colab_type": "code"
   },
   "outputs": [],
   "source": [
    "\n",
    "class GCRMSprop(RMSprop):\n",
    "    def get_gradients(self, loss, params):\n",
    "        # We here just provide a modified get_gradients() function since we are\n",
    "        # trying to just compute the centralized gradients.\n",
    "\n",
    "        grads = []\n",
    "        gradients = super().get_gradients()\n",
    "        for grad in gradients:\n",
    "            grad_len = len(grad.shape)\n",
    "            if grad_len > 1:\n",
    "                axis = list(range(grad_len - 1))\n",
    "                grad -= ops.mean(grad, axis=axis, keep_dims=True)\n",
    "            grads.append(grad)\n",
    "\n",
    "        return grads\n",
    "\n",
    "\n",
    "optimizer = GCRMSprop(learning_rate=1e-4)"
   ]
  },
  {
   "cell_type": "markdown",
   "metadata": {
    "colab_type": "text"
   },
   "source": [
    "## Training utilities\n",
    "\n",
    "We will also create a callback which allows us to easily measure the total training time\n",
    "and the time taken for each epoch since we are interested in comparing the effect of\n",
    "Gradient Centralization on the model we built above."
   ]
  },
  {
   "cell_type": "code",
   "execution_count": 0,
   "metadata": {
    "colab_type": "code"
   },
   "outputs": [],
   "source": [
    "\n",
    "class TimeHistory(keras.callbacks.Callback):\n",
    "    def on_train_begin(self, logs={}):\n",
    "        self.times = []\n",
    "\n",
    "    def on_epoch_begin(self, batch, logs={}):\n",
    "        self.epoch_time_start = time()\n",
    "\n",
    "    def on_epoch_end(self, batch, logs={}):\n",
    "        self.times.append(time() - self.epoch_time_start)\n"
   ]
  },
  {
   "cell_type": "markdown",
   "metadata": {
    "colab_type": "text"
   },
   "source": [
    "## Train the model without GC\n",
    "\n",
    "We now train the model we built earlier without Gradient Centralization which we can\n",
    "compare to the training performance of the model trained with Gradient Centralization."
   ]
  },
  {
   "cell_type": "code",
   "execution_count": 0,
   "metadata": {
    "colab_type": "code"
   },
   "outputs": [],
   "source": [
    "time_callback_no_gc = TimeHistory()\n",
    "model.compile(\n",
    "    loss=\"binary_crossentropy\",\n",
    "    optimizer=RMSprop(learning_rate=1e-4),\n",
    "    metrics=[\"accuracy\"],\n",
    ")\n",
    "\n",
    "model.summary()"
   ]
  },
  {
   "cell_type": "markdown",
   "metadata": {
    "colab_type": "text"
   },
   "source": [
    "We also save the history since we later want to compare our model trained with and not\n",
    "trained with Gradient Centralization"
   ]
  },
  {
   "cell_type": "code",
   "execution_count": 0,
   "metadata": {
    "colab_type": "code"
   },
   "outputs": [],
   "source": [
    "history_no_gc = model.fit(\n",
    "    train_ds, epochs=10, verbose=1, callbacks=[time_callback_no_gc]\n",
    ")"
   ]
  },
  {
   "cell_type": "markdown",
   "metadata": {
    "colab_type": "text"
   },
   "source": [
    "## Train the model with GC\n",
    "\n",
    "We will now train the same model, this time using Gradient Centralization,\n",
    "notice our optimizer is the one using Gradient Centralization this time."
   ]
  },
  {
   "cell_type": "code",
   "execution_count": 0,
   "metadata": {
    "colab_type": "code"
   },
   "outputs": [],
   "source": [
    "time_callback_gc = TimeHistory()\n",
    "model.compile(loss=\"binary_crossentropy\", optimizer=optimizer, metrics=[\"accuracy\"])\n",
    "\n",
    "model.summary()\n",
    "\n",
    "history_gc = model.fit(train_ds, epochs=10, verbose=1, callbacks=[time_callback_gc])"
   ]
  },
  {
   "cell_type": "markdown",
   "metadata": {
    "colab_type": "text"
   },
   "source": [
    "## Comparing performance"
   ]
  },
  {
   "cell_type": "code",
   "execution_count": 0,
   "metadata": {
    "colab_type": "code"
   },
   "outputs": [],
   "source": [
    "print(\"Not using Gradient Centralization\")\n",
    "print(f\"Loss: {history_no_gc.history['loss'][-1]}\")\n",
    "print(f\"Accuracy: {history_no_gc.history['accuracy'][-1]}\")\n",
    "print(f\"Training Time: {sum(time_callback_no_gc.times)}\")\n",
    "\n",
    "print(\"Using Gradient Centralization\")\n",
    "print(f\"Loss: {history_gc.history['loss'][-1]}\")\n",
    "print(f\"Accuracy: {history_gc.history['accuracy'][-1]}\")\n",
    "print(f\"Training Time: {sum(time_callback_gc.times)}\")"
   ]
  },
  {
   "cell_type": "markdown",
   "metadata": {
    "colab_type": "text"
   },
   "source": [
    "Readers are encouraged to try out Gradient Centralization on different datasets from\n",
    "different domains and experiment with it's effect. You are strongly advised to check out\n",
    "the [original paper](https://arxiv.org/abs/2004.01461) as well - the authors present\n",
    "several studies on Gradient Centralization showing how it can improve general\n",
    "performance, generalization, training time as well as more efficient.\n",
    "\n",
    "Many thanks to [Ali Mustufa Shaikh](https://github.com/ialimustufa) for reviewing this\n",
    "implementation."
   ]
  }
 ],
 "metadata": {
  "accelerator": "GPU",
  "colab": {
   "collapsed_sections": [],
   "name": "gradient_centralization",
   "private_outputs": false,
   "provenance": [],
   "toc_visible": true
  },
  "kernelspec": {
   "display_name": "Python 3",
   "language": "python",
   "name": "python3"
  },
  "language_info": {
   "codemirror_mode": {
    "name": "ipython",
    "version": 3
   },
   "file_extension": ".py",
   "mimetype": "text/x-python",
   "name": "python",
   "nbconvert_exporter": "python",
   "pygments_lexer": "ipython3",
   "version": "3.7.0"
  }
 },
 "nbformat": 4,
 "nbformat_minor": 0
}
