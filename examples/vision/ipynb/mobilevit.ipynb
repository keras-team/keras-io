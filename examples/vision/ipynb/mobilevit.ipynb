{
 "cells": [
  {
   "cell_type": "markdown",
   "metadata": {
    "colab_type": "text"
   },
   "source": [
    "# MobileViT: A mobile-friendly Transformer-based model for image classification\n",
    "\n",
    "**Author:** [Sayak Paul](https://twitter.com/RisingSayak)<br>\n",
    "**Date created:** 2021/10/20<br>\n",
    "**Last modified:** 2025/09/30<br>\n",
    "**Description:** MobileViT for image classification with combined benefits of convolutions and Transformers."
   ]
  },
  {
   "cell_type": "markdown",
   "metadata": {
    "colab_type": "text"
   },
   "source": [
    "## Introduction\n",
    "\n",
    "In this example, we implement the MobileViT architecture\n",
    "([Mehta et al.](https://arxiv.org/abs/2110.02178)),\n",
    "which combines the benefits of Transformers\n",
    "([Vaswani et al.](https://arxiv.org/abs/1706.03762))\n",
    "and convolutions. With Transformers, we can capture long-range dependencies that result\n",
    "in global representations. With convolutions, we can capture spatial relationships that\n",
    "model locality.\n",
    "\n",
    "Besides combining the properties of Transformers and convolutions, the authors introduce\n",
    "MobileViT as a general-purpose mobile-friendly backbone for different image recognition\n",
    "tasks. Their findings suggest that, performance-wise, MobileViT is better than other\n",
    "models with the same or higher complexity ([MobileNetV3](https://arxiv.org/abs/1905.02244),\n",
    "for example), while being efficient on mobile devices.\n",
    "\n",
    "Note: This example should be run with Tensorflow 2.13 and higher."
   ]
  },
  {
   "cell_type": "markdown",
   "metadata": {
    "colab_type": "text"
   },
   "source": [
    "## Imports"
   ]
  },
  {
   "cell_type": "code",
   "execution_count": null,
   "metadata": {
    "colab_type": "code"
   },
   "outputs": [],
   "source": [
    "import os\n",
    "import tensorflow as tf\n",
    "\n",
    "os.environ[\"KERAS_BACKEND\"] = \"tensorflow\"\n",
    "\n",
    "import keras\n",
    "from keras import layers\n",
    "from keras import backend\n",
    "\n",
    "import tensorflow_datasets as tfds\n",
    "\n",
    "tfds.disable_progress_bar()"
   ]
  },
  {
   "cell_type": "markdown",
   "metadata": {
    "colab_type": "text"
   },
   "source": [
    "## Hyperparameters"
   ]
  },
  {
   "cell_type": "code",
   "execution_count": null,
   "metadata": {
    "colab_type": "code"
   },
   "outputs": [],
   "source": [
    "# Values are from table 4.\n",
    "patch_size = 4  # 2x2, for the Transformer blocks.\n",
    "image_size = 256\n",
    "expansion_factor = 2  # expansion factor for the MobileNetV2 blocks."
   ]
  },
  {
   "cell_type": "markdown",
   "metadata": {
    "colab_type": "text"
   },
   "source": [
    "## MobileViT utilities\n",
    "\n",
    "The MobileViT architecture is comprised of the following blocks:\n",
    "\n",
    "* Strided 3x3 convolutions that process the input image.\n",
    "* [MobileNetV2](https://arxiv.org/abs/1801.04381)-style inverted residual blocks for\n",
    "downsampling the resolution of the intermediate feature maps.\n",
    "* MobileViT blocks that combine the benefits of Transformers and convolutions. It is\n",
    "presented in the figure below (taken from the\n",
    "[original paper](https://arxiv.org/abs/2110.02178)):\n",
    "\n",
    "\n",
    "![](https://i.imgur.com/mANnhI7.png)"
   ]
  },
  {
   "cell_type": "code",
   "execution_count": null,
   "metadata": {
    "colab_type": "code"
   },
   "outputs": [],
   "source": [
    "\n",
    "def conv_block(x, filters=16, kernel_size=3, strides=2):\n",
    "    conv_layer = layers.Conv2D(\n",
    "        filters,\n",
    "        kernel_size,\n",
    "        strides=strides,\n",
    "        activation=keras.activations.swish,\n",
    "        padding=\"same\",\n",
    "    )\n",
    "    return conv_layer(x)\n",
    "\n",
    "\n",
    "# Reference: https://github.com/keras-team/keras/blob/e3858739d178fe16a0c77ce7fab88b0be6dbbdc7/keras/applications/imagenet_utils.py#L413C17-L435\n",
    "\n",
    "\n",
    "def correct_pad(inputs, kernel_size):\n",
    "    img_dim = 2 if backend.image_data_format() == \"channels_first\" else 1\n",
    "    input_size = inputs.shape[img_dim : (img_dim + 2)]\n",
    "    if isinstance(kernel_size, int):\n",
    "        kernel_size = (kernel_size, kernel_size)\n",
    "    if input_size[0] is None:\n",
    "        adjust = (1, 1)\n",
    "    else:\n",
    "        adjust = (1 - input_size[0] % 2, 1 - input_size[1] % 2)\n",
    "    correct = (kernel_size[0] // 2, kernel_size[1] // 2)\n",
    "    return (\n",
    "        (correct[0] - adjust[0], correct[0]),\n",
    "        (correct[1] - adjust[1], correct[1]),\n",
    "    )\n",
    "\n",
    "\n",
    "# Reference: https://git.io/JKgtC\n",
    "\n",
    "\n",
    "def inverted_residual_block(x, expanded_channels, output_channels, strides=1):\n",
    "    m = layers.Conv2D(expanded_channels, 1, padding=\"same\", use_bias=False)(x)\n",
    "    m = layers.BatchNormalization()(m)\n",
    "    m = keras.activations.swish(m)\n",
    "\n",
    "    if strides == 2:\n",
    "        m = layers.ZeroPadding2D(padding=correct_pad(m, 3))(m)\n",
    "    m = layers.DepthwiseConv2D(\n",
    "        3, strides=strides, padding=\"same\" if strides == 1 else \"valid\", use_bias=False\n",
    "    )(m)\n",
    "    m = layers.BatchNormalization()(m)\n",
    "    m = keras.activations.swish(m)\n",
    "\n",
    "    m = layers.Conv2D(output_channels, 1, padding=\"same\", use_bias=False)(m)\n",
    "    m = layers.BatchNormalization()(m)\n",
    "\n",
    "    if keras.ops.equal(x.shape[-1], output_channels) and strides == 1:\n",
    "        return layers.Add()([m, x])\n",
    "    return m\n",
    "\n",
    "\n",
    "# Reference:\n",
    "# https://keras.io/examples/vision/image_classification_with_vision_transformer/\n",
    "\n",
    "\n",
    "def mlp(x, hidden_units, dropout_rate):\n",
    "    for units in hidden_units:\n",
    "        x = layers.Dense(units, activation=keras.activations.swish)(x)\n",
    "        x = layers.Dropout(dropout_rate)(x)\n",
    "    return x\n",
    "\n",
    "\n",
    "def transformer_block(x, transformer_layers, projection_dim, num_heads=2):\n",
    "    for _ in range(transformer_layers):\n",
    "        # Layer normalization 1.\n",
    "        x1 = layers.LayerNormalization(epsilon=1e-6)(x)\n",
    "        # Create a multi-head attention layer.\n",
    "        attention_output = layers.MultiHeadAttention(\n",
    "            num_heads=num_heads, key_dim=projection_dim, dropout=0.1\n",
    "        )(x1, x1)\n",
    "        # Skip connection 1.\n",
    "        x2 = layers.Add()([attention_output, x])\n",
    "        # Layer normalization 2.\n",
    "        x3 = layers.LayerNormalization(epsilon=1e-6)(x2)\n",
    "        # MLP.\n",
    "        x3 = mlp(\n",
    "            x3,\n",
    "            hidden_units=[x.shape[-1] * 2, x.shape[-1]],\n",
    "            dropout_rate=0.1,\n",
    "        )\n",
    "        # Skip connection 2.\n",
    "        x = layers.Add()([x3, x2])\n",
    "\n",
    "    return x\n",
    "\n",
    "\n",
    "def mobilevit_block(x, num_blocks, projection_dim, strides=1):\n",
    "    # Local projection with convolutions.\n",
    "    local_features = conv_block(x, filters=projection_dim, strides=strides)\n",
    "    local_features = conv_block(\n",
    "        local_features, filters=projection_dim, kernel_size=1, strides=strides\n",
    "    )\n",
    "\n",
    "    # Unfold into patches and then pass through Transformers.\n",
    "    num_patches = int((local_features.shape[1] * local_features.shape[2]) / patch_size)\n",
    "    non_overlapping_patches = layers.Reshape((patch_size, num_patches, projection_dim))(\n",
    "        local_features\n",
    "    )\n",
    "    global_features = transformer_block(\n",
    "        non_overlapping_patches, num_blocks, projection_dim\n",
    "    )\n",
    "\n",
    "    # Fold into conv-like feature-maps.\n",
    "    folded_feature_map = layers.Reshape((*local_features.shape[1:-1], projection_dim))(\n",
    "        global_features\n",
    "    )\n",
    "\n",
    "    # Apply point-wise conv -> concatenate with the input features.\n",
    "    folded_feature_map = conv_block(\n",
    "        folded_feature_map, filters=x.shape[-1], kernel_size=1, strides=strides\n",
    "    )\n",
    "    local_global_features = layers.Concatenate(axis=-1)([x, folded_feature_map])\n",
    "\n",
    "    # Fuse the local and global features using a convoluion layer.\n",
    "    local_global_features = conv_block(\n",
    "        local_global_features, filters=projection_dim, strides=strides\n",
    "    )\n",
    "\n",
    "    return local_global_features\n"
   ]
  },
  {
   "cell_type": "markdown",
   "metadata": {
    "colab_type": "text"
   },
   "source": [
    "**More on the MobileViT block**:\n",
    "\n",
    "* First, the feature representations (A) go through convolution blocks that capture local\n",
    "relationships. The expected shape of a single entry here would be `(h, w, num_channels)`.\n",
    "* Then they get unfolded into another vector with shape `(p, n, num_channels)`,\n",
    "where `p` is the area of a small patch, and `n` is `(h * w) / p`. So, we end up with `n`\n",
    "non-overlapping patches.\n",
    "* This unfolded vector is then passed through a Tranformer block that captures global\n",
    "relationships between the patches.\n",
    "* The output vector (B) is again folded into a vector of shape `(h, w, num_channels)`\n",
    "resembling a feature map coming out of convolutions.\n",
    "\n",
    "Vectors A and B are then passed through two more convolutional layers to fuse the local\n",
    "and global representations. Notice how the spatial resolution of the final vector remains\n",
    "unchanged at this point. The authors also present an explanation of how the MobileViT\n",
    "block resembles a convolution block of a CNN. For more details, please refer to the\n",
    "original paper."
   ]
  },
  {
   "cell_type": "markdown",
   "metadata": {
    "colab_type": "text"
   },
   "source": [
    "Next, we combine these blocks together and implement the MobileViT architecture (XXS\n",
    "variant). The following figure (taken from the original paper) presents a schematic\n",
    "representation of the architecture:\n",
    "\n",
    "![](https://i.ibb.co/sRbVRBN/image.png)"
   ]
  },
  {
   "cell_type": "code",
   "execution_count": null,
   "metadata": {
    "colab_type": "code"
   },
   "outputs": [],
   "source": [
    "\n",
    "def create_mobilevit(num_classes=5):\n",
    "    inputs = keras.Input((image_size, image_size, 3))\n",
    "    x = layers.Rescaling(scale=1.0 / 255)(inputs)\n",
    "\n",
    "    # Initial conv-stem -> MV2 block.\n",
    "    x = conv_block(x, filters=16)\n",
    "    x = inverted_residual_block(\n",
    "        x, expanded_channels=16 * expansion_factor, output_channels=16\n",
    "    )\n",
    "\n",
    "    # Downsampling with MV2 block.\n",
    "    x = inverted_residual_block(\n",
    "        x, expanded_channels=16 * expansion_factor, output_channels=24, strides=2\n",
    "    )\n",
    "    x = inverted_residual_block(\n",
    "        x, expanded_channels=24 * expansion_factor, output_channels=24\n",
    "    )\n",
    "    x = inverted_residual_block(\n",
    "        x, expanded_channels=24 * expansion_factor, output_channels=24\n",
    "    )\n",
    "\n",
    "    # First MV2 -> MobileViT block.\n",
    "    x = inverted_residual_block(\n",
    "        x, expanded_channels=24 * expansion_factor, output_channels=48, strides=2\n",
    "    )\n",
    "    x = mobilevit_block(x, num_blocks=2, projection_dim=64)\n",
    "\n",
    "    # Second MV2 -> MobileViT block.\n",
    "    x = inverted_residual_block(\n",
    "        x, expanded_channels=64 * expansion_factor, output_channels=64, strides=2\n",
    "    )\n",
    "    x = mobilevit_block(x, num_blocks=4, projection_dim=80)\n",
    "\n",
    "    # Third MV2 -> MobileViT block.\n",
    "    x = inverted_residual_block(\n",
    "        x, expanded_channels=80 * expansion_factor, output_channels=80, strides=2\n",
    "    )\n",
    "    x = mobilevit_block(x, num_blocks=3, projection_dim=96)\n",
    "    x = conv_block(x, filters=320, kernel_size=1, strides=1)\n",
    "\n",
    "    # Classification head.\n",
    "    x = layers.GlobalAvgPool2D()(x)\n",
    "    outputs = layers.Dense(num_classes, activation=\"softmax\")(x)\n",
    "\n",
    "    return keras.Model(inputs, outputs)\n",
    "\n",
    "\n",
    "mobilevit_xxs = create_mobilevit()\n",
    "mobilevit_xxs.summary()"
   ]
  },
  {
   "cell_type": "markdown",
   "metadata": {
    "colab_type": "text"
   },
   "source": [
    "## Dataset preparation\n",
    "\n",
    "We will be using the\n",
    "[`tf_flowers`](https://www.tensorflow.org/datasets/catalog/tf_flowers)\n",
    "dataset to demonstrate the model. Unlike other Transformer-based architectures,\n",
    "MobileViT uses a simple augmentation pipeline primarily because it has the properties\n",
    "of a CNN."
   ]
  },
  {
   "cell_type": "code",
   "execution_count": null,
   "metadata": {
    "colab_type": "code"
   },
   "outputs": [],
   "source": [
    "batch_size = 64\n",
    "auto = tf.data.AUTOTUNE\n",
    "resize_bigger = 280\n",
    "num_classes = 5\n",
    "\n",
    "\n",
    "def preprocess_dataset(is_training=True):\n",
    "    def _pp(image, label):\n",
    "        if is_training:\n",
    "            # Resize to a bigger spatial resolution and take the random\n",
    "            # crops.\n",
    "            image = tf.image.resize(image, (resize_bigger, resize_bigger))\n",
    "            image = tf.image.random_crop(image, (image_size, image_size, 3))\n",
    "            image = tf.image.random_flip_left_right(image)\n",
    "        else:\n",
    "            image = tf.image.resize(image, (image_size, image_size))\n",
    "        label = tf.one_hot(label, depth=num_classes)\n",
    "        return image, label\n",
    "\n",
    "    return _pp\n",
    "\n",
    "\n",
    "def prepare_dataset(dataset, is_training=True):\n",
    "    if is_training:\n",
    "        dataset = dataset.shuffle(batch_size * 10)\n",
    "    dataset = dataset.map(preprocess_dataset(is_training), num_parallel_calls=auto)\n",
    "    return dataset.batch(batch_size).prefetch(auto)\n"
   ]
  },
  {
   "cell_type": "markdown",
   "metadata": {
    "colab_type": "text"
   },
   "source": [
    "The authors use a multi-scale data sampler to help the model learn representations of\n",
    "varied scales. In this example, we discard this part."
   ]
  },
  {
   "cell_type": "markdown",
   "metadata": {
    "colab_type": "text"
   },
   "source": [
    "## Load and prepare the dataset"
   ]
  },
  {
   "cell_type": "code",
   "execution_count": null,
   "metadata": {
    "colab_type": "code"
   },
   "outputs": [],
   "source": [
    "train_dataset, val_dataset = tfds.load(\n",
    "    \"tf_flowers\", split=[\"train[:90%]\", \"train[90%:]\"], as_supervised=True\n",
    ")\n",
    "\n",
    "num_train = train_dataset.cardinality()\n",
    "num_val = val_dataset.cardinality()\n",
    "print(f\"Number of training examples: {num_train}\")\n",
    "print(f\"Number of validation examples: {num_val}\")\n",
    "\n",
    "train_dataset = prepare_dataset(train_dataset, is_training=True)\n",
    "val_dataset = prepare_dataset(val_dataset, is_training=False)"
   ]
  },
  {
   "cell_type": "markdown",
   "metadata": {
    "colab_type": "text"
   },
   "source": [
    "## Train a MobileViT (XXS) model"
   ]
  },
  {
   "cell_type": "code",
   "execution_count": null,
   "metadata": {
    "colab_type": "code"
   },
   "outputs": [],
   "source": [
    "learning_rate = 0.002\n",
    "label_smoothing_factor = 0.1\n",
    "epochs = 30\n",
    "\n",
    "optimizer = keras.optimizers.Adam(learning_rate=learning_rate)\n",
    "loss_fn = keras.losses.CategoricalCrossentropy(label_smoothing=label_smoothing_factor)\n",
    "\n",
    "\n",
    "def run_experiment(epochs=epochs):\n",
    "    mobilevit_xxs = create_mobilevit(num_classes=num_classes)\n",
    "    mobilevit_xxs.compile(optimizer=optimizer, loss=loss_fn, metrics=[\"accuracy\"])\n",
    "\n",
    "    # When using `save_weights_only=True` in `ModelCheckpoint`, the filepath provided must end in `.weights.h5`\n",
    "    checkpoint_filepath = \"/tmp/checkpoint.weights.h5\"\n",
    "    checkpoint_callback = keras.callbacks.ModelCheckpoint(\n",
    "        checkpoint_filepath,\n",
    "        monitor=\"val_accuracy\",\n",
    "        save_best_only=True,\n",
    "        save_weights_only=True,\n",
    "    )\n",
    "\n",
    "    mobilevit_xxs.fit(\n",
    "        train_dataset,\n",
    "        validation_data=val_dataset,\n",
    "        epochs=epochs,\n",
    "        callbacks=[checkpoint_callback],\n",
    "    )\n",
    "    mobilevit_xxs.load_weights(checkpoint_filepath)\n",
    "    _, accuracy = mobilevit_xxs.evaluate(val_dataset)\n",
    "    print(f\"Validation accuracy: {round(accuracy * 100, 2)}%\")\n",
    "    return mobilevit_xxs\n",
    "\n",
    "\n",
    "mobilevit_xxs = run_experiment()"
   ]
  },
  {
   "cell_type": "markdown",
   "metadata": {
    "colab_type": "text"
   },
   "source": [
    "## Results and TFLite conversion\n",
    "\n",
    "With about one million parameters, getting to ~85% top-1 accuracy on 256x256 resolution is\n",
    "a strong result. This MobileViT mobile is fully compatible with TensorFlow Lite (TFLite)\n",
    "and can be converted with the following code:"
   ]
  },
  {
   "cell_type": "code",
   "execution_count": null,
   "metadata": {
    "colab_type": "code"
   },
   "outputs": [],
   "source": [
    "# Serialize the model as a SavedModel.\n",
    "tf.saved_model.save(mobilevit_xxs, \"mobilevit_xxs\")\n",
    "\n",
    "# Convert to TFLite. This form of quantization is called\n",
    "# post-training dynamic-range quantization in TFLite.\n",
    "converter = tf.lite.TFLiteConverter.from_saved_model(\"mobilevit_xxs\")\n",
    "converter.optimizations = [tf.lite.Optimize.DEFAULT]\n",
    "converter.target_spec.supported_ops = [\n",
    "    tf.lite.OpsSet.TFLITE_BUILTINS,  # Enable TensorFlow Lite ops.\n",
    "    tf.lite.OpsSet.SELECT_TF_OPS,  # Enable TensorFlow ops.\n",
    "]\n",
    "tflite_model = converter.convert()\n",
    "open(\"mobilevit_xxs.tflite\", \"wb\").write(tflite_model)"
   ]
  },
  {
   "cell_type": "markdown",
   "metadata": {
    "colab_type": "text"
   },
   "source": [
    "To learn more about different quantization recipes available in TFLite and running\n",
    "inference with TFLite models, check out\n",
    "[this official resource](https://www.tensorflow.org/lite/performance/post_training_quantization).\n",
    "\n",
    "You can use the trained model hosted on [Hugging Face Hub](https://huggingface.co/keras-io/mobile-vit-xxs)\n",
    "and try the demo on [Hugging Face Spaces](https://huggingface.co/spaces/keras-io/Flowers-Classification-MobileViT)."
   ]
  }
 ],
 "metadata": {
  "accelerator": "GPU",
  "colab": {
   "collapsed_sections": [],
   "name": "mobilevit",
   "private_outputs": false,
   "provenance": [],
   "toc_visible": true
  },
  "kernelspec": {
   "display_name": "Python 3",
   "language": "python",
   "name": "python3"
  },
  "language_info": {
   "codemirror_mode": {
    "name": "ipython",
    "version": 3
   },
   "file_extension": ".py",
   "mimetype": "text/x-python",
   "name": "python",
   "nbconvert_exporter": "python",
   "pygments_lexer": "ipython3",
   "version": "3.9.18"
  }
 },
 "nbformat": 4,
 "nbformat_minor": 0
}
