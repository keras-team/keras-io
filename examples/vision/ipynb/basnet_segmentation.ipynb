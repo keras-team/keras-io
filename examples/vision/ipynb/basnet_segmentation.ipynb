{
 "cells": [
  {
   "cell_type": "markdown",
   "metadata": {
    "colab_type": "text"
   },
   "source": [
    "# Highly accurate boundaries segmentation using BASNet\n",
    "\n",
    "**Author:** [Hamid Ali](https://github.com/hamidriasat)<br>\n",
    "**Date created:** 2023/05/30<br>\n",
    "**Last modified:** 2024/10/02<br>\n",
    "**Description:** Boundaries aware segmentation model trained on the DUTS dataset."
   ]
  },
  {
   "cell_type": "markdown",
   "metadata": {
    "colab_type": "text"
   },
   "source": [
    "## Introduction\n",
    "\n",
    "Deep semantic segmentation algorithms have improved a lot recently, but still fails to correctly\n",
    "predict pixels around object boundaries. In this example we implement\n",
    "**Boundary-Aware Segmentation Network (BASNet)**, using two stage predict and refine\n",
    "architecture, and a hybrid loss it can predict highly accurate boundaries and fine structures\n",
    "for image segmentation.\n",
    "\n",
    "### References:\n",
    "\n",
    "- [Boundary-Aware Segmentation Network for Mobile and Web Applications](https://arxiv.org/abs/2101.04704)\n",
    "- [BASNet Keras Implementation](https://github.com/hamidriasat/BASNet/tree/basnet_keras)\n",
    "- [Learning to Detect Salient Objects with Image-level Supervision](https://openaccess.thecvf.com/content_cvpr_2017/html/Wang_Learning_to_Detect_CVPR_2017_paper.html)"
   ]
  },
  {
   "cell_type": "markdown",
   "metadata": {
    "colab_type": "text"
   },
   "source": [
    "## Download the Data\n",
    "\n",
    "We will use the [DUTS-TE](http://saliencydetection.net/duts/) dataset for training. It has 5,019\n",
    "images but we will use 140 for training and validation to save notebook running time. DUTS is\n",
    "relatively large salient object segmentation dataset. which contain diversified textures and\n",
    "structures common to real-world images in both foreground and background."
   ]
  },
  {
   "cell_type": "code",
   "execution_count": 0,
   "metadata": {
    "colab_type": "code"
   },
   "outputs": [],
   "source": [
    "import os\n",
    "\n",
    "# Because of the use of tf.image.ssim in the loss,\n",
    "# this example requires TensorFlow. The rest of the code\n",
    "# is backend-agnostic.\n",
    "os.environ[\"KERAS_BACKEND\"] = \"tensorflow\"\n",
    "\n",
    "import numpy as np\n",
    "from glob import glob\n",
    "import matplotlib.pyplot as plt\n",
    "\n",
    "import keras_cv\n",
    "import tensorflow as tf\n",
    "import keras\n",
    "from keras import layers, ops"
   ]
  },
  {
   "cell_type": "markdown",
   "metadata": {
    "colab_type": "text"
   },
   "source": [
    "## Define Hyperparameters"
   ]
  },
  {
   "cell_type": "code",
   "execution_count": 0,
   "metadata": {
    "colab_type": "code"
   },
   "outputs": [],
   "source": [
    "IMAGE_SIZE = 288\n",
    "BATCH_SIZE = 4\n",
    "OUT_CLASSES = 1\n",
    "TRAIN_SPLIT_RATIO = 0.90"
   ]
  },
  {
   "cell_type": "markdown",
   "metadata": {
    "colab_type": "text"
   },
   "source": [
    "## Create `PyDataset`s\n",
    "\n",
    "We will use `load_paths()` to load and split 140 paths into train and validation set, and\n",
    "convert paths into `PyDataset` object."
   ]
  },
  {
   "cell_type": "code",
   "execution_count": 0,
   "metadata": {
    "colab_type": "code"
   },
   "outputs": [],
   "source": [
    "DATA_DIR = keras.utils.get_file(\n",
    "    origin=\"http://saliencydetection.net/duts/download/DUTS-TE.zip\",\n",
    "    extract=True,\n",
    ")\n",
    "\n",
    "\n",
    "def load_paths(path, split_ratio):\n",
    "    images = sorted(glob(os.path.join(path, \"DUTS-TE-Image/*\")))[:140]\n",
    "    masks = sorted(glob(os.path.join(path, \"DUTS-TE-Mask/*\")))[:140]\n",
    "    len_ = int(len(images) * split_ratio)\n",
    "    return (images[:len_], masks[:len_]), (images[len_:], masks[len_:])\n",
    "\n",
    "\n",
    "class Dataset(keras.utils.PyDataset):\n",
    "    def __init__(\n",
    "        self,\n",
    "        image_paths,\n",
    "        mask_paths,\n",
    "        img_size,\n",
    "        out_classes,\n",
    "        batch,\n",
    "        shuffle=True,\n",
    "        **kwargs,\n",
    "    ):\n",
    "        if shuffle:\n",
    "            perm = np.random.permutation(len(image_paths))\n",
    "            image_paths = [image_paths[i] for i in perm]\n",
    "            mask_paths = [mask_paths[i] for i in perm]\n",
    "        self.image_paths = image_paths\n",
    "        self.mask_paths = mask_paths\n",
    "        self.img_size = img_size\n",
    "        self.out_classes = out_classes\n",
    "        self.batch_size = batch\n",
    "        super().__init__(*kwargs)\n",
    "\n",
    "    def __len__(self):\n",
    "        return len(self.image_paths) // self.batch_size\n",
    "\n",
    "    def __getitem__(self, idx):\n",
    "        batch_x, batch_y = [], []\n",
    "        for i in range(idx * self.batch_size, (idx + 1) * self.batch_size):\n",
    "            x, y = self.preprocess(\n",
    "                self.image_paths[i], self.mask_paths[i], self.img_size, self.out_classes\n",
    "            )\n",
    "            batch_x.append(x)\n",
    "            batch_y.append(y)\n",
    "        batch_x = np.stack(batch_x, axis=0)\n",
    "        batch_y = np.stack(batch_y, axis=0)\n",
    "        return batch_x, batch_y\n",
    "\n",
    "    def read_image(self, path, size, mode):\n",
    "        x = keras.utils.load_img(path, target_size=size, color_mode=mode)\n",
    "        x = keras.utils.img_to_array(x)\n",
    "        x = (x / 255.0).astype(np.float32)\n",
    "        return x\n",
    "\n",
    "    def preprocess(self, x_batch, y_batch, img_size, out_classes):\n",
    "        images = self.read_image(x_batch, (img_size, img_size), mode=\"rgb\")  # image\n",
    "        masks = self.read_image(y_batch, (img_size, img_size), mode=\"grayscale\")  # mask\n",
    "        return images, masks\n",
    "\n",
    "\n",
    "train_paths, val_paths = load_paths(DATA_DIR, TRAIN_SPLIT_RATIO)\n",
    "\n",
    "train_dataset = Dataset(\n",
    "    train_paths[0], train_paths[1], IMAGE_SIZE, OUT_CLASSES, BATCH_SIZE, shuffle=True\n",
    ")\n",
    "val_dataset = Dataset(\n",
    "    val_paths[0], val_paths[1], IMAGE_SIZE, OUT_CLASSES, BATCH_SIZE, shuffle=False\n",
    ")"
   ]
  },
  {
   "cell_type": "markdown",
   "metadata": {
    "colab_type": "text"
   },
   "source": [
    "## Visualize Data"
   ]
  },
  {
   "cell_type": "code",
   "execution_count": 0,
   "metadata": {
    "colab_type": "code"
   },
   "outputs": [],
   "source": [
    "\n",
    "def display(display_list):\n",
    "    title = [\"Input Image\", \"True Mask\", \"Predicted Mask\"]\n",
    "\n",
    "    for i in range(len(display_list)):\n",
    "        plt.subplot(1, len(display_list), i + 1)\n",
    "        plt.title(title[i])\n",
    "        plt.imshow(keras.utils.array_to_img(display_list[i]), cmap=\"gray\")\n",
    "        plt.axis(\"off\")\n",
    "    plt.show()\n",
    "\n",
    "\n",
    "for image, mask in val_dataset:\n",
    "    display([image[0], mask[0]])\n",
    "    break"
   ]
  },
  {
   "cell_type": "markdown",
   "metadata": {
    "colab_type": "text"
   },
   "source": [
    "## Analyze Mask\n",
    "\n",
    "Lets print unique values of above displayed mask. You can see despite belonging to one class, it's\n",
    "intensity is changing between low(0) to high(255). This variation in intensity makes it hard for\n",
    "network to generate good segmentation map for **salient or camouflaged object segmentation**.\n",
    "Because of its Residual Refined Module (RMs), BASNet is good in generating highly accurate\n",
    "boundaries and fine structures."
   ]
  },
  {
   "cell_type": "code",
   "execution_count": 0,
   "metadata": {
    "colab_type": "code"
   },
   "outputs": [],
   "source": [
    "print(f\"Unique values count: {len(np.unique((mask[0] * 255)))}\")\n",
    "print(\"Unique values:\")\n",
    "print(np.unique((mask[0] * 255)).astype(int))"
   ]
  },
  {
   "cell_type": "markdown",
   "metadata": {
    "colab_type": "text"
   },
   "source": [
    "## Building the BASNet Model\n",
    "\n",
    "BASNet comprises of a predict-refine architecture and a hybrid loss. The predict-refine\n",
    "architecture consists of a densely supervised encoder-decoder network and a residual refinement\n",
    "module, which are respectively used to predict and refine a segmentation probability map.\n",
    "\n",
    "![](https://i.imgur.com/8jaZ2qs.png)"
   ]
  },
  {
   "cell_type": "code",
   "execution_count": 0,
   "metadata": {
    "colab_type": "code"
   },
   "outputs": [],
   "source": [
    "\n",
    "def basic_block(x_input, filters, stride=1, down_sample=None, activation=None):\n",
    "    \"\"\"Creates a residual(identity) block with two 3*3 convolutions.\"\"\"\n",
    "    residual = x_input\n",
    "\n",
    "    x = layers.Conv2D(filters, (3, 3), strides=stride, padding=\"same\", use_bias=False)(\n",
    "        x_input\n",
    "    )\n",
    "    x = layers.BatchNormalization()(x)\n",
    "    x = layers.Activation(\"relu\")(x)\n",
    "\n",
    "    x = layers.Conv2D(filters, (3, 3), strides=(1, 1), padding=\"same\", use_bias=False)(\n",
    "        x\n",
    "    )\n",
    "    x = layers.BatchNormalization()(x)\n",
    "\n",
    "    if down_sample is not None:\n",
    "        residual = down_sample\n",
    "\n",
    "    x = layers.Add()([x, residual])\n",
    "\n",
    "    if activation is not None:\n",
    "        x = layers.Activation(activation)(x)\n",
    "\n",
    "    return x\n",
    "\n",
    "\n",
    "def convolution_block(x_input, filters, dilation=1):\n",
    "    \"\"\"Apply convolution + batch normalization + relu layer.\"\"\"\n",
    "    x = layers.Conv2D(filters, (3, 3), padding=\"same\", dilation_rate=dilation)(x_input)\n",
    "    x = layers.BatchNormalization()(x)\n",
    "    return layers.Activation(\"relu\")(x)\n",
    "\n",
    "\n",
    "def segmentation_head(x_input, out_classes, final_size):\n",
    "    \"\"\"Map each decoder stage output to model output classes.\"\"\"\n",
    "    x = layers.Conv2D(out_classes, kernel_size=(3, 3), padding=\"same\")(x_input)\n",
    "\n",
    "    if final_size is not None:\n",
    "        x = layers.Resizing(final_size[0], final_size[1])(x)\n",
    "\n",
    "    return x\n",
    "\n",
    "\n",
    "def get_resnet_block(_resnet, block_num):\n",
    "    \"\"\"Extract and return ResNet-34 block.\"\"\"\n",
    "    resnet_layers = [3, 4, 6, 3]  # ResNet-34 layer sizes at different block.\n",
    "    return keras.models.Model(\n",
    "        inputs=_resnet.get_layer(f\"v2_stack_{block_num}_block1_1_conv\").input,\n",
    "        outputs=_resnet.get_layer(\n",
    "            f\"v2_stack_{block_num}_block{resnet_layers[block_num]}_add\"\n",
    "        ).output,\n",
    "        name=f\"resnet34_block{block_num + 1}\",\n",
    "    )\n",
    ""
   ]
  },
  {
   "cell_type": "markdown",
   "metadata": {
    "colab_type": "text"
   },
   "source": [
    "## Prediction Module\n",
    "\n",
    "Prediction module is a heavy encoder decoder structure like U-Net. The encoder includes an input\n",
    "convolutional layer and six stages. First four are adopted from ResNet-34 and rest are basic\n",
    "res-blocks. Since first convolution and pooling layer of ResNet-34 is skipped so we will use\n",
    "`get_resnet_block()` to extract first four blocks. Both bridge and decoder uses three\n",
    "convolutional layers with side outputs. The module produces seven segmentation probability\n",
    "maps during training, with the last one considered the final output."
   ]
  },
  {
   "cell_type": "code",
   "execution_count": 0,
   "metadata": {
    "colab_type": "code"
   },
   "outputs": [],
   "source": [
    "\n",
    "def basnet_predict(input_shape, out_classes):\n",
    "    \"\"\"BASNet Prediction Module, it outputs coarse label map.\"\"\"\n",
    "    filters = 64\n",
    "    num_stages = 6\n",
    "\n",
    "    x_input = layers.Input(input_shape)\n",
    "\n",
    "    # -------------Encoder--------------\n",
    "    x = layers.Conv2D(filters, kernel_size=(3, 3), padding=\"same\")(x_input)\n",
    "\n",
    "    resnet = keras_cv.models.ResNet34Backbone(\n",
    "        include_rescaling=False,\n",
    "    )\n",
    "\n",
    "    encoder_blocks = []\n",
    "    for i in range(num_stages):\n",
    "        if i < 4:  # First four stages are adopted from ResNet-34 blocks.\n",
    "            x = get_resnet_block(resnet, i)(x)\n",
    "            encoder_blocks.append(x)\n",
    "            x = layers.Activation(\"relu\")(x)\n",
    "        else:  # Last 2 stages consist of three basic resnet blocks.\n",
    "            x = layers.MaxPool2D(pool_size=(2, 2), strides=(2, 2))(x)\n",
    "            x = basic_block(x, filters=filters * 8, activation=\"relu\")\n",
    "            x = basic_block(x, filters=filters * 8, activation=\"relu\")\n",
    "            x = basic_block(x, filters=filters * 8, activation=\"relu\")\n",
    "            encoder_blocks.append(x)\n",
    "\n",
    "    # -------------Bridge-------------\n",
    "    x = convolution_block(x, filters=filters * 8, dilation=2)\n",
    "    x = convolution_block(x, filters=filters * 8, dilation=2)\n",
    "    x = convolution_block(x, filters=filters * 8, dilation=2)\n",
    "    encoder_blocks.append(x)\n",
    "\n",
    "    # -------------Decoder-------------\n",
    "    decoder_blocks = []\n",
    "    for i in reversed(range(num_stages)):\n",
    "        if i != (num_stages - 1):  # Except first, scale other decoder stages.\n",
    "            shape = x.shape\n",
    "            x = layers.Resizing(shape[1] * 2, shape[2] * 2)(x)\n",
    "\n",
    "        x = layers.concatenate([encoder_blocks[i], x], axis=-1)\n",
    "        x = convolution_block(x, filters=filters * 8)\n",
    "        x = convolution_block(x, filters=filters * 8)\n",
    "        x = convolution_block(x, filters=filters * 8)\n",
    "        decoder_blocks.append(x)\n",
    "\n",
    "    decoder_blocks.reverse()  # Change order from last to first decoder stage.\n",
    "    decoder_blocks.append(encoder_blocks[-1])  # Copy bridge to decoder.\n",
    "\n",
    "    # -------------Side Outputs--------------\n",
    "    decoder_blocks = [\n",
    "        segmentation_head(decoder_block, out_classes, input_shape[:2])\n",
    "        for decoder_block in decoder_blocks\n",
    "    ]\n",
    "\n",
    "    return keras.models.Model(inputs=[x_input], outputs=decoder_blocks)\n",
    ""
   ]
  },
  {
   "cell_type": "markdown",
   "metadata": {
    "colab_type": "text"
   },
   "source": [
    "## Residual Refinement Module\n",
    "\n",
    "Refinement Modules (RMs), designed as a residual block aim to refines the coarse(blurry and noisy\n",
    "boundaries) segmentation maps generated by prediction module. Similar to prediction module it's\n",
    "also an encode decoder structure but with light weight 4 stages, each containing one\n",
    "`convolutional block()` init. At the end it adds both coarse and residual output to generate\n",
    "refined output."
   ]
  },
  {
   "cell_type": "code",
   "execution_count": 0,
   "metadata": {
    "colab_type": "code"
   },
   "outputs": [],
   "source": [
    "\n",
    "def basnet_rrm(base_model, out_classes):\n",
    "    \"\"\"BASNet Residual Refinement Module(RRM) module, output fine label map.\"\"\"\n",
    "    num_stages = 4\n",
    "    filters = 64\n",
    "\n",
    "    x_input = base_model.output[0]\n",
    "\n",
    "    # -------------Encoder--------------\n",
    "    x = layers.Conv2D(filters, kernel_size=(3, 3), padding=\"same\")(x_input)\n",
    "\n",
    "    encoder_blocks = []\n",
    "    for _ in range(num_stages):\n",
    "        x = convolution_block(x, filters=filters)\n",
    "        encoder_blocks.append(x)\n",
    "        x = layers.MaxPool2D(pool_size=(2, 2), strides=(2, 2))(x)\n",
    "\n",
    "    # -------------Bridge--------------\n",
    "    x = convolution_block(x, filters=filters)\n",
    "\n",
    "    # -------------Decoder--------------\n",
    "    for i in reversed(range(num_stages)):\n",
    "        shape = x.shape\n",
    "        x = layers.Resizing(shape[1] * 2, shape[2] * 2)(x)\n",
    "        x = layers.concatenate([encoder_blocks[i], x], axis=-1)\n",
    "        x = convolution_block(x, filters=filters)\n",
    "\n",
    "    x = segmentation_head(x, out_classes, None)  # Segmentation head.\n",
    "\n",
    "    # ------------- refined = coarse + residual\n",
    "    x = layers.Add()([x_input, x])  # Add prediction + refinement output\n",
    "\n",
    "    return keras.models.Model(inputs=[base_model.input], outputs=[x])\n",
    ""
   ]
  },
  {
   "cell_type": "markdown",
   "metadata": {
    "colab_type": "text"
   },
   "source": [
    "## Combine Predict and Refinement Module"
   ]
  },
  {
   "cell_type": "code",
   "execution_count": 0,
   "metadata": {
    "colab_type": "code"
   },
   "outputs": [],
   "source": [
    "\n",
    "def basnet(input_shape, out_classes):\n",
    "    \"\"\"BASNet, it's a combination of two modules\n",
    "    Prediction Module and Residual Refinement Module(RRM).\"\"\"\n",
    "\n",
    "    # Prediction model.\n",
    "    predict_model = basnet_predict(input_shape, out_classes)\n",
    "    # Refinement model.\n",
    "    refine_model = basnet_rrm(predict_model, out_classes)\n",
    "\n",
    "    output = refine_model.outputs  # Combine outputs.\n",
    "    output.extend(predict_model.output)\n",
    "\n",
    "    output = [layers.Activation(\"sigmoid\")(_) for _ in output]  # Activations.\n",
    "\n",
    "    return keras.models.Model(inputs=[predict_model.input], outputs=output)\n",
    ""
   ]
  },
  {
   "cell_type": "markdown",
   "metadata": {
    "colab_type": "text"
   },
   "source": [
    "## Hybrid Loss\n",
    "\n",
    "Another important feature of BASNet is its hybrid loss function, which is a combination of\n",
    "binary cross entropy, structural similarity and intersection-over-union losses, which guide\n",
    "the network to learn three-level (i.e., pixel, patch and map level) hierarchy representations."
   ]
  },
  {
   "cell_type": "code",
   "execution_count": 0,
   "metadata": {
    "colab_type": "code"
   },
   "outputs": [],
   "source": [
    "\n",
    "class BasnetLoss(keras.losses.Loss):\n",
    "    \"\"\"BASNet hybrid loss.\"\"\"\n",
    "\n",
    "    def __init__(self, **kwargs):\n",
    "        super().__init__(name=\"basnet_loss\", **kwargs)\n",
    "        self.smooth = 1.0e-9\n",
    "\n",
    "        # Binary Cross Entropy loss.\n",
    "        self.cross_entropy_loss = keras.losses.BinaryCrossentropy()\n",
    "        # Structural Similarity Index value.\n",
    "        self.ssim_value = tf.image.ssim\n",
    "        #  Jaccard / IoU loss.\n",
    "        self.iou_value = self.calculate_iou\n",
    "\n",
    "    def calculate_iou(\n",
    "        self,\n",
    "        y_true,\n",
    "        y_pred,\n",
    "    ):\n",
    "        \"\"\"Calculate intersection over union (IoU) between images.\"\"\"\n",
    "        intersection = ops.sum(ops.abs(y_true * y_pred), axis=[1, 2, 3])\n",
    "        union = ops.sum(y_true, [1, 2, 3]) + ops.sum(y_pred, [1, 2, 3])\n",
    "        union = union - intersection\n",
    "        return ops.mean((intersection + self.smooth) / (union + self.smooth), axis=0)\n",
    "\n",
    "    def call(self, y_true, y_pred):\n",
    "        cross_entropy_loss = self.cross_entropy_loss(y_true, y_pred)\n",
    "\n",
    "        ssim_value = self.ssim_value(y_true, y_pred, max_val=1)\n",
    "        ssim_loss = ops.mean(1 - ssim_value + self.smooth, axis=0)\n",
    "\n",
    "        iou_value = self.iou_value(y_true, y_pred)\n",
    "        iou_loss = 1 - iou_value\n",
    "\n",
    "        # Add all three losses.\n",
    "        return cross_entropy_loss + ssim_loss + iou_loss\n",
    "\n",
    "\n",
    "basnet_model = basnet(\n",
    "    input_shape=[IMAGE_SIZE, IMAGE_SIZE, 3], out_classes=OUT_CLASSES\n",
    ")  # Create model.\n",
    "basnet_model.summary()  # Show model summary.\n",
    "\n",
    "optimizer = keras.optimizers.Adam(learning_rate=1e-4, epsilon=1e-8)\n",
    "# Compile model.\n",
    "basnet_model.compile(\n",
    "    loss=BasnetLoss(),\n",
    "    optimizer=optimizer,\n",
    "    metrics=[keras.metrics.MeanAbsoluteError(name=\"mae\") for _ in basnet_model.outputs],\n",
    ")"
   ]
  },
  {
   "cell_type": "markdown",
   "metadata": {
    "colab_type": "text"
   },
   "source": [
    "### Train the Model"
   ]
  },
  {
   "cell_type": "code",
   "execution_count": 0,
   "metadata": {
    "colab_type": "code"
   },
   "outputs": [],
   "source": [
    "basnet_model.fit(train_dataset, validation_data=val_dataset, epochs=1)"
   ]
  },
  {
   "cell_type": "markdown",
   "metadata": {
    "colab_type": "text"
   },
   "source": [
    "### Visualize Predictions\n",
    "\n",
    "In paper BASNet was trained on DUTS-TR dataset, which has 10553 images. Model was trained for 400k\n",
    "iterations with a batch size of eight and without a validation dataset. After training model was\n",
    "evaluated on DUTS-TE dataset and achieved a mean absolute error of `0.042`.\n",
    "\n",
    "Since BASNet is a deep model and cannot be trained in a short amount of time which is a\n",
    "requirement for keras example notebook, so we will load pretrained weights from [here](https://github.com/hamidriasat/BASNet/tree/basnet_keras)\n",
    "to show model prediction. Due to computer power limitation this model was trained for 120k\n",
    "iterations but it still demonstrates its capabilities. For further details about\n",
    "trainings parameters please check given link."
   ]
  },
  {
   "cell_type": "code",
   "execution_count": 0,
   "metadata": {
    "colab_type": "code"
   },
   "outputs": [],
   "source": [
    "!!gdown 1OWKouuAQ7XpXZbWA3mmxDPrFGW71Axrg"
   ]
  },
  {
   "cell_type": "code",
   "execution_count": 0,
   "metadata": {
    "colab_type": "code"
   },
   "outputs": [],
   "source": [
    "\n",
    "def normalize_output(prediction):\n",
    "    max_value = np.max(prediction)\n",
    "    min_value = np.min(prediction)\n",
    "    return (prediction - min_value) / (max_value - min_value)\n",
    "\n",
    "\n",
    "# Load weights.\n",
    "basnet_model.load_weights(\"./basnet_weights.h5\")"
   ]
  },
  {
   "cell_type": "markdown",
   "metadata": {
    "colab_type": "text"
   },
   "source": [
    "### Make Predictions"
   ]
  },
  {
   "cell_type": "code",
   "execution_count": 0,
   "metadata": {
    "colab_type": "code"
   },
   "outputs": [],
   "source": [
    "for (image, mask), _ in zip(val_dataset, range(1)):\n",
    "    pred_mask = basnet_model.predict(image)\n",
    "    display([image[0], mask[0], normalize_output(pred_mask[0][0])])"
   ]
  }
 ],
 "metadata": {
  "accelerator": "GPU",
  "colab": {
   "collapsed_sections": [],
   "name": "basnet_segmentation",
   "private_outputs": false,
   "provenance": [],
   "toc_visible": true
  },
  "kernelspec": {
   "display_name": "Python 3",
   "language": "python",
   "name": "python3"
  },
  "language_info": {
   "codemirror_mode": {
    "name": "ipython",
    "version": 3
   },
   "file_extension": ".py",
   "mimetype": "text/x-python",
   "name": "python",
   "nbconvert_exporter": "python",
   "pygments_lexer": "ipython3",
   "version": "3.7.0"
  }
 },
 "nbformat": 4,
 "nbformat_minor": 0
}