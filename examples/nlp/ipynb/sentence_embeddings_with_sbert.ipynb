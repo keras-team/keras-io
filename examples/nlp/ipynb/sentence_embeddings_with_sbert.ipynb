{
 "cells": [
  {
   "cell_type": "markdown",
   "metadata": {
    "colab_type": "text"
   },
   "source": [
    "# Sentence embeddings using Siamese RoBERTa-networks\n",
    "\n",
    "**Author:** [Mohammed Abu El-Nasr](https://github.com/abuelnasr0)<br>\n",
    "**Date created:** 2023/07/14<br>\n",
    "**Last modified:** 2023/07/14<br>\n",
    "**Description:** Fine-tune a RoBERTa model to generate sentence embeddings using KerasHub."
   ]
  },
  {
   "cell_type": "markdown",
   "metadata": {
    "colab_type": "text"
   },
   "source": [
    "## Introduction\n",
    "\n",
    "BERT and RoBERTa can be used for semantic textual similarity tasks, where two sentences\n",
    "are passed to the model and the network predicts whether they are similar or not. But\n",
    "what if we have a large collection of sentences and want to find the most similar pairs\n",
    "in that collection? That will take n*(n-1)/2 inference computations, where n is the\n",
    "number of sentences in the collection. For example, if n = 10000, the required time will\n",
    "be 65 hours on a V100 GPU.\n",
    "\n",
    "A common method to overcome the time overhead issue is to pass one sentence to the model,\n",
    "then average the output of the model, or take the first token (the [CLS] token) and use\n",
    "them as a [sentence embedding](https://en.wikipedia.org/wiki/Sentence_embedding), then\n",
    "use a vector similarity measure like cosine similarity or Manhatten / Euclidean distance\n",
    "to find close sentences (semantically similar sentences). That will reduce the time to\n",
    "find the most similar pairs in a collection of 10,000 sentences from 65 hours to 5\n",
    "seconds!\n",
    "\n",
    "If we use RoBERTa directly, that will yield rather bad sentence embeddings. But if we\n",
    "fine-tune RoBERTa using a Siamese network, that will generate semantically meaningful\n",
    "sentence embeddings. This will enable RoBERTa to be used for new tasks. These tasks\n",
    "include:\n",
    "\n",
    "- Large-scale semantic similarity comparison.\n",
    "- Clustering.\n",
    "- Information retrieval via semantic search.\n",
    "\n",
    "In this example, we will show how to fine-tune a RoBERTa model using a Siamese network\n",
    "such that it will be able to produce semantically meaningful sentence embeddings and use\n",
    "them in a semantic search and clustering example.\n",
    "This method of fine-tuning was introduced in\n",
    "[Sentence-BERT](https://arxiv.org/abs/1908.10084)"
   ]
  },
  {
   "cell_type": "markdown",
   "metadata": {
    "colab_type": "text"
   },
   "source": [
    "## Setup\n",
    "\n",
    "Let's install and import the libraries we need. We'll be using the KerasHub library in\n",
    "this example.\n",
    "\n",
    "We will also enable [mixed precision](https://www.tensorflow.org/guide/mixed_precision)\n",
    "training. This will help us reduce the training time."
   ]
  },
  {
   "cell_type": "code",
   "execution_count": 0,
   "metadata": {
    "colab_type": "code"
   },
   "outputs": [],
   "source": [
    "!pip install -q --upgrade keras-hub\n",
    "!pip install -q --upgrade keras  # Upgrade to Keras 3."
   ]
  },
  {
   "cell_type": "code",
   "execution_count": 0,
   "metadata": {
    "colab_type": "code"
   },
   "outputs": [],
   "source": [
    "import os\n",
    "\n",
    "os.environ[\"KERAS_BACKEND\"] = \"tensorflow\"\n",
    "\n",
    "import keras\n",
    "import keras_hub\n",
    "import tensorflow as tf\n",
    "import tensorflow_datasets as tfds\n",
    "import sklearn.cluster as cluster\n",
    "\n",
    "keras.mixed_precision.set_global_policy(\"mixed_float16\")"
   ]
  },
  {
   "cell_type": "markdown",
   "metadata": {
    "colab_type": "text"
   },
   "source": [
    "## Fine-tune the model using siamese networks\n",
    "\n",
    "[Siamese network](https://en.wikipedia.org/wiki/Siamese_neural_network) is a neural\n",
    "network architecture that contains two or more subnetworks. The subnetworks share the\n",
    "same weights. It is used to generate feature vectors for each input and then compare them\n",
    "for similarity.\n",
    "\n",
    "For our example, the subnetwork will be a RoBERTa model that has a pooling layer on top\n",
    "of it to produce the embeddings of the input sentences. These embeddings will then be\n",
    "compared to each other to learn to produce semantically meaningful embeddings.\n",
    "\n",
    "The pooling strategies used are mean, max, and CLS pooling. Mean pooling produces the\n",
    "best results. We will use it in our examples."
   ]
  },
  {
   "cell_type": "markdown",
   "metadata": {
    "colab_type": "text"
   },
   "source": [
    "### Fine-tune using the regression objective function\n",
    "\n",
    "For building the siamese network with the regression objective function, the siamese\n",
    "network is asked to predict the cosine similarity between the embeddings of the two input\n",
    "sentences.\n",
    "\n",
    "Cosine similarity indicates the angle between the sentence embeddings. If the cosine\n",
    "similarity is high, that means there is a small angle between the embeddings; hence, they\n",
    "are semantically similar."
   ]
  },
  {
   "cell_type": "markdown",
   "metadata": {
    "colab_type": "text"
   },
   "source": [
    "#### Load the dataset\n",
    "\n",
    "We will use the STSB dataset to fine-tune the model for the regression objective. STSB\n",
    "consists of a collection of sentence pairs that are labelled in the range [0, 5]. 0\n",
    "indicates the least semantic similarity between the two sentences, and 5 indicates the\n",
    "most semantic similarity between the two sentences.\n",
    "\n",
    "The range of the cosine similarity is [-1, 1] and it's the output of the siamese network,\n",
    "but the range of the labels in the dataset is [0, 5]. We need to unify the range between\n",
    "the cosine similarity and the dataset labels, so while preparing the dataset, we will\n",
    "divide the labels by 2.5 and subtract 1."
   ]
  },
  {
   "cell_type": "code",
   "execution_count": 0,
   "metadata": {
    "colab_type": "code"
   },
   "outputs": [],
   "source": [
    "TRAIN_BATCH_SIZE = 6\n",
    "VALIDATION_BATCH_SIZE = 8\n",
    "\n",
    "TRAIN_NUM_BATCHES = 300\n",
    "VALIDATION_NUM_BATCHES = 40\n",
    "\n",
    "AUTOTUNE = tf.data.experimental.AUTOTUNE\n",
    "\n",
    "\n",
    "def change_range(x):\n",
    "    return (x / 2.5) - 1\n",
    "\n",
    "\n",
    "def prepare_dataset(dataset, num_batches, batch_size):\n",
    "    dataset = dataset.map(\n",
    "        lambda z: (\n",
    "            [z[\"sentence1\"], z[\"sentence2\"]],\n",
    "            [tf.cast(change_range(z[\"label\"]), tf.float32)],\n",
    "        ),\n",
    "        num_parallel_calls=AUTOTUNE,\n",
    "    )\n",
    "    dataset = dataset.batch(batch_size)\n",
    "    dataset = dataset.take(num_batches)\n",
    "    dataset = dataset.prefetch(AUTOTUNE)\n",
    "    return dataset\n",
    "\n",
    "\n",
    "stsb_ds = tfds.load(\n",
    "    \"glue/stsb\",\n",
    ")\n",
    "stsb_train, stsb_valid = stsb_ds[\"train\"], stsb_ds[\"validation\"]\n",
    "\n",
    "stsb_train = prepare_dataset(stsb_train, TRAIN_NUM_BATCHES, TRAIN_BATCH_SIZE)\n",
    "stsb_valid = prepare_dataset(stsb_valid, VALIDATION_NUM_BATCHES, VALIDATION_BATCH_SIZE)"
   ]
  },
  {
   "cell_type": "markdown",
   "metadata": {
    "colab_type": "text"
   },
   "source": [
    "Let's see examples from the dataset of two sentenses and their similarity."
   ]
  },
  {
   "cell_type": "code",
   "execution_count": 0,
   "metadata": {
    "colab_type": "code"
   },
   "outputs": [],
   "source": [
    "for x, y in stsb_train:\n",
    "    for i, example in enumerate(x):\n",
    "        print(f\"sentence 1 : {example[0]} \")\n",
    "        print(f\"sentence 2 : {example[1]} \")\n",
    "        print(f\"similarity : {y[i]} \\n\")\n",
    "    break"
   ]
  },
  {
   "cell_type": "markdown",
   "metadata": {
    "colab_type": "text"
   },
   "source": [
    "#### Build the encoder model.\n",
    "\n",
    "Now, we'll build the encoder model that will produce the sentence embeddings. It consists\n",
    "of:\n",
    "\n",
    "- A preprocessor layer to tokenize and generate padding masks for the sentences.\n",
    "- A backbone model that will generate the contextual representation of each token in the\n",
    "sentence.\n",
    "- A mean pooling layer to produce the embeddings. We will use `keras.layers.GlobalAveragePooling1D`\n",
    "to apply the mean pooling to the backbone outputs. We will pass the padding mask to the\n",
    "layer to exclude padded tokens from being averaged.\n",
    "- A normalization layer to normalize the embeddings as we are using the cosine similarity."
   ]
  },
  {
   "cell_type": "code",
   "execution_count": 0,
   "metadata": {
    "colab_type": "code"
   },
   "outputs": [],
   "source": [
    "preprocessor = keras_hub.models.RobertaPreprocessor.from_preset(\"roberta_base_en\")\n",
    "backbone = keras_hub.models.RobertaBackbone.from_preset(\"roberta_base_en\")\n",
    "inputs = keras.Input(shape=(1,), dtype=\"string\", name=\"sentence\")\n",
    "x = preprocessor(inputs)\n",
    "h = backbone(x)\n",
    "embedding = keras.layers.GlobalAveragePooling1D(name=\"pooling_layer\")(\n",
    "    h, x[\"padding_mask\"]\n",
    ")\n",
    "n_embedding = keras.layers.UnitNormalization(axis=1)(embedding)\n",
    "roberta_normal_encoder = keras.Model(inputs=inputs, outputs=n_embedding)\n",
    "\n",
    "roberta_normal_encoder.summary()"
   ]
  },
  {
   "cell_type": "markdown",
   "metadata": {
    "colab_type": "text"
   },
   "source": [
    "#### Build the Siamese network with the regression objective function.\n",
    "\n",
    "It's described above that the Siamese network has two or more subnetworks, and for this\n",
    "Siamese model, we need two encoders. But we don't have two encoders; we have only one\n",
    "encoder, but we will pass the two sentences through it. That way, we can have two paths\n",
    "to get the embeddings and also shared weights between the two paths.\n",
    "\n",
    "After passing the two sentences to the model and getting the normalized embeddings, we\n",
    "will multiply the two normalized embeddings to get the cosine similarity between the two\n",
    "sentences."
   ]
  },
  {
   "cell_type": "code",
   "execution_count": 0,
   "metadata": {
    "colab_type": "code"
   },
   "outputs": [],
   "source": [
    "\n",
    "class RegressionSiamese(keras.Model):\n",
    "    def __init__(self, encoder, **kwargs):\n",
    "        inputs = keras.Input(shape=(2,), dtype=\"string\", name=\"sentences\")\n",
    "        sen1, sen2 = keras.ops.split(inputs, 2, axis=1)\n",
    "        u = encoder(sen1)\n",
    "        v = encoder(sen2)\n",
    "        cosine_similarity_scores = keras.ops.matmul(u, keras.ops.transpose(v))\n",
    "\n",
    "        super().__init__(\n",
    "            inputs=inputs,\n",
    "            outputs=cosine_similarity_scores,\n",
    "            **kwargs,\n",
    "        )\n",
    "\n",
    "        self.encoder = encoder\n",
    "\n",
    "    def get_encoder(self):\n",
    "        return self.encoder\n",
    ""
   ]
  },
  {
   "cell_type": "markdown",
   "metadata": {
    "colab_type": "text"
   },
   "source": [
    "#### Fit the model\n",
    "\n",
    "Let's try this example before training and compare it to the output after training."
   ]
  },
  {
   "cell_type": "code",
   "execution_count": 0,
   "metadata": {
    "colab_type": "code"
   },
   "outputs": [],
   "source": [
    "sentences = [\n",
    "    \"Today is a very sunny day.\",\n",
    "    \"I am hungry, I will get my meal.\",\n",
    "    \"The dog is eating his food.\",\n",
    "]\n",
    "query = [\"The dog is enjoying his meal.\"]\n",
    "\n",
    "encoder = roberta_normal_encoder\n",
    "\n",
    "sentence_embeddings = encoder(tf.constant(sentences))\n",
    "query_embedding = encoder(tf.constant(query))\n",
    "\n",
    "cosine_similarity_scores = tf.matmul(query_embedding, tf.transpose(sentence_embeddings))\n",
    "for i, sim in enumerate(cosine_similarity_scores[0]):\n",
    "    print(f\"cosine similarity score between sentence {i+1} and the query = {sim} \")"
   ]
  },
  {
   "cell_type": "markdown",
   "metadata": {
    "colab_type": "text"
   },
   "source": [
    "For the training we will use `MeanSquaredError()` as loss function, and `Adam()`\n",
    "optimizer with learning rate = 2e-5."
   ]
  },
  {
   "cell_type": "code",
   "execution_count": 0,
   "metadata": {
    "colab_type": "code"
   },
   "outputs": [],
   "source": [
    "roberta_regression_siamese = RegressionSiamese(roberta_normal_encoder)\n",
    "\n",
    "roberta_regression_siamese.compile(\n",
    "    loss=keras.losses.MeanSquaredError(),\n",
    "    optimizer=keras.optimizers.Adam(2e-5),\n",
    "    jit_compile=False,\n",
    ")\n",
    "\n",
    "roberta_regression_siamese.fit(stsb_train, validation_data=stsb_valid, epochs=1)"
   ]
  },
  {
   "cell_type": "markdown",
   "metadata": {
    "colab_type": "text"
   },
   "source": [
    "Let's try the model after training, we will notice a huge difference in the output. That\n",
    "means that the model after fine-tuning is capable of producing semantically meaningful\n",
    "embeddings. where the semantically similar sentences have a small angle between them. and\n",
    "semantically dissimilar sentences have a large angle between them."
   ]
  },
  {
   "cell_type": "code",
   "execution_count": 0,
   "metadata": {
    "colab_type": "code"
   },
   "outputs": [],
   "source": [
    "sentences = [\n",
    "    \"Today is a very sunny day.\",\n",
    "    \"I am hungry, I will get my meal.\",\n",
    "    \"The dog is eating his food.\",\n",
    "]\n",
    "query = [\"The dog is enjoying his food.\"]\n",
    "\n",
    "encoder = roberta_regression_siamese.get_encoder()\n",
    "\n",
    "sentence_embeddings = encoder(tf.constant(sentences))\n",
    "query_embedding = encoder(tf.constant(query))\n",
    "\n",
    "cosine_simalarities = tf.matmul(query_embedding, tf.transpose(sentence_embeddings))\n",
    "for i, sim in enumerate(cosine_simalarities[0]):\n",
    "    print(f\"cosine similarity between sentence {i+1} and the query = {sim} \")"
   ]
  },
  {
   "cell_type": "markdown",
   "metadata": {
    "colab_type": "text"
   },
   "source": [
    "### Fine-tune Using the triplet Objective Function\n",
    "\n",
    "For the Siamese network with the triplet objective function, three sentences are passed\n",
    "to the Siamese network *anchor*, *positive*, and *negative* sentences. *anchor* and\n",
    "*positive* sentences are semantically similar, and *anchor* and *negative* sentences are\n",
    "semantically dissimilar. The objective is to minimize the distance between the *anchor*\n",
    "sentence and the *positive* sentence, and to maximize the distance between the *anchor*\n",
    "sentence and the *negative* sentence."
   ]
  },
  {
   "cell_type": "markdown",
   "metadata": {
    "colab_type": "text"
   },
   "source": [
    "#### Load the dataset\n",
    "\n",
    "We will use the Wikipedia-sections-triplets dataset for fine-tuning. This data set\n",
    "consists of sentences derived from the Wikipedia website. It has a collection of 3\n",
    "sentences *anchor*, *positive*, *negative*. *anchor* and *positive* are derived from the\n",
    "same section. *anchor* and *negative* are derived from different sections.\n",
    "\n",
    "This dataset has 1.8 million training triplets and 220,000 test triplets. In this\n",
    "example, we will only use 1200 triplets for training and 300 for testing."
   ]
  },
  {
   "cell_type": "code",
   "execution_count": 0,
   "metadata": {
    "colab_type": "code"
   },
   "outputs": [],
   "source": [
    "!wget https://sbert.net/datasets/wikipedia-sections-triplets.zip -q\n",
    "!unzip wikipedia-sections-triplets.zip  -d  wikipedia-sections-triplets"
   ]
  },
  {
   "cell_type": "code",
   "execution_count": 0,
   "metadata": {
    "colab_type": "code"
   },
   "outputs": [],
   "source": [
    "NUM_TRAIN_BATCHES = 200\n",
    "NUM_TEST_BATCHES = 75\n",
    "AUTOTUNE = tf.data.experimental.AUTOTUNE\n",
    "\n",
    "\n",
    "def prepare_wiki_data(dataset, num_batches):\n",
    "    dataset = dataset.map(\n",
    "        lambda z: ((z[\"Sentence1\"], z[\"Sentence2\"], z[\"Sentence3\"]), 0)\n",
    "    )\n",
    "    dataset = dataset.batch(6)\n",
    "    dataset = dataset.take(num_batches)\n",
    "    dataset = dataset.prefetch(AUTOTUNE)\n",
    "    return dataset\n",
    "\n",
    "\n",
    "wiki_train = tf.data.experimental.make_csv_dataset(\n",
    "    \"wikipedia-sections-triplets/train.csv\",\n",
    "    batch_size=1,\n",
    "    num_epochs=1,\n",
    ")\n",
    "wiki_test = tf.data.experimental.make_csv_dataset(\n",
    "    \"wikipedia-sections-triplets/test.csv\",\n",
    "    batch_size=1,\n",
    "    num_epochs=1,\n",
    ")\n",
    "\n",
    "wiki_train = prepare_wiki_data(wiki_train, NUM_TRAIN_BATCHES)\n",
    "wiki_test = prepare_wiki_data(wiki_test, NUM_TEST_BATCHES)"
   ]
  },
  {
   "cell_type": "markdown",
   "metadata": {
    "colab_type": "text"
   },
   "source": [
    "#### Build the encoder model\n",
    "\n",
    "For this encoder model, we will use RoBERTa with mean pooling and we will not normalize\n",
    "the output embeddings. The encoder model consists of:\n",
    "\n",
    "- A preprocessor layer to tokenize and generate padding masks for the sentences.\n",
    "- A backbone model that will generate the contextual representation of each token in the\n",
    "sentence.\n",
    "- A mean pooling layer to produce the embeddings."
   ]
  },
  {
   "cell_type": "code",
   "execution_count": 0,
   "metadata": {
    "colab_type": "code"
   },
   "outputs": [],
   "source": [
    "preprocessor = keras_hub.models.RobertaPreprocessor.from_preset(\"roberta_base_en\")\n",
    "backbone = keras_hub.models.RobertaBackbone.from_preset(\"roberta_base_en\")\n",
    "input = keras.Input(shape=(1,), dtype=\"string\", name=\"sentence\")\n",
    "\n",
    "x = preprocessor(input)\n",
    "h = backbone(x)\n",
    "embedding = keras.layers.GlobalAveragePooling1D(name=\"pooling_layer\")(\n",
    "    h, x[\"padding_mask\"]\n",
    ")\n",
    "\n",
    "roberta_encoder = keras.Model(inputs=input, outputs=embedding)\n",
    "\n",
    "\n",
    "roberta_encoder.summary()"
   ]
  },
  {
   "cell_type": "markdown",
   "metadata": {
    "colab_type": "text"
   },
   "source": [
    "#### Build the Siamese network with the triplet objective function\n",
    "\n",
    "For the Siamese network with the triplet objective function, we will build the model with\n",
    "an encoder, and we will pass the three sentences through that encoder. We will get an\n",
    "embedding for each sentence, and we will calculate the `positive_dist` and\n",
    "`negative_dist` that will be passed to the loss function described below."
   ]
  },
  {
   "cell_type": "code",
   "execution_count": 0,
   "metadata": {
    "colab_type": "code"
   },
   "outputs": [],
   "source": [
    "\n",
    "class TripletSiamese(keras.Model):\n",
    "    def __init__(self, encoder, **kwargs):\n",
    "        anchor = keras.Input(shape=(1,), dtype=\"string\")\n",
    "        positive = keras.Input(shape=(1,), dtype=\"string\")\n",
    "        negative = keras.Input(shape=(1,), dtype=\"string\")\n",
    "\n",
    "        ea = encoder(anchor)\n",
    "        ep = encoder(positive)\n",
    "        en = encoder(negative)\n",
    "\n",
    "        positive_dist = keras.ops.sum(keras.ops.square(ea - ep), axis=1)\n",
    "        negative_dist = keras.ops.sum(keras.ops.square(ea - en), axis=1)\n",
    "\n",
    "        positive_dist = keras.ops.sqrt(positive_dist)\n",
    "        negative_dist = keras.ops.sqrt(negative_dist)\n",
    "\n",
    "        output = keras.ops.stack([positive_dist, negative_dist], axis=0)\n",
    "\n",
    "        super().__init__(inputs=[anchor, positive, negative], outputs=output, **kwargs)\n",
    "\n",
    "        self.encoder = encoder\n",
    "\n",
    "    def get_encoder(self):\n",
    "        return self.encoder\n",
    ""
   ]
  },
  {
   "cell_type": "markdown",
   "metadata": {
    "colab_type": "text"
   },
   "source": [
    "We will use a custom loss function for the triplet objective. The loss function will\n",
    "receive the distance between the *anchor* and the *positive* embeddings `positive_dist`,\n",
    "and the distance between the *anchor* and the *negative* embeddings `negative_dist`,\n",
    "where they are stacked together in `y_pred`.\n",
    "\n",
    "We will use `positive_dist` and `negative_dist` to compute the loss such that\n",
    "`negative_dist` is larger than `positive_dist` at least by a specific margin.\n",
    "Mathematically, we will minimize this loss function: `max( positive_dist - negative_dist\n",
    "+ margin, 0)`.\n",
    "\n",
    "There is no `y_true` used in this loss function. Note that we set the labels in the\n",
    "dataset to zero, but they will not be used."
   ]
  },
  {
   "cell_type": "code",
   "execution_count": 0,
   "metadata": {
    "colab_type": "code"
   },
   "outputs": [],
   "source": [
    "\n",
    "class TripletLoss(keras.losses.Loss):\n",
    "    def __init__(self, margin=1, **kwargs):\n",
    "        super().__init__(**kwargs)\n",
    "        self.margin = margin\n",
    "\n",
    "    def call(self, y_true, y_pred):\n",
    "        positive_dist, negative_dist = tf.unstack(y_pred, axis=0)\n",
    "\n",
    "        losses = keras.ops.relu(positive_dist - negative_dist + self.margin)\n",
    "        return keras.ops.mean(losses, axis=0)\n",
    ""
   ]
  },
  {
   "cell_type": "markdown",
   "metadata": {
    "colab_type": "text"
   },
   "source": [
    "#### Fit the model\n",
    "\n",
    "For the training, we will use the custom `TripletLoss()` loss function, and `Adam()`\n",
    "optimizer with a learning rate = 2e-5."
   ]
  },
  {
   "cell_type": "code",
   "execution_count": 0,
   "metadata": {
    "colab_type": "code"
   },
   "outputs": [],
   "source": [
    "roberta_triplet_siamese = TripletSiamese(roberta_encoder)\n",
    "\n",
    "roberta_triplet_siamese.compile(\n",
    "    loss=TripletLoss(),\n",
    "    optimizer=keras.optimizers.Adam(2e-5),\n",
    "    jit_compile=False,\n",
    ")\n",
    "\n",
    "roberta_triplet_siamese.fit(wiki_train, validation_data=wiki_test, epochs=1)"
   ]
  },
  {
   "cell_type": "markdown",
   "metadata": {
    "colab_type": "text"
   },
   "source": [
    "Let's try this model in a clustering example. Here are 6 questions. first 3 questions\n",
    "about learning English, and the last 3 questions about working online. Let's see if the\n",
    "embeddings produced by our encoder will cluster them correctly."
   ]
  },
  {
   "cell_type": "code",
   "execution_count": 0,
   "metadata": {
    "colab_type": "code"
   },
   "outputs": [],
   "source": [
    "questions = [\n",
    "    \"What should I do to improve my English writting?\",\n",
    "    \"How to be good at speaking English?\",\n",
    "    \"How can I improve my English?\",\n",
    "    \"How to earn money online?\",\n",
    "    \"How do I earn money online?\",\n",
    "    \"How to work and earn money through internet?\",\n",
    "]\n",
    "\n",
    "encoder = roberta_triplet_siamese.get_encoder()\n",
    "embeddings = encoder(tf.constant(questions))\n",
    "kmeans = cluster.KMeans(n_clusters=2, random_state=0, n_init=\"auto\").fit(embeddings)\n",
    "\n",
    "for i, label in enumerate(kmeans.labels_):\n",
    "    print(f\"sentence ({questions[i]}) belongs to cluster {label}\")"
   ]
  }
 ],
 "metadata": {
  "accelerator": "GPU",
  "colab": {
   "collapsed_sections": [],
   "name": "sentence_embeddings_with_sbert",
   "private_outputs": false,
   "provenance": [],
   "toc_visible": true
  },
  "kernelspec": {
   "display_name": "Python 3",
   "language": "python",
   "name": "python3"
  },
  "language_info": {
   "codemirror_mode": {
    "name": "ipython",
    "version": 3
   },
   "file_extension": ".py",
   "mimetype": "text/x-python",
   "name": "python",
   "nbconvert_exporter": "python",
   "pygments_lexer": "ipython3",
   "version": "3.7.0"
  }
 },
 "nbformat": 4,
 "nbformat_minor": 0
}