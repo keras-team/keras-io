{
 "cells": [
  {
   "cell_type": "markdown",
   "metadata": {
    "colab_type": "text"
   },
   "source": [
    "# Abstractive Summarization with Hugging Face Transformers\n",
    "\n",
    "**Author:** Sreyan Ghosh<br>\n",
    "**Date created:** 2022/07/04<br>\n",
    "**Last modified:** 2022/08/28<br>\n",
    "**Description:** Training T5 using Hugging Face Transformers for Abstractive Summarization."
   ]
  },
  {
   "cell_type": "markdown",
   "metadata": {
    "colab_type": "text"
   },
   "source": [
    "## Introduction\n",
    "\n",
    "Automatic summarization is one of the central problems in\n",
    "Natural Language Processing (NLP). It poses several challenges relating to language\n",
    "understanding (e.g. identifying important content)\n",
    "and generation (e.g. aggregating and rewording the identified content into a summary).\n",
    "\n",
    "In this tutorial, we tackle the single-document summarization task\n",
    "with an abstractive modeling approach. The primary idea here is to generate a short,\n",
    "single-sentence news summary answering the question “What is the news article about?”.\n",
    "This approach to summarization is also known as *Abstractive Summarization* and has\n",
    "seen growing interest among researchers in various disciplines.\n",
    "\n",
    "Following prior work, we aim to tackle this problem using a\n",
    "sequence-to-sequence model. [Text-to-Text Transfer Transformer (`T5`)](https://arxiv.org/abs/1910.10683)\n",
    "is a [Transformer-based](https://arxiv.org/abs/1706.03762) model built on the encoder-decoder\n",
    "architecture, pretrained on a multi-task mixture of unsupervised and supervised tasks where each task\n",
    "is converted into a text-to-text format. T5 shows impressive results in a variety of sequence-to-sequence\n",
    "(sequence in this notebook refers to text) like summarization, translation, etc.\n",
    "\n",
    "In this notebook, we will fine-tune the pretrained T5 on the Abstractive Summarization\n",
    "task using Hugging Face Transformers on the `XSum` dataset loaded from Hugging Face Datasets."
   ]
  },
  {
   "cell_type": "markdown",
   "metadata": {
    "colab_type": "text"
   },
   "source": [
    "## Setup"
   ]
  },
  {
   "cell_type": "markdown",
   "metadata": {
    "colab_type": "text"
   },
   "source": [
    "### Installing the requirements"
   ]
  },
  {
   "cell_type": "code",
   "execution_count": null,
   "metadata": {},
   "outputs": [],
   "source": [
    "!pip install transformers==4.20.0\n",
    "!pip install keras_hub==0.3.0\n",
    "!pip install datasets\n",
    "!pip install huggingface-hub\n",
    "!pip install nltk\n",
    "!pip install rouge-score"
   ]
  },
  {
   "cell_type": "markdown",
   "metadata": {
    "colab_type": "text"
   },
   "source": [
    "### Importing the necessary libraries"
   ]
  },
  {
   "cell_type": "code",
   "execution_count": null,
   "metadata": {
    "colab_type": "code"
   },
   "outputs": [],
   "source": [
    "import os\n",
    "import logging\n",
    "\n",
    "import nltk\n",
    "import numpy as np\n",
    "import tensorflow as tf\n",
    "from tensorflow import keras\n",
    "\n",
    "# Only log error messages\n",
    "tf.get_logger().setLevel(logging.ERROR)\n",
    "\n",
    "os.environ[\"TOKENIZERS_PARALLELISM\"] = \"false\""
   ]
  },
  {
   "cell_type": "markdown",
   "metadata": {
    "colab_type": "text"
   },
   "source": [
    "### Define certain variables"
   ]
  },
  {
   "cell_type": "code",
   "execution_count": null,
   "metadata": {
    "colab_type": "code"
   },
   "outputs": [],
   "source": [
    "# The percentage of the dataset you want to split as train and test\n",
    "TRAIN_TEST_SPLIT = 0.1\n",
    "\n",
    "MAX_INPUT_LENGTH = 1024  # Maximum length of the input to the model\n",
    "MIN_TARGET_LENGTH = 5  # Minimum length of the output by the model\n",
    "MAX_TARGET_LENGTH = 128  # Maximum length of the output by the model\n",
    "BATCH_SIZE = 8  # Batch-size for training our model\n",
    "LEARNING_RATE = 2e-5  # Learning-rate for training our model\n",
    "MAX_EPOCHS = 1  # Maximum number of epochs we will train the model for\n",
    "\n",
    "# This notebook is built on the t5-small checkpoint from the Hugging Face Model Hub\n",
    "MODEL_CHECKPOINT = \"t5-small\""
   ]
  },
  {
   "cell_type": "markdown",
   "metadata": {
    "colab_type": "text"
   },
   "source": [
    "## Load the dataset\n",
    "\n",
    "We will now download the [Extreme Summarization (XSum)](https://arxiv.org/abs/1808.08745).\n",
    "The dataset consists of BBC articles and accompanying single sentence summaries.\n",
    "Specifically, each article is prefaced with an introductory sentence (aka summary) which is\n",
    "professionally written, typically by the author of the article. That dataset has 226,711 articles\n",
    "divided into training (90%, 204,045), validation (5%, 11,332), and test (5%, 11,334) sets.\n",
    "\n",
    "Following much of literature, we use the Recall-Oriented Understudy for Gisting Evaluation\n",
    "(ROUGE) metric to evaluate our sequence-to-sequence abstrative summarization approach.\n",
    "\n",
    "We will use the [Hugging Face Datasets](https://github.com/huggingface/datasets) library to download\n",
    "the data we need to use for training and evaluation. This can be easily done with the\n",
    "`load_dataset` function."
   ]
  },
  {
   "cell_type": "code",
   "execution_count": null,
   "metadata": {
    "colab_type": "code"
   },
   "outputs": [],
   "source": [
    "from datasets import load_dataset\n",
    "\n",
    "raw_datasets = load_dataset(\"xsum\", split=\"train\")"
   ]
  },
  {
   "cell_type": "markdown",
   "metadata": {
    "colab_type": "text"
   },
   "source": [
    "The dataset has the following fields:\n",
    "\n",
    "- **document**: the original BBC article to be summarized\n",
    "- **summary**: the single sentence summary of the BBC article\n",
    "- **id**: ID of the document-summary pair"
   ]
  },
  {
   "cell_type": "code",
   "execution_count": null,
   "metadata": {
    "colab_type": "code"
   },
   "outputs": [],
   "source": [
    "print(raw_datasets)"
   ]
  },
  {
   "cell_type": "markdown",
   "metadata": {
    "colab_type": "text"
   },
   "source": [
    "We will now see how the data looks like:"
   ]
  },
  {
   "cell_type": "code",
   "execution_count": null,
   "metadata": {
    "colab_type": "code"
   },
   "outputs": [],
   "source": [
    "print(raw_datasets[0])"
   ]
  },
  {
   "cell_type": "markdown",
   "metadata": {
    "colab_type": "text"
   },
   "source": [
    "For the sake of demonstrating the workflow, in this notebook we will only take\n",
    "small stratified balanced splits (10%) of the train as our training and test sets.\n",
    "We can easily split the dataset using the `train_test_split` method which expects\n",
    "the split size and the name of the column relative to which you want to stratify."
   ]
  },
  {
   "cell_type": "code",
   "execution_count": null,
   "metadata": {
    "colab_type": "code"
   },
   "outputs": [],
   "source": [
    "raw_datasets = raw_datasets.train_test_split(\n",
    "    train_size=TRAIN_TEST_SPLIT, test_size=TRAIN_TEST_SPLIT\n",
    ")"
   ]
  },
  {
   "cell_type": "markdown",
   "metadata": {
    "colab_type": "text"
   },
   "source": [
    "## Data Pre-processing\n",
    "\n",
    "Before we can feed those texts to our model, we need to pre-process them and get them\n",
    "ready for the task. This is done by a Hugging Face Transformers `Tokenizer` which will tokenize\n",
    "the inputs (including converting the tokens to their corresponding IDs in the pretrained\n",
    "vocabulary) and put it in a format the model expects, as well as generate the other inputs\n",
    "that model requires.\n",
    "\n",
    "The `from_pretrained()` method expects the name of a model from the Hugging Face Model Hub. This is\n",
    "exactly similar to MODEL_CHECKPOINT declared earlier and we will just pass that."
   ]
  },
  {
   "cell_type": "code",
   "execution_count": null,
   "metadata": {
    "colab_type": "code"
   },
   "outputs": [],
   "source": [
    "from transformers import AutoTokenizer\n",
    "\n",
    "tokenizer = AutoTokenizer.from_pretrained(MODEL_CHECKPOINT)"
   ]
  },
  {
   "cell_type": "markdown",
   "metadata": {
    "colab_type": "text"
   },
   "source": [
    "If you are using one of the five T5 checkpoints we have to prefix the inputs with\n",
    "\"summarize:\" (the model can also translate and it needs the prefix to know which task it\n",
    "has to perform)."
   ]
  },
  {
   "cell_type": "code",
   "execution_count": null,
   "metadata": {
    "colab_type": "code"
   },
   "outputs": [],
   "source": [
    "if MODEL_CHECKPOINT in [\"t5-small\", \"t5-base\", \"t5-large\", \"t5-3b\", \"t5-11b\"]:\n",
    "    prefix = \"summarize: \"\n",
    "else:\n",
    "    prefix = \"\""
   ]
  },
  {
   "cell_type": "markdown",
   "metadata": {
    "colab_type": "text"
   },
   "source": [
    "We will write a simple function that helps us in the pre-processing that is compatible\n",
    "with Hugging Face Datasets. To summarize, our pre-processing function should:\n",
    "\n",
    "- Tokenize the text dataset (input and targets) into it's corresponding token ids that\n",
    "will be used for embedding look-up in BERT\n",
    "- Add the prefix to the tokens\n",
    "- Create additional inputs for the model like `token_type_ids`, `attention_mask`, etc."
   ]
  },
  {
   "cell_type": "code",
   "execution_count": null,
   "metadata": {
    "colab_type": "code"
   },
   "outputs": [],
   "source": [
    "\n",
    "def preprocess_function(examples):\n",
    "    inputs = [prefix + doc for doc in examples[\"document\"]]\n",
    "    model_inputs = tokenizer(inputs, max_length=MAX_INPUT_LENGTH, truncation=True)\n",
    "\n",
    "    # Setup the tokenizer for targets\n",
    "    with tokenizer.as_target_tokenizer():\n",
    "        labels = tokenizer(\n",
    "            examples[\"summary\"], max_length=MAX_TARGET_LENGTH, truncation=True\n",
    "        )\n",
    "\n",
    "    model_inputs[\"labels\"] = labels[\"input_ids\"]\n",
    "\n",
    "    return model_inputs\n"
   ]
  },
  {
   "cell_type": "markdown",
   "metadata": {
    "colab_type": "text"
   },
   "source": [
    "To apply this function on all the pairs of sentences in our dataset, we just use the\n",
    "`map` method of our `dataset` object we created earlier. This will apply the function on\n",
    "all the elements of all the splits in `dataset`, so our training and testing\n",
    "data will be preprocessed in one single command."
   ]
  },
  {
   "cell_type": "code",
   "execution_count": null,
   "metadata": {
    "colab_type": "code"
   },
   "outputs": [],
   "source": [
    "tokenized_datasets = raw_datasets.map(preprocess_function, batched=True)"
   ]
  },
  {
   "cell_type": "markdown",
   "metadata": {
    "colab_type": "text"
   },
   "source": [
    "## Defining the model\n",
    "\n",
    "Now we can download the pretrained model and fine-tune it. Since our task is\n",
    "sequence-to-sequence (both the input and output are text sequences), we use the\n",
    "`TFAutoModelForSeq2SeqLM` class from the Hugging Face Transformers library. Like with the\n",
    "tokenizer, the `from_pretrained` method will download and cache the model for us.\n",
    "\n",
    "The `from_pretrained()` method expects the name of a model from the Hugging Face Model Hub. As\n",
    "mentioned earlier, we will use the `t5-small` model checkpoint."
   ]
  },
  {
   "cell_type": "code",
   "execution_count": null,
   "metadata": {
    "colab_type": "code"
   },
   "outputs": [],
   "source": [
    "from transformers import TFAutoModelForSeq2SeqLM, DataCollatorForSeq2Seq\n",
    "\n",
    "model = TFAutoModelForSeq2SeqLM.from_pretrained(MODEL_CHECKPOINT)"
   ]
  },
  {
   "cell_type": "markdown",
   "metadata": {
    "colab_type": "text"
   },
   "source": [
    "For training Sequence to Sequence models, we need a special kind of data collator,\n",
    "which will not only pad the inputs to the maximum length in the batch, but also the\n",
    "labels. Thus, we use the `DataCollatorForSeq2Seq` provided by the Hugging Face Transformers\n",
    "library on our dataset. The `return_tensors='tf'` ensures that we get `tf.Tensor`\n",
    "objects back."
   ]
  },
  {
   "cell_type": "code",
   "execution_count": null,
   "metadata": {
    "colab_type": "code"
   },
   "outputs": [],
   "source": [
    "from transformers import DataCollatorForSeq2Seq\n",
    "\n",
    "data_collator = DataCollatorForSeq2Seq(tokenizer, model=model, return_tensors=\"tf\")"
   ]
  },
  {
   "cell_type": "markdown",
   "metadata": {
    "colab_type": "text"
   },
   "source": [
    "Next we define our training and testing sets with which we will train our model. Again, Hugging Face\n",
    "Datasets provides us with the `to_tf_dataset` method which will help us integrate our\n",
    "dataset with the `collator` defined above. The method expects certain parameters:\n",
    "\n",
    "- **columns**: the columns which will serve as our independent variables\n",
    "- **batch_size**: our batch size for training\n",
    "- **shuffle**: whether we want to shuffle our dataset\n",
    "- **collate_fn**: our collator function\n",
    "\n",
    "Additionally, we also define a relatively smaller `generation_dataset` to calculate\n",
    "`ROUGE` scores on the fly while training."
   ]
  },
  {
   "cell_type": "code",
   "execution_count": null,
   "metadata": {
    "colab_type": "code"
   },
   "outputs": [],
   "source": [
    "train_dataset = tokenized_datasets[\"train\"].to_tf_dataset(\n",
    "    batch_size=BATCH_SIZE,\n",
    "    columns=[\"input_ids\", \"attention_mask\", \"labels\"],\n",
    "    shuffle=True,\n",
    "    collate_fn=data_collator,\n",
    ")\n",
    "test_dataset = tokenized_datasets[\"test\"].to_tf_dataset(\n",
    "    batch_size=BATCH_SIZE,\n",
    "    columns=[\"input_ids\", \"attention_mask\", \"labels\"],\n",
    "    shuffle=False,\n",
    "    collate_fn=data_collator,\n",
    ")\n",
    "generation_dataset = (\n",
    "    tokenized_datasets[\"test\"]\n",
    "    .shuffle()\n",
    "    .select(list(range(200)))\n",
    "    .to_tf_dataset(\n",
    "        batch_size=BATCH_SIZE,\n",
    "        columns=[\"input_ids\", \"attention_mask\", \"labels\"],\n",
    "        shuffle=False,\n",
    "        collate_fn=data_collator,\n",
    "    )\n",
    ")"
   ]
  },
  {
   "cell_type": "markdown",
   "metadata": {
    "colab_type": "text"
   },
   "source": [
    "## Building and Compiling the the model\n",
    "\n",
    "Now we will define our optimizer and compile the model. The loss calculation is handled\n",
    "internally and so we need not worry about that!"
   ]
  },
  {
   "cell_type": "code",
   "execution_count": null,
   "metadata": {
    "colab_type": "code"
   },
   "outputs": [],
   "source": [
    "optimizer = keras.optimizers.Adam(learning_rate=LEARNING_RATE)\n",
    "model.compile(optimizer=optimizer)"
   ]
  },
  {
   "cell_type": "markdown",
   "metadata": {
    "colab_type": "text"
   },
   "source": [
    "## Training and Evaluating the model\n",
    "\n",
    "To evaluate our model on-the-fly while training, we will define `metric_fn` which will\n",
    "calculate the `ROUGE` score between the groud-truth and predictions."
   ]
  },
  {
   "cell_type": "code",
   "execution_count": null,
   "metadata": {
    "colab_type": "code"
   },
   "outputs": [],
   "source": [
    "import keras_hub\n",
    "\n",
    "rouge_l = keras_hub.metrics.RougeL()\n",
    "\n",
    "\n",
    "def metric_fn(eval_predictions):\n",
    "    predictions, labels = eval_predictions\n",
    "    decoded_predictions = tokenizer.batch_decode(predictions, skip_special_tokens=True)\n",
    "    for label in labels:\n",
    "        label[label < 0] = tokenizer.pad_token_id  # Replace masked label tokens\n",
    "    decoded_labels = tokenizer.batch_decode(labels, skip_special_tokens=True)\n",
    "    result = rouge_l(decoded_labels, decoded_predictions)\n",
    "    # We will print only the F1 score, you can use other aggregation metrics as well\n",
    "    result = {\"RougeL\": result[\"f1_score\"]}\n",
    "\n",
    "    return result\n"
   ]
  },
  {
   "cell_type": "markdown",
   "metadata": {
    "colab_type": "text"
   },
   "source": [
    "Now we can finally start training our model!"
   ]
  },
  {
   "cell_type": "code",
   "execution_count": null,
   "metadata": {
    "colab_type": "code"
   },
   "outputs": [],
   "source": [
    "from transformers.keras_callbacks import KerasMetricCallback\n",
    "\n",
    "metric_callback = KerasMetricCallback(\n",
    "    metric_fn, eval_dataset=generation_dataset, predict_with_generate=True\n",
    ")\n",
    "\n",
    "callbacks = [metric_callback]\n",
    "\n",
    "# For now we will use our test set as our validation_data\n",
    "model.fit(\n",
    "    train_dataset, validation_data=test_dataset, epochs=MAX_EPOCHS, callbacks=callbacks\n",
    ")"
   ]
  },
  {
   "cell_type": "markdown",
   "metadata": {
    "colab_type": "text"
   },
   "source": [
    "For best results, we recommend training the model for atleast 5 epochs on the entire\n",
    "training dataset!"
   ]
  },
  {
   "cell_type": "markdown",
   "metadata": {
    "colab_type": "text"
   },
   "source": [
    "## Inference\n",
    "\n",
    "Now we will try to infer the model we trained on an arbitrary article. To do so,\n",
    "we will use the `pipeline` method from Hugging Face Transformers. Hugging Face Transformers provides\n",
    "us with a variety of pipelines to choose from. For our task, we use the `summarization`\n",
    "pipeline.\n",
    "\n",
    "The `pipeline` method takes in the trained model and tokenizer as arguments. The\n",
    "`framework=\"tf\"` argument ensures that you are passing a model that was trained with TF."
   ]
  },
  {
   "cell_type": "code",
   "execution_count": null,
   "metadata": {
    "colab_type": "code"
   },
   "outputs": [],
   "source": [
    "from transformers import pipeline\n",
    "\n",
    "summarizer = pipeline(\"summarization\", model=model, tokenizer=tokenizer, framework=\"tf\")\n",
    "\n",
    "summarizer(\n",
    "    raw_datasets[\"test\"][0][\"document\"],\n",
    "    min_length=MIN_TARGET_LENGTH,\n",
    "    max_length=MAX_TARGET_LENGTH,\n",
    ")"
   ]
  },
  {
   "cell_type": "markdown",
   "metadata": {
    "colab_type": "text"
   },
   "source": [
    "Now you can push this model to Hugging Face Model Hub and also share it with with all your friends,\n",
    "family, favorite pets: they can all load it with the identifier\n",
    "`\"your-username/the-name-you-picked\"` so for instance:\n",
    "\n",
    "```python\n",
    "model.push_to_hub(\"transformers-qa\", organization=\"keras-io\")\n",
    "tokenizer.push_to_hub(\"transformers-qa\", organization=\"keras-io\")\n",
    "```\n",
    "And after you push your model this is how you can load it in the future!\n",
    "\n",
    "```python\n",
    "from transformers import TFAutoModelForSeq2SeqLM\n",
    "\n",
    "model = TFAutoModelForSeq2SeqLM.from_pretrained(\"your-username/my-awesome-model\")\n",
    "```"
   ]
  }
 ],
 "metadata": {
  "accelerator": "GPU",
  "colab": {
   "collapsed_sections": [],
   "name": "summarization",
   "private_outputs": false,
   "provenance": [],
   "toc_visible": true
  },
  "kernelspec": {
   "display_name": "Python 3.8.8 ('Anti_ceilac-NGK1Cg-z')",
   "language": "python",
   "name": "python3"
  },
  "language_info": {
   "codemirror_mode": {
    "name": "ipython",
    "version": 3
   },
   "file_extension": ".py",
   "mimetype": "text/x-python",
   "name": "python",
   "nbconvert_exporter": "python",
   "pygments_lexer": "ipython3",
   "version": "3.8.8"
  },
  "vscode": {
   "interpreter": {
    "hash": "f0d6cd4ceb253e39b256fa9d77f54c927b7ca70e4289411a659862d2ff69b3ac"
   }
  }
 },
 "nbformat": 4,
 "nbformat_minor": 0
}
