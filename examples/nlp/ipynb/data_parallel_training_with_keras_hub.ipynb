{
 "cells": [
  {
   "cell_type": "markdown",
   "metadata": {
    "colab_type": "text"
   },
   "source": [
    "# Data Parallel Training with KerasHub and tf.distribute\n",
    "\n",
    "**Author:** Anshuman Mishra<br>\n",
    "**Date created:** 2023/07/07<br>\n",
    "**Last modified:** 2023/07/07<br>\n",
    "**Description:** Data Parallel training with KerasHub and tf.distribute."
   ]
  },
  {
   "cell_type": "markdown",
   "metadata": {
    "colab_type": "text"
   },
   "source": [
    "## Introduction\n",
    "\n",
    "Distributed training is a technique used to train deep learning models on multiple devices\n",
    "or machines simultaneously. It helps to reduce training time and allows for training larger\n",
    "models with more data. KerasHub is a library that provides tools and utilities for natural\n",
    "language processing tasks, including distributed training.\n",
    "\n",
    "In this tutorial, we will use KerasHub to train a BERT-based masked language model (MLM)\n",
    "on the wikitext-2 dataset (a 2 million word dataset of wikipedia articles). The MLM task\n",
    "involves predicting the masked words in a sentence, which helps the model learn contextual\n",
    "representations of words.\n",
    "\n",
    "This guide focuses on data parallelism, in particular synchronous data parallelism, where\n",
    "each accelerator (a GPU or TPU) holds a complete replica of the model, and sees a\n",
    "different partial batch of the input data. Partial gradients are computed on each device,\n",
    "aggregated, and used to compute a global gradient update.\n",
    "\n",
    "Specifically, this guide teaches you how to use the `tf.distribute` API to train Keras\n",
    "models on multiple GPUs, with minimal changes to your code, in the following two setups:\n",
    "\n",
    "- On multiple GPUs (typically 2 to 8) installed on a single machine (single host,\n",
    "multi-device training). This is the most common setup for researchers and small-scale\n",
    "industry workflows.\n",
    "- On a cluster of many machines, each hosting one or multiple GPUs (multi-worker\n",
    "distributed training). This is a good setup for large-scale industry workflows, e.g.\n",
    "training high-resolution text summarization models on billion word datasets on 20-100 GPUs."
   ]
  },
  {
   "cell_type": "code",
   "execution_count": null,
   "metadata": {
    "colab_type": "code"
   },
   "outputs": [],
   "source": [
    "!pip install -q --upgrade keras-hub\n",
    "!pip install -q --upgrade keras  # Upgrade to Keras 3."
   ]
  },
  {
   "cell_type": "markdown",
   "metadata": {
    "colab_type": "text"
   },
   "source": [
    "## Imports"
   ]
  },
  {
   "cell_type": "code",
   "execution_count": null,
   "metadata": {
    "colab_type": "code"
   },
   "outputs": [],
   "source": [
    "import os\n",
    "\n",
    "os.environ[\"KERAS_BACKEND\"] = \"tensorflow\"\n",
    "\n",
    "import tensorflow as tf\n",
    "import keras\n",
    "import keras_hub"
   ]
  },
  {
   "cell_type": "markdown",
   "metadata": {
    "colab_type": "text"
   },
   "source": [
    "Before we start any training, let's configure our single GPU to show up as two logical\n",
    "devices.\n",
    "\n",
    "When you are training with two or more physical GPUs, this is totally uncessary. This\n",
    "is just a trick to show real distributed training on the default colab GPU runtime,\n",
    "which has only one GPU available."
   ]
  },
  {
   "cell_type": "code",
   "execution_count": null,
   "metadata": {
    "colab_type": "code"
   },
   "outputs": [],
   "source": [
    "!nvidia-smi --query-gpu=memory.total --format=csv,noheader"
   ]
  },
  {
   "cell_type": "code",
   "execution_count": null,
   "metadata": {
    "colab_type": "code"
   },
   "outputs": [],
   "source": [
    "physical_devices = tf.config.list_physical_devices(\"GPU\")\n",
    "tf.config.set_logical_device_configuration(\n",
    "    physical_devices[0],\n",
    "    [\n",
    "        tf.config.LogicalDeviceConfiguration(memory_limit=15360 // 2),\n",
    "        tf.config.LogicalDeviceConfiguration(memory_limit=15360 // 2),\n",
    "    ],\n",
    ")\n",
    "\n",
    "logical_devices = tf.config.list_logical_devices(\"GPU\")\n",
    "logical_devices\n",
    "\n",
    "EPOCHS = 3\n"
   ]
  },
  {
   "cell_type": "markdown",
   "metadata": {
    "colab_type": "text"
   },
   "source": [
    "To do single-host, multi-device synchronous training with a Keras model, you would use\n",
    "the `tf.distribute.MirroredStrategy` API. Here's how it works:\n",
    "\n",
    "- Instantiate a `MirroredStrategy`, optionally configuring which specific devices you\n",
    "want to use (by default the strategy will use all GPUs available).\n",
    "- Use the strategy object to open a scope, and within this scope, create all the Keras\n",
    "objects you need that contain variables. Typically, that means **creating & compiling the\n",
    "model** inside the distribution scope.\n",
    "- Train the model via `fit()` as usual."
   ]
  },
  {
   "cell_type": "code",
   "execution_count": null,
   "metadata": {
    "colab_type": "code"
   },
   "outputs": [],
   "source": [
    "strategy = tf.distribute.MirroredStrategy()\n",
    "print(f\"Number of devices: {strategy.num_replicas_in_sync}\")"
   ]
  },
  {
   "cell_type": "markdown",
   "metadata": {
    "colab_type": "text"
   },
   "source": [
    "Base batch size and learning rate"
   ]
  },
  {
   "cell_type": "code",
   "execution_count": null,
   "metadata": {
    "colab_type": "code"
   },
   "outputs": [],
   "source": [
    "base_batch_size = 32\n",
    "base_learning_rate = 1e-4"
   ]
  },
  {
   "cell_type": "markdown",
   "metadata": {
    "colab_type": "text"
   },
   "source": [
    "Calculate scaled batch size and learning rate"
   ]
  },
  {
   "cell_type": "code",
   "execution_count": null,
   "metadata": {
    "colab_type": "code"
   },
   "outputs": [],
   "source": [
    "scaled_batch_size = base_batch_size * strategy.num_replicas_in_sync\n",
    "scaled_learning_rate = base_learning_rate * strategy.num_replicas_in_sync"
   ]
  },
  {
   "cell_type": "markdown",
   "metadata": {
    "colab_type": "text"
   },
   "source": [
    "Now, we need to download and preprocess the wikitext-2 dataset. This dataset will be\n",
    "used for pretraining the BERT model. We will filter out short lines to ensure that the\n",
    "data has enough context for training."
   ]
  },
  {
   "cell_type": "code",
   "execution_count": null,
   "metadata": {
    "colab_type": "code"
   },
   "outputs": [],
   "source": [
    "keras.utils.get_file(\n",
    "    origin=\"https://s3.amazonaws.com/research.metamind.io/wikitext/wikitext-2-v1.zip\",\n",
    "    extract=True,\n",
    ")\n",
    "wiki_dir = os.path.expanduser(\"~/.keras/datasets/wikitext-2/\")\n",
    "\n",
    "# Load wikitext-103 and filter out short lines.\n",
    "wiki_train_ds = (\n",
    "    tf.data.TextLineDataset(\n",
    "        wiki_dir + \"wiki.train.tokens\",\n",
    "    )\n",
    "    .filter(lambda x: tf.strings.length(x) > 100)\n",
    "    .shuffle(buffer_size=500)\n",
    "    .batch(scaled_batch_size)\n",
    "    .cache()\n",
    "    .prefetch(tf.data.AUTOTUNE)\n",
    ")\n",
    "wiki_val_ds = (\n",
    "    tf.data.TextLineDataset(wiki_dir + \"wiki.valid.tokens\")\n",
    "    .filter(lambda x: tf.strings.length(x) > 100)\n",
    "    .shuffle(buffer_size=500)\n",
    "    .batch(scaled_batch_size)\n",
    "    .cache()\n",
    "    .prefetch(tf.data.AUTOTUNE)\n",
    ")\n",
    "wiki_test_ds = (\n",
    "    tf.data.TextLineDataset(wiki_dir + \"wiki.test.tokens\")\n",
    "    .filter(lambda x: tf.strings.length(x) > 100)\n",
    "    .shuffle(buffer_size=500)\n",
    "    .batch(scaled_batch_size)\n",
    "    .cache()\n",
    "    .prefetch(tf.data.AUTOTUNE)\n",
    ")"
   ]
  },
  {
   "cell_type": "markdown",
   "metadata": {
    "colab_type": "text"
   },
   "source": [
    "In the above code, we download the wikitext-2 dataset and extract it. Then, we define\n",
    "three datasets: wiki_train_ds, wiki_val_ds, and wiki_test_ds. These datasets are\n",
    "filtered to remove short lines and are batched for efficient training."
   ]
  },
  {
   "cell_type": "markdown",
   "metadata": {
    "colab_type": "text"
   },
   "source": [
    "It's a common practice to use a decayed learning rate in NLP training/tuning. We'll\n",
    "use `PolynomialDecay` schedule here."
   ]
  },
  {
   "cell_type": "code",
   "execution_count": null,
   "metadata": {
    "colab_type": "code"
   },
   "outputs": [],
   "source": [
    "total_training_steps = sum(1 for _ in wiki_train_ds.as_numpy_iterator()) * EPOCHS\n",
    "lr_schedule = tf.keras.optimizers.schedules.PolynomialDecay(\n",
    "    initial_learning_rate=scaled_learning_rate,\n",
    "    decay_steps=total_training_steps,\n",
    "    end_learning_rate=0.0,\n",
    ")\n",
    "\n",
    "\n",
    "class PrintLR(tf.keras.callbacks.Callback):\n",
    "    def on_epoch_end(self, epoch, logs=None):\n",
    "        print(\n",
    "            f\"\\nLearning rate for epoch {epoch + 1} is {model_dist.optimizer.learning_rate.numpy()}\"\n",
    "        )\n"
   ]
  },
  {
   "cell_type": "markdown",
   "metadata": {
    "colab_type": "text"
   },
   "source": [
    "Let's also make a callback to TensorBoard, this will enable visualization of different\n",
    "metrics while we train the model in later part of this tutorial. We put all the callbacks\n",
    "together as follows:"
   ]
  },
  {
   "cell_type": "code",
   "execution_count": null,
   "metadata": {
    "colab_type": "code"
   },
   "outputs": [],
   "source": [
    "callbacks = [\n",
    "    tf.keras.callbacks.TensorBoard(log_dir=\"./logs\"),\n",
    "    PrintLR(),\n",
    "]\n",
    "\n",
    "\n",
    "print(tf.config.list_physical_devices(\"GPU\"))\n"
   ]
  },
  {
   "cell_type": "markdown",
   "metadata": {
    "colab_type": "text"
   },
   "source": [
    "With the datasets prepared, we now initialize and compile our model and optimizer within\n",
    "the `strategy.scope()`:"
   ]
  },
  {
   "cell_type": "code",
   "execution_count": null,
   "metadata": {
    "colab_type": "code"
   },
   "outputs": [],
   "source": [
    "with strategy.scope():\n",
    "    # Everything that creates variables should be under the strategy scope.\n",
    "    # In general this is only model construction & `compile()`.\n",
    "    model_dist = keras_hub.models.BertMaskedLM.from_preset(\"bert_tiny_en_uncased\")\n",
    "\n",
    "    # This line just sets pooled_dense layer as non-trainiable, we do this to avoid\n",
    "    # warnings of this layer being unused\n",
    "    model_dist.get_layer(\"bert_backbone\").get_layer(\"pooled_dense\").trainable = False\n",
    "\n",
    "    model_dist.compile(\n",
    "        loss=keras.losses.SparseCategoricalCrossentropy(from_logits=True),\n",
    "        optimizer=tf.keras.optimizers.AdamW(learning_rate=scaled_learning_rate),\n",
    "        weighted_metrics=[keras.metrics.SparseCategoricalAccuracy()],\n",
    "        jit_compile=False,\n",
    "    )\n",
    "\n",
    "    model_dist.fit(\n",
    "        wiki_train_ds, validation_data=wiki_val_ds, epochs=EPOCHS, callbacks=callbacks\n",
    "    )"
   ]
  },
  {
   "cell_type": "markdown",
   "metadata": {
    "colab_type": "text"
   },
   "source": [
    "After fitting our model under the scope, we evaluate it normally!"
   ]
  },
  {
   "cell_type": "code",
   "execution_count": null,
   "metadata": {
    "colab_type": "code"
   },
   "outputs": [],
   "source": [
    "model_dist.evaluate(wiki_test_ds)"
   ]
  },
  {
   "cell_type": "markdown",
   "metadata": {
    "colab_type": "text"
   },
   "source": [
    "For distributed training across multiple machines (as opposed to training that only leverages\n",
    "multiple devices on a single machine), there are two distribution strategies you\n",
    "could use: `MultiWorkerMirroredStrategy` and `ParameterServerStrategy`:\n",
    "\n",
    "- `tf.distribute.MultiWorkerMirroredStrategy` implements a synchronous CPU/GPU\n",
    "multi-worker solution to work with Keras-style model building and training loop,\n",
    "using synchronous reduction of gradients across the replicas.\n",
    "- `tf.distribute.experimental.ParameterServerStrategy` implements an asynchronous CPU/GPU\n",
    "multi-worker solution, where the parameters are stored on parameter servers, and\n",
    "workers update the gradients to parameter servers asynchronously.\n",
    "\n",
    "### Further reading\n",
    "\n",
    "1. [TensorFlow distributed training guide](https://www.tensorflow.org/guide/distributed_training)\n",
    "2. [Tutorial on multi-worker training with Keras](https://www.tensorflow.org/tutorials/distribute/multi_worker_with_keras)\n",
    "3. [MirroredStrategy docs](https://www.tensorflow.org/api_docs/python/tf/distribute/MirroredStrategy)\n",
    "4. [MultiWorkerMirroredStrategy docs](https://www.tensorflow.org/api_docs/python/tf/distribute/experimental/MultiWorkerMirroredStrategy)\n",
    "5. [Distributed training in tf.keras with Weights & Biases](https://towardsdatascience.com/distributed-training-in-tf-keras-with-w-b-ccf021f9322e)"
   ]
  }
 ],
 "metadata": {
  "accelerator": "GPU",
  "colab": {
   "collapsed_sections": [],
   "name": "data_parallel_training_with_keras_hub",
   "private_outputs": false,
   "provenance": [],
   "toc_visible": true
  },
  "kernelspec": {
   "display_name": "Python 3",
   "language": "python",
   "name": "python3"
  },
  "language_info": {
   "codemirror_mode": {
    "name": "ipython",
    "version": 3
   },
   "file_extension": ".py",
   "mimetype": "text/x-python",
   "name": "python",
   "nbconvert_exporter": "python",
   "pygments_lexer": "ipython3",
   "version": "3.7.0"
  }
 },
 "nbformat": 4,
 "nbformat_minor": 0
}
