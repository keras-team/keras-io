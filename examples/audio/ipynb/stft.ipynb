{
 "cells": [
  {
   "cell_type": "markdown",
   "metadata": {
    "colab_type": "text"
   },
   "source": [
    "# Audio Classification with the STFTSpectrogram layer\n",
    "\n",
    "**Author:** [Mostafa M. Amin](https://mostafa-amin.com)<br>\n",
    "**Date created:** 2024/10/04<br>\n",
    "**Last modified:** 2024/10/04<br>\n",
    "**Description:** Introducing the `STFTSpectrogram` layer to extract spectrograms for audio classification."
   ]
  },
  {
   "cell_type": "markdown",
   "metadata": {
    "colab_type": "text"
   },
   "source": [
    "## Introduction\n",
    "\n",
    "Preprocessing audio as spectrograms is an essential step in the vast majority\n",
    "of audio-based applications. Spectrograms represent the frequency content of a\n",
    "signal over time, are widely used for this purpose. In this tutorial, we'll\n",
    "demonstrate how to use the `STFTSpectrogram` layer in Keras to convert raw\n",
    "audio waveforms into spectrograms **within the model**. We'll then feed\n",
    "these spectrograms into an LSTM network followed by Dense layers to perform\n",
    "audio classification on the Speech Commands dataset.\n",
    "\n",
    "We will:\n",
    "\n",
    "- Load the ESC-10 dataset.\n",
    "- Preprocess the raw audio waveforms and generate spectrograms using\n",
    "   `STFTSpectrogram`.\n",
    "- Build two models, one using spectrograms as 1D signals and the other is using\n",
    "   as images (2D signals) with a pretrained image model.\n",
    "- Train and evaluate the models.\n",
    "\n",
    "## Setup\n",
    "\n",
    "### Importing the necessary libraries"
   ]
  },
  {
   "cell_type": "code",
   "execution_count": 0,
   "metadata": {
    "colab_type": "code"
   },
   "outputs": [],
   "source": [
    "import os\n",
    "\n",
    "os.environ[\"KERAS_BACKEND\"] = \"jax\"\n",
    "\n",
    "import keras\n",
    "import matplotlib.pyplot as plt\n",
    "import numpy as np\n",
    "import pandas as pd\n",
    "import scipy.io.wavfile\n",
    "from keras import layers\n",
    "from scipy.signal import resample\n",
    "\n",
    "keras.utils.set_random_seed(41)"
   ]
  },
  {
   "cell_type": "markdown",
   "metadata": {
    "colab_type": "text"
   },
   "source": [
    "### Define some variables"
   ]
  },
  {
   "cell_type": "code",
   "execution_count": 0,
   "metadata": {
    "colab_type": "code"
   },
   "outputs": [],
   "source": [
    "BASE_DATA_DIR = \"./datasets/esc-50_extracted/ESC-50-master/\"\n",
    "BATCH_SIZE = 16\n",
    "NUM_CLASSES = 10\n",
    "EPOCHS = 200\n",
    "SAMPLE_RATE = 16000"
   ]
  },
  {
   "cell_type": "markdown",
   "metadata": {
    "colab_type": "text"
   },
   "source": [
    "## Download and Preprocess the ESC-10 Dataset\n",
    "\n",
    "We'll use the Dataset for Environmental Sound Classification dataset (ESC-10).\n",
    "This dataset consists of five-second .wav files of environmental sounds.\n",
    "\n",
    "### Download and Extract the dataset"
   ]
  },
  {
   "cell_type": "code",
   "execution_count": 0,
   "metadata": {
    "colab_type": "code"
   },
   "outputs": [],
   "source": [
    "keras.utils.get_file(\n",
    "    \"esc-50.zip\",\n",
    "    \"https://github.com/karoldvl/ESC-50/archive/master.zip\",\n",
    "    cache_dir=\"./\",\n",
    "    cache_subdir=\"datasets\",\n",
    "    extract=True,\n",
    ")"
   ]
  },
  {
   "cell_type": "markdown",
   "metadata": {
    "colab_type": "text"
   },
   "source": [
    "### Read the CSV file"
   ]
  },
  {
   "cell_type": "code",
   "execution_count": 0,
   "metadata": {
    "colab_type": "code"
   },
   "outputs": [],
   "source": [
    "pd_data = pd.read_csv(os.path.join(BASE_DATA_DIR, \"meta\", \"esc50.csv\"))\n",
    "# filter ESC-50 to ESC-10 and reassign the targets\n",
    "pd_data = pd_data[pd_data[\"esc10\"]]\n",
    "targets = sorted(pd_data[\"target\"].unique().tolist())\n",
    "assert len(targets) == NUM_CLASSES\n",
    "old_target_to_new_target = {old: new for new, old in enumerate(targets)}\n",
    "pd_data[\"target\"] = pd_data[\"target\"].map(lambda t: old_target_to_new_target[t])\n",
    "pd_data"
   ]
  },
  {
   "cell_type": "markdown",
   "metadata": {
    "colab_type": "text"
   },
   "source": [
    "### Define functions to read and preprocess the WAV files"
   ]
  },
  {
   "cell_type": "code",
   "execution_count": 0,
   "metadata": {
    "colab_type": "code"
   },
   "outputs": [],
   "source": [
    "\n",
    "def read_wav_file(path, target_sr=SAMPLE_RATE):\n",
    "    sr, wav = scipy.io.wavfile.read(os.path.join(BASE_DATA_DIR, \"audio\", path))\n",
    "    wav = wav.astype(np.float32) / 32768.0  # normalize to [-1, 1]\n",
    "    num_samples = int(len(wav) * target_sr / sr)  # resample to 16 kHz\n",
    "    wav = resample(wav, num_samples)\n",
    "    return wav[:, None]  # Add a channel dimension (of size 1)\n",
    ""
   ]
  },
  {
   "cell_type": "markdown",
   "metadata": {
    "colab_type": "text"
   },
   "source": [
    "Create a function that uses the `STFTSpectrogram` to compute a spectrogram,\n",
    "then plots it."
   ]
  },
  {
   "cell_type": "code",
   "execution_count": 0,
   "metadata": {
    "colab_type": "code"
   },
   "outputs": [],
   "source": [
    "\n",
    "def plot_single_spectrogram(sample_wav_data):\n",
    "    spectrogram = layers.STFTSpectrogram(\n",
    "        mode=\"log\",\n",
    "        frame_length=SAMPLE_RATE * 20 // 1000,\n",
    "        frame_step=SAMPLE_RATE * 5 // 1000,\n",
    "        fft_length=1024,\n",
    "        trainable=False,\n",
    "    )(sample_wav_data[None, ...])[0, ...]\n",
    "\n",
    "    # Plot the spectrogram\n",
    "    plt.imshow(spectrogram.T, origin=\"lower\")\n",
    "    plt.title(\"Single Channel Spectrogram\")\n",
    "    plt.xlabel(\"Time\")\n",
    "    plt.ylabel(\"Frequency\")\n",
    "    plt.show()\n",
    ""
   ]
  },
  {
   "cell_type": "markdown",
   "metadata": {
    "colab_type": "text"
   },
   "source": [
    "Create a function that uses the `STFTSpectrogram` to compute three\n",
    "spectrograms with multiple bandwidths, then aligns them as an image\n",
    "with different channels, to get a multi-bandwith spectrogram,\n",
    "then plots the spectrogram."
   ]
  },
  {
   "cell_type": "code",
   "execution_count": 0,
   "metadata": {
    "colab_type": "code"
   },
   "outputs": [],
   "source": [
    "\n",
    "def plot_multi_bandwidth_spectrogram(sample_wav_data):\n",
    "    # All spectrograms must use the same `fft_length`, `frame_step`, and\n",
    "    # `padding=\"same\"` in order to produce spectrograms with identical shapes,\n",
    "    # hence aligning them together. `expand_dims` ensures that the shapes are\n",
    "    # compatible with image models.\n",
    "\n",
    "    spectrograms = np.concatenate(\n",
    "        [\n",
    "            layers.STFTSpectrogram(\n",
    "                mode=\"log\",\n",
    "                frame_length=SAMPLE_RATE * x // 1000,\n",
    "                frame_step=SAMPLE_RATE * 5 // 1000,\n",
    "                fft_length=1024,\n",
    "                padding=\"same\",\n",
    "                expand_dims=True,\n",
    "            )(sample_wav_data[None, ...])[0, ...]\n",
    "            for x in [5, 10, 20]\n",
    "        ],\n",
    "        axis=-1,\n",
    "    ).transpose([1, 0, 2])\n",
    "\n",
    "    # normalize each color channel for better viewing\n",
    "    mn = spectrograms.min(axis=(0, 1), keepdims=True)\n",
    "    mx = spectrograms.max(axis=(0, 1), keepdims=True)\n",
    "    spectrograms = (spectrograms - mn) / (mx - mn)\n",
    "\n",
    "    plt.imshow(spectrograms, origin=\"lower\")\n",
    "    plt.title(\"Multi-bandwidth Spectrogram\")\n",
    "    plt.xlabel(\"Time\")\n",
    "    plt.ylabel(\"Frequency\")\n",
    "    plt.show()\n",
    ""
   ]
  },
  {
   "cell_type": "markdown",
   "metadata": {
    "colab_type": "text"
   },
   "source": [
    "Demonstrate a sample wav file."
   ]
  },
  {
   "cell_type": "code",
   "execution_count": 0,
   "metadata": {
    "colab_type": "code"
   },
   "outputs": [],
   "source": [
    "sample_wav_data = read_wav_file(pd_data[\"filename\"].tolist()[52])\n",
    "plt.plot(sample_wav_data[:, 0])\n",
    "plt.show()"
   ]
  },
  {
   "cell_type": "markdown",
   "metadata": {
    "colab_type": "text"
   },
   "source": [
    "Plot a Spectrogram"
   ]
  },
  {
   "cell_type": "code",
   "execution_count": 0,
   "metadata": {
    "colab_type": "code"
   },
   "outputs": [],
   "source": [
    "plot_single_spectrogram(sample_wav_data)"
   ]
  },
  {
   "cell_type": "markdown",
   "metadata": {
    "colab_type": "text"
   },
   "source": [
    "Plot a multi-bandwidth spectrogram"
   ]
  },
  {
   "cell_type": "code",
   "execution_count": 0,
   "metadata": {
    "colab_type": "code"
   },
   "outputs": [],
   "source": [
    "plot_multi_bandwidth_spectrogram(sample_wav_data)"
   ]
  },
  {
   "cell_type": "markdown",
   "metadata": {
    "colab_type": "text"
   },
   "source": [
    "### Define functions to construct a TF Dataset"
   ]
  },
  {
   "cell_type": "code",
   "execution_count": 0,
   "metadata": {
    "colab_type": "code"
   },
   "outputs": [],
   "source": [
    "\n",
    "def read_dataset(df, folds):\n",
    "    msk = df[\"fold\"].isin(folds)\n",
    "    filenames = df[\"filename\"][msk]\n",
    "    targets = df[\"target\"][msk].values\n",
    "    waves = np.array([read_wav_file(fil) for fil in filenames], dtype=np.float32)\n",
    "    return waves, targets\n",
    ""
   ]
  },
  {
   "cell_type": "markdown",
   "metadata": {
    "colab_type": "text"
   },
   "source": [
    "### Create the datasets"
   ]
  },
  {
   "cell_type": "code",
   "execution_count": 0,
   "metadata": {
    "colab_type": "code"
   },
   "outputs": [],
   "source": [
    "train_x, train_y = read_dataset(pd_data, [1, 2, 3])\n",
    "valid_x, valid_y = read_dataset(pd_data, [4])\n",
    "test_x, test_y = read_dataset(pd_data, [5])"
   ]
  },
  {
   "cell_type": "markdown",
   "metadata": {
    "colab_type": "text"
   },
   "source": [
    "## Training the Models\n",
    "\n",
    "In this tutorial we demonstrate the different usecases of the `STFTSpectrogram`\n",
    "layer.\n",
    "\n",
    "The first model will use a non-trainable `STFTSpectrogram` layer, so it is\n",
    "intended purely for preprocessing. Additionally, the model will use 1D signals,\n",
    "hence it make use of Conv1D layers.\n",
    "\n",
    "The second model will use a trainable `STFTSpectrogram` layer with the\n",
    "`expand_dims` option, which expands the shapes to be compatible with image\n",
    "models.\n",
    "\n",
    "### Create the 1D model\n",
    "\n",
    "1. Create a non-trainable spectrograms, extracting a 1D time signal.\n",
    "2. Apply `Conv1D` layers with `LayerNormalization` simialar to the\n",
    "   classic VGG design.\n",
    "4. Apply global maximum pooling to have fixed set of features.\n",
    "5. Add `Dense` layers to make the final predictions based on the features."
   ]
  },
  {
   "cell_type": "code",
   "execution_count": 0,
   "metadata": {
    "colab_type": "code"
   },
   "outputs": [],
   "source": [
    "model1d = keras.Sequential(\n",
    "    [\n",
    "        layers.InputLayer((None, 1)),\n",
    "        layers.STFTSpectrogram(\n",
    "            mode=\"log\",\n",
    "            frame_length=SAMPLE_RATE * 40 // 1000,\n",
    "            frame_step=SAMPLE_RATE * 15 // 1000,\n",
    "            trainable=False,\n",
    "        ),\n",
    "        layers.Conv1D(64, 64, activation=\"relu\"),\n",
    "        layers.Conv1D(128, 16, activation=\"relu\"),\n",
    "        layers.LayerNormalization(),\n",
    "        layers.MaxPooling1D(4),\n",
    "        layers.Conv1D(128, 8, activation=\"relu\"),\n",
    "        layers.Conv1D(256, 8, activation=\"relu\"),\n",
    "        layers.Conv1D(512, 4, activation=\"relu\"),\n",
    "        layers.LayerNormalization(),\n",
    "        layers.Dropout(0.5),\n",
    "        layers.GlobalMaxPooling1D(),\n",
    "        layers.Dense(256, activation=\"relu\"),\n",
    "        layers.Dense(256, activation=\"relu\"),\n",
    "        layers.Dropout(0.5),\n",
    "        layers.Dense(NUM_CLASSES, activation=\"softmax\"),\n",
    "    ],\n",
    "    name=\"model_1d_non_trainble_stft\",\n",
    ")\n",
    "model1d.compile(\n",
    "    optimizer=keras.optimizers.Adam(1e-5),\n",
    "    loss=\"sparse_categorical_crossentropy\",\n",
    "    metrics=[\"accuracy\"],\n",
    ")\n",
    "model1d.summary()"
   ]
  },
  {
   "cell_type": "markdown",
   "metadata": {
    "colab_type": "text"
   },
   "source": [
    "Train the model and restore the best weights."
   ]
  },
  {
   "cell_type": "code",
   "execution_count": 0,
   "metadata": {
    "colab_type": "code"
   },
   "outputs": [],
   "source": [
    "history_model1d = model1d.fit(\n",
    "    train_x,\n",
    "    train_y,\n",
    "    batch_size=BATCH_SIZE,\n",
    "    validation_data=(valid_x, valid_y),\n",
    "    epochs=EPOCHS,\n",
    "    callbacks=[\n",
    "        keras.callbacks.EarlyStopping(\n",
    "            monitor=\"val_loss\",\n",
    "            patience=EPOCHS,\n",
    "            restore_best_weights=True,\n",
    "        )\n",
    "    ],\n",
    ")"
   ]
  },
  {
   "cell_type": "markdown",
   "metadata": {
    "colab_type": "text"
   },
   "source": [
    "### Create the 2D model\n",
    "\n",
    "1. Create three spectrograms with multiple band-widths from the raw input.\n",
    "2. Concatenate the three spectrograms to have three channels.\n",
    "3. Load `MobileNet` and set the weights from the weights trained on `ImageNet`.\n",
    "4. Apply global maximum pooling to have fixed set of features.\n",
    "5. Add `Dense` layers to make the final predictions based on the features."
   ]
  },
  {
   "cell_type": "code",
   "execution_count": 0,
   "metadata": {
    "colab_type": "code"
   },
   "outputs": [],
   "source": [
    "input = layers.Input((None, 1))\n",
    "spectrograms = [\n",
    "    layers.STFTSpectrogram(\n",
    "        mode=\"log\",\n",
    "        frame_length=SAMPLE_RATE * frame_size // 1000,\n",
    "        frame_step=SAMPLE_RATE * 15 // 1000,\n",
    "        fft_length=2048,\n",
    "        padding=\"same\",\n",
    "        expand_dims=True,\n",
    "        # trainable=True,  # trainable by default\n",
    "    )(input)\n",
    "    for frame_size in [30, 40, 50]  # frame size in milliseconds\n",
    "]\n",
    "\n",
    "multi_spectrograms = layers.Concatenate(axis=-1)(spectrograms)\n",
    "\n",
    "img_model = keras.applications.MobileNet(include_top=False, pooling=\"max\")\n",
    "output = img_model(multi_spectrograms)\n",
    "\n",
    "output = layers.Dropout(0.5)(output)\n",
    "output = layers.Dense(256, activation=\"relu\")(output)\n",
    "output = layers.Dense(256, activation=\"relu\")(output)\n",
    "output = layers.Dense(NUM_CLASSES, activation=\"softmax\")(output)\n",
    "model2d = keras.Model(input, output, name=\"model_2d_trainble_stft\")\n",
    "\n",
    "model2d.compile(\n",
    "    optimizer=keras.optimizers.Adam(1e-4),\n",
    "    loss=\"sparse_categorical_crossentropy\",\n",
    "    metrics=[\"accuracy\"],\n",
    ")\n",
    "model2d.summary()"
   ]
  },
  {
   "cell_type": "markdown",
   "metadata": {
    "colab_type": "text"
   },
   "source": [
    "Train the model and restore the best weights."
   ]
  },
  {
   "cell_type": "code",
   "execution_count": 0,
   "metadata": {
    "colab_type": "code"
   },
   "outputs": [],
   "source": [
    "history_model2d = model2d.fit(\n",
    "    train_x,\n",
    "    train_y,\n",
    "    batch_size=BATCH_SIZE,\n",
    "    validation_data=(valid_x, valid_y),\n",
    "    epochs=EPOCHS,\n",
    "    callbacks=[\n",
    "        keras.callbacks.EarlyStopping(\n",
    "            monitor=\"val_loss\",\n",
    "            patience=EPOCHS,\n",
    "            restore_best_weights=True,\n",
    "        )\n",
    "    ],\n",
    ")"
   ]
  },
  {
   "cell_type": "markdown",
   "metadata": {
    "colab_type": "text"
   },
   "source": [
    "### Plot Training History"
   ]
  },
  {
   "cell_type": "code",
   "execution_count": 0,
   "metadata": {
    "colab_type": "code"
   },
   "outputs": [],
   "source": [
    "epochs_range = range(EPOCHS)\n",
    "\n",
    "plt.figure(figsize=(14, 5))\n",
    "plt.subplot(1, 2, 1)\n",
    "plt.plot(\n",
    "    epochs_range,\n",
    "    history_model1d.history[\"accuracy\"],\n",
    "    label=\"Training Accuracy,1D model with non-trainable STFT\",\n",
    ")\n",
    "plt.plot(\n",
    "    epochs_range,\n",
    "    history_model1d.history[\"val_accuracy\"],\n",
    "    label=\"Validation Accuracy, 1D model with non-trainable STFT\",\n",
    ")\n",
    "plt.plot(\n",
    "    epochs_range,\n",
    "    history_model2d.history[\"accuracy\"],\n",
    "    label=\"Training Accuracy, 2D model with trainable STFT\",\n",
    ")\n",
    "plt.plot(\n",
    "    epochs_range,\n",
    "    history_model2d.history[\"val_accuracy\"],\n",
    "    label=\"Validation Accuracy, 2D model with trainable STFT\",\n",
    ")\n",
    "plt.legend(loc=\"lower right\")\n",
    "plt.title(\"Training and Validation Accuracy\")\n",
    "\n",
    "plt.subplot(1, 2, 2)\n",
    "plt.plot(\n",
    "    epochs_range,\n",
    "    history_model1d.history[\"loss\"],\n",
    "    label=\"Training Loss,1D model with non-trainable STFT\",\n",
    ")\n",
    "plt.plot(\n",
    "    epochs_range,\n",
    "    history_model1d.history[\"val_loss\"],\n",
    "    label=\"Validation Loss, 1D model with non-trainable STFT\",\n",
    ")\n",
    "plt.plot(\n",
    "    epochs_range,\n",
    "    history_model2d.history[\"loss\"],\n",
    "    label=\"Training Loss, 2D model with trainable STFT\",\n",
    ")\n",
    "plt.plot(\n",
    "    epochs_range,\n",
    "    history_model2d.history[\"val_loss\"],\n",
    "    label=\"Validation Loss, 2D model with trainable STFT\",\n",
    ")\n",
    "plt.legend(loc=\"upper right\")\n",
    "plt.title(\"Training and Validation Loss\")\n",
    "plt.show()"
   ]
  },
  {
   "cell_type": "markdown",
   "metadata": {
    "colab_type": "text"
   },
   "source": [
    "### Evaluate on Test Data\n",
    "\n",
    "Running the models on the test set."
   ]
  },
  {
   "cell_type": "code",
   "execution_count": 0,
   "metadata": {
    "colab_type": "code"
   },
   "outputs": [],
   "source": [
    "_, test_acc = model1d.evaluate(test_x, test_y)\n",
    "print(f\"1D model wit non-trainable STFT -> Test Accuracy: {test_acc * 100:.2f}%\")\n",
    "\n",
    "_, test_acc = model2d.evaluate(test_x, test_y)\n",
    "print(f\"2D model with trainable STFT -> Test Accuracy: {test_acc * 100:.2f}%\")"
   ]
  }
 ],
 "metadata": {
  "accelerator": "GPU",
  "colab": {
   "collapsed_sections": [],
   "name": "stft",
   "private_outputs": false,
   "provenance": [],
   "toc_visible": true
  },
  "kernelspec": {
   "display_name": "Python 3",
   "language": "python",
   "name": "python3"
  },
  "language_info": {
   "codemirror_mode": {
    "name": "ipython",
    "version": 3
   },
   "file_extension": ".py",
   "mimetype": "text/x-python",
   "name": "python",
   "nbconvert_exporter": "python",
   "pygments_lexer": "ipython3",
   "version": "3.7.0"
  }
 },
 "nbformat": 4,
 "nbformat_minor": 0
}